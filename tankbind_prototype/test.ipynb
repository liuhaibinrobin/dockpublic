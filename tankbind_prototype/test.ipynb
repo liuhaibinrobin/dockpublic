{
 "cells": [
  {
   "cell_type": "code",
   "execution_count": 33,
   "metadata": {},
   "outputs": [],
   "source": [
    "# training script for new model\n",
    "# prototype 2022-12-27\n",
    "\n",
    "\n",
    "# Imports\n",
    "\n",
    "import pandas as pd\n",
    "import numpy as np\n",
    "import matplotlib.pyplot as plt\n",
    "import os\n",
    "import hashlib\n",
    "\n",
    "from tqdm import tqdm\n",
    "import rdkit.Chem as Chem\n",
    "from rdkit.Chem import Draw\n",
    "from rdkit.Chem import AllChem\n",
    "import glob\n",
    "import torch\n",
    "from torch_geometric.loader import DataLoader\n",
    "from metrics import *\n",
    "from utils import *\n",
    "from datetime import datetime\n",
    "import logging\n",
    "import sys\n",
    "import argparse\n",
    "from torch.utils.data import RandomSampler\n",
    "from torch.utils.data import WeightedRandomSampler\n",
    "import random\n",
    "import math\n",
    "from torch.utils.tensorboard import SummaryWriter\n",
    "from data_prototype import get_data_prototype\n",
    "from sampler_prototype import SessionBatchSampler\n",
    "from model import *\n",
    "\n",
    "\n",
    "class PairwiseLoss(nn.Module):\n",
    "    def __init__(self, keep_rate=1., sigmoid_lambda=0.3,\n",
    "                 ingrp_thr=0.3, outgrp_thr=9999, eval=False):\n",
    "        super(PairwiseLoss, self).__init__()\n",
    "        self.eval = eval\n",
    "        self.register_buffer('keep_rate', torch.tensor(keep_rate, dtype=torch.float64))\n",
    "        self.register_buffer('sigmoid_lambda', torch.tensor(sigmoid_lambda, dtype=torch.float64))\n",
    "        self.register_buffer('ingrp_thr', torch.tensor(ingrp_thr, dtype=torch.float64))\n",
    "        self.register_buffer('outgrp_thr', torch.tensor(outgrp_thr, dtype=torch.float64))\n",
    "\n",
    "    def forward(self, pred, true,): # groupid):\n",
    "\n",
    "        \"\"\"\n",
    "        Customized pairwise ranking loss.\n",
    "\n",
    "        \"\"\"\n",
    "        if len(pred.shape) == 1:\n",
    "            pred = pred.unsqueeze(1)\n",
    "        if len(true.shape) == 1:\n",
    "            true = true.unsqueeze(1)\n",
    "        drop_rate = 1 - self.keep_rate\n",
    "        true_tile_row = true.repeat((1, true.shape[0]))\n",
    "        true_tile_col = torch.t(true_tile_row)\n",
    "        assert (true_tile_row.shape == true_tile_col.shape)\n",
    "\n",
    "        pred_tile_row = pred.repeat((1, pred.shape[0]))\n",
    "        pred_tile_col = torch.t(pred_tile_row)\n",
    "    \n",
    "        diff = (true_tile_row - true_tile_col) / (torch.abs(true_tile_col) + 1e-4)\n",
    "\n",
    "        pred_pair = torch.stack([pred_tile_row, pred_tile_col], dim=0)\n",
    "        valid_ind = torch.logical_or(diff > self.ingrp_thr,\n",
    "                                     diff > self.outgrp_thr)\n",
    "        \n",
    "        # print(\"len(valid_ind)\",len(valid_ind))\n",
    "        \n",
    "        pred_pair_valid = pred_pair.masked_select(valid_ind).reshape(2, -1)\n",
    "        pred_pair_diff = pred_pair_valid[0] - pred_pair_valid[1]\n",
    "        reverse = torch.sum(pred_pair_diff > 0)\n",
    "        ntotal = pred_pair_valid.shape[1] + 1e-8\n",
    "        #print(\"Total valid pairs: {:.3f}, reversed: {:.3f}, reverse ratio: {:.3f}\".format(ntotal, reverse, reverse/ntotal))\n",
    "        if drop_rate > 1e-4:\n",
    "            pred_pair_valid_dropout = torch.nn.functional.dropout(pred_pair_valid[0], drop_rate) * self.keep_rate\n",
    "            pred_pair_valid_ind = torch.logical_or(pred_pair_valid_dropout == pred_pair_valid[0],\n",
    "                                                   pred_pair_valid_dropout != 0.0)\n",
    "\n",
    "            pred_pair_valid = pred_pair_valid.masked_select(pred_pair_valid_ind).reshape(2, -1)\n",
    "        print(pred_pair_valid[1] - pred_pair_valid[0])\n",
    "        c = pred_pair_valid[1] - pred_pair_valid[0]\n",
    "        loss = torch.sum(torch.log(1. + torch.exp(self.sigmoid_lambda * (pred_pair_valid[1] - pred_pair_valid[0]))))\n",
    "        num = pred_pair_valid.shape[1] + 1e-8\n",
    "        loss = torch.div(loss, num)\n",
    "        return loss, (reverse/ntotal), c\n"
   ]
  },
  {
   "cell_type": "code",
   "execution_count": 34,
   "metadata": {},
   "outputs": [],
   "source": [
    "loss = PairwiseLoss()"
   ]
  },
  {
   "cell_type": "code",
   "execution_count": 35,
   "metadata": {},
   "outputs": [],
   "source": [
    "affinity_pred = torch.tensor([106.9631, 106.5550, 154.6032,  55.8685,  51.7456,  91.5580,  66.9029, 96.7818])\n",
    "affinity_true = torch.tensor([10000.,  2000.,    50.,  5000., 10000., 10000.,  2500., 10000.])"
   ]
  },
  {
   "cell_type": "code",
   "execution_count": null,
   "metadata": {},
   "outputs": [],
   "source": []
  },
  {
   "cell_type": "code",
   "execution_count": 36,
   "metadata": {},
   "outputs": [
    {
     "name": "stdout",
     "output_type": "stream",
     "text": [
      "tensor([ -0.4081,  47.6401, -51.0946, -40.0602,  48.0482,  50.6865,  98.7347,\n",
      "         11.0344,  54.8094, 102.8576,   4.1229,  15.1573,  14.9970,  63.0452,\n",
      "        -35.6895, -24.6551,  87.7003,   9.7732,  57.8214, -40.9133, -29.8789])\n"
     ]
    },
    {
     "data": {
      "text/plain": [
       "(tensor(9.5680),\n",
       " tensor(0.3333),\n",
       " tensor([ -0.4081,  47.6401, -51.0946, -40.0602,  48.0482,  50.6865,  98.7347,\n",
       "          11.0344,  54.8094, 102.8576,   4.1229,  15.1573,  14.9970,  63.0452,\n",
       "         -35.6895, -24.6551,  87.7003,   9.7732,  57.8214, -40.9133, -29.8789]))"
      ]
     },
     "execution_count": 36,
     "metadata": {},
     "output_type": "execute_result"
    }
   ],
   "source": [
    "a1, a2, a3 = loss(affinity_pred, affinity_true)\n",
    "a1, a2, a3"
   ]
  },
  {
   "cell_type": "code",
   "execution_count": 22,
   "metadata": {},
   "outputs": [
    {
     "data": {
      "text/plain": [
       "tensor([ -0.4081,  47.6401, -51.0946, -40.0602,  48.0482,  50.6865,  98.7347,\n",
       "         11.0344,  54.8094, 102.8576,   4.1229,  15.1573,  14.9970,  63.0452,\n",
       "        -35.6895, -24.6551,  87.7003,   9.7732,  57.8214, -40.9133, -29.8789])"
      ]
     },
     "execution_count": 22,
     "metadata": {},
     "output_type": "execute_result"
    }
   ],
   "source": [
    "a3"
   ]
  },
  {
   "cell_type": "code",
   "execution_count": 23,
   "metadata": {},
   "outputs": [
    {
     "data": {
      "text/plain": [
       "tensor([6.6491e-01, 4.8959e+20, 6.4550e-23, 4.0002e-18, 7.3632e+20, 1.0301e+22,\n",
       "               inf, 6.1970e+04, 6.3594e+23,        inf, 6.1738e+01, 3.8259e+06,\n",
       "        3.2592e+06, 2.3998e+27, 3.1641e-16, 1.9608e-11, 1.2239e+38, 1.7557e+04,\n",
       "        1.2927e+25, 1.7044e-18, 1.0562e-13])"
      ]
     },
     "execution_count": 23,
     "metadata": {},
     "output_type": "execute_result"
    }
   ],
   "source": [
    "torch.exp(a3)"
   ]
  },
  {
   "cell_type": "code",
   "execution_count": 15,
   "metadata": {},
   "outputs": [
    {
     "data": {
      "text/plain": [
       "tensor(inf)"
      ]
     },
     "execution_count": 15,
     "metadata": {},
     "output_type": "execute_result"
    }
   ],
   "source": [
    "b = torch.exp(a[0])\n",
    "b"
   ]
  },
  {
   "cell_type": "code",
   "execution_count": null,
   "metadata": {},
   "outputs": [],
   "source": []
  }
 ],
 "metadata": {
  "kernelspec": {
   "display_name": "betabind_py38",
   "language": "python",
   "name": "python3"
  },
  "language_info": {
   "codemirror_mode": {
    "name": "ipython",
    "version": 3
   },
   "file_extension": ".py",
   "mimetype": "text/x-python",
   "name": "python",
   "nbconvert_exporter": "python",
   "pygments_lexer": "ipython3",
   "version": "3.8.13"
  },
  "orig_nbformat": 4,
  "vscode": {
   "interpreter": {
    "hash": "4cdc0ee80d7648aad0ad3f887bd8d80fecc6c84f6e00bb50108c159517dcbac2"
   }
  }
 },
 "nbformat": 4,
 "nbformat_minor": 2
}
