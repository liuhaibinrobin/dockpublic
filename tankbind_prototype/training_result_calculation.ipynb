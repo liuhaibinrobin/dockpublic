{
 "cells": [
  {
   "cell_type": "code",
   "execution_count": 3,
   "metadata": {},
   "outputs": [],
   "source": [
    "import torch\n",
    "from torch import nn\n",
    "import numpy as np"
   ]
  },
  {
   "cell_type": "code",
   "execution_count": 4,
   "metadata": {},
   "outputs": [],
   "source": [
    "class PairwiseLoss(nn.Module):\n",
    "    def __init__(self, keep_rate=1., sigmoid_lambda=0.5,\n",
    "                 ingrp_thr=2, outgrp_thr=9999, eval=False):\n",
    "        super(PairwiseLoss, self).__init__()\n",
    "        self.eval = eval\n",
    "        self.register_buffer('keep_rate', torch.tensor(keep_rate, dtype=torch.float64))\n",
    "        self.register_buffer('sigmoid_lambda', torch.tensor(sigmoid_lambda, dtype=torch.float64))\n",
    "        self.register_buffer('ingrp_thr', torch.tensor(ingrp_thr, dtype=torch.float64))\n",
    "        self.register_buffer('outgrp_thr', torch.tensor(outgrp_thr, dtype=torch.float64))\n",
    "\n",
    "    def forward(self, pred, true):\n",
    "        if len(pred.shape) == 1:\n",
    "            pred = pred.unsqueeze(1)\n",
    "        if len(true.shape) == 1:\n",
    "            true = true.unsqueeze(1)\n",
    "        drop_rate = 1 - self.keep_rate\n",
    "        true_tile_row = true.repeat((1, true.shape[0]))\n",
    "        true_tile_col = torch.t(true_tile_row)\n",
    "        assert (true_tile_row.shape == true_tile_col.shape)\n",
    "\n",
    "        pred_tile_row = pred.repeat((1, pred.shape[0]))\n",
    "        pred_tile_col = torch.t(pred_tile_row)\n",
    "    \n",
    "        diff = (true_tile_row - true_tile_col) / (torch.abs(true_tile_col) + 1e-4)\n",
    "\n",
    "        pred_pair = torch.stack([pred_tile_row, pred_tile_col], dim=0)\n",
    "        valid_ind = torch.logical_or(diff > self.ingrp_thr,\n",
    "                                     diff > self.outgrp_thr)\n",
    "        \n",
    "        # print(\"len(valid_ind)\",len(valid_ind))\n",
    "        \n",
    "        pred_pair_valid = pred_pair.masked_select(valid_ind).reshape(2, -1)\n",
    "        pred_pair_diff = pred_pair_valid[0] - pred_pair_valid[1]\n",
    "        reverse = torch.sum(pred_pair_diff > 0)\n",
    "        ntotal = pred_pair_valid.shape[1] + 1e-8\n",
    "        #print(\"Total valid pairs: {:.3f}, reversed: {:.3f}, reverse ratio: {:.3f}\".format(ntotal, reverse, reverse/ntotal))\n",
    "        if drop_rate > 1e-4:\n",
    "            pred_pair_valid_dropout = torch.nn.functional.dropout(pred_pair_valid[0], drop_rate) * self.keep_rate\n",
    "            pred_pair_valid_ind = torch.logical_or(pred_pair_valid_dropout == pred_pair_valid[0],\n",
    "                                                   pred_pair_valid_dropout != 0.0)\n",
    "\n",
    "            pred_pair_valid = pred_pair_valid.masked_select(pred_pair_valid_ind).reshape(2, -1)\n",
    "        # print(pred_pair_valid[1] - pred_pair_valid[0])\n",
    "        loss = torch.sum(torch.log(1. + torch.exp(self.sigmoid_lambda * (pred_pair_valid[1] - pred_pair_valid[0] + 1))))\n",
    "        num = pred_pair_valid.shape[1] + 1e-8\n",
    "        loss = torch.div(loss, num)\n",
    "        return loss, (reverse/ntotal), ntotal"
   ]
  },
  {
   "cell_type": "code",
   "execution_count": null,
   "metadata": {},
   "outputs": [],
   "source": []
  },
  {
   "cell_type": "code",
   "execution_count": 8,
   "metadata": {},
   "outputs": [],
   "source": [
    "train_result_list = [\"/home/jovyan/main_tankbind/tankbind_prototype/result/2023_01_12_11_14_37/train/epoch_result/epoch_12.pt\"]\n",
    "train_split_list = [\"/home/jovyan/main_tankbind/tankbind_prototype/result/2023_01_12_11_14_37/train/batch_split_info/batch_in_epoch_12_with_seed_12.pt\"]"
   ]
  },
  {
   "cell_type": "code",
   "execution_count": 9,
   "metadata": {},
   "outputs": [],
   "source": [
    "for train_split, train_result in zip(train_split_list, train_result_list):\n",
    "    split = torch.load(train_split)\n",
    "    result = torch.load(train_result)"
   ]
  },
  {
   "cell_type": "code",
   "execution_count": null,
   "metadata": {},
   "outputs": [],
   "source": []
  }
 ],
 "metadata": {
  "kernelspec": {
   "display_name": "Python 3 (ipykernel)",
   "language": "python",
   "name": "python3"
  },
  "language_info": {
   "codemirror_mode": {
    "name": "ipython",
    "version": 3
   },
   "file_extension": ".py",
   "mimetype": "text/x-python",
   "name": "python",
   "nbconvert_exporter": "python",
   "pygments_lexer": "ipython3",
   "version": "3.7.12"
  },
  "vscode": {
   "interpreter": {
    "hash": "4cdc0ee80d7648aad0ad3f887bd8d80fecc6c84f6e00bb50108c159517dcbac2"
   }
  }
 },
 "nbformat": 4,
 "nbformat_minor": 4
}
