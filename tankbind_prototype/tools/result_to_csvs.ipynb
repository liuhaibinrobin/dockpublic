{
 "cells": [
  {
   "cell_type": "code",
   "execution_count": 1,
   "metadata": {},
   "outputs": [],
   "source": [
    "import pandas as pd"
   ]
  },
  {
   "cell_type": "code",
   "execution_count": 2,
   "metadata": {},
   "outputs": [],
   "source": [
    "r = pd.read_csv(\"/home/jovyan/main_tankbind/tankbind_prototype/result/2023_02_09_08_36_06/results/internal_info_0.csv\", index_col=0)"
   ]
  },
  {
   "cell_type": "code",
   "execution_count": 4,
   "metadata": {},
   "outputs": [
    {
     "data": {
      "text/plain": [
       "array(['KRAS-G12D', 'MAT2A', 'PDL1', 'PRMT5', 'HPK1_3', 'HPK1_4', 'SOS1'],\n",
       "      dtype=object)"
      ]
     },
     "execution_count": 4,
     "metadata": {},
     "output_type": "execute_result"
    }
   ],
   "source": [
    "r.session_au.unique()"
   ]
  },
  {
   "cell_type": "code",
   "execution_count": 5,
   "metadata": {},
   "outputs": [
    {
     "data": {
      "text/html": [
       "<div>\n",
       "<style scoped>\n",
       "    .dataframe tbody tr th:only-of-type {\n",
       "        vertical-align: middle;\n",
       "    }\n",
       "\n",
       "    .dataframe tbody tr th {\n",
       "        vertical-align: top;\n",
       "    }\n",
       "\n",
       "    .dataframe thead th {\n",
       "        text-align: right;\n",
       "    }\n",
       "</style>\n",
       "<table border=\"1\" class=\"dataframe\">\n",
       "  <thead>\n",
       "    <tr style=\"text-align: right;\">\n",
       "      <th></th>\n",
       "      <th>sample_id</th>\n",
       "      <th>pdb_id</th>\n",
       "      <th>smiles_name</th>\n",
       "      <th>kekule_smiles</th>\n",
       "      <th>session_au</th>\n",
       "      <th>pocket_com</th>\n",
       "      <th>pocket_name</th>\n",
       "      <th>value</th>\n",
       "      <th>split_tag</th>\n",
       "      <th>p_length</th>\n",
       "      <th>c_length</th>\n",
       "      <th>y_length</th>\n",
       "      <th>dataset_sample_id</th>\n",
       "      <th>affinity_pred</th>\n",
       "    </tr>\n",
       "  </thead>\n",
       "  <tbody>\n",
       "    <tr>\n",
       "      <th>0</th>\n",
       "      <td>ID_internal_KRAS-G12D_0</td>\n",
       "      <td>7t47</td>\n",
       "      <td>ID_internal_KRAS-G12D_0</td>\n",
       "      <td>Oc1cc(-c2ncc3c(NC4CNC4)nc(OCC45CCCN4CCC5)nc3c2...</td>\n",
       "      <td>KRAS-G12D</td>\n",
       "      <td>[[-26.3188 -11.827   17.87  ]]</td>\n",
       "      <td>7t47_2</td>\n",
       "      <td>46.5</td>\n",
       "      <td>test</td>\n",
       "      <td>83</td>\n",
       "      <td>37</td>\n",
       "      <td>3071</td>\n",
       "      <td>ID_internal_KRAS-G12D_0</td>\n",
       "      <td>48.576424</td>\n",
       "    </tr>\n",
       "  </tbody>\n",
       "</table>\n",
       "</div>"
      ],
      "text/plain": [
       "                 sample_id pdb_id              smiles_name  \\\n",
       "0  ID_internal_KRAS-G12D_0   7t47  ID_internal_KRAS-G12D_0   \n",
       "\n",
       "                                       kekule_smiles session_au  \\\n",
       "0  Oc1cc(-c2ncc3c(NC4CNC4)nc(OCC45CCCN4CCC5)nc3c2...  KRAS-G12D   \n",
       "\n",
       "                       pocket_com pocket_name  value split_tag  p_length  \\\n",
       "0  [[-26.3188 -11.827   17.87  ]]      7t47_2   46.5      test        83   \n",
       "\n",
       "   c_length  y_length        dataset_sample_id  affinity_pred  \n",
       "0        37      3071  ID_internal_KRAS-G12D_0      48.576424  "
      ]
     },
     "execution_count": 5,
     "metadata": {},
     "output_type": "execute_result"
    }
   ],
   "source": [
    "r.head(1)"
   ]
  },
  {
   "cell_type": "code",
   "execution_count": 7,
   "metadata": {},
   "outputs": [],
   "source": [
    "for pdb in r.session_au.unique():\n",
    "    \n",
    "    table = r[r.session_au==pdb][['kekule_smiles', 'affinity_pred']]\n",
    "    table.columns=['smiles', 'score']\n",
    "    table.to_csv(f\"result_{pdb}.csv\")"
   ]
  },
  {
   "cell_type": "code",
   "execution_count": 8,
   "metadata": {},
   "outputs": [
    {
     "data": {
      "text/html": [
       "<div>\n",
       "<style scoped>\n",
       "    .dataframe tbody tr th:only-of-type {\n",
       "        vertical-align: middle;\n",
       "    }\n",
       "\n",
       "    .dataframe tbody tr th {\n",
       "        vertical-align: top;\n",
       "    }\n",
       "\n",
       "    .dataframe thead th {\n",
       "        text-align: right;\n",
       "    }\n",
       "</style>\n",
       "<table border=\"1\" class=\"dataframe\">\n",
       "  <thead>\n",
       "    <tr style=\"text-align: right;\">\n",
       "      <th></th>\n",
       "      <th>smiles</th>\n",
       "      <th>score</th>\n",
       "    </tr>\n",
       "  </thead>\n",
       "  <tbody>\n",
       "    <tr>\n",
       "      <th>938</th>\n",
       "      <td>C[C@@H](NC(=O)c1cc(N2CCN(C(=O)C3CC3)CC2)nc2cc[...</td>\n",
       "      <td>51.257874</td>\n",
       "    </tr>\n",
       "    <tr>\n",
       "      <th>939</th>\n",
       "      <td>C[C@@H](NC(=O)c1cc(N2CCN(C)CC2)nc2cn[nH]c12)c1...</td>\n",
       "      <td>50.608154</td>\n",
       "    </tr>\n",
       "    <tr>\n",
       "      <th>940</th>\n",
       "      <td>CC(=O)N1C2CCC1CN(c1cc(C(=O)N[C@H](C)c3cccc(C(F...</td>\n",
       "      <td>49.247318</td>\n",
       "    </tr>\n",
       "    <tr>\n",
       "      <th>941</th>\n",
       "      <td>CC(NC(=O)c1cc(N2CCN(C(=O)C3COC3)CC2)nc2cc[nH]c...</td>\n",
       "      <td>51.318443</td>\n",
       "    </tr>\n",
       "    <tr>\n",
       "      <th>942</th>\n",
       "      <td>C[C@@H](NC(=O)c1cc(N2CCN(C)CC2)nc2cn[nH]c12)c1...</td>\n",
       "      <td>51.468346</td>\n",
       "    </tr>\n",
       "    <tr>\n",
       "      <th>...</th>\n",
       "      <td>...</td>\n",
       "      <td>...</td>\n",
       "    </tr>\n",
       "    <tr>\n",
       "      <th>1052</th>\n",
       "      <td>C[C@@H](NC(=O)c1cc(N2CCn3nccc3C2)nc2cc[nH]c12)...</td>\n",
       "      <td>51.096321</td>\n",
       "    </tr>\n",
       "    <tr>\n",
       "      <th>1053</th>\n",
       "      <td>C[C@@H](NC(=O)c1cc(N2CCc3c(cnn3C)C2)nc2cc[nH]c...</td>\n",
       "      <td>49.908470</td>\n",
       "    </tr>\n",
       "    <tr>\n",
       "      <th>1054</th>\n",
       "      <td>C[C@H](NC(=O)c1cc(N2CCC(O)C2)nc2cc[nH]c12)c1cc...</td>\n",
       "      <td>51.168678</td>\n",
       "    </tr>\n",
       "    <tr>\n",
       "      <th>1055</th>\n",
       "      <td>COC1CCN(c2cc(C(=O)N[C@H](C)c3cccc(C(F)F)c3F)c3...</td>\n",
       "      <td>51.299400</td>\n",
       "    </tr>\n",
       "    <tr>\n",
       "      <th>1056</th>\n",
       "      <td>C[C@@H](NC(=O)c1cc(N2CCC(C)(O)C2)nc2cc[nH]c12)...</td>\n",
       "      <td>50.776989</td>\n",
       "    </tr>\n",
       "  </tbody>\n",
       "</table>\n",
       "<p>119 rows × 2 columns</p>\n",
       "</div>"
      ],
      "text/plain": [
       "                                                 smiles      score\n",
       "938   C[C@@H](NC(=O)c1cc(N2CCN(C(=O)C3CC3)CC2)nc2cc[...  51.257874\n",
       "939   C[C@@H](NC(=O)c1cc(N2CCN(C)CC2)nc2cn[nH]c12)c1...  50.608154\n",
       "940   CC(=O)N1C2CCC1CN(c1cc(C(=O)N[C@H](C)c3cccc(C(F...  49.247318\n",
       "941   CC(NC(=O)c1cc(N2CCN(C(=O)C3COC3)CC2)nc2cc[nH]c...  51.318443\n",
       "942   C[C@@H](NC(=O)c1cc(N2CCN(C)CC2)nc2cn[nH]c12)c1...  51.468346\n",
       "...                                                 ...        ...\n",
       "1052  C[C@@H](NC(=O)c1cc(N2CCn3nccc3C2)nc2cc[nH]c12)...  51.096321\n",
       "1053  C[C@@H](NC(=O)c1cc(N2CCc3c(cnn3C)C2)nc2cc[nH]c...  49.908470\n",
       "1054  C[C@H](NC(=O)c1cc(N2CCC(O)C2)nc2cc[nH]c12)c1cc...  51.168678\n",
       "1055  COC1CCN(c2cc(C(=O)N[C@H](C)c3cccc(C(F)F)c3F)c3...  51.299400\n",
       "1056  C[C@@H](NC(=O)c1cc(N2CCC(C)(O)C2)nc2cc[nH]c12)...  50.776989\n",
       "\n",
       "[119 rows x 2 columns]"
      ]
     },
     "execution_count": 8,
     "metadata": {},
     "output_type": "execute_result"
    }
   ],
   "source": []
  },
  {
   "cell_type": "code",
   "execution_count": null,
   "metadata": {},
   "outputs": [],
   "source": []
  }
 ],
 "metadata": {
  "kernelspec": {
   "display_name": "tankbind_py38",
   "language": "python",
   "name": "python3"
  },
  "language_info": {
   "codemirror_mode": {
    "name": "ipython",
    "version": 3
   },
   "file_extension": ".py",
   "mimetype": "text/x-python",
   "name": "python",
   "nbconvert_exporter": "python",
   "pygments_lexer": "ipython3",
   "version": "3.8.13"
  },
  "orig_nbformat": 4,
  "vscode": {
   "interpreter": {
    "hash": "3642610297c2db0c2e515b5d6934e6fa60bcae4d2e973dd2c51cba19538092f6"
   }
  }
 },
 "nbformat": 4,
 "nbformat_minor": 2
}
