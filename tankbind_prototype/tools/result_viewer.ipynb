{
 "cells": [
  {
   "cell_type": "code",
   "execution_count": 1,
   "metadata": {},
   "outputs": [],
   "source": [
    "import pandas as pd"
   ]
  },
  {
   "cell_type": "code",
   "execution_count": 2,
   "metadata": {},
   "outputs": [],
   "source": [
    "path = \"/home/jovyan/main_tankbind/tankbind_prototype/result/2023_01_17_07_51_00/results/iid_val_info_0.csv\""
   ]
  },
  {
   "cell_type": "code",
   "execution_count": 4,
   "metadata": {},
   "outputs": [],
   "source": [
    "csv = pd.read_csv(path, index_col=0)"
   ]
  },
  {
   "cell_type": "code",
   "execution_count": 13,
   "metadata": {},
   "outputs": [
    {
     "data": {
      "text/html": [
       "<div>\n",
       "<style scoped>\n",
       "    .dataframe tbody tr th:only-of-type {\n",
       "        vertical-align: middle;\n",
       "    }\n",
       "\n",
       "    .dataframe tbody tr th {\n",
       "        vertical-align: top;\n",
       "    }\n",
       "\n",
       "    .dataframe thead th {\n",
       "        text-align: right;\n",
       "    }\n",
       "</style>\n",
       "<table border=\"1\" class=\"dataframe\">\n",
       "  <thead>\n",
       "    <tr style=\"text-align: right;\">\n",
       "      <th></th>\n",
       "      <th>sample_id</th>\n",
       "      <th>pdb_id</th>\n",
       "      <th>uniprot_id</th>\n",
       "      <th>assay_id</th>\n",
       "      <th>smiles_name</th>\n",
       "      <th>kekule_smiles</th>\n",
       "      <th>session_au</th>\n",
       "      <th>session_aus</th>\n",
       "      <th>pocket_com</th>\n",
       "      <th>pocket_name</th>\n",
       "      <th>...</th>\n",
       "      <th>docking_score</th>\n",
       "      <th>mmgbsa_binding_energy</th>\n",
       "      <th>qed</th>\n",
       "      <th>split_tag</th>\n",
       "      <th>p2rank_core_pocket</th>\n",
       "      <th>session_au_usability</th>\n",
       "      <th>p_length</th>\n",
       "      <th>c_length</th>\n",
       "      <th>y_length</th>\n",
       "      <th>dataset_sample_id</th>\n",
       "    </tr>\n",
       "  </thead>\n",
       "  <tbody>\n",
       "    <tr>\n",
       "      <th>0</th>\n",
       "      <td>ID_13</td>\n",
       "      <td>1W6J</td>\n",
       "      <td>P48449</td>\n",
       "      <td>80</td>\n",
       "      <td>smiles_8</td>\n",
       "      <td>C=CCN(C)CCCCCCOC1=CC=C(C(=O)C2=CC=C(Br)C=C2)C(...</td>\n",
       "      <td>80_P48449</td>\n",
       "      <td>80_P48449_C=CCN(C)CCCCCCOC1=CC=C(C(=O)C2=CC=C(...</td>\n",
       "      <td>[29.8353 70.7209  9.1415]</td>\n",
       "      <td>1w6j_0</td>\n",
       "      <td>...</td>\n",
       "      <td>-11.481615</td>\n",
       "      <td>-56.174419</td>\n",
       "      <td>0.110555</td>\n",
       "      <td>iid_val</td>\n",
       "      <td>True</td>\n",
       "      <td>multiton</td>\n",
       "      <td>7</td>\n",
       "      <td>37</td>\n",
       "      <td>259</td>\n",
       "      <td>ID_13</td>\n",
       "    </tr>\n",
       "    <tr>\n",
       "      <th>1</th>\n",
       "      <td>ID_25</td>\n",
       "      <td>1W6J</td>\n",
       "      <td>P48449</td>\n",
       "      <td>80</td>\n",
       "      <td>smiles_20</td>\n",
       "      <td>C=CCN(C)CCCCCCOC1=CC=C2C(C3=CC=C(Br)C=C3)=NN(C...</td>\n",
       "      <td>80_P48449</td>\n",
       "      <td>80_P48449_C=CCN(C)CCCCCCOC1=CC=C2C(C3=CC=C(Br)...</td>\n",
       "      <td>[29.8353 70.7209  9.1415]</td>\n",
       "      <td>1w6j_0</td>\n",
       "      <td>...</td>\n",
       "      <td>-10.985242</td>\n",
       "      <td>-79.854774</td>\n",
       "      <td>0.152228</td>\n",
       "      <td>iid_val</td>\n",
       "      <td>True</td>\n",
       "      <td>multiton</td>\n",
       "      <td>7</td>\n",
       "      <td>37</td>\n",
       "      <td>259</td>\n",
       "      <td>ID_25</td>\n",
       "    </tr>\n",
       "    <tr>\n",
       "      <th>2</th>\n",
       "      <td>ID_34</td>\n",
       "      <td>3RDE</td>\n",
       "      <td>P16469</td>\n",
       "      <td>208</td>\n",
       "      <td>smiles_29</td>\n",
       "      <td>CCCCCCC#CCOCC1=CC=CC(CCC(=O)O)=C1</td>\n",
       "      <td>208_P16469</td>\n",
       "      <td>208_P16469_CCCCCCC#CCOCC1=CC=CC(CCC(=O)O)=C1</td>\n",
       "      <td>[-11.3368 -41.5066 -45.8404]</td>\n",
       "      <td>3rde_0</td>\n",
       "      <td>...</td>\n",
       "      <td>-6.388772</td>\n",
       "      <td>-14.304598</td>\n",
       "      <td>0.520398</td>\n",
       "      <td>iid_val</td>\n",
       "      <td>True</td>\n",
       "      <td>multiton</td>\n",
       "      <td>37</td>\n",
       "      <td>22</td>\n",
       "      <td>814</td>\n",
       "      <td>ID_34</td>\n",
       "    </tr>\n",
       "    <tr>\n",
       "      <th>3</th>\n",
       "      <td>ID_35</td>\n",
       "      <td>3RDE</td>\n",
       "      <td>P16469</td>\n",
       "      <td>208</td>\n",
       "      <td>smiles_30</td>\n",
       "      <td>CCCCCCCC#CCOCC1=CC=C(C(=O)O)C=C1</td>\n",
       "      <td>208_P16469</td>\n",
       "      <td>208_P16469_CCCCCCCC#CCOCC1=CC=C(C(=O)O)C=C1</td>\n",
       "      <td>[-11.3368 -41.5066 -45.8404]</td>\n",
       "      <td>3rde_0</td>\n",
       "      <td>...</td>\n",
       "      <td>-4.033252</td>\n",
       "      <td>-4.456525</td>\n",
       "      <td>0.545128</td>\n",
       "      <td>iid_val</td>\n",
       "      <td>True</td>\n",
       "      <td>multiton</td>\n",
       "      <td>37</td>\n",
       "      <td>21</td>\n",
       "      <td>777</td>\n",
       "      <td>ID_35</td>\n",
       "    </tr>\n",
       "    <tr>\n",
       "      <th>4</th>\n",
       "      <td>ID_73</td>\n",
       "      <td>1K27</td>\n",
       "      <td>Q13126</td>\n",
       "      <td>236</td>\n",
       "      <td>smiles_55</td>\n",
       "      <td>Cl.NC1=C2N=CC(C3NC(CSC4=CC=CC=C4)C(O)C3O)=C2N=CN1</td>\n",
       "      <td>236_Q13126</td>\n",
       "      <td>236_Q13126_Cl.NC1=C2N=CC(C3NC(CSC4=CC=CC=C4)C(...</td>\n",
       "      <td>[61.0333 16.3354 29.8662]</td>\n",
       "      <td>1k27_1</td>\n",
       "      <td>...</td>\n",
       "      <td>-9.534183</td>\n",
       "      <td>-71.882935</td>\n",
       "      <td>0.425190</td>\n",
       "      <td>iid_val</td>\n",
       "      <td>True</td>\n",
       "      <td>multiton</td>\n",
       "      <td>176</td>\n",
       "      <td>26</td>\n",
       "      <td>4576</td>\n",
       "      <td>ID_73</td>\n",
       "    </tr>\n",
       "    <tr>\n",
       "      <th>...</th>\n",
       "      <td>...</td>\n",
       "      <td>...</td>\n",
       "      <td>...</td>\n",
       "      <td>...</td>\n",
       "      <td>...</td>\n",
       "      <td>...</td>\n",
       "      <td>...</td>\n",
       "      <td>...</td>\n",
       "      <td>...</td>\n",
       "      <td>...</td>\n",
       "      <td>...</td>\n",
       "      <td>...</td>\n",
       "      <td>...</td>\n",
       "      <td>...</td>\n",
       "      <td>...</td>\n",
       "      <td>...</td>\n",
       "      <td>...</td>\n",
       "      <td>...</td>\n",
       "      <td>...</td>\n",
       "      <td>...</td>\n",
       "      <td>...</td>\n",
       "    </tr>\n",
       "    <tr>\n",
       "      <th>57549</th>\n",
       "      <td>ID_742530</td>\n",
       "      <td>5USY</td>\n",
       "      <td>O60674</td>\n",
       "      <td>2116717</td>\n",
       "      <td>smiles_114518</td>\n",
       "      <td>N#CCCN1C=C(C2=NC(NC3=CC=C4C(=C3)CCN4C(=O)C3=CC...</td>\n",
       "      <td>2116717_O60674</td>\n",
       "      <td>2116717_O60674_N#CCCN1C=C(C2=NC(NC3=CC=C4C(=C3...</td>\n",
       "      <td>[-19.9705  20.451   92.0305]</td>\n",
       "      <td>5usy_0</td>\n",
       "      <td>...</td>\n",
       "      <td>-8.378531</td>\n",
       "      <td>-62.698017</td>\n",
       "      <td>0.343231</td>\n",
       "      <td>iid_val</td>\n",
       "      <td>True</td>\n",
       "      <td>multiton</td>\n",
       "      <td>100</td>\n",
       "      <td>38</td>\n",
       "      <td>3800</td>\n",
       "      <td>ID_742530</td>\n",
       "    </tr>\n",
       "    <tr>\n",
       "      <th>57550</th>\n",
       "      <td>ID_742531</td>\n",
       "      <td>5WIN</td>\n",
       "      <td>O60674</td>\n",
       "      <td>2116717</td>\n",
       "      <td>smiles_114518</td>\n",
       "      <td>N#CCCN1C=C(C2=NC(NC3=CC=C4C(=C3)CCN4C(=O)C3=CC...</td>\n",
       "      <td>2116717_O60674</td>\n",
       "      <td>2116717_O60674_N#CCCN1C=C(C2=NC(NC3=CC=C4C(=C3...</td>\n",
       "      <td>[-5.7311 -6.1679 -4.6027]</td>\n",
       "      <td>5win_0</td>\n",
       "      <td>...</td>\n",
       "      <td>-6.946551</td>\n",
       "      <td>-61.267624</td>\n",
       "      <td>0.343231</td>\n",
       "      <td>iid_val</td>\n",
       "      <td>True</td>\n",
       "      <td>multiton</td>\n",
       "      <td>162</td>\n",
       "      <td>38</td>\n",
       "      <td>6156</td>\n",
       "      <td>ID_742531</td>\n",
       "    </tr>\n",
       "    <tr>\n",
       "      <th>57551</th>\n",
       "      <td>ID_744085</td>\n",
       "      <td>6HU1</td>\n",
       "      <td>A5H660</td>\n",
       "      <td>2134343</td>\n",
       "      <td>smiles_114528</td>\n",
       "      <td>CC1=CC=C(C(=O)NO)C=C1C(=O)NC1=CC=C(Cl)C=C1</td>\n",
       "      <td>2134343_A5H660</td>\n",
       "      <td>2134343_A5H660_CC1=CC=C(C(=O)NO)C=C1C(=O)NC1=C...</td>\n",
       "      <td>[45.5138 34.1346 85.9685]</td>\n",
       "      <td>6hu1_0</td>\n",
       "      <td>...</td>\n",
       "      <td>-8.428662</td>\n",
       "      <td>-34.362286</td>\n",
       "      <td>0.602243</td>\n",
       "      <td>iid_val</td>\n",
       "      <td>True</td>\n",
       "      <td>multiton</td>\n",
       "      <td>5</td>\n",
       "      <td>21</td>\n",
       "      <td>105</td>\n",
       "      <td>ID_744085</td>\n",
       "    </tr>\n",
       "    <tr>\n",
       "      <th>57552</th>\n",
       "      <td>ID_744086</td>\n",
       "      <td>6HU0</td>\n",
       "      <td>A5H660</td>\n",
       "      <td>2134343</td>\n",
       "      <td>smiles_114528</td>\n",
       "      <td>CC1=CC=C(C(=O)NO)C=C1C(=O)NC1=CC=C(Cl)C=C1</td>\n",
       "      <td>2134343_A5H660</td>\n",
       "      <td>2134343_A5H660_CC1=CC=C(C(=O)NO)C=C1C(=O)NC1=C...</td>\n",
       "      <td>[45.5997 34.4676 85.7234]</td>\n",
       "      <td>6hu0_0</td>\n",
       "      <td>...</td>\n",
       "      <td>-8.992629</td>\n",
       "      <td>-47.054588</td>\n",
       "      <td>0.602243</td>\n",
       "      <td>iid_val</td>\n",
       "      <td>True</td>\n",
       "      <td>multiton</td>\n",
       "      <td>6</td>\n",
       "      <td>21</td>\n",
       "      <td>126</td>\n",
       "      <td>ID_744086</td>\n",
       "    </tr>\n",
       "    <tr>\n",
       "      <th>57553</th>\n",
       "      <td>ID_744087</td>\n",
       "      <td>6HTI</td>\n",
       "      <td>A5H660</td>\n",
       "      <td>2134343</td>\n",
       "      <td>smiles_114528</td>\n",
       "      <td>CC1=CC=C(C(=O)NO)C=C1C(=O)NC1=CC=C(Cl)C=C1</td>\n",
       "      <td>2134343_A5H660</td>\n",
       "      <td>2134343_A5H660_CC1=CC=C(C(=O)NO)C=C1C(=O)NC1=C...</td>\n",
       "      <td>[45.5026 34.152  85.663 ]</td>\n",
       "      <td>6hti_0</td>\n",
       "      <td>...</td>\n",
       "      <td>-7.186738</td>\n",
       "      <td>-33.707081</td>\n",
       "      <td>0.602243</td>\n",
       "      <td>iid_val</td>\n",
       "      <td>True</td>\n",
       "      <td>multiton</td>\n",
       "      <td>6</td>\n",
       "      <td>21</td>\n",
       "      <td>126</td>\n",
       "      <td>ID_744087</td>\n",
       "    </tr>\n",
       "  </tbody>\n",
       "</table>\n",
       "<p>57554 rows × 21 columns</p>\n",
       "</div>"
      ],
      "text/plain": [
       "       sample_id pdb_id uniprot_id  assay_id    smiles_name  \\\n",
       "0          ID_13   1W6J     P48449        80       smiles_8   \n",
       "1          ID_25   1W6J     P48449        80      smiles_20   \n",
       "2          ID_34   3RDE     P16469       208      smiles_29   \n",
       "3          ID_35   3RDE     P16469       208      smiles_30   \n",
       "4          ID_73   1K27     Q13126       236      smiles_55   \n",
       "...          ...    ...        ...       ...            ...   \n",
       "57549  ID_742530   5USY     O60674   2116717  smiles_114518   \n",
       "57550  ID_742531   5WIN     O60674   2116717  smiles_114518   \n",
       "57551  ID_744085   6HU1     A5H660   2134343  smiles_114528   \n",
       "57552  ID_744086   6HU0     A5H660   2134343  smiles_114528   \n",
       "57553  ID_744087   6HTI     A5H660   2134343  smiles_114528   \n",
       "\n",
       "                                           kekule_smiles      session_au  \\\n",
       "0      C=CCN(C)CCCCCCOC1=CC=C(C(=O)C2=CC=C(Br)C=C2)C(...       80_P48449   \n",
       "1      C=CCN(C)CCCCCCOC1=CC=C2C(C3=CC=C(Br)C=C3)=NN(C...       80_P48449   \n",
       "2                      CCCCCCC#CCOCC1=CC=CC(CCC(=O)O)=C1      208_P16469   \n",
       "3                       CCCCCCCC#CCOCC1=CC=C(C(=O)O)C=C1      208_P16469   \n",
       "4      Cl.NC1=C2N=CC(C3NC(CSC4=CC=CC=C4)C(O)C3O)=C2N=CN1      236_Q13126   \n",
       "...                                                  ...             ...   \n",
       "57549  N#CCCN1C=C(C2=NC(NC3=CC=C4C(=C3)CCN4C(=O)C3=CC...  2116717_O60674   \n",
       "57550  N#CCCN1C=C(C2=NC(NC3=CC=C4C(=C3)CCN4C(=O)C3=CC...  2116717_O60674   \n",
       "57551         CC1=CC=C(C(=O)NO)C=C1C(=O)NC1=CC=C(Cl)C=C1  2134343_A5H660   \n",
       "57552         CC1=CC=C(C(=O)NO)C=C1C(=O)NC1=CC=C(Cl)C=C1  2134343_A5H660   \n",
       "57553         CC1=CC=C(C(=O)NO)C=C1C(=O)NC1=CC=C(Cl)C=C1  2134343_A5H660   \n",
       "\n",
       "                                             session_aus  \\\n",
       "0      80_P48449_C=CCN(C)CCCCCCOC1=CC=C(C(=O)C2=CC=C(...   \n",
       "1      80_P48449_C=CCN(C)CCCCCCOC1=CC=C2C(C3=CC=C(Br)...   \n",
       "2           208_P16469_CCCCCCC#CCOCC1=CC=CC(CCC(=O)O)=C1   \n",
       "3            208_P16469_CCCCCCCC#CCOCC1=CC=C(C(=O)O)C=C1   \n",
       "4      236_Q13126_Cl.NC1=C2N=CC(C3NC(CSC4=CC=CC=C4)C(...   \n",
       "...                                                  ...   \n",
       "57549  2116717_O60674_N#CCCN1C=C(C2=NC(NC3=CC=C4C(=C3...   \n",
       "57550  2116717_O60674_N#CCCN1C=C(C2=NC(NC3=CC=C4C(=C3...   \n",
       "57551  2134343_A5H660_CC1=CC=C(C(=O)NO)C=C1C(=O)NC1=C...   \n",
       "57552  2134343_A5H660_CC1=CC=C(C(=O)NO)C=C1C(=O)NC1=C...   \n",
       "57553  2134343_A5H660_CC1=CC=C(C(=O)NO)C=C1C(=O)NC1=C...   \n",
       "\n",
       "                         pocket_com pocket_name  ...  docking_score  \\\n",
       "0         [29.8353 70.7209  9.1415]      1w6j_0  ...     -11.481615   \n",
       "1         [29.8353 70.7209  9.1415]      1w6j_0  ...     -10.985242   \n",
       "2      [-11.3368 -41.5066 -45.8404]      3rde_0  ...      -6.388772   \n",
       "3      [-11.3368 -41.5066 -45.8404]      3rde_0  ...      -4.033252   \n",
       "4         [61.0333 16.3354 29.8662]      1k27_1  ...      -9.534183   \n",
       "...                             ...         ...  ...            ...   \n",
       "57549  [-19.9705  20.451   92.0305]      5usy_0  ...      -8.378531   \n",
       "57550     [-5.7311 -6.1679 -4.6027]      5win_0  ...      -6.946551   \n",
       "57551     [45.5138 34.1346 85.9685]      6hu1_0  ...      -8.428662   \n",
       "57552     [45.5997 34.4676 85.7234]      6hu0_0  ...      -8.992629   \n",
       "57553     [45.5026 34.152  85.663 ]      6hti_0  ...      -7.186738   \n",
       "\n",
       "       mmgbsa_binding_energy       qed  split_tag p2rank_core_pocket  \\\n",
       "0                 -56.174419  0.110555    iid_val               True   \n",
       "1                 -79.854774  0.152228    iid_val               True   \n",
       "2                 -14.304598  0.520398    iid_val               True   \n",
       "3                  -4.456525  0.545128    iid_val               True   \n",
       "4                 -71.882935  0.425190    iid_val               True   \n",
       "...                      ...       ...        ...                ...   \n",
       "57549             -62.698017  0.343231    iid_val               True   \n",
       "57550             -61.267624  0.343231    iid_val               True   \n",
       "57551             -34.362286  0.602243    iid_val               True   \n",
       "57552             -47.054588  0.602243    iid_val               True   \n",
       "57553             -33.707081  0.602243    iid_val               True   \n",
       "\n",
       "       session_au_usability p_length  c_length  y_length  dataset_sample_id  \n",
       "0                  multiton        7        37       259              ID_13  \n",
       "1                  multiton        7        37       259              ID_25  \n",
       "2                  multiton       37        22       814              ID_34  \n",
       "3                  multiton       37        21       777              ID_35  \n",
       "4                  multiton      176        26      4576              ID_73  \n",
       "...                     ...      ...       ...       ...                ...  \n",
       "57549              multiton      100        38      3800          ID_742530  \n",
       "57550              multiton      162        38      6156          ID_742531  \n",
       "57551              multiton        5        21       105          ID_744085  \n",
       "57552              multiton        6        21       126          ID_744086  \n",
       "57553              multiton        6        21       126          ID_744087  \n",
       "\n",
       "[57554 rows x 21 columns]"
      ]
     },
     "execution_count": 13,
     "metadata": {},
     "output_type": "execute_result"
    }
   ],
   "source": [
    "csv"
   ]
  },
  {
   "cell_type": "code",
   "execution_count": null,
   "metadata": {},
   "outputs": [],
   "source": []
  },
  {
   "cell_type": "code",
   "execution_count": 1,
   "metadata": {},
   "outputs": [],
   "source": [
    "old = \"/home/jovyan/main_tankbind/tankbind_prototype/result/2023_01_12_11_14_37/results/test_info_49.csv\""
   ]
  },
  {
   "cell_type": "code",
   "execution_count": 2,
   "metadata": {},
   "outputs": [],
   "source": [
    "new = \"/home/jovyan/main_tankbind/tankbind_prototype/result/2023_02_06_06_51_57/results/test_info_0.csv\""
   ]
  },
  {
   "cell_type": "code",
   "execution_count": 3,
   "metadata": {},
   "outputs": [],
   "source": [
    "import pandas as pd\n",
    "old = pd.read_csv(old, index_col=0)\n",
    "\n",
    "new = pd.read_csv(new, index_col=0)"
   ]
  },
  {
   "cell_type": "code",
   "execution_count": 6,
   "metadata": {},
   "outputs": [],
   "source": [
    "old['all'] = old['sample_id'] +\" | \"+ old['pdb_id'] +\" | \"+ old['smiles_name'] +\" | \"+ old['assay_id'].astype(str) +\" | \"+ old[\"value\"].astype(str) + \" | \" + old[\"affinity_pred\"].astype(str)"
   ]
  },
  {
   "cell_type": "code",
   "execution_count": 8,
   "metadata": {},
   "outputs": [],
   "source": [
    "old_list = list(set(old['all'].unique().tolist()))"
   ]
  },
  {
   "cell_type": "code",
   "execution_count": 9,
   "metadata": {},
   "outputs": [],
   "source": [
    "new['all'] = new['sample_id'] +\" | \"+ new['pdb_id'] +\" | \"+ new['smiles_name'] +\" | \"+ new['assay_id'].astype(str) +\" | \"+ new[\"value\"].astype(str)+ \" | \" + new[\"affinity_pred\"].astype(str)"
   ]
  },
  {
   "cell_type": "code",
   "execution_count": 24,
   "metadata": {},
   "outputs": [
    {
     "name": "stdout",
     "output_type": "stream",
     "text": [
      "215 | 55.11165618896485 55.11164474487305\n"
     ]
    }
   ],
   "source": [
    "for i, line in new.iterrows():\n",
    "    if (line['affinity_pred'] - old[old.sample_id==line['sample_id']]['affinity_pred'].item()) > 0.00001:\n",
    "        print(i, \"|\", line['affinity_pred'], old[old.sample_id==line['sample_id']]['affinity_pred'].item())"
   ]
  },
  {
   "cell_type": "code",
   "execution_count": 10,
   "metadata": {},
   "outputs": [],
   "source": [
    "new_list = list(set(new['all'].unique().tolist()))"
   ]
  },
  {
   "cell_type": "code",
   "execution_count": 12,
   "metadata": {},
   "outputs": [
    {
     "name": "stdout",
     "output_type": "stream",
     "text": [
      "__ OK __ OK OK OK OK OK __ __ OK __ OK OK OK OK __ OK OK OK __ OK OK OK OK OK __ OK OK __ OK __ OK __ OK OK __ OK __ __ OK OK OK OK OK OK __ OK OK OK OK __ OK OK __ __ OK __ OK OK OK OK __ __ __ OK __ __ __ __ OK __ __ OK OK OK OK OK OK OK OK OK OK OK __ OK OK OK OK OK OK __ __ __ OK __ OK __ __ OK __ OK OK __ OK OK __ __ __ OK __ __ __ __ OK __ OK OK OK OK __ OK __ __ __ OK OK OK __ OK OK OK OK OK __ OK __ OK OK __ __ __ __ OK __ OK __ OK OK OK __ OK __ OK __ OK __ OK __ __ __ OK OK OK __ OK OK __ __ OK OK OK OK __ __ OK OK OK OK __ __ OK OK OK OK __ __ __ __ __ OK OK OK OK OK OK __ __ OK OK OK OK OK OK OK OK OK __ OK OK __ OK OK OK OK OK OK OK __ OK OK OK OK OK OK __ OK __ __ __ __ OK __ __ OK OK OK OK __ __ __ __ OK OK OK OK __ __ OK OK OK OK __ OK OK OK __ OK OK __ OK OK OK OK OK OK __ __ OK OK __ OK __ OK __ OK OK OK OK __ OK OK OK OK __ OK __ OK OK OK OK __ OK __ OK OK OK OK OK OK __ OK OK OK OK __ OK OK __ OK OK OK OK OK OK OK OK OK __ OK __ __ __ __ __ OK __ OK OK OK OK __ __ OK OK OK __ OK OK OK OK __ __ OK __ __ __ __ __ OK OK __ OK __ OK OK __ OK OK OK OK __ OK __ __ __ OK __ __ __ OK OK __ OK OK OK OK OK OK __ __ OK __ __ OK OK OK __ OK OK __ OK OK OK __ OK __ __ OK OK OK OK OK OK __ OK __ OK OK OK __ OK __ OK OK __ __ OK __ OK __ OK OK OK OK OK __ OK OK __ OK OK OK __ OK __ __ OK OK OK __ __ __ __ OK __ OK __ OK OK __ OK OK __ __ OK __ OK OK OK __ OK OK OK __ __ __ OK __ __ __ OK OK OK __ OK OK OK __ __ __ __ OK __ __ OK OK OK OK OK OK __ OK __ OK OK OK __ OK __ __ OK OK OK OK OK OK OK OK __ OK OK __ OK OK __ OK __ OK __ OK __ OK __ OK OK OK OK OK __ OK OK OK __ OK OK __ __ OK __ OK OK OK OK __ OK OK OK OK __ OK __ OK __ OK __ __ OK OK __ __ OK __ OK OK __ OK __ __ __ __ OK OK __ OK OK OK __ OK "
     ]
    }
   ],
   "source": [
    "for i in new_list:\n",
    "    if i in old_list:\n",
    "        print(\"OK\", end=\" \")\n",
    "    else:\n",
    "        print(\"__\", end=\" \")"
   ]
  },
  {
   "cell_type": "code",
   "execution_count": 20,
   "metadata": {},
   "outputs": [],
   "source": [
    "from torch import nn"
   ]
  },
  {
   "cell_type": "code",
   "execution_count": 21,
   "metadata": {},
   "outputs": [],
   "source": [
    "class PairwiseLoss(nn.Module):\n",
    "    def __init__(self, keep_rate=1., sigmoid_lambda=0.5,\n",
    "                 ingrp_thr=2, outgrp_thr=9999, eval=False):\n",
    "        super(PairwiseLoss, self).__init__()\n",
    "        self.eval = eval\n",
    "        self.register_buffer('keep_rate', torch.tensor(keep_rate, dtype=torch.float64))\n",
    "        self.register_buffer('sigmoid_lambda', torch.tensor(sigmoid_lambda, dtype=torch.float64))\n",
    "        self.register_buffer('ingrp_thr', torch.tensor(ingrp_thr, dtype=torch.float64))\n",
    "        self.register_buffer('outgrp_thr', torch.tensor(outgrp_thr, dtype=torch.float64))\n",
    "\n",
    "    def forward(self, pred, true):\n",
    "        if len(pred.shape) == 1:\n",
    "            pred = pred.unsqueeze(1)\n",
    "        if len(true.shape) == 1:\n",
    "            true = true.unsqueeze(1)\n",
    "        drop_rate = 1 - self.keep_rate\n",
    "        true_tile_row = true.repeat((1, true.shape[0]))\n",
    "        true_tile_col = torch.t(true_tile_row)\n",
    "        assert (true_tile_row.shape == true_tile_col.shape)\n",
    "\n",
    "        pred_tile_row = pred.repeat((1, pred.shape[0]))\n",
    "        pred_tile_col = torch.t(pred_tile_row)\n",
    "\n",
    "        diff = (true_tile_row - true_tile_col) / (torch.abs(true_tile_col) + 1e-4)\n",
    "\n",
    "        pred_pair = torch.stack([pred_tile_row, pred_tile_col], dim=0)\n",
    "        valid_ind = torch.logical_or(diff > self.ingrp_thr,\n",
    "                                     diff > self.outgrp_thr)\n",
    "\n",
    "        # print(\"len(valid_ind)\",len(valid_ind))\n",
    "\n",
    "        pred_pair_valid = pred_pair.masked_select(valid_ind).reshape(2, -1)\n",
    "        pred_pair_diff = pred_pair_valid[0] - pred_pair_valid[1]\n",
    "        reverse = torch.sum(pred_pair_diff > 0)\n",
    "        ntotal = pred_pair_valid.shape[1] + 1e-8\n",
    "        # print(\"Total valid pairs: {:.3f}, reversed: {:.3f}, reverse ratio: {:.3f}\".format(ntotal, reverse, reverse/ntotal))\n",
    "        if drop_rate > 1e-4:\n",
    "            pred_pair_valid_dropout = torch.nn.functional.dropout(pred_pair_valid[0], drop_rate) * self.keep_rate\n",
    "            pred_pair_valid_ind = torch.logical_or(pred_pair_valid_dropout == pred_pair_valid[0],\n",
    "                                                   pred_pair_valid_dropout != 0.0)\n",
    "\n",
    "            pred_pair_valid = pred_pair_valid.masked_select(pred_pair_valid_ind).reshape(2, -1)\n",
    "        # print(pred_pair_valid[1] - pred_pair_valid[0])\n",
    "        loss = torch.sum(torch.log(1. + torch.exp(self.sigmoid_lambda * (pred_pair_valid[1] - pred_pair_valid[0] + 1))))\n",
    "        num = pred_pair_valid.shape[1] + 1e-8\n",
    "        loss = torch.div(loss, num)\n",
    "        return loss, (reverse / ntotal), ntotal"
   ]
  },
  {
   "cell_type": "code",
   "execution_count": 26,
   "metadata": {},
   "outputs": [
    {
     "data": {
      "text/plain": [
       "0         15.0\n",
       "1         15.0\n",
       "2         15.0\n",
       "3         16.0\n",
       "4         16.0\n",
       "         ...  \n",
       "1954      21.0\n",
       "1955    2340.0\n",
       "1956    2340.0\n",
       "1957    2340.0\n",
       "1958    2340.0\n",
       "Name: value, Length: 1959, dtype: float64"
      ]
     },
     "execution_count": 26,
     "metadata": {},
     "output_type": "execute_result"
    }
   ],
   "source": [
    "old.value"
   ]
  },
  {
   "cell_type": "code",
   "execution_count": 25,
   "metadata": {},
   "outputs": [
    {
     "data": {
      "text/plain": [
       "0        50000.0\n",
       "1        50000.0\n",
       "2         1010.0\n",
       "3            6.0\n",
       "4          110.0\n",
       "         ...    \n",
       "574         16.0\n",
       "575         15.0\n",
       "576         16.0\n",
       "577     190000.0\n",
       "578    1300000.0\n",
       "Name: value, Length: 579, dtype: float64"
      ]
     },
     "execution_count": 25,
     "metadata": {},
     "output_type": "execute_result"
    }
   ],
   "source": [
    "new.value"
   ]
  },
  {
   "cell_type": "code",
   "execution_count": 24,
   "metadata": {},
   "outputs": [
    {
     "data": {
      "text/plain": [
       "0      53.462982\n",
       "1      53.004295\n",
       "2      55.625835\n",
       "3      53.873657\n",
       "4      53.637398\n",
       "         ...    \n",
       "574    49.388481\n",
       "575    48.993126\n",
       "576    49.388481\n",
       "577    53.844177\n",
       "578    58.148270\n",
       "Name: affinity_pred, Length: 579, dtype: float64"
      ]
     },
     "execution_count": 24,
     "metadata": {},
     "output_type": "execute_result"
    }
   ],
   "source": [
    "new.affinity_pred"
   ]
  },
  {
   "cell_type": "code",
   "execution_count": 3,
   "metadata": {},
   "outputs": [],
   "source": [
    "import torch\n",
    "from torch import nn"
   ]
  },
  {
   "cell_type": "code",
   "execution_count": 4,
   "metadata": {},
   "outputs": [],
   "source": [
    "class PairwiseLoss(nn.Module):\n",
    "    def __init__(self, keep_rate=1., sigmoid_lambda=0.5,\n",
    "                 ingrp_thr=2, outgrp_thr=9999, eval=False):\n",
    "        super(PairwiseLoss, self).__init__()\n",
    "        self.eval = eval\n",
    "        self.register_buffer('keep_rate', torch.tensor(keep_rate, dtype=torch.float64))\n",
    "        self.register_buffer('sigmoid_lambda', torch.tensor(sigmoid_lambda, dtype=torch.float64))\n",
    "        self.register_buffer('ingrp_thr', torch.tensor(ingrp_thr, dtype=torch.float64))\n",
    "        self.register_buffer('outgrp_thr', torch.tensor(outgrp_thr, dtype=torch.float64))\n",
    "\n",
    "    def forward(self, pred, true):\n",
    "        if len(pred.shape) == 1:\n",
    "            pred = pred.unsqueeze(1)\n",
    "        if len(true.shape) == 1:\n",
    "            true = true.unsqueeze(1)\n",
    "        drop_rate = 1 - self.keep_rate\n",
    "        true_tile_row = true.repeat((1, true.shape[0]))\n",
    "        true_tile_col = torch.t(true_tile_row)\n",
    "        assert (true_tile_row.shape == true_tile_col.shape)\n",
    "\n",
    "        pred_tile_row = pred.repeat((1, pred.shape[0]))\n",
    "        pred_tile_col = torch.t(pred_tile_row)\n",
    "\n",
    "        diff = (true_tile_row - true_tile_col) / (torch.abs(true_tile_col) + 1e-4)\n",
    "\n",
    "        pred_pair = torch.stack([pred_tile_row, pred_tile_col], dim=0)\n",
    "        valid_ind = torch.logical_or(diff > self.ingrp_thr,\n",
    "                                     diff > self.outgrp_thr)\n",
    "\n",
    "        # print(\"len(valid_ind)\",len(valid_ind))\n",
    "\n",
    "        pred_pair_valid = pred_pair.masked_select(valid_ind).reshape(2, -1)\n",
    "        pred_pair_diff = pred_pair_valid[0] - pred_pair_valid[1]\n",
    "        reverse = torch.sum(pred_pair_diff > 0)\n",
    "        ntotal = pred_pair_valid.shape[1] + 1e-8\n",
    "        # print(\"Total valid pairs: {:.3f}, reversed: {:.3f}, reverse ratio: {:.3f}\".format(ntotal, reverse, reverse/ntotal))\n",
    "        if drop_rate > 1e-4:\n",
    "            pred_pair_valid_dropout = torch.nn.functional.dropout(pred_pair_valid[0], drop_rate) * self.keep_rate\n",
    "            pred_pair_valid_ind = torch.logical_or(pred_pair_valid_dropout == pred_pair_valid[0],\n",
    "                                                   pred_pair_valid_dropout != 0.0)\n",
    "\n",
    "            pred_pair_valid = pred_pair_valid.masked_select(pred_pair_valid_ind).reshape(2, -1)\n",
    "        # print(pred_pair_valid[1] - pred_pair_valid[0])\n",
    "        loss = torch.sum(torch.log(1. + torch.exp(self.sigmoid_lambda * (pred_pair_valid[1] - pred_pair_valid[0] + 1))))\n",
    "        num = pred_pair_valid.shape[1] + 1e-8\n",
    "        loss = torch.div(loss, num)\n",
    "        return loss, (reverse / ntotal), ntotal"
   ]
  },
  {
   "cell_type": "code",
   "execution_count": 25,
   "metadata": {},
   "outputs": [],
   "source": [
    "p = PairwiseLoss(ingrp_thr=1)"
   ]
  },
  {
   "cell_type": "code",
   "execution_count": 26,
   "metadata": {},
   "outputs": [
    {
     "data": {
      "text/plain": [
       "(tensor(0.1061, dtype=torch.float64), tensor(1.), 3.00000001)"
      ]
     },
     "execution_count": 26,
     "metadata": {},
     "output_type": "execute_result"
    }
   ],
   "source": [
    "a = torch.tensor([1, 4, 16]).unsqueeze(1)\n",
    "b = torch.tensor([2, 8, 32]).unsqueeze(1)\n",
    "p(pred=a, true=b)"
   ]
  },
  {
   "cell_type": "code",
   "execution_count": 30,
   "metadata": {},
   "outputs": [
    {
     "name": "stdout",
     "output_type": "stream",
     "text": [
      "torch.Size([1, 5])\n"
     ]
    },
    {
     "ename": "AssertionError",
     "evalue": "",
     "output_type": "error",
     "traceback": [
      "\u001b[0;31m---------------------------------------------------------------------------\u001b[0m",
      "\u001b[0;31mAssertionError\u001b[0m                            Traceback (most recent call last)",
      "\u001b[1;32m/home/jovyan/main_tankbind/tankbind_prototype/tools/result_viewer.ipynb 单元格 24\u001b[0m in \u001b[0;36m<cell line: 4>\u001b[0;34m()\u001b[0m\n\u001b[1;32m      <a href='vscode-notebook-cell://ssh-remote%2Btankbind/home/jovyan/main_tankbind/tankbind_prototype/tools/result_viewer.ipynb#X34sdnNjb2RlLXJlbW90ZQ%3D%3D?line=1'>2</a>\u001b[0m \u001b[39mprint\u001b[39m(a\u001b[39m.\u001b[39mshape)\n\u001b[1;32m      <a href='vscode-notebook-cell://ssh-remote%2Btankbind/home/jovyan/main_tankbind/tankbind_prototype/tools/result_viewer.ipynb#X34sdnNjb2RlLXJlbW90ZQ%3D%3D?line=2'>3</a>\u001b[0m b \u001b[39m=\u001b[39m torch\u001b[39m.\u001b[39mtensor([\u001b[39m1\u001b[39m,\u001b[39m2\u001b[39m,\u001b[39m3\u001b[39m,\u001b[39m4\u001b[39m,\u001b[39m5\u001b[39m])\u001b[39m.\u001b[39munsqueeze(\u001b[39m1\u001b[39m)\u001b[39m.\u001b[39mt()\n\u001b[0;32m----> <a href='vscode-notebook-cell://ssh-remote%2Btankbind/home/jovyan/main_tankbind/tankbind_prototype/tools/result_viewer.ipynb#X34sdnNjb2RlLXJlbW90ZQ%3D%3D?line=3'>4</a>\u001b[0m p(pred\u001b[39m=\u001b[39;49ma, true\u001b[39m=\u001b[39;49mb)\n",
      "File \u001b[0;32m/opt/conda/envs/betabind_py38/lib/python3.8/site-packages/torch/nn/modules/module.py:1110\u001b[0m, in \u001b[0;36mModule._call_impl\u001b[0;34m(self, *input, **kwargs)\u001b[0m\n\u001b[1;32m   1106\u001b[0m \u001b[39m# If we don't have any hooks, we want to skip the rest of the logic in\u001b[39;00m\n\u001b[1;32m   1107\u001b[0m \u001b[39m# this function, and just call forward.\u001b[39;00m\n\u001b[1;32m   1108\u001b[0m \u001b[39mif\u001b[39;00m \u001b[39mnot\u001b[39;00m (\u001b[39mself\u001b[39m\u001b[39m.\u001b[39m_backward_hooks \u001b[39mor\u001b[39;00m \u001b[39mself\u001b[39m\u001b[39m.\u001b[39m_forward_hooks \u001b[39mor\u001b[39;00m \u001b[39mself\u001b[39m\u001b[39m.\u001b[39m_forward_pre_hooks \u001b[39mor\u001b[39;00m _global_backward_hooks\n\u001b[1;32m   1109\u001b[0m         \u001b[39mor\u001b[39;00m _global_forward_hooks \u001b[39mor\u001b[39;00m _global_forward_pre_hooks):\n\u001b[0;32m-> 1110\u001b[0m     \u001b[39mreturn\u001b[39;00m forward_call(\u001b[39m*\u001b[39;49m\u001b[39minput\u001b[39;49m, \u001b[39m*\u001b[39;49m\u001b[39m*\u001b[39;49mkwargs)\n\u001b[1;32m   1111\u001b[0m \u001b[39m# Do not call functions when jit is used\u001b[39;00m\n\u001b[1;32m   1112\u001b[0m full_backward_hooks, non_full_backward_hooks \u001b[39m=\u001b[39m [], []\n",
      "\u001b[1;32m/home/jovyan/main_tankbind/tankbind_prototype/tools/result_viewer.ipynb 单元格 24\u001b[0m in \u001b[0;36mPairwiseLoss.forward\u001b[0;34m(self, pred, true)\u001b[0m\n\u001b[1;32m     <a href='vscode-notebook-cell://ssh-remote%2Btankbind/home/jovyan/main_tankbind/tankbind_prototype/tools/result_viewer.ipynb#X34sdnNjb2RlLXJlbW90ZQ%3D%3D?line=16'>17</a>\u001b[0m true_tile_row \u001b[39m=\u001b[39m true\u001b[39m.\u001b[39mrepeat((\u001b[39m1\u001b[39m, true\u001b[39m.\u001b[39mshape[\u001b[39m0\u001b[39m]))\n\u001b[1;32m     <a href='vscode-notebook-cell://ssh-remote%2Btankbind/home/jovyan/main_tankbind/tankbind_prototype/tools/result_viewer.ipynb#X34sdnNjb2RlLXJlbW90ZQ%3D%3D?line=17'>18</a>\u001b[0m true_tile_col \u001b[39m=\u001b[39m torch\u001b[39m.\u001b[39mt(true_tile_row)\n\u001b[0;32m---> <a href='vscode-notebook-cell://ssh-remote%2Btankbind/home/jovyan/main_tankbind/tankbind_prototype/tools/result_viewer.ipynb#X34sdnNjb2RlLXJlbW90ZQ%3D%3D?line=18'>19</a>\u001b[0m \u001b[39massert\u001b[39;00m (true_tile_row\u001b[39m.\u001b[39mshape \u001b[39m==\u001b[39m true_tile_col\u001b[39m.\u001b[39mshape)\n\u001b[1;32m     <a href='vscode-notebook-cell://ssh-remote%2Btankbind/home/jovyan/main_tankbind/tankbind_prototype/tools/result_viewer.ipynb#X34sdnNjb2RlLXJlbW90ZQ%3D%3D?line=20'>21</a>\u001b[0m pred_tile_row \u001b[39m=\u001b[39m pred\u001b[39m.\u001b[39mrepeat((\u001b[39m1\u001b[39m, pred\u001b[39m.\u001b[39mshape[\u001b[39m0\u001b[39m]))\n\u001b[1;32m     <a href='vscode-notebook-cell://ssh-remote%2Btankbind/home/jovyan/main_tankbind/tankbind_prototype/tools/result_viewer.ipynb#X34sdnNjb2RlLXJlbW90ZQ%3D%3D?line=21'>22</a>\u001b[0m pred_tile_col \u001b[39m=\u001b[39m torch\u001b[39m.\u001b[39mt(pred_tile_row)\n",
      "\u001b[0;31mAssertionError\u001b[0m: "
     ]
    }
   ],
   "source": [
    "a = torch.tensor([5,10,15,20,25]).unsqueeze(1).t()\n",
    "print(a.shape)\n",
    "b = torch.tensor([1,2,3,4,5]).unsqueeze(1).t()\n",
    "p(pred=a, true=b)"
   ]
  },
  {
   "cell_type": "code",
   "execution_count": 31,
   "metadata": {},
   "outputs": [
    {
     "data": {
      "text/plain": [
       "(tensor(2.1269, dtype=torch.float64), tensor(0.), 1.00000001)"
      ]
     },
     "execution_count": 31,
     "metadata": {},
     "output_type": "execute_result"
    }
   ],
   "source": [
    "a = torch.tensor([1, 4])\n",
    "b = torch.tensor([8, 2])\n",
    "p(pred=a, true=b)"
   ]
  },
  {
   "cell_type": "code",
   "execution_count": null,
   "metadata": {},
   "outputs": [],
   "source": []
  }
 ],
 "metadata": {
  "kernelspec": {
   "display_name": "Python 3 (ipykernel)",
   "language": "python",
   "name": "python3"
  },
  "language_info": {
   "codemirror_mode": {
    "name": "ipython",
    "version": 3
   },
   "file_extension": ".py",
   "mimetype": "text/x-python",
   "name": "python",
   "nbconvert_exporter": "python",
   "pygments_lexer": "ipython3",
   "version": "3.8.13"
  },
  "vscode": {
   "interpreter": {
    "hash": "4cdc0ee80d7648aad0ad3f887bd8d80fecc6c84f6e00bb50108c159517dcbac2"
   }
  }
 },
 "nbformat": 4,
 "nbformat_minor": 4
}
