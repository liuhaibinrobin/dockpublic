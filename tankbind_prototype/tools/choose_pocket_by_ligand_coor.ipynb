{
 "cells": [
  {
   "attachments": {},
   "cell_type": "markdown",
   "metadata": {},
   "source": [
    "## 此部分代码移植自原 Nouvelles 文件夹，供参考\n",
    "## 如需使用请依照实际情况修改路径和输入。"
   ]
  },
  {
   "attachments": {},
   "cell_type": "markdown",
   "metadata": {},
   "source": [
    "以下代码根据 pdb 对应的 ligand 的中心坐标，结合 p2rank 结果以生成一个新的 dict。\n",
    "该 dict 即数据集构建时的 `ARC_ligand_coor_dict.pt`"
   ]
  },
  {
   "cell_type": "code",
   "execution_count": null,
   "metadata": {},
   "outputs": [],
   "source": [
    "ligand_coor_2_pocket_dict ={}\n",
    "datapath = \"/home/jovyan/dataspace/Nouvelles\"\n",
    "\n",
    "\n",
    "# ligand_coor_dict 是一个包含所有 ligand 的中心坐标的词典。\n",
    "if True:\n",
    "    for key in tqdm(ligand_coor_dict, total=len(ligand_coor_dict)):\n",
    "        try:\n",
    "            \n",
    "            center = ligand_coor_dict[key][0]\n",
    "            p2rankFile = f\"{datapath}/p2rank_results/{key.lower()}_protein.pdb_predictions.csv\"\n",
    "            pocket = pd.read_csv(p2rankFile)\n",
    "            pocket.columns = pocket.columns.str.strip()\n",
    "            pocket_coms = pocket[['center_x', 'center_y', 'center_z']].values\n",
    "            right_ith_pocket = ((pocket_coms-center)**2).sum(axis=1).argmin()\n",
    "            right_name = f\"pocket_{right_ith_pocket+1}\"\n",
    "            \n",
    "            ligand_coor_2_pocket_dict[key] = right_name\n",
    "        except:\n",
    "            print(key, end = \" \")\n",
    "            ligand_coor_2_pocket_dict[key] = \"TOM\" # error 也行\n",
    "            \n",
    "    torch.save(ligand_coor_2_pocket_dict, # \"/home/jovyan/dataspace/Prototype/dicts/ARC_ligand_coor_dict.pt\")\n",
    "ligand_coor_2_pocket_dict = torch.load(# \"/home/jovyan/dataspace/Prototype/dicts/ARC_ligand_coor_dict.pt\")"
   ]
  }
 ],
 "metadata": {
  "kernelspec": {
   "display_name": "tankbind_py38",
   "language": "python",
   "name": "python3"
  },
  "language_info": {
   "name": "python",
   "version": "3.8.13"
  },
  "orig_nbformat": 4,
  "vscode": {
   "interpreter": {
    "hash": "3642610297c2db0c2e515b5d6934e6fa60bcae4d2e973dd2c51cba19538092f6"
   }
  }
 },
 "nbformat": 4,
 "nbformat_minor": 2
}
