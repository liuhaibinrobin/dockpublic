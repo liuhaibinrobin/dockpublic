{
 "cells": [
  {
   "cell_type": "markdown",
   "id": "5f23d51c",
   "metadata": {},
   "source": [
    "# `重要`\n",
    "在克隆本 git 项目后，如果未按照现有方式挂载 `dataspace` 数据卷，则需要按情况将每一个代码块的 `processed=True` 修改为 `processed=False`，然后运行，以将处理后的数据保存至某个文件夹（原为`dataspace/Prototype`），并在`tankbind_prototype/datasets` 下生成训练、测试用数据集。\n",
    "若成功挂载 `dataspace`，请跳到本脚本的 「<font color='gold'>「从这里开始」</font>数据集构建」，并以该处开始构建数据集。"
   ]
  },
  {
   "cell_type": "markdown",
   "id": "18ac327b",
   "metadata": {},
   "source": [
    "# overview\n",
    "\n",
    "### Preperation | 路径准备\n"
   ]
  },
  {
   "cell_type": "code",
   "execution_count": 56,
   "id": "d36a6808",
   "metadata": {},
   "outputs": [],
   "source": [
    "import numpy as np\n",
    "import pandas as pd\n",
    "from tqdm.notebook import tqdm\n",
    "import os\n",
    "import torch\n",
    "pdbbind_path = \"/home/jovyan/dataspace/PDBbind2020/all_pdbbind\"\n",
    "proto_path = \"/home/jovyan/dataspace/Prototype\"\n",
    "p2rank = \"bash /home/jovyan/dataspace/p2rank_2.3/prank\"\n",
    "tankbind_src_folder_path = \"../tankbind_prototype/\"\n",
    "import sys\n",
    "sys.path.insert(0, tankbind_src_folder_path)\n",
    "from feature_utils import generate_sdf_from_smiles_using_rdkit"
   ]
  },
  {
   "cell_type": "code",
   "execution_count": 57,
   "id": "bfd1f8e4",
   "metadata": {},
   "outputs": [],
   "source": [
    "internal_pdbs = [\"7kac\", \"6scm\", \"7s1s\", \"7t47\", \"7kcc\", \"6rpg\"] # 7t47对应KRAIS-G12D；7kcc对应MAT2A；6rpg对应pdl1 "
   ]
  },
  {
   "cell_type": "markdown",
   "id": "a52a7e4f",
   "metadata": {},
   "source": [
    "### 构建数据集"
   ]
  },
  {
   "cell_type": "code",
   "execution_count": 58,
   "id": "700adf2d",
   "metadata": {},
   "outputs": [],
   "source": [
    "test = \"/home/jovyan/dataspace/Internal/qsar_test/all_middle.test.csv\""
   ]
  },
  {
   "cell_type": "code",
   "execution_count": 59,
   "id": "b3f7a370",
   "metadata": {},
   "outputs": [
    {
     "data": {
      "text/plain": [
       "array(['KRAS-G12D', 'MAT2A', 'PDL1', 'VEGFR2', 'BRAF', 'JAK2', 'EGFR',\n",
       "       'CDK4', 'BTK', 'NTRK1', 'ALK', 'FGFR1', 'PRMT5', 'HPK1_3',\n",
       "       'HPK1_4', 'SOS1'], dtype=object)"
      ]
     },
     "execution_count": 59,
     "metadata": {},
     "output_type": "execute_result"
    }
   ],
   "source": [
    "df = pd.read_csv(test)\n",
    "df.target.unique()"
   ]
  },
  {
   "cell_type": "code",
   "execution_count": 60,
   "id": "fc7f9a52",
   "metadata": {},
   "outputs": [],
   "source": [
    "df = df.drop_duplicates().reset_index(drop=True)"
   ]
  },
  {
   "cell_type": "code",
   "execution_count": 61,
   "id": "fe9f2979",
   "metadata": {},
   "outputs": [
    {
     "name": "stdout",
     "output_type": "stream",
     "text": [
      "['ID_internal_KRAS-G12D_0', 'ID_internal_KRAS-G12D_1', 'ID_internal_KRAS-G12D_2', 'ID_internal_KRAS-G12D_3', 'ID_internal_KRAS-G12D_4']\n"
     ]
    },
    {
     "name": "stderr",
     "output_type": "stream",
     "text": [
      "/tmp/ipykernel_82450/2554067007.py:17: SettingWithCopyWarning: \n",
      "A value is trying to be set on a copy of a slice from a DataFrame.\n",
      "Try using .loc[row_indexer,col_indexer] = value instead\n",
      "\n",
      "See the caveats in the documentation: https://pandas.pydata.org/pandas-docs/stable/user_guide/indexing.html#returning-a-view-versus-a-copy\n",
      "  data['sample_id'] = sample_id\n",
      "/tmp/ipykernel_82450/2554067007.py:19: SettingWithCopyWarning: \n",
      "A value is trying to be set on a copy of a slice from a DataFrame.\n",
      "Try using .loc[row_indexer,col_indexer] = value instead\n",
      "\n",
      "See the caveats in the documentation: https://pandas.pydata.org/pandas-docs/stable/user_guide/indexing.html#returning-a-view-versus-a-copy\n",
      "  data['pdb'] = data['target'].apply(lambda x: {\"PRMT5\": \"7s1s\", \"SOS1\": \"6scm\", \"HPK1_3\": \"7kac\", \"HPK1_4\": \"7kac\", \"KRAS-G12D\": \"7t47\", \"PDL1\": \"6rpg\", \"MAT2A\": \"7kcc\"}[x])\n"
     ]
    }
   ],
   "source": [
    "if False:\n",
    "    test1 = \"/home/jovyan/dataspace/Internal/label/PRMT5/all_middle.test.csv\"\n",
    "    test2 = \"/home/jovyan/dataspace/Internal/label/SOS1-HPK1/all_middle.test.csv\"\n",
    "    df1 = pd.read_csv(test1)\n",
    "    df2 = pd.read_csv(test2)\n",
    "    df1 = df1[['smiles', 'value', 'target', 'id_in_patent']]\n",
    "    df2 = df2[['smiles', 'value', 'target', 'id_in_patent']]\n",
    "    data = pd.concat([df1, df2]).reset_index(drop=True)\n",
    "    del df1, df2\n",
    "df = df[df.target.isin(['HPK1_3', 'HPK1_4', \"PRMT5\", 'SOS1', \"KRAS-G12D\", \"PDL1\", \"MAT2A\"])]\n",
    "data =df[['smiles', 'value', 'target', 'id_in_patent']]\n",
    "data.head(5)\n",
    "sample_id = list(range(len(df)))\n",
    "target = list(data.target)\n",
    "sample_id = [\"ID_internal_\" + __ + \"_\" + str(_) for (_, __) in zip(sample_id, target)]\n",
    "print(sample_id[:5])\n",
    "data['sample_id'] = sample_id\n",
    "\n",
    "data['pdb'] = data['target'].apply(lambda x: {\"PRMT5\": \"7s1s\", \"SOS1\": \"6scm\", \"HPK1_3\": \"7kac\", \"HPK1_4\": \"7kac\", \"KRAS-G12D\": \"7t47\", \"PDL1\": \"6rpg\", \"MAT2A\": \"7kcc\"}[x])"
   ]
  },
  {
   "cell_type": "code",
   "execution_count": 62,
   "id": "ff9f7751",
   "metadata": {},
   "outputs": [
    {
     "data": {
      "text/html": [
       "<div>\n",
       "<style scoped>\n",
       "    .dataframe tbody tr th:only-of-type {\n",
       "        vertical-align: middle;\n",
       "    }\n",
       "\n",
       "    .dataframe tbody tr th {\n",
       "        vertical-align: top;\n",
       "    }\n",
       "\n",
       "    .dataframe thead th {\n",
       "        text-align: right;\n",
       "    }\n",
       "</style>\n",
       "<table border=\"1\" class=\"dataframe\">\n",
       "  <thead>\n",
       "    <tr style=\"text-align: right;\">\n",
       "      <th></th>\n",
       "      <th>smiles</th>\n",
       "      <th>value</th>\n",
       "      <th>target</th>\n",
       "      <th>id_in_patent</th>\n",
       "      <th>sample_id</th>\n",
       "      <th>pdb</th>\n",
       "    </tr>\n",
       "  </thead>\n",
       "  <tbody>\n",
       "    <tr>\n",
       "      <th>0</th>\n",
       "      <td>Oc1cc(-c2ncc3c(NC4CNC4)nc(OCC45CCCN4CCC5)nc3c2...</td>\n",
       "      <td>46.5</td>\n",
       "      <td>KRAS-G12D</td>\n",
       "      <td>0</td>\n",
       "      <td>ID_internal_KRAS-G12D_0</td>\n",
       "      <td>7t47</td>\n",
       "    </tr>\n",
       "    <tr>\n",
       "      <th>1</th>\n",
       "      <td>CN[C@H]1C[C@@H](Nc2nc(OCC34CCCN3CCC4)nc3c(F)c(...</td>\n",
       "      <td>80.9</td>\n",
       "      <td>KRAS-G12D</td>\n",
       "      <td>1</td>\n",
       "      <td>ID_internal_KRAS-G12D_1</td>\n",
       "      <td>7t47</td>\n",
       "    </tr>\n",
       "    <tr>\n",
       "      <th>2</th>\n",
       "      <td>C#Cc1cccc2cccc(-c3ncc4c(NCC5(N(C)C)CCC5)nc(OC[...</td>\n",
       "      <td>22.0</td>\n",
       "      <td>KRAS-G12D</td>\n",
       "      <td>2</td>\n",
       "      <td>ID_internal_KRAS-G12D_2</td>\n",
       "      <td>7t47</td>\n",
       "    </tr>\n",
       "    <tr>\n",
       "      <th>3</th>\n",
       "      <td>CCc1cccc2cccc(-c3ncc4c(NCC5(N(C)C)CCC5)nc(OC[C...</td>\n",
       "      <td>59.2</td>\n",
       "      <td>KRAS-G12D</td>\n",
       "      <td>3</td>\n",
       "      <td>ID_internal_KRAS-G12D_3</td>\n",
       "      <td>7t47</td>\n",
       "    </tr>\n",
       "    <tr>\n",
       "      <th>4</th>\n",
       "      <td>CCc1c(F)ccc2cccc(-c3ncc4c(NCC5(N(C)C)CCC5)nc(O...</td>\n",
       "      <td>30.4</td>\n",
       "      <td>KRAS-G12D</td>\n",
       "      <td>4</td>\n",
       "      <td>ID_internal_KRAS-G12D_4</td>\n",
       "      <td>7t47</td>\n",
       "    </tr>\n",
       "    <tr>\n",
       "      <th>...</th>\n",
       "      <td>...</td>\n",
       "      <td>...</td>\n",
       "      <td>...</td>\n",
       "      <td>...</td>\n",
       "      <td>...</td>\n",
       "      <td>...</td>\n",
       "    </tr>\n",
       "    <tr>\n",
       "      <th>1884</th>\n",
       "      <td>C[C@@H](NC(=O)c1cc(N2CCn3nccc3C2)nc2cc[nH]c12)...</td>\n",
       "      <td>89.8</td>\n",
       "      <td>SOS1</td>\n",
       "      <td>114</td>\n",
       "      <td>ID_internal_SOS1_1052</td>\n",
       "      <td>6scm</td>\n",
       "    </tr>\n",
       "    <tr>\n",
       "      <th>1885</th>\n",
       "      <td>C[C@@H](NC(=O)c1cc(N2CCc3c(cnn3C)C2)nc2cc[nH]c...</td>\n",
       "      <td>105.5</td>\n",
       "      <td>SOS1</td>\n",
       "      <td>115</td>\n",
       "      <td>ID_internal_SOS1_1053</td>\n",
       "      <td>6scm</td>\n",
       "    </tr>\n",
       "    <tr>\n",
       "      <th>1886</th>\n",
       "      <td>C[C@H](NC(=O)c1cc(N2CCC(O)C2)nc2cc[nH]c12)c1cc...</td>\n",
       "      <td>109.6</td>\n",
       "      <td>SOS1</td>\n",
       "      <td>116</td>\n",
       "      <td>ID_internal_SOS1_1054</td>\n",
       "      <td>6scm</td>\n",
       "    </tr>\n",
       "    <tr>\n",
       "      <th>1887</th>\n",
       "      <td>COC1CCN(c2cc(C(=O)N[C@H](C)c3cccc(C(F)F)c3F)c3...</td>\n",
       "      <td>125.4</td>\n",
       "      <td>SOS1</td>\n",
       "      <td>117</td>\n",
       "      <td>ID_internal_SOS1_1055</td>\n",
       "      <td>6scm</td>\n",
       "    </tr>\n",
       "    <tr>\n",
       "      <th>1888</th>\n",
       "      <td>C[C@@H](NC(=O)c1cc(N2CCC(C)(O)C2)nc2cc[nH]c12)...</td>\n",
       "      <td>126.3</td>\n",
       "      <td>SOS1</td>\n",
       "      <td>118</td>\n",
       "      <td>ID_internal_SOS1_1056</td>\n",
       "      <td>6scm</td>\n",
       "    </tr>\n",
       "  </tbody>\n",
       "</table>\n",
       "<p>1057 rows × 6 columns</p>\n",
       "</div>"
      ],
      "text/plain": [
       "                                                 smiles  value     target  \\\n",
       "0     Oc1cc(-c2ncc3c(NC4CNC4)nc(OCC45CCCN4CCC5)nc3c2...   46.5  KRAS-G12D   \n",
       "1     CN[C@H]1C[C@@H](Nc2nc(OCC34CCCN3CCC4)nc3c(F)c(...   80.9  KRAS-G12D   \n",
       "2     C#Cc1cccc2cccc(-c3ncc4c(NCC5(N(C)C)CCC5)nc(OC[...   22.0  KRAS-G12D   \n",
       "3     CCc1cccc2cccc(-c3ncc4c(NCC5(N(C)C)CCC5)nc(OC[C...   59.2  KRAS-G12D   \n",
       "4     CCc1c(F)ccc2cccc(-c3ncc4c(NCC5(N(C)C)CCC5)nc(O...   30.4  KRAS-G12D   \n",
       "...                                                 ...    ...        ...   \n",
       "1884  C[C@@H](NC(=O)c1cc(N2CCn3nccc3C2)nc2cc[nH]c12)...   89.8       SOS1   \n",
       "1885  C[C@@H](NC(=O)c1cc(N2CCc3c(cnn3C)C2)nc2cc[nH]c...  105.5       SOS1   \n",
       "1886  C[C@H](NC(=O)c1cc(N2CCC(O)C2)nc2cc[nH]c12)c1cc...  109.6       SOS1   \n",
       "1887  COC1CCN(c2cc(C(=O)N[C@H](C)c3cccc(C(F)F)c3F)c3...  125.4       SOS1   \n",
       "1888  C[C@@H](NC(=O)c1cc(N2CCC(C)(O)C2)nc2cc[nH]c12)...  126.3       SOS1   \n",
       "\n",
       "      id_in_patent                sample_id   pdb  \n",
       "0                0  ID_internal_KRAS-G12D_0  7t47  \n",
       "1                1  ID_internal_KRAS-G12D_1  7t47  \n",
       "2                2  ID_internal_KRAS-G12D_2  7t47  \n",
       "3                3  ID_internal_KRAS-G12D_3  7t47  \n",
       "4                4  ID_internal_KRAS-G12D_4  7t47  \n",
       "...            ...                      ...   ...  \n",
       "1884           114    ID_internal_SOS1_1052  6scm  \n",
       "1885           115    ID_internal_SOS1_1053  6scm  \n",
       "1886           116    ID_internal_SOS1_1054  6scm  \n",
       "1887           117    ID_internal_SOS1_1055  6scm  \n",
       "1888           118    ID_internal_SOS1_1056  6scm  \n",
       "\n",
       "[1057 rows x 6 columns]"
      ]
     },
     "execution_count": 62,
     "metadata": {},
     "output_type": "execute_result"
    }
   ],
   "source": [
    "data"
   ]
  },
  {
   "cell_type": "markdown",
   "id": "29a0af8a",
   "metadata": {},
   "source": [
    "### 为 `internal` 数据集生成小分子文件"
   ]
  },
  {
   "cell_type": "code",
   "execution_count": 64,
   "id": "578dc21a",
   "metadata": {},
   "outputs": [],
   "source": [
    "processed = True\n",
    "if not processed:\n",
    "    os.system(\"rm -rf /home/jovyan/dataspace/Prototype/rdkit_generated_sdfs_for_internal_data\")\n",
    "    os.system(\"mkdir -p /home/jovyan/dataspace/Prototype/rdkit_generated_sdfs_for_internal_data\")\n",
    "    \n",
    "    for i, line in data.iterrows():\n",
    "        smiles = line['smiles']\n",
    "        index = line['sample_id']\n",
    "        try:\n",
    "            generate_sdf_from_smiles_using_rdkit(smiles=smiles, rdkitMolFile=f\"/home/jovyan/dataspace/Prototype/rdkit_generated_sdfs_for_internal_data/{index}.sdf\", shift_dis=0)\n",
    "        except:\n",
    "            print(index, smiles)"
   ]
  },
  {
   "cell_type": "markdown",
   "id": "a3577133",
   "metadata": {},
   "source": [
    "### 构建小分子特征词典 `compound_dict`"
   ]
  },
  {
   "cell_type": "code",
   "execution_count": 65,
   "id": "046b8bab",
   "metadata": {},
   "outputs": [],
   "source": [
    "from feature_utils import extract_torchdrug_feature_from_mol\n",
    "from feature_utils import read_mol\n",
    "\n",
    "processed = True\n",
    "\n",
    "if not processed:\n",
    "    compound_dict = {}\n",
    "    skip_smiles_list = []\n",
    "    for i, line in data.iterrows():\n",
    "        smiles = line['smiles']\n",
    "        index = line['sample_id']\n",
    "        mol, _ = read_mol(f\"/home/jovyan/dataspace/Prototype/rdkit_generated_sdfs_for_internal_data/{index}.sdf\", None)\n",
    "        # extract features from sdf.\n",
    "        try:\n",
    "            compound_dict[index] = extract_torchdrug_feature_from_mol(mol, has_LAS_mask=True)  # self-dock set has_LAS_mask to true\n",
    "        except Exception as e:\n",
    "            print(index, e)\n",
    "            skip_smiles_list.append(index)\n",
    "            \n",
    "    torch.save(compound_dict, f\"/home/jovyan/dataspace/Prototype/dicts/INTERNAL_compound_torchdrug_features.pt\")\n",
    "else:\n",
    "    print(\"Load saved compound_dict.\")\n",
    "      \n",
    "    compound_dict = torch.load(f\"/home/jovyan/dataspace/Prototype/dicts/INTERNAL_compound_torchdrug_features.pt\")"
   ]
  },
  {
   "cell_type": "markdown",
   "id": "6780cf0f",
   "metadata": {},
   "source": [
    "### 构建蛋白质特征词典 `protein_dict`"
   ]
  },
  {
   "cell_type": "code",
   "execution_count": 66,
   "id": "b094fc53",
   "metadata": {},
   "outputs": [
    {
     "name": "stdout",
     "output_type": "stream",
     "text": [
      "Load saved protein_dict.\n"
     ]
    }
   ],
   "source": [
    "from feature_utils import get_protein_feature\n",
    "\n",
    "processed = True\n",
    "  \n",
    "if not processed:\n",
    "    input_ = []\n",
    "    tankbind_data_path = f\"/home/jovyan/dataspace/Prototype/tankbind_data\"\n",
    "    protein_embedding_folder = f\"{tankbind_data_path}/gvp_protein_embedding_for_internal\"\n",
    "    os.system(f\"mkdir -p {protein_embedding_folder}\")\n",
    "    for pdb in internal_pdbs:\n",
    "        proteinFile = f\"/home/jovyan/dataspace/Internal/pdbs/{pdb}.pdb\"\n",
    "        toFile = f\"{protein_embedding_folder}/{pdb}.pt\"\n",
    "        x = (pdb, proteinFile, toFile)\n",
    "        input_.append(x)\n",
    "            \n",
    "\n",
    "    from Bio.PDB import PDBParser\n",
    "    from feature_utils import get_clean_res_list\n",
    "    import torch\n",
    "    torch.set_num_threads(1)\n",
    "\n",
    "    def batch_run(x):\n",
    "        protein_dict = {}\n",
    "        pdb, proteinFile, toFile = x\n",
    "        parser = PDBParser(QUIET=True)\n",
    "        s = parser.get_structure(pdb, proteinFile)\n",
    "        res_list = get_clean_res_list(s.get_residues(), verbose=False, ensure_ca_exist=True)\n",
    "        protein_dict[pdb] = get_protein_feature(res_list)\n",
    "        torch.save(protein_dict, toFile)\n",
    "            \n",
    "\n",
    "    import mlcrate as mlc\n",
    "    import os\n",
    "    pool = mlc.SuperPool(64)\n",
    "    pool.pool.restart()\n",
    "    _ = pool.map(batch_run,input_)\n",
    "    pool.exit()\n",
    "\n",
    "\n",
    "    import torch\n",
    "    protein_dict = {}\n",
    "    for pdb in tqdm(internal_pdbs):\n",
    "        protein_dict.update(torch.load(f\"{protein_embedding_folder}/{pdb}.pt\"))\n",
    "            \n",
    "            \n",
    "    torch.save(protein_dict, \"/home/jovyan/dataspace/Prototype/dicts/INTERNAL_protein_dict.pt\")\n",
    "    \n",
    "else:\n",
    "    print(\"Load saved protein_dict.\")\n",
    "    protein_dict = torch.load(\"/home/jovyan/dataspace/Prototype/dicts/INTERNAL_protein_dict.pt\")"
   ]
  },
  {
   "cell_type": "code",
   "execution_count": 67,
   "id": "364d075c",
   "metadata": {},
   "outputs": [
    {
     "name": "stdout",
     "output_type": "stream",
     "text": [
      "----------------------------------------------------------------------------------------------\n",
      " P2Rank 2.3\n",
      "----------------------------------------------------------------------------------------------\n",
      "\n",
      "predicting pockets for proteins from dataset [protein_list.ds]\n",
      "processing [7kac.pdb] (1/6)\n",
      "processing [7s1s.pdb] (3/6)\n",
      "processing [6scm.pdb] (2/6)\n",
      "processing [7t47.pdb] (4/6)\n",
      "processing [6rpg.pdb] (6/6)\n",
      "processing [7kcc.pdb] (5/6)\n",
      "predicting pockets finished in 0 hours 0 minutes 10.648 seconds\n",
      "results saved to directory [/home/jovyan/dataspace/Prototype/p2rank_results_for_internal_data]\n",
      "\n",
      "----------------------------------------------------------------------------------------------\n",
      " finished successfully in 0 hours 0 minutes 11.918 seconds\n",
      "----------------------------------------------------------------------------------------------\n"
     ]
    },
    {
     "data": {
      "text/plain": [
       "0"
      ]
     },
     "execution_count": 67,
     "metadata": {},
     "output_type": "execute_result"
    }
   ],
   "source": [
    "p2rank_prediction_folder = f\"/home/jovyan/dataspace/Prototype/p2rank_results_for_internal_data\"\n",
    "os.system(f\"mkdir -p {p2rank_prediction_folder}\")\n",
    "ds = f\"{p2rank_prediction_folder}/protein_list.ds\"\n",
    "with open(ds, \"w\") as out:\n",
    "    for pdb in internal_pdbs:\n",
    "        out.write(f\"../../Internal/pdbs/{pdb}.pdb\\n\")\n",
    "cmd = f\"{p2rank} predict {ds} -o {p2rank_prediction_folder} -threads 16\"\n",
    "os.system(cmd)"
   ]
  },
  {
   "cell_type": "markdown",
   "id": "68bc2dc0",
   "metadata": {},
   "source": [
    "### 构建 `info` 文件"
   ]
  },
  {
   "cell_type": "code",
   "execution_count": 68,
   "id": "fba8a479",
   "metadata": {},
   "outputs": [
    {
     "data": {
      "application/vnd.jupyter.widget-view+json": {
       "model_id": "32183ce655c34351ae44a4b87d19e762",
       "version_major": 2,
       "version_minor": 0
      },
      "text/plain": [
       "  0%|          | 0/1057 [00:00<?, ?it/s]"
      ]
     },
     "metadata": {},
     "output_type": "display_data"
    },
    {
     "name": "stdout",
     "output_type": "stream",
     "text": [
      "9784\n"
     ]
    }
   ],
   "source": [
    "info = []\n",
    "err_pdb_list=[]\n",
    "for i, line in tqdm(data.iterrows(), total=data.shape[0]):\n",
    "    \n",
    "    sample_id = line['sample_id']\n",
    "    pdb_id = line['pdb']\n",
    "    smiles_name = line['sample_id']\n",
    "    smiles = line['smiles']\n",
    "    session_au = line['target']\n",
    "    value = line['value']\n",
    "         \n",
    "    p2rankFile = f\"/home/jovyan/dataspace/Prototype/p2rank_results_for_internal_data/{pdb_id}.pdb_predictions.csv\"    \n",
    "    pocket = pd.read_csv(p2rankFile)\n",
    "    pocket.columns = pocket.columns.str.strip()\n",
    "    pocket_coms = pocket[['center_x', 'center_y', 'center_z']].values\n",
    "\n",
    "    # protein center as a block.\n",
    "    protein_com = protein_dict[pdb_id][0].numpy().mean(axis=0).astype(float).reshape(1, 3)\n",
    "    info.append([sample_id, pdb_id, smiles_name, smiles, session_au, protein_com, pdb_id+\"_c\", \n",
    "                    value,  \"test\"])\n",
    "        \n",
    "    for idx, pocket_line in pocket.iterrows():\n",
    "        pdb_idx = f\"{pdb_id}_{idx}\"\n",
    "        info.append([sample_id, pdb_id, smiles_name, smiles, session_au, pocket_coms[idx].reshape(1, 3), pdb_idx, \n",
    "                    value, \"test\"])\n",
    "            \n",
    "info = pd.DataFrame(\n",
    "info, \n",
    "columns=['sample_id', 'pdb_id', 'smiles_name', 'kekule_smiles', 'session_au', 'pocket_com', 'pocket_name', 'value', 'split_tag'])\n",
    "print(len(info))\n",
    "\n",
    "info.to_csv(\"/home/jovyan/dataspace/Prototype/tables/INTERNAL_info.csv\")\n",
    "info.to_pickle(\"/home/jovyan/dataspace/Prototype/tables/INTERNAL_info.pkl\")"
   ]
  },
  {
   "cell_type": "markdown",
   "id": "d5a134e0",
   "metadata": {},
   "source": [
    "### 人工选定口袋"
   ]
  },
  {
   "cell_type": "code",
   "execution_count": 69,
   "id": "19733467",
   "metadata": {},
   "outputs": [],
   "source": [
    "pocket_dict = {\n",
    "    \"7kac\": \"7kac_1\", # or 7kac_2\n",
    "    \"6scm\": \"6scm_4\",\n",
    "    \"7s1s\": \"7s1s_1\",\n",
    "    \"6rgp\": \"6rpg_1\",\n",
    "    \"7kcc\": \"7kcc_1\", # or 7kcc_5\n",
    "    \"7t47\": \"7t47_2\"\n",
    "}\n",
    "pocket_names = [\"7kac_1\", \"6scm_4\", \"7s1s_1\", \"6rpg_1\", \"7kcc_1\", \"7t47_2\"]"
   ]
  },
  {
   "cell_type": "code",
   "execution_count": 70,
   "id": "802525d8",
   "metadata": {},
   "outputs": [
    {
     "data": {
      "text/html": [
       "<div>\n",
       "<style scoped>\n",
       "    .dataframe tbody tr th:only-of-type {\n",
       "        vertical-align: middle;\n",
       "    }\n",
       "\n",
       "    .dataframe tbody tr th {\n",
       "        vertical-align: top;\n",
       "    }\n",
       "\n",
       "    .dataframe thead th {\n",
       "        text-align: right;\n",
       "    }\n",
       "</style>\n",
       "<table border=\"1\" class=\"dataframe\">\n",
       "  <thead>\n",
       "    <tr style=\"text-align: right;\">\n",
       "      <th></th>\n",
       "      <th>sample_id</th>\n",
       "      <th>pdb_id</th>\n",
       "      <th>smiles_name</th>\n",
       "      <th>kekule_smiles</th>\n",
       "      <th>session_au</th>\n",
       "      <th>pocket_com</th>\n",
       "      <th>pocket_name</th>\n",
       "      <th>value</th>\n",
       "      <th>split_tag</th>\n",
       "    </tr>\n",
       "  </thead>\n",
       "  <tbody>\n",
       "    <tr>\n",
       "      <th>0</th>\n",
       "      <td>ID_internal_KRAS-G12D_0</td>\n",
       "      <td>7t47</td>\n",
       "      <td>ID_internal_KRAS-G12D_0</td>\n",
       "      <td>Oc1cc(-c2ncc3c(NC4CNC4)nc(OCC45CCCN4CCC5)nc3c2...</td>\n",
       "      <td>KRAS-G12D</td>\n",
       "      <td>[[-26.3188, -11.827, 17.87]]</td>\n",
       "      <td>7t47_2</td>\n",
       "      <td>46.5</td>\n",
       "      <td>test</td>\n",
       "    </tr>\n",
       "    <tr>\n",
       "      <th>1</th>\n",
       "      <td>ID_internal_KRAS-G12D_1</td>\n",
       "      <td>7t47</td>\n",
       "      <td>ID_internal_KRAS-G12D_1</td>\n",
       "      <td>CN[C@H]1C[C@@H](Nc2nc(OCC34CCCN3CCC4)nc3c(F)c(...</td>\n",
       "      <td>KRAS-G12D</td>\n",
       "      <td>[[-26.3188, -11.827, 17.87]]</td>\n",
       "      <td>7t47_2</td>\n",
       "      <td>80.9</td>\n",
       "      <td>test</td>\n",
       "    </tr>\n",
       "    <tr>\n",
       "      <th>2</th>\n",
       "      <td>ID_internal_KRAS-G12D_2</td>\n",
       "      <td>7t47</td>\n",
       "      <td>ID_internal_KRAS-G12D_2</td>\n",
       "      <td>C#Cc1cccc2cccc(-c3ncc4c(NCC5(N(C)C)CCC5)nc(OC[...</td>\n",
       "      <td>KRAS-G12D</td>\n",
       "      <td>[[-26.3188, -11.827, 17.87]]</td>\n",
       "      <td>7t47_2</td>\n",
       "      <td>22.0</td>\n",
       "      <td>test</td>\n",
       "    </tr>\n",
       "    <tr>\n",
       "      <th>3</th>\n",
       "      <td>ID_internal_KRAS-G12D_3</td>\n",
       "      <td>7t47</td>\n",
       "      <td>ID_internal_KRAS-G12D_3</td>\n",
       "      <td>CCc1cccc2cccc(-c3ncc4c(NCC5(N(C)C)CCC5)nc(OC[C...</td>\n",
       "      <td>KRAS-G12D</td>\n",
       "      <td>[[-26.3188, -11.827, 17.87]]</td>\n",
       "      <td>7t47_2</td>\n",
       "      <td>59.2</td>\n",
       "      <td>test</td>\n",
       "    </tr>\n",
       "    <tr>\n",
       "      <th>4</th>\n",
       "      <td>ID_internal_KRAS-G12D_4</td>\n",
       "      <td>7t47</td>\n",
       "      <td>ID_internal_KRAS-G12D_4</td>\n",
       "      <td>CCc1c(F)ccc2cccc(-c3ncc4c(NCC5(N(C)C)CCC5)nc(O...</td>\n",
       "      <td>KRAS-G12D</td>\n",
       "      <td>[[-26.3188, -11.827, 17.87]]</td>\n",
       "      <td>7t47_2</td>\n",
       "      <td>30.4</td>\n",
       "      <td>test</td>\n",
       "    </tr>\n",
       "    <tr>\n",
       "      <th>...</th>\n",
       "      <td>...</td>\n",
       "      <td>...</td>\n",
       "      <td>...</td>\n",
       "      <td>...</td>\n",
       "      <td>...</td>\n",
       "      <td>...</td>\n",
       "      <td>...</td>\n",
       "      <td>...</td>\n",
       "      <td>...</td>\n",
       "    </tr>\n",
       "    <tr>\n",
       "      <th>1052</th>\n",
       "      <td>ID_internal_SOS1_1052</td>\n",
       "      <td>6scm</td>\n",
       "      <td>ID_internal_SOS1_1052</td>\n",
       "      <td>C[C@@H](NC(=O)c1cc(N2CCn3nccc3C2)nc2cc[nH]c12)...</td>\n",
       "      <td>SOS1</td>\n",
       "      <td>[[7.9823, 19.0694, -15.4211]]</td>\n",
       "      <td>6scm_4</td>\n",
       "      <td>89.8</td>\n",
       "      <td>test</td>\n",
       "    </tr>\n",
       "    <tr>\n",
       "      <th>1053</th>\n",
       "      <td>ID_internal_SOS1_1053</td>\n",
       "      <td>6scm</td>\n",
       "      <td>ID_internal_SOS1_1053</td>\n",
       "      <td>C[C@@H](NC(=O)c1cc(N2CCc3c(cnn3C)C2)nc2cc[nH]c...</td>\n",
       "      <td>SOS1</td>\n",
       "      <td>[[7.9823, 19.0694, -15.4211]]</td>\n",
       "      <td>6scm_4</td>\n",
       "      <td>105.5</td>\n",
       "      <td>test</td>\n",
       "    </tr>\n",
       "    <tr>\n",
       "      <th>1054</th>\n",
       "      <td>ID_internal_SOS1_1054</td>\n",
       "      <td>6scm</td>\n",
       "      <td>ID_internal_SOS1_1054</td>\n",
       "      <td>C[C@H](NC(=O)c1cc(N2CCC(O)C2)nc2cc[nH]c12)c1cc...</td>\n",
       "      <td>SOS1</td>\n",
       "      <td>[[7.9823, 19.0694, -15.4211]]</td>\n",
       "      <td>6scm_4</td>\n",
       "      <td>109.6</td>\n",
       "      <td>test</td>\n",
       "    </tr>\n",
       "    <tr>\n",
       "      <th>1055</th>\n",
       "      <td>ID_internal_SOS1_1055</td>\n",
       "      <td>6scm</td>\n",
       "      <td>ID_internal_SOS1_1055</td>\n",
       "      <td>COC1CCN(c2cc(C(=O)N[C@H](C)c3cccc(C(F)F)c3F)c3...</td>\n",
       "      <td>SOS1</td>\n",
       "      <td>[[7.9823, 19.0694, -15.4211]]</td>\n",
       "      <td>6scm_4</td>\n",
       "      <td>125.4</td>\n",
       "      <td>test</td>\n",
       "    </tr>\n",
       "    <tr>\n",
       "      <th>1056</th>\n",
       "      <td>ID_internal_SOS1_1056</td>\n",
       "      <td>6scm</td>\n",
       "      <td>ID_internal_SOS1_1056</td>\n",
       "      <td>C[C@@H](NC(=O)c1cc(N2CCC(C)(O)C2)nc2cc[nH]c12)...</td>\n",
       "      <td>SOS1</td>\n",
       "      <td>[[7.9823, 19.0694, -15.4211]]</td>\n",
       "      <td>6scm_4</td>\n",
       "      <td>126.3</td>\n",
       "      <td>test</td>\n",
       "    </tr>\n",
       "  </tbody>\n",
       "</table>\n",
       "<p>1057 rows × 9 columns</p>\n",
       "</div>"
      ],
      "text/plain": [
       "                    sample_id pdb_id              smiles_name  \\\n",
       "0     ID_internal_KRAS-G12D_0   7t47  ID_internal_KRAS-G12D_0   \n",
       "1     ID_internal_KRAS-G12D_1   7t47  ID_internal_KRAS-G12D_1   \n",
       "2     ID_internal_KRAS-G12D_2   7t47  ID_internal_KRAS-G12D_2   \n",
       "3     ID_internal_KRAS-G12D_3   7t47  ID_internal_KRAS-G12D_3   \n",
       "4     ID_internal_KRAS-G12D_4   7t47  ID_internal_KRAS-G12D_4   \n",
       "...                       ...    ...                      ...   \n",
       "1052    ID_internal_SOS1_1052   6scm    ID_internal_SOS1_1052   \n",
       "1053    ID_internal_SOS1_1053   6scm    ID_internal_SOS1_1053   \n",
       "1054    ID_internal_SOS1_1054   6scm    ID_internal_SOS1_1054   \n",
       "1055    ID_internal_SOS1_1055   6scm    ID_internal_SOS1_1055   \n",
       "1056    ID_internal_SOS1_1056   6scm    ID_internal_SOS1_1056   \n",
       "\n",
       "                                          kekule_smiles session_au  \\\n",
       "0     Oc1cc(-c2ncc3c(NC4CNC4)nc(OCC45CCCN4CCC5)nc3c2...  KRAS-G12D   \n",
       "1     CN[C@H]1C[C@@H](Nc2nc(OCC34CCCN3CCC4)nc3c(F)c(...  KRAS-G12D   \n",
       "2     C#Cc1cccc2cccc(-c3ncc4c(NCC5(N(C)C)CCC5)nc(OC[...  KRAS-G12D   \n",
       "3     CCc1cccc2cccc(-c3ncc4c(NCC5(N(C)C)CCC5)nc(OC[C...  KRAS-G12D   \n",
       "4     CCc1c(F)ccc2cccc(-c3ncc4c(NCC5(N(C)C)CCC5)nc(O...  KRAS-G12D   \n",
       "...                                                 ...        ...   \n",
       "1052  C[C@@H](NC(=O)c1cc(N2CCn3nccc3C2)nc2cc[nH]c12)...       SOS1   \n",
       "1053  C[C@@H](NC(=O)c1cc(N2CCc3c(cnn3C)C2)nc2cc[nH]c...       SOS1   \n",
       "1054  C[C@H](NC(=O)c1cc(N2CCC(O)C2)nc2cc[nH]c12)c1cc...       SOS1   \n",
       "1055  COC1CCN(c2cc(C(=O)N[C@H](C)c3cccc(C(F)F)c3F)c3...       SOS1   \n",
       "1056  C[C@@H](NC(=O)c1cc(N2CCC(C)(O)C2)nc2cc[nH]c12)...       SOS1   \n",
       "\n",
       "                         pocket_com pocket_name  value split_tag  \n",
       "0      [[-26.3188, -11.827, 17.87]]      7t47_2   46.5      test  \n",
       "1      [[-26.3188, -11.827, 17.87]]      7t47_2   80.9      test  \n",
       "2      [[-26.3188, -11.827, 17.87]]      7t47_2   22.0      test  \n",
       "3      [[-26.3188, -11.827, 17.87]]      7t47_2   59.2      test  \n",
       "4      [[-26.3188, -11.827, 17.87]]      7t47_2   30.4      test  \n",
       "...                             ...         ...    ...       ...  \n",
       "1052  [[7.9823, 19.0694, -15.4211]]      6scm_4   89.8      test  \n",
       "1053  [[7.9823, 19.0694, -15.4211]]      6scm_4  105.5      test  \n",
       "1054  [[7.9823, 19.0694, -15.4211]]      6scm_4  109.6      test  \n",
       "1055  [[7.9823, 19.0694, -15.4211]]      6scm_4  125.4      test  \n",
       "1056  [[7.9823, 19.0694, -15.4211]]      6scm_4  126.3      test  \n",
       "\n",
       "[1057 rows x 9 columns]"
      ]
     },
     "execution_count": 70,
     "metadata": {},
     "output_type": "execute_result"
    }
   ],
   "source": [
    "info = pd.read_pickle(\"/home/jovyan/dataspace/Prototype/tables/INTERNAL_info.pkl\")\n",
    "info = info[info.pocket_name.isin(pocket_names)].reset_index(drop=True)\n",
    "info.to_pickle(\"/home/jovyan/dataspace/Prototype/tables/INTERNAL_info_sole_pocket.pkl\")\n",
    "info"
   ]
  },
  {
   "attachments": {},
   "cell_type": "markdown",
   "id": "6cc31638",
   "metadata": {},
   "source": [
    "# <font color='gold'>「从这里开始」</font>数据集构建"
   ]
  },
  {
   "cell_type": "code",
   "execution_count": null,
   "id": "bcbd0508",
   "metadata": {},
   "outputs": [],
   "source": [
    "import numpy as np\n",
    "import pandas as pd\n",
    "from tqdm.notebook import tqdm\n",
    "import os\n",
    "import torch\n",
    "pdbbind_path = \"/home/jovyan/dataspace/PDBbind2020/all_pdbbind\"\n",
    "proto_path = \"/home/jovyan/dataspace/Prototype\"\n",
    "p2rank = \"bash /home/jovyan/dataspace/p2rank_2.3/prank\"\n",
    "tankbind_src_folder_path = \"../tankbind_prototype/\"\n",
    "import sys\n",
    "sys.path.insert(0, tankbind_src_folder_path)\n",
    "from feature_utils import generate_sdf_from_smiles_using_rdkit"
   ]
  },
  {
   "cell_type": "code",
   "execution_count": 71,
   "id": "dd3fc539",
   "metadata": {},
   "outputs": [],
   "source": [
    "info = pd.read_pickle(\"/home/jovyan/dataspace/Prototype/tables/INTERNAL_info_sole_pocket.pkl\")\n",
    "protein_dict = torch.load(\"/home/jovyan/dataspace/Prototype/dicts/INTERNAL_protein_dict.pt\")\n",
    "compound_dict = torch.load(\"/home/jovyan/dataspace/Prototype/dicts/INTERNAL_compound_torchdrug_features.pt\")"
   ]
  },
  {
   "cell_type": "code",
   "execution_count": 72,
   "id": "a6c8d7a6",
   "metadata": {},
   "outputs": [
    {
     "name": "stderr",
     "output_type": "stream",
     "text": [
      "Processing...\n",
      "Done!\n"
     ]
    },
    {
     "name": "stdout",
     "output_type": "stream",
     "text": [
      "['/home/jovyan/main_tankbind/dataset_prototype/internal/processed/data.pt', '/home/jovyan/main_tankbind/dataset_prototype/internal/processed/protein.pt', '/home/jovyan/main_tankbind/dataset_prototype/internal/processed/compound.pt']\n"
     ]
    }
   ],
   "source": [
    "from data_prototype import TankBindDataSet_prototype\n",
    "toFileInternal = f\"/home/jovyan/main_tankbind/dataset_prototype/internal\"\n",
    "os.system(f\"rm -rf {toFileInternal}\")\n",
    "os.system(f\"mkdir -p {toFileInternal}\")\n",
    "dataset = TankBindDataSet_prototype(toFileInternal, data=info, protein_dict=protein_dict, compound_dict=compound_dict)"
   ]
  },
  {
   "cell_type": "code",
   "execution_count": 73,
   "id": "a7e832c6",
   "metadata": {},
   "outputs": [
    {
     "data": {
      "application/vnd.jupyter.widget-view+json": {
       "model_id": "c68dab53cbbc43e5baeebf90d7bbbcaf",
       "version_major": 2,
       "version_minor": 0
      },
      "text/plain": [
       "  0%|          | 0/1057 [00:00<?, ?it/s]"
      ]
     },
     "metadata": {},
     "output_type": "display_data"
    }
   ],
   "source": [
    "t = []\n",
    "t_dict = {}\n",
    "data = dataset.data\n",
    "\n",
    "for i, line in tqdm(data.iterrows(), total=data.shape[0]):\n",
    "    d = dataset[i]\n",
    "    sample_id = line['sample_id']\n",
    "    p_length = d['node_xyz'].shape[0]\n",
    "    c_length = d['coords'].shape[0]\n",
    "    y_length = d['y'].shape[0]\n",
    "    t.append([i, sample_id, p_length, c_length, y_length])\n",
    "    t_dict[sample_id] = [i, sample_id, p_length, c_length, y_length]\n",
    "    \n",
    "torch.save(t, \"/home/jovyan/dataspace/Prototype/tables/INTERNAL_supplementary.pt\")\n",
    "torch.save(t_dict, \"/home/jovyan/dataspace/Prototype/dicts/INTERNAL_supplementary_dict.pt\")\n",
    "\n",
    "t = pd.DataFrame(t, columns=['index', 'sample_id', 'p_length', 'c_length', 'y_length'])\n",
    "t.to_csv(\"/home/jovyan/dataspace/Prototype/tables/INTERNAL_supplementary.csv\")\n",
    "\n",
    "data = pd.concat([data, t[['p_length', 'c_length', 'y_length']]], axis=1)\n",
    "torch.save(data, f\"{toFileInternal}/processed/data.pt\")"
   ]
  },
  {
   "cell_type": "code",
   "execution_count": null,
   "id": "c87a5e40",
   "metadata": {},
   "outputs": [],
   "source": [
    "data = dataset.data\n",
    "t = pd.read_csv(\"/home/jovyan/dataspace/Prototype/tables/INTERNAL_supplementary.csv\", index_col=0)\n",
    "data =pd.concat([data, t[['p_length', 'c_length', 'y_length']]], axis=1)\n",
    "torch.save(data, f\"{toFileInternal}/processed/data.pt\")"
   ]
  },
  {
   "cell_type": "code",
   "execution_count": null,
   "id": "73d96672",
   "metadata": {},
   "outputs": [],
   "source": []
  }
 ],
 "metadata": {
  "interpreter": {
   "hash": "3642610297c2db0c2e515b5d6934e6fa60bcae4d2e973dd2c51cba19538092f6"
  },
  "kernelspec": {
   "display_name": "Python 3 (ipykernel)",
   "language": "python",
   "name": "python3"
  },
  "language_info": {
   "codemirror_mode": {
    "name": "ipython",
    "version": 3
   },
   "file_extension": ".py",
   "mimetype": "text/x-python",
   "name": "python",
   "nbconvert_exporter": "python",
   "pygments_lexer": "ipython3",
   "version": "3.8.13"
  }
 },
 "nbformat": 4,
 "nbformat_minor": 5
}
