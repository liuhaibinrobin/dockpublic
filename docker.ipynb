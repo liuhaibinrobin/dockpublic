{
 "cells": [
  {
   "cell_type": "code",
   "execution_count": 1,
   "id": "273bb1c6-9d98-4305-ae5b-b337125b4752",
   "metadata": {},
   "outputs": [
    {
     "name": "stderr",
     "output_type": "stream",
     "text": [
      "2022-08-23 09:23:04.221 [INFO] Connected to host docker successfully !\n"
     ]
    }
   ],
   "source": [
    "from easy_kubeflow import EasyDocker\n",
    "docker = EasyDocker()"
   ]
  },
  {
   "cell_type": "code",
   "execution_count": 3,
   "id": "d2538241-6632-4dbc-a526-1fc55f97ec0d",
   "metadata": {},
   "outputs": [
    {
     "data": {
      "text/html": [
       "<table border=\"1\" class=\"dataframe\">\n",
       "  <thead>\n",
       "    <tr style=\"text-align: right;\">\n",
       "      <th>REPOSITORY + TAG</th>\n",
       "      <th>IMAGE ID</th>\n",
       "      <th>CREATED</th>\n",
       "      <th>SIZE</th>\n",
       "    </tr>\n",
       "  </thead>\n",
       "  <tbody>\n",
       "    <tr>\n",
       "      <td>harbor.stonewise.cn/kubeflow/liuhaibin/notebook-image:sarmulti09</td>\n",
       "      <td>4f49bca8847a</td>\n",
       "      <td>2022-07-12T18:00:35.884</td>\n",
       "      <td>19.5 GB</td>\n",
       "    </tr>\n",
       "    <tr>\n",
       "      <td>harbor-qzm.stonewise.cn/proxy_cache/kubeflow/liuhaibin/notebook-image:sardev10</td>\n",
       "      <td>00ea8231c687</td>\n",
       "      <td>2022-07-12T17:59:38.427</td>\n",
       "      <td>18.6 GB</td>\n",
       "    </tr>\n",
       "    <tr>\n",
       "      <td>harbor.stonewise.cn/kubeflow/liuhaibin/notebook-image:baidugemdev09</td>\n",
       "      <td>27b6165e640c</td>\n",
       "      <td>2022-07-12T17:59:15.731</td>\n",
       "      <td>13.1 GB</td>\n",
       "    </tr>\n",
       "    <tr>\n",
       "      <td>harbor.stonewise.cn/kubeflow/liuhaibin/notebook-image:sarmulti10</td>\n",
       "      <td>6430838ddebf</td>\n",
       "      <td>2022-07-09T03:29:29.187</td>\n",
       "      <td>18.9 GB</td>\n",
       "    </tr>\n",
       "    <tr>\n",
       "      <td>harbor.stonewise.cn/kubeflow/liuhaibin/notebook-image:g2gtdev09</td>\n",
       "      <td>bf7ee39366b7</td>\n",
       "      <td>2022-07-09T02:47:58.812</td>\n",
       "      <td>21.9 GB</td>\n",
       "    </tr>\n",
       "    <tr>\n",
       "      <td>harbor-qzm.stonewise.cn/proxy_cache/kubeflow/liuhaibin/notebook-image:sarmulti09</td>\n",
       "      <td>bf80a1188192</td>\n",
       "      <td>2022-06-27T07:18:53.723</td>\n",
       "      <td>18.9 GB</td>\n",
       "    </tr>\n",
       "    <tr>\n",
       "      <td>harbor.stonewise.cn/kubeflow/liuhaibin/notebook-image:gemdev09</td>\n",
       "      <td>288e51f59381</td>\n",
       "      <td>2022-06-07T13:03:20.419</td>\n",
       "      <td>13.0 GB</td>\n",
       "    </tr>\n",
       "    <tr>\n",
       "      <td>harbor-qzm.stonewise.cn/proxy_cache/kubeflow/liuhaibin/notebook-image:gemdev09</td>\n",
       "      <td>e139125ae48b</td>\n",
       "      <td>2022-05-19T08:39:31.147</td>\n",
       "      <td>13.0 GB</td>\n",
       "    </tr>\n",
       "    <tr>\n",
       "      <td>harbor-qzm.stonewise.cn/proxy_cache/kubeflow/liuhaibin/notebook-image:g2gtdev12</td>\n",
       "      <td>0fcf3d442eb7</td>\n",
       "      <td>2022-05-12T08:53:40.994</td>\n",
       "      <td>21.9 GB</td>\n",
       "    </tr>\n",
       "    <tr>\n",
       "      <td>harbor.stonewise.cn/kubeflow/liuhaibin/notebook-image:baidugem2</td>\n",
       "      <td>e1e53a6de6aa</td>\n",
       "      <td>2022-04-27T11:33:56.647</td>\n",
       "      <td>15.5 GB</td>\n",
       "    </tr>\n",
       "    <tr>\n",
       "      <td>harbor-qzm.stonewise.cn/proxy_cache/kubeflow/liuhaibin/notebook-image:baidugem</td>\n",
       "      <td>7841716ec0be</td>\n",
       "      <td>2022-04-07T09:01:33.078</td>\n",
       "      <td>12.8 GB</td>\n",
       "    </tr>\n",
       "  </tbody>\n",
       "</table>"
      ],
      "text/plain": [
       "<IPython.core.display.HTML object>"
      ]
     },
     "metadata": {},
     "output_type": "display_data"
    }
   ],
   "source": [
    "docker.show_images(grep=\"liuhaibin\")"
   ]
  },
  {
   "cell_type": "code",
   "execution_count": 2,
   "id": "1abacee8-a880-4c66-8f7b-caa4eb49aa55",
   "metadata": {},
   "outputs": [
    {
     "name": "stdout",
     "output_type": "stream",
     "text": [
      "easy-kubeflow                 0.0.6rc1\n",
      "Note: you may need to restart the kernel to use updated packages.\n"
     ]
    }
   ],
   "source": [
    "pip list | grep easy-kubeflow"
   ]
  },
  {
   "cell_type": "code",
   "execution_count": 6,
   "id": "7309f049-a853-4a0f-b17a-99054c2696ae",
   "metadata": {},
   "outputs": [
    {
     "name": "stderr",
     "output_type": "stream",
     "text": [
      "  0%|          | 0/21 [00:00<?, ?it/s]2022-08-23 09:53:11.324 [INFO] Step 1/4 : FROM harbor.stonewise.cn/kubeflow/liuhaibin/notebook-image:tankbinddev10\n",
      "  5%|▍         | 1/21 [00:00<00:02,  9.90it/s]2022-08-23 09:53:11.426 [INFO] \n",
      " 10%|▉         | 2/21 [00:00<00:01,  9.84it/s]2022-08-23 09:53:11.529 [INFO]  ---> e4618e17ce66\n",
      " 14%|█▍        | 3/21 [00:00<00:01,  9.80it/s]2022-08-23 09:53:11.631 [INFO] Step 2/4 : WORKDIR /home/jovyan/TankBind/examples\n",
      " 19%|█▉        | 4/21 [00:00<00:01,  9.80it/s]2022-08-23 09:53:11.733 [INFO] \n",
      " 24%|██▍       | 5/21 [00:00<00:01,  9.80it/s]2022-08-23 09:53:11.835 [INFO]  ---> Running in 59015d69879e\n",
      " 29%|██▊       | 6/21 [00:00<00:01,  9.79it/s]2022-08-23 09:53:11.937 [INFO] Removing intermediate container 59015d69879e\n",
      " 33%|███▎      | 7/21 [00:00<00:01,  9.78it/s]2022-08-23 09:53:12.040 [INFO]  ---> e75c70685ab7\n",
      " 38%|███▊      | 8/21 [00:00<00:01,  9.76it/s]2022-08-23 09:53:12.143 [INFO] Step 3/4 : ENV PATH /opt/conda/envs/tankbind_py38/bin:$PATH\n",
      " 43%|████▎     | 9/21 [00:00<00:01,  9.76it/s]2022-08-23 09:53:12.245 [INFO] \n",
      " 48%|████▊     | 10/21 [00:01<00:01,  9.76it/s]2022-08-23 09:53:12.347 [INFO]  ---> Running in fd0a40f99a91\n",
      " 52%|█████▏    | 11/21 [00:01<00:01,  9.77it/s]2022-08-23 09:53:12.449 [INFO] Removing intermediate container fd0a40f99a91\n",
      " 57%|█████▋    | 12/21 [00:01<00:00,  9.78it/s]2022-08-23 09:53:12.552 [INFO]  ---> 5294ac7939f4\n",
      " 62%|██████▏   | 13/21 [00:01<00:00,  9.78it/s]2022-08-23 09:53:12.654 [INFO] Step 4/4 : SHELL [\"/opt/conda/condabin/conda\", \"run\", \"-n\", \"tankbind_py38\", \"/bin/bash\", \"--login\", \"-c\"]\n",
      " 67%|██████▋   | 14/21 [00:01<00:00,  9.79it/s]2022-08-23 09:53:12.755 [INFO] \n",
      " 71%|███████▏  | 15/21 [00:01<00:00,  9.80it/s]2022-08-23 09:53:12.857 [INFO]  ---> Running in 01966a44f094\n",
      " 76%|███████▌  | 16/21 [00:01<00:00,  9.79it/s]2022-08-23 09:53:12.960 [INFO] Removing intermediate container 01966a44f094\n",
      " 81%|████████  | 17/21 [00:01<00:00,  9.80it/s]2022-08-23 09:53:13.061 [INFO]  ---> c72acd228526\n",
      " 86%|████████▌ | 18/21 [00:01<00:00,  9.81it/s]2022-08-23 09:53:13.163 [INFO] {'ID': 'sha256:c72acd2285268f8d374f3a7f418dd0606d81b86f55fc346b056bbe94d2bb97c2'}\n",
      " 90%|█████████ | 19/21 [00:01<00:00,  9.80it/s]2022-08-23 09:53:13.265 [INFO] Successfully built c72acd228526\n",
      " 95%|█████████▌| 20/21 [00:02<00:00,  9.81it/s]2022-08-23 09:53:13.367 [INFO] Successfully tagged harbor.stonewise.cn/qsar/notebook-image_tankbind:0.0.2\n",
      "100%|██████████| 21/21 [00:02<00:00,  9.79it/s]\n",
      "2022-08-23 09:53:13.470 [INFO] Build image successfully !\n"
     ]
    }
   ],
   "source": [
    "docker.build_images(path=\"/home/jovyan/host-path\",\n",
    "                    dockerfile=\"Dockerfile\",\n",
    "                    repository=\"harbor.stonewise.cn/qsar/notebook-image_tankbind\",tag=\"0.0.2\")"
   ]
  },
  {
   "cell_type": "code",
   "execution_count": 7,
   "id": "59f91c99-4cc0-4a2c-8411-b54adda65606",
   "metadata": {},
   "outputs": [
    {
     "name": "stderr",
     "output_type": "stream",
     "text": [
      "  0%|          | 0/117 [00:00<?, ?it/s]2022-08-23 09:53:24.438 [INFO] The push refers to repository [harbor.stonewise.cn/qsar/notebook-image_tankbind]\n",
      "  1%|          | 1/117 [00:00<00:11,  9.91it/s]2022-08-23 09:53:24.540 [INFO] Preparing\n",
      "  2%|▏         | 2/117 [00:00<00:11,  9.83it/s]2022-08-23 09:53:24.642 [INFO] Waiting\n",
      " 17%|█▋        | 20/117 [00:00<00:01, 86.02it/s]2022-08-23 09:53:24.745 [INFO] Preparing\n",
      "2022-08-23 09:53:24.846 [INFO] Waiting\n",
      "2022-08-23 09:53:24.948 [INFO] Preparing\n",
      "2022-08-23 09:53:25.049 [INFO] Waiting\n",
      "2022-08-23 09:53:25.150 [INFO] Preparing\n",
      "2022-08-23 09:53:25.251 [INFO] Waiting\n",
      "2022-08-23 09:53:25.353 [INFO] Preparing\n",
      " 25%|██▍       | 29/117 [00:01<00:03, 25.89it/s]2022-08-23 09:53:25.455 [INFO] Waiting\n",
      "2022-08-23 09:53:25.556 [INFO] Preparing\n",
      "2022-08-23 09:53:25.657 [INFO] Waiting\n",
      " 30%|██▉       | 35/117 [00:01<00:03, 23.80it/s]2022-08-23 09:53:25.760 [INFO] Preparing\n",
      "2022-08-23 09:53:25.861 [INFO] Waiting\n",
      "2022-08-23 09:53:25.963 [INFO] Preparing\n",
      " 34%|███▍      | 40/117 [00:01<00:03, 21.41it/s]2022-08-23 09:53:26.066 [INFO] Waiting\n",
      "2022-08-23 09:53:26.167 [INFO] Preparing\n",
      "2022-08-23 09:53:26.269 [INFO] Waiting\n",
      " 38%|███▊      | 44/117 [00:01<00:03, 18.76it/s]2022-08-23 09:53:26.371 [INFO] Preparing\n",
      " 40%|████      | 47/117 [00:02<00:03, 20.15it/s]2022-08-23 09:53:26.474 [INFO] Waiting\n",
      " 43%|████▎     | 50/117 [00:02<00:03, 21.58it/s]2022-08-23 09:53:26.576 [INFO] Preparing\n",
      "2022-08-23 09:53:26.677 [INFO] Waiting\n",
      "2022-08-23 09:53:26.778 [INFO] Preparing\n",
      " 45%|████▌     | 53/117 [00:02<00:03, 16.87it/s]2022-08-23 09:53:26.881 [INFO] Waiting\n",
      " 48%|████▊     | 56/117 [00:02<00:03, 18.90it/s]2022-08-23 09:53:26.983 [INFO] Preparing\n",
      " 50%|█████     | 59/117 [00:02<00:02, 20.85it/s]2022-08-23 09:53:27.085 [INFO] Waiting\n",
      "2022-08-23 09:53:27.187 [INFO] Preparing\n",
      " 53%|█████▎    | 62/117 [00:02<00:02, 18.70it/s]2022-08-23 09:53:27.290 [INFO] Waiting\n",
      " 56%|█████▋    | 66/117 [00:02<00:02, 22.77it/s]2022-08-23 09:53:27.392 [INFO] Preparing\n",
      " 61%|██████    | 71/117 [00:03<00:01, 28.59it/s]2022-08-23 09:53:27.494 [INFO] Waiting\n",
      "2022-08-23 09:53:27.595 [INFO] Pushing\n",
      "2022-08-23 09:53:27.696 [INFO] Layer already exists\n",
      " 64%|██████▍   | 75/117 [00:03<00:01, 21.07it/s]2022-08-23 09:53:27.799 [INFO] Pushed\n",
      " 74%|███████▍  | 87/117 [00:03<00:00, 39.24it/s]2022-08-23 09:53:27.901 [INFO] Layer already exists\n",
      " 79%|███████▉  | 93/117 [00:03<00:00, 43.38it/s]2022-08-23 09:53:28.003 [INFO] 0.0.2: digest: sha256:15a8d90ada056d4852d11a55d8be83806e10559682c5ddfc97ddcba79fdadd7b size: 8922\n",
      " 99%|█████████▉| 116/117 [00:03<00:00, 85.64it/s]2022-08-23 09:53:28.106 [INFO] {}\n",
      "100%|██████████| 117/117 [00:03<00:00, 31.05it/s]\n",
      "2022-08-23 09:53:28.208 [INFO] Push image successfully !\n"
     ]
    }
   ],
   "source": [
    "docker.push_images(repository=\"harbor.stonewise.cn/qsar/notebook-image_tankbind\", tag=\"0.0.2\")"
   ]
  },
  {
   "cell_type": "code",
   "execution_count": 4,
   "id": "6a6b9f33-f4cb-4899-ac2e-7a2a65d39629",
   "metadata": {},
   "outputs": [
    {
     "name": "stderr",
     "output_type": "stream",
     "text": [
      "2022-06-10 04:14:08.729 [ERROR] Can't find repository in Registry !\n"
     ]
    },
    {
     "name": "stdout",
     "output_type": "stream",
     "text": [
      "500 Server Error for http://172.17.0.1:8082/v1.41/images/create?tag=0.0.1&fromImage=harbor.stonewise.cn%2Fqsar%2Fnotebook-image_gem_withcode: Internal Server Error (\"unknown: repository qsar/notebook-image_gem_withcode not found\")\n"
     ]
    }
   ],
   "source": [
    "docker.pull_images(repository=\"harbor.stonewise.cn/qsar/notebook-image_gem_withcode\", tag=\"0.0.1\")"
   ]
  },
  {
   "cell_type": "code",
   "execution_count": 6,
   "id": "4e91bfc8-09ce-4025-95dd-5ca430d2f7cc",
   "metadata": {},
   "outputs": [
    {
     "data": {
      "text/html": [
       "<table border=\"1\" class=\"dataframe\">\n",
       "  <thead>\n",
       "    <tr style=\"text-align: right;\">\n",
       "      <th>REPOSITORY + TAG</th>\n",
       "      <th>IMAGE ID</th>\n",
       "      <th>CREATED</th>\n",
       "      <th>SIZE</th>\n",
       "    </tr>\n",
       "  </thead>\n",
       "  <tbody>\n",
       "    <tr>\n",
       "      <td>harbor.stonewise.cn/kubeflow/harbor.stonewise.cn/qsar/notebook-image_gem_withcode:0.0.1</td>\n",
       "      <td>eee64ea2397b</td>\n",
       "      <td>2022-06-10T03:22:45.822</td>\n",
       "      <td>19.0 GB</td>\n",
       "    </tr>\n",
       "    <tr>\n",
       "      <td>harbor.stonewise.cn/qsar/notebook-image_gem_withcode:0.0.1</td>\n",
       "      <td>eee64ea2397b</td>\n",
       "      <td>2022-06-10T03:22:45.822</td>\n",
       "      <td>19.0 GB</td>\n",
       "    </tr>\n",
       "    <tr>\n",
       "      <td>harbor-qzm.stonewise.cn/proxy_cache/kubeflow/harbor.stonewise.cn/qsar/notebook-image_gem:0.0.1</td>\n",
       "      <td>4a34b702286f</td>\n",
       "      <td>2022-05-20T02:35:29.096</td>\n",
       "      <td>13.0 GB</td>\n",
       "    </tr>\n",
       "    <tr>\n",
       "      <td>harbor.stonewise.cn/kubeflow/harbor.stonewise.cn/qsar/notebook-image_gem:0.0.1</td>\n",
       "      <td>4a34b702286f</td>\n",
       "      <td>2022-05-20T02:35:29.096</td>\n",
       "      <td>13.0 GB</td>\n",
       "    </tr>\n",
       "    <tr>\n",
       "      <td>harbor.stonewise.cn/qsar/notebook-image_gem:0.0.1</td>\n",
       "      <td>4a34b702286f</td>\n",
       "      <td>2022-05-20T02:35:29.096</td>\n",
       "      <td>13.0 GB</td>\n",
       "    </tr>\n",
       "  </tbody>\n",
       "</table>"
      ],
      "text/plain": [
       "<IPython.core.display.HTML object>"
      ]
     },
     "metadata": {},
     "output_type": "display_data"
    }
   ],
   "source": [
    "docker.show_images(grep=\"qsar\")"
   ]
  },
  {
   "cell_type": "code",
   "execution_count": 9,
   "id": "66c4ea69-9b08-44b8-9671-46a94c7c5955",
   "metadata": {},
   "outputs": [
    {
     "data": {
      "text/html": [
       "<table border=\"1\" class=\"dataframe\">\n",
       "  <thead>\n",
       "    <tr style=\"text-align: right;\">\n",
       "      <th>CONTAINER ID</th>\n",
       "      <th>CREATED</th>\n",
       "      <th>STATUS</th>\n",
       "      <th>PORTS</th>\n",
       "      <th>IMAGE</th>\n",
       "      <th>COMMAND</th>\n",
       "      <th>CONTAINER NAME</th>\n",
       "    </tr>\n",
       "  </thead>\n",
       "  <tbody>\n",
       "    <tr>\n",
       "      <td>0b7205be5eb6</td>\n",
       "      <td>2022-05-19 11:17:27</td>\n",
       "      <td>Up 16 hours</td>\n",
       "      <td></td>\n",
       "      <td>harbor-qzm.stonewise.cn/proxy_cache/kubeflow/liuhaibin/notebook-image@sha256:86808370824a688c503f4b83ed5c431614f18a05bfe9834e72e7767689b13c73</td>\n",
       "      <td>/usr/bin/env /bin/bash /usr/src/app/startup.sh</td>\n",
       "      <td>k8s_testkube_testkube-0_liuhaibin_d9cd16a4-f4d2-4f32-b238-0d4622d9eff7_0</td>\n",
       "    </tr>\n",
       "  </tbody>\n",
       "</table>"
      ],
      "text/plain": [
       "<IPython.core.display.HTML object>"
      ]
     },
     "metadata": {},
     "output_type": "display_data"
    }
   ],
   "source": [
    "docker.show_containers()"
   ]
  },
  {
   "cell_type": "code",
   "execution_count": null,
   "id": "d83e136a-d217-463d-9ad4-c542e3efb059",
   "metadata": {},
   "outputs": [],
   "source": []
  }
 ],
 "metadata": {
  "kernelspec": {
   "display_name": "Python [conda env:tankbind_py38]",
   "language": "python",
   "name": "conda-env-tankbind_py38-py"
  },
  "language_info": {
   "codemirror_mode": {
    "name": "ipython",
    "version": 3
   },
   "file_extension": ".py",
   "mimetype": "text/x-python",
   "name": "python",
   "nbconvert_exporter": "python",
   "pygments_lexer": "ipython3",
   "version": "3.8.13"
  }
 },
 "nbformat": 4,
 "nbformat_minor": 5
}
