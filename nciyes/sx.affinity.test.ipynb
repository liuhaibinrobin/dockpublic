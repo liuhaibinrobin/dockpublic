{
 "cells": [
  {
   "cell_type": "markdown",
   "id": "e1f6ff3a",
   "metadata": {},
   "source": [
    "# sx.affinity.test.ipynb\n",
    "Notebook for testing."
   ]
  },
  {
   "cell_type": "markdown",
   "id": "23142276",
   "metadata": {
    "tags": []
   },
   "source": [
    "# Overview\n",
    "\n"
   ]
  },
  {
   "cell_type": "markdown",
   "id": "f41d635b-ade2-4687-b9f3-8a949b264706",
   "metadata": {
    "tags": []
   },
   "source": [
    "# Input"
   ]
  },
  {
   "cell_type": "code",
   "execution_count": 71,
   "id": "62c21caf",
   "metadata": {},
   "outputs": [],
   "source": [
    "input_path = \"./Inputs/Dev/RenamedPDBBind/\"\n",
    "pdb_name = \"1ebw\" # f'{pdb_name}.pdb' file in the inputs folder will be used.\n",
    "pdb_fname = \"1ebw_762_protein.pdb\"\n",
    "pdb_fpath = f\"{input_path}{pdb_fname}\"\n",
    "\n",
    "nci_fpath = \"./Inputs/Dev/dev.nci.csv\"\n"
   ]
  },
  {
   "cell_type": "code",
   "execution_count": 72,
   "id": "60c25b64-72b5-43ac-81bb-d8881a32cd7d",
   "metadata": {},
   "outputs": [],
   "source": [
    "base_pre = f\"./Outputs/\" # for results\n",
    "\n",
    "conf_by_chosen = True\n",
    "# if false and \"given_pocket\" is 0, only the conformations relating to the given_pocket will be generated.\n",
    "\n",
    "distinguish_by_timestamp = True \n",
    "# if true, the output folder name will be suffiexed with a timestamp \n",
    "\n",
    "\n",
    "p2rank = \"bash ../p2rank_2.3/prank\" # p2rank file path"
   ]
  },
  {
   "cell_type": "code",
   "execution_count": 73,
   "id": "09ed50b3",
   "metadata": {},
   "outputs": [],
   "source": [
    "tankbind_src_folder_path = \"../tankbind/\"\n",
    "import sys\n",
    "sys.path.insert(0, tankbind_src_folder_path)\n",
    "import os\n",
    "import numpy as np\n",
    "import pandas as pd\n",
    "from tqdm import tqdm\n",
    "import time"
   ]
  },
  {
   "cell_type": "code",
   "execution_count": 74,
   "id": "6b7e3127",
   "metadata": {},
   "outputs": [],
   "source": [
    "\n",
    "timetag = time.strftime(\"%m%d%H%M\")\n",
    "\n",
    "if distinguish_by_timestamp:\n",
    "    pre = f\"{base_pre}/{pdb_name}-{timetag}\"\n",
    "else:\n",
    "    pre = f\"{base_pre}/{pdb_name}\"\n",
    "    \n",
    "os.system(f\"mkdir -p {pre}\")\n",
    "os.system(f\"rm -rf {pre}/sdfs\")\n",
    "os.system(f\"mkdir -p {pre}/sdfs\")\n",
    "os.system(f\"rm -rf {pre}/PDBs\")\n",
    "os.system(f\"mkdir -p {pre}/PDBs\")\n",
    "os.system(f\"rm -rf {pre}/p2rank\")\n",
    "os.system(f\"mkdir -p {pre}/p2rank\")\n",
    "\n",
    "proteinName = pdb_name\n",
    "proteinFile = f\"{pre}/{proteinName}.pdb\""
   ]
  },
  {
   "cell_type": "markdown",
   "id": "1fb78b71",
   "metadata": {},
   "source": [
    "# get protein feature"
   ]
  },
  {
   "cell_type": "code",
   "execution_count": 75,
   "id": "8c7594d4",
   "metadata": {},
   "outputs": [],
   "source": [
    "from feature_utils import get_protein_feature"
   ]
  },
  {
   "cell_type": "code",
   "execution_count": 76,
   "id": "6acf4ee4",
   "metadata": {},
   "outputs": [],
   "source": [
    "from Bio.PDB import PDBParser\n",
    "from feature_utils import get_clean_res_list\n",
    "parser = PDBParser(QUIET=True)\n",
    "protein_dict = {}\n",
    "proteinName = pdb_name\n",
    "proteinFile = pdb_fpath\n",
    "s = parser.get_structure(\"example\", proteinFile)\n",
    "res_list = list(s.get_residues())\n",
    "clean_res_list = get_clean_res_list(res_list, ensure_ca_exist=True)\n",
    "protein_dict[proteinName] = get_protein_feature(clean_res_list)"
   ]
  },
  {
   "cell_type": "markdown",
   "id": "534ef2ed",
   "metadata": {},
   "source": [
    "# p2rank to segment the protein"
   ]
  },
  {
   "cell_type": "code",
   "execution_count": 77,
   "id": "efdf01dd",
   "metadata": {},
   "outputs": [],
   "source": [
    "ds = f\"{pre}/protein_list.ds\"\n",
    "with open(ds, \"w\") as out:\n",
    "    out.write(f\"../../{pdb_fpath}\\n\")"
   ]
  },
  {
   "cell_type": "code",
   "execution_count": 78,
   "id": "2054fde5",
   "metadata": {},
   "outputs": [
    {
     "name": "stdout",
     "output_type": "stream",
     "text": [
      "----------------------------------------------------------------------------------------------\n",
      " P2Rank 2.3\n",
      "----------------------------------------------------------------------------------------------\n",
      "\n",
      "predicting pockets for proteins from dataset [protein_list.ds]\n",
      "processing [1ebw_762_protein.pdb] (1/1)\n",
      "predicting pockets finished in 0 hours 0 minutes 18.147 seconds\n",
      "results saved to directory [/home/jovyan/TankBind/nciyes/Outputs/1ebw-08020744/p2rank]\n",
      "\n",
      "----------------------------------------------------------------------------------------------\n",
      " finished successfully in 0 hours 0 minutes 20.019 seconds\n",
      "----------------------------------------------------------------------------------------------\n"
     ]
    },
    {
     "data": {
      "text/plain": [
       "0"
      ]
     },
     "execution_count": 78,
     "metadata": {},
     "output_type": "execute_result"
    }
   ],
   "source": [
    "cmd = f\"{p2rank} predict {ds} -o {pre}/p2rank -threads 1\"\n",
    "os.system(cmd)"
   ]
  },
  {
   "cell_type": "code",
   "execution_count": 79,
   "id": "5bdf48e8",
   "metadata": {},
   "outputs": [],
   "source": [
    "import pandas as pd"
   ]
  },
  {
   "cell_type": "markdown",
   "id": "426efa1f",
   "metadata": {},
   "source": [
    "ligand_fname = \"1ebw_762_BEI.mol2\"\n",
    "ligand_fpath = f\"{input_path}{ligand_fname}\"\n",
    "from rdkit import Chem\n",
    "df = pd.DataFrame({\"ligand_name\":\"BEI\",\n",
    "          \"protein_name\":\"1ebw\",\n",
    "        \"ligand_fpath\":ligand_fpath,\n",
    "        \"smiles\":Chem.MolToSmiles(Chem.MolFromMol2File(ligand_fpath))})"
   ]
  },
  {
   "cell_type": "code",
   "execution_count": 81,
   "id": "84d67dba",
   "metadata": {},
   "outputs": [
    {
     "name": "stdout",
     "output_type": "stream",
     "text": [
      "['CN(C(=O)[C@H](OCc1ccccc1)[C@H](O)[C@@H](O)[C@@H](OCc1ccccc1)C(=O)N(C)[C@@H](Cc1ccccc1)C(=O)[O-])[C@@H](Cc1ccccc1)C(=O)[O-]', 'CN(C(=O)[C@H](OCc1ccccc1)[C@H](O)[C@@H](O)[C@@H](OCc1ccccc1)C(=O)N(C)[C@@H](Cc1ccccc1)C(=O)[O-])[C@@H](Cc1ccccc1)C(=O)[O-]']\n"
     ]
    },
    {
     "data": {
      "text/html": [
       "<div>\n",
       "<style scoped>\n",
       "    .dataframe tbody tr th:only-of-type {\n",
       "        vertical-align: middle;\n",
       "    }\n",
       "\n",
       "    .dataframe tbody tr th {\n",
       "        vertical-align: top;\n",
       "    }\n",
       "\n",
       "    .dataframe thead th {\n",
       "        text-align: right;\n",
       "    }\n",
       "</style>\n",
       "<table border=\"1\" class=\"dataframe\">\n",
       "  <thead>\n",
       "    <tr style=\"text-align: right;\">\n",
       "      <th></th>\n",
       "      <th>ligand_name</th>\n",
       "      <th>protein_name</th>\n",
       "      <th>ligand_fpath</th>\n",
       "      <th>smiles</th>\n",
       "      <th>compound_type</th>\n",
       "    </tr>\n",
       "  </thead>\n",
       "  <tbody>\n",
       "    <tr>\n",
       "      <th>0</th>\n",
       "      <td>BEI</td>\n",
       "      <td>1ebw</td>\n",
       "      <td>./Inputs/Dev/RenamedPDBBind/1ebw_762_BEI.mol2</td>\n",
       "      <td>CN(C(=O)[C@H](OCc1ccccc1)[C@H](O)[C@@H](O)[C@@...</td>\n",
       "      <td>Nature</td>\n",
       "    </tr>\n",
       "    <tr>\n",
       "      <th>1</th>\n",
       "      <td>BEI</td>\n",
       "      <td>1ebw</td>\n",
       "      <td>./Inputs/Dev/RenamedPDBBind/1ebw_762_BEI_rdkit...</td>\n",
       "      <td>CN(C(=O)[C@H](OCc1ccccc1)[C@H](O)[C@@H](O)[C@@...</td>\n",
       "      <td>RDKit</td>\n",
       "    </tr>\n",
       "  </tbody>\n",
       "</table>\n",
       "</div>"
      ],
      "text/plain": [
       "  ligand_name protein_name                                       ligand_fpath  \\\n",
       "0         BEI         1ebw      ./Inputs/Dev/RenamedPDBBind/1ebw_762_BEI.mol2   \n",
       "1         BEI         1ebw  ./Inputs/Dev/RenamedPDBBind/1ebw_762_BEI_rdkit...   \n",
       "\n",
       "                                              smiles compound_type  \n",
       "0  CN(C(=O)[C@H](OCc1ccccc1)[C@H](O)[C@@H](O)[C@@...        Nature  \n",
       "1  CN(C(=O)[C@H](OCc1ccccc1)[C@H](O)[C@@H](O)[C@@...         RDKit  "
      ]
     },
     "execution_count": 81,
     "metadata": {},
     "output_type": "execute_result"
    }
   ],
   "source": [
    "ligand_fnames = [\"1ebw_762_BEI.mol2\", \"1ebw_762_BEI_rdkit.mol\"]\n",
    "ligand_fpaths = [f\"{input_path}{x}\" for x in ligand_fnames]\n",
    "smiles = []\n",
    "for _m in ligand_fpaths:\n",
    "    if \"rdkit\" in _m:\n",
    "        smiles.append(Chem.MolToSmiles(Chem.MolFromMolFile(_m)))\n",
    "    else:\n",
    "        smiles.append(Chem.MolToSmiles(Chem.MolFromMol2File(_m)))\n",
    "\n",
    "print(smiles)\n",
    "\n",
    "from rdkit import Chem\n",
    "d_df = pd.DataFrame(\n",
    "    {\n",
    "        \"ligand_name\":[\"BEI\", \"BEI\"],\n",
    "        \"protein_name\":[\"1ebw\", \"1ebw\"],\n",
    "        \"ligand_fpath\":ligand_fpaths,\n",
    "        \"smiles\":smiles,\n",
    "        \"compound_type\": [\"Nature\", \"RDKit\"]\n",
    "        }\n",
    "    )\n",
    "d_df"
   ]
  },
  {
   "cell_type": "code",
   "execution_count": 82,
   "id": "d531aa7f",
   "metadata": {},
   "outputs": [
    {
     "name": "stderr",
     "output_type": "stream",
     "text": [
      "100%|██████████| 2/2 [00:00<00:00, 72.05it/s]"
     ]
    },
    {
     "name": "stdout",
     "output_type": "stream",
     "text": [
      "1ebw_762_protein\n",
      "1ebw_762_protein\n"
     ]
    },
    {
     "name": "stderr",
     "output_type": "stream",
     "text": [
      "\n"
     ]
    },
    {
     "data": {
      "text/html": [
       "<div>\n",
       "<style scoped>\n",
       "    .dataframe tbody tr th:only-of-type {\n",
       "        vertical-align: middle;\n",
       "    }\n",
       "\n",
       "    .dataframe tbody tr th {\n",
       "        vertical-align: top;\n",
       "    }\n",
       "\n",
       "    .dataframe thead th {\n",
       "        text-align: right;\n",
       "    }\n",
       "</style>\n",
       "<table border=\"1\" class=\"dataframe\">\n",
       "  <thead>\n",
       "    <tr style=\"text-align: right;\">\n",
       "      <th></th>\n",
       "      <th>protein_name</th>\n",
       "      <th>compound_name</th>\n",
       "      <th>compound_fpath</th>\n",
       "      <th>smiles</th>\n",
       "      <th>compound_type</th>\n",
       "      <th>pocket_name</th>\n",
       "      <th>pocket_com</th>\n",
       "    </tr>\n",
       "  </thead>\n",
       "  <tbody>\n",
       "    <tr>\n",
       "      <th>0</th>\n",
       "      <td>1ebw</td>\n",
       "      <td>BEI</td>\n",
       "      <td>./Inputs/Dev/RenamedPDBBind/1ebw_762_BEI.mol2</td>\n",
       "      <td>CN(C(=O)[C@H](OCc1ccccc1)[C@H](O)[C@@H](O)[C@@...</td>\n",
       "      <td>Nature</td>\n",
       "      <td>pocket_1</td>\n",
       "      <td>12.831,22.867,5.842</td>\n",
       "    </tr>\n",
       "    <tr>\n",
       "      <th>1</th>\n",
       "      <td>1ebw</td>\n",
       "      <td>BEI</td>\n",
       "      <td>./Inputs/Dev/RenamedPDBBind/1ebw_762_BEI.mol2</td>\n",
       "      <td>CN(C(=O)[C@H](OCc1ccccc1)[C@H](O)[C@@H](O)[C@@...</td>\n",
       "      <td>Nature</td>\n",
       "      <td>pocket_2</td>\n",
       "      <td>16.996,16.021,-19.09</td>\n",
       "    </tr>\n",
       "    <tr>\n",
       "      <th>2</th>\n",
       "      <td>1ebw</td>\n",
       "      <td>BEI</td>\n",
       "      <td>./Inputs/Dev/RenamedPDBBind/1ebw_762_BEI.mol2</td>\n",
       "      <td>CN(C(=O)[C@H](OCc1ccccc1)[C@H](O)[C@@H](O)[C@@...</td>\n",
       "      <td>Nature</td>\n",
       "      <td>pocket_3</td>\n",
       "      <td>7.603,39.809,11.629</td>\n",
       "    </tr>\n",
       "    <tr>\n",
       "      <th>3</th>\n",
       "      <td>1ebw</td>\n",
       "      <td>BEI</td>\n",
       "      <td>./Inputs/Dev/RenamedPDBBind/1ebw_762_BEI.mol2</td>\n",
       "      <td>CN(C(=O)[C@H](OCc1ccccc1)[C@H](O)[C@@H](O)[C@@...</td>\n",
       "      <td>Nature</td>\n",
       "      <td>pocket_4</td>\n",
       "      <td>26.531,16.151,-5.906</td>\n",
       "    </tr>\n",
       "    <tr>\n",
       "      <th>4</th>\n",
       "      <td>1ebw</td>\n",
       "      <td>BEI</td>\n",
       "      <td>./Inputs/Dev/RenamedPDBBind/1ebw_762_BEI.mol2</td>\n",
       "      <td>CN(C(=O)[C@H](OCc1ccccc1)[C@H](O)[C@@H](O)[C@@...</td>\n",
       "      <td>Nature</td>\n",
       "      <td>pocket_5</td>\n",
       "      <td>17.128,40.014,26.253</td>\n",
       "    </tr>\n",
       "    <tr>\n",
       "      <th>5</th>\n",
       "      <td>1ebw</td>\n",
       "      <td>BEI</td>\n",
       "      <td>./Inputs/Dev/RenamedPDBBind/1ebw_762_BEI.mol2</td>\n",
       "      <td>CN(C(=O)[C@H](OCc1ccccc1)[C@H](O)[C@@H](O)[C@@...</td>\n",
       "      <td>Nature</td>\n",
       "      <td>pocket_6</td>\n",
       "      <td>6.625,34.236,11.795</td>\n",
       "    </tr>\n",
       "    <tr>\n",
       "      <th>6</th>\n",
       "      <td>1ebw</td>\n",
       "      <td>BEI</td>\n",
       "      <td>./Inputs/Dev/RenamedPDBBind/1ebw_762_BEI.mol2</td>\n",
       "      <td>CN(C(=O)[C@H](OCc1ccccc1)[C@H](O)[C@@H](O)[C@@...</td>\n",
       "      <td>Nature</td>\n",
       "      <td>pocket_7</td>\n",
       "      <td>14.583,33.712,-10.976</td>\n",
       "    </tr>\n",
       "    <tr>\n",
       "      <th>7</th>\n",
       "      <td>1ebw</td>\n",
       "      <td>BEI</td>\n",
       "      <td>./Inputs/Dev/RenamedPDBBind/1ebw_762_BEI_rdkit...</td>\n",
       "      <td>CN(C(=O)[C@H](OCc1ccccc1)[C@H](O)[C@@H](O)[C@@...</td>\n",
       "      <td>RDKit</td>\n",
       "      <td>pocket_1</td>\n",
       "      <td>12.831,22.867,5.842</td>\n",
       "    </tr>\n",
       "    <tr>\n",
       "      <th>8</th>\n",
       "      <td>1ebw</td>\n",
       "      <td>BEI</td>\n",
       "      <td>./Inputs/Dev/RenamedPDBBind/1ebw_762_BEI_rdkit...</td>\n",
       "      <td>CN(C(=O)[C@H](OCc1ccccc1)[C@H](O)[C@@H](O)[C@@...</td>\n",
       "      <td>RDKit</td>\n",
       "      <td>pocket_2</td>\n",
       "      <td>16.996,16.021,-19.09</td>\n",
       "    </tr>\n",
       "    <tr>\n",
       "      <th>9</th>\n",
       "      <td>1ebw</td>\n",
       "      <td>BEI</td>\n",
       "      <td>./Inputs/Dev/RenamedPDBBind/1ebw_762_BEI_rdkit...</td>\n",
       "      <td>CN(C(=O)[C@H](OCc1ccccc1)[C@H](O)[C@@H](O)[C@@...</td>\n",
       "      <td>RDKit</td>\n",
       "      <td>pocket_3</td>\n",
       "      <td>7.603,39.809,11.629</td>\n",
       "    </tr>\n",
       "    <tr>\n",
       "      <th>10</th>\n",
       "      <td>1ebw</td>\n",
       "      <td>BEI</td>\n",
       "      <td>./Inputs/Dev/RenamedPDBBind/1ebw_762_BEI_rdkit...</td>\n",
       "      <td>CN(C(=O)[C@H](OCc1ccccc1)[C@H](O)[C@@H](O)[C@@...</td>\n",
       "      <td>RDKit</td>\n",
       "      <td>pocket_4</td>\n",
       "      <td>26.531,16.151,-5.906</td>\n",
       "    </tr>\n",
       "    <tr>\n",
       "      <th>11</th>\n",
       "      <td>1ebw</td>\n",
       "      <td>BEI</td>\n",
       "      <td>./Inputs/Dev/RenamedPDBBind/1ebw_762_BEI_rdkit...</td>\n",
       "      <td>CN(C(=O)[C@H](OCc1ccccc1)[C@H](O)[C@@H](O)[C@@...</td>\n",
       "      <td>RDKit</td>\n",
       "      <td>pocket_5</td>\n",
       "      <td>17.128,40.014,26.253</td>\n",
       "    </tr>\n",
       "    <tr>\n",
       "      <th>12</th>\n",
       "      <td>1ebw</td>\n",
       "      <td>BEI</td>\n",
       "      <td>./Inputs/Dev/RenamedPDBBind/1ebw_762_BEI_rdkit...</td>\n",
       "      <td>CN(C(=O)[C@H](OCc1ccccc1)[C@H](O)[C@@H](O)[C@@...</td>\n",
       "      <td>RDKit</td>\n",
       "      <td>pocket_6</td>\n",
       "      <td>6.625,34.236,11.795</td>\n",
       "    </tr>\n",
       "    <tr>\n",
       "      <th>13</th>\n",
       "      <td>1ebw</td>\n",
       "      <td>BEI</td>\n",
       "      <td>./Inputs/Dev/RenamedPDBBind/1ebw_762_BEI_rdkit...</td>\n",
       "      <td>CN(C(=O)[C@H](OCc1ccccc1)[C@H](O)[C@@H](O)[C@@...</td>\n",
       "      <td>RDKit</td>\n",
       "      <td>pocket_7</td>\n",
       "      <td>14.583,33.712,-10.976</td>\n",
       "    </tr>\n",
       "  </tbody>\n",
       "</table>\n",
       "</div>"
      ],
      "text/plain": [
       "   protein_name compound_name  \\\n",
       "0          1ebw           BEI   \n",
       "1          1ebw           BEI   \n",
       "2          1ebw           BEI   \n",
       "3          1ebw           BEI   \n",
       "4          1ebw           BEI   \n",
       "5          1ebw           BEI   \n",
       "6          1ebw           BEI   \n",
       "7          1ebw           BEI   \n",
       "8          1ebw           BEI   \n",
       "9          1ebw           BEI   \n",
       "10         1ebw           BEI   \n",
       "11         1ebw           BEI   \n",
       "12         1ebw           BEI   \n",
       "13         1ebw           BEI   \n",
       "\n",
       "                                       compound_fpath  \\\n",
       "0       ./Inputs/Dev/RenamedPDBBind/1ebw_762_BEI.mol2   \n",
       "1       ./Inputs/Dev/RenamedPDBBind/1ebw_762_BEI.mol2   \n",
       "2       ./Inputs/Dev/RenamedPDBBind/1ebw_762_BEI.mol2   \n",
       "3       ./Inputs/Dev/RenamedPDBBind/1ebw_762_BEI.mol2   \n",
       "4       ./Inputs/Dev/RenamedPDBBind/1ebw_762_BEI.mol2   \n",
       "5       ./Inputs/Dev/RenamedPDBBind/1ebw_762_BEI.mol2   \n",
       "6       ./Inputs/Dev/RenamedPDBBind/1ebw_762_BEI.mol2   \n",
       "7   ./Inputs/Dev/RenamedPDBBind/1ebw_762_BEI_rdkit...   \n",
       "8   ./Inputs/Dev/RenamedPDBBind/1ebw_762_BEI_rdkit...   \n",
       "9   ./Inputs/Dev/RenamedPDBBind/1ebw_762_BEI_rdkit...   \n",
       "10  ./Inputs/Dev/RenamedPDBBind/1ebw_762_BEI_rdkit...   \n",
       "11  ./Inputs/Dev/RenamedPDBBind/1ebw_762_BEI_rdkit...   \n",
       "12  ./Inputs/Dev/RenamedPDBBind/1ebw_762_BEI_rdkit...   \n",
       "13  ./Inputs/Dev/RenamedPDBBind/1ebw_762_BEI_rdkit...   \n",
       "\n",
       "                                               smiles compound_type  \\\n",
       "0   CN(C(=O)[C@H](OCc1ccccc1)[C@H](O)[C@@H](O)[C@@...        Nature   \n",
       "1   CN(C(=O)[C@H](OCc1ccccc1)[C@H](O)[C@@H](O)[C@@...        Nature   \n",
       "2   CN(C(=O)[C@H](OCc1ccccc1)[C@H](O)[C@@H](O)[C@@...        Nature   \n",
       "3   CN(C(=O)[C@H](OCc1ccccc1)[C@H](O)[C@@H](O)[C@@...        Nature   \n",
       "4   CN(C(=O)[C@H](OCc1ccccc1)[C@H](O)[C@@H](O)[C@@...        Nature   \n",
       "5   CN(C(=O)[C@H](OCc1ccccc1)[C@H](O)[C@@H](O)[C@@...        Nature   \n",
       "6   CN(C(=O)[C@H](OCc1ccccc1)[C@H](O)[C@@H](O)[C@@...        Nature   \n",
       "7   CN(C(=O)[C@H](OCc1ccccc1)[C@H](O)[C@@H](O)[C@@...         RDKit   \n",
       "8   CN(C(=O)[C@H](OCc1ccccc1)[C@H](O)[C@@H](O)[C@@...         RDKit   \n",
       "9   CN(C(=O)[C@H](OCc1ccccc1)[C@H](O)[C@@H](O)[C@@...         RDKit   \n",
       "10  CN(C(=O)[C@H](OCc1ccccc1)[C@H](O)[C@@H](O)[C@@...         RDKit   \n",
       "11  CN(C(=O)[C@H](OCc1ccccc1)[C@H](O)[C@@H](O)[C@@...         RDKit   \n",
       "12  CN(C(=O)[C@H](OCc1ccccc1)[C@H](O)[C@@H](O)[C@@...         RDKit   \n",
       "13  CN(C(=O)[C@H](OCc1ccccc1)[C@H](O)[C@@H](O)[C@@...         RDKit   \n",
       "\n",
       "   pocket_name             pocket_com  \n",
       "0     pocket_1    12.831,22.867,5.842  \n",
       "1     pocket_2   16.996,16.021,-19.09  \n",
       "2     pocket_3    7.603,39.809,11.629  \n",
       "3     pocket_4   26.531,16.151,-5.906  \n",
       "4     pocket_5   17.128,40.014,26.253  \n",
       "5     pocket_6    6.625,34.236,11.795  \n",
       "6     pocket_7  14.583,33.712,-10.976  \n",
       "7     pocket_1    12.831,22.867,5.842  \n",
       "8     pocket_2   16.996,16.021,-19.09  \n",
       "9     pocket_3    7.603,39.809,11.629  \n",
       "10    pocket_4   26.531,16.151,-5.906  \n",
       "11    pocket_5   17.128,40.014,26.253  \n",
       "12    pocket_6    6.625,34.236,11.795  \n",
       "13    pocket_7  14.583,33.712,-10.976  "
      ]
     },
     "execution_count": 82,
     "metadata": {},
     "output_type": "execute_result"
    }
   ],
   "source": [
    "info = []\n",
    "for i, line in tqdm(d_df.iterrows(), total=d_df.shape[0]):\n",
    "    smiles = line['smiles']\n",
    "    compound_name = line['ligand_name']\n",
    "    protein_name = line['protein_name']\n",
    "    compound_fpath = line['ligand_fpath']\n",
    "    protein_fname = pdb_fname\n",
    "    protein_fname = protein_fname.replace(\".pdb\",\"\")\n",
    "    compound_type = line[\"compound_type\"]\n",
    "    print(protein_fname)\n",
    "    if True:\n",
    "        p2rankFile = f\"{pre}/p2rank/{protein_fname}.pdb_predictions.csv\"\n",
    "        pocket = pd.read_csv(p2rankFile)\n",
    "        pocket.columns = pocket.columns.str.strip()\n",
    "        pocket_coms = pocket[['center_x', 'center_y', 'center_z']].values\n",
    "        for ith_pocket, com in enumerate(pocket_coms):\n",
    "            com = \",\".join([str(a.round(3)) for a in com])\n",
    "            info.append([protein_name, compound_name, compound_fpath, smiles, compound_type, f\"pocket_{ith_pocket+1}\", com])\n",
    "info = pd.DataFrame(info, columns=['protein_name', 'compound_name', 'compound_fpath', 'smiles', \"compound_type\", 'pocket_name', 'pocket_com'])\n",
    "info"
   ]
  },
  {
   "cell_type": "markdown",
   "id": "c98d21cf",
   "metadata": {},
   "source": [
    "# construct dataset"
   ]
  },
  {
   "cell_type": "code",
   "execution_count": 83,
   "id": "a072075c",
   "metadata": {},
   "outputs": [],
   "source": [
    "import torch\n",
    "torch.set_num_threads(1)"
   ]
  },
  {
   "cell_type": "code",
   "execution_count": 84,
   "id": "aff848be",
   "metadata": {},
   "outputs": [],
   "source": [
    "from torch_geometric.data import Dataset\n",
    "from utils import construct_data_from_graph_gvp\n",
    "import rdkit.Chem as Chem    # conda install rdkit -c rdkit if import failure.\n",
    "from feature_utils import extract_torchdrug_feature_from_mol\n",
    "from sx_feature_utils import sx_extract_torchdrug_feature_from_mol"
   ]
  },
  {
   "cell_type": "code",
   "execution_count": 89,
   "id": "3883313b",
   "metadata": {},
   "outputs": [],
   "source": [
    "class MyDataset_VS(Dataset):\n",
    "    def __init__(self, root, data=None, protein_dict=None, proteinMode=0, compoundMode=1,\n",
    "                pocket_radius=20, shake_nodes=None,\n",
    "                 transform=None, pre_transform=None, pre_filter=None):\n",
    "        self.data = data\n",
    "        self.protein_dict = protein_dict\n",
    "        super().__init__(root, transform, pre_transform, pre_filter)\n",
    "        print(self.processed_paths)\n",
    "        self.data = torch.load(self.processed_paths[0])\n",
    "        self.protein_dict = torch.load(self.processed_paths[1])\n",
    "        self.proteinMode = proteinMode\n",
    "        self.pocket_radius = pocket_radius\n",
    "        self.compoundMode = compoundMode\n",
    "        self.shake_nodes = shake_nodes\n",
    "        #self.printflag = True\n",
    "    @property\n",
    "    def processed_file_names(self):\n",
    "        return ['data.pt', 'protein.pt']\n",
    "\n",
    "    def process(self):\n",
    "        torch.save(self.data, self.processed_paths[0])\n",
    "        torch.save(self.protein_dict, self.processed_paths[1])\n",
    "\n",
    "    def len(self):\n",
    "        return len(self.data)\n",
    "\n",
    "    def get(self, idx):\n",
    "        line = self.data.iloc[idx]\n",
    "        smiles = line['smiles']\n",
    "        pocket_com = line['pocket_com']\n",
    "        pocket_com = np.array(pocket_com.split(\",\")).astype(float) if type(pocket_com) == str else pocket_com\n",
    "        pocket_com = pocket_com.reshape((1, 3))\n",
    "        use_whole_protein = line['use_whole_protein'] if \"use_whole_protein\" in line.index else False\n",
    "        compound_type = line['compound_type']\n",
    "        protein_name = line['protein_name']\n",
    "        protein_node_xyz, protein_seq, protein_node_s, protein_node_v, protein_edge_index, protein_edge_s, protein_edge_v = self.protein_dict[protein_name]\n",
    "\n",
    "        compound_fpath = line['compound_fpath']\n",
    "        \n",
    "        try:\n",
    "            if compound_type == \"Nature\":\n",
    "                mol = Chem.MolFromMol2File(compound_fpath)\n",
    "                mol.Compute2DCoords()\n",
    "            elif compound_type == \"RDKit\":\n",
    "                mol = Chem.MolFromMolFile(compound_fpath)\n",
    "                mol.Compute2DCoords()\n",
    "                \n",
    "            coords, compound_node_features, input_atom_edge_list, input_atom_edge_attr_list, pair_dis_distribution = sx_extract_torchdrug_feature_from_mol(mol, has_LAS_mask=True)\n",
    "        except:\n",
    "            print(\"something wrong with \", smiles, \"to prevent this stops our screening, we repalce it with a placeholder smiles 'CCC'\")\n",
    "            smiles = 'CCC'\n",
    "            mol = Chem.MolFromSmiles(smiles)\n",
    "            mol.Compute2DCoords()\n",
    "            coords, compound_node_features, input_atom_edge_list, input_atom_edge_attr_list, pair_dis_distribution = extract_torchdrug_feature_from_mol(mol, has_LAS_mask=True)\n",
    "        # y is distance map, instead of contact map.\n",
    "        data, input_node_list, keepNode = construct_data_from_graph_gvp(protein_node_xyz, protein_seq, protein_node_s, \n",
    "                              protein_node_v, protein_edge_index, protein_edge_s, protein_edge_v,\n",
    "                              coords, compound_node_features, input_atom_edge_list, input_atom_edge_attr_list,\n",
    "                              pocket_radius=self.pocket_radius, use_whole_protein=use_whole_protein, includeDisMap=True,\n",
    "                              use_compound_com_as_pocket=False, chosen_pocket_com=pocket_com, compoundMode=self.compoundMode)\n",
    "        data.compound_pair = pair_dis_distribution.reshape(-1, 16)\n",
    "        return data\n"
   ]
  },
  {
   "cell_type": "code",
   "execution_count": 90,
   "id": "f329c148",
   "metadata": {},
   "outputs": [
    {
     "name": "stdout",
     "output_type": "stream",
     "text": [
      "['Outputs/1ebw-08020744/dataset/processed/data.pt', 'Outputs/1ebw-08020744/dataset/processed/protein.pt']\n"
     ]
    },
    {
     "name": "stderr",
     "output_type": "stream",
     "text": [
      "Processing...\n",
      "Done!\n"
     ]
    }
   ],
   "source": [
    "dataset_path = f\"{pre}/dataset/\"\n",
    "os.system(f\"rm -r {dataset_path}\")\n",
    "os.system(f\"mkdir -p {dataset_path}\")\n",
    "dataset = MyDataset_VS(dataset_path, data=info, protein_dict=protein_dict)"
   ]
  },
  {
   "cell_type": "code",
   "execution_count": 91,
   "id": "9f9c40c3",
   "metadata": {},
   "outputs": [],
   "source": [
    "import logging\n",
    "from torch_geometric.loader import DataLoader\n",
    "from tqdm import tqdm    # pip install tqdm if fails.\n",
    "from model import get_model"
   ]
  },
  {
   "cell_type": "markdown",
   "id": "2814e362",
   "metadata": {},
   "source": [
    "# take about 2 minutes to screen 10,000 drug candidates."
   ]
  },
  {
   "cell_type": "code",
   "execution_count": 92,
   "id": "9f66a00a",
   "metadata": {},
   "outputs": [
    {
     "name": "stdout",
     "output_type": "stream",
     "text": [
      "07:49:05   5 stack, readout2, pred dis map add self attention and GVP embed, compound model GIN\n"
     ]
    },
    {
     "name": "stderr",
     "output_type": "stream",
     "text": [
      "100%|██████████| 3/3 [00:03<00:00,  1.04s/it]\n"
     ]
    }
   ],
   "source": [
    "bias_list = []\n",
    "batched_energy_list = []\n",
    "\n",
    "batch_size = 5\n",
    "device = 'cuda:4' if torch.cuda.is_available() else 'cpu'\n",
    "# device= 'cpu'\n",
    "logging.basicConfig(level=logging.INFO)\n",
    "model = get_model(0, logging, device)\n",
    "# modelFile = \"../saved_models/re_dock.pt\"\n",
    "# self-dock model\n",
    "modelFile = \"../saved_models/self_dock.pt\"\n",
    "\n",
    "model.load_state_dict(torch.load(modelFile, map_location=device))\n",
    "_ = model.eval()\n",
    "\n",
    "data_loader = DataLoader(dataset, batch_size=batch_size, follow_batch=['x', 'y', 'compound_pair'], shuffle=False, num_workers=8)\n",
    "affinity_pred_list = []\n",
    "y_pred_list = []\n",
    "for data in tqdm(data_loader):\n",
    "    data = data.to(device)\n",
    "    y_pred, affinity_pred = model(data)\n",
    "    affinity_pred_list.append(affinity_pred.detach().cpu())\n",
    "    if False:\n",
    "        # we don't need to save the predicted distance map in HTVS setting.\n",
    "        for i in range(data.y_batch.max() + 1):\n",
    "            y_pred_list.append((y_pred[data['y_batch'] == i]).detach().cpu())\n",
    "affinity_pred_list = torch.cat(affinity_pred_list)"
   ]
  },
  {
   "cell_type": "code",
   "execution_count": 93,
   "id": "507d77f2-e586-4ea6-9dad-05f52b2879ea",
   "metadata": {},
   "outputs": [],
   "source": [
    "info = dataset.data\n",
    "info['affinity'] = affinity_pred_list"
   ]
  },
  {
   "cell_type": "code",
   "execution_count": 94,
   "id": "683ebef0-194e-4b73-95b8-ed7b300fef47",
   "metadata": {},
   "outputs": [],
   "source": [
    "info.to_csv(f\"{pre}/TBAff_{pdb_name}_All.csv\")"
   ]
  },
  {
   "cell_type": "code",
   "execution_count": 100,
   "id": "a00d7238-bb63-4db4-9a8d-f515e0cbdfb9",
   "metadata": {},
   "outputs": [],
   "source": [
    "if given_pocket:\n",
    "    info_given_pocket = info[info[\"pocket_name\"]==given_pocket]\n",
    "    info_given_pocket.to_csv(f\"{pre}/TBAff_{target_name}_{pdb_name}_Given_{given_pocket}.csv\")"
   ]
  },
  {
   "cell_type": "code",
   "execution_count": 101,
   "id": "eeb24d35-94d7-42c5-8146-04c125a05ce5",
   "metadata": {},
   "outputs": [],
   "source": [
    "chosen = info.loc[info.groupby(['protein_name', 'smiles'],sort=False)['affinity'].agg('idxmax')].reset_index()\n",
    "chosen.to_csv(f\"{pre}/TBAff_{target_name}_{pdb_name}_TBChosen.csv\")"
   ]
  },
  {
   "cell_type": "code",
   "execution_count": 102,
   "id": "f3a8c094-7684-43cd-ab43-6a5bf5492064",
   "metadata": {},
   "outputs": [],
   "source": [
    "info.to_csv(f\"{pre}/result_info.csv\")\n",
    "if given_pocket:\n",
    "    info_right_pocket = info[info[\"pocket_name\"]==right_pocket]\n",
    "    info_right_pocket.to_csv(f\"{pre}/result_info_rightpocket.csv\")"
   ]
  },
  {
   "cell_type": "code",
   "execution_count": null,
   "id": "dac562f1-cd47-462b-907d-cd7d81f5e60c",
   "metadata": {},
   "outputs": [],
   "source": []
  },
  {
   "cell_type": "markdown",
   "id": "736b5a32-e25b-494b-a3e6-e8c97c60b964",
   "metadata": {
    "tags": []
   },
   "source": [
    "## Related-Atoms Process"
   ]
  },
  {
   "cell_type": "code",
   "execution_count": 103,
   "id": "1dfcc096-ee39-4c51-8aed-afe7b9f37442",
   "metadata": {},
   "outputs": [],
   "source": [
    "use_related = False\n",
    "if use_related:\n",
    "    energy_list = []\n",
    "    for _batch in batched_energy_list:\n",
    "        for item in _batch:\n",
    "            energy_list.append(item)\n",
    "            \n",
    "    related_atoms_list = []\n",
    "    num_atoms_list = []\n",
    "    for p in info.iterrows():\n",
    "        sm = p[1][\"smiles\"]\n",
    "        #print(sm)\n",
    "        smiles = get_canonical_smiles(sm)\n",
    "        #print(smiles)\n",
    "        mol = Chem.MolFromSmiles(smiles)\n",
    "\n",
    "        related = []\n",
    "        for _atom in mol.GetAtoms():\n",
    "            if _atom.GetAtomicNum() in [7, 8]:\n",
    "                related.append(_atom.GetIdx())\n",
    "        related_atoms_list.append(related)\n",
    "        num_atoms_list.append(mol.GetNumHeavyAtoms())\n",
    "    \n",
    "    colsum_energy_list = [i.sum(axis=0) for i in energy_list]\n",
    "    related_energy_list = [colsum_energy_list[i][related_atoms_list[i]].sum() for i in range(len(colsum_energy_list))]\n",
    "    total_energy_list = [i.sum() for i in energy_list]\n",
    "\n",
    "    related_energy_tensor = torch.tensor(related_energy_list)\n",
    "    total_energy_tensor = torch.tensor(total_energy_list)\n",
    "    nonrelated_energy_tensor = total_energy_tensor - related_energy_tensor\n",
    "\n",
    "    bias = bias_list[0]\n",
    "    outleaky = torch.nn.LeakyReLU()\n",
    "\n",
    "    related_affinity = outleaky(bias + related_energy_tensor)\n",
    "    nonrelated_affinity = outleaky(bias + nonrelated_energy_tensor)\n",
    "    \n",
    "    info['related_affinity'] = related_affinity\n",
    "    info['nonrelated_affinity'] = nonrelated_affinity\n",
    "    \n",
    "    related_chosen = info.loc[info.groupby(['protein_name', 'smiles'],sort=False)['related_affinity'].agg('idxmax')].reset_index()\n",
    "    nonrelated_chosen = info.loc[info.groupby(['protein_name', 'smiles'],sort=False)['nonrelated_affinity'].agg('idxmax')].reset_index()\n",
    "    related_chosen.to_csv(f\"{pre}/result_chosen_related.csv\")"
   ]
  },
  {
   "cell_type": "markdown",
   "id": "a56077dc-6659-4662-be95-4ccfed2c1d91",
   "metadata": {},
   "source": [
    "# 以下暂时不用"
   ]
  },
  {
   "cell_type": "code",
   "execution_count": 104,
   "id": "20328763",
   "metadata": {},
   "outputs": [
    {
     "ename": "RuntimeError",
     "evalue": "Expected all tensors to be on the same device, but found at least two devices, cuda:0 and cpu! (when checking argument for argument index in method wrapper__index_select)",
     "output_type": "error",
     "traceback": [
      "\u001b[0;31m---------------------------------------------------------------------------\u001b[0m",
      "\u001b[0;31mRuntimeError\u001b[0m                              Traceback (most recent call last)",
      "Input \u001b[0;32mIn [104]\u001b[0m, in \u001b[0;36m<cell line: 10>\u001b[0;34m()\u001b[0m\n\u001b[1;32m      7\u001b[0m one_data \u001b[38;5;241m=\u001b[39m dataset[idx]\n\u001b[1;32m      8\u001b[0m data_with_batch_info \u001b[38;5;241m=\u001b[39m \u001b[38;5;28mnext\u001b[39m(\u001b[38;5;28miter\u001b[39m(DataLoader(dataset[idx:idx\u001b[38;5;241m+\u001b[39m\u001b[38;5;241m1\u001b[39m], batch_size\u001b[38;5;241m=\u001b[39m\u001b[38;5;241m1\u001b[39m, \n\u001b[1;32m      9\u001b[0m                          follow_batch\u001b[38;5;241m=\u001b[39m[\u001b[38;5;124m'\u001b[39m\u001b[38;5;124mx\u001b[39m\u001b[38;5;124m'\u001b[39m, \u001b[38;5;124m'\u001b[39m\u001b[38;5;124my\u001b[39m\u001b[38;5;124m'\u001b[39m, \u001b[38;5;124m'\u001b[39m\u001b[38;5;124mcompound_pair\u001b[39m\u001b[38;5;124m'\u001b[39m], shuffle\u001b[38;5;241m=\u001b[39m\u001b[38;5;28;01mFalse\u001b[39;00m, num_workers\u001b[38;5;241m=\u001b[39m\u001b[38;5;241m1\u001b[39m)))\n\u001b[0;32m---> 10\u001b[0m y_pred, affinity_pred \u001b[38;5;241m=\u001b[39m \u001b[43mmodel\u001b[49m\u001b[43m(\u001b[49m\u001b[43mdata_with_batch_info\u001b[49m\u001b[43m)\u001b[49m\n\u001b[1;32m     12\u001b[0m coords \u001b[38;5;241m=\u001b[39m one_data\u001b[38;5;241m.\u001b[39mcoords\u001b[38;5;241m.\u001b[39mto(device)\n\u001b[1;32m     13\u001b[0m protein_nodes_xyz \u001b[38;5;241m=\u001b[39m one_data\u001b[38;5;241m.\u001b[39mnode_xyz\u001b[38;5;241m.\u001b[39mto(device)\n",
      "File \u001b[0;32m/opt/conda/envs/tankbind_py38/lib/python3.8/site-packages/torch/nn/modules/module.py:1110\u001b[0m, in \u001b[0;36mModule._call_impl\u001b[0;34m(self, *input, **kwargs)\u001b[0m\n\u001b[1;32m   1106\u001b[0m \u001b[38;5;66;03m# If we don't have any hooks, we want to skip the rest of the logic in\u001b[39;00m\n\u001b[1;32m   1107\u001b[0m \u001b[38;5;66;03m# this function, and just call forward.\u001b[39;00m\n\u001b[1;32m   1108\u001b[0m \u001b[38;5;28;01mif\u001b[39;00m \u001b[38;5;129;01mnot\u001b[39;00m (\u001b[38;5;28mself\u001b[39m\u001b[38;5;241m.\u001b[39m_backward_hooks \u001b[38;5;129;01mor\u001b[39;00m \u001b[38;5;28mself\u001b[39m\u001b[38;5;241m.\u001b[39m_forward_hooks \u001b[38;5;129;01mor\u001b[39;00m \u001b[38;5;28mself\u001b[39m\u001b[38;5;241m.\u001b[39m_forward_pre_hooks \u001b[38;5;129;01mor\u001b[39;00m _global_backward_hooks\n\u001b[1;32m   1109\u001b[0m         \u001b[38;5;129;01mor\u001b[39;00m _global_forward_hooks \u001b[38;5;129;01mor\u001b[39;00m _global_forward_pre_hooks):\n\u001b[0;32m-> 1110\u001b[0m     \u001b[38;5;28;01mreturn\u001b[39;00m \u001b[43mforward_call\u001b[49m\u001b[43m(\u001b[49m\u001b[38;5;241;43m*\u001b[39;49m\u001b[38;5;28;43minput\u001b[39;49m\u001b[43m,\u001b[49m\u001b[43m \u001b[49m\u001b[38;5;241;43m*\u001b[39;49m\u001b[38;5;241;43m*\u001b[39;49m\u001b[43mkwargs\u001b[49m\u001b[43m)\u001b[49m\n\u001b[1;32m   1111\u001b[0m \u001b[38;5;66;03m# Do not call functions when jit is used\u001b[39;00m\n\u001b[1;32m   1112\u001b[0m full_backward_hooks, non_full_backward_hooks \u001b[38;5;241m=\u001b[39m [], []\n",
      "File \u001b[0;32m/home/jovyan/TankBind/examples/../tankbind/model.py:349\u001b[0m, in \u001b[0;36mforward\u001b[0;34m(self, data)\u001b[0m\n\u001b[1;32m    347\u001b[0m \u001b[38;5;28;01mdef\u001b[39;00m \u001b[38;5;21mforward\u001b[39m(\u001b[38;5;28mself\u001b[39m, data):\n\u001b[0;32m--> 349\u001b[0m     \u001b[38;5;28mprint\u001b[39m(os\u001b[38;5;241m.\u001b[39mgetcwd())\n\u001b[1;32m    350\u001b[0m     mylogs(\u001b[38;5;124m\"\u001b[39m\u001b[38;5;124m== IMODEL START======\u001b[39m\u001b[38;5;124m\"\u001b[39m)\n\u001b[1;32m    351\u001b[0m     \u001b[38;5;28;01mfor\u001b[39;00m _key \u001b[38;5;129;01min\u001b[39;00m data\u001b[38;5;241m.\u001b[39mkeys:\n",
      "File \u001b[0;32m/opt/conda/envs/tankbind_py38/lib/python3.8/site-packages/torch/nn/modules/module.py:1110\u001b[0m, in \u001b[0;36mModule._call_impl\u001b[0;34m(self, *input, **kwargs)\u001b[0m\n\u001b[1;32m   1106\u001b[0m \u001b[38;5;66;03m# If we don't have any hooks, we want to skip the rest of the logic in\u001b[39;00m\n\u001b[1;32m   1107\u001b[0m \u001b[38;5;66;03m# this function, and just call forward.\u001b[39;00m\n\u001b[1;32m   1108\u001b[0m \u001b[38;5;28;01mif\u001b[39;00m \u001b[38;5;129;01mnot\u001b[39;00m (\u001b[38;5;28mself\u001b[39m\u001b[38;5;241m.\u001b[39m_backward_hooks \u001b[38;5;129;01mor\u001b[39;00m \u001b[38;5;28mself\u001b[39m\u001b[38;5;241m.\u001b[39m_forward_hooks \u001b[38;5;129;01mor\u001b[39;00m \u001b[38;5;28mself\u001b[39m\u001b[38;5;241m.\u001b[39m_forward_pre_hooks \u001b[38;5;129;01mor\u001b[39;00m _global_backward_hooks\n\u001b[1;32m   1109\u001b[0m         \u001b[38;5;129;01mor\u001b[39;00m _global_forward_hooks \u001b[38;5;129;01mor\u001b[39;00m _global_forward_pre_hooks):\n\u001b[0;32m-> 1110\u001b[0m     \u001b[38;5;28;01mreturn\u001b[39;00m \u001b[43mforward_call\u001b[49m\u001b[43m(\u001b[49m\u001b[38;5;241;43m*\u001b[39;49m\u001b[38;5;28;43minput\u001b[39;49m\u001b[43m,\u001b[49m\u001b[43m \u001b[49m\u001b[38;5;241;43m*\u001b[39;49m\u001b[38;5;241;43m*\u001b[39;49m\u001b[43mkwargs\u001b[49m\u001b[43m)\u001b[49m\n\u001b[1;32m   1111\u001b[0m \u001b[38;5;66;03m# Do not call functions when jit is used\u001b[39;00m\n\u001b[1;32m   1112\u001b[0m full_backward_hooks, non_full_backward_hooks \u001b[38;5;241m=\u001b[39m [], []\n",
      "File \u001b[0;32m/home/jovyan/TankBind/examples/../tankbind/model.py:89\u001b[0m, in \u001b[0;36mforward\u001b[0;34m(self, h_V, edge_index, h_E, seq)\u001b[0m\n\u001b[1;32m     80\u001b[0m     node_in_dim \u001b[38;5;241m=\u001b[39m (node_in_dim[\u001b[38;5;241m0\u001b[39m] \u001b[38;5;241m+\u001b[39m \u001b[38;5;241m20\u001b[39m, node_in_dim[\u001b[38;5;241m1\u001b[39m])\n\u001b[1;32m     82\u001b[0m \u001b[38;5;28mself\u001b[39m\u001b[38;5;241m.\u001b[39mW_v \u001b[38;5;241m=\u001b[39m nn\u001b[38;5;241m.\u001b[39mSequential(\n\u001b[1;32m     83\u001b[0m     LayerNorm(node_in_dim),\n\u001b[1;32m     84\u001b[0m     GVP(node_in_dim, node_h_dim, activations\u001b[38;5;241m=\u001b[39m(\u001b[38;5;28;01mNone\u001b[39;00m, \u001b[38;5;28;01mNone\u001b[39;00m))\n\u001b[1;32m     85\u001b[0m )\n\u001b[1;32m     86\u001b[0m \u001b[38;5;28mself\u001b[39m\u001b[38;5;241m.\u001b[39mW_e \u001b[38;5;241m=\u001b[39m nn\u001b[38;5;241m.\u001b[39mSequential(\n\u001b[1;32m     87\u001b[0m     LayerNorm(edge_in_dim),\n\u001b[1;32m     88\u001b[0m     GVP(edge_in_dim, edge_h_dim, activations\u001b[38;5;241m=\u001b[39m(\u001b[38;5;28;01mNone\u001b[39;00m, \u001b[38;5;28;01mNone\u001b[39;00m))\n\u001b[0;32m---> 89\u001b[0m )\n\u001b[1;32m     91\u001b[0m \u001b[38;5;28mself\u001b[39m\u001b[38;5;241m.\u001b[39mlayers \u001b[38;5;241m=\u001b[39m nn\u001b[38;5;241m.\u001b[39mModuleList(\n\u001b[1;32m     92\u001b[0m         GVPConvLayer(node_h_dim, edge_h_dim, drop_rate\u001b[38;5;241m=\u001b[39mdrop_rate) \n\u001b[1;32m     93\u001b[0m     \u001b[38;5;28;01mfor\u001b[39;00m _ \u001b[38;5;129;01min\u001b[39;00m \u001b[38;5;28mrange\u001b[39m(num_layers))\n\u001b[1;32m     95\u001b[0m ns, _ \u001b[38;5;241m=\u001b[39m node_h_dim\n",
      "File \u001b[0;32m/opt/conda/envs/tankbind_py38/lib/python3.8/site-packages/torch/nn/modules/module.py:1110\u001b[0m, in \u001b[0;36mModule._call_impl\u001b[0;34m(self, *input, **kwargs)\u001b[0m\n\u001b[1;32m   1106\u001b[0m \u001b[38;5;66;03m# If we don't have any hooks, we want to skip the rest of the logic in\u001b[39;00m\n\u001b[1;32m   1107\u001b[0m \u001b[38;5;66;03m# this function, and just call forward.\u001b[39;00m\n\u001b[1;32m   1108\u001b[0m \u001b[38;5;28;01mif\u001b[39;00m \u001b[38;5;129;01mnot\u001b[39;00m (\u001b[38;5;28mself\u001b[39m\u001b[38;5;241m.\u001b[39m_backward_hooks \u001b[38;5;129;01mor\u001b[39;00m \u001b[38;5;28mself\u001b[39m\u001b[38;5;241m.\u001b[39m_forward_hooks \u001b[38;5;129;01mor\u001b[39;00m \u001b[38;5;28mself\u001b[39m\u001b[38;5;241m.\u001b[39m_forward_pre_hooks \u001b[38;5;129;01mor\u001b[39;00m _global_backward_hooks\n\u001b[1;32m   1109\u001b[0m         \u001b[38;5;129;01mor\u001b[39;00m _global_forward_hooks \u001b[38;5;129;01mor\u001b[39;00m _global_forward_pre_hooks):\n\u001b[0;32m-> 1110\u001b[0m     \u001b[38;5;28;01mreturn\u001b[39;00m \u001b[43mforward_call\u001b[49m\u001b[43m(\u001b[49m\u001b[38;5;241;43m*\u001b[39;49m\u001b[38;5;28;43minput\u001b[39;49m\u001b[43m,\u001b[49m\u001b[43m \u001b[49m\u001b[38;5;241;43m*\u001b[39;49m\u001b[38;5;241;43m*\u001b[39;49m\u001b[43mkwargs\u001b[49m\u001b[43m)\u001b[49m\n\u001b[1;32m   1111\u001b[0m \u001b[38;5;66;03m# Do not call functions when jit is used\u001b[39;00m\n\u001b[1;32m   1112\u001b[0m full_backward_hooks, non_full_backward_hooks \u001b[38;5;241m=\u001b[39m [], []\n",
      "File \u001b[0;32m/opt/conda/envs/tankbind_py38/lib/python3.8/site-packages/torch/nn/modules/sparse.py:158\u001b[0m, in \u001b[0;36mEmbedding.forward\u001b[0;34m(self, input)\u001b[0m\n\u001b[1;32m    157\u001b[0m \u001b[38;5;28;01mdef\u001b[39;00m \u001b[38;5;21mforward\u001b[39m(\u001b[38;5;28mself\u001b[39m, \u001b[38;5;28minput\u001b[39m: Tensor) \u001b[38;5;241m-\u001b[39m\u001b[38;5;241m>\u001b[39m Tensor:\n\u001b[0;32m--> 158\u001b[0m     \u001b[38;5;28;01mreturn\u001b[39;00m \u001b[43mF\u001b[49m\u001b[38;5;241;43m.\u001b[39;49m\u001b[43membedding\u001b[49m\u001b[43m(\u001b[49m\n\u001b[1;32m    159\u001b[0m \u001b[43m        \u001b[49m\u001b[38;5;28;43minput\u001b[39;49m\u001b[43m,\u001b[49m\u001b[43m \u001b[49m\u001b[38;5;28;43mself\u001b[39;49m\u001b[38;5;241;43m.\u001b[39;49m\u001b[43mweight\u001b[49m\u001b[43m,\u001b[49m\u001b[43m \u001b[49m\u001b[38;5;28;43mself\u001b[39;49m\u001b[38;5;241;43m.\u001b[39;49m\u001b[43mpadding_idx\u001b[49m\u001b[43m,\u001b[49m\u001b[43m \u001b[49m\u001b[38;5;28;43mself\u001b[39;49m\u001b[38;5;241;43m.\u001b[39;49m\u001b[43mmax_norm\u001b[49m\u001b[43m,\u001b[49m\n\u001b[1;32m    160\u001b[0m \u001b[43m        \u001b[49m\u001b[38;5;28;43mself\u001b[39;49m\u001b[38;5;241;43m.\u001b[39;49m\u001b[43mnorm_type\u001b[49m\u001b[43m,\u001b[49m\u001b[43m \u001b[49m\u001b[38;5;28;43mself\u001b[39;49m\u001b[38;5;241;43m.\u001b[39;49m\u001b[43mscale_grad_by_freq\u001b[49m\u001b[43m,\u001b[49m\u001b[43m \u001b[49m\u001b[38;5;28;43mself\u001b[39;49m\u001b[38;5;241;43m.\u001b[39;49m\u001b[43msparse\u001b[49m\u001b[43m)\u001b[49m\n",
      "File \u001b[0;32m/opt/conda/envs/tankbind_py38/lib/python3.8/site-packages/torch/nn/functional.py:2183\u001b[0m, in \u001b[0;36membedding\u001b[0;34m(input, weight, padding_idx, max_norm, norm_type, scale_grad_by_freq, sparse)\u001b[0m\n\u001b[1;32m   2177\u001b[0m     \u001b[38;5;66;03m# Note [embedding_renorm set_grad_enabled]\u001b[39;00m\n\u001b[1;32m   2178\u001b[0m     \u001b[38;5;66;03m# XXX: equivalent to\u001b[39;00m\n\u001b[1;32m   2179\u001b[0m     \u001b[38;5;66;03m# with torch.no_grad():\u001b[39;00m\n\u001b[1;32m   2180\u001b[0m     \u001b[38;5;66;03m#   torch.embedding_renorm_\u001b[39;00m\n\u001b[1;32m   2181\u001b[0m     \u001b[38;5;66;03m# remove once script supports set_grad_enabled\u001b[39;00m\n\u001b[1;32m   2182\u001b[0m     _no_grad_embedding_renorm_(weight, \u001b[38;5;28minput\u001b[39m, max_norm, norm_type)\n\u001b[0;32m-> 2183\u001b[0m \u001b[38;5;28;01mreturn\u001b[39;00m \u001b[43mtorch\u001b[49m\u001b[38;5;241;43m.\u001b[39;49m\u001b[43membedding\u001b[49m\u001b[43m(\u001b[49m\u001b[43mweight\u001b[49m\u001b[43m,\u001b[49m\u001b[43m \u001b[49m\u001b[38;5;28;43minput\u001b[39;49m\u001b[43m,\u001b[49m\u001b[43m \u001b[49m\u001b[43mpadding_idx\u001b[49m\u001b[43m,\u001b[49m\u001b[43m \u001b[49m\u001b[43mscale_grad_by_freq\u001b[49m\u001b[43m,\u001b[49m\u001b[43m \u001b[49m\u001b[43msparse\u001b[49m\u001b[43m)\u001b[49m\n",
      "\u001b[0;31mRuntimeError\u001b[0m: Expected all tensors to be on the same device, but found at least two devices, cuda:0 and cpu! (when checking argument for argument index in method wrapper__index_select)"
     ]
    }
   ],
   "source": [
    "from generation_utils import get_LAS_distance_constraint_mask, get_info_pred_distance, write_with_new_coords\n",
    "# pick one with affinity greater than 7.\n",
    "chosen = info.loc[info.groupby(['protein_name', 'smiles'],sort=False)['affinity'].agg('idxmax')].reset_index()\n",
    "chosen = chosen.query(\"affinity > 7\").reset_index(drop=True)\n",
    "line = chosen.iloc[0]\n",
    "idx = line['index']\n",
    "one_data = dataset[idx]\n",
    "data_with_batch_info = next(iter(DataLoader(dataset[idx:idx+1], batch_size=1, \n",
    "                         follow_batch=['x', 'y', 'compound_pair'], shuffle=False, num_workers=1)))\n",
    "y_pred, affinity_pred = model(data_with_batch_info)\n",
    "\n",
    "coords = one_data.coords.to(device)\n",
    "protein_nodes_xyz = one_data.node_xyz.to(device)\n",
    "n_compound = coords.shape[0]\n",
    "n_protein = protein_nodes_xyz.shape[0]\n",
    "y_pred = y_pred.reshape(n_protein, n_compound).to(device).detach()\n",
    "y = one_data.dis_map.reshape(n_protein, n_compound).to(device)\n",
    "compound_pair_dis_constraint = torch.cdist(coords, coords)"
   ]
  },
  {
   "cell_type": "code",
   "execution_count": null,
   "id": "e0100c08",
   "metadata": {},
   "outputs": [],
   "source": [
    "smiles = line['smiles']\n",
    "print(smiles)\n",
    "mol = Chem.MolFromSmiles(smiles)\n",
    "mol.Compute2DCoords()\n",
    "LAS_distance_constraint_mask = get_LAS_distance_constraint_mask(mol).bool()\n",
    "info = get_info_pred_distance(coords, y_pred, protein_nodes_xyz, compound_pair_dis_constraint, \n",
    "                              LAS_distance_constraint_mask=LAS_distance_constraint_mask,\n",
    "                              n_repeat=1, show_progress=False)\n",
    "toFile = f'{base_pre}/one_tankbind.sdf'\n",
    "new_coords = info.sort_values(\"loss\")['coords'].iloc[0].astype(np.double)\n",
    "write_with_new_coords(mol, new_coords, toFile)"
   ]
  },
  {
   "cell_type": "code",
   "execution_count": null,
   "id": "7c604bce",
   "metadata": {},
   "outputs": [],
   "source": [
    "import nglview   # conda install nglview -c conda-forge if import failure\n",
    "\n",
    "proteinName = \"6dlo\"\n",
    "proteinFile = f\"{base_pre}/{proteinName}.pdb\"\n",
    "view = nglview.show_file(nglview.FileStructure(proteinFile), default=False)\n",
    "view.add_representation('cartoon', selection='protein', color='white')\n",
    "\n",
    "predictedFile = f'{base_pre}/one_tankbind.sdf'\n",
    "rdkit = view.add_component(nglview.FileStructure(predictedFile), default=False)\n",
    "rdkit.add_ball_and_stick(color='red')\n",
    "view"
   ]
  },
  {
   "cell_type": "code",
   "execution_count": null,
   "id": "6216d7de",
   "metadata": {},
   "outputs": [],
   "source": [
    "view.render_image()"
   ]
  },
  {
   "cell_type": "code",
   "execution_count": null,
   "id": "949e363e",
   "metadata": {},
   "outputs": [],
   "source": [
    "view._display_image()"
   ]
  },
  {
   "cell_type": "code",
   "execution_count": null,
   "id": "13b68e83-0b11-4ba3-b624-bd5ec29241ce",
   "metadata": {},
   "outputs": [],
   "source": []
  },
  {
   "cell_type": "code",
   "execution_count": null,
   "id": "b357a8e7-ae7c-4b45-b311-7dfef6fd225c",
   "metadata": {},
   "outputs": [],
   "source": []
  },
  {
   "cell_type": "code",
   "execution_count": null,
   "id": "2d894a43-d13c-420e-9f95-1c3170dffe13",
   "metadata": {},
   "outputs": [],
   "source": []
  },
  {
   "cell_type": "code",
   "execution_count": null,
   "id": "77f287a6-da53-4eef-977e-9ede12ca0f98",
   "metadata": {},
   "outputs": [],
   "source": []
  }
 ],
 "metadata": {
  "kernelspec": {
   "display_name": "Python 3.8.13 ('tankbind_py38')",
   "language": "python",
   "name": "python3"
  },
  "language_info": {
   "codemirror_mode": {
    "name": "ipython",
    "version": 3
   },
   "file_extension": ".py",
   "mimetype": "text/x-python",
   "name": "python",
   "nbconvert_exporter": "python",
   "pygments_lexer": "ipython3",
   "version": "3.8.13"
  },
  "vscode": {
   "interpreter": {
    "hash": "3642610297c2db0c2e515b5d6934e6fa60bcae4d2e973dd2c51cba19538092f6"
   }
  }
 },
 "nbformat": 4,
 "nbformat_minor": 5
}
