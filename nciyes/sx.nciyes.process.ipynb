{
 "cells": [
  {
   "cell_type": "markdown",
   "metadata": {},
   "source": [
    "# sx.nciyes.process.ipynb\n",
    "\n",
    "Notebook for processing input datas."
   ]
  },
  {
   "cell_type": "code",
   "execution_count": 28,
   "metadata": {},
   "outputs": [],
   "source": [
    "\n",
    "nci_fpath = \"../../data/ExptNCI/merged_0304.csv\"\n",
    "nci_save_fpath = \"./Inputs/Dev/dev.nci.csv\"\n",
    "\n",
    "pdbbind_path = \"../../data/pdbbind2020/refined-set/\" # for .pdb files\n",
    "#hbligand_path = \"../../data/HBLigand/\" # for .\n",
    "\n",
    "pdbs_save_path = \"./Inputs/Dev/RenamedPDBBind/\"\n",
    "pdb_list_save_fpath = \"./Inputs/Dev/dev.pdbs.csv\"\n",
    "\n",
    "ligands_save_path = \"./Inputs/Dev/RenamedPDBBind/\"\n",
    "ligand_list_save_fpath = \"./Inputs/Dev/dev.ligands.csv\"\n",
    "\n",
    "target_pdb_list = ['1g35']"
   ]
  },
  {
   "cell_type": "markdown",
   "metadata": {},
   "source": [
    "### NCI data processing"
   ]
  },
  {
   "cell_type": "code",
   "execution_count": 30,
   "metadata": {},
   "outputs": [
    {
     "name": "stdout",
     "output_type": "stream",
     "text": [
      "Processed NCIs file save to ./Inputs/Dev/dev.nci.csv\n"
     ]
    }
   ],
   "source": [
    "import pandas as pd\n",
    "nci_data = pd.read_csv(nci_fpath)\n",
    "nci_data = nci_data[nci_data.PDB_Code.isin(target_pdb_list)]\n",
    "nci_data = nci_data[(nci_data[\"ED_2.5A\"]>=0)|(nci_data[\"ED_3.5A\"]>=0)]\n",
    "nci_data = nci_data[nci_data.Group==\"protein\"]\n",
    "nci_data[\"ResFullID\"] = nci_data[\"ChainID\"]+\"_\"+nci_data[\"ResID\"].astype(str)\n",
    "nci_data.to_csv(nci_save_fpath)\n",
    "print(f\"Processed NCIs file save to {nci_save_fpath}\")"
   ]
  },
  {
   "cell_type": "markdown",
   "metadata": {},
   "source": [
    "### PDB and ligand file processing"
   ]
  },
  {
   "cell_type": "code",
   "execution_count": 26,
   "metadata": {},
   "outputs": [],
   "source": [
    "import re\n",
    "import os\n",
    "import shutil\n",
    "\n",
    "class MolStructureError(Exception):\n",
    "    def __init__(self, errorinfo):\n",
    "        super().__init__()\n",
    "        self.errorinfo = errorinfo\n",
    "    def __str__(self):\n",
    "        return self.errorinfo"
   ]
  },
  {
   "cell_type": "code",
   "execution_count": 27,
   "metadata": {},
   "outputs": [
    {
     "name": "stdout",
     "output_type": "stream",
     "text": [
      "Processing .pdb and .mol2 files:\n",
      "  Processing pdb 1g35:\n",
      "    Copy ../../data/pdbbind2020/refined-set/1g35/1g35_protein.pdb to ./Inputs/Dev/RenamedPDBBind/1g35_protein.pdb\n",
      "    Copy ../../data/pdbbind2020/refined-set/1g35/1g35_ligand.mol2 to ./Inputs/Dev/RenamedPDBBind/1g35_ligand_AHF.mol2\n",
      "Protein list infomation saved to ./Inputs/Dev/dev.pdbs.csv.\n",
      "Ligand list infomation saved to ./Inputs/Dev/dev.ligands.csv.\n"
     ]
    }
   ],
   "source": [
    "pdb_df_list = []\n",
    "ligand_df_list = []\n",
    "print(\"Processing .pdb and .mol2 files:\")\n",
    "for _pdb in target_pdb_list:\n",
    "    print(f\"  Processing pdb {_pdb}:\")\n",
    "    shutil.copy(f\"{pdbbind_path}{_pdb}/{_pdb}_protein.pdb\", f\"{pdbs_save_path}{_pdb}_protein.pdb\")\n",
    "    print(f\"    Copy {pdbbind_path}{_pdb}/{_pdb}_protein.pdb to {pdbs_save_path}{_pdb}_protein.pdb\")\n",
    "    with open(f\"{pdbbind_path}{_pdb}/{_pdb}_ligand.mol2\", \"r\") as f:\n",
    "        for i in range(13):\n",
    "            text = f.readline()\n",
    "        text = text.split()\n",
    "        if (text[0] == \"1\") and (text[-2] != \"UNK\"):\n",
    "            ligand_name = text[-2]\n",
    "    shutil.copy(f\"{pdbbind_path}{_pdb}/{_pdb}_ligand.mol2\", f\"{ligands_save_path}{_pdb}_ligand_{ligand_name}.mol2\")\n",
    "    print(f\"    Copy {pdbbind_path}{_pdb}/{_pdb}_ligand.mol2 to {ligands_save_path}{_pdb}_ligand_{ligand_name}.mol2\")\n",
    "    pdb_df_list.append([_pdb, f\"{pdbs_save_path}{_pdb}_protein.pdb\"])\n",
    "    ligand_df_list.append([_pdb, ligand_name, f\"{ligands_save_path}{_pdb}_ligand_{ligand_name}.mol2\"])\n",
    "    \n",
    "pdb_df = pd.DataFrame(pdb_df_list, columns=[\"pdb_code\", \"pdb_fpath\"])\n",
    "pdb_df.to_csv(pdb_list_save_fpath)\n",
    "print(f\"Protein list infomation saved to {pdb_list_save_fpath}.\")\n",
    "ligand_df = pd.DataFrame(ligand_df_list, columns=[\"pdb_code\", \"ligand_name\", \"ligand_fpath\"])\n",
    "ligand_df.to_csv(ligand_list_save_fpath)\n",
    "print(f\"Ligand list infomation saved to {ligand_list_save_fpath}.\")"
   ]
  }
 ],
 "metadata": {
  "kernelspec": {
   "display_name": "Python 3.8.13 ('tankbind_py38')",
   "language": "python",
   "name": "python3"
  },
  "language_info": {
   "codemirror_mode": {
    "name": "ipython",
    "version": 3
   },
   "file_extension": ".py",
   "mimetype": "text/x-python",
   "name": "python",
   "nbconvert_exporter": "python",
   "pygments_lexer": "ipython3",
   "version": "3.8.13"
  },
  "orig_nbformat": 4,
  "vscode": {
   "interpreter": {
    "hash": "3642610297c2db0c2e515b5d6934e6fa60bcae4d2e973dd2c51cba19538092f6"
   }
  }
 },
 "nbformat": 4,
 "nbformat_minor": 2
}
