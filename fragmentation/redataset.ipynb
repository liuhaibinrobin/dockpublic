{
 "cells": [
  {
   "cell_type": "code",
   "execution_count": 1,
   "id": "d28e788a-e418-48e6-8cca-5b89b6a66d56",
   "metadata": {},
   "outputs": [],
   "source": [
    "import numpy as np\n",
    "import torch"
   ]
  },
  {
   "cell_type": "code",
   "execution_count": 2,
   "id": "bb8656a6-e9f1-4daf-8afc-a6bc90d255b0",
   "metadata": {},
   "outputs": [],
   "source": [
    "atom_types = [\n",
    "    'N', 'CA', 'C', 'CB', 'O', 'CG', 'CG1', 'CG2', 'OG', 'OG1', 'SG', 'CD',\n",
    "    'CD1', 'CD2', 'ND1', 'ND2', 'OD1', 'OD2', 'SD', 'CE', 'CE1', 'CE2', 'CE3',\n",
    "    'NE', 'NE1', 'NE2', 'OE1', 'OE2', 'CH2', 'NH1', 'NH2', 'OH', 'CZ', 'CZ2',\n",
    "    'CZ3', 'NZ', 'OXT'\n",
    "]"
   ]
  },
  {
   "cell_type": "code",
   "execution_count": 3,
   "id": "eb92a845-7919-4b01-95c1-5663ca67f50a",
   "metadata": {},
   "outputs": [],
   "source": [
    "restypes = [\n",
    "    'A', 'R', 'N', 'D', 'C', 'Q', 'E', 'G', 'H', 'I', 'L', 'K', 'M', 'F', 'P',\n",
    "    'S', 'T', 'W', 'Y', 'V'\n",
    "]"
   ]
  },
  {
   "cell_type": "code",
   "execution_count": 4,
   "id": "6678c4ca-a6e3-4f7c-981f-74811c928561",
   "metadata": {},
   "outputs": [],
   "source": [
    "restype_1to3 = {\n",
    "    'A': 'ALA',\n",
    "    'R': 'ARG',\n",
    "    'N': 'ASN',\n",
    "    'D': 'ASP',\n",
    "    'C': 'CYS',\n",
    "    'Q': 'GLN',\n",
    "    'E': 'GLU',\n",
    "    'G': 'GLY',\n",
    "    'H': 'HIS',\n",
    "    'I': 'ILE',\n",
    "    'L': 'LEU',\n",
    "    'K': 'LYS',\n",
    "    'M': 'MET',\n",
    "    'F': 'PHE',\n",
    "    'P': 'PRO',\n",
    "    'S': 'SER',\n",
    "    'T': 'THR',\n",
    "    'W': 'TRP',\n",
    "    'Y': 'TYR',\n",
    "    'V': 'VAL',\n",
    "}\n",
    "restype_3to1 = {v: k for k, v in restype_1to3.items()}"
   ]
  },
  {
   "cell_type": "code",
   "execution_count": 5,
   "id": "a1f63710-efdf-4d59-844e-5bebd10b8c95",
   "metadata": {},
   "outputs": [],
   "source": [
    "#alphafold分出来的4类片段\n",
    "chi_angles_atoms = {\n",
    "    'ALA': [],\n",
    "    # Chi5 in arginine is always 0 +- 5 degrees, so ignore it.\n",
    "    'ARG': [['N', 'CA', 'CB', 'CG'], ['CA', 'CB', 'CG', 'CD'],\n",
    "            ['CB', 'CG', 'CD', 'NE'], ['CG', 'CD', 'NE', 'CZ']],\n",
    "    'ASN': [['N', 'CA', 'CB', 'CG'], ['CA', 'CB', 'CG', 'OD1']],\n",
    "    'ASP': [['N', 'CA', 'CB', 'CG'], ['CA', 'CB', 'CG', 'OD1']],\n",
    "    'CYS': [['N', 'CA', 'CB', 'SG']],\n",
    "    'GLN': [['N', 'CA', 'CB', 'CG'], ['CA', 'CB', 'CG', 'CD'],\n",
    "            ['CB', 'CG', 'CD', 'OE1']],\n",
    "    'GLU': [['N', 'CA', 'CB', 'CG'], ['CA', 'CB', 'CG', 'CD'],\n",
    "            ['CB', 'CG', 'CD', 'OE1']],\n",
    "    'GLY': [],\n",
    "    'HIS': [['N', 'CA', 'CB', 'CG'], ['CA', 'CB', 'CG', 'ND1']],\n",
    "    'ILE': [['N', 'CA', 'CB', 'CG1'], ['CA', 'CB', 'CG1', 'CD1']],\n",
    "    'LEU': [['N', 'CA', 'CB', 'CG'], ['CA', 'CB', 'CG', 'CD1']],\n",
    "    'LYS': [['N', 'CA', 'CB', 'CG'], ['CA', 'CB', 'CG', 'CD'],\n",
    "            ['CB', 'CG', 'CD', 'CE'], ['CG', 'CD', 'CE', 'NZ']],\n",
    "    'MET': [['N', 'CA', 'CB', 'CG'], ['CA', 'CB', 'CG', 'SD'],\n",
    "            ['CB', 'CG', 'SD', 'CE']],\n",
    "    'PHE': [['N', 'CA', 'CB', 'CG'], ['CA', 'CB', 'CG', 'CD1']],\n",
    "    'PRO': [['N', 'CA', 'CB', 'CG'], ['CA', 'CB', 'CG', 'CD']],\n",
    "    'SER': [['N', 'CA', 'CB', 'OG']],\n",
    "    'THR': [['N', 'CA', 'CB', 'OG1']],\n",
    "    'TRP': [['N', 'CA', 'CB', 'CG'], ['CA', 'CB', 'CG', 'CD1']],\n",
    "    'TYR': [['N', 'CA', 'CB', 'CG'], ['CA', 'CB', 'CG', 'CD1']],\n",
    "    'VAL': [['N', 'CA', 'CB', 'CG1']],\n",
    "}\n"
   ]
  },
  {
   "cell_type": "code",
   "execution_count": 6,
   "id": "eb9b2dfe-e97b-43dd-ad87-b19545abec9a",
   "metadata": {},
   "outputs": [],
   "source": [
    "tankbind_src_folder_path = \"../tankbind/\"\n",
    "import sys\n",
    "sys.path.insert(0, tankbind_src_folder_path)\n",
    "import os\n",
    "import numpy as np\n",
    "import pandas as pd\n",
    "from tqdm import tqdm\n",
    "import time\n",
    "import gvp\n",
    "import gvp.data\n",
    "from feature_utils import get_protein_feature\n",
    "pdb_name = \"6scm\"\n",
    "cp_name = \"SOS1\"\n",
    "# csv_name with .csv\n",
    "csv_name = \"SOS1-ID-SMILES.csv\"\n",
    "right_pocket = \"pocket_4\"\n",
    "distinguish_by_timestamp = True\n",
    "base_pre = f\"./NCIVS/\"\n",
    "timetag = time.strftime(\"%m%d%H%M\")\n",
    "\n",
    "if distinguish_by_timestamp:\n",
    "    pre = f\"{base_pre}/{cp_name}-{pdb_name}-{timetag}\"\n",
    "else:\n",
    "    pre = f\"{base_pre}/{cp_name}-{pdb_name}\"\n",
    "\n",
    "os.system(f\"mkdir -p {pre}\")\n",
    "os.system(f\"rm -rf {pre}/sdfs\")\n",
    "os.system(f\"mkdir -p {pre}/sdfs\")\n",
    "os.system(f\"rm -rf {pre}/PDBs\")\n",
    "os.system(f\"mkdir -p {pre}/PDBs\")\n",
    "os.system(f\"rm -rf {pre}/p2rank\")\n",
    "os.system(f\"mkdir -p {pre}/p2rank\")\n",
    "os.system(f\"cp ./inputs/{csv_name} {pre}\")\n",
    "os.system(f\"cp ./inputs/{pdb_name}.pdb {pre}\")\n",
    "\n",
    "proteinName = pdb_name\n",
    "proteinFile = f\"{pre}/{proteinName}.pdb\""
   ]
  },
  {
   "cell_type": "code",
   "execution_count": 7,
   "id": "c9b388b1-796c-480f-8b44-ead28b40e222",
   "metadata": {},
   "outputs": [],
   "source": [
    "from Bio.PDB import PDBParser\n",
    "from feature_utils import get_clean_res_list\n",
    "parser = PDBParser(QUIET=True)\n",
    "protein_dict = {}\n",
    "proteinName = pdb_name\n",
    "proteinFile = f\"{pre}/{proteinName}.pdb\"\n",
    "s = parser.get_structure(\"example\", proteinFile)\n",
    "res_list = list(s.get_residues())\n",
    "clean_res_list = get_clean_res_list(res_list, ensure_ca_exist=True)  ##保证['CA']在残基内部"
   ]
  },
  {
   "cell_type": "code",
   "execution_count": 8,
   "id": "c189c153-e2c6-4ecc-a774-9879f9379a17",
   "metadata": {},
   "outputs": [],
   "source": [
    "res_list = [res for res in clean_res_list if (('N' in res) and ('CA' in res) and ('C' in res) and ('O' in res))]"
   ]
  },
  {
   "cell_type": "code",
   "execution_count": 9,
   "id": "0ed69d24-33a3-4831-8dc1-0c6e263b628a",
   "metadata": {},
   "outputs": [],
   "source": [
    "## define x1,x2,x3,x4\n",
    "def dihedral_angle(a, b, c, d):\n",
    "    \"\"\"return the dihedral angle of plan abc and bcd\"\"\"\n",
    "    v1 = a - b\n",
    "    v2 = b - c\n",
    "    v3 = d - c\n",
    "\n",
    "    c1 = np.cross(v1, v2)\n",
    "    c2 = np.cross(v3, v2)\n",
    "    c3 = np.cross(c2, c1)\n",
    "\n",
    "    v2_mag = np.linalg.norm(v2)\n",
    "    return np.arctan2(np.dot(c3, v2), v2_mag * np.dot(c1, c2))\n",
    "\n",
    "def sidechain_angle(res_list, chi_angles_atoms):\n",
    "    \"\"\"\n",
    "    return \n",
    "    1. list of sidechain angles chi1,2,3,4, shape=[len(res_list, 4)]\n",
    "    2. the ids of res which is not complete\n",
    "    \"\"\"\n",
    "    double_res_list = ['HIS', 'ASN', 'GLN', 'TRP', 'TYR']\n",
    "    dihedral_angle_list_t = []\n",
    "    broken_res_id = []\n",
    "    for res in res_list:\n",
    "        dihedral_angle_list = []\n",
    "        chi_angles_list = chi_angles_atoms[res.resname]\n",
    "        chi_angles_list_len = len(chi_angles_list)\n",
    "        if chi_angles_list_len != 0:\n",
    "            for group in chi_angles_list:\n",
    "                if (group[0] not in res) or (group[1] not in res) or (group[2] not in res) or (group[3] not in res):\n",
    "                    # print(res.get_full_id()[3][1])\n",
    "                    broken_res_id.append(res.get_full_id()[3][1])\n",
    "                    continue\n",
    "                angle_x = dihedral_angle(res[group[0]].coord, res[group[1]].coord,\\\n",
    "                                                res[group[2]].coord, res[group[3]].coord)\n",
    "                dihedral_angle_list.append(angle_x)\n",
    "        if len(dihedral_angle_list) != 4:\n",
    "            for i in range(4 - len(dihedral_angle_list)):\n",
    "                dihedral_angle_list.append(0)\n",
    "        if res.get_full_id()[3][1] not in broken_res_id:\n",
    "            if res.resname in double_res_list:\n",
    "                dihedral_angle_list_t.append(dihedral_angle_list) # double res according to the sidec num\n",
    "                dihedral_angle_list_t.append(dihedral_angle_list)\n",
    "            else:\n",
    "                dihedral_angle_list_t.append(dihedral_angle_list) \n",
    "    broken_res_id = list(set(broken_res_id))\n",
    "    broken_res_id.sort()\n",
    "    return dihedral_angle_list_t, broken_res_id"
   ]
  },
  {
   "cell_type": "code",
   "execution_count": 10,
   "id": "0e4e885d-31f7-4ec5-80fa-17fd99ed8780",
   "metadata": {},
   "outputs": [],
   "source": [
    "dihedral_angle_list_t, broken_res_id = sidechain_angle(res_list, chi_angles_atoms)"
   ]
  },
  {
   "cell_type": "code",
   "execution_count": 11,
   "id": "4e60ecf9-3dd0-4987-9ca6-f5f9ee318957",
   "metadata": {},
   "outputs": [
    {
     "data": {
      "text/plain": [
       "535"
      ]
     },
     "execution_count": 11,
     "metadata": {},
     "output_type": "execute_result"
    }
   ],
   "source": [
    "len(dihedral_angle_list_t)"
   ]
  },
  {
   "cell_type": "code",
   "execution_count": 12,
   "id": "427111f4-263f-456f-be31-90ddeddcbb4f",
   "metadata": {},
   "outputs": [
    {
     "data": {
      "text/plain": [
       "('example', 0, 'A', (' ', 564, ' '))"
      ]
     },
     "execution_count": 12,
     "metadata": {},
     "output_type": "execute_result"
    }
   ],
   "source": [
    "res_list[0].get_full_id()"
   ]
  },
  {
   "cell_type": "code",
   "execution_count": 15,
   "id": "a3aa049a-cc6f-4fb4-a595-72061e248f58",
   "metadata": {},
   "outputs": [],
   "source": [
    "def clean_broken_res(res_list, broken_res_id):\n",
    "    \"\"\"remove broken res from broken_res_id and double res according to the sidec num\"\"\"\n",
    "    clean_broken_res = []\n",
    "    clean_broken_res_double = []\n",
    "    double_res_list = ['HIS', 'ASN', 'GLN', 'TRP', 'TYR']\n",
    "    for res in res_list:\n",
    "        if res.get_full_id()[3][1] not in broken_res_id:\n",
    "            clean_broken_res.append(res)\n",
    "            if res.resname in double_res_list:\n",
    "                clean_broken_res_double.append(res)\n",
    "                clean_broken_res_double.append(res)\n",
    "            else:\n",
    "                clean_broken_res_double.append(res)\n",
    "    return clean_broken_res, clean_broken_res_double\n",
    "clean_broken_res_l, clean_broken_res_double = clean_broken_res(res_list, broken_res_id)"
   ]
  },
  {
   "cell_type": "code",
   "execution_count": 16,
   "id": "54185504-e60d-49ea-af7b-5d0678da6aed",
   "metadata": {},
   "outputs": [],
   "source": [
    "sidec_dict = {\n",
    "    'ALA': ['N'], \n",
    "    'CYS': ['SG'], \n",
    "    'ASP': ['OD2'], \n",
    "    'GLU': ['OE2'], \n",
    "    'PHE': ['CE1','CE2','CD1','CD2','CG','CZ'], \n",
    "    'GLY': ['N'], \n",
    "    'HIS': [['NE2'],['ND1']],   \n",
    "    'ILE': ['CD1'], \n",
    "    'LYS': ['NZ'], \n",
    "    'LEU': ['CG'], \n",
    "    'MET': ['SD'], \n",
    "    'ASN': [['OD1'],['ND2']], \n",
    "    'PRO': ['N'], \n",
    "    'GLN': [['OE1'],['NE2']], \n",
    "    'ARG': ['CZ'], \n",
    "    'SER': ['OG'], \n",
    "    'THR': ['OG1'], \n",
    "    'VAL': ['CB'], \n",
    "    'TRP': [['NE1'], ['CE2','CD2','CE3','CZ3','CH2','CZ2']], \n",
    "    'TYR': [['OH'], ['CE1','CE2','CD1','CD2','CG','CZ']]\n",
    "}"
   ]
  },
  {
   "cell_type": "code",
   "execution_count": 55,
   "id": "d7485d3b-c358-46d0-9fc8-ffd7a23737b4",
   "metadata": {},
   "outputs": [
    {
     "data": {
      "text/plain": [
       "<Residue VAL het=  resseq=574 icode= >"
      ]
     },
     "execution_count": 55,
     "metadata": {},
     "output_type": "execute_result"
    }
   ],
   "source": [
    "res_list[10]"
   ]
  },
  {
   "cell_type": "code",
   "execution_count": 18,
   "id": "6d3728e2-8c2d-48fb-b66f-71c75b0f3def",
   "metadata": {},
   "outputs": [
    {
     "name": "stdout",
     "output_type": "stream",
     "text": [
      "EQQMRLPSADVYYRFAEPDSEENNIIFEENNMIPIIKAGTVIKLIERLTYYHHMYYADPNNFVRTFLTTYYRSFCKPQQELLSLIIERFEIPEPEPTEADRIAIENNGDQQPLSAELKRFRKEYYIQQPVQQLRVLNNVCRHHWWVEHHHHFYYDFERDAYYLLQQRMEEFIGTVRGKAMKKWWVESITKIIQQRKKIAFQQSSPPTVEWWHHISRPGHHIETFDLLTLHHPIEIARQQLTLLESDLYYRAVQQPSELVGSVWWTKEDKEINNSPNNLLKMIRHHTTNNLTLWWFEKCIVETENNLEERVAVVSRIIEILQQVFQQELNNNNFNNGVLEVVSAMNNSSPVYYRLDHHTFEQQIPSRQQKKILEEAHHELSEDHHYYKKYYLAKLRSINNPPCVPFFGIYYLTNNILKTEEGNNPEVLKRHHGKELINNFSKRRKVAEITGEIQQYYQQNNQQPYYCLRVESDIKRFFENNLNNPMGNNSMEKEFTDYYLFNNKSLEIEPRPKPLPRFPKKYYSYYPLKSPGVRPS\n"
     ]
    }
   ],
   "source": [
    "# which requires name, seq, and a list of shape N * 4 * 3\n",
    "structure = {}\n",
    "structure['name'] = \"placeholder\"\n",
    "structure['seq'] = \"\".join([restype_3to1.get(res.resname) for res in clean_broken_res_double])\n",
    "print(structure['seq'])\n",
    "coords = []\n",
    "for res in clean_broken_res_double:\n",
    "    res_coords = []\n",
    "    for atom in [res['N'], res['CA'], res['C'], res['O']]:\n",
    "        res_coords.append(list(atom.coord))\n",
    "    coords.append(res_coords)\n",
    "    # print(coords)\n",
    "structure['coords'] = coords\n",
    "structure['dihedral_angle'] = dihedral_angle_list_t"
   ]
  },
  {
   "cell_type": "code",
   "execution_count": 19,
   "id": "a9eb5134-0a99-4bfc-bd40-be49c9e8a6db",
   "metadata": {},
   "outputs": [
    {
     "data": {
      "text/plain": [
       "(535, 535)"
      ]
     },
     "execution_count": 19,
     "metadata": {},
     "output_type": "execute_result"
    }
   ],
   "source": [
    "len(structure['seq']), len(coords)"
   ]
  },
  {
   "cell_type": "code",
   "execution_count": 20,
   "id": "f9ec53fc-96af-4397-a9a9-97ef79d98054",
   "metadata": {},
   "outputs": [],
   "source": [
    "def return_coord(res, res_sidec_list):\n",
    "    \"\"\"\n",
    "    return the coordinates of sidec\n",
    "    if one atom, then return coord\n",
    "    if 6 atoms, then it's a Aromatic ring, return the mean coord\n",
    "    \"\"\"\n",
    "    if len(res_sidec_list) == 1:\n",
    "        return res[res_sidec_list[0]].coord\n",
    "    elif len(res_sidec_list) == 6:\n",
    "        sidec_coord = [res[res_sidec_list[i]].coord for i in range(6)]\n",
    "        return np.mean(np.concatenate(sidec_coord).reshape(-1,3), axis=0)\n",
    "\n",
    "def sidec_coord(res_list, sidec_dict):\n",
    "    \"\"\"define the pos of sidec according to sidec_dict\"\"\"\n",
    "    sidec_coords = []\n",
    "    for res in res_list:\n",
    "        res_sidec_list = sidec_dict[res.resname]\n",
    "        if len(res_sidec_list) == 2:\n",
    "            sidec_coord_1 = return_coord(res, res_sidec_list[0])\n",
    "            sidec_coord_2 = return_coord(res, res_sidec_list[1])\n",
    "            sidec_coords.append(sidec_coord_1)\n",
    "            sidec_coords.append(sidec_coord_2)\n",
    "        else:\n",
    "            sidec_coords.append(return_coord(res, res_sidec_list))\n",
    "    return sidec_coords\n",
    "structure['sidec_coord'] = sidec_coord(clean_broken_res_l, sidec_dict)"
   ]
  },
  {
   "cell_type": "code",
   "execution_count": 34,
   "id": "e18f7411-06aa-4f8f-a6a5-d77c2e6675c0",
   "metadata": {},
   "outputs": [
    {
     "data": {
      "text/plain": [
       "(535, 3)"
      ]
     },
     "execution_count": 34,
     "metadata": {},
     "output_type": "execute_result"
    }
   ],
   "source": [
    "np.array(protein['sidec_coord']).shape"
   ]
  },
  {
   "cell_type": "code",
   "execution_count": 22,
   "id": "273deb59-aa0c-4b18-8d71-97983dd5b634",
   "metadata": {},
   "outputs": [],
   "source": [
    "device = 'cpu'\n",
    "protein = structure\n",
    "dihedral_angle = torch.as_tensor(protein['dihedral_angle'], device=device, dtype=torch.float32)"
   ]
  },
  {
   "cell_type": "code",
   "execution_count": 23,
   "id": "1ba62b1c-9ffb-4da7-beb3-c0c315a49a6f",
   "metadata": {},
   "outputs": [
    {
     "data": {
      "text/plain": [
       "tensor([[-3.0039,  2.5888, -0.6272,  0.0000],\n",
       "        [-1.4306, -3.0735, -1.9133,  0.0000],\n",
       "        [-1.4306, -3.0735, -1.9133,  0.0000],\n",
       "        ...,\n",
       "        [-1.0326, -3.0840, -0.4544,  1.6855],\n",
       "        [-0.4541,  0.6580,  0.0000,  0.0000],\n",
       "        [-0.8932,  0.0000,  0.0000,  0.0000]])"
      ]
     },
     "execution_count": 23,
     "metadata": {},
     "output_type": "execute_result"
    }
   ],
   "source": [
    "dihedral_angle"
   ]
  },
  {
   "cell_type": "code",
   "execution_count": 24,
   "id": "a66166bd-4818-491f-ab67-e0b25e6eb47b",
   "metadata": {},
   "outputs": [],
   "source": [
    "import json\n",
    "import numpy as np\n",
    "import tqdm, random\n",
    "import torch, math\n",
    "import torch.utils.data as data\n",
    "import torch.nn.functional as F\n",
    "import torch_geometric\n",
    "import torch_cluster\n",
    "def _normalize(tensor, dim=-1):\n",
    "    '''\n",
    "    Normalizes a `torch.Tensor` along dimension `dim` without `nan`s.\n",
    "    '''\n",
    "    return torch.nan_to_num(\n",
    "        torch.div(tensor, torch.norm(tensor, dim=dim, keepdim=True)))\n",
    "def _dihedrals(X, eps=1e-7):\n",
    "        # From https://github.com/jingraham/neurips19-graph-protein-design\n",
    "        \n",
    "        X = torch.reshape(X[:, :3], [3*X.shape[0], 3])\n",
    "        dX = X[1:] - X[:-1] #错位相减\n",
    "        U = _normalize(dX, dim=-1)\n",
    "        u_2 = U[:-2]\n",
    "        u_1 = U[1:-1]\n",
    "        u_0 = U[2:]\n",
    "\n",
    "        # Backbone normals\n",
    "        n_2 = _normalize(torch.cross(u_2, u_1), dim=-1)\n",
    "        n_1 = _normalize(torch.cross(u_1, u_0), dim=-1)\n",
    "\n",
    "        # Angle between normals\n",
    "        cosD = torch.sum(n_2 * n_1, -1)\n",
    "        cosD = torch.clamp(cosD, -1 + eps, 1 - eps)\n",
    "        D = torch.sign(torch.sum(u_2 * n_1, -1)) * torch.acos(cosD)\n",
    "\n",
    "        # This scheme will remove phi[0], psi[-1], omega[-1]\n",
    "        D = F.pad(D, [1, 2]) \n",
    "        D = torch.reshape(D, [-1, 3])\n",
    "        # Lift angle representations to the circle\n",
    "        D_features = torch.cat([torch.cos(D), torch.sin(D)], 1)\n",
    "        return D_features\n",
    "coords = torch.as_tensor(protein['coords'], \n",
    "                         device=device, dtype=torch.float32)\n",
    "mask = torch.isfinite(coords.sum(dim=(1,2)))\n",
    "coords[~mask] = np.inf\n",
    "dihedrals = _dihedrals(coords)"
   ]
  },
  {
   "cell_type": "code",
   "execution_count": 25,
   "id": "42a34752-c534-4ce6-beb1-d49d8e63ab06",
   "metadata": {},
   "outputs": [],
   "source": [
    "side_dihedrals = torch.cat([torch.cos(dihedral_angle), torch.sin(dihedral_angle)], 1)\n",
    "dihedrals_t = torch.cat([dihedrals, side_dihedrals], 1)"
   ]
  },
  {
   "cell_type": "code",
   "execution_count": 26,
   "id": "34e0a465-f50a-40c0-b6dc-e1446a983a20",
   "metadata": {},
   "outputs": [
    {
     "data": {
      "text/plain": [
       "torch.Size([535, 14])"
      ]
     },
     "execution_count": 26,
     "metadata": {},
     "output_type": "execute_result"
    }
   ],
   "source": [
    "dihedrals_t.shape"
   ]
  },
  {
   "cell_type": "code",
   "execution_count": 32,
   "id": "26b52df3-e568-486d-a460-7bce82c8701e",
   "metadata": {},
   "outputs": [],
   "source": [
    "sidec_coord = torch.as_tensor(np.array(protein['sidec_coord']), device=device, dtype=torch.float32)"
   ]
  },
  {
   "cell_type": "code",
   "execution_count": 33,
   "id": "5f018142-0623-44dc-ad08-0a3fe49c321d",
   "metadata": {},
   "outputs": [
    {
     "data": {
      "text/plain": [
       "tensor([[ -0.1440,  22.4280, -16.0070],\n",
       "        [  4.6090,  26.3240, -18.1710],\n",
       "        [  6.5540,  25.8790, -17.2000],\n",
       "        ...,\n",
       "        [ -9.9740, -48.9300, -23.1340],\n",
       "        [ -6.4270, -44.9140, -20.8420],\n",
       "        [ -3.2900, -49.2070, -19.0070]])"
      ]
     },
     "execution_count": 33,
     "metadata": {},
     "output_type": "execute_result"
    }
   ],
   "source": [
    "sidec_coord"
   ]
  },
  {
   "cell_type": "code",
   "execution_count": 95,
   "id": "4b265708-21ef-4308-9057-391c8487f62e",
   "metadata": {},
   "outputs": [],
   "source": [
    "def _sidechains(X):\n",
    "    n, origin, c = X[:, 0], X[:, 1], X[:, 2]\n",
    "    c, n = _normalize(c - origin), _normalize(n - origin)\n",
    "    bisector = _normalize(c + n)\n",
    "    perp = _normalize(torch.cross(c, n))\n",
    "    vec = -bisector * math.sqrt(1 / 3) - perp * math.sqrt(2 / 3)\n",
    "    return vec \n",
    "\n",
    "def _sidechains_qsar(X, sidec_coord):\n",
    "    # direction vector from center CA to sideC\n",
    "    origin = X[:, 1]\n",
    "    vec = _normalize(sidec_coord - origin)\n",
    "    return vec \n",
    "def _orientations(X):\n",
    "    forward = _normalize(X[1:] - X[:-1])\n",
    "    backward = _normalize(X[:-1] - X[1:])\n",
    "    forward = F.pad(forward, [0, 0, 0, 1])\n",
    "    backward = F.pad(backward, [0, 0, 1, 0])\n",
    "    return torch.cat([forward.unsqueeze(-2), backward.unsqueeze(-2)], -2)"
   ]
  },
  {
   "cell_type": "code",
   "execution_count": 102,
   "id": "1cce5c72-b7d7-47b4-bb8e-7ce4a55df8fe",
   "metadata": {},
   "outputs": [
    {
     "data": {
      "text/plain": [
       "torch.Size([535, 3, 3])"
      ]
     },
     "execution_count": 102,
     "metadata": {},
     "output_type": "execute_result"
    }
   ],
   "source": [
    "orientations = _orientations(X_ca)\n",
    "sidechains_qsar = _sidechains_qsar(coords, sidec_coord)\n",
    "torch.cat([orientations, sidechains_qsar.unsqueeze(-2)], dim=-2).shape"
   ]
  },
  {
   "cell_type": "code",
   "execution_count": 63,
   "id": "8e9d53a7-e8af-41f3-88bb-f3887d6ca68b",
   "metadata": {},
   "outputs": [
    {
     "data": {
      "text/plain": [
       "tensor([-0.1046,  0.6060,  0.7885])"
      ]
     },
     "execution_count": 63,
     "metadata": {},
     "output_type": "execute_result"
    }
   ],
   "source": [
    "_sidechains_qsar(coords, sidec_coord)[10]"
   ]
  },
  {
   "cell_type": "code",
   "execution_count": 64,
   "id": "04e62d38-5713-41a9-88c6-b2ecc45c8933",
   "metadata": {},
   "outputs": [
    {
     "data": {
      "text/plain": [
       "tensor([-0.2033,  0.6627,  0.7207])"
      ]
     },
     "execution_count": 64,
     "metadata": {},
     "output_type": "execute_result"
    }
   ],
   "source": [
    "_sidechains(coords)[10]"
   ]
  },
  {
   "cell_type": "code",
   "execution_count": 65,
   "id": "b00cf76f-71b9-4435-9599-7ef7b9d10b76",
   "metadata": {},
   "outputs": [],
   "source": [
    "def _rbf(D, D_min=0., D_max=20., D_count=16, device='cpu'):\n",
    "    '''\n",
    "    From https://github.com/jingraham/neurips19-graph-protein-design\n",
    "    \n",
    "    Returns an RBF embedding of `torch.Tensor` `D` along a new axis=-1.\n",
    "    That is, if `D` has shape [...dims], then the returned tensor will have\n",
    "    shape [...dims, D_count].\n",
    "    '''\n",
    "    D_mu = torch.linspace(D_min, D_max, D_count, device=device)\n",
    "    D_mu = D_mu.view([1, -1])\n",
    "    D_sigma = (D_max - D_min) / D_count\n",
    "    D_expand = torch.unsqueeze(D, -1)\n",
    "\n",
    "    RBF = torch.exp(-((D_expand - D_mu) / D_sigma) ** 2)\n",
    "    return RBF"
   ]
  },
  {
   "cell_type": "code",
   "execution_count": 66,
   "id": "9117c72c-4896-4af6-a313-24a7bc08ac67",
   "metadata": {},
   "outputs": [],
   "source": [
    "import torch_cluster\n",
    "X_ca = coords[:, 1]\n",
    "edge_index = torch_cluster.knn_graph(X_ca, k=30)\n",
    "E_vectors = X_ca[edge_index[0]] - X_ca[edge_index[1]]"
   ]
  },
  {
   "cell_type": "code",
   "execution_count": 70,
   "id": "ae8196b3-4669-4d42-8d66-d838b9383f6e",
   "metadata": {},
   "outputs": [
    {
     "data": {
      "text/plain": [
       "torch.Size([16050, 16])"
      ]
     },
     "execution_count": 70,
     "metadata": {},
     "output_type": "execute_result"
    }
   ],
   "source": [
    "rbf = _rbf(E_vectors.norm(dim=-1), D_count=16, device=device)\n",
    "rbf.shape"
   ]
  },
  {
   "cell_type": "code",
   "execution_count": 71,
   "id": "ad9c2372-1fa0-4443-a4fc-155ed5fed312",
   "metadata": {},
   "outputs": [],
   "source": [
    "E_vectors_side_1 = sidec_coord[edge_index[0]] - X_ca[edge_index[0]]\n",
    "E_vectors_side_2 = sidec_coord[edge_index[1]] - X_ca[edge_index[1]]"
   ]
  },
  {
   "cell_type": "code",
   "execution_count": 74,
   "id": "36a5fb4c-4eaa-464f-9bb5-f8359fab3fa7",
   "metadata": {},
   "outputs": [],
   "source": [
    "rbf_side_1 = _rbf(E_vectors_side_1.norm(dim=-1), D_count=16, device=device)\n",
    "rbf_side_2 = _rbf(E_vectors_side_2.norm(dim=-1), D_count=16, device=device)"
   ]
  },
  {
   "cell_type": "code",
   "execution_count": 78,
   "id": "bade9132-fb50-43ec-9a68-20cc9d60a5ee",
   "metadata": {},
   "outputs": [],
   "source": [
    "def _positional_embeddings(edge_index, \n",
    "                               num_embeddings=None,\n",
    "                               period_range=[2, 1000]):\n",
    "    # From https://github.com/jingraham/neurips19-graph-protein-design\n",
    "    num_embeddings = 16\n",
    "    d = edge_index[0] - edge_index[1]\n",
    "\n",
    "    frequency = torch.exp(\n",
    "        torch.arange(0, num_embeddings, 2, dtype=torch.float32, device=device)\n",
    "        * -(np.log(10000.0) / num_embeddings)\n",
    "    )\n",
    "    angles = d.unsqueeze(-1) * frequency\n",
    "    E = torch.cat((torch.cos(angles), torch.sin(angles)), -1)\n",
    "    return E\n",
    "pos_embeddings = _positional_embeddings(edge_index)"
   ]
  },
  {
   "cell_type": "code",
   "execution_count": 79,
   "id": "ddb20467-fa91-4ddd-b208-3c9df8f8f0d6",
   "metadata": {},
   "outputs": [
    {
     "data": {
      "text/plain": [
       "torch.Size([16050, 64])"
      ]
     },
     "execution_count": 79,
     "metadata": {},
     "output_type": "execute_result"
    }
   ],
   "source": [
    "torch.cat([rbf, pos_embeddings, rbf_side_1, rbf_side_2], dim=-1).shape"
   ]
  },
  {
   "cell_type": "code",
   "execution_count": 94,
   "id": "5e445268-f827-44ac-9a77-441e03607356",
   "metadata": {},
   "outputs": [
    {
     "data": {
      "text/plain": [
       "torch.Size([16050, 3, 3])"
      ]
     },
     "execution_count": 94,
     "metadata": {},
     "output_type": "execute_result"
    }
   ],
   "source": [
    "E_vectors_t = torch.cat([E_vectors, E_vectors_side_1, E_vectors_side_2], dim=-1)\n",
    "_normalize(E_vectors_t).view(-1,3,3).shape"
   ]
  },
  {
   "cell_type": "code",
   "execution_count": 92,
   "id": "0cdd2f6e-6705-4c0b-b21d-61f757195843",
   "metadata": {},
   "outputs": [
    {
     "data": {
      "text/plain": [
       "torch.Size([16050, 1, 9])"
      ]
     },
     "execution_count": 92,
     "metadata": {},
     "output_type": "execute_result"
    }
   ],
   "source": [
    "torch.cat([_normalize(E_vectors), _normalize(E_vectors_side_1), _normalize(E_vectors_side_2)], dim=-1).unsqueeze(-2).shape"
   ]
  },
  {
   "cell_type": "code",
   "execution_count": 88,
   "id": "c5107c8f-9af3-4ab7-9a43-0e7e445bc421",
   "metadata": {},
   "outputs": [
    {
     "data": {
      "text/plain": [
       "torch.Size([16050, 9])"
      ]
     },
     "execution_count": 88,
     "metadata": {},
     "output_type": "execute_result"
    }
   ],
   "source": [
    "torch.cat([_normalize(E_vectors), _normalize(E_vectors_side_1), _normalize(E_vectors_side_2)], dim=-1).shape"
   ]
  },
  {
   "cell_type": "code",
   "execution_count": null,
   "id": "a642bef1-f626-4aaa-961f-037ea5f93bee",
   "metadata": {},
   "outputs": [],
   "source": [
    "structure['coords'] = coords\n",
    "torch.set_num_threads(1)        # this reduce the overhead, and speed up the process for me.\n",
    "dataset = gvp.data.ProteinGraphDataset([structure])\n",
    "protein = dataset[0]\n",
    "x = (protein.x, protein.seq, protein.node_s, protein.node_v, protein.edge_index, protein.edge_s, protein.edge_v)"
   ]
  },
  {
   "cell_type": "code",
   "execution_count": 91,
   "id": "b2d566a7-2dd5-486b-b0c3-13db5201d374",
   "metadata": {},
   "outputs": [],
   "source": [
    "def dihedral_angle_vec(a, b, c, d):\n",
    "    v1 = a - b\n",
    "    v2 = b - c\n",
    "    v3 = d - c\n",
    "\n",
    "    c1 = v1.cross(v2)\n",
    "    c2 = v3.cross(v2)\n",
    "    c3 = c2.cross(c1)\n",
    "\n",
    "    v2_mag = v2.norm()\n",
    "    return np.arctan2(c3.dot(v2), v2_mag * c1.dot(c2))"
   ]
  },
  {
   "cell_type": "code",
   "execution_count": 94,
   "id": "886a192f-f553-4056-a634-bf05a5ed087b",
   "metadata": {},
   "outputs": [
    {
     "name": "stdout",
     "output_type": "stream",
     "text": [
      "1.0\n",
      "1.0\n"
     ]
    },
    {
     "data": {
      "text/plain": [
       "45.0"
      ]
     },
     "execution_count": 94,
     "metadata": {},
     "output_type": "execute_result"
    }
   ],
   "source": [
    "a = np.array([1.,0,0])\n",
    "b = np.array([1.,1.,0])\n",
    "c = np.array([0,1.,0])\n",
    "d = np.array([0,0,1.])\n",
    "dihedral_angle(a, b, c, d) * 180 / np.pi"
   ]
  },
  {
   "cell_type": "code",
   "execution_count": 33,
   "id": "c09ab6f8-bd74-43ba-9821-59ad8224ac2d",
   "metadata": {},
   "outputs": [
    {
     "name": "stdout",
     "output_type": "stream",
     "text": [
      "tensor(1.)\n",
      "tensor(1.)\n"
     ]
    },
    {
     "data": {
      "text/plain": [
       "tensor(45.)"
      ]
     },
     "execution_count": 33,
     "metadata": {},
     "output_type": "execute_result"
    }
   ],
   "source": [
    "a = torch.tensor([1,0,0], dtype=torch.float)\n",
    "b = torch.tensor([1,1,0], dtype=torch.float)\n",
    "c = torch.tensor([0,1,0], dtype=torch.float)\n",
    "d = torch.tensor([0,0,1], dtype=torch.float)\n",
    "dihedral_angle(a, b, c, d) * 180 / np.pi"
   ]
  },
  {
   "cell_type": "code",
   "execution_count": 13,
   "id": "76c980c3-d8ce-4edc-9cd4-65cf887b9aa4",
   "metadata": {},
   "outputs": [],
   "source": [
    "sidec = dict()\n",
    "sidec['ALA'] = ['N']\n",
    "sidec['GLY'] = ['N']\n",
    "sidec['LLE'] = ['CD1']\n",
    "sidec['LEU'] = ['CG']\n",
    "sidec['PRO'] = ['N']\n",
    "sidec['VAL'] = ['CB']\n",
    "sidec['PHE'] = ['CE1','CE2','CD1','CD2','CG','CZ']\n",
    "sidec['TRP'] = [['NE1'], ['CE2','CD2','CE3','CZ3','CH2','CZ2']]\n",
    "sidec['TYR'] = [['OH'], ['CE1','CE2','CD1','CD2','CG','CZ']]\n",
    "sidec['ASP'] = ['OD2']\n",
    "sidec['GLU'] = ['OE2']\n",
    "sidec['ARG'] = ['CZ']\n",
    "sidec['HIS'] = [['NE2'],['ND1']]\n",
    "sidec['LYS'] = ['NZ']\n",
    "sidec['SER'] = ['OG']\n",
    "sidec['THR'] = ['OG1']\n",
    "sidec['CYS'] = ['SG']\n",
    "sidec['MET'] = ['SD']\n",
    "sidec['ASN'] = [['OD1'],['ND2']]\n",
    "sidec['GLN'] = [['OE1'],['NE2']]"
   ]
  },
  {
   "cell_type": "code",
   "execution_count": 14,
   "id": "b027b914-3a7d-42aa-a4a0-12611490a5e3",
   "metadata": {},
   "outputs": [],
   "source": [
    "##check sidec\n",
    "plus_sidec = ['TRP', 'TYR', 'HIS', 'ASN', 'GLN']\n",
    "for k, v_list in sidec.items():\n",
    "    if k in plus_sidec:\n",
    "        for i in v_list:\n",
    "            for j in i:\n",
    "                if j not in atom_types:\n",
    "                    print(k, j)\n",
    "    else:\n",
    "        for i in v_list:\n",
    "            if i not in atom_types:\n",
    "                    print(k, i)\n",
    "        "
   ]
  },
  {
   "cell_type": "code",
   "execution_count": 1,
   "id": "75288ea4-a1c5-43b2-91a0-a9a55c9a70a1",
   "metadata": {},
   "outputs": [],
   "source": [
    "def _make_rigid_transformation_4x4(ex, ey, translation):\n",
    "    \"\"\"Create a rigid 4x4 transformation matrix from two axes and transl.\"\"\"\n",
    "    # Normalize ex.\n",
    "    ex_normalized = ex / np.linalg.norm(ex)\n",
    "\n",
    "    # make ey perpendicular to ex\n",
    "    ey_normalized = ey - np.dot(ey, ex_normalized) * ex_normalized\n",
    "    ey_normalized /= np.linalg.norm(ey_normalized)\n",
    "\n",
    "    # compute ez as cross product\n",
    "    eznorm = np.cross(ex_normalized, ey_normalized)\n",
    "    m = np.stack([ex_normalized, ey_normalized, eznorm, translation]).transpose()\n",
    "    m = np.concatenate([m, [[0., 0., 0., 1.]]], axis=0)\n",
    "    return m"
   ]
  },
  {
   "cell_type": "code",
   "execution_count": 5,
   "id": "fa0f8be4-0d2a-4420-bf64-d949ef7bf42e",
   "metadata": {},
   "outputs": [],
   "source": [
    "rigid_group_atom_positions = {\n",
    "    'ALA': [\n",
    "        ['N', 0, (-0.525, 1.363, 0.000)],\n",
    "        ['CA', 0, (0.000, 0.000, 0.000)],\n",
    "        ['C', 0, (1.526, -0.000, -0.000)],\n",
    "        ['CB', 0, (-0.529, -0.774, -1.205)],\n",
    "        ['O', 3, (0.627, 1.062, 0.000)],\n",
    "    ],\n",
    "    'ARG': [\n",
    "        ['N', 0, (-0.524, 1.362, -0.000)],\n",
    "        ['CA', 0, (0.000, 0.000, 0.000)],\n",
    "        ['C', 0, (1.525, -0.000, -0.000)],\n",
    "        ['CB', 0, (-0.524, -0.778, -1.209)],\n",
    "        ['O', 3, (0.626, 1.062, 0.000)],\n",
    "        ['CG', 4, (0.616, 1.390, -0.000)],\n",
    "        ['CD', 5, (0.564, 1.414, 0.000)],\n",
    "        ['NE', 6, (0.539, 1.357, -0.000)],\n",
    "        ['NH1', 7, (0.206, 2.301, 0.000)],\n",
    "        ['NH2', 7, (2.078, 0.978, -0.000)],\n",
    "        ['CZ', 7, (0.758, 1.093, -0.000)],\n",
    "    ],\n",
    "    'ASN': [\n",
    "        ['N', 0, (-0.536, 1.357, 0.000)],\n",
    "        ['CA', 0, (0.000, 0.000, 0.000)],\n",
    "        ['C', 0, (1.526, -0.000, -0.000)],\n",
    "        ['CB', 0, (-0.531, -0.787, -1.200)],\n",
    "        ['O', 3, (0.625, 1.062, 0.000)],\n",
    "        ['CG', 4, (0.584, 1.399, 0.000)],\n",
    "        ['ND2', 5, (0.593, -1.188, 0.001)],\n",
    "        ['OD1', 5, (0.633, 1.059, 0.000)],\n",
    "    ],\n",
    "    'ASP': [\n",
    "        ['N', 0, (-0.525, 1.362, -0.000)],\n",
    "        ['CA', 0, (0.000, 0.000, 0.000)],\n",
    "        ['C', 0, (1.527, 0.000, -0.000)],\n",
    "        ['CB', 0, (-0.526, -0.778, -1.208)],\n",
    "        ['O', 3, (0.626, 1.062, -0.000)],\n",
    "        ['CG', 4, (0.593, 1.398, -0.000)],\n",
    "        ['OD1', 5, (0.610, 1.091, 0.000)],\n",
    "        ['OD2', 5, (0.592, -1.101, -0.003)],\n",
    "    ],\n",
    "    'CYS': [\n",
    "        ['N', 0, (-0.522, 1.362, -0.000)],\n",
    "        ['CA', 0, (0.000, 0.000, 0.000)],\n",
    "        ['C', 0, (1.524, 0.000, 0.000)],\n",
    "        ['CB', 0, (-0.519, -0.773, -1.212)],\n",
    "        ['O', 3, (0.625, 1.062, -0.000)],\n",
    "        ['SG', 4, (0.728, 1.653, 0.000)],\n",
    "    ],\n",
    "    'GLN': [\n",
    "        ['N', 0, (-0.526, 1.361, -0.000)],\n",
    "        ['CA', 0, (0.000, 0.000, 0.000)],\n",
    "        ['C', 0, (1.526, 0.000, 0.000)],\n",
    "        ['CB', 0, (-0.525, -0.779, -1.207)],\n",
    "        ['O', 3, (0.626, 1.062, -0.000)],\n",
    "        ['CG', 4, (0.615, 1.393, 0.000)],\n",
    "        ['CD', 5, (0.587, 1.399, -0.000)],\n",
    "        ['NE2', 6, (0.593, -1.189, -0.001)],\n",
    "        ['OE1', 6, (0.634, 1.060, 0.000)],\n",
    "    ],\n",
    "    'GLU': [\n",
    "        ['N', 0, (-0.528, 1.361, 0.000)],\n",
    "        ['CA', 0, (0.000, 0.000, 0.000)],\n",
    "        ['C', 0, (1.526, -0.000, -0.000)],\n",
    "        ['CB', 0, (-0.526, -0.781, -1.207)],\n",
    "        ['O', 3, (0.626, 1.062, 0.000)],\n",
    "        ['CG', 4, (0.615, 1.392, 0.000)],\n",
    "        ['CD', 5, (0.600, 1.397, 0.000)],\n",
    "        ['OE1', 6, (0.607, 1.095, -0.000)],\n",
    "        ['OE2', 6, (0.589, -1.104, -0.001)],\n",
    "    ],\n",
    "    'GLY': [\n",
    "        ['N', 0, (-0.572, 1.337, 0.000)],\n",
    "        ['CA', 0, (0.000, 0.000, 0.000)],\n",
    "        ['C', 0, (1.517, -0.000, -0.000)],\n",
    "        ['O', 3, (0.626, 1.062, -0.000)],\n",
    "    ],\n",
    "    'HIS': [\n",
    "        ['N', 0, (-0.527, 1.360, 0.000)],\n",
    "        ['CA', 0, (0.000, 0.000, 0.000)],\n",
    "        ['C', 0, (1.525, 0.000, 0.000)],\n",
    "        ['CB', 0, (-0.525, -0.778, -1.208)],\n",
    "        ['O', 3, (0.625, 1.063, 0.000)],\n",
    "        ['CG', 4, (0.600, 1.370, -0.000)],\n",
    "        ['CD2', 5, (0.889, -1.021, 0.003)],\n",
    "        ['ND1', 5, (0.744, 1.160, -0.000)],\n",
    "        ['CE1', 5, (2.030, 0.851, 0.002)],\n",
    "        ['NE2', 5, (2.145, -0.466, 0.004)],\n",
    "    ],\n",
    "    'ILE': [\n",
    "        ['N', 0, (-0.493, 1.373, -0.000)],\n",
    "        ['CA', 0, (0.000, 0.000, 0.000)],\n",
    "        ['C', 0, (1.527, -0.000, -0.000)],\n",
    "        ['CB', 0, (-0.536, -0.793, -1.213)],\n",
    "        ['O', 3, (0.627, 1.062, -0.000)],\n",
    "        ['CG1', 4, (0.534, 1.437, -0.000)],\n",
    "        ['CG2', 4, (0.540, -0.785, -1.199)],\n",
    "        ['CD1', 5, (0.619, 1.391, 0.000)],\n",
    "    ],\n",
    "    'LEU': [\n",
    "        ['N', 0, (-0.520, 1.363, 0.000)],\n",
    "        ['CA', 0, (0.000, 0.000, 0.000)],\n",
    "        ['C', 0, (1.525, -0.000, -0.000)],\n",
    "        ['CB', 0, (-0.522, -0.773, -1.214)],\n",
    "        ['O', 3, (0.625, 1.063, -0.000)],\n",
    "        ['CG', 4, (0.678, 1.371, 0.000)],\n",
    "        ['CD1', 5, (0.530, 1.430, -0.000)],\n",
    "        ['CD2', 5, (0.535, -0.774, 1.200)],\n",
    "    ],\n",
    "    'LYS': [\n",
    "        ['N', 0, (-0.526, 1.362, -0.000)],\n",
    "        ['CA', 0, (0.000, 0.000, 0.000)],\n",
    "        ['C', 0, (1.526, 0.000, 0.000)],\n",
    "        ['CB', 0, (-0.524, -0.778, -1.208)],\n",
    "        ['O', 3, (0.626, 1.062, -0.000)],\n",
    "        ['CG', 4, (0.619, 1.390, 0.000)],\n",
    "        ['CD', 5, (0.559, 1.417, 0.000)],\n",
    "        ['CE', 6, (0.560, 1.416, 0.000)],\n",
    "        ['NZ', 7, (0.554, 1.387, 0.000)],\n",
    "    ],\n",
    "    'MET': [\n",
    "        ['N', 0, (-0.521, 1.364, -0.000)],\n",
    "        ['CA', 0, (0.000, 0.000, 0.000)],\n",
    "        ['C', 0, (1.525, 0.000, 0.000)],\n",
    "        ['CB', 0, (-0.523, -0.776, -1.210)],\n",
    "        ['O', 3, (0.625, 1.062, -0.000)],\n",
    "        ['CG', 4, (0.613, 1.391, -0.000)],\n",
    "        ['SD', 5, (0.703, 1.695, 0.000)],\n",
    "        ['CE', 6, (0.320, 1.786, -0.000)],\n",
    "    ],\n",
    "    'PHE': [\n",
    "        ['N', 0, (-0.518, 1.363, 0.000)],\n",
    "        ['CA', 0, (0.000, 0.000, 0.000)],\n",
    "        ['C', 0, (1.524, 0.000, -0.000)],\n",
    "        ['CB', 0, (-0.525, -0.776, -1.212)],\n",
    "        ['O', 3, (0.626, 1.062, -0.000)],\n",
    "        ['CG', 4, (0.607, 1.377, 0.000)],\n",
    "        ['CD1', 5, (0.709, 1.195, -0.000)],\n",
    "        ['CD2', 5, (0.706, -1.196, 0.000)],\n",
    "        ['CE1', 5, (2.102, 1.198, -0.000)],\n",
    "        ['CE2', 5, (2.098, -1.201, -0.000)],\n",
    "        ['CZ', 5, (2.794, -0.003, -0.001)],\n",
    "    ],\n",
    "    'PRO': [\n",
    "        ['N', 0, (-0.566, 1.351, -0.000)],\n",
    "        ['CA', 0, (0.000, 0.000, 0.000)],\n",
    "        ['C', 0, (1.527, -0.000, 0.000)],\n",
    "        ['CB', 0, (-0.546, -0.611, -1.293)],\n",
    "        ['O', 3, (0.621, 1.066, 0.000)],\n",
    "        ['CG', 4, (0.382, 1.445, 0.0)],\n",
    "        # ['CD', 5, (0.427, 1.440, 0.0)],\n",
    "        ['CD', 5, (0.477, 1.424, 0.0)],  # manually made angle 2 degrees larger\n",
    "    ],\n",
    "    'SER': [\n",
    "        ['N', 0, (-0.529, 1.360, -0.000)],\n",
    "        ['CA', 0, (0.000, 0.000, 0.000)],\n",
    "        ['C', 0, (1.525, -0.000, -0.000)],\n",
    "        ['CB', 0, (-0.518, -0.777, -1.211)],\n",
    "        ['O', 3, (0.626, 1.062, -0.000)],\n",
    "        ['OG', 4, (0.503, 1.325, 0.000)],\n",
    "    ],\n",
    "    'THR': [\n",
    "        ['N', 0, (-0.517, 1.364, 0.000)],\n",
    "        ['CA', 0, (0.000, 0.000, 0.000)],\n",
    "        ['C', 0, (1.526, 0.000, -0.000)],\n",
    "        ['CB', 0, (-0.516, -0.793, -1.215)],\n",
    "        ['O', 3, (0.626, 1.062, 0.000)],\n",
    "        ['CG2', 4, (0.550, -0.718, -1.228)],\n",
    "        ['OG1', 4, (0.472, 1.353, 0.000)],\n",
    "    ],\n",
    "    'TRP': [\n",
    "        ['N', 0, (-0.521, 1.363, 0.000)],\n",
    "        ['CA', 0, (0.000, 0.000, 0.000)],\n",
    "        ['C', 0, (1.525, -0.000, 0.000)],\n",
    "        ['CB', 0, (-0.523, -0.776, -1.212)],\n",
    "        ['O', 3, (0.627, 1.062, 0.000)],\n",
    "        ['CG', 4, (0.609, 1.370, -0.000)],\n",
    "        ['CD1', 5, (0.824, 1.091, 0.000)],\n",
    "        ['CD2', 5, (0.854, -1.148, -0.005)],\n",
    "        ['CE2', 5, (2.186, -0.678, -0.007)],\n",
    "        ['CE3', 5, (0.622, -2.530, -0.007)],\n",
    "        ['NE1', 5, (2.140, 0.690, -0.004)],\n",
    "        ['CH2', 5, (3.028, -2.890, -0.013)],\n",
    "        ['CZ2', 5, (3.283, -1.543, -0.011)],\n",
    "        ['CZ3', 5, (1.715, -3.389, -0.011)],\n",
    "    ],\n",
    "    'TYR': [\n",
    "        ['N', 0, (-0.522, 1.362, 0.000)],\n",
    "        ['CA', 0, (0.000, 0.000, 0.000)],\n",
    "        ['C', 0, (1.524, -0.000, -0.000)],\n",
    "        ['CB', 0, (-0.522, -0.776, -1.213)],\n",
    "        ['O', 3, (0.627, 1.062, -0.000)],\n",
    "        ['CG', 4, (0.607, 1.382, -0.000)],\n",
    "        ['CD1', 5, (0.716, 1.195, -0.000)],\n",
    "        ['CD2', 5, (0.713, -1.194, -0.001)],\n",
    "        ['CE1', 5, (2.107, 1.200, -0.002)],\n",
    "        ['CE2', 5, (2.104, -1.201, -0.003)],\n",
    "        ['OH', 5, (4.168, -0.002, -0.005)],\n",
    "        ['CZ', 5, (2.791, -0.001, -0.003)],\n",
    "    ],\n",
    "    'VAL': [\n",
    "        ['N', 0, (-0.494, 1.373, -0.000)],\n",
    "        ['CA', 0, (0.000, 0.000, 0.000)],\n",
    "        ['C', 0, (1.527, -0.000, -0.000)],\n",
    "        ['CB', 0, (-0.533, -0.795, -1.213)],\n",
    "        ['O', 3, (0.627, 1.062, -0.000)],\n",
    "        ['CG1', 4, (0.540, 1.429, -0.000)],\n",
    "        ['CG2', 4, (0.533, -0.776, 1.203)],\n",
    "    ],\n",
    "}"
   ]
  },
  {
   "cell_type": "code",
   "execution_count": null,
   "id": "09576460-b912-4695-89d3-4a3d216a513d",
   "metadata": {},
   "outputs": [],
   "source": [
    "s = parser.get_structure(\"example\", proteinFile)\n",
    "atom_list = list(s.get_atoms())\n",
    "a = [[atom] for atom in atom_list if atom.get_full_id()[3][1] == 564]\n",
    "a"
   ]
  }
 ],
 "metadata": {
  "kernelspec": {
   "display_name": "Python [conda env:tankbind_py38]",
   "language": "python",
   "name": "conda-env-tankbind_py38-py"
  },
  "language_info": {
   "codemirror_mode": {
    "name": "ipython",
    "version": 3
   },
   "file_extension": ".py",
   "mimetype": "text/x-python",
   "name": "python",
   "nbconvert_exporter": "python",
   "pygments_lexer": "ipython3",
   "version": "3.8.13"
  }
 },
 "nbformat": 4,
 "nbformat_minor": 5
}
