{
 "cells": [
  {
   "cell_type": "markdown",
   "id": "9b111110",
   "metadata": {},
   "source": [
    "# Overview\n",
    "\n",
    "In this example, we are going to predict the binding pose of a small molecule to a target protein.\n",
    "\n",
    "PDB 6HD6 is an interesting case, in which two small molecule drugs bind to the same protein target on different binding sites.\n",
    "\n",
    "One small molecule, STI-571, is the famous drug Imatinib. The other small molecule, FYH, is asciminib.\n",
    "\n",
    "This PDB is also used as an exmaple by Regina Barzilay and Hannes Stärk in MLDD workshop https://www.mldd-workshop.org/home\n",
    "\n",
    "https://www.rcsb.org/structure/6HD6"
   ]
  },
  {
   "cell_type": "code",
   "execution_count": 1,
   "id": "71ed5bc4",
   "metadata": {},
   "outputs": [],
   "source": [
    "tankbind_src_folder_path = \"../tankbind/\"\n",
    "import sys\n",
    "sys.path.insert(0, tankbind_src_folder_path)"
   ]
  },
  {
   "cell_type": "markdown",
   "id": "648847c7",
   "metadata": {},
   "source": [
    "# input preparation."
   ]
  },
  {
   "cell_type": "code",
   "execution_count": 2,
   "id": "62f47c55",
   "metadata": {},
   "outputs": [
    {
     "name": "stdout",
     "output_type": "stream",
     "text": [
      "Downloading PDB structure '6hd6'...\n"
     ]
    }
   ],
   "source": [
    "from Bio.PDB.PDBList import PDBList   # pip install biopython if import failure\n",
    "import os\n",
    "import numpy as np\n",
    "import pandas as pd\n",
    "pre = \"./single_PDB_6hd6/\"\n",
    "pdir = f\"{pre}/PDBs/\"\n",
    "pdb = '6hd6'\n",
    "os.system(f\"mkdir -p {pdir}\")\n",
    "pdbl = PDBList()\n",
    "native_pdb = pdbl.retrieve_pdb_file(pdb, pdir=pdir, file_format='pdb')"
   ]
  },
  {
   "cell_type": "code",
   "execution_count": 3,
   "id": "83eebc8e",
   "metadata": {},
   "outputs": [
    {
     "data": {
      "application/vnd.jupyter.widget-view+json": {
       "model_id": "59f7825301854496bcbbc899f636d543",
       "version_major": 2,
       "version_minor": 0
      },
      "text/plain": []
     },
     "metadata": {},
     "output_type": "display_data"
    }
   ],
   "source": [
    "import nglview   # conda install nglview -c conda-forge if import failure"
   ]
  },
  {
   "cell_type": "code",
   "execution_count": 4,
   "id": "37a64870",
   "metadata": {},
   "outputs": [
    {
     "data": {
      "application/vnd.jupyter.widget-view+json": {
       "model_id": "57340db93556443b89e2a66eaeb974d3",
       "version_major": 2,
       "version_minor": 0
      },
      "text/plain": [
       "NGLWidget()"
      ]
     },
     "metadata": {},
     "output_type": "display_data"
    }
   ],
   "source": [
    "view = nglview.show_file(nglview.FileStructure(native_pdb))\n",
    "view"
   ]
  },
  {
   "cell_type": "code",
   "execution_count": 5,
   "id": "83db9d4e",
   "metadata": {},
   "outputs": [
    {
     "data": {
      "application/vnd.jupyter.widget-view+json": {
       "model_id": "4f9332e1fe3c4c89baf2872142a71d17",
       "version_major": 2,
       "version_minor": 0
      },
      "text/plain": [
       "Image(value=b'', width='99%')"
      ]
     },
     "metadata": {},
     "output_type": "display_data"
    }
   ],
   "source": [
    "view.render_image()"
   ]
  },
  {
   "cell_type": "code",
   "execution_count": 6,
   "id": "14f2654f",
   "metadata": {},
   "outputs": [
    {
     "data": {
      "image/png": "\n",
      "text/plain": [
       "<IPython.core.display.Image object>"
      ]
     },
     "execution_count": 6,
     "metadata": {},
     "output_type": "execute_result"
    }
   ],
   "source": [
    "view._display_image()"
   ]
  },
  {
   "cell_type": "code",
   "execution_count": 7,
   "id": "1130dfef",
   "metadata": {},
   "outputs": [],
   "source": [
    "from Bio.PDB import PDBParser\n",
    "parser = PDBParser(QUIET=True)\n",
    "s = parser.get_structure(pdb, native_pdb)"
   ]
  },
  {
   "cell_type": "code",
   "execution_count": 8,
   "id": "b495eab1",
   "metadata": {},
   "outputs": [
    {
     "data": {
      "text/plain": [
       "[<Chain id=A>, <Chain id=B>]"
      ]
     },
     "execution_count": 8,
     "metadata": {},
     "output_type": "execute_result"
    }
   ],
   "source": [
    "list(s.get_chains())"
   ]
  },
  {
   "cell_type": "code",
   "execution_count": 9,
   "id": "bddb8fa9",
   "metadata": {},
   "outputs": [],
   "source": [
    "# model 0, chain A is the chain in contact with the ligands\n",
    "c = s[0]['A']"
   ]
  },
  {
   "cell_type": "code",
   "execution_count": 10,
   "id": "68db8721",
   "metadata": {},
   "outputs": [
    {
     "data": {
      "text/plain": [
       "[<Residue CL het=H_CL resseq=601 icode= >,\n",
       " <Residue FYH het=H_FYH resseq=602 icode= >,\n",
       " <Residue STI het=H_STI resseq=603 icode= >]"
      ]
     },
     "execution_count": 10,
     "metadata": {},
     "output_type": "execute_result"
    }
   ],
   "source": [
    "# list HETATMs\n",
    "res_list = list(c.get_residues())\n",
    "hetro_list = [res for res in res_list if (res.full_id[-1][0] != ' ' and res.full_id[-1][0] != 'W')]\n",
    "hetro_list"
   ]
  },
  {
   "cell_type": "code",
   "execution_count": 11,
   "id": "fe3dfa0c",
   "metadata": {},
   "outputs": [],
   "source": [
    "# both FYH and STI are the ligands we are interested."
   ]
  },
  {
   "cell_type": "markdown",
   "id": "dfb8344d",
   "metadata": {},
   "source": [
    "# get protein.pdb, ligand.sdf, ligand_from_rdkit.sdf ready"
   ]
  },
  {
   "cell_type": "code",
   "execution_count": 12,
   "id": "826248a9",
   "metadata": {},
   "outputs": [],
   "source": [
    "from feature_utils import split_protein_and_ligand"
   ]
  },
  {
   "cell_type": "code",
   "execution_count": 13,
   "id": "c0c79383",
   "metadata": {},
   "outputs": [],
   "source": [
    "# save cleaned protein.\n",
    "ligand_seq_id = 602\n",
    "proteinFile = f\"{pre}/{pdb}_protein.pdb\"\n",
    "ligandFile = f\"{pre}/{pdb}_FYH_ligand.sdf\"\n",
    "clean_res_list, ligand_list = split_protein_and_ligand(c, pdb, ligand_seq_id, proteinFile, ligandFile)"
   ]
  },
  {
   "cell_type": "code",
   "execution_count": 14,
   "id": "e14a2227",
   "metadata": {},
   "outputs": [],
   "source": [
    "ligand_seq_id = 603\n",
    "ligandFile = f\"{pre}/{pdb}_STI_ligand.sdf\"\n",
    "clean_res_list, ligand_list = split_protein_and_ligand(c, pdb, ligand_seq_id, proteinFile, ligandFile)"
   ]
  },
  {
   "cell_type": "code",
   "execution_count": 15,
   "id": "35733d54",
   "metadata": {},
   "outputs": [],
   "source": [
    "import rdkit.Chem as Chem\n",
    "from feature_utils import generate_sdf_from_smiles_using_rdkit"
   ]
  },
  {
   "cell_type": "code",
   "execution_count": 16,
   "id": "1a51ac09",
   "metadata": {},
   "outputs": [],
   "source": [
    "# we also generated a sdf file using RDKit.\n",
    "ligandFile = f\"{pre}/{pdb}_STI_ligand.sdf\"\n",
    "smiles = Chem.MolToSmiles(Chem.MolFromMolFile(ligandFile))\n",
    "rdkitMolFile = f\"{pre}/{pdb}_STI_mol_from_rdkit.sdf\"\n",
    "shift_dis = 0   # for visual only, could be any number, shift the ligand away from the protein.\n",
    "generate_sdf_from_smiles_using_rdkit(smiles, rdkitMolFile, shift_dis=shift_dis)"
   ]
  },
  {
   "cell_type": "code",
   "execution_count": 17,
   "id": "b1a1b00f",
   "metadata": {},
   "outputs": [],
   "source": [
    "# we also generated a sdf file using RDKit.\n",
    "ligandFile = f\"{pre}/{pdb}_FYH_ligand.sdf\"\n",
    "smiles = Chem.MolToSmiles(Chem.MolFromMolFile(ligandFile))\n",
    "rdkitMolFile = f\"{pre}/{pdb}_FYH_mol_from_rdkit.sdf\"\n",
    "shift_dis = 0   # for visual only, could be any number, shift the ligand away from the protein.\n",
    "generate_sdf_from_smiles_using_rdkit(smiles, rdkitMolFile, shift_dis=shift_dis)"
   ]
  },
  {
   "cell_type": "code",
   "execution_count": 18,
   "id": "6afd5e0f",
   "metadata": {},
   "outputs": [
    {
     "data": {
      "application/vnd.jupyter.widget-view+json": {
       "model_id": "dd71570f9fc54f208082f46264a90ba9",
       "version_major": 2,
       "version_minor": 0
      },
      "text/plain": [
       "NGLWidget()"
      ]
     },
     "metadata": {},
     "output_type": "display_data"
    }
   ],
   "source": [
    "view = nglview.show_file(nglview.FileStructure(proteinFile), default=False)\n",
    "view.add_representation('cartoon', selection='protein', color='white')\n",
    "rdkit = view.add_component(nglview.FileStructure(rdkitMolFile), default=False)\n",
    "rdkit.add_ball_and_stick(color='red')\n",
    "native = view.add_component(nglview.FileStructure(ligandFile), default=False)\n",
    "native.add_ball_and_stick(color='yellow')\n",
    "view"
   ]
  },
  {
   "cell_type": "code",
   "execution_count": 19,
   "id": "18427886",
   "metadata": {},
   "outputs": [
    {
     "data": {
      "application/vnd.jupyter.widget-view+json": {
       "model_id": "ed37a54e249e41de9a9582e21c056462",
       "version_major": 2,
       "version_minor": 0
      },
      "text/plain": [
       "Image(value=b'', width='99%')"
      ]
     },
     "metadata": {},
     "output_type": "display_data"
    }
   ],
   "source": [
    "# red is mol generated using RDKit, yellow is the native ligand.\n",
    "view.render_image()"
   ]
  },
  {
   "cell_type": "code",
   "execution_count": 20,
   "id": "3b9ac6ea",
   "metadata": {},
   "outputs": [
    {
     "data": {
      "image/png": "\n",
      "text/plain": [
       "<IPython.core.display.Image object>"
      ]
     },
     "execution_count": 20,
     "metadata": {},
     "output_type": "execute_result"
    }
   ],
   "source": [
    "view._display_image()"
   ]
  },
  {
   "cell_type": "markdown",
   "id": "a15950de",
   "metadata": {},
   "source": [
    "# get protein feature"
   ]
  },
  {
   "cell_type": "code",
   "execution_count": 21,
   "id": "b9278895",
   "metadata": {},
   "outputs": [],
   "source": [
    "from feature_utils import get_protein_feature"
   ]
  },
  {
   "cell_type": "code",
   "execution_count": 22,
   "id": "ccfdcee6",
   "metadata": {},
   "outputs": [],
   "source": [
    "parser = PDBParser(QUIET=True)\n",
    "s = parser.get_structure(\"x\", proteinFile)\n",
    "res_list = list(s.get_residues())"
   ]
  },
  {
   "cell_type": "code",
   "execution_count": 23,
   "id": "a636d214",
   "metadata": {},
   "outputs": [],
   "source": [
    "protein_dict = {}\n",
    "protein_dict[pdb] = get_protein_feature(res_list)\n"
   ]
  },
  {
   "cell_type": "markdown",
   "id": "7c75c447",
   "metadata": {},
   "source": [
    "# get compound feature"
   ]
  },
  {
   "cell_type": "code",
   "execution_count": 24,
   "id": "c62d9a45",
   "metadata": {},
   "outputs": [],
   "source": [
    "from feature_utils import extract_torchdrug_feature_from_mol"
   ]
  },
  {
   "cell_type": "code",
   "execution_count": 25,
   "id": "fe8a5b49",
   "metadata": {},
   "outputs": [],
   "source": [
    "compound_dict = {}\n",
    "for ligandName in ['STI', 'FYH']:\n",
    "    rdkitMolFile = f\"{pre}/{pdb}_{ligandName}_mol_from_rdkit.sdf\"\n",
    "    mol = Chem.MolFromMolFile(rdkitMolFile)\n",
    "    compound_dict[pdb+f\"_{ligandName}\"+\"_rdkit\"] = extract_torchdrug_feature_from_mol(mol, has_LAS_mask=True)"
   ]
  },
  {
   "cell_type": "markdown",
   "id": "350f3094",
   "metadata": {},
   "source": [
    "# p2rank"
   ]
  },
  {
   "cell_type": "code",
   "execution_count": 26,
   "id": "ce0690c0",
   "metadata": {},
   "outputs": [],
   "source": [
    "pdb_list = [pdb]\n",
    "ds = f\"{pre}/protein_list.ds\"\n",
    "with open(ds, \"w\") as out:\n",
    "    for pdb in pdb_list:\n",
    "        out.write(f\"./{pdb}_protein.pdb\\n\")\n"
   ]
  },
  {
   "cell_type": "code",
   "execution_count": 27,
   "id": "51ccb607",
   "metadata": {},
   "outputs": [
    {
     "name": "stdout",
     "output_type": "stream",
     "text": [
      "----------------------------------------------------------------------------------------------\n",
      " P2Rank 2.3\n",
      "----------------------------------------------------------------------------------------------\n",
      "\n",
      "predicting pockets for proteins from dataset [protein_list.ds]\n",
      "processing [6hd6_protein.pdb] (1/1)\n",
      "predicting pockets finished in 0 hours 0 minutes 8.498 seconds\n",
      "results saved to directory [/home/jovyan/reproduce/examples/single_PDB_6hd6/p2rank]\n",
      "\n",
      "----------------------------------------------------------------------------------------------\n",
      " finished successfully in 0 hours 0 minutes 9.447 seconds\n",
      "----------------------------------------------------------------------------------------------\n"
     ]
    },
    {
     "data": {
      "text/plain": [
       "0"
      ]
     },
     "execution_count": 27,
     "metadata": {},
     "output_type": "execute_result"
    }
   ],
   "source": [
    "#p2rank = \"bash /packages/p2rank_2.3/prank\"\n",
    "p2rank = \"bash /home/jovyan/TankBind/p2rank_2.3/prank\"\n",
    "cmd = f\"{p2rank} predict {ds} -o {pre}/p2rank -threads 1\"\n",
    "os.system(cmd)"
   ]
  },
  {
   "cell_type": "code",
   "execution_count": 28,
   "id": "81517d71",
   "metadata": {},
   "outputs": [
    {
     "data": {
      "text/html": [
       "<div>\n",
       "<style scoped>\n",
       "    .dataframe tbody tr th:only-of-type {\n",
       "        vertical-align: middle;\n",
       "    }\n",
       "\n",
       "    .dataframe tbody tr th {\n",
       "        vertical-align: top;\n",
       "    }\n",
       "\n",
       "    .dataframe thead th {\n",
       "        text-align: right;\n",
       "    }\n",
       "</style>\n",
       "<table border=\"1\" class=\"dataframe\">\n",
       "  <thead>\n",
       "    <tr style=\"text-align: right;\">\n",
       "      <th></th>\n",
       "      <th>protein_name</th>\n",
       "      <th>compound_name</th>\n",
       "      <th>pocket_name</th>\n",
       "      <th>pocket_com</th>\n",
       "    </tr>\n",
       "  </thead>\n",
       "  <tbody>\n",
       "    <tr>\n",
       "      <th>0</th>\n",
       "      <td>6hd6</td>\n",
       "      <td>6hd6_STI_rdkit</td>\n",
       "      <td>protein_center</td>\n",
       "      <td>15.746,23.565,54.818</td>\n",
       "    </tr>\n",
       "    <tr>\n",
       "      <th>1</th>\n",
       "      <td>6hd6</td>\n",
       "      <td>6hd6_STI_rdkit</td>\n",
       "      <td>pocket_1</td>\n",
       "      <td>20.691,16.697,56.311</td>\n",
       "    </tr>\n",
       "    <tr>\n",
       "      <th>2</th>\n",
       "      <td>6hd6</td>\n",
       "      <td>6hd6_STI_rdkit</td>\n",
       "      <td>pocket_2</td>\n",
       "      <td>20.243,41.418,52.346</td>\n",
       "    </tr>\n",
       "    <tr>\n",
       "      <th>3</th>\n",
       "      <td>6hd6</td>\n",
       "      <td>6hd6_STI_rdkit</td>\n",
       "      <td>pocket_3</td>\n",
       "      <td>10.161,15.802,61.654</td>\n",
       "    </tr>\n",
       "    <tr>\n",
       "      <th>4</th>\n",
       "      <td>6hd6</td>\n",
       "      <td>6hd6_STI_rdkit</td>\n",
       "      <td>pocket_4</td>\n",
       "      <td>14.8,30.117,65.358</td>\n",
       "    </tr>\n",
       "    <tr>\n",
       "      <th>5</th>\n",
       "      <td>6hd6</td>\n",
       "      <td>6hd6_STI_rdkit</td>\n",
       "      <td>pocket_5</td>\n",
       "      <td>18.961,28.224,40.251</td>\n",
       "    </tr>\n",
       "    <tr>\n",
       "      <th>6</th>\n",
       "      <td>6hd6</td>\n",
       "      <td>6hd6_STI_rdkit</td>\n",
       "      <td>pocket_6</td>\n",
       "      <td>32.53,30.08,55.506</td>\n",
       "    </tr>\n",
       "    <tr>\n",
       "      <th>7</th>\n",
       "      <td>6hd6</td>\n",
       "      <td>6hd6_STI_rdkit</td>\n",
       "      <td>pocket_7</td>\n",
       "      <td>-1.333,28.528,67.874</td>\n",
       "    </tr>\n",
       "    <tr>\n",
       "      <th>8</th>\n",
       "      <td>6hd6</td>\n",
       "      <td>6hd6_STI_rdkit</td>\n",
       "      <td>pocket_8</td>\n",
       "      <td>14.41,1.211,50.949</td>\n",
       "    </tr>\n",
       "    <tr>\n",
       "      <th>9</th>\n",
       "      <td>6hd6</td>\n",
       "      <td>6hd6_FYH_rdkit</td>\n",
       "      <td>protein_center</td>\n",
       "      <td>15.746,23.565,54.818</td>\n",
       "    </tr>\n",
       "    <tr>\n",
       "      <th>10</th>\n",
       "      <td>6hd6</td>\n",
       "      <td>6hd6_FYH_rdkit</td>\n",
       "      <td>pocket_1</td>\n",
       "      <td>20.691,16.697,56.311</td>\n",
       "    </tr>\n",
       "    <tr>\n",
       "      <th>11</th>\n",
       "      <td>6hd6</td>\n",
       "      <td>6hd6_FYH_rdkit</td>\n",
       "      <td>pocket_2</td>\n",
       "      <td>20.243,41.418,52.346</td>\n",
       "    </tr>\n",
       "    <tr>\n",
       "      <th>12</th>\n",
       "      <td>6hd6</td>\n",
       "      <td>6hd6_FYH_rdkit</td>\n",
       "      <td>pocket_3</td>\n",
       "      <td>10.161,15.802,61.654</td>\n",
       "    </tr>\n",
       "    <tr>\n",
       "      <th>13</th>\n",
       "      <td>6hd6</td>\n",
       "      <td>6hd6_FYH_rdkit</td>\n",
       "      <td>pocket_4</td>\n",
       "      <td>14.8,30.117,65.358</td>\n",
       "    </tr>\n",
       "    <tr>\n",
       "      <th>14</th>\n",
       "      <td>6hd6</td>\n",
       "      <td>6hd6_FYH_rdkit</td>\n",
       "      <td>pocket_5</td>\n",
       "      <td>18.961,28.224,40.251</td>\n",
       "    </tr>\n",
       "    <tr>\n",
       "      <th>15</th>\n",
       "      <td>6hd6</td>\n",
       "      <td>6hd6_FYH_rdkit</td>\n",
       "      <td>pocket_6</td>\n",
       "      <td>32.53,30.08,55.506</td>\n",
       "    </tr>\n",
       "    <tr>\n",
       "      <th>16</th>\n",
       "      <td>6hd6</td>\n",
       "      <td>6hd6_FYH_rdkit</td>\n",
       "      <td>pocket_7</td>\n",
       "      <td>-1.333,28.528,67.874</td>\n",
       "    </tr>\n",
       "    <tr>\n",
       "      <th>17</th>\n",
       "      <td>6hd6</td>\n",
       "      <td>6hd6_FYH_rdkit</td>\n",
       "      <td>pocket_8</td>\n",
       "      <td>14.41,1.211,50.949</td>\n",
       "    </tr>\n",
       "  </tbody>\n",
       "</table>\n",
       "</div>"
      ],
      "text/plain": [
       "   protein_name   compound_name     pocket_name            pocket_com\n",
       "0          6hd6  6hd6_STI_rdkit  protein_center  15.746,23.565,54.818\n",
       "1          6hd6  6hd6_STI_rdkit        pocket_1  20.691,16.697,56.311\n",
       "2          6hd6  6hd6_STI_rdkit        pocket_2  20.243,41.418,52.346\n",
       "3          6hd6  6hd6_STI_rdkit        pocket_3  10.161,15.802,61.654\n",
       "4          6hd6  6hd6_STI_rdkit        pocket_4    14.8,30.117,65.358\n",
       "5          6hd6  6hd6_STI_rdkit        pocket_5  18.961,28.224,40.251\n",
       "6          6hd6  6hd6_STI_rdkit        pocket_6    32.53,30.08,55.506\n",
       "7          6hd6  6hd6_STI_rdkit        pocket_7  -1.333,28.528,67.874\n",
       "8          6hd6  6hd6_STI_rdkit        pocket_8    14.41,1.211,50.949\n",
       "9          6hd6  6hd6_FYH_rdkit  protein_center  15.746,23.565,54.818\n",
       "10         6hd6  6hd6_FYH_rdkit        pocket_1  20.691,16.697,56.311\n",
       "11         6hd6  6hd6_FYH_rdkit        pocket_2  20.243,41.418,52.346\n",
       "12         6hd6  6hd6_FYH_rdkit        pocket_3  10.161,15.802,61.654\n",
       "13         6hd6  6hd6_FYH_rdkit        pocket_4    14.8,30.117,65.358\n",
       "14         6hd6  6hd6_FYH_rdkit        pocket_5  18.961,28.224,40.251\n",
       "15         6hd6  6hd6_FYH_rdkit        pocket_6    32.53,30.08,55.506\n",
       "16         6hd6  6hd6_FYH_rdkit        pocket_7  -1.333,28.528,67.874\n",
       "17         6hd6  6hd6_FYH_rdkit        pocket_8    14.41,1.211,50.949"
      ]
     },
     "execution_count": 28,
     "metadata": {},
     "output_type": "execute_result"
    }
   ],
   "source": [
    "info = []\n",
    "for pdb in pdb_list:\n",
    "    for compound_name in list(compound_dict.keys()):\n",
    "        # use protein center as the block center.\n",
    "        com = \",\".join([str(a.round(3)) for a in protein_dict[pdb][0].mean(axis=0).numpy()])\n",
    "        info.append([pdb, compound_name, \"protein_center\", com])\n",
    "\n",
    "        p2rankFile = f\"{pre}/p2rank/{pdb}_protein.pdb_predictions.csv\"\n",
    "        pocket = pd.read_csv(p2rankFile)\n",
    "        pocket.columns = pocket.columns.str.strip()\n",
    "        pocket_coms = pocket[['center_x', 'center_y', 'center_z']].values\n",
    "        for ith_pocket, com in enumerate(pocket_coms):\n",
    "            com = \",\".join([str(a.round(3)) for a in com])\n",
    "            info.append([pdb, compound_name, f\"pocket_{ith_pocket+1}\", com])\n",
    "info = pd.DataFrame(info, columns=['protein_name', 'compound_name', 'pocket_name', 'pocket_com'])\n",
    "info"
   ]
  },
  {
   "cell_type": "markdown",
   "id": "10a2df6d",
   "metadata": {},
   "source": [
    "# construct dataset"
   ]
  },
  {
   "cell_type": "code",
   "execution_count": 29,
   "id": "5b6db20c",
   "metadata": {},
   "outputs": [],
   "source": [
    "import torch\n",
    "torch.set_num_threads(1)"
   ]
  },
  {
   "cell_type": "code",
   "execution_count": 30,
   "id": "70e69824",
   "metadata": {},
   "outputs": [],
   "source": [
    "from data import TankBind_prediction"
   ]
  },
  {
   "cell_type": "code",
   "execution_count": 31,
   "id": "441fadc7",
   "metadata": {},
   "outputs": [
    {
     "name": "stdout",
     "output_type": "stream",
     "text": [
      "['single_PDB_6hd6/6hd6_dataset/processed/data.pt', 'single_PDB_6hd6/6hd6_dataset/processed/protein.pt', 'single_PDB_6hd6/6hd6_dataset/processed/compound.pt']\n"
     ]
    },
    {
     "name": "stderr",
     "output_type": "stream",
     "text": [
      "rm: cannot remove './single_PDB_6hd6//6hd6_dataset/': No such file or directory\n",
      "Processing...\n",
      "Done!\n"
     ]
    }
   ],
   "source": [
    "dataset_path = f\"{pre}/{pdb}_dataset/\"\n",
    "os.system(f\"rm -r {dataset_path}\")\n",
    "os.system(f\"mkdir -p {dataset_path}\")\n",
    "dataset = TankBind_prediction(dataset_path, data=info, protein_dict=protein_dict, compound_dict=compound_dict)"
   ]
  },
  {
   "cell_type": "code",
   "execution_count": 32,
   "id": "87f7d3df",
   "metadata": {},
   "outputs": [
    {
     "name": "stdout",
     "output_type": "stream",
     "text": [
      "['single_PDB_6hd6/6hd6_dataset/processed/data.pt', 'single_PDB_6hd6/6hd6_dataset/processed/protein.pt', 'single_PDB_6hd6/6hd6_dataset/processed/compound.pt']\n"
     ]
    }
   ],
   "source": [
    "dataset_path = f\"{pre}/{pdb}_dataset/\"\n",
    "dataset = TankBind_prediction(dataset_path)"
   ]
  },
  {
   "cell_type": "code",
   "execution_count": 33,
   "id": "be2d6529",
   "metadata": {},
   "outputs": [],
   "source": [
    "import logging\n",
    "from torch_geometric.loader import DataLoader\n",
    "from tqdm import tqdm    # pip install tqdm if fails.\n",
    "from model import get_model\n",
    "# from utils import *"
   ]
  },
  {
   "cell_type": "code",
   "execution_count": 34,
   "id": "3b0cb143",
   "metadata": {},
   "outputs": [
    {
     "name": "stdout",
     "output_type": "stream",
     "text": [
      "cuda\n",
      "09:20:38   5 stack, readout2, pred dis map add self attention and GVP embed, compound model GIN\n"
     ]
    },
    {
     "name": "stderr",
     "output_type": "stream",
     "text": [
      "100%|██████████| 4/4 [00:02<00:00,  1.74it/s]\n"
     ]
    }
   ],
   "source": [
    "batch_size = 5\n",
    "device = 'cuda' if torch.cuda.is_available() else 'cpu'\n",
    "#device= 'cpu'\n",
    "print(device)\n",
    "logging.basicConfig(level=logging.INFO)\n",
    "model = get_model(0, logging, device)\n",
    "# re-dock model\n",
    "# modelFile = \"../saved_models/re_dock.pt\"\n",
    "# self-dock model\n",
    "modelFile = \"../saved_models/self_dock.pt\"\n",
    "\n",
    "model.load_state_dict(torch.load(modelFile, map_location=device))\n",
    "_ = model.eval()\n",
    "\n",
    "data_loader = DataLoader(dataset, batch_size=batch_size, follow_batch=['x', 'y', 'compound_pair'], shuffle=False, num_workers=8)\n",
    "affinity_pred_list = []\n",
    "y_pred_list = []\n",
    "for data in tqdm(data_loader):\n",
    "    data = data.to(device)\n",
    "    y_pred, affinity_pred = model(data)\n",
    "    affinity_pred_list.append(affinity_pred.detach().cpu())\n",
    "    for i in range(data.y_batch.max() + 1):\n",
    "        y_pred_list.append((y_pred[data['y_batch'] == i]).detach().cpu())\n",
    "\n",
    "affinity_pred_list = torch.cat(affinity_pred_list)"
   ]
  },
  {
   "cell_type": "code",
   "execution_count": 35,
   "id": "0f578fa9",
   "metadata": {},
   "outputs": [
    {
     "data": {
      "text/plain": [
       "tensor([8.0182, 7.8629, 5.5873, 7.6644, 4.5967, 2.3402, 6.4694, 3.2241, 5.3610,\n",
       "        6.2533, 6.1588, 6.7576, 5.8242, 3.4801, 2.3382, 3.0268, 2.5952, 4.2196])"
      ]
     },
     "execution_count": 35,
     "metadata": {},
     "output_type": "execute_result"
    }
   ],
   "source": [
    "affinity_pred_list"
   ]
  },
  {
   "cell_type": "code",
   "execution_count": 36,
   "id": "60fd3375",
   "metadata": {},
   "outputs": [],
   "source": [
    "info = dataset.data\n",
    "info['affinity'] = affinity_pred_list"
   ]
  },
  {
   "cell_type": "code",
   "execution_count": 37,
   "id": "6d103c25",
   "metadata": {},
   "outputs": [],
   "source": [
    "info.to_csv(f\"{pre}/info_with_predicted_affinity.csv\")"
   ]
  },
  {
   "cell_type": "code",
   "execution_count": 38,
   "id": "d1d3054d",
   "metadata": {},
   "outputs": [
    {
     "data": {
      "text/html": [
       "<div>\n",
       "<style scoped>\n",
       "    .dataframe tbody tr th:only-of-type {\n",
       "        vertical-align: middle;\n",
       "    }\n",
       "\n",
       "    .dataframe tbody tr th {\n",
       "        vertical-align: top;\n",
       "    }\n",
       "\n",
       "    .dataframe thead th {\n",
       "        text-align: right;\n",
       "    }\n",
       "</style>\n",
       "<table border=\"1\" class=\"dataframe\">\n",
       "  <thead>\n",
       "    <tr style=\"text-align: right;\">\n",
       "      <th></th>\n",
       "      <th>index</th>\n",
       "      <th>protein_name</th>\n",
       "      <th>compound_name</th>\n",
       "      <th>pocket_name</th>\n",
       "      <th>pocket_com</th>\n",
       "      <th>affinity</th>\n",
       "    </tr>\n",
       "  </thead>\n",
       "  <tbody>\n",
       "    <tr>\n",
       "      <th>0</th>\n",
       "      <td>0</td>\n",
       "      <td>6hd6</td>\n",
       "      <td>6hd6_STI_rdkit</td>\n",
       "      <td>protein_center</td>\n",
       "      <td>15.746,23.565,54.818</td>\n",
       "      <td>8.018212</td>\n",
       "    </tr>\n",
       "    <tr>\n",
       "      <th>1</th>\n",
       "      <td>11</td>\n",
       "      <td>6hd6</td>\n",
       "      <td>6hd6_FYH_rdkit</td>\n",
       "      <td>pocket_2</td>\n",
       "      <td>20.243,41.418,52.346</td>\n",
       "      <td>6.757601</td>\n",
       "    </tr>\n",
       "  </tbody>\n",
       "</table>\n",
       "</div>"
      ],
      "text/plain": [
       "   index protein_name   compound_name     pocket_name            pocket_com  \\\n",
       "0      0         6hd6  6hd6_STI_rdkit  protein_center  15.746,23.565,54.818   \n",
       "1     11         6hd6  6hd6_FYH_rdkit        pocket_2  20.243,41.418,52.346   \n",
       "\n",
       "   affinity  \n",
       "0  8.018212  \n",
       "1  6.757601  "
      ]
     },
     "execution_count": 38,
     "metadata": {},
     "output_type": "execute_result"
    }
   ],
   "source": [
    "chosen = info.loc[info.groupby(['protein_name', 'compound_name'],sort=False)['affinity'].agg('idxmax')].reset_index()\n",
    "chosen"
   ]
  },
  {
   "cell_type": "markdown",
   "id": "25bd3c9d",
   "metadata": {},
   "source": [
    "# from predicted interaction distance map to sdf"
   ]
  },
  {
   "cell_type": "code",
   "execution_count": 39,
   "id": "7f92b01b",
   "metadata": {},
   "outputs": [],
   "source": [
    "import matplotlib.pyplot as plt\n",
    "%matplotlib inline"
   ]
  },
  {
   "cell_type": "code",
   "execution_count": 40,
   "id": "e4252661",
   "metadata": {},
   "outputs": [],
   "source": [
    "from generation_utils import get_LAS_distance_constraint_mask, get_info_pred_distance, write_with_new_coords\n",
    "device = 'cpu'\n",
    "for i, line in chosen.iterrows():\n",
    "    idx = line['index']\n",
    "    pocket_name = line['pocket_name']\n",
    "    compound_name = line['compound_name']\n",
    "    ligandName = compound_name.split(\"_\")[1]\n",
    "    coords = dataset[idx].coords.to(device)\n",
    "    protein_nodes_xyz = dataset[idx].node_xyz.to(device)\n",
    "    n_compound = coords.shape[0]\n",
    "    n_protein = protein_nodes_xyz.shape[0]\n",
    "    y_pred = y_pred_list[idx].reshape(n_protein, n_compound).to(device)\n",
    "    y = dataset[idx].dis_map.reshape(n_protein, n_compound).to(device)\n",
    "    compound_pair_dis_constraint = torch.cdist(coords, coords)\n",
    "    rdkitMolFile = f\"{pre}/{pdb}_{ligandName}_mol_from_rdkit.sdf\"\n",
    "    mol = Chem.MolFromMolFile(rdkitMolFile)\n",
    "    LAS_distance_constraint_mask = get_LAS_distance_constraint_mask(mol).bool()\n",
    "    info = get_info_pred_distance(coords, y_pred, protein_nodes_xyz, compound_pair_dis_constraint, \n",
    "                                  LAS_distance_constraint_mask=LAS_distance_constraint_mask,\n",
    "                                  n_repeat=1, show_progress=False)\n",
    "\n",
    "    result_folder = f'{pre}/{pdb}_result/'\n",
    "    os.system(f'mkdir -p {result_folder}')\n",
    "    # toFile = f'{result_folder}/{ligandName}_{pocket_name}_tankbind.sdf'\n",
    "    toFile = f'{result_folder}/{ligandName}_tankbind.sdf'\n",
    "    # print(toFile)\n",
    "    new_coords = info.sort_values(\"loss\")['coords'].iloc[0].astype(np.double)\n",
    "    write_with_new_coords(mol, new_coords, toFile)"
   ]
  },
  {
   "cell_type": "code",
   "execution_count": 41,
   "id": "f4dc76a1",
   "metadata": {},
   "outputs": [
    {
     "data": {
      "application/vnd.jupyter.widget-view+json": {
       "model_id": "03476a9fc5ef442e9e93632a543d494a",
       "version_major": 2,
       "version_minor": 0
      },
      "text/plain": [
       "NGLWidget()"
      ]
     },
     "metadata": {},
     "output_type": "display_data"
    }
   ],
   "source": [
    "view = nglview.show_file(nglview.FileStructure(proteinFile), default=False)\n",
    "view.add_representation('cartoon', selection='protein', color='white')\n",
    "\n",
    "\n",
    "for ligandName in ['STI', 'FYH']:\n",
    "    predictedFile = f'{result_folder}/{ligandName}_tankbind.sdf'\n",
    "    rdkit = view.add_component(nglview.FileStructure(predictedFile), default=False)\n",
    "    rdkit.add_ball_and_stick(color='red')\n",
    "    ligandFile = f\"{pre}/{pdb}_{ligandName}_ligand.sdf\"\n",
    "    native = view.add_component(nglview.FileStructure(ligandFile), default=False)\n",
    "    native.add_ball_and_stick(color='yellow')\n",
    "view"
   ]
  },
  {
   "cell_type": "code",
   "execution_count": 42,
   "id": "b1c06977",
   "metadata": {},
   "outputs": [
    {
     "data": {
      "application/vnd.jupyter.widget-view+json": {
       "model_id": "808343850d30421384518e519043ce1f",
       "version_major": 2,
       "version_minor": 0
      },
      "text/plain": [
       "Image(value=b'', width='99%')"
      ]
     },
     "metadata": {},
     "output_type": "display_data"
    }
   ],
   "source": [
    "# red is prediction starting from mol generated using RDKit, yellow is the native ligand.\n",
    "view.render_image()"
   ]
  },
  {
   "cell_type": "code",
   "execution_count": null,
   "id": "55a0bf0d",
   "metadata": {},
   "outputs": [],
   "source": []
  },
  {
   "cell_type": "code",
   "execution_count": 43,
   "id": "769a8887",
   "metadata": {},
   "outputs": [
    {
     "data": {
      "image/png": "\n",
      "text/plain": [
       "<IPython.core.display.Image object>"
      ]
     },
     "execution_count": 43,
     "metadata": {},
     "output_type": "execute_result"
    }
   ],
   "source": [
    "view._display_image()"
   ]
  },
  {
   "cell_type": "code",
   "execution_count": null,
   "id": "563906de",
   "metadata": {},
   "outputs": [],
   "source": []
  }
 ],
 "metadata": {
  "kernelspec": {
   "display_name": "Python [conda env:tankbind_py38]",
   "language": "python",
   "name": "conda-env-tankbind_py38-py"
  },
  "language_info": {
   "codemirror_mode": {
    "name": "ipython",
    "version": 3
   },
   "file_extension": ".py",
   "mimetype": "text/x-python",
   "name": "python",
   "nbconvert_exporter": "python",
   "pygments_lexer": "ipython3",
   "version": "3.8.13"
  },
  "nteract": {
   "version": "0.28.0"
  }
 },
 "nbformat": 4,
 "nbformat_minor": 5
}
