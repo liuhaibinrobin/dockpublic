{
 "cells": [
  {
   "cell_type": "markdown",
   "id": "346db596",
   "metadata": {},
   "source": [
    "# overview\n",
    "\n",
    "We start from the raw PDBbind dataset downloaded from http://www.pdbbind.org.cn/download.php\n",
    "\n",
    "1. filter out those unable to process using RDKit.\n",
    "\n",
    "2. Process the protein by only preserving the chains that with at least one atom within 10Å from any atom of the ligand.\n",
    "\n",
    "3. Use p2rank to segment protein into blocks.\n",
    "\n",
    "4. extract protein and ligand features.\n",
    "\n",
    "5. construct the training and test dataset.\n"
   ]
  },
  {
   "cell_type": "code",
   "execution_count": 1,
   "id": "05d6589c",
   "metadata": {},
   "outputs": [],
   "source": [
    "# test = info.query(\"group == 'test'\").reset_index(drop=True)\n",
    "# test_pdb_list = info.query(\"group == 'test'\").protein_name.unique()\n",
    "pre = \"/home/jovyan/TankBind/fragmentation/pdb_data/all_pdbbind\"\n",
    "# we use the time-split defined in EquiBind paper.\n",
    "# https://github.com/HannesStark/EquiBind/tree/main/data\n",
    "valid = np.loadtxt(\"../equbind/timesplit_no_lig_overlap_val\", dtype=str)\n",
    "test = np.loadtxt(\"../equbind/timesplit_test\", dtype=str)\n",
    "p2rank = \"bash /home/jovyan/TankBind/p2rank_2.3/prank\""
   ]
  },
  {
   "cell_type": "code",
   "execution_count": 2,
   "id": "f74c0c0a",
   "metadata": {},
   "outputs": [],
   "source": [
    "tankbind_src_folder_path = \"../tankbind/\"\n",
    "import sys\n",
    "sys.path.insert(0, tankbind_src_folder_path)"
   ]
  },
  {
   "cell_type": "code",
   "execution_count": 3,
   "id": "0e050ea5",
   "metadata": {},
   "outputs": [],
   "source": [
    "import pandas as pd\n",
    "import numpy as np\n",
    "from tqdm import tqdm"
   ]
  },
  {
   "cell_type": "markdown",
   "id": "f6a9fb62",
   "metadata": {},
   "source": [
    "# process the raw PDBbind dataset."
   ]
  },
  {
   "cell_type": "code",
   "execution_count": 4,
   "id": "b22805d8",
   "metadata": {},
   "outputs": [],
   "source": [
    "from utils import read_pdbbind_data"
   ]
  },
  {
   "cell_type": "code",
   "execution_count": 5,
   "id": "9d2ef2ef",
   "metadata": {},
   "outputs": [],
   "source": [
    "# raw PDBbind dataset could be downloaded from http://www.pdbbind.org.cn/download.php\n",
    "\n",
    "df_pdb_id = pd.read_csv(f'{pre}/index/INDEX_general_PL_name.2020', sep=\"  \", comment='#', header=None, names=['pdb', 'year', 'uid', 'd', 'e','f','g','h','i','j','k','l','m','n','o'], engine='python')\n",
    "df_pdb_id = df_pdb_id[['pdb','uid']]\n",
    "data = read_pdbbind_data(f'{pre}/index/INDEX_general_PL_data.2020')\n",
    "data = data.merge(df_pdb_id, on=['pdb'])\n"
   ]
  },
  {
   "cell_type": "markdown",
   "id": "847a760c",
   "metadata": {},
   "source": [
    "# ligand file should be readable by RDKit."
   ]
  },
  {
   "cell_type": "code",
   "execution_count": 6,
   "id": "7a54b6c4",
   "metadata": {},
   "outputs": [],
   "source": [
    "from feature_utils import read_mol"
   ]
  },
  {
   "cell_type": "code",
   "execution_count": 7,
   "id": "d7cba368",
   "metadata": {
    "tags": []
   },
   "outputs": [
    {
     "name": "stderr",
     "output_type": "stream",
     "text": [
      "100%|██████████| 19443/19443 [02:33<00:00, 127.00it/s]\n"
     ]
    }
   ],
   "source": [
    "from rdkit import RDLogger\n",
    "RDLogger.DisableLog('rdApp.*')\n",
    "pdb_list = []\n",
    "probem_list = []\n",
    "for pdb in tqdm(data.pdb):\n",
    "    sdf_fileName = f\"{pre}/{pdb}/{pdb}_ligand.sdf\"\n",
    "    mol2_fileName = f\"{pre}/{pdb}/{pdb}_ligand.mol2\"\n",
    "    mol, problem = read_mol(sdf_fileName, mol2_fileName)\n",
    "    if problem:\n",
    "        probem_list.append(pdb)\n",
    "        continue\n",
    "    if pdb==\"2r1w\":\n",
    "        continue\n",
    "    pdb_list.append(pdb)"
   ]
  },
  {
   "cell_type": "code",
   "execution_count": 8,
   "id": "909964c3",
   "metadata": {},
   "outputs": [],
   "source": [
    "data = data.query(\"pdb in @pdb_list\").reset_index(drop=True)"
   ]
  },
  {
   "cell_type": "code",
   "execution_count": 9,
   "id": "bfb4e7c1",
   "metadata": {},
   "outputs": [
    {
     "data": {
      "text/plain": [
       "(19127, 7)"
      ]
     },
     "execution_count": 9,
     "metadata": {},
     "output_type": "execute_result"
    }
   ],
   "source": [
    "data.shape"
   ]
  },
  {
   "cell_type": "markdown",
   "id": "702bfb97",
   "metadata": {},
   "source": [
    "### for ease of RMSD evaluation later, we renumber the atom index to be consistent with the smiles"
   ]
  },
  {
   "cell_type": "code",
   "execution_count": 10,
   "id": "0cb0002f",
   "metadata": {},
   "outputs": [],
   "source": [
    "from feature_utils import write_renumbered_sdf\n",
    "import os"
   ]
  },
  {
   "cell_type": "code",
   "execution_count": 11,
   "id": "d5981fe5",
   "metadata": {},
   "outputs": [
    {
     "name": "stderr",
     "output_type": "stream",
     "text": [
      "100%|██████████| 19127/19127 [05:55<00:00, 53.84it/s]\n"
     ]
    }
   ],
   "source": [
    "toFolder = f\"{pre}/renumber_atom_index_same_as_smiles\"\n",
    "os.system(f\"mkdir -p {toFolder}\")\n",
    "for pdb in tqdm(pdb_list):\n",
    "    sdf_fileName = f\"{pre}/{pdb}/{pdb}_ligand.sdf\"\n",
    "    mol2_fileName = f\"{pre}/{pdb}/{pdb}_ligand.mol2\"\n",
    "    toFile = f\"{toFolder}/{pdb}.sdf\"\n",
    "    write_renumbered_sdf(toFile, sdf_fileName, mol2_fileName)\n"
   ]
  },
  {
   "cell_type": "markdown",
   "id": "983514bf",
   "metadata": {},
   "source": [
    "# process PDBbind proteins, removing extra chains, cutoff 10A"
   ]
  },
  {
   "cell_type": "code",
   "execution_count": 12,
   "id": "de4a9ffc",
   "metadata": {},
   "outputs": [
    {
     "data": {
      "text/plain": [
       "0"
      ]
     },
     "execution_count": 12,
     "metadata": {},
     "output_type": "execute_result"
    }
   ],
   "source": [
    "toFolder = f\"{pre}/protein_remove_extra_chains_10A/\"\n",
    "os.system(f\"mkdir -p {toFolder}\")"
   ]
  },
  {
   "cell_type": "code",
   "execution_count": 13,
   "id": "3ca3486f",
   "metadata": {},
   "outputs": [],
   "source": [
    "input_ = []\n",
    "cutoff = 10\n",
    "for pdb in data.pdb.values:\n",
    "    pdbFile = f\"{pre}/{pdb}/{pdb}_protein.pdb\"\n",
    "    ligandFile = f\"{pre}/renumber_atom_index_same_as_smiles/{pdb}.sdf\"\n",
    "    toFile = f\"{toFolder}/{pdb}_protein.pdb\"\n",
    "    x = (pdbFile, ligandFile, cutoff, toFile)\n",
    "    input_.append(x)"
   ]
  },
  {
   "cell_type": "code",
   "execution_count": 14,
   "id": "8488fd9d",
   "metadata": {},
   "outputs": [],
   "source": [
    "from feature_utils import select_chain_within_cutoff_to_ligand_v2"
   ]
  },
  {
   "cell_type": "code",
   "execution_count": 15,
   "id": "df4d4202",
   "metadata": {},
   "outputs": [
    {
     "name": "stderr",
     "output_type": "stream",
     "text": [
      "[mlcrate] 64 CPUs:  16%|█▋        | 3137/19127 [01:00<04:50, 55.09it/s][09:41:43] bond with order 0 found on line 35. This is not part of the MDL specification.\n",
      "[mlcrate] 64 CPUs:  30%|███       | 5784/19127 [01:45<04:04, 54.63it/s][09:42:28] bond with order 0 found on line 37. This is not part of the MDL specification.\n",
      "[mlcrate] 64 CPUs:  39%|███▉      | 7540/19127 [02:14<03:19, 58.01it/s][09:42:58] bond with order 0 found on line 29. This is not part of the MDL specification.\n",
      "[mlcrate] 64 CPUs:  43%|████▎     | 8156/19127 [02:25<02:54, 62.80it/s][09:43:08] bond with order 0 found on line 31. This is not part of the MDL specification.\n",
      "[mlcrate] 64 CPUs:  46%|████▌     | 8793/19127 [02:35<02:40, 64.55it/s][09:43:18] bond with order 0 found on line 59. This is not part of the MDL specification.\n",
      "[09:43:18] bond with order 0 found on line 61. This is not part of the MDL specification.\n",
      "[mlcrate] 64 CPUs:  47%|████▋     | 8908/19127 [02:37<02:42, 63.06it/s][09:43:20] bond with order 0 found on line 61. This is not part of the MDL specification.\n",
      "[mlcrate] 64 CPUs:  47%|████▋     | 8987/19127 [02:38<02:39, 63.55it/s][09:43:21] bond with order 0 found on line 46. This is not part of the MDL specification.\n",
      "[mlcrate] 64 CPUs:  53%|█████▎    | 10162/19127 [02:57<02:35, 57.61it/s][09:43:40] bond with order 0 found on line 46. This is not part of the MDL specification.\n",
      "[mlcrate] 64 CPUs:  54%|█████▍    | 10389/19127 [03:02<02:39, 54.90it/s][09:43:45] bond with order 0 found on line 46. This is not part of the MDL specification.\n",
      "[mlcrate] 64 CPUs:  66%|██████▌   | 12565/19127 [03:37<01:48, 60.29it/s][09:44:20] bond with order 0 found on line 48. This is not part of the MDL specification.\n",
      "[mlcrate] 64 CPUs: 100%|██████████| 19127/19127 [05:25<00:00, 58.79it/s]\n"
     ]
    }
   ],
   "source": [
    "import mlcrate as mlc\n",
    "import os\n",
    "pool = mlc.SuperPool(64)\n",
    "pool.pool.restart()\n",
    "_ = pool.map(select_chain_within_cutoff_to_ligand_v2,input_)\n",
    "pool.exit()"
   ]
  },
  {
   "cell_type": "code",
   "execution_count": 16,
   "id": "b3396175",
   "metadata": {},
   "outputs": [],
   "source": [
    "# previously, I found that 2r1w has no chain near the ligand.\n",
    "data = data.query(\"pdb != '2r1w'\").reset_index(drop=True)"
   ]
  },
  {
   "cell_type": "markdown",
   "id": "b7dcfb18",
   "metadata": {},
   "source": [
    "# p2rank segmentation"
   ]
  },
  {
   "cell_type": "code",
   "execution_count": 17,
   "id": "94be75a5",
   "metadata": {},
   "outputs": [],
   "source": [
    "p2rank_prediction_folder = f\"{pre}/p2rank_protein_remove_extra_chains_10A\"\n",
    "os.system(f\"mkdir -p {p2rank_prediction_folder}\")\n",
    "ds = f\"{p2rank_prediction_folder}/protein_list.ds\"\n",
    "with open(ds, \"w\") as out:\n",
    "    for pdb in data.pdb.values:\n",
    "        out.write(f\"../protein_remove_extra_chains_10A/{pdb}_protein.pdb\\n\")"
   ]
  },
  {
   "cell_type": "code",
   "execution_count": 18,
   "id": "266329e7",
   "metadata": {},
   "outputs": [],
   "source": [
    "# # takes about 30 minutes.\n",
    "cmd = f\"{p2rank} predict {ds} -o {p2rank_prediction_folder}/p2rank -threads 16\"\n",
    "os.system(cmd)"
   ]
  },
  {
   "cell_type": "code",
   "execution_count": 19,
   "id": "8612161e",
   "metadata": {},
   "outputs": [],
   "source": [
    "data.to_csv(f\"{pre}/data.csv\")"
   ]
  },
  {
   "cell_type": "code",
   "execution_count": 20,
   "id": "9ddbefa1",
   "metadata": {},
   "outputs": [],
   "source": [
    "pdb_list = data.pdb.values"
   ]
  },
  {
   "cell_type": "code",
   "execution_count": 21,
   "id": "c7b9bc77",
   "metadata": {},
   "outputs": [
    {
     "name": "stderr",
     "output_type": "stream",
     "text": [
      "100%|██████████| 19127/19127 [02:47<00:00, 114.15it/s]\n"
     ]
    }
   ],
   "source": [
    "tankbind_data_path = f\"{pre}/tankbind_data\"\n",
    "name_list = pdb_list\n",
    "d_list = []\n",
    "\n",
    "for name in tqdm(name_list):\n",
    "    p2rankFile = f\"{pre}/p2rank_protein_remove_extra_chains_10A/p2rank/{name}_protein.pdb_predictions.csv\"\n",
    "    d = pd.read_csv(p2rankFile)\n",
    "    d.columns = d.columns.str.strip()\n",
    "    d_list.append(d.assign(name=name))\n",
    "d = pd.concat(d_list).reset_index(drop=True)\n",
    "d.reset_index(drop=True).to_feather(f\"{tankbind_data_path}/p2rank_result.feather\")"
   ]
  },
  {
   "cell_type": "code",
   "execution_count": 22,
   "id": "61359ba6",
   "metadata": {},
   "outputs": [],
   "source": [
    "d = pd.read_feather(f\"{tankbind_data_path}/p2rank_result.feather\")"
   ]
  },
  {
   "cell_type": "code",
   "execution_count": 23,
   "id": "8157d29b",
   "metadata": {},
   "outputs": [
    {
     "name": "stderr",
     "output_type": "stream",
     "text": [
      "100%|██████████| 19127/19127 [03:23<00:00, 93.88it/s] \n"
     ]
    }
   ],
   "source": [
    "pockets_dict = {}\n",
    "for name in tqdm(name_list):\n",
    "    pockets_dict[name] = d[d.name == name].reset_index(drop=True)"
   ]
  },
  {
   "cell_type": "code",
   "execution_count": null,
   "id": "457678b1",
   "metadata": {},
   "outputs": [],
   "source": []
  },
  {
   "cell_type": "markdown",
   "id": "448550ae",
   "metadata": {},
   "source": [
    "# protein feature"
   ]
  },
  {
   "cell_type": "code",
   "execution_count": 24,
   "id": "f4e11341",
   "metadata": {},
   "outputs": [],
   "source": [
    "from feature_utils import get_protein_feature"
   ]
  },
  {
   "cell_type": "code",
   "execution_count": 25,
   "id": "1a1bffe9",
   "metadata": {},
   "outputs": [],
   "source": [
    "input_ = []\n",
    "protein_embedding_folder = f\"{tankbind_data_path}/gvp_protein_embedding\"\n",
    "os.system(f\"mkdir -p {protein_embedding_folder}\")\n",
    "for pdb in pdb_list:\n",
    "    proteinFile = f\"{pre}/protein_remove_extra_chains_10A/{pdb}_protein.pdb\"\n",
    "    toFile = f\"{protein_embedding_folder}/{pdb}.pt\"\n",
    "    x = (pdb, proteinFile, toFile)\n",
    "    input_.append(x)"
   ]
  },
  {
   "cell_type": "code",
   "execution_count": 26,
   "id": "7b223d0c",
   "metadata": {},
   "outputs": [],
   "source": [
    "from Bio.PDB import PDBParser\n",
    "from feature_utils import get_clean_res_list\n",
    "import torch\n",
    "torch.set_num_threads(1)\n",
    "\n",
    "def batch_run(x):\n",
    "    protein_dict = {}\n",
    "    pdb, proteinFile, toFile = x\n",
    "    parser = PDBParser(QUIET=True)\n",
    "    s = parser.get_structure(pdb, proteinFile)\n",
    "    res_list = get_clean_res_list(s.get_residues(), verbose=False, ensure_ca_exist=True)\n",
    "    protein_dict[pdb] = get_protein_feature(res_list)\n",
    "    torch.save(protein_dict, toFile)"
   ]
  },
  {
   "cell_type": "code",
   "execution_count": 27,
   "id": "460c55f8",
   "metadata": {},
   "outputs": [
    {
     "name": "stderr",
     "output_type": "stream",
     "text": [
      "[mlcrate] 64 CPUs: 100%|██████████| 19127/19127 [05:03<00:00, 63.07it/s]\n"
     ]
    }
   ],
   "source": [
    "import mlcrate as mlc\n",
    "import os\n",
    "pool = mlc.SuperPool(64)\n",
    "pool.pool.restart()\n",
    "_ = pool.map(batch_run,input_)\n",
    "pool.exit()"
   ]
  },
  {
   "cell_type": "code",
   "execution_count": 1,
   "id": "ca89aa62",
   "metadata": {},
   "outputs": [
    {
     "ename": "NameError",
     "evalue": "name 'tqdm' is not defined",
     "output_type": "error",
     "traceback": [
      "\u001b[0;31m---------------------------------------------------------------------------\u001b[0m",
      "\u001b[0;31mNameError\u001b[0m                                 Traceback (most recent call last)",
      "Input \u001b[0;32mIn [1]\u001b[0m, in \u001b[0;36m<cell line: 3>\u001b[0;34m()\u001b[0m\n\u001b[1;32m      1\u001b[0m \u001b[38;5;28;01mimport\u001b[39;00m \u001b[38;5;21;01mtorch\u001b[39;00m\n\u001b[1;32m      2\u001b[0m protein_dict \u001b[38;5;241m=\u001b[39m {}\n\u001b[0;32m----> 3\u001b[0m \u001b[38;5;28;01mfor\u001b[39;00m pdb \u001b[38;5;129;01min\u001b[39;00m \u001b[43mtqdm\u001b[49m(pdb_list):\n\u001b[1;32m      4\u001b[0m     protein_dict\u001b[38;5;241m.\u001b[39mupdate(torch\u001b[38;5;241m.\u001b[39mload(\u001b[38;5;124mf\u001b[39m\u001b[38;5;124m\"\u001b[39m\u001b[38;5;132;01m{\u001b[39;00mprotein_embedding_folder\u001b[38;5;132;01m}\u001b[39;00m\u001b[38;5;124m/\u001b[39m\u001b[38;5;132;01m{\u001b[39;00mpdb\u001b[38;5;132;01m}\u001b[39;00m\u001b[38;5;124m.pt\u001b[39m\u001b[38;5;124m\"\u001b[39m))\n",
      "\u001b[0;31mNameError\u001b[0m: name 'tqdm' is not defined"
     ]
    }
   ],
   "source": [
    "import torch\n",
    "protein_dict = {}\n",
    "for pdb in tqdm(pdb_list):\n",
    "    protein_dict.update(torch.load(f\"{protein_embedding_folder}/{pdb}.pt\"))\n"
   ]
  },
  {
   "cell_type": "code",
   "execution_count": null,
   "id": "219e8489",
   "metadata": {},
   "outputs": [],
   "source": []
  },
  {
   "cell_type": "markdown",
   "id": "bb355a98",
   "metadata": {},
   "source": [
    "# Compound Features"
   ]
  },
  {
   "cell_type": "code",
   "execution_count": null,
   "id": "7de7307a",
   "metadata": {},
   "outputs": [],
   "source": [
    "from feature_utils import extract_torchdrug_feature_from_mol\n",
    "compound_dict = {}\n",
    "skip_pdb_list = []\n",
    "for pdb in tqdm(pdb_list):\n",
    "    mol, _ = read_mol(f\"{pre}/renumber_atom_index_same_as_smiles/{pdb}.sdf\", None)\n",
    "    # extract features from sdf.\n",
    "    try:\n",
    "        compound_dict[pdb] = extract_torchdrug_feature_from_mol(mol, has_LAS_mask=True)  # self-dock set has_LAS_mask to true\n",
    "    except Exception as e:\n",
    "        print(e)\n",
    "        skip_pdb_list.append(pdb)\n",
    "        print(pdb)"
   ]
  },
  {
   "cell_type": "code",
   "execution_count": null,
   "id": "92da8bf9",
   "metadata": {},
   "outputs": [],
   "source": [
    "torch.save(compound_dict, f\"{tankbind_data_path}/compound_torchdrug_features.pt\")"
   ]
  },
  {
   "cell_type": "code",
   "execution_count": null,
   "id": "dd336af0",
   "metadata": {},
   "outputs": [],
   "source": [
    "skip_pdb_list"
   ]
  },
  {
   "cell_type": "code",
   "execution_count": null,
   "id": "12da5902",
   "metadata": {},
   "outputs": [],
   "source": [
    "data = data.query(\"pdb not in @skip_pdb_list\").reset_index(drop=True)"
   ]
  },
  {
   "cell_type": "markdown",
   "id": "53fd0644",
   "metadata": {},
   "source": [
    "# construct dataset."
   ]
  },
  {
   "cell_type": "code",
   "execution_count": null,
   "id": "49045125",
   "metadata": {},
   "outputs": [],
   "source": [
    "\n",
    "def assign_group(pdb, valid=valid, test=test):\n",
    "    if pdb in valid:\n",
    "        return 'valid'\n",
    "    if pdb in test:\n",
    "        return 'test'\n",
    "    return 'train'\n",
    "\n",
    "data['group'] = data.pdb.map(assign_group)"
   ]
  },
  {
   "cell_type": "code",
   "execution_count": null,
   "id": "6f98334d",
   "metadata": {},
   "outputs": [],
   "source": [
    "data.value_counts(\"group\")"
   ]
  },
  {
   "cell_type": "code",
   "execution_count": null,
   "id": "9396377d",
   "metadata": {},
   "outputs": [],
   "source": [
    "data['name'] = data['pdb']"
   ]
  },
  {
   "cell_type": "code",
   "execution_count": null,
   "id": "63fad758",
   "metadata": {},
   "outputs": [],
   "source": [
    "info = []\n",
    "err_pdb_list=[]\n",
    "for i, line in tqdm(data.iterrows(), total=data.shape[0]):\n",
    "    pdb = line['pdb']\n",
    "    uid = line['uid']\n",
    "    # smiles = line['smiles']\n",
    "    smiles = \"\"\n",
    "    affinity = line['affinity']\n",
    "    group = line['group']\n",
    "\n",
    "    compound_name = line['name']\n",
    "    protein_name = line['name']\n",
    "    try:\n",
    "        pocket = pockets_dict[pdb].head(10)\n",
    "    except:\n",
    "        err_pdb_list.append(pdb)\n",
    "        continue\n",
    "    pocket.columns = pocket.columns.str.strip()\n",
    "    pocket_coms = pocket[['center_x', 'center_y', 'center_z']].values\n",
    "    # native block.\n",
    "    info.append([protein_name, compound_name, pdb, smiles, affinity, uid, None, True, False, group])\n",
    "    # protein center as a block.\n",
    "    protein_com = protein_dict[protein_name][0].numpy().mean(axis=0).astype(float).reshape(1, 3)\n",
    "    info.append([protein_name, compound_name, pdb+\"_c\", smiles, affinity, uid, protein_com, False, False, group])\n",
    "    \n",
    "    for idx, pocket_line in pocket.iterrows():\n",
    "        pdb_idx = f\"{pdb}_{idx}\"\n",
    "        info.append([protein_name, compound_name, pdb_idx, smiles, affinity, uid, pocket_coms[idx].reshape(1, 3), False, False, group])\n",
    "info = pd.DataFrame(info, columns=['protein_name', 'compound_name', 'pdb', 'smiles', 'affinity', 'uid', 'pocket_com', \n",
    "                                   'use_compound_com', 'use_whole_protein',\n",
    "                                  'group'])\n",
    "print(len(info))\n"
   ]
  },
  {
   "cell_type": "code",
   "execution_count": null,
   "id": "f41ab49d",
   "metadata": {},
   "outputs": [],
   "source": [
    "len(err_pdb_list)"
   ]
  },
  {
   "cell_type": "code",
   "execution_count": null,
   "id": "1dc9c61e",
   "metadata": {},
   "outputs": [],
   "source": [
    "len(pockets_dict)"
   ]
  },
  {
   "cell_type": "code",
   "execution_count": null,
   "id": "246e6c7b",
   "metadata": {},
   "outputs": [],
   "source": [
    "info.shape"
   ]
  },
  {
   "cell_type": "code",
   "execution_count": null,
   "id": "49b8f635",
   "metadata": {},
   "outputs": [],
   "source": [
    "from data import TankBindDataSet\n",
    "import os"
   ]
  },
  {
   "cell_type": "code",
   "execution_count": null,
   "id": "83bdea39",
   "metadata": {},
   "outputs": [],
   "source": [
    "toFilePre = f\"{pre}/dataset\"\n",
    "os.system(f\"mkdir -p {toFilePre}\")\n",
    "dataset = TankBindDataSet(toFilePre, data=info, protein_dict=protein_dict, compound_dict=compound_dict)"
   ]
  },
  {
   "cell_type": "code",
   "execution_count": null,
   "id": "9b8d14c1",
   "metadata": {},
   "outputs": [],
   "source": [
    "dataset = TankBindDataSet(toFilePre)\n"
   ]
  },
  {
   "cell_type": "code",
   "execution_count": null,
   "id": "a1cbbd91",
   "metadata": {},
   "outputs": [],
   "source": [
    "t = []\n",
    "data = dataset.data\n",
    "pre_pdb = None\n",
    "for i, line in tqdm(data.iterrows(), total=data.shape[0]):\n",
    "    pdb = line['compound_name']\n",
    "    d = dataset[i]\n",
    "    p_length = d['node_xyz'].shape[0]\n",
    "    c_length = d['coords'].shape[0]\n",
    "    y_length = d['y'].shape[0]\n",
    "    num_contact = (d.y > 0).sum()\n",
    "    t.append([i, pdb, p_length, c_length, y_length, num_contact])\n",
    "\n"
   ]
  },
  {
   "cell_type": "code",
   "execution_count": null,
   "id": "0903543e",
   "metadata": {
    "scrolled": true
   },
   "outputs": [],
   "source": [
    "# data = data.drop(['p_length', 'c_length', 'y_length', 'num_contact'], axis=1)"
   ]
  },
  {
   "cell_type": "code",
   "execution_count": null,
   "id": "6f4bb3da",
   "metadata": {},
   "outputs": [],
   "source": [
    "t = pd.DataFrame(t, columns=['index', 'pdb' ,'p_length', 'c_length', 'y_length', 'num_contact'])\n",
    "t['num_contact'] = t['num_contact'].apply(lambda x: x.item())"
   ]
  },
  {
   "cell_type": "code",
   "execution_count": null,
   "id": "d5324a85",
   "metadata": {},
   "outputs": [],
   "source": [
    "data = pd.concat([data, t[['p_length', 'c_length', 'y_length', 'num_contact']]], axis=1)"
   ]
  },
  {
   "cell_type": "code",
   "execution_count": null,
   "id": "60e33edc",
   "metadata": {},
   "outputs": [],
   "source": [
    "native_num_contact = data.query(\"use_compound_com\").set_index(\"protein_name\")['num_contact'].to_dict()\n",
    "data['native_num_contact'] = data.protein_name.map(native_num_contact)\n",
    "# data['fract_of_native_contact'] = data['num_contact'] / data['native_num_contact']"
   ]
  },
  {
   "cell_type": "code",
   "execution_count": null,
   "id": "23066a23",
   "metadata": {},
   "outputs": [],
   "source": [
    "torch.save(data, f\"{toFilePre}/processed/data.pt\")"
   ]
  },
  {
   "cell_type": "code",
   "execution_count": null,
   "id": "ded89fd1",
   "metadata": {},
   "outputs": [],
   "source": [
    "import torch\n",
    "info = torch.load(f\"{toFilePre}/processed/data.pt\")\n"
   ]
  },
  {
   "cell_type": "code",
   "execution_count": null,
   "id": "62327ac7",
   "metadata": {},
   "outputs": [],
   "source": [
    "test = info.query(\"group == 'test'\").reset_index(drop=True)\n",
    "test_pdb_list = info.query(\"group == 'test'\").protein_name.unique()"
   ]
  },
  {
   "cell_type": "code",
   "execution_count": null,
   "id": "bfd4b354",
   "metadata": {},
   "outputs": [],
   "source": [
    "test = info.query(\"group == 'test'\").reset_index(drop=True)\n",
    "test_pdb_list = info.query(\"group == 'test'\").protein_name.unique()"
   ]
  },
  {
   "cell_type": "code",
   "execution_count": null,
   "id": "83d2ee58",
   "metadata": {},
   "outputs": [],
   "source": [
    "subset_protein_dict = {}\n",
    "for pdb in tqdm(test_pdb_list):\n",
    "    subset_protein_dict[pdb] = protein_dict[pdb]"
   ]
  },
  {
   "cell_type": "code",
   "execution_count": null,
   "id": "c9beade6",
   "metadata": {},
   "outputs": [],
   "source": [
    "subset_compound_dict = {}\n",
    "for pdb in tqdm(test_pdb_list):\n",
    "    subset_compound_dict[pdb] = compound_dict[pdb]"
   ]
  },
  {
   "cell_type": "code",
   "execution_count": null,
   "id": "ce97e14d",
   "metadata": {},
   "outputs": [],
   "source": [
    "\n",
    "toFilePre = f\"{pre}/test_dataset\"\n",
    "os.system(f\"mkdir -p {toFilePre}\")\n",
    "dataset = TankBindDataSet(toFilePre, data=test, protein_dict=subset_protein_dict, compound_dict=subset_compound_dict)"
   ]
  },
  {
   "cell_type": "code",
   "execution_count": null,
   "id": "c4fb7d92",
   "metadata": {},
   "outputs": [],
   "source": [
    "def canonical_smiles(smiles):\n",
    "    return Chem.MolToSmiles(Chem.MolFromSmiles(smiles))"
   ]
  }
 ],
 "metadata": {
  "kernelspec": {
   "display_name": "Python [conda env:root] *",
   "language": "python",
   "name": "conda-root-py"
  },
  "language_info": {
   "codemirror_mode": {
    "name": "ipython",
    "version": 3
   },
   "file_extension": ".py",
   "mimetype": "text/x-python",
   "name": "python",
   "nbconvert_exporter": "python",
   "pygments_lexer": "ipython3",
   "version": "3.7.12"
  }
 },
 "nbformat": 4,
 "nbformat_minor": 5
}
