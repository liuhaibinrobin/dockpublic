{
 "cells": [
  {
   "cell_type": "markdown",
   "id": "346db596",
   "metadata": {},
   "source": [
    "# overview\n",
    "\n",
    "We start from the raw PDBbind dataset downloaded from http://www.pdbbind.org.cn/download.php\n",
    "\n",
    "1. filter out those unable to process using RDKit.\n",
    "\n",
    "2. Process the protein by only preserving the chains that with at least one atom within 10Å from any atom of the ligand.\n",
    "\n",
    "3. Use p2rank to segment protein into blocks.\n",
    "\n",
    "4. extract protein and ligand features.\n",
    "\n",
    "5. construct the training and test dataset.\n"
   ]
  },
  {
   "cell_type": "code",
   "execution_count": 1,
   "id": "05d6589c",
   "metadata": {},
   "outputs": [],
   "source": [
    "import numpy as np\n",
    "# test = info.query(\"group == 'test'\").reset_index(drop=True)\n",
    "# test_pdb_list = info.query(\"group == 'test'\").protein_name.unique()\n",
    "pre = \"/home/jovyan/frag_protein/fragmentation/pdb_data/all_pdbbind\"\n",
    "# we use the time-split defined in EquiBind paper.\n",
    "# https://github.com/HannesStark/EquiBind/tree/main/data\n",
    "valid = np.loadtxt(\"../equbind/timesplit_no_lig_overlap_val\", dtype=str)\n",
    "test = np.loadtxt(\"../equbind/timesplit_test\", dtype=str)\n",
    "p2rank = \"bash /home/jovyan/frag_protein/p2rank_2.3/prank\""
   ]
  },
  {
   "cell_type": "code",
   "execution_count": 2,
   "id": "f74c0c0a",
   "metadata": {},
   "outputs": [],
   "source": [
    "tankbind_src_folder_path = \"../tankbind/\"\n",
    "import sys\n",
    "sys.path.insert(0, tankbind_src_folder_path)"
   ]
  },
  {
   "cell_type": "code",
   "execution_count": 3,
   "id": "0e050ea5",
   "metadata": {},
   "outputs": [],
   "source": [
    "import pandas as pd\n",
    "import numpy as np\n",
    "from tqdm import tqdm"
   ]
  },
  {
   "cell_type": "markdown",
   "id": "f6a9fb62",
   "metadata": {},
   "source": [
    "# process the raw PDBbind dataset."
   ]
  },
  {
   "cell_type": "code",
   "execution_count": 4,
   "id": "b22805d8",
   "metadata": {},
   "outputs": [],
   "source": [
    "from utils import read_pdbbind_data"
   ]
  },
  {
   "cell_type": "code",
   "execution_count": 5,
   "id": "9d2ef2ef",
   "metadata": {},
   "outputs": [],
   "source": [
    "# raw PDBbind dataset could be downloaded from http://www.pdbbind.org.cn/download.php\n",
    "\n",
    "df_pdb_id = pd.read_csv(f'{pre}/index/INDEX_general_PL_name.2020', sep=\"  \", comment='#', header=None, names=['pdb', 'year', 'uid', 'd', 'e','f','g','h','i','j','k','l','m','n','o'], engine='python')\n",
    "df_pdb_id = df_pdb_id[['pdb','uid']]\n",
    "data = read_pdbbind_data(f'{pre}/index/INDEX_general_PL_data.2020')\n",
    "data = data.merge(df_pdb_id, on=['pdb'])\n"
   ]
  },
  {
   "cell_type": "markdown",
   "id": "847a760c",
   "metadata": {},
   "source": [
    "# ligand file should be readable by RDKit."
   ]
  },
  {
   "cell_type": "code",
   "execution_count": 6,
   "id": "7a54b6c4",
   "metadata": {},
   "outputs": [],
   "source": [
    "from feature_utils import read_mol"
   ]
  },
  {
   "cell_type": "code",
   "execution_count": 7,
   "id": "d7cba368",
   "metadata": {
    "tags": []
   },
   "outputs": [
    {
     "name": "stderr",
     "output_type": "stream",
     "text": [
      "100%|██████████| 19443/19443 [01:44<00:00, 186.18it/s]\n"
     ]
    }
   ],
   "source": [
    "from rdkit import RDLogger\n",
    "RDLogger.DisableLog('rdApp.*')\n",
    "pdb_list = []\n",
    "probem_list = []\n",
    "for pdb in tqdm(data.pdb):\n",
    "    sdf_fileName = f\"{pre}/{pdb}/{pdb}_ligand.sdf\"\n",
    "    mol2_fileName = f\"{pre}/{pdb}/{pdb}_ligand.mol2\"\n",
    "    mol, problem = read_mol(sdf_fileName, mol2_fileName)\n",
    "    if problem:\n",
    "        probem_list.append(pdb)\n",
    "        continue\n",
    "    if pdb==\"2r1w\":\n",
    "        continue\n",
    "    pdb_list.append(pdb)"
   ]
  },
  {
   "cell_type": "code",
   "execution_count": 8,
   "id": "909964c3",
   "metadata": {},
   "outputs": [],
   "source": [
    "data = data.query(\"pdb in @pdb_list\").reset_index(drop=True)"
   ]
  },
  {
   "cell_type": "code",
   "execution_count": 9,
   "id": "bfb4e7c1",
   "metadata": {},
   "outputs": [
    {
     "data": {
      "text/plain": [
       "(19127, 7)"
      ]
     },
     "execution_count": 9,
     "metadata": {},
     "output_type": "execute_result"
    }
   ],
   "source": [
    "data.shape"
   ]
  },
  {
   "cell_type": "markdown",
   "id": "702bfb97",
   "metadata": {},
   "source": [
    "### for ease of RMSD evaluation later, we renumber the atom index to be consistent with the smiles"
   ]
  },
  {
   "cell_type": "code",
   "execution_count": 10,
   "id": "0cb0002f",
   "metadata": {},
   "outputs": [],
   "source": [
    "from feature_utils import write_renumbered_sdf\n",
    "import os"
   ]
  },
  {
   "cell_type": "code",
   "execution_count": 11,
   "id": "d5981fe5",
   "metadata": {},
   "outputs": [
    {
     "name": "stderr",
     "output_type": "stream",
     "text": [
      "100%|██████████| 19127/19127 [04:31<00:00, 70.39it/s]\n"
     ]
    }
   ],
   "source": [
    "toFolder = f\"{pre}/renumber_atom_index_same_as_smiles\"\n",
    "os.system(f\"mkdir -p {toFolder}\")\n",
    "for pdb in tqdm(pdb_list):\n",
    "    sdf_fileName = f\"{pre}/{pdb}/{pdb}_ligand.sdf\"\n",
    "    mol2_fileName = f\"{pre}/{pdb}/{pdb}_ligand.mol2\"\n",
    "    toFile = f\"{toFolder}/{pdb}.sdf\"\n",
    "    write_renumbered_sdf(toFile, sdf_fileName, mol2_fileName)\n"
   ]
  },
  {
   "cell_type": "markdown",
   "id": "983514bf",
   "metadata": {},
   "source": [
    "# process PDBbind proteins, removing extra chains, cutoff 10A"
   ]
  },
  {
   "cell_type": "code",
   "execution_count": 12,
   "id": "de4a9ffc",
   "metadata": {},
   "outputs": [
    {
     "data": {
      "text/plain": [
       "0"
      ]
     },
     "execution_count": 12,
     "metadata": {},
     "output_type": "execute_result"
    }
   ],
   "source": [
    "toFolder = f\"{pre}/protein_remove_extra_chains_10A/\"\n",
    "os.system(f\"mkdir -p {toFolder}\")"
   ]
  },
  {
   "cell_type": "code",
   "execution_count": 14,
   "id": "3ca3486f",
   "metadata": {},
   "outputs": [],
   "source": [
    "input_ = []\n",
    "cutoff = 10\n",
    "for pdb in data.pdb.values:\n",
    "    pdbFile = f\"{pre}/{pdb}/{pdb}_protein.pdb\"\n",
    "    ligandFile = f\"{pre}/renumber_atom_index_same_as_smiles/{pdb}.sdf\"\n",
    "    toFile = f\"{toFolder}/{pdb}_protein.pdb\"\n",
    "    x = (pdbFile, ligandFile, cutoff, toFile)\n",
    "    input_.append(x)"
   ]
  },
  {
   "cell_type": "code",
   "execution_count": 11,
   "id": "8488fd9d",
   "metadata": {},
   "outputs": [],
   "source": [
    "from feature_utils import select_chain_within_cutoff_to_ligand_v2"
   ]
  },
  {
   "cell_type": "code",
   "execution_count": 15,
   "id": "df4d4202",
   "metadata": {},
   "outputs": [
    {
     "name": "stderr",
     "output_type": "stream",
     "text": [
      "[mlcrate] 64 CPUs:  16%|█▋        | 3154/19127 [01:13<05:11, 51.34it/s][03:50:08] bond with order 0 found on line 35. This is not part of the MDL specification.\n",
      "[mlcrate] 64 CPUs:  30%|███       | 5797/19127 [02:05<04:50, 45.84it/s][03:51:00] bond with order 0 found on line 37. This is not part of the MDL specification.\n",
      "[mlcrate] 64 CPUs:  39%|███▉      | 7542/19127 [02:38<03:26, 56.10it/s][03:51:34] bond with order 0 found on line 29. This is not part of the MDL specification.\n",
      "[mlcrate] 64 CPUs:  43%|████▎     | 8158/19127 [02:49<03:16, 55.79it/s][03:51:45] bond with order 0 found on line 31. This is not part of the MDL specification.\n",
      "[mlcrate] 64 CPUs:  46%|████▌     | 8781/19127 [03:02<03:23, 50.84it/s][03:51:57] bond with order 0 found on line 59. This is not part of the MDL specification.\n",
      "[03:51:57] bond with order 0 found on line 61. This is not part of the MDL specification.\n",
      "[mlcrate] 64 CPUs:  47%|████▋     | 8908/19127 [03:04<03:03, 55.57it/s][03:51:59] bond with order 0 found on line 61. This is not part of the MDL specification.\n",
      "[mlcrate] 64 CPUs:  47%|████▋     | 8990/19127 [03:06<03:04, 54.99it/s][03:52:01] bond with order 0 found on line 46. This is not part of the MDL specification.\n",
      "[mlcrate] 64 CPUs:  53%|█████▎    | 10168/19127 [03:28<02:40, 55.66it/s][03:52:23] bond with order 0 found on line 46. This is not part of the MDL specification.\n",
      "[mlcrate] 64 CPUs:  55%|█████▍    | 10435/19127 [03:33<02:42, 53.39it/s][03:52:28] bond with order 0 found on line 46. This is not part of the MDL specification.\n",
      "[mlcrate] 64 CPUs:  66%|██████▌   | 12561/19127 [04:15<02:03, 53.32it/s][03:53:10] bond with order 0 found on line 48. This is not part of the MDL specification.\n",
      "[mlcrate] 64 CPUs: 100%|██████████| 19127/19127 [06:19<00:00, 50.41it/s]\n"
     ]
    }
   ],
   "source": [
    "import mlcrate as mlc\n",
    "import os\n",
    "pool = mlc.SuperPool(64)\n",
    "pool.pool.restart()\n",
    "_ = pool.map(select_chain_within_cutoff_to_ligand_v2,input_)\n",
    "pool.exit()"
   ]
  },
  {
   "cell_type": "code",
   "execution_count": 12,
   "id": "b3396175",
   "metadata": {},
   "outputs": [],
   "source": [
    "# previously, I found that 2r1w has no chain near the ligand.\n",
    "data = data.query(\"pdb != '2r1w'\").reset_index(drop=True)"
   ]
  },
  {
   "cell_type": "markdown",
   "id": "b7dcfb18",
   "metadata": {},
   "source": [
    "# p2rank segmentation"
   ]
  },
  {
   "cell_type": "code",
   "execution_count": 17,
   "id": "94be75a5",
   "metadata": {},
   "outputs": [],
   "source": [
    "p2rank_prediction_folder = f\"{pre}/p2rank_protein_remove_extra_chains_10A\"\n",
    "os.system(f\"mkdir -p {p2rank_prediction_folder}\")\n",
    "ds = f\"{p2rank_prediction_folder}/protein_list.ds\" \n",
    "with open(ds, \"w\") as out:\n",
    "    for pdb in data.pdb.values:\n",
    "        out.write(f\"../protein_remove_extra_chains_10A/{pdb}_protein.pdb\\n\")"
   ]
  },
  {
   "cell_type": "code",
   "execution_count": 16,
   "id": "266329e7",
   "metadata": {},
   "outputs": [
    {
     "name": "stderr",
     "output_type": "stream",
     "text": [
      "\n",
      "KeyboardInterrupt\n",
      "\n"
     ]
    }
   ],
   "source": [
    "# # takes about 30 minutes.\n",
    "cmd = f\"{p2rank} predict {ds} -o {p2rank_prediction_folder}/p2rank -threads 16\"\n",
    "os.system(cmd)"
   ]
  },
  {
   "cell_type": "code",
   "execution_count": 19,
   "id": "8612161e",
   "metadata": {},
   "outputs": [],
   "source": [
    "data.to_csv(f\"{pre}/data.csv\")"
   ]
  },
  {
   "cell_type": "code",
   "execution_count": 13,
   "id": "9ddbefa1",
   "metadata": {},
   "outputs": [],
   "source": [
    "pdb_list = data.pdb.values"
   ]
  },
  {
   "cell_type": "code",
   "execution_count": 22,
   "id": "c7b9bc77",
   "metadata": {},
   "outputs": [
    {
     "name": "stderr",
     "output_type": "stream",
     "text": [
      "  0%|          | 0/19127 [00:00<?, ?it/s]\n"
     ]
    },
    {
     "ename": "NameError",
     "evalue": "name 'tjnt' is not defined",
     "output_type": "error",
     "traceback": [
      "\u001b[0;31m---------------------------------------------------------------------------\u001b[0m",
      "\u001b[0;31mNameError\u001b[0m                                 Traceback (most recent call last)",
      "Input \u001b[0;32mIn [22]\u001b[0m, in \u001b[0;36m<cell line: 5>\u001b[0;34m()\u001b[0m\n\u001b[1;32m      8\u001b[0m     d\u001b[38;5;241m.\u001b[39mcolumns \u001b[38;5;241m=\u001b[39m d\u001b[38;5;241m.\u001b[39mcolumns\u001b[38;5;241m.\u001b[39mstr\u001b[38;5;241m.\u001b[39mstrip()\n\u001b[1;32m      9\u001b[0m     d_list\u001b[38;5;241m.\u001b[39mappend(d\u001b[38;5;241m.\u001b[39massign(name\u001b[38;5;241m=\u001b[39mname))\n\u001b[0;32m---> 10\u001b[0m     \u001b[43mtjnt\u001b[49m\n\u001b[1;32m     11\u001b[0m d \u001b[38;5;241m=\u001b[39m pd\u001b[38;5;241m.\u001b[39mconcat(d_list)\u001b[38;5;241m.\u001b[39mreset_index(drop\u001b[38;5;241m=\u001b[39m\u001b[38;5;28;01mTrue\u001b[39;00m)\n\u001b[1;32m     12\u001b[0m d\u001b[38;5;241m.\u001b[39mreset_index(drop\u001b[38;5;241m=\u001b[39m\u001b[38;5;28;01mTrue\u001b[39;00m)\u001b[38;5;241m.\u001b[39mto_feather(\u001b[38;5;124mf\u001b[39m\u001b[38;5;124m\"\u001b[39m\u001b[38;5;132;01m{\u001b[39;00mtankbind_data_path\u001b[38;5;132;01m}\u001b[39;00m\u001b[38;5;124m/p2rank_result.feather\u001b[39m\u001b[38;5;124m\"\u001b[39m)\n",
      "\u001b[0;31mNameError\u001b[0m: name 'tjnt' is not defined"
     ]
    }
   ],
   "source": [
    "tankbind_data_path = f\"{pre}/tankbind_data\"\n",
    "name_list = pdb_list\n",
    "d_list = []\n",
    "\n",
    "for name in tqdm(name_list):\n",
    "    p2rankFile = f\"{pre}/p2rank_protein_remove_extra_chains_10A/p2rank/{name}_protein.pdb_predictions.csv\"\n",
    "    d = pd.read_csv(p2rankFile)\n",
    "    d.columns = d.columns.str.strip()\n",
    "    d_list.append(d.assign(name=name))\n",
    "d = pd.concat(d_list).reset_index(drop=True)\n",
    "d.reset_index(drop=True).to_feather(f\"{tankbind_data_path}/p2rank_result.feather\")"
   ]
  },
  {
   "cell_type": "code",
   "execution_count": 15,
   "id": "61359ba6",
   "metadata": {},
   "outputs": [],
   "source": [
    "tankbind_data_path = f\"{pre}/tankbind_data\"\n",
    "d = pd.read_feather(f\"{tankbind_data_path}/p2rank_result.feather\")"
   ]
  },
  {
   "cell_type": "code",
   "execution_count": 17,
   "id": "8157d29b",
   "metadata": {},
   "outputs": [
    {
     "name": "stderr",
     "output_type": "stream",
     "text": [
      "100%|██████████| 19127/19127 [02:41<00:00, 118.41it/s]\n"
     ]
    }
   ],
   "source": [
    "pockets_dict = {}\n",
    "name_list = pdb_list\n",
    "for name in tqdm(name_list):\n",
    "    pockets_dict[name] = d[d.name == name].reset_index(drop=True)"
   ]
  },
  {
   "cell_type": "code",
   "execution_count": null,
   "id": "457678b1",
   "metadata": {},
   "outputs": [],
   "source": []
  },
  {
   "cell_type": "markdown",
   "id": "448550ae",
   "metadata": {},
   "source": [
    "# protein feature with protein fragmentation"
   ]
  },
  {
   "cell_type": "code",
   "execution_count": 18,
   "id": "f4e11341",
   "metadata": {},
   "outputs": [],
   "source": [
    "from feature_utils import get_protein_feature_qsar"
   ]
  },
  {
   "cell_type": "code",
   "execution_count": 19,
   "id": "1a1bffe9",
   "metadata": {},
   "outputs": [],
   "source": [
    "input_ = []\n",
    "import os\n",
    "tankbind_data_path = f\"{pre}/tankbind_data\"\n",
    "protein_embedding_folder = f\"{tankbind_data_path}/gvp_protein_embedding_frag\"\n",
    "os.system(f\"mkdir -p {protein_embedding_folder}\")\n",
    "for pdb in pdb_list:\n",
    "    proteinFile = f\"{pre}/protein_remove_extra_chains_10A/{pdb}_protein.pdb\"\n",
    "    toFile = f\"{protein_embedding_folder}/{pdb}.pt\"\n",
    "    x = (pdb, proteinFile, toFile)\n",
    "    input_.append(x)"
   ]
  },
  {
   "cell_type": "code",
   "execution_count": 20,
   "id": "7b223d0c",
   "metadata": {},
   "outputs": [],
   "source": [
    "from Bio.PDB import PDBParser\n",
    "from feature_utils import get_clean_res_list\n",
    "import torch\n",
    "torch.set_num_threads(1)\n",
    "\n",
    "def batch_run(x):\n",
    "    protein_dict = {}\n",
    "    pdb, proteinFile, toFile = x\n",
    "    parser = PDBParser(QUIET=True)\n",
    "    s = parser.get_structure(pdb, proteinFile)\n",
    "    res_list = get_clean_res_list(s.get_residues(), verbose=False, ensure_ca_exist=True)\n",
    "    protein_dict[pdb] = get_protein_feature_qsar(res_list)\n",
    "    torch.save(protein_dict, toFile)"
   ]
  },
  {
   "cell_type": "code",
   "execution_count": 21,
   "id": "460c55f8",
   "metadata": {},
   "outputs": [
    {
     "name": "stderr",
     "output_type": "stream",
     "text": [
      "[mlcrate] 64 CPUs: 100%|██████████| 19127/19127 [07:47<00:00, 40.91it/s]\n"
     ]
    }
   ],
   "source": [
    "import mlcrate as mlc\n",
    "import os\n",
    "pool = mlc.SuperPool(64)\n",
    "pool.pool.restart()\n",
    "_ = pool.map(batch_run,input_)\n",
    "pool.exit()"
   ]
  },
  {
   "cell_type": "code",
   "execution_count": 22,
   "id": "ca89aa62",
   "metadata": {},
   "outputs": [
    {
     "name": "stderr",
     "output_type": "stream",
     "text": [
      "100%|██████████| 19127/19127 [06:17<00:00, 50.65it/s] \n"
     ]
    }
   ],
   "source": [
    "import torch\n",
    "protein_dict = {}\n",
    "for pdb in tqdm(pdb_list):\n",
    "    protein_dict.update(torch.load(f\"{protein_embedding_folder}/{pdb}.pt\"))\n"
   ]
  },
  {
   "cell_type": "code",
   "execution_count": null,
   "id": "219e8489",
   "metadata": {},
   "outputs": [],
   "source": []
  },
  {
   "cell_type": "markdown",
   "id": "bb355a98",
   "metadata": {},
   "source": [
    "# Compound Features"
   ]
  },
  {
   "cell_type": "code",
   "execution_count": 23,
   "id": "7de7307a",
   "metadata": {},
   "outputs": [
    {
     "name": "stderr",
     "output_type": "stream",
     "text": [
      "  1%|          | 237/19127 [00:03<04:37, 68.07it/s]/opt/conda/envs/tankbind_py38/lib/python3.8/site-packages/torchdrug/data/feature.py:37: UserWarning: Unknown value `As`\n",
      "  warnings.warn(\"Unknown value `%s`\" % x)\n",
      "  3%|▎         | 503/19127 [00:06<03:54, 79.55it/s]/opt/conda/envs/tankbind_py38/lib/python3.8/site-packages/torchdrug/data/feature.py:37: UserWarning: Unknown value `Fe`\n",
      "  warnings.warn(\"Unknown value `%s`\" % x)\n",
      "  3%|▎         | 519/19127 [00:07<04:25, 70.17it/s]/opt/conda/envs/tankbind_py38/lib/python3.8/site-packages/torchdrug/data/feature.py:37: UserWarning: Unknown value `Pt`\n",
      "  warnings.warn(\"Unknown value `%s`\" % x)\n",
      " 16%|█▌        | 2988/19127 [00:48<08:09, 32.96it/s]/opt/conda/envs/tankbind_py38/lib/python3.8/site-packages/torchdrug/data/feature.py:37: UserWarning: Unknown value `V`\n",
      "  warnings.warn(\"Unknown value `%s`\" % x)\n",
      "/opt/conda/envs/tankbind_py38/lib/python3.8/site-packages/torchdrug/data/feature.py:37: UserWarning: Unknown value `8`\n",
      "  warnings.warn(\"Unknown value `%s`\" % x)\n",
      " 16%|█▌        | 3067/19127 [00:50<04:50, 55.37it/s]/opt/conda/envs/tankbind_py38/lib/python3.8/site-packages/torchdrug/data/feature.py:37: UserWarning: Unknown value `7`\n",
      "  warnings.warn(\"Unknown value `%s`\" % x)\n",
      " 17%|█▋        | 3282/19127 [00:54<06:13, 42.41it/s]/opt/conda/envs/tankbind_py38/lib/python3.8/site-packages/torchdrug/data/feature.py:37: UserWarning: Unknown value `6`\n",
      "  warnings.warn(\"Unknown value `%s`\" % x)\n",
      " 22%|██▏       | 4229/19127 [01:11<04:22, 56.85it/s]/opt/conda/envs/tankbind_py38/lib/python3.8/site-packages/torchdrug/data/feature.py:37: UserWarning: Unknown value `9`\n",
      "  warnings.warn(\"Unknown value `%s`\" % x)\n",
      " 28%|██▊       | 5276/19127 [01:30<04:06, 56.28it/s]"
     ]
    },
    {
     "name": "stdout",
     "output_type": "stream",
     "text": [
      "\n",
      "3kqs\n"
     ]
    },
    {
     "name": "stderr",
     "output_type": "stream",
     "text": [
      " 37%|███▋      | 6999/19127 [02:03<03:20, 60.58it/s]/opt/conda/envs/tankbind_py38/lib/python3.8/site-packages/torchdrug/data/feature.py:37: UserWarning: Unknown value `Rh`\n",
      "  warnings.warn(\"Unknown value `%s`\" % x)\n",
      " 50%|█████     | 9580/19127 [02:52<02:34, 61.77it/s]/opt/conda/envs/tankbind_py38/lib/python3.8/site-packages/torchdrug/data/feature.py:37: UserWarning: Unknown value `Ru`\n",
      "  warnings.warn(\"Unknown value `%s`\" % x)\n",
      " 56%|█████▌    | 10644/19127 [03:11<02:33, 55.32it/s]/opt/conda/envs/tankbind_py38/lib/python3.8/site-packages/torchdrug/data/feature.py:37: UserWarning: Unknown value `Sb`\n",
      "  warnings.warn(\"Unknown value `%s`\" % x)\n",
      " 58%|█████▊    | 11125/19127 [03:20<02:34, 51.95it/s]/opt/conda/envs/tankbind_py38/lib/python3.8/site-packages/torchdrug/data/feature.py:37: UserWarning: Unknown value `Co`\n",
      "  warnings.warn(\"Unknown value `%s`\" % x)\n",
      " 58%|█████▊    | 11153/19127 [03:20<02:51, 46.49it/s]/opt/conda/envs/tankbind_py38/lib/python3.8/site-packages/torchdrug/data/feature.py:37: UserWarning: Unknown value `Ir`\n",
      "  warnings.warn(\"Unknown value `%s`\" % x)\n",
      " 73%|███████▎  | 13972/19127 [04:17<01:53, 45.25it/s]/opt/conda/envs/tankbind_py38/lib/python3.8/site-packages/torchdrug/data/feature.py:37: UserWarning: Unknown value `Re`\n",
      "  warnings.warn(\"Unknown value `%s`\" % x)\n",
      " 95%|█████████▍| 18133/19127 [05:43<00:21, 46.98it/s]/opt/conda/envs/tankbind_py38/lib/python3.8/site-packages/torchdrug/data/feature.py:37: UserWarning: Unknown value `Te`\n",
      "  warnings.warn(\"Unknown value `%s`\" % x)\n",
      "100%|██████████| 19127/19127 [06:04<00:00, 52.47it/s]\n"
     ]
    }
   ],
   "source": [
    "from feature_utils import extract_torchdrug_feature_from_mol\n",
    "compound_dict = {}\n",
    "skip_pdb_list = []\n",
    "for pdb in tqdm(pdb_list):\n",
    "    mol, _ = read_mol(f\"{pre}/renumber_atom_index_same_as_smiles/{pdb}.sdf\", None)\n",
    "    # extract features from sdf.\n",
    "    try:\n",
    "        compound_dict[pdb] = extract_torchdrug_feature_from_mol(mol, has_LAS_mask=True)  # self-dock set has_LAS_mask to true\n",
    "    except Exception as e:\n",
    "        print(e)\n",
    "        skip_pdb_list.append(pdb)\n",
    "        print(pdb)"
   ]
  },
  {
   "cell_type": "code",
   "execution_count": 24,
   "id": "92da8bf9",
   "metadata": {},
   "outputs": [],
   "source": [
    "torch.save(compound_dict, f\"{tankbind_data_path}/compound_torchdrug_features.pt\")"
   ]
  },
  {
   "cell_type": "code",
   "execution_count": 25,
   "id": "dd336af0",
   "metadata": {},
   "outputs": [
    {
     "data": {
      "text/plain": [
       "['3kqs']"
      ]
     },
     "execution_count": 25,
     "metadata": {},
     "output_type": "execute_result"
    }
   ],
   "source": [
    "skip_pdb_list"
   ]
  },
  {
   "cell_type": "code",
   "execution_count": 26,
   "id": "12da5902",
   "metadata": {},
   "outputs": [],
   "source": [
    "data = data.query(\"pdb not in @skip_pdb_list\").reset_index(drop=True)"
   ]
  },
  {
   "cell_type": "markdown",
   "id": "53fd0644",
   "metadata": {},
   "source": [
    "# construct dataset."
   ]
  },
  {
   "cell_type": "code",
   "execution_count": 27,
   "id": "49045125",
   "metadata": {},
   "outputs": [],
   "source": [
    "\n",
    "def assign_group(pdb, valid=valid, test=test):\n",
    "    if pdb in valid:\n",
    "        return 'valid'\n",
    "    if pdb in test:\n",
    "        return 'test'\n",
    "    return 'train'\n",
    "\n",
    "data['group'] = data.pdb.map(assign_group)"
   ]
  },
  {
   "cell_type": "code",
   "execution_count": 28,
   "id": "6f98334d",
   "metadata": {},
   "outputs": [
    {
     "data": {
      "text/plain": [
       "group\n",
       "train    17795\n",
       "valid      968\n",
       "test       363\n",
       "dtype: int64"
      ]
     },
     "execution_count": 28,
     "metadata": {},
     "output_type": "execute_result"
    }
   ],
   "source": [
    "data.value_counts(\"group\")"
   ]
  },
  {
   "cell_type": "code",
   "execution_count": 29,
   "id": "9396377d",
   "metadata": {},
   "outputs": [],
   "source": [
    "data['name'] = data['pdb']"
   ]
  },
  {
   "cell_type": "code",
   "execution_count": 30,
   "id": "63fad758",
   "metadata": {},
   "outputs": [
    {
     "name": "stderr",
     "output_type": "stream",
     "text": [
      "100%|██████████| 19126/19126 [00:19<00:00, 982.71it/s] \n"
     ]
    },
    {
     "name": "stdout",
     "output_type": "stream",
     "text": [
      "162036\n"
     ]
    }
   ],
   "source": [
    "info = []\n",
    "err_pdb_list=[]\n",
    "for i, line in tqdm(data.iterrows(), total=data.shape[0]):\n",
    "    pdb = line['pdb']\n",
    "    uid = line['uid']\n",
    "    # smiles = line['smiles']\n",
    "    smiles = \"\"\n",
    "    affinity = line['affinity']\n",
    "    group = line['group']\n",
    "\n",
    "    protein_name = line['name']\n",
    "    try:\n",
    "        pocket = pockets_dict[pdb].head(10)\n",
    "    except:\n",
    "        err_pdb_list.append(pdb)\n",
    "        continue\n",
    "    pocket.columns = pocket.columns.str.strip()\n",
    "    pocket_coms = pocket[['center_x', 'center_y', 'center_z']].values\n",
    "    # native block.\n",
    "    info.append([protein_name, compound_name, pdb, smiles, affinity, uid, None, True, False, group])\n",
    "    # protein center as a block.\n",
    "    protein_com = protein_dict[protein_name][0].numpy().mean(axis=0).astype(float).reshape(1, 3)\n",
    "    info.append([protein_name, compound_name, pdb+\"_c\", smiles, affinity, uid, protein_com, False, False, group])\n",
    "    \n",
    "    for idx, pocket_line in pocket.iterrows():\n",
    "        pdb_idx = f\"{pdb}_{idx}\"\n",
    "        info.append([protein_name, compound_name, pdb_idx, smiles, affinity, uid, pocket_coms[idx].reshape(1, 3), False, False, group])\n",
    "info = pd.DataFrame(info, columns=['protein_name', 'compound_name', 'pdb', 'smiles', 'affinity', 'uid', 'pocket_com', \n",
    "                                   'use_compound_com', 'use_whole_protein',\n",
    "                                  'group'])\n",
    "print(len(info))\n"
   ]
  },
  {
   "cell_type": "code",
   "execution_count": 31,
   "id": "f41ab49d",
   "metadata": {},
   "outputs": [
    {
     "data": {
      "text/plain": [
       "0"
      ]
     },
     "execution_count": 31,
     "metadata": {},
     "output_type": "execute_result"
    }
   ],
   "source": [
    "len(err_pdb_list)"
   ]
  },
  {
   "cell_type": "code",
   "execution_count": 32,
   "id": "1dc9c61e",
   "metadata": {},
   "outputs": [
    {
     "data": {
      "text/plain": [
       "19127"
      ]
     },
     "execution_count": 32,
     "metadata": {},
     "output_type": "execute_result"
    }
   ],
   "source": [
    "len(pockets_dict)"
   ]
  },
  {
   "cell_type": "code",
   "execution_count": 33,
   "id": "246e6c7b",
   "metadata": {},
   "outputs": [
    {
     "data": {
      "text/plain": [
       "(162036, 10)"
      ]
     },
     "execution_count": 33,
     "metadata": {},
     "output_type": "execute_result"
    }
   ],
   "source": [
    "info.shape"
   ]
  },
  {
   "cell_type": "code",
   "execution_count": 34,
   "id": "49b8f635",
   "metadata": {},
   "outputs": [],
   "source": [
    "from data import TankBindDataSet\n",
    "import os"
   ]
  },
  {
   "cell_type": "code",
   "execution_count": 35,
   "id": "83bdea39",
   "metadata": {},
   "outputs": [
    {
     "name": "stderr",
     "output_type": "stream",
     "text": [
      "Processing...\n",
      "Done!\n"
     ]
    },
    {
     "name": "stdout",
     "output_type": "stream",
     "text": [
      "['/home/jovyan/frag_protein/fragmentation/pdb_data/all_pdbbind/dataset/processed/data.pt', '/home/jovyan/frag_protein/fragmentation/pdb_data/all_pdbbind/dataset/processed/protein.pt', '/home/jovyan/frag_protein/fragmentation/pdb_data/all_pdbbind/dataset/processed/compound.pt']\n"
     ]
    }
   ],
   "source": [
    "toFilePre = f\"{pre}/dataset\"\n",
    "os.system(f\"mkdir -p {toFilePre}\")\n",
    "dataset = TankBindDataSet(toFilePre, data=info, protein_dict=protein_dict, compound_dict=compound_dict)"
   ]
  },
  {
   "cell_type": "code",
   "execution_count": 36,
   "id": "9b8d14c1",
   "metadata": {},
   "outputs": [
    {
     "name": "stdout",
     "output_type": "stream",
     "text": [
      "['/home/jovyan/frag_protein/fragmentation/pdb_data/all_pdbbind/dataset/processed/data.pt', '/home/jovyan/frag_protein/fragmentation/pdb_data/all_pdbbind/dataset/processed/protein.pt', '/home/jovyan/frag_protein/fragmentation/pdb_data/all_pdbbind/dataset/processed/compound.pt']\n"
     ]
    }
   ],
   "source": [
    "toFilePre = f\"{pre}/dataset\"\n",
    "dataset = TankBindDataSet(toFilePre)\n"
   ]
  },
  {
   "cell_type": "code",
   "execution_count": 37,
   "id": "2933ecd2-80c2-4032-a99c-0e49b1038ba6",
   "metadata": {},
   "outputs": [
    {
     "data": {
      "text/plain": [
       "(162036, 10)"
      ]
     },
     "execution_count": 37,
     "metadata": {},
     "output_type": "execute_result"
    }
   ],
   "source": [
    "info = torch.load(f\"/home/jovyan/frag_protein/fragmentation/pdb_data/all_pdbbind/dataset/processed/data.pt\")\n",
    "info.shape"
   ]
  },
  {
   "cell_type": "code",
   "execution_count": 38,
   "id": "a1cbbd91",
   "metadata": {},
   "outputs": [
    {
     "name": "stderr",
     "output_type": "stream",
     "text": [
      "100%|██████████| 162036/162036 [10:15<00:00, 263.35it/s]\n"
     ]
    }
   ],
   "source": [
    "t = []\n",
    "data = dataset.data\n",
    "pre_pdb = None\n",
    "for i, line in tqdm(data.iterrows(), total=data.shape[0]):\n",
    "    pdb = line['compound_name']\n",
    "    d = dataset[i]\n",
    "    p_length = d['node_xyz'].shape[0]\n",
    "    c_length = d['coords'].shape[0]\n",
    "    y_length = d['y'].shape[0]\n",
    "    num_contact = (d.y > 0).sum()\n",
    "    t.append([i, pdb, p_length, c_length, y_length, num_contact])\n",
    "\n"
   ]
  },
  {
   "cell_type": "code",
   "execution_count": 45,
   "id": "0903543e",
   "metadata": {
    "scrolled": true
   },
   "outputs": [],
   "source": [
    "# data = data.drop(['p_length', 'c_length', 'y_length', 'num_contact'], axis=1)"
   ]
  },
  {
   "cell_type": "code",
   "execution_count": 39,
   "id": "6f4bb3da",
   "metadata": {},
   "outputs": [],
   "source": [
    "t = pd.DataFrame(t, columns=['index', 'pdb' ,'p_length', 'c_length', 'y_length', 'num_contact'])\n",
    "t['num_contact'] = t['num_contact'].apply(lambda x: x.item())"
   ]
  },
  {
   "cell_type": "code",
   "execution_count": 40,
   "id": "d5324a85",
   "metadata": {},
   "outputs": [],
   "source": [
    "data = pd.concat([data, t[['p_length', 'c_length', 'y_length', 'num_contact']]], axis=1)"
   ]
  },
  {
   "cell_type": "code",
   "execution_count": 41,
   "id": "60e33edc",
   "metadata": {},
   "outputs": [],
   "source": [
    "native_num_contact = data.query(\"use_compound_com\").set_index(\"protein_name\")['num_contact'].to_dict()\n",
    "data['native_num_contact'] = data.protein_name.map(native_num_contact)\n",
    "# data['fract_of_native_contact'] = data['num_contact'] / data['native_num_contact']"
   ]
  },
  {
   "cell_type": "code",
   "execution_count": 42,
   "id": "23066a23",
   "metadata": {},
   "outputs": [],
   "source": [
    "torch.save(data, f\"{toFilePre}/processed/data.pt\")"
   ]
  },
  {
   "cell_type": "code",
   "execution_count": 59,
   "id": "88253b91-8a3b-473b-aa60-4146bd8b64e3",
   "metadata": {},
   "outputs": [
    {
     "data": {
      "text/plain": [
       "'/home/jovyan/frag_protein/fragmentation/pdb_data/all_pdbbind/test_dataset'"
      ]
     },
     "execution_count": 59,
     "metadata": {},
     "output_type": "execute_result"
    }
   ],
   "source": [
    "toFilePre"
   ]
  },
  {
   "cell_type": "code",
   "execution_count": 54,
   "id": "ded89fd1",
   "metadata": {},
   "outputs": [],
   "source": [
    "import torch\n",
    "info = torch.load(f\"{toFilePre}/processed/data.pt\")"
   ]
  },
  {
   "cell_type": "code",
   "execution_count": 55,
   "id": "a4e2b301-ebec-42e6-8c2c-2d3cc19fb2c9",
   "metadata": {},
   "outputs": [
    {
     "data": {
      "text/html": [
       "<div>\n",
       "<style scoped>\n",
       "    .dataframe tbody tr th:only-of-type {\n",
       "        vertical-align: middle;\n",
       "    }\n",
       "\n",
       "    .dataframe tbody tr th {\n",
       "        vertical-align: top;\n",
       "    }\n",
       "\n",
       "    .dataframe thead th {\n",
       "        text-align: right;\n",
       "    }\n",
       "</style>\n",
       "<table border=\"1\" class=\"dataframe\">\n",
       "  <thead>\n",
       "    <tr style=\"text-align: right;\">\n",
       "      <th></th>\n",
       "      <th>protein_name</th>\n",
       "      <th>compound_name</th>\n",
       "      <th>pdb</th>\n",
       "      <th>smiles</th>\n",
       "      <th>affinity</th>\n",
       "      <th>uid</th>\n",
       "      <th>pocket_com</th>\n",
       "      <th>use_compound_com</th>\n",
       "      <th>use_whole_protein</th>\n",
       "      <th>group</th>\n",
       "      <th>p_length</th>\n",
       "      <th>c_length</th>\n",
       "      <th>y_length</th>\n",
       "      <th>num_contact</th>\n",
       "      <th>native_num_contact</th>\n",
       "      <th>is_ligand_pocket</th>\n",
       "      <th>base_pdb</th>\n",
       "      <th>cover_contact_ratio</th>\n",
       "    </tr>\n",
       "  </thead>\n",
       "  <tbody>\n",
       "    <tr>\n",
       "      <th>0</th>\n",
       "      <td>6h9v</td>\n",
       "      <td>6h9v</td>\n",
       "      <td>6h9v</td>\n",
       "      <td></td>\n",
       "      <td>0.66</td>\n",
       "      <td>B5BTR7</td>\n",
       "      <td>None</td>\n",
       "      <td>True</td>\n",
       "      <td>False</td>\n",
       "      <td>test</td>\n",
       "      <td>64</td>\n",
       "      <td>12</td>\n",
       "      <td>768</td>\n",
       "      <td>73</td>\n",
       "      <td>73</td>\n",
       "      <td>True</td>\n",
       "      <td>6h9v</td>\n",
       "      <td>1.0</td>\n",
       "    </tr>\n",
       "    <tr>\n",
       "      <th>1</th>\n",
       "      <td>6h9v</td>\n",
       "      <td>6h9v</td>\n",
       "      <td>6h9v_c</td>\n",
       "      <td></td>\n",
       "      <td>0.66</td>\n",
       "      <td>B5BTR7</td>\n",
       "      <td>[[8.631393432617188, -20.263063430786133, 54.7...</td>\n",
       "      <td>False</td>\n",
       "      <td>False</td>\n",
       "      <td>test</td>\n",
       "      <td>162</td>\n",
       "      <td>12</td>\n",
       "      <td>1944</td>\n",
       "      <td>0</td>\n",
       "      <td>73</td>\n",
       "      <td>False</td>\n",
       "      <td>6h9v</td>\n",
       "      <td>0.0</td>\n",
       "    </tr>\n",
       "    <tr>\n",
       "      <th>2</th>\n",
       "      <td>6h9v</td>\n",
       "      <td>6h9v</td>\n",
       "      <td>6h9v_0</td>\n",
       "      <td></td>\n",
       "      <td>0.66</td>\n",
       "      <td>B5BTR7</td>\n",
       "      <td>[[10.4502, -35.1582, 63.1358]]</td>\n",
       "      <td>False</td>\n",
       "      <td>False</td>\n",
       "      <td>test</td>\n",
       "      <td>121</td>\n",
       "      <td>12</td>\n",
       "      <td>1452</td>\n",
       "      <td>0</td>\n",
       "      <td>73</td>\n",
       "      <td>False</td>\n",
       "      <td>6h9v</td>\n",
       "      <td>0.0</td>\n",
       "    </tr>\n",
       "    <tr>\n",
       "      <th>3</th>\n",
       "      <td>6h9v</td>\n",
       "      <td>6h9v</td>\n",
       "      <td>6h9v_1</td>\n",
       "      <td></td>\n",
       "      <td>0.66</td>\n",
       "      <td>B5BTR7</td>\n",
       "      <td>[[-1.7136, -18.0661, 43.1919]]</td>\n",
       "      <td>False</td>\n",
       "      <td>False</td>\n",
       "      <td>test</td>\n",
       "      <td>127</td>\n",
       "      <td>12</td>\n",
       "      <td>1524</td>\n",
       "      <td>73</td>\n",
       "      <td>73</td>\n",
       "      <td>False</td>\n",
       "      <td>6h9v</td>\n",
       "      <td>1.0</td>\n",
       "    </tr>\n",
       "    <tr>\n",
       "      <th>4</th>\n",
       "      <td>6h9v</td>\n",
       "      <td>6h9v</td>\n",
       "      <td>6h9v_2</td>\n",
       "      <td></td>\n",
       "      <td>0.66</td>\n",
       "      <td>B5BTR7</td>\n",
       "      <td>[[18.2234, -7.3891, 59.1918]]</td>\n",
       "      <td>False</td>\n",
       "      <td>False</td>\n",
       "      <td>test</td>\n",
       "      <td>122</td>\n",
       "      <td>12</td>\n",
       "      <td>1464</td>\n",
       "      <td>0</td>\n",
       "      <td>73</td>\n",
       "      <td>False</td>\n",
       "      <td>6h9v</td>\n",
       "      <td>0.0</td>\n",
       "    </tr>\n",
       "  </tbody>\n",
       "</table>\n",
       "</div>"
      ],
      "text/plain": [
       "  protein_name compound_name     pdb smiles  affinity     uid  \\\n",
       "0         6h9v          6h9v    6h9v             0.66  B5BTR7   \n",
       "1         6h9v          6h9v  6h9v_c             0.66  B5BTR7   \n",
       "2         6h9v          6h9v  6h9v_0             0.66  B5BTR7   \n",
       "3         6h9v          6h9v  6h9v_1             0.66  B5BTR7   \n",
       "4         6h9v          6h9v  6h9v_2             0.66  B5BTR7   \n",
       "\n",
       "                                          pocket_com  use_compound_com  \\\n",
       "0                                               None              True   \n",
       "1  [[8.631393432617188, -20.263063430786133, 54.7...             False   \n",
       "2                     [[10.4502, -35.1582, 63.1358]]             False   \n",
       "3                     [[-1.7136, -18.0661, 43.1919]]             False   \n",
       "4                      [[18.2234, -7.3891, 59.1918]]             False   \n",
       "\n",
       "   use_whole_protein group  p_length  c_length  y_length  num_contact  \\\n",
       "0              False  test        64        12       768           73   \n",
       "1              False  test       162        12      1944            0   \n",
       "2              False  test       121        12      1452            0   \n",
       "3              False  test       127        12      1524           73   \n",
       "4              False  test       122        12      1464            0   \n",
       "\n",
       "   native_num_contact  is_ligand_pocket base_pdb  cover_contact_ratio  \n",
       "0                  73              True     6h9v                  1.0  \n",
       "1                  73             False     6h9v                  0.0  \n",
       "2                  73             False     6h9v                  0.0  \n",
       "3                  73             False     6h9v                  1.0  \n",
       "4                  73             False     6h9v                  0.0  "
      ]
     },
     "execution_count": 55,
     "metadata": {},
     "output_type": "execute_result"
    }
   ],
   "source": [
    "info.head()"
   ]
  },
  {
   "cell_type": "code",
   "execution_count": 56,
   "id": "05652539-11d8-4413-9a43-6d832f661b5f",
   "metadata": {},
   "outputs": [
    {
     "data": {
      "text/plain": [
       "(2879, 18)"
      ]
     },
     "execution_count": 56,
     "metadata": {},
     "output_type": "execute_result"
    }
   ],
   "source": [
    "info.shape"
   ]
  },
  {
   "cell_type": "code",
   "execution_count": 57,
   "id": "4a726fcb-31af-4c86-89cf-204d3fdd4b3b",
   "metadata": {},
   "outputs": [],
   "source": [
    "def is_ligand_pocket(pdb):\n",
    "    if len(pdb) == 4:\n",
    "        return True\n",
    "    else:\n",
    "        return False\n",
    "    \n",
    "info['is_ligand_pocket'] = info.pdb.apply(lambda x:is_ligand_pocket(x))\n",
    "pdb_to_num_contact = info.query(\"is_ligand_pocket\").set_index(\"pdb\")['num_contact'].to_dict()\n",
    "info['base_pdb'] = info.pdb.apply(lambda x: x.split(\"_\")[0])\n",
    "info['native_num_contact'] = info.base_pdb.apply(lambda x: pdb_to_num_contact[x])\n",
    "info['cover_contact_ratio'] = info['num_contact'] / info['native_num_contact']\n",
    "use_whole_protein_list = set(info.base_pdb.unique()) - set(info.query(\"not is_ligand_pocket\").base_pdb)\n",
    "# assume we don't know the true ligand binding site.\n"
   ]
  },
  {
   "cell_type": "code",
   "execution_count": 64,
   "id": "a3a115b4-82c0-40be-a7e2-d21a058b6edc",
   "metadata": {},
   "outputs": [
    {
     "data": {
      "text/html": [
       "<div>\n",
       "<style scoped>\n",
       "    .dataframe tbody tr th:only-of-type {\n",
       "        vertical-align: middle;\n",
       "    }\n",
       "\n",
       "    .dataframe tbody tr th {\n",
       "        vertical-align: top;\n",
       "    }\n",
       "\n",
       "    .dataframe thead th {\n",
       "        text-align: right;\n",
       "    }\n",
       "</style>\n",
       "<table border=\"1\" class=\"dataframe\">\n",
       "  <thead>\n",
       "    <tr style=\"text-align: right;\">\n",
       "      <th></th>\n",
       "      <th>protein_name</th>\n",
       "      <th>compound_name</th>\n",
       "      <th>pdb</th>\n",
       "      <th>smiles</th>\n",
       "      <th>affinity</th>\n",
       "      <th>uid</th>\n",
       "      <th>pocket_com</th>\n",
       "      <th>use_compound_com</th>\n",
       "      <th>use_whole_protein</th>\n",
       "      <th>group</th>\n",
       "      <th>p_length</th>\n",
       "      <th>c_length</th>\n",
       "      <th>y_length</th>\n",
       "      <th>num_contact</th>\n",
       "      <th>native_num_contact</th>\n",
       "      <th>is_ligand_pocket</th>\n",
       "      <th>base_pdb</th>\n",
       "      <th>cover_contact_ratio</th>\n",
       "      <th>index</th>\n",
       "    </tr>\n",
       "  </thead>\n",
       "  <tbody>\n",
       "    <tr>\n",
       "      <th>0</th>\n",
       "      <td>6h9v</td>\n",
       "      <td>6h9v</td>\n",
       "      <td>6h9v</td>\n",
       "      <td></td>\n",
       "      <td>0.66</td>\n",
       "      <td>B5BTR7</td>\n",
       "      <td>None</td>\n",
       "      <td>True</td>\n",
       "      <td>False</td>\n",
       "      <td>test</td>\n",
       "      <td>64</td>\n",
       "      <td>12</td>\n",
       "      <td>768</td>\n",
       "      <td>73</td>\n",
       "      <td>73</td>\n",
       "      <td>True</td>\n",
       "      <td>6h9v</td>\n",
       "      <td>1.000000</td>\n",
       "      <td>0</td>\n",
       "    </tr>\n",
       "    <tr>\n",
       "      <th>1</th>\n",
       "      <td>6h9v</td>\n",
       "      <td>6h9v</td>\n",
       "      <td>6h9v_c</td>\n",
       "      <td></td>\n",
       "      <td>0.66</td>\n",
       "      <td>B5BTR7</td>\n",
       "      <td>[[8.631393432617188, -20.263063430786133, 54.7...</td>\n",
       "      <td>False</td>\n",
       "      <td>False</td>\n",
       "      <td>test</td>\n",
       "      <td>162</td>\n",
       "      <td>12</td>\n",
       "      <td>1944</td>\n",
       "      <td>0</td>\n",
       "      <td>73</td>\n",
       "      <td>False</td>\n",
       "      <td>6h9v</td>\n",
       "      <td>0.000000</td>\n",
       "      <td>1</td>\n",
       "    </tr>\n",
       "    <tr>\n",
       "      <th>2</th>\n",
       "      <td>6h9v</td>\n",
       "      <td>6h9v</td>\n",
       "      <td>6h9v_0</td>\n",
       "      <td></td>\n",
       "      <td>0.66</td>\n",
       "      <td>B5BTR7</td>\n",
       "      <td>[[10.4502, -35.1582, 63.1358]]</td>\n",
       "      <td>False</td>\n",
       "      <td>False</td>\n",
       "      <td>test</td>\n",
       "      <td>121</td>\n",
       "      <td>12</td>\n",
       "      <td>1452</td>\n",
       "      <td>0</td>\n",
       "      <td>73</td>\n",
       "      <td>False</td>\n",
       "      <td>6h9v</td>\n",
       "      <td>0.000000</td>\n",
       "      <td>2</td>\n",
       "    </tr>\n",
       "    <tr>\n",
       "      <th>3</th>\n",
       "      <td>6h9v</td>\n",
       "      <td>6h9v</td>\n",
       "      <td>6h9v_1</td>\n",
       "      <td></td>\n",
       "      <td>0.66</td>\n",
       "      <td>B5BTR7</td>\n",
       "      <td>[[-1.7136, -18.0661, 43.1919]]</td>\n",
       "      <td>False</td>\n",
       "      <td>False</td>\n",
       "      <td>test</td>\n",
       "      <td>127</td>\n",
       "      <td>12</td>\n",
       "      <td>1524</td>\n",
       "      <td>73</td>\n",
       "      <td>73</td>\n",
       "      <td>False</td>\n",
       "      <td>6h9v</td>\n",
       "      <td>1.000000</td>\n",
       "      <td>3</td>\n",
       "    </tr>\n",
       "    <tr>\n",
       "      <th>4</th>\n",
       "      <td>6h9v</td>\n",
       "      <td>6h9v</td>\n",
       "      <td>6h9v_2</td>\n",
       "      <td></td>\n",
       "      <td>0.66</td>\n",
       "      <td>B5BTR7</td>\n",
       "      <td>[[18.2234, -7.3891, 59.1918]]</td>\n",
       "      <td>False</td>\n",
       "      <td>False</td>\n",
       "      <td>test</td>\n",
       "      <td>122</td>\n",
       "      <td>12</td>\n",
       "      <td>1464</td>\n",
       "      <td>0</td>\n",
       "      <td>73</td>\n",
       "      <td>False</td>\n",
       "      <td>6h9v</td>\n",
       "      <td>0.000000</td>\n",
       "      <td>4</td>\n",
       "    </tr>\n",
       "    <tr>\n",
       "      <th>...</th>\n",
       "      <td>...</td>\n",
       "      <td>...</td>\n",
       "      <td>...</td>\n",
       "      <td>...</td>\n",
       "      <td>...</td>\n",
       "      <td>...</td>\n",
       "      <td>...</td>\n",
       "      <td>...</td>\n",
       "      <td>...</td>\n",
       "      <td>...</td>\n",
       "      <td>...</td>\n",
       "      <td>...</td>\n",
       "      <td>...</td>\n",
       "      <td>...</td>\n",
       "      <td>...</td>\n",
       "      <td>...</td>\n",
       "      <td>...</td>\n",
       "      <td>...</td>\n",
       "      <td>...</td>\n",
       "    </tr>\n",
       "    <tr>\n",
       "      <th>2874</th>\n",
       "      <td>6oxp</td>\n",
       "      <td>6oxp</td>\n",
       "      <td>6oxp_0</td>\n",
       "      <td></td>\n",
       "      <td>11.00</td>\n",
       "      <td>Q8ULI9</td>\n",
       "      <td>[[71.2014, 55.9, 16.6762]]</td>\n",
       "      <td>False</td>\n",
       "      <td>False</td>\n",
       "      <td>test</td>\n",
       "      <td>117</td>\n",
       "      <td>40</td>\n",
       "      <td>4680</td>\n",
       "      <td>389</td>\n",
       "      <td>389</td>\n",
       "      <td>False</td>\n",
       "      <td>6oxp</td>\n",
       "      <td>1.000000</td>\n",
       "      <td>2874</td>\n",
       "    </tr>\n",
       "    <tr>\n",
       "      <th>2875</th>\n",
       "      <td>6oxq</td>\n",
       "      <td>6oxq</td>\n",
       "      <td>6oxq</td>\n",
       "      <td></td>\n",
       "      <td>11.30</td>\n",
       "      <td>Q8ULI9</td>\n",
       "      <td>None</td>\n",
       "      <td>True</td>\n",
       "      <td>False</td>\n",
       "      <td>test</td>\n",
       "      <td>119</td>\n",
       "      <td>41</td>\n",
       "      <td>4879</td>\n",
       "      <td>394</td>\n",
       "      <td>394</td>\n",
       "      <td>True</td>\n",
       "      <td>6oxq</td>\n",
       "      <td>1.000000</td>\n",
       "      <td>2875</td>\n",
       "    </tr>\n",
       "    <tr>\n",
       "      <th>2876</th>\n",
       "      <td>6oxq</td>\n",
       "      <td>6oxq</td>\n",
       "      <td>6oxq_c</td>\n",
       "      <td></td>\n",
       "      <td>11.30</td>\n",
       "      <td>Q8ULI9</td>\n",
       "      <td>[[70.9427490234375, 59.3531608581543, 12.63163...</td>\n",
       "      <td>False</td>\n",
       "      <td>False</td>\n",
       "      <td>test</td>\n",
       "      <td>132</td>\n",
       "      <td>41</td>\n",
       "      <td>5412</td>\n",
       "      <td>394</td>\n",
       "      <td>394</td>\n",
       "      <td>False</td>\n",
       "      <td>6oxq</td>\n",
       "      <td>1.000000</td>\n",
       "      <td>2876</td>\n",
       "    </tr>\n",
       "    <tr>\n",
       "      <th>2877</th>\n",
       "      <td>6oxq</td>\n",
       "      <td>6oxq</td>\n",
       "      <td>6oxq_0</td>\n",
       "      <td></td>\n",
       "      <td>11.30</td>\n",
       "      <td>Q8ULI9</td>\n",
       "      <td>[[71.0965, 56.1167, 16.6608]]</td>\n",
       "      <td>False</td>\n",
       "      <td>False</td>\n",
       "      <td>test</td>\n",
       "      <td>119</td>\n",
       "      <td>41</td>\n",
       "      <td>4879</td>\n",
       "      <td>394</td>\n",
       "      <td>394</td>\n",
       "      <td>False</td>\n",
       "      <td>6oxq</td>\n",
       "      <td>1.000000</td>\n",
       "      <td>2877</td>\n",
       "    </tr>\n",
       "    <tr>\n",
       "      <th>2878</th>\n",
       "      <td>6oxq</td>\n",
       "      <td>6oxq</td>\n",
       "      <td>6oxq_1</td>\n",
       "      <td></td>\n",
       "      <td>11.30</td>\n",
       "      <td>Q8ULI9</td>\n",
       "      <td>[[62.479, 72.1529, 7.164]]</td>\n",
       "      <td>False</td>\n",
       "      <td>False</td>\n",
       "      <td>test</td>\n",
       "      <td>71</td>\n",
       "      <td>41</td>\n",
       "      <td>2911</td>\n",
       "      <td>194</td>\n",
       "      <td>394</td>\n",
       "      <td>False</td>\n",
       "      <td>6oxq</td>\n",
       "      <td>0.492386</td>\n",
       "      <td>2878</td>\n",
       "    </tr>\n",
       "  </tbody>\n",
       "</table>\n",
       "<p>2879 rows × 19 columns</p>\n",
       "</div>"
      ],
      "text/plain": [
       "     protein_name compound_name     pdb smiles  affinity     uid  \\\n",
       "0            6h9v          6h9v    6h9v             0.66  B5BTR7   \n",
       "1            6h9v          6h9v  6h9v_c             0.66  B5BTR7   \n",
       "2            6h9v          6h9v  6h9v_0             0.66  B5BTR7   \n",
       "3            6h9v          6h9v  6h9v_1             0.66  B5BTR7   \n",
       "4            6h9v          6h9v  6h9v_2             0.66  B5BTR7   \n",
       "...           ...           ...     ...    ...       ...     ...   \n",
       "2874         6oxp          6oxp  6oxp_0            11.00  Q8ULI9   \n",
       "2875         6oxq          6oxq    6oxq            11.30  Q8ULI9   \n",
       "2876         6oxq          6oxq  6oxq_c            11.30  Q8ULI9   \n",
       "2877         6oxq          6oxq  6oxq_0            11.30  Q8ULI9   \n",
       "2878         6oxq          6oxq  6oxq_1            11.30  Q8ULI9   \n",
       "\n",
       "                                             pocket_com  use_compound_com  \\\n",
       "0                                                  None              True   \n",
       "1     [[8.631393432617188, -20.263063430786133, 54.7...             False   \n",
       "2                        [[10.4502, -35.1582, 63.1358]]             False   \n",
       "3                        [[-1.7136, -18.0661, 43.1919]]             False   \n",
       "4                         [[18.2234, -7.3891, 59.1918]]             False   \n",
       "...                                                 ...               ...   \n",
       "2874                         [[71.2014, 55.9, 16.6762]]             False   \n",
       "2875                                               None              True   \n",
       "2876  [[70.9427490234375, 59.3531608581543, 12.63163...             False   \n",
       "2877                      [[71.0965, 56.1167, 16.6608]]             False   \n",
       "2878                         [[62.479, 72.1529, 7.164]]             False   \n",
       "\n",
       "      use_whole_protein group  p_length  c_length  y_length  num_contact  \\\n",
       "0                 False  test        64        12       768           73   \n",
       "1                 False  test       162        12      1944            0   \n",
       "2                 False  test       121        12      1452            0   \n",
       "3                 False  test       127        12      1524           73   \n",
       "4                 False  test       122        12      1464            0   \n",
       "...                 ...   ...       ...       ...       ...          ...   \n",
       "2874              False  test       117        40      4680          389   \n",
       "2875              False  test       119        41      4879          394   \n",
       "2876              False  test       132        41      5412          394   \n",
       "2877              False  test       119        41      4879          394   \n",
       "2878              False  test        71        41      2911          194   \n",
       "\n",
       "      native_num_contact  is_ligand_pocket base_pdb  cover_contact_ratio  \\\n",
       "0                     73              True     6h9v             1.000000   \n",
       "1                     73             False     6h9v             0.000000   \n",
       "2                     73             False     6h9v             0.000000   \n",
       "3                     73             False     6h9v             1.000000   \n",
       "4                     73             False     6h9v             0.000000   \n",
       "...                  ...               ...      ...                  ...   \n",
       "2874                 389             False     6oxp             1.000000   \n",
       "2875                 394              True     6oxq             1.000000   \n",
       "2876                 394             False     6oxq             1.000000   \n",
       "2877                 394             False     6oxq             1.000000   \n",
       "2878                 394             False     6oxq             0.492386   \n",
       "\n",
       "      index  \n",
       "0         0  \n",
       "1         1  \n",
       "2         2  \n",
       "3         3  \n",
       "4         4  \n",
       "...     ...  \n",
       "2874   2874  \n",
       "2875   2875  \n",
       "2876   2876  \n",
       "2877   2877  \n",
       "2878   2878  \n",
       "\n",
       "[2879 rows x 19 columns]"
      ]
     },
     "execution_count": 64,
     "metadata": {},
     "output_type": "execute_result"
    }
   ],
   "source": [
    "info['index'] = info.index\n",
    "info"
   ]
  },
  {
   "cell_type": "code",
   "execution_count": 65,
   "id": "93ca3989-2f80-4ed8-8759-94fd4ba70785",
   "metadata": {},
   "outputs": [],
   "source": [
    "info.to_csv(f\"{toFilePre}/apr23_testset_pdbbind_gvp_pocket_radius20_info.csv\")"
   ]
  },
  {
   "cell_type": "code",
   "execution_count": 66,
   "id": "622dbee2-60cf-476d-abc2-994d2c45bc42",
   "metadata": {},
   "outputs": [
    {
     "data": {
      "text/html": [
       "<div>\n",
       "<style scoped>\n",
       "    .dataframe tbody tr th:only-of-type {\n",
       "        vertical-align: middle;\n",
       "    }\n",
       "\n",
       "    .dataframe tbody tr th {\n",
       "        vertical-align: top;\n",
       "    }\n",
       "\n",
       "    .dataframe thead th {\n",
       "        text-align: right;\n",
       "    }\n",
       "</style>\n",
       "<table border=\"1\" class=\"dataframe\">\n",
       "  <thead>\n",
       "    <tr style=\"text-align: right;\">\n",
       "      <th></th>\n",
       "      <th>Unnamed: 0</th>\n",
       "      <th>protein_name</th>\n",
       "      <th>compound_name</th>\n",
       "      <th>pdb</th>\n",
       "      <th>smiles</th>\n",
       "      <th>affinity</th>\n",
       "      <th>uid</th>\n",
       "      <th>pocket_com</th>\n",
       "      <th>use_compound_com</th>\n",
       "      <th>use_whole_protein</th>\n",
       "      <th>group</th>\n",
       "      <th>p_length</th>\n",
       "      <th>c_length</th>\n",
       "      <th>y_length</th>\n",
       "      <th>num_contact</th>\n",
       "      <th>native_num_contact</th>\n",
       "      <th>is_ligand_pocket</th>\n",
       "      <th>base_pdb</th>\n",
       "      <th>cover_contact_ratio</th>\n",
       "      <th>index</th>\n",
       "    </tr>\n",
       "  </thead>\n",
       "  <tbody>\n",
       "    <tr>\n",
       "      <th>0</th>\n",
       "      <td>0</td>\n",
       "      <td>6h9v</td>\n",
       "      <td>6h9v</td>\n",
       "      <td>6h9v</td>\n",
       "      <td>NaN</td>\n",
       "      <td>0.66</td>\n",
       "      <td>B5BTR7</td>\n",
       "      <td>NaN</td>\n",
       "      <td>True</td>\n",
       "      <td>False</td>\n",
       "      <td>test</td>\n",
       "      <td>64</td>\n",
       "      <td>12</td>\n",
       "      <td>768</td>\n",
       "      <td>73</td>\n",
       "      <td>73</td>\n",
       "      <td>True</td>\n",
       "      <td>6h9v</td>\n",
       "      <td>1.000000</td>\n",
       "      <td>0</td>\n",
       "    </tr>\n",
       "    <tr>\n",
       "      <th>1</th>\n",
       "      <td>1</td>\n",
       "      <td>6h9v</td>\n",
       "      <td>6h9v</td>\n",
       "      <td>6h9v_c</td>\n",
       "      <td>NaN</td>\n",
       "      <td>0.66</td>\n",
       "      <td>B5BTR7</td>\n",
       "      <td>[[  8.63139343 -20.26306343  54.77074432]]</td>\n",
       "      <td>False</td>\n",
       "      <td>False</td>\n",
       "      <td>test</td>\n",
       "      <td>162</td>\n",
       "      <td>12</td>\n",
       "      <td>1944</td>\n",
       "      <td>0</td>\n",
       "      <td>73</td>\n",
       "      <td>False</td>\n",
       "      <td>6h9v</td>\n",
       "      <td>0.000000</td>\n",
       "      <td>1</td>\n",
       "    </tr>\n",
       "    <tr>\n",
       "      <th>2</th>\n",
       "      <td>2</td>\n",
       "      <td>6h9v</td>\n",
       "      <td>6h9v</td>\n",
       "      <td>6h9v_0</td>\n",
       "      <td>NaN</td>\n",
       "      <td>0.66</td>\n",
       "      <td>B5BTR7</td>\n",
       "      <td>[[ 10.4502 -35.1582  63.1358]]</td>\n",
       "      <td>False</td>\n",
       "      <td>False</td>\n",
       "      <td>test</td>\n",
       "      <td>121</td>\n",
       "      <td>12</td>\n",
       "      <td>1452</td>\n",
       "      <td>0</td>\n",
       "      <td>73</td>\n",
       "      <td>False</td>\n",
       "      <td>6h9v</td>\n",
       "      <td>0.000000</td>\n",
       "      <td>2</td>\n",
       "    </tr>\n",
       "    <tr>\n",
       "      <th>3</th>\n",
       "      <td>3</td>\n",
       "      <td>6h9v</td>\n",
       "      <td>6h9v</td>\n",
       "      <td>6h9v_1</td>\n",
       "      <td>NaN</td>\n",
       "      <td>0.66</td>\n",
       "      <td>B5BTR7</td>\n",
       "      <td>[[ -1.7136 -18.0661  43.1919]]</td>\n",
       "      <td>False</td>\n",
       "      <td>False</td>\n",
       "      <td>test</td>\n",
       "      <td>127</td>\n",
       "      <td>12</td>\n",
       "      <td>1524</td>\n",
       "      <td>73</td>\n",
       "      <td>73</td>\n",
       "      <td>False</td>\n",
       "      <td>6h9v</td>\n",
       "      <td>1.000000</td>\n",
       "      <td>3</td>\n",
       "    </tr>\n",
       "    <tr>\n",
       "      <th>4</th>\n",
       "      <td>4</td>\n",
       "      <td>6h9v</td>\n",
       "      <td>6h9v</td>\n",
       "      <td>6h9v_2</td>\n",
       "      <td>NaN</td>\n",
       "      <td>0.66</td>\n",
       "      <td>B5BTR7</td>\n",
       "      <td>[[18.2234 -7.3891 59.1918]]</td>\n",
       "      <td>False</td>\n",
       "      <td>False</td>\n",
       "      <td>test</td>\n",
       "      <td>122</td>\n",
       "      <td>12</td>\n",
       "      <td>1464</td>\n",
       "      <td>0</td>\n",
       "      <td>73</td>\n",
       "      <td>False</td>\n",
       "      <td>6h9v</td>\n",
       "      <td>0.000000</td>\n",
       "      <td>4</td>\n",
       "    </tr>\n",
       "    <tr>\n",
       "      <th>...</th>\n",
       "      <td>...</td>\n",
       "      <td>...</td>\n",
       "      <td>...</td>\n",
       "      <td>...</td>\n",
       "      <td>...</td>\n",
       "      <td>...</td>\n",
       "      <td>...</td>\n",
       "      <td>...</td>\n",
       "      <td>...</td>\n",
       "      <td>...</td>\n",
       "      <td>...</td>\n",
       "      <td>...</td>\n",
       "      <td>...</td>\n",
       "      <td>...</td>\n",
       "      <td>...</td>\n",
       "      <td>...</td>\n",
       "      <td>...</td>\n",
       "      <td>...</td>\n",
       "      <td>...</td>\n",
       "      <td>...</td>\n",
       "    </tr>\n",
       "    <tr>\n",
       "      <th>2874</th>\n",
       "      <td>2874</td>\n",
       "      <td>6oxp</td>\n",
       "      <td>6oxp</td>\n",
       "      <td>6oxp_0</td>\n",
       "      <td>NaN</td>\n",
       "      <td>11.00</td>\n",
       "      <td>Q8ULI9</td>\n",
       "      <td>[[71.2014 55.9    16.6762]]</td>\n",
       "      <td>False</td>\n",
       "      <td>False</td>\n",
       "      <td>test</td>\n",
       "      <td>117</td>\n",
       "      <td>40</td>\n",
       "      <td>4680</td>\n",
       "      <td>389</td>\n",
       "      <td>389</td>\n",
       "      <td>False</td>\n",
       "      <td>6oxp</td>\n",
       "      <td>1.000000</td>\n",
       "      <td>2874</td>\n",
       "    </tr>\n",
       "    <tr>\n",
       "      <th>2875</th>\n",
       "      <td>2875</td>\n",
       "      <td>6oxq</td>\n",
       "      <td>6oxq</td>\n",
       "      <td>6oxq</td>\n",
       "      <td>NaN</td>\n",
       "      <td>11.30</td>\n",
       "      <td>Q8ULI9</td>\n",
       "      <td>NaN</td>\n",
       "      <td>True</td>\n",
       "      <td>False</td>\n",
       "      <td>test</td>\n",
       "      <td>119</td>\n",
       "      <td>41</td>\n",
       "      <td>4879</td>\n",
       "      <td>394</td>\n",
       "      <td>394</td>\n",
       "      <td>True</td>\n",
       "      <td>6oxq</td>\n",
       "      <td>1.000000</td>\n",
       "      <td>2875</td>\n",
       "    </tr>\n",
       "    <tr>\n",
       "      <th>2876</th>\n",
       "      <td>2876</td>\n",
       "      <td>6oxq</td>\n",
       "      <td>6oxq</td>\n",
       "      <td>6oxq_c</td>\n",
       "      <td>NaN</td>\n",
       "      <td>11.30</td>\n",
       "      <td>Q8ULI9</td>\n",
       "      <td>[[70.94274902 59.35316086 12.63163853]]</td>\n",
       "      <td>False</td>\n",
       "      <td>False</td>\n",
       "      <td>test</td>\n",
       "      <td>132</td>\n",
       "      <td>41</td>\n",
       "      <td>5412</td>\n",
       "      <td>394</td>\n",
       "      <td>394</td>\n",
       "      <td>False</td>\n",
       "      <td>6oxq</td>\n",
       "      <td>1.000000</td>\n",
       "      <td>2876</td>\n",
       "    </tr>\n",
       "    <tr>\n",
       "      <th>2877</th>\n",
       "      <td>2877</td>\n",
       "      <td>6oxq</td>\n",
       "      <td>6oxq</td>\n",
       "      <td>6oxq_0</td>\n",
       "      <td>NaN</td>\n",
       "      <td>11.30</td>\n",
       "      <td>Q8ULI9</td>\n",
       "      <td>[[71.0965 56.1167 16.6608]]</td>\n",
       "      <td>False</td>\n",
       "      <td>False</td>\n",
       "      <td>test</td>\n",
       "      <td>119</td>\n",
       "      <td>41</td>\n",
       "      <td>4879</td>\n",
       "      <td>394</td>\n",
       "      <td>394</td>\n",
       "      <td>False</td>\n",
       "      <td>6oxq</td>\n",
       "      <td>1.000000</td>\n",
       "      <td>2877</td>\n",
       "    </tr>\n",
       "    <tr>\n",
       "      <th>2878</th>\n",
       "      <td>2878</td>\n",
       "      <td>6oxq</td>\n",
       "      <td>6oxq</td>\n",
       "      <td>6oxq_1</td>\n",
       "      <td>NaN</td>\n",
       "      <td>11.30</td>\n",
       "      <td>Q8ULI9</td>\n",
       "      <td>[[62.479  72.1529  7.164 ]]</td>\n",
       "      <td>False</td>\n",
       "      <td>False</td>\n",
       "      <td>test</td>\n",
       "      <td>71</td>\n",
       "      <td>41</td>\n",
       "      <td>2911</td>\n",
       "      <td>194</td>\n",
       "      <td>394</td>\n",
       "      <td>False</td>\n",
       "      <td>6oxq</td>\n",
       "      <td>0.492386</td>\n",
       "      <td>2878</td>\n",
       "    </tr>\n",
       "  </tbody>\n",
       "</table>\n",
       "<p>2879 rows × 20 columns</p>\n",
       "</div>"
      ],
      "text/plain": [
       "      Unnamed: 0 protein_name compound_name     pdb  smiles  affinity     uid  \\\n",
       "0              0         6h9v          6h9v    6h9v     NaN      0.66  B5BTR7   \n",
       "1              1         6h9v          6h9v  6h9v_c     NaN      0.66  B5BTR7   \n",
       "2              2         6h9v          6h9v  6h9v_0     NaN      0.66  B5BTR7   \n",
       "3              3         6h9v          6h9v  6h9v_1     NaN      0.66  B5BTR7   \n",
       "4              4         6h9v          6h9v  6h9v_2     NaN      0.66  B5BTR7   \n",
       "...          ...          ...           ...     ...     ...       ...     ...   \n",
       "2874        2874         6oxp          6oxp  6oxp_0     NaN     11.00  Q8ULI9   \n",
       "2875        2875         6oxq          6oxq    6oxq     NaN     11.30  Q8ULI9   \n",
       "2876        2876         6oxq          6oxq  6oxq_c     NaN     11.30  Q8ULI9   \n",
       "2877        2877         6oxq          6oxq  6oxq_0     NaN     11.30  Q8ULI9   \n",
       "2878        2878         6oxq          6oxq  6oxq_1     NaN     11.30  Q8ULI9   \n",
       "\n",
       "                                      pocket_com  use_compound_com  \\\n",
       "0                                            NaN              True   \n",
       "1     [[  8.63139343 -20.26306343  54.77074432]]             False   \n",
       "2                 [[ 10.4502 -35.1582  63.1358]]             False   \n",
       "3                 [[ -1.7136 -18.0661  43.1919]]             False   \n",
       "4                    [[18.2234 -7.3891 59.1918]]             False   \n",
       "...                                          ...               ...   \n",
       "2874                 [[71.2014 55.9    16.6762]]             False   \n",
       "2875                                         NaN              True   \n",
       "2876     [[70.94274902 59.35316086 12.63163853]]             False   \n",
       "2877                 [[71.0965 56.1167 16.6608]]             False   \n",
       "2878                 [[62.479  72.1529  7.164 ]]             False   \n",
       "\n",
       "      use_whole_protein group  p_length  c_length  y_length  num_contact  \\\n",
       "0                 False  test        64        12       768           73   \n",
       "1                 False  test       162        12      1944            0   \n",
       "2                 False  test       121        12      1452            0   \n",
       "3                 False  test       127        12      1524           73   \n",
       "4                 False  test       122        12      1464            0   \n",
       "...                 ...   ...       ...       ...       ...          ...   \n",
       "2874              False  test       117        40      4680          389   \n",
       "2875              False  test       119        41      4879          394   \n",
       "2876              False  test       132        41      5412          394   \n",
       "2877              False  test       119        41      4879          394   \n",
       "2878              False  test        71        41      2911          194   \n",
       "\n",
       "      native_num_contact  is_ligand_pocket base_pdb  cover_contact_ratio  \\\n",
       "0                     73              True     6h9v             1.000000   \n",
       "1                     73             False     6h9v             0.000000   \n",
       "2                     73             False     6h9v             0.000000   \n",
       "3                     73             False     6h9v             1.000000   \n",
       "4                     73             False     6h9v             0.000000   \n",
       "...                  ...               ...      ...                  ...   \n",
       "2874                 389             False     6oxp             1.000000   \n",
       "2875                 394              True     6oxq             1.000000   \n",
       "2876                 394             False     6oxq             1.000000   \n",
       "2877                 394             False     6oxq             1.000000   \n",
       "2878                 394             False     6oxq             0.492386   \n",
       "\n",
       "      index  \n",
       "0         0  \n",
       "1         1  \n",
       "2         2  \n",
       "3         3  \n",
       "4         4  \n",
       "...     ...  \n",
       "2874   2874  \n",
       "2875   2875  \n",
       "2876   2876  \n",
       "2877   2877  \n",
       "2878   2878  \n",
       "\n",
       "[2879 rows x 20 columns]"
      ]
     },
     "execution_count": 66,
     "metadata": {},
     "output_type": "execute_result"
    }
   ],
   "source": [
    "a = pd.read_csv(f\"{toFilePre}/apr23_testset_pdbbind_gvp_pocket_radius20_info.csv\")\n",
    "a"
   ]
  },
  {
   "cell_type": "code",
   "execution_count": 101,
   "id": "32ac3eed-57ef-4fe9-b772-b0d370d16294",
   "metadata": {},
   "outputs": [
    {
     "data": {
      "text/plain": [
       "'/home/jovyan/TankBind/fragmentation/pdb_data/all_pdbbind/test_dataset'"
      ]
     },
     "execution_count": 101,
     "metadata": {},
     "output_type": "execute_result"
    }
   ],
   "source": [
    "toFilePre"
   ]
  },
  {
   "cell_type": "code",
   "execution_count": 49,
   "id": "62327ac7",
   "metadata": {},
   "outputs": [],
   "source": [
    "test = info.query(\"group == 'test'\").reset_index(drop=True)\n",
    "test_pdb_list = info.query(\"group == 'test'\").protein_name.unique()"
   ]
  },
  {
   "cell_type": "code",
   "execution_count": 50,
   "id": "bfd4b354",
   "metadata": {},
   "outputs": [],
   "source": [
    "test = info.query(\"group == 'test'\").reset_index(drop=True)\n",
    "test_pdb_list = info.query(\"group == 'test'\").protein_name.unique()"
   ]
  },
  {
   "cell_type": "code",
   "execution_count": 51,
   "id": "83d2ee58",
   "metadata": {},
   "outputs": [
    {
     "name": "stderr",
     "output_type": "stream",
     "text": [
      "100%|██████████| 363/363 [00:00<00:00, 212555.12it/s]\n"
     ]
    }
   ],
   "source": [
    "subset_protein_dict = {}\n",
    "for pdb in tqdm(test_pdb_list):\n",
    "    subset_protein_dict[pdb] = protein_dict[pdb]"
   ]
  },
  {
   "cell_type": "code",
   "execution_count": 52,
   "id": "c9beade6",
   "metadata": {},
   "outputs": [
    {
     "name": "stderr",
     "output_type": "stream",
     "text": [
      "100%|██████████| 363/363 [00:00<00:00, 121191.78it/s]\n"
     ]
    }
   ],
   "source": [
    "subset_compound_dict = {}\n",
    "for pdb in tqdm(test_pdb_list):\n",
    "    subset_compound_dict[pdb] = compound_dict[pdb]"
   ]
  },
  {
   "cell_type": "code",
   "execution_count": 53,
   "id": "ce97e14d",
   "metadata": {},
   "outputs": [
    {
     "name": "stderr",
     "output_type": "stream",
     "text": [
      "Processing...\n",
      "Done!\n"
     ]
    },
    {
     "name": "stdout",
     "output_type": "stream",
     "text": [
      "['/home/jovyan/frag_protein/fragmentation/pdb_data/all_pdbbind/test_dataset/processed/data.pt', '/home/jovyan/frag_protein/fragmentation/pdb_data/all_pdbbind/test_dataset/processed/protein.pt', '/home/jovyan/frag_protein/fragmentation/pdb_data/all_pdbbind/test_dataset/processed/compound.pt']\n"
     ]
    }
   ],
   "source": [
    "\n",
    "toFilePre = f\"{pre}/test_dataset\"\n",
    "os.system(f\"mkdir -p {toFilePre}\")\n",
    "dataset = TankBindDataSet(toFilePre, data=test, protein_dict=subset_protein_dict, compound_dict=subset_compound_dict)"
   ]
  },
  {
   "cell_type": "code",
   "execution_count": 56,
   "id": "c4fb7d92",
   "metadata": {},
   "outputs": [],
   "source": [
    "def canonical_smiles(smiles):\n",
    "    return Chem.MolToSmiles(Chem.MolFromSmiles(smiles))"
   ]
  },
  {
   "cell_type": "code",
   "execution_count": null,
   "id": "740ac294-0b30-4db9-a98c-3344911c075e",
   "metadata": {},
   "outputs": [],
   "source": []
  }
 ],
 "metadata": {
  "interpreter": {
   "hash": "3642610297c2db0c2e515b5d6934e6fa60bcae4d2e973dd2c51cba19538092f6"
  },
  "kernelspec": {
   "display_name": "Python [conda env:tankbind_py38]",
   "language": "python",
   "name": "conda-env-tankbind_py38-py"
  },
  "language_info": {
   "codemirror_mode": {
    "name": "ipython",
    "version": 3
   },
   "file_extension": ".py",
   "mimetype": "text/x-python",
   "name": "python",
   "nbconvert_exporter": "python",
   "pygments_lexer": "ipython3",
   "version": "3.8.13"
  }
 },
 "nbformat": 4,
 "nbformat_minor": 5
}
