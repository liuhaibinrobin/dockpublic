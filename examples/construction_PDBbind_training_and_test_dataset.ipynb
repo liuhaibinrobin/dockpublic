{
 "cells": [
  {
   "cell_type": "markdown",
   "id": "fea8b151",
   "metadata": {
    "tags": []
   },
   "source": [
    "# overview\n",
    "\n",
    "We start from the raw PDBbind dataset downloaded from http://www.pdbbind.org.cn/download.php\n",
    "\n",
    "1. filter out those unable to process using RDKit.\n",
    "\n",
    "2. Process the protein by only preserving the chains that with at least one atom within 10Å from any atom of the ligand.\n",
    "\n",
    "3. Use p2rank to segment protein into blocks.\n",
    "\n",
    "4. extract protein and ligand features.\n",
    "\n",
    "5. construct the training and test dataset.\n"
   ]
  },
  {
   "cell_type": "code",
   "execution_count": 1,
   "id": "b311ab09",
   "metadata": {},
   "outputs": [],
   "source": [
    "tankbind_src_folder_path = \"../tankbind/\"\n",
    "import sys\n",
    "sys.path.insert(0, tankbind_src_folder_path)"
   ]
  },
  {
   "cell_type": "code",
   "execution_count": 2,
   "id": "5069f0d0",
   "metadata": {},
   "outputs": [],
   "source": [
    "import pandas as pd\n",
    "import numpy as np\n",
    "from tqdm import tqdm"
   ]
  },
  {
   "cell_type": "markdown",
   "id": "c16007dc",
   "metadata": {
    "tags": []
   },
   "source": [
    "# process the raw PDBbind dataset."
   ]
  },
  {
   "cell_type": "code",
   "execution_count": 3,
   "id": "426539b6",
   "metadata": {},
   "outputs": [],
   "source": [
    "from utils import read_pdbbind_data"
   ]
  },
  {
   "cell_type": "code",
   "execution_count": 4,
   "id": "4229f4e0",
   "metadata": {},
   "outputs": [
    {
     "name": "stdout",
     "output_type": "stream",
     "text": [
      "100\n"
     ]
    }
   ],
   "source": [
    "# raw PDBbind dataset could be downloaded from http://www.pdbbind.org.cn/download.php\n",
    "pre = \"./pdbbind/pdbbind2020/\"\n",
    "df_pdb_id = pd.read_csv(f'{pre}/pdbbind_index/INDEX_general_PL_name.2020', sep=\"  \", comment='#', header=None, names=['pdb', 'year', 'uid', 'd', 'e','f','g','h','i','j','k','l','m','n','o'], engine='python')\n",
    "\n",
    "if True:\n",
    "    df_pdb_id = df_pdb_id[:100]\n",
    "\n",
    "df_pdb_id = df_pdb_id[['pdb','uid']]\n",
    "data = read_pdbbind_data(f'{pre}/pdbbind_index/INDEX_general_PL_data.2020')\n",
    "data = data.merge(df_pdb_id, on=['pdb'])\n",
    "print(len(data))\n"
   ]
  },
  {
   "cell_type": "markdown",
   "id": "275f0a5d",
   "metadata": {},
   "source": [
    "# ligand file should be readable by RDKit."
   ]
  },
  {
   "cell_type": "code",
   "execution_count": 5,
   "id": "b7a90f5e",
   "metadata": {},
   "outputs": [],
   "source": [
    "from feature_utils import read_mol"
   ]
  },
  {
   "cell_type": "code",
   "execution_count": 6,
   "id": "fbe53fe6",
   "metadata": {},
   "outputs": [
    {
     "name": "stderr",
     "output_type": "stream",
     "text": [
      "100%|██████████| 100/100 [00:01<00:00, 71.10it/s]\n"
     ]
    }
   ],
   "source": [
    "from rdkit import RDLogger\n",
    "RDLogger.DisableLog('rdApp.*')\n",
    "pdb_list = []\n",
    "problem_list = []\n",
    "for pdb in tqdm(data.pdb):\n",
    "    sdf_fileName = f\"{pre}/pdbbind_files/{pdb}/{pdb}_ligand.sdf\"\n",
    "    mol2_fileName = f\"{pre}/pdbbind_files/{pdb}/{pdb}_ligand.mol2\"\n",
    "    mol, problem = read_mol(sdf_fileName, mol2_fileName)\n",
    "    if problem:\n",
    "        problem_list.append((pdb, problem))\n",
    "        continue\n",
    "    pdb_list.append(pdb)"
   ]
  },
  {
   "cell_type": "code",
   "execution_count": 7,
   "id": "e5ee0f5b",
   "metadata": {},
   "outputs": [],
   "source": [
    "data = data.query(\"pdb in @pdb_list\").reset_index(drop=True)"
   ]
  },
  {
   "cell_type": "code",
   "execution_count": 8,
   "id": "9028fe1a",
   "metadata": {},
   "outputs": [
    {
     "data": {
      "text/plain": [
       "(100, 7)"
      ]
     },
     "execution_count": 8,
     "metadata": {},
     "output_type": "execute_result"
    }
   ],
   "source": [
    "data.shape"
   ]
  },
  {
   "cell_type": "code",
   "execution_count": 9,
   "id": "ead6bfa9-9bf2-494b-b2a4-fec739b3c53f",
   "metadata": {},
   "outputs": [
    {
     "data": {
      "text/plain": [
       "0"
      ]
     },
     "execution_count": 9,
     "metadata": {},
     "output_type": "execute_result"
    }
   ],
   "source": [
    "len(problem_list)"
   ]
  },
  {
   "cell_type": "code",
   "execution_count": 10,
   "id": "73257310-5ec0-4248-b9b1-ef870a76433a",
   "metadata": {},
   "outputs": [
    {
     "data": {
      "text/plain": [
       "100"
      ]
     },
     "execution_count": 10,
     "metadata": {},
     "output_type": "execute_result"
    }
   ],
   "source": [
    "len(pdb_list)"
   ]
  },
  {
   "cell_type": "code",
   "execution_count": 11,
   "id": "633263a4-cc39-425c-96e9-71c1f01d49e2",
   "metadata": {},
   "outputs": [
    {
     "data": {
      "text/plain": [
       "[]"
      ]
     },
     "execution_count": 11,
     "metadata": {},
     "output_type": "execute_result"
    }
   ],
   "source": [
    "problem_list[:10]"
   ]
  },
  {
   "cell_type": "markdown",
   "id": "1bc1970b",
   "metadata": {},
   "source": [
    "### for ease of RMSD evaluation later, we renumber the atom index to be consistent with the smiles"
   ]
  },
  {
   "cell_type": "code",
   "execution_count": 12,
   "id": "12910fb5",
   "metadata": {},
   "outputs": [],
   "source": [
    "from feature_utils import write_renumbered_sdf"
   ]
  },
  {
   "cell_type": "code",
   "execution_count": 13,
   "id": "ade60b1e",
   "metadata": {},
   "outputs": [
    {
     "name": "stderr",
     "output_type": "stream",
     "text": [
      "100%|██████████| 100/100 [00:03<00:00, 29.87it/s]\n"
     ]
    }
   ],
   "source": [
    "import os\n",
    "toFolder = f\"{pre}/renumber_atom_index_same_as_smiles\"\n",
    "os.system(f\"mkdir -p {toFolder}\")\n",
    "for pdb in tqdm(pdb_list):\n",
    "    sdf_fileName = f\"{pre}/pdbbind_files/{pdb}/{pdb}_ligand.sdf\"\n",
    "    mol2_fileName = f\"{pre}/pdbbind_files/{pdb}/{pdb}_ligand.mol2\"\n",
    "    toFile = f\"{toFolder}/{pdb}.sdf\"\n",
    "    write_renumbered_sdf(toFile, sdf_fileName, mol2_fileName)\n"
   ]
  },
  {
   "cell_type": "markdown",
   "id": "dd58cfa5",
   "metadata": {},
   "source": [
    "# process PDBbind proteins, removing extra chains, cutoff 10A"
   ]
  },
  {
   "cell_type": "code",
   "execution_count": 14,
   "id": "192b7c8e",
   "metadata": {},
   "outputs": [
    {
     "data": {
      "text/plain": [
       "0"
      ]
     },
     "execution_count": 14,
     "metadata": {},
     "output_type": "execute_result"
    }
   ],
   "source": [
    "toFolder = f\"{pre}/protein_remove_extra_chains_10A/\"\n",
    "os.system(f\"mkdir -p {toFolder}\")"
   ]
  },
  {
   "cell_type": "code",
   "execution_count": 15,
   "id": "b680f7d9",
   "metadata": {},
   "outputs": [],
   "source": [
    "input_ = []\n",
    "cutoff = 10\n",
    "for pdb in data.pdb.values:\n",
    "    pdbFile = f\"{pre}/pdbbind_files/{pdb}/{pdb}_protein.pdb\"\n",
    "    ligandFile = f\"{pre}/renumber_atom_index_same_as_smiles/{pdb}.sdf\"\n",
    "    toFile = f\"{toFolder}/{pdb}_protein.pdb\"\n",
    "    x = (pdbFile, ligandFile, cutoff, toFile)\n",
    "    input_.append(x)"
   ]
  },
  {
   "cell_type": "code",
   "execution_count": 16,
   "id": "2796e510",
   "metadata": {},
   "outputs": [],
   "source": [
    "from feature_utils import select_chain_within_cutoff_to_ligand_v2"
   ]
  },
  {
   "cell_type": "code",
   "execution_count": 17,
   "id": "879c4c31",
   "metadata": {},
   "outputs": [
    {
     "name": "stderr",
     "output_type": "stream",
     "text": [
      "[mlcrate] 64 CPUs: 100%|██████████| 100/100 [00:08<00:00, 12.43it/s]\n"
     ]
    }
   ],
   "source": [
    "import mlcrate as mlc\n",
    "import os\n",
    "pool = mlc.SuperPool(64)\n",
    "pool.pool.restart()\n",
    "_ = pool.map(select_chain_within_cutoff_to_ligand_v2,input_)\n",
    "pool.exit()"
   ]
  },
  {
   "cell_type": "code",
   "execution_count": 18,
   "id": "cbe5c4f8",
   "metadata": {},
   "outputs": [],
   "source": [
    "# previously, I found that 2r1w has no chain near the ligand.\n",
    "data = data.query(\"pdb != '2r1w'\").reset_index(drop=True)"
   ]
  },
  {
   "cell_type": "markdown",
   "id": "c4e05cea",
   "metadata": {},
   "source": [
    "# p2rank segmentation"
   ]
  },
  {
   "cell_type": "code",
   "execution_count": 19,
   "id": "e49b8ae8",
   "metadata": {},
   "outputs": [],
   "source": [
    "p2rank_prediction_folder = f\"{pre}/p2rank_protein_remove_extra_chains_10A\"\n",
    "os.system(f\"mkdir -p {p2rank_prediction_folder}\")\n",
    "ds = f\"{p2rank_prediction_folder}/protein_list.ds\"\n",
    "with open(ds, \"w\") as out:\n",
    "    for pdb in data.pdb.values:\n",
    "        out.write(f\"../protein_remove_extra_chains_10A/{pdb}_protein.pdb\\n\")"
   ]
  },
  {
   "cell_type": "code",
   "execution_count": 20,
   "id": "b3438c7b",
   "metadata": {},
   "outputs": [
    {
     "name": "stdout",
     "output_type": "stream",
     "text": [
      "----------------------------------------------------------------------------------------------\n",
      " P2Rank 2.3\n",
      "----------------------------------------------------------------------------------------------\n",
      "\n",
      "predicting pockets for proteins from dataset [protein_list.ds]\n",
      "processing [3mwe_protein.pdb] (1/100)\n",
      "processing [5uah_protein.pdb] (2/100)\n",
      "processing [5ual_protein.pdb] (3/100)\n",
      "processing [6nzk_protein.pdb] (5/100)\n",
      "processing [5swg_protein.pdb] (7/100)\n",
      "processing [4zh4_protein.pdb] (4/100)\n",
      "processing [4zh3_protein.pdb] (6/100)\n",
      "processing [2j9n_protein.pdb] (9/100)\n",
      "processing [4xwk_protein.pdb] (8/100)\n",
      "processing [5sxk_protein.pdb] (10/100)\n",
      "processing [1t3t_protein.pdb] (11/100)\n",
      "processing [1i6v_protein.pdb] (12/100)\n",
      "processing [4waf_protein.pdb] (13/100)\n",
      "processing [4xsx_protein.pdb] (14/100)\n",
      "processing [1i1e_protein.pdb] (16/100)\n",
      "processing [4zh2_protein.pdb] (15/100)\n",
      "processing [4qsh_protein.pdb] (17/100)\n",
      "processing [4qsk_protein.pdb] (18/100)\n",
      "processing [5urj_protein.pdb] (19/100)\n",
      "processing [5urm_protein.pdb] (20/100)\n",
      "processing [1g9a_protein.pdb] (21/100)\n",
      "processing [1g9b_protein.pdb] (22/100)\n",
      "processing [1g9c_protein.pdb] (23/100)\n",
      "processing [1g9d_protein.pdb] (24/100)\n",
      "processing [3eql_protein.pdb] (25/100)\n",
      "processing [4xsy_protein.pdb] (26/100)\n",
      "processing [4wz6_protein.pdb] (27/100)\n",
      "processing [4xsz_protein.pdb] (28/100)\n",
      "processing [1zyr_protein.pdb] (29/100)\n",
      "processing [4ajw_protein.pdb] (30/100)\n",
      "processing [5xgh_protein.pdb] (31/100)\n",
      "processing [6gvg_protein.pdb] (32/100)\n",
      "processing [6q6y_protein.pdb] (33/100)\n",
      "processing [5wbk_protein.pdb] (34/100)\n",
      "processing [6gvh_protein.pdb] (35/100)\n",
      "processing [5urk_protein.pdb] (36/100)\n",
      "processing [3dxj_protein.pdb] (37/100)\n",
      "processing [6oco_protein.pdb] (38/100)\n",
      "processing [4v0i_protein.pdb] (39/100)\n",
      "processing [5uk8_protein.pdb] (40/100)\n",
      "processing [5wbl_protein.pdb] (41/100)\n",
      "processing [6fbv_protein.pdb] (42/100)\n",
      "processing [5itd_protein.pdb] (43/100)\n",
      "processing [4ci1_protein.pdb] (44/100)\n",
      "processing [5ul1_protein.pdb] (45/100)\n",
      "processing [4mex_protein.pdb] (46/100)\n",
      "processing [6ftn_protein.pdb] (47/100)\n",
      "processing [2wxf_protein.pdb] (48/100)\n",
      "processing [4ci2_protein.pdb] (49/100)\n",
      "processing [5l72_protein.pdb] (50/100)\n",
      "processing [4ci3_protein.pdb] (51/100)\n",
      "processing [6gvi_protein.pdb] (52/100)\n",
      "processing [2x38_protein.pdb] (53/100)\n",
      "processing [6q73_protein.pdb] (54/100)\n",
      "processing [2wxo_protein.pdb] (55/100)\n",
      "processing [5t27_protein.pdb] (56/100)\n",
      "processing [6pys_protein.pdb] (57/100)\n",
      "processing [5ukj_protein.pdb] (58/100)\n",
      "processing [5v3o_protein.pdb] (59/100)\n",
      "processing [1y4z_protein.pdb] (60/100)\n",
      "processing [4kn4_protein.pdb] (61/100)\n",
      "processing [6gy0_protein.pdb] (62/100)\n",
      "processing [6dgt_protein.pdb] (63/100)\n",
      "processing [2wxm_protein.pdb] (64/100)\n",
      "processing [6ez6_protein.pdb] (65/100)\n",
      "processing [2nm1_protein.pdb] (66/100)\n",
      "processing [2wxq_protein.pdb] (67/100)\n",
      "processing [6gvf_protein.pdb] (68/100)\n",
      "processing [4kn7_protein.pdb] (69/100)\n",
      "processing [2wxn_protein.pdb] (70/100)\n",
      "processing [4xe0_protein.pdb] (71/100)\n",
      "processing [5ngb_protein.pdb] (72/100)\n",
      "processing [4l23_protein.pdb] (73/100)\n",
      "processing [3hhm_protein.pdb] (74/100)\n",
      "processing [4kmu_protein.pdb] (75/100)\n",
      "processing [6oac_protein.pdb] (76/100)\n",
      "processing [5o83_protein.pdb] (77/100)\n",
      "processing [4ykn_protein.pdb] (78/100)\n",
      "processing [6pyu_protein.pdb] (79/100)\n",
      "processing [2wxh_protein.pdb] (80/100)\n",
      "processing [5t2g_protein.pdb] (81/100)\n",
      "processing [6eyz_protein.pdb] (82/100)\n",
      "processing [6mu1_protein.pdb] (83/100)\n",
      "processing [2wxi_protein.pdb] (84/100)\n",
      "processing [6o0h_protein.pdb] (85/100)\n",
      "processing [3zim_protein.pdb] (86/100)\n",
      "processing [6o2p_protein.pdb] (87/100)\n",
      "processing [4jps_protein.pdb] (88/100)\n",
      "processing [5uac_protein.pdb] (89/100)\n",
      "processing [6en4_protein.pdb] (90/100)\n",
      "processing [5dxu_protein.pdb] (91/100)\n",
      "processing [5vlr_protein.pdb] (92/100)\n",
      "processing [3t8s_protein.pdb] (93/100)\n",
      "processing [5ubt_protein.pdb] (94/100)\n",
      "processing [4tv3_protein.pdb] (95/100)\n",
      "processing [5dxh_protein.pdb] (96/100)\n",
      "processing [6pyr_protein.pdb] (97/100)\n",
      "processing [5dxt_protein.pdb] (98/100)\n",
      "processing [6g6w_protein.pdb] (99/100)\n",
      "processing [1n4k_protein.pdb] (100/100)\n",
      "predicting pockets finished in 0 hours 0 minutes 46.073 seconds\n",
      "results saved to directory [/home/jovyan/reproduce/examples/pdbbind/pdbbind2020/p2rank_protein_remove_extra_chains_10A/p2rank]\n",
      "\n",
      "----------------------------------------------------------------------------------------------\n",
      " finished successfully in 0 hours 0 minutes 47.071 seconds\n",
      "----------------------------------------------------------------------------------------------\n"
     ]
    },
    {
     "data": {
      "text/plain": [
       "0"
      ]
     },
     "execution_count": 20,
     "metadata": {},
     "output_type": "execute_result"
    }
   ],
   "source": [
    "# takes about 30 minutes.\n",
    "#p2rank = \"bash /packages/p2rank_2.3/prank\"\n",
    "p2rank = \"bash /home/jovyan/TankBind/p2rank_2.3/prank\"\n",
    "cmd = f\"{p2rank} predict {ds} -o {p2rank_prediction_folder}/p2rank -threads 16\"\n",
    "os.system(cmd)"
   ]
  },
  {
   "cell_type": "code",
   "execution_count": 21,
   "id": "910f54fb",
   "metadata": {},
   "outputs": [],
   "source": [
    "data.to_csv(f\"{pre}/data.csv\")"
   ]
  },
  {
   "cell_type": "code",
   "execution_count": 22,
   "id": "5e601c3b",
   "metadata": {},
   "outputs": [
    {
     "name": "stdout",
     "output_type": "stream",
     "text": [
      "100\n"
     ]
    }
   ],
   "source": [
    "pdb_list = data.pdb.values\n",
    "print(len(pdb_list))"
   ]
  },
  {
   "cell_type": "code",
   "execution_count": 23,
   "id": "dfad4e28",
   "metadata": {},
   "outputs": [
    {
     "data": {
      "text/plain": [
       "0"
      ]
     },
     "execution_count": 23,
     "metadata": {},
     "output_type": "execute_result"
    }
   ],
   "source": [
    "tankbind_data_path = f\"{pre}/tankbind_data\"\n",
    "os.system(f\"mkdir -p {tankbind_data_path}\")"
   ]
  },
  {
   "cell_type": "code",
   "execution_count": 24,
   "id": "12847b29",
   "metadata": {},
   "outputs": [
    {
     "name": "stderr",
     "output_type": "stream",
     "text": [
      "100%|██████████| 100/100 [00:01<00:00, 75.61it/s]\n"
     ]
    }
   ],
   "source": [
    "name_list = pdb_list\n",
    "d_list = []\n",
    "\n",
    "for name in tqdm(name_list):\n",
    "    p2rankFile = f\"{pre}/p2rank_protein_remove_extra_chains_10A/p2rank/{name}_protein.pdb_predictions.csv\"\n",
    "    d = pd.read_csv(p2rankFile)\n",
    "    d.columns = d.columns.str.strip()\n",
    "    d_list.append(d.assign(name=name))\n",
    "d = pd.concat(d_list).reset_index(drop=True)\n",
    "d.reset_index(drop=True).to_feather(f\"{tankbind_data_path}/p2rank_result.feather\")"
   ]
  },
  {
   "cell_type": "code",
   "execution_count": 25,
   "id": "e1762386",
   "metadata": {},
   "outputs": [],
   "source": [
    "d = pd.read_feather(f\"{tankbind_data_path}/p2rank_result.feather\")"
   ]
  },
  {
   "cell_type": "code",
   "execution_count": 26,
   "id": "db3d013e",
   "metadata": {},
   "outputs": [
    {
     "name": "stderr",
     "output_type": "stream",
     "text": [
      "100%|██████████| 100/100 [00:00<00:00, 1601.85it/s]\n"
     ]
    }
   ],
   "source": [
    "pockets_dict = {}\n",
    "for name in tqdm(name_list):\n",
    "    pockets_dict[name] = d[d.name == name].reset_index(drop=True)"
   ]
  },
  {
   "cell_type": "code",
   "execution_count": null,
   "id": "b5001a71",
   "metadata": {},
   "outputs": [],
   "source": []
  },
  {
   "cell_type": "markdown",
   "id": "5f9140de",
   "metadata": {},
   "source": [
    "# protein feature"
   ]
  },
  {
   "cell_type": "code",
   "execution_count": 27,
   "id": "b689f3e0",
   "metadata": {},
   "outputs": [],
   "source": [
    "from feature_utils import get_protein_feature"
   ]
  },
  {
   "cell_type": "code",
   "execution_count": 28,
   "id": "d29e0a82",
   "metadata": {},
   "outputs": [],
   "source": [
    "input_ = []\n",
    "protein_embedding_folder = f\"{tankbind_data_path}/gvp_protein_embedding\"\n",
    "os.system(f\"mkdir -p {protein_embedding_folder}\")\n",
    "for pdb in pdb_list:\n",
    "    proteinFile = f\"{pre}/protein_remove_extra_chains_10A/{pdb}_protein.pdb\"\n",
    "    toFile = f\"{protein_embedding_folder}/{pdb}.pt\"\n",
    "    x = (pdb, proteinFile, toFile)\n",
    "    input_.append(x)"
   ]
  },
  {
   "cell_type": "code",
   "execution_count": 29,
   "id": "70121a0c",
   "metadata": {},
   "outputs": [],
   "source": [
    "from Bio.PDB import PDBParser\n",
    "from feature_utils import get_clean_res_list\n",
    "import torch\n",
    "torch.set_num_threads(1)\n",
    "\n",
    "def batch_run(x):\n",
    "    protein_dict = {}\n",
    "    pdb, proteinFile, toFile = x\n",
    "    parser = PDBParser(QUIET=True)\n",
    "    s = parser.get_structure(pdb, proteinFile)\n",
    "    res_list = get_clean_res_list(s.get_residues(), verbose=False, ensure_ca_exist=True)\n",
    "    protein_dict[pdb] = get_protein_feature(res_list)\n",
    "    torch.save(protein_dict, toFile)"
   ]
  },
  {
   "cell_type": "code",
   "execution_count": 30,
   "id": "321cee7f",
   "metadata": {},
   "outputs": [
    {
     "name": "stderr",
     "output_type": "stream",
     "text": [
      "[mlcrate] 64 CPUs: 100%|██████████| 100/100 [00:09<00:00, 10.82it/s]\n"
     ]
    }
   ],
   "source": [
    "import mlcrate as mlc\n",
    "import os\n",
    "pool = mlc.SuperPool(64)\n",
    "pool.pool.restart()\n",
    "_ = pool.map(batch_run,input_)\n",
    "pool.exit()"
   ]
  },
  {
   "cell_type": "code",
   "execution_count": 31,
   "id": "bfbc3289",
   "metadata": {},
   "outputs": [
    {
     "name": "stderr",
     "output_type": "stream",
     "text": [
      "100%|██████████| 100/100 [00:04<00:00, 20.78it/s]\n"
     ]
    }
   ],
   "source": [
    "protein_dict = {}\n",
    "for pdb in tqdm(pdb_list):\n",
    "    protein_dict.update(torch.load(f\"{protein_embedding_folder}/{pdb}.pt\"))\n"
   ]
  },
  {
   "cell_type": "code",
   "execution_count": null,
   "id": "a86a1b8a",
   "metadata": {},
   "outputs": [],
   "source": []
  },
  {
   "cell_type": "markdown",
   "id": "7d8d60b3",
   "metadata": {},
   "source": [
    "# Compound Features"
   ]
  },
  {
   "cell_type": "code",
   "execution_count": 32,
   "id": "ff6d64d7",
   "metadata": {},
   "outputs": [
    {
     "name": "stderr",
     "output_type": "stream",
     "text": [
      "100%|██████████| 100/100 [00:03<00:00, 31.86it/s]\n"
     ]
    }
   ],
   "source": [
    "from feature_utils import extract_torchdrug_feature_from_mol\n",
    "compound_dict = {}\n",
    "skip_pdb_list = []\n",
    "for pdb in tqdm(pdb_list):\n",
    "    mol, _ = read_mol(f\"{pre}/renumber_atom_index_same_as_smiles/{pdb}.sdf\", None)\n",
    "    # extract features from sdf.\n",
    "    try:\n",
    "        compound_dict[pdb] = extract_torchdrug_feature_from_mol(mol, has_LAS_mask=True)  # self-dock set has_LAS_mask to true\n",
    "    except Exception as e:\n",
    "        print(e)\n",
    "        skip_pdb_list.append(pdb)\n",
    "        print(pdb)"
   ]
  },
  {
   "cell_type": "code",
   "execution_count": 33,
   "id": "92d4e566",
   "metadata": {},
   "outputs": [],
   "source": [
    "torch.save(compound_dict, f\"{tankbind_data_path}/compound_torchdrug_features.pt\")"
   ]
  },
  {
   "cell_type": "code",
   "execution_count": 34,
   "id": "ce6b68ff",
   "metadata": {},
   "outputs": [
    {
     "data": {
      "text/plain": [
       "[]"
      ]
     },
     "execution_count": 34,
     "metadata": {},
     "output_type": "execute_result"
    }
   ],
   "source": [
    "skip_pdb_list"
   ]
  },
  {
   "cell_type": "code",
   "execution_count": 35,
   "id": "92b17db2",
   "metadata": {},
   "outputs": [],
   "source": [
    "data = data.query(\"pdb not in @skip_pdb_list\").reset_index(drop=True)"
   ]
  },
  {
   "cell_type": "markdown",
   "id": "78f25b2f",
   "metadata": {},
   "source": [
    "# construct dataset."
   ]
  },
  {
   "cell_type": "code",
   "execution_count": 36,
   "id": "97a21f59",
   "metadata": {},
   "outputs": [],
   "source": [
    "# we use the time-split defined in EquiBind paper.\n",
    "# https://github.com/HannesStark/EquiBind/tree/main/data\n",
    "valid = np.loadtxt(f\"{pre}/equibind-data/timesplit_no_lig_overlap_val\", dtype=str)\n",
    "test = np.loadtxt(f\"{pre}/equibind-data/timesplit_test\", dtype=str)\n",
    "def assign_group(pdb, valid=valid, test=test):\n",
    "    if pdb in valid:\n",
    "        return 'valid'\n",
    "    if pdb in test:\n",
    "        return 'test'\n",
    "    return 'train'\n",
    "\n",
    "data['group'] = data.pdb.map(assign_group)"
   ]
  },
  {
   "cell_type": "code",
   "execution_count": 37,
   "id": "275891d7",
   "metadata": {},
   "outputs": [
    {
     "data": {
      "text/plain": [
       "group\n",
       "train    92\n",
       "valid     7\n",
       "test      1\n",
       "dtype: int64"
      ]
     },
     "execution_count": 37,
     "metadata": {},
     "output_type": "execute_result"
    }
   ],
   "source": [
    "data.value_counts(\"group\")"
   ]
  },
  {
   "cell_type": "code",
   "execution_count": 38,
   "id": "04ca68b2",
   "metadata": {},
   "outputs": [],
   "source": [
    "data['name'] = data['pdb']"
   ]
  },
  {
   "cell_type": "code",
   "execution_count": 39,
   "id": "26bc4d87",
   "metadata": {},
   "outputs": [
    {
     "name": "stderr",
     "output_type": "stream",
     "text": [
      "100%|██████████| 100/100 [00:00<00:00, 770.18it/s]\n"
     ]
    }
   ],
   "source": [
    "info = []\n",
    "for i, line in tqdm(data.iterrows(), total=data.shape[0]):\n",
    "    pdb = line['pdb']\n",
    "    uid = line['uid']\n",
    "    # smiles = line['smiles']\n",
    "    smiles = \"\"\n",
    "    affinity = line['affinity']\n",
    "    group = line['group']\n",
    "\n",
    "    compound_name = line['name']\n",
    "    protein_name = line['name']\n",
    "\n",
    "    pocket = pockets_dict[pdb].head(10)\n",
    "    pocket.columns = pocket.columns.str.strip()\n",
    "    pocket_coms = pocket[['center_x', 'center_y', 'center_z']].values\n",
    "    # native block.\n",
    "    info.append([protein_name, compound_name, pdb, smiles, affinity, uid, None, True, False, group])\n",
    "    # protein center as a block.\n",
    "    protein_com = protein_dict[protein_name][0].numpy().mean(axis=0).astype(float).reshape(1, 3)\n",
    "    info.append([protein_name, compound_name, pdb+\"_c\", smiles, affinity, uid, protein_com, False, False, group])\n",
    "    \n",
    "    for idx, pocket_line in pocket.iterrows():\n",
    "        pdb_idx = f\"{pdb}_{idx}\"\n",
    "        info.append([protein_name, compound_name, pdb_idx, smiles, affinity, uid, pocket_coms[idx].reshape(1, 3), False, False, group])\n",
    "info = pd.DataFrame(info, columns=['protein_name', 'compound_name', 'pdb', 'smiles', 'affinity', 'uid', 'pocket_com', \n",
    "                                   'use_compound_com', 'use_whole_protein',\n",
    "                                  'group'])\n",
    "\n"
   ]
  },
  {
   "cell_type": "code",
   "execution_count": 40,
   "id": "861562aa",
   "metadata": {},
   "outputs": [
    {
     "data": {
      "text/plain": [
       "(1167, 10)"
      ]
     },
     "execution_count": 40,
     "metadata": {},
     "output_type": "execute_result"
    }
   ],
   "source": [
    "info.shape"
   ]
  },
  {
   "cell_type": "code",
   "execution_count": 41,
   "id": "396b862a",
   "metadata": {},
   "outputs": [],
   "source": [
    "from data import TankBindDataSet"
   ]
  },
  {
   "cell_type": "code",
   "execution_count": 42,
   "id": "53cc9668",
   "metadata": {},
   "outputs": [
    {
     "name": "stderr",
     "output_type": "stream",
     "text": [
      "Processing...\n",
      "Done!\n"
     ]
    },
    {
     "name": "stdout",
     "output_type": "stream",
     "text": [
      "['pdbbind/pdbbind2020/dataset/processed/data.pt', 'pdbbind/pdbbind2020/dataset/processed/protein.pt', 'pdbbind/pdbbind2020/dataset/processed/compound.pt']\n"
     ]
    }
   ],
   "source": [
    "toFilePre = f\"{pre}/dataset\"\n",
    "os.system(f\"mkdir -p {toFilePre}\")\n",
    "dataset = TankBindDataSet(toFilePre, data=info, protein_dict=protein_dict, compound_dict=compound_dict)"
   ]
  },
  {
   "cell_type": "code",
   "execution_count": 43,
   "id": "456655b8",
   "metadata": {},
   "outputs": [
    {
     "name": "stdout",
     "output_type": "stream",
     "text": [
      "['pdbbind/pdbbind2020/dataset/processed/data.pt', 'pdbbind/pdbbind2020/dataset/processed/protein.pt', 'pdbbind/pdbbind2020/dataset/processed/compound.pt']\n"
     ]
    }
   ],
   "source": [
    "dataset = TankBindDataSet(toFilePre)\n"
   ]
  },
  {
   "cell_type": "code",
   "execution_count": 44,
   "id": "26f65962",
   "metadata": {},
   "outputs": [
    {
     "name": "stderr",
     "output_type": "stream",
     "text": [
      "100%|██████████| 1167/1167 [00:06<00:00, 176.61it/s]\n"
     ]
    }
   ],
   "source": [
    "t = []\n",
    "data = dataset.data\n",
    "pre_pdb = None\n",
    "for i, line in tqdm(data.iterrows(), total=data.shape[0]):\n",
    "    pdb = line['compound_name']\n",
    "    d = dataset[i]\n",
    "    p_length = d['node_xyz'].shape[0]\n",
    "    c_length = d['coords'].shape[0]\n",
    "    y_length = d['y'].shape[0]\n",
    "    num_contact = (d.y > 0).sum()\n",
    "    t.append([i, pdb, p_length, c_length, y_length, num_contact])\n",
    "\n"
   ]
  },
  {
   "cell_type": "code",
   "execution_count": 45,
   "id": "bc8a5b19",
   "metadata": {
    "scrolled": true
   },
   "outputs": [],
   "source": [
    "# data = data.drop(['p_length', 'c_length', 'y_length', 'num_contact'], axis=1)"
   ]
  },
  {
   "cell_type": "code",
   "execution_count": 46,
   "id": "058c4776",
   "metadata": {},
   "outputs": [],
   "source": [
    "t = pd.DataFrame(t, columns=['index', 'pdb' ,'p_length', 'c_length', 'y_length', 'num_contact'])\n",
    "t['num_contact'] = t['num_contact'].apply(lambda x: x.item())"
   ]
  },
  {
   "cell_type": "code",
   "execution_count": 47,
   "id": "4ac10390",
   "metadata": {},
   "outputs": [],
   "source": [
    "data = pd.concat([data, t[['p_length', 'c_length', 'y_length', 'num_contact']]], axis=1)"
   ]
  },
  {
   "cell_type": "code",
   "execution_count": 48,
   "id": "959205ff",
   "metadata": {},
   "outputs": [],
   "source": [
    "native_num_contact = data.query(\"use_compound_com\").set_index(\"protein_name\")['num_contact'].to_dict()\n",
    "data['native_num_contact'] = data.protein_name.map(native_num_contact)\n",
    "# data['fract_of_native_contact'] = data['num_contact'] / data['native_num_contact']"
   ]
  },
  {
   "cell_type": "code",
   "execution_count": 49,
   "id": "8fa707df",
   "metadata": {},
   "outputs": [],
   "source": [
    "torch.save(data, f\"{toFilePre}/processed/data.pt\")"
   ]
  },
  {
   "cell_type": "code",
   "execution_count": 50,
   "id": "184158ad",
   "metadata": {},
   "outputs": [],
   "source": [
    "info = torch.load(f\"{toFilePre}/processed/data.pt\")\n"
   ]
  },
  {
   "cell_type": "code",
   "execution_count": 51,
   "id": "2e5f5c5b",
   "metadata": {},
   "outputs": [],
   "source": [
    "test = info.query(\"group == 'test'\").reset_index(drop=True)\n",
    "test_pdb_list = info.query(\"group == 'test'\").protein_name.unique()"
   ]
  },
  {
   "cell_type": "code",
   "execution_count": 52,
   "id": "6deb8274",
   "metadata": {},
   "outputs": [
    {
     "name": "stderr",
     "output_type": "stream",
     "text": [
      "100%|██████████| 1/1 [00:00<00:00, 4917.12it/s]\n"
     ]
    }
   ],
   "source": [
    "subset_protein_dict = {}\n",
    "for pdb in tqdm(test_pdb_list):\n",
    "    subset_protein_dict[pdb] = protein_dict[pdb]"
   ]
  },
  {
   "cell_type": "code",
   "execution_count": 53,
   "id": "b7a1c1a1",
   "metadata": {},
   "outputs": [
    {
     "name": "stderr",
     "output_type": "stream",
     "text": [
      "100%|██████████| 1/1 [00:00<00:00, 4702.13it/s]\n"
     ]
    }
   ],
   "source": [
    "subset_compound_dict = {}\n",
    "for pdb in tqdm(test_pdb_list):\n",
    "    subset_compound_dict[pdb] = compound_dict[pdb]"
   ]
  },
  {
   "cell_type": "code",
   "execution_count": 54,
   "id": "b8d7d3ce",
   "metadata": {},
   "outputs": [
    {
     "name": "stderr",
     "output_type": "stream",
     "text": [
      "Processing...\n",
      "Done!\n"
     ]
    },
    {
     "name": "stdout",
     "output_type": "stream",
     "text": [
      "['pdbbind/pdbbind2020/test_dataset/processed/data.pt', 'pdbbind/pdbbind2020/test_dataset/processed/protein.pt', 'pdbbind/pdbbind2020/test_dataset/processed/compound.pt']\n"
     ]
    }
   ],
   "source": [
    "\n",
    "toFilePre = f\"{pre}/test_dataset\"\n",
    "os.system(f\"mkdir -p {toFilePre}\")\n",
    "dataset = TankBindDataSet(toFilePre, data=test, protein_dict=subset_protein_dict, compound_dict=subset_compound_dict)"
   ]
  },
  {
   "cell_type": "code",
   "execution_count": 55,
   "id": "3699395a",
   "metadata": {},
   "outputs": [],
   "source": [
    "def canonical_smiles(smiles):\n",
    "    return Chem.MolToSmiles(Chem.MolFromSmiles(smiles))"
   ]
  }
 ],
 "metadata": {
  "kernelspec": {
   "display_name": "Python [conda env:tankbind_py38]",
   "language": "python",
   "name": "conda-env-tankbind_py38-py"
  },
  "language_info": {
   "codemirror_mode": {
    "name": "ipython",
    "version": 3
   },
   "file_extension": ".py",
   "mimetype": "text/x-python",
   "name": "python",
   "nbconvert_exporter": "python",
   "pygments_lexer": "ipython3",
   "version": "3.8.13"
  }
 },
 "nbformat": 4,
 "nbformat_minor": 5
}
