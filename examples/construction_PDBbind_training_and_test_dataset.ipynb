{
 "cells": [
  {
   "cell_type": "markdown",
   "id": "72889d20",
   "metadata": {},
   "source": [
    "# overview\n",
    "\n",
    "We start from the raw PDBbind dataset downloaded from http://www.pdbbind.org.cn/download.php\n",
    "\n",
    "1. filter out those unable to process using RDKit.\n",
    "\n",
    "2. Process the protein by only preserving the chains that with at least one atom within 10Å from any atom of the ligand.\n",
    "\n",
    "3. Use p2rank to segment protein into blocks.\n",
    "\n",
    "4. extract protein and ligand features.\n",
    "\n",
    "5. construct the training and test dataset.\n"
   ]
  },
  {
   "cell_type": "code",
   "execution_count": 1,
   "id": "10550eef",
   "metadata": {},
   "outputs": [],
   "source": [
    "import numpy as np\n",
    "# test = info.query(\"group == 'test'\").reset_index(drop=True)\n",
    "# test_pdb_list = info.query(\"group == 'test'\").protein_name.unique()\n",
    "pre = \"/home/jovyan/data/all_pdbbind\"\n",
    "# we use the time-split defined in EquiBind paper.\n",
    "# https://github.com/HannesStark/EquiBind/tree/main/data\n",
    "valid = np.loadtxt(\"../equbind/timesplit_no_lig_overlap_val\", dtype=str)\n",
    "test = np.loadtxt(\"../equbind/timesplit_test\", dtype=str)\n",
    "p2rank = \"bash /home/jovyan/TankBind/p2rank_2.3/prank\""
   ]
  },
  {
   "cell_type": "code",
   "execution_count": 2,
   "id": "96a3bf92",
   "metadata": {},
   "outputs": [],
   "source": [
    "tankbind_src_folder_path = \"../tankbind/\"\n",
    "import sys\n",
    "sys.path.insert(0, tankbind_src_folder_path)"
   ]
  },
  {
   "cell_type": "code",
   "execution_count": 3,
   "id": "7898297f",
   "metadata": {},
   "outputs": [],
   "source": [
    "import pandas as pd\n",
    "import numpy as np\n",
    "from tqdm import tqdm"
   ]
  },
  {
   "cell_type": "markdown",
   "id": "81098b68",
   "metadata": {},
   "source": [
    "# process the raw PDBbind dataset."
   ]
  },
  {
   "cell_type": "code",
   "execution_count": 4,
   "id": "dd7e2d95",
   "metadata": {},
   "outputs": [],
   "source": [
    "from utils import read_pdbbind_data"
   ]
  },
  {
   "cell_type": "code",
   "execution_count": 5,
   "id": "2b272541",
   "metadata": {},
   "outputs": [],
   "source": [
    "# raw PDBbind dataset could be downloaded from http://www.pdbbind.org.cn/download.php\n",
    "\n",
    "df_pdb_id = pd.read_csv(f'{pre}/index/INDEX_general_PL_name.2020', sep=\"  \", comment='#', header=None, names=['pdb', 'year', 'uid', 'd', 'e','f','g','h','i','j','k','l','m','n','o'], engine='python')\n",
    "df_pdb_id = df_pdb_id[['pdb','uid']]\n",
    "data = read_pdbbind_data(f'{pre}/index/INDEX_general_PL_data.2020')\n",
    "data = data.merge(df_pdb_id, on=['pdb'])\n"
   ]
  },
  {
   "cell_type": "code",
   "execution_count": null,
   "id": "b4abebcc-158c-4dd5-b1c4-b192eeeb70fe",
   "metadata": {},
   "outputs": [],
   "source": []
  },
  {
   "cell_type": "markdown",
   "id": "67e86b30",
   "metadata": {},
   "source": [
    "# ligand file should be readable by RDKit."
   ]
  },
  {
   "cell_type": "code",
   "execution_count": 32,
   "id": "acd8c59a",
   "metadata": {},
   "outputs": [],
   "source": [
    "from feature_utils import read_mol"
   ]
  },
  {
   "cell_type": "code",
   "execution_count": 7,
   "id": "ef6b21d3",
   "metadata": {
    "tags": []
   },
   "outputs": [
    {
     "name": "stderr",
     "output_type": "stream",
     "text": [
      "100%|██████████| 19443/19443 [01:38<00:00, 198.10it/s]\n"
     ]
    }
   ],
   "source": [
    "from rdkit import RDLogger\n",
    "RDLogger.DisableLog('rdApp.*')\n",
    "pdb_list = []\n",
    "probem_list = []\n",
    "for pdb in tqdm(data.pdb):\n",
    "    sdf_fileName = f\"{pre}/{pdb}/{pdb}_ligand.sdf\"\n",
    "    mol2_fileName = f\"{pre}/{pdb}/{pdb}_ligand.mol2\"\n",
    "    mol, problem = read_mol(sdf_fileName, mol2_fileName)\n",
    "    if problem:\n",
    "        probem_list.append(pdb)\n",
    "        continue\n",
    "    if pdb==\"2r1w\":\n",
    "        continue\n",
    "    pdb_list.append(pdb)"
   ]
  },
  {
   "cell_type": "code",
   "execution_count": 8,
   "id": "d68bad92",
   "metadata": {},
   "outputs": [],
   "source": [
    "data = data.query(\"pdb in @pdb_list\").reset_index(drop=True)"
   ]
  },
  {
   "cell_type": "code",
   "execution_count": 9,
   "id": "213cbe45",
   "metadata": {},
   "outputs": [
    {
     "data": {
      "text/plain": [
       "(19127, 7)"
      ]
     },
     "execution_count": 9,
     "metadata": {},
     "output_type": "execute_result"
    }
   ],
   "source": [
    "data.shape"
   ]
  },
  {
   "cell_type": "markdown",
   "id": "d60151b7",
   "metadata": {},
   "source": [
    "### for ease of RMSD evaluation later, we renumber the atom index to be consistent with the smiles"
   ]
  },
  {
   "cell_type": "code",
   "execution_count": 10,
   "id": "ddadd5fb",
   "metadata": {},
   "outputs": [],
   "source": [
    "from feature_utils import write_renumbered_sdf\n",
    "import os"
   ]
  },
  {
   "cell_type": "code",
   "execution_count": 11,
   "id": "453f3c14",
   "metadata": {},
   "outputs": [
    {
     "name": "stderr",
     "output_type": "stream",
     "text": [
      "100%|██████████| 19127/19127 [04:31<00:00, 70.39it/s]\n"
     ]
    }
   ],
   "source": [
    "toFolder = f\"{pre}/renumber_atom_index_same_as_smiles\"\n",
    "os.system(f\"mkdir -p {toFolder}\")\n",
    "for pdb in tqdm(pdb_list):\n",
    "    sdf_fileName = f\"{pre}/{pdb}/{pdb}_ligand.sdf\"\n",
    "    mol2_fileName = f\"{pre}/{pdb}/{pdb}_ligand.mol2\"\n",
    "    toFile = f\"{toFolder}/{pdb}.sdf\"\n",
    "    write_renumbered_sdf(toFile, sdf_fileName, mol2_fileName)\n"
   ]
  },
  {
   "cell_type": "markdown",
   "id": "07a64d80",
   "metadata": {},
   "source": [
    "# process PDBbind proteins, removing extra chains, cutoff 10A"
   ]
  },
  {
   "cell_type": "code",
   "execution_count": 12,
   "id": "03d8e242",
   "metadata": {},
   "outputs": [
    {
     "data": {
      "text/plain": [
       "0"
      ]
     },
     "execution_count": 12,
     "metadata": {},
     "output_type": "execute_result"
    }
   ],
   "source": [
    "toFolder = f\"{pre}/protein_remove_extra_chains_10A/\"\n",
    "os.system(f\"mkdir -p {toFolder}\")"
   ]
  },
  {
   "cell_type": "code",
   "execution_count": 13,
   "id": "f406a408",
   "metadata": {},
   "outputs": [],
   "source": [
    "input_ = []\n",
    "cutoff = 10\n",
    "for pdb in data.pdb.values:\n",
    "    pdbFile = f\"{pre}/{pdb}/{pdb}_protein.pdb\"\n",
    "    ligandFile = f\"{pre}/renumber_atom_index_same_as_smiles/{pdb}.sdf\"\n",
    "    toFile = f\"{toFolder}/{pdb}_protein.pdb\"\n",
    "    x = (pdbFile, ligandFile, cutoff, toFile)\n",
    "    input_.append(x)"
   ]
  },
  {
   "cell_type": "code",
   "execution_count": 14,
   "id": "b1227f9a",
   "metadata": {},
   "outputs": [],
   "source": [
    "from feature_utils import select_chain_within_cutoff_to_ligand_v2"
   ]
  },
  {
   "cell_type": "code",
   "execution_count": 15,
   "id": "0ef8704f",
   "metadata": {},
   "outputs": [
    {
     "name": "stderr",
     "output_type": "stream",
     "text": [
      "[mlcrate] 64 CPUs:  16%|█▋        | 3154/19127 [01:13<05:11, 51.34it/s][03:50:08] bond with order 0 found on line 35. This is not part of the MDL specification.\n",
      "[mlcrate] 64 CPUs:  30%|███       | 5797/19127 [02:05<04:50, 45.84it/s][03:51:00] bond with order 0 found on line 37. This is not part of the MDL specification.\n",
      "[mlcrate] 64 CPUs:  39%|███▉      | 7542/19127 [02:38<03:26, 56.10it/s][03:51:34] bond with order 0 found on line 29. This is not part of the MDL specification.\n",
      "[mlcrate] 64 CPUs:  43%|████▎     | 8158/19127 [02:49<03:16, 55.79it/s][03:51:45] bond with order 0 found on line 31. This is not part of the MDL specification.\n",
      "[mlcrate] 64 CPUs:  46%|████▌     | 8781/19127 [03:02<03:23, 50.84it/s][03:51:57] bond with order 0 found on line 59. This is not part of the MDL specification.\n",
      "[03:51:57] bond with order 0 found on line 61. This is not part of the MDL specification.\n",
      "[mlcrate] 64 CPUs:  47%|████▋     | 8908/19127 [03:04<03:03, 55.57it/s][03:51:59] bond with order 0 found on line 61. This is not part of the MDL specification.\n",
      "[mlcrate] 64 CPUs:  47%|████▋     | 8990/19127 [03:06<03:04, 54.99it/s][03:52:01] bond with order 0 found on line 46. This is not part of the MDL specification.\n",
      "[mlcrate] 64 CPUs:  53%|█████▎    | 10168/19127 [03:28<02:40, 55.66it/s][03:52:23] bond with order 0 found on line 46. This is not part of the MDL specification.\n",
      "[mlcrate] 64 CPUs:  55%|█████▍    | 10435/19127 [03:33<02:42, 53.39it/s][03:52:28] bond with order 0 found on line 46. This is not part of the MDL specification.\n",
      "[mlcrate] 64 CPUs:  66%|██████▌   | 12561/19127 [04:15<02:03, 53.32it/s][03:53:10] bond with order 0 found on line 48. This is not part of the MDL specification.\n",
      "[mlcrate] 64 CPUs: 100%|██████████| 19127/19127 [06:19<00:00, 50.41it/s]\n"
     ]
    }
   ],
   "source": [
    "import mlcrate as mlc\n",
    "import os\n",
    "pool = mlc.SuperPool(64)\n",
    "pool.pool.restart()\n",
    "_ = pool.map(select_chain_within_cutoff_to_ligand_v2,input_)\n",
    "pool.exit()"
   ]
  },
  {
   "cell_type": "code",
   "execution_count": 16,
   "id": "825b5016",
   "metadata": {},
   "outputs": [],
   "source": [
    "# previously, I found that 2r1w has no chain near the ligand.\n",
    "data = data.query(\"pdb != '2r1w'\").reset_index(drop=True)"
   ]
  },
  {
   "cell_type": "markdown",
   "id": "b2436fc0",
   "metadata": {},
   "source": [
    "# p2rank segmentation"
   ]
  },
  {
   "cell_type": "code",
   "execution_count": 17,
   "id": "455ea9c1",
   "metadata": {},
   "outputs": [],
   "source": [
    "p2rank_prediction_folder = f\"{pre}/p2rank_protein_remove_extra_chains_10A\"\n",
    "os.system(f\"mkdir -p {p2rank_prediction_folder}\")\n",
    "ds = f\"{p2rank_prediction_folder}/protein_list.ds\"\n",
    "with open(ds, \"w\") as out:\n",
    "    for pdb in data.pdb.values:\n",
    "        out.write(f\"../protein_remove_extra_chains_10A/{pdb}_protein.pdb\\n\")"
   ]
  },
  {
   "cell_type": "code",
   "execution_count": null,
   "id": "15cf0764-e8c0-496a-9e3b-2bd09ad9911d",
   "metadata": {},
   "outputs": [],
   "source": [
    "# # takes about 30 minutes.\n",
    "cmd = f\"{p2rank} predict {ds} -o {p2rank_prediction_folder}/p2rank -threads 16\"\n",
    "os.system(cmd)"
   ]
  },
  {
   "cell_type": "code",
   "execution_count": 19,
   "id": "79f997c3",
   "metadata": {},
   "outputs": [],
   "source": [
    "data.to_csv(f\"{pre}/data.csv\")"
   ]
  },
  {
   "cell_type": "code",
   "execution_count": 4,
   "id": "19796bf2-b1ac-46d5-a9aa-fa130caf7353",
   "metadata": {},
   "outputs": [],
   "source": [
    "data=pd.read_csv('/home/jovyan/data/data.csv')"
   ]
  },
  {
   "cell_type": "code",
   "execution_count": 5,
   "id": "e95f7143",
   "metadata": {},
   "outputs": [],
   "source": [
    "pdb_list = data.pdb.values\n",
    "tankbind_data_path = f\"/home/jovyan/torsional/dataset-all/baseline/tankbind_data/tankbind_data\"\n",
    "name_list = pdb_list"
   ]
  },
  {
   "cell_type": "code",
   "execution_count": 22,
   "id": "ea6c15b1",
   "metadata": {},
   "outputs": [
    {
     "name": "stderr",
     "output_type": "stream",
     "text": [
      "100%|██████████| 19127/19127 [01:11<00:00, 269.35it/s]\n"
     ]
    }
   ],
   "source": [
    "tankbind_data_path = f\"/home/jovyan/torsional/dataset-all/baseline/tankbind_data\"\n",
    "name_list = pdb_list\n",
    "d_list = []\n",
    "\n",
    "for name in tqdm(name_list):\n",
    "    p2rankFile = f\"{pre}/p2rank_protein_remove_extra_chains_10A/p2rank/{name}_protein.pdb_predictions.csv\"\n",
    "    d = pd.read_csv(p2rankFile)\n",
    "    d.columns = d.columns.str.strip()\n",
    "    d_list.append(d.assign(name=name))\n",
    "d = pd.concat(d_list).reset_index(drop=True)\n",
    "d.reset_index(drop=True).to_feather(f\"{tankbind_data_path}/p2rank_result.feather\")"
   ]
  },
  {
   "cell_type": "code",
   "execution_count": 6,
   "id": "d32c22d0",
   "metadata": {},
   "outputs": [],
   "source": [
    "d = pd.read_feather(f\"/home/jovyan/torsional/dataset-all/baseline/tankbind_data/p2rank_result.feather\")"
   ]
  },
  {
   "cell_type": "code",
   "execution_count": 7,
   "id": "e30a2b1e",
   "metadata": {},
   "outputs": [
    {
     "name": "stderr",
     "output_type": "stream",
     "text": [
      "100%|██████████| 19127/19127 [02:26<00:00, 130.14it/s]\n"
     ]
    }
   ],
   "source": [
    "pockets_dict = {}\n",
    "for name in tqdm(name_list):\n",
    "    pockets_dict[name] = d[d.name == name].reset_index(drop=True)"
   ]
  },
  {
   "cell_type": "code",
   "execution_count": null,
   "id": "b39df1f3",
   "metadata": {},
   "outputs": [],
   "source": []
  },
  {
   "cell_type": "markdown",
   "id": "52f64627",
   "metadata": {},
   "source": [
    "# protein feature"
   ]
  },
  {
   "cell_type": "code",
   "execution_count": 25,
   "id": "aea7032f",
   "metadata": {},
   "outputs": [],
   "source": [
    "from feature_utils import get_protein_feature"
   ]
  },
  {
   "cell_type": "code",
   "execution_count": 26,
   "id": "b7a26c62",
   "metadata": {},
   "outputs": [],
   "source": [
    "input_ = []\n",
    "protein_embedding_folder = f\"{tankbind_data_path}/gvp_protein_embedding\"\n",
    "os.system(f\"mkdir -p {protein_embedding_folder}\")\n",
    "for pdb in pdb_list:\n",
    "    proteinFile = f\"{pre}/protein_remove_extra_chains_10A/{pdb}_protein.pdb\"\n",
    "    toFile = f\"{protein_embedding_folder}/{pdb}.pt\"\n",
    "    x = (pdb, proteinFile, toFile)\n",
    "    input_.append(x)"
   ]
  },
  {
   "cell_type": "code",
   "execution_count": 27,
   "id": "8adf9795",
   "metadata": {},
   "outputs": [],
   "source": [
    "from Bio.PDB import PDBParser\n",
    "from feature_utils import get_clean_res_list\n",
    "import torch\n",
    "torch.set_num_threads(1)\n",
    "\n",
    "def batch_run(x):\n",
    "    protein_dict = {}\n",
    "    pdb, proteinFile, toFile = x\n",
    "    parser = PDBParser(QUIET=True)\n",
    "    s = parser.get_structure(pdb, proteinFile)\n",
    "    res_list = get_clean_res_list(s.get_residues(), verbose=False, ensure_ca_exist=True)\n",
    "    protein_dict[pdb] = get_protein_feature(res_list)\n",
    "    torch.save(protein_dict, toFile)"
   ]
  },
  {
   "cell_type": "code",
   "execution_count": 28,
   "id": "89c47ce2",
   "metadata": {},
   "outputs": [
    {
     "name": "stderr",
     "output_type": "stream",
     "text": [
      "[mlcrate] 64 CPUs: 100%|██████████| 19127/19127 [04:38<00:00, 68.61it/s]\n"
     ]
    }
   ],
   "source": [
    "import mlcrate as mlc\n",
    "import os\n",
    "pool = mlc.SuperPool(64)\n",
    "pool.pool.restart()\n",
    "_ = pool.map(batch_run,input_)\n",
    "pool.exit()"
   ]
  },
  {
   "cell_type": "code",
   "execution_count": 8,
   "id": "75403f72",
   "metadata": {},
   "outputs": [
    {
     "name": "stderr",
     "output_type": "stream",
     "text": [
      "100%|██████████| 19127/19127 [06:26<00:00, 49.49it/s]\n"
     ]
    }
   ],
   "source": [
    "import torch\n",
    "tankbind_data_path = f\"/home/jovyan/torsional/dataset-all/baseline/tankbind_data\"\n",
    "protein_embedding_folder = f\"{tankbind_data_path}/gvp_protein_embedding\"\n",
    "protein_dict = {}\n",
    "for pdb in tqdm(pdb_list):\n",
    "    protein_dict.update(torch.load(f\"{protein_embedding_folder}/{pdb}.pt\"))\n"
   ]
  },
  {
   "cell_type": "code",
   "execution_count": null,
   "id": "c34e7603",
   "metadata": {},
   "outputs": [],
   "source": []
  },
  {
   "cell_type": "markdown",
   "id": "c7383997",
   "metadata": {},
   "source": [
    "# Compound Features"
   ]
  },
  {
   "cell_type": "code",
   "execution_count": 30,
   "id": "ea182941",
   "metadata": {},
   "outputs": [
    {
     "name": "stderr",
     "output_type": "stream",
     "text": [
      "  1%|          | 235/19127 [00:03<03:58, 79.32it/s]/opt/conda/envs/tankbind_py38/lib/python3.8/site-packages/torchdrug/data/feature.py:37: UserWarning: Unknown value `As`\n",
      "  warnings.warn(\"Unknown value `%s`\" % x)\n",
      "  3%|▎         | 502/19127 [00:06<03:28, 89.47it/s]/opt/conda/envs/tankbind_py38/lib/python3.8/site-packages/torchdrug/data/feature.py:37: UserWarning: Unknown value `Fe`\n",
      "  warnings.warn(\"Unknown value `%s`\" % x)\n",
      "  3%|▎         | 522/19127 [00:07<03:27, 89.70it/s]/opt/conda/envs/tankbind_py38/lib/python3.8/site-packages/torchdrug/data/feature.py:37: UserWarning: Unknown value `Pt`\n",
      "  warnings.warn(\"Unknown value `%s`\" % x)\n",
      " 16%|█▌        | 2981/19127 [00:41<04:03, 66.20it/s]/opt/conda/envs/tankbind_py38/lib/python3.8/site-packages/torchdrug/data/feature.py:37: UserWarning: Unknown value `V`\n",
      "  warnings.warn(\"Unknown value `%s`\" % x)\n",
      "/opt/conda/envs/tankbind_py38/lib/python3.8/site-packages/torchdrug/data/feature.py:37: UserWarning: Unknown value `8`\n",
      "  warnings.warn(\"Unknown value `%s`\" % x)\n",
      " 16%|█▌        | 3072/19127 [00:42<03:56, 67.78it/s]/opt/conda/envs/tankbind_py38/lib/python3.8/site-packages/torchdrug/data/feature.py:37: UserWarning: Unknown value `7`\n",
      "  warnings.warn(\"Unknown value `%s`\" % x)\n",
      " 17%|█▋        | 3286/19127 [00:46<03:58, 66.36it/s]/opt/conda/envs/tankbind_py38/lib/python3.8/site-packages/torchdrug/data/feature.py:37: UserWarning: Unknown value `6`\n",
      "  warnings.warn(\"Unknown value `%s`\" % x)\n",
      " 22%|██▏       | 4227/19127 [01:01<03:56, 63.00it/s]/opt/conda/envs/tankbind_py38/lib/python3.8/site-packages/torchdrug/data/feature.py:37: UserWarning: Unknown value `9`\n",
      "  warnings.warn(\"Unknown value `%s`\" % x)\n",
      " 28%|██▊       | 5276/19127 [01:17<02:53, 79.89it/s]"
     ]
    },
    {
     "name": "stdout",
     "output_type": "stream",
     "text": [
      "\n",
      "3kqs\n"
     ]
    },
    {
     "name": "stderr",
     "output_type": "stream",
     "text": [
      " 37%|███▋      | 6995/19127 [01:46<03:22, 59.90it/s]/opt/conda/envs/tankbind_py38/lib/python3.8/site-packages/torchdrug/data/feature.py:37: UserWarning: Unknown value `Rh`\n",
      "  warnings.warn(\"Unknown value `%s`\" % x)\n",
      " 50%|█████     | 9581/19127 [02:31<02:31, 63.09it/s]/opt/conda/envs/tankbind_py38/lib/python3.8/site-packages/torchdrug/data/feature.py:37: UserWarning: Unknown value `Ru`\n",
      "  warnings.warn(\"Unknown value `%s`\" % x)\n",
      " 56%|█████▌    | 10644/19127 [02:49<02:44, 51.62it/s]/opt/conda/envs/tankbind_py38/lib/python3.8/site-packages/torchdrug/data/feature.py:37: UserWarning: Unknown value `Sb`\n",
      "  warnings.warn(\"Unknown value `%s`\" % x)\n",
      " 58%|█████▊    | 11121/19127 [02:57<02:09, 61.85it/s]/opt/conda/envs/tankbind_py38/lib/python3.8/site-packages/torchdrug/data/feature.py:37: UserWarning: Unknown value `Co`\n",
      "  warnings.warn(\"Unknown value `%s`\" % x)\n",
      " 58%|█████▊    | 11154/19127 [02:58<02:23, 55.67it/s]/opt/conda/envs/tankbind_py38/lib/python3.8/site-packages/torchdrug/data/feature.py:37: UserWarning: Unknown value `Ir`\n",
      "  warnings.warn(\"Unknown value `%s`\" % x)\n",
      " 73%|███████▎  | 13973/19127 [03:46<01:46, 48.34it/s]/opt/conda/envs/tankbind_py38/lib/python3.8/site-packages/torchdrug/data/feature.py:37: UserWarning: Unknown value `Re`\n",
      "  warnings.warn(\"Unknown value `%s`\" % x)\n",
      " 95%|█████████▍| 18133/19127 [04:59<00:17, 58.18it/s]/opt/conda/envs/tankbind_py38/lib/python3.8/site-packages/torchdrug/data/feature.py:37: UserWarning: Unknown value `Te`\n",
      "  warnings.warn(\"Unknown value `%s`\" % x)\n",
      "100%|██████████| 19127/19127 [05:17<00:00, 60.19it/s]\n"
     ]
    }
   ],
   "source": [
    "from feature_utils import extract_torchdrug_feature_from_mol\n",
    "compound_dict = {}\n",
    "skip_pdb_list = []\n",
    "for pdb in tqdm(pdb_list):\n",
    "    mol, _ = read_mol(f\"{pre}/renumber_atom_index_same_as_smiles/{pdb}.sdf\", None)\n",
    "    # extract features from sdf.\n",
    "    try:\n",
    "        compound_dict[pdb] = extract_torchdrug_feature_from_mol(mol, has_LAS_mask=True)  # self-dock set has_LAS_mask to true\n",
    "    except Exception as e:\n",
    "        print(e)\n",
    "        skip_pdb_list.append(pdb)\n",
    "        print(pdb)"
   ]
  },
  {
   "cell_type": "code",
   "execution_count": 31,
   "id": "c26c3acf",
   "metadata": {},
   "outputs": [],
   "source": [
    "torch.save(compound_dict, f\"{tankbind_data_path}/compound_torchdrug_features.pt\")"
   ]
  },
  {
   "cell_type": "code",
   "execution_count": 9,
   "id": "88a57714-c486-48fa-8361-353bad51def4",
   "metadata": {},
   "outputs": [],
   "source": [
    "compound_dict = torch.load( f\"{tankbind_data_path}/compound_torchdrug_features.pt\")"
   ]
  },
  {
   "cell_type": "code",
   "execution_count": 10,
   "id": "6e1bc04d",
   "metadata": {},
   "outputs": [],
   "source": [
    "skip_pdb_list = ['3kqs']"
   ]
  },
  {
   "cell_type": "code",
   "execution_count": 11,
   "id": "2232064f",
   "metadata": {},
   "outputs": [],
   "source": [
    "data = data.query(\"pdb not in @skip_pdb_list\").reset_index(drop=True)"
   ]
  },
  {
   "cell_type": "markdown",
   "id": "20aef963",
   "metadata": {},
   "source": [
    "# construct dataset."
   ]
  },
  {
   "cell_type": "code",
   "execution_count": 12,
   "id": "32975251",
   "metadata": {},
   "outputs": [],
   "source": [
    "\n",
    "def assign_group(pdb, valid=valid, test=test):\n",
    "    if pdb in valid:\n",
    "        return 'valid'\n",
    "    if pdb in test:\n",
    "        return 'test'\n",
    "    return 'train'\n",
    "\n",
    "data['group'] = data.pdb.map(assign_group)"
   ]
  },
  {
   "cell_type": "code",
   "execution_count": 13,
   "id": "49345ec6",
   "metadata": {},
   "outputs": [
    {
     "data": {
      "text/plain": [
       "group\n",
       "train    17795\n",
       "valid      968\n",
       "test       363\n",
       "dtype: int64"
      ]
     },
     "execution_count": 13,
     "metadata": {},
     "output_type": "execute_result"
    }
   ],
   "source": [
    "data.value_counts(\"group\")"
   ]
  },
  {
   "cell_type": "code",
   "execution_count": 14,
   "id": "4519d14a",
   "metadata": {},
   "outputs": [],
   "source": [
    "data['name'] = data['pdb']"
   ]
  },
  {
   "cell_type": "code",
   "execution_count": 15,
   "id": "7546b55b",
   "metadata": {},
   "outputs": [
    {
     "name": "stderr",
     "output_type": "stream",
     "text": [
      "100%|██████████| 19126/19126 [00:18<00:00, 1024.01it/s]\n"
     ]
    },
    {
     "name": "stdout",
     "output_type": "stream",
     "text": [
      "162036\n"
     ]
    }
   ],
   "source": [
    "info = []\n",
    "err_pdb_list=[]\n",
    "for i, line in tqdm(data.iterrows(), total=data.shape[0]):\n",
    "    pdb = line['pdb']\n",
    "    uid = line['uid']\n",
    "    # smiles = line['smiles']\n",
    "    smiles = \"\"\n",
    "    affinity = line['affinity']\n",
    "    group = line['group']\n",
    "\n",
    "    compound_name = line['name']\n",
    "    protein_name = line['name']\n",
    "    try:\n",
    "        pocket = pockets_dict[pdb].head(10)\n",
    "    except:\n",
    "        err_pdb_list.append(pdb)\n",
    "        continue\n",
    "    pocket.columns = pocket.columns.str.strip()\n",
    "    pocket_coms = pocket[['center_x', 'center_y', 'center_z']].values\n",
    "    # native block.\n",
    "    info.append([protein_name, compound_name, pdb, smiles, affinity, uid, None, True, False, group])\n",
    "    # protein center as a block.\n",
    "    protein_com = protein_dict[protein_name][0].numpy().mean(axis=0).astype(float).reshape(1, 3)\n",
    "    info.append([protein_name, compound_name, pdb+\"_c\", smiles, affinity, uid, protein_com, False, False, group])\n",
    "    \n",
    "    for idx, pocket_line in pocket.iterrows():\n",
    "        pdb_idx = f\"{pdb}_{idx}\"\n",
    "        info.append([protein_name, compound_name, pdb_idx, smiles, affinity, uid, pocket_coms[idx].reshape(1, 3), False, False, group])\n",
    "info = pd.DataFrame(info, columns=['protein_name', 'compound_name', 'pdb', 'smiles', 'affinity', 'uid', 'pocket_com', \n",
    "                                   'use_compound_com', 'use_whole_protein',\n",
    "                                  'group'])\n",
    "print(len(info))\n"
   ]
  },
  {
   "cell_type": "code",
   "execution_count": 16,
   "id": "cf14c4ce",
   "metadata": {},
   "outputs": [
    {
     "data": {
      "text/plain": [
       "0"
      ]
     },
     "execution_count": 16,
     "metadata": {},
     "output_type": "execute_result"
    }
   ],
   "source": [
    "len(err_pdb_list)"
   ]
  },
  {
   "cell_type": "code",
   "execution_count": 17,
   "id": "fa39bf5b",
   "metadata": {},
   "outputs": [
    {
     "data": {
      "text/plain": [
       "19127"
      ]
     },
     "execution_count": 17,
     "metadata": {},
     "output_type": "execute_result"
    }
   ],
   "source": [
    "len(pockets_dict)"
   ]
  },
  {
   "cell_type": "code",
   "execution_count": 18,
   "id": "b3fe4e2a",
   "metadata": {},
   "outputs": [
    {
     "data": {
      "text/plain": [
       "(162036, 10)"
      ]
     },
     "execution_count": 18,
     "metadata": {},
     "output_type": "execute_result"
    }
   ],
   "source": [
    "info.shape"
   ]
  },
  {
   "cell_type": "code",
   "execution_count": 4,
   "id": "5f16f22c",
   "metadata": {},
   "outputs": [],
   "source": [
    "from data import TankBindDataSet_torsion\n",
    "import os"
   ]
  },
  {
   "cell_type": "code",
   "execution_count": 6,
   "id": "803bbe40-5789-4175-8df0-37eea8ccc74c",
   "metadata": {},
   "outputs": [
    {
     "name": "stdout",
     "output_type": "stream",
     "text": [
      "['/home/jovyan/torsional/dataset-all/torsional/train_dataset/processed/data.pt', '/home/jovyan/torsional/dataset-all/torsional/train_dataset/processed/protein.pt', '/home/jovyan/torsional/dataset-all/torsional/train_dataset/processed/compound.pt']\n"
     ]
    }
   ],
   "source": [
    "toFilePre = \"/home/jovyan/torsional/dataset-all/torsional/train_dataset\"\n",
    "dataset = TankBindDataSet_torsion(toFilePre)"
   ]
  },
  {
   "cell_type": "code",
   "execution_count": 1,
   "id": "76307efd",
   "metadata": {},
   "outputs": [
    {
     "ename": "NameError",
     "evalue": "name 'os' is not defined",
     "output_type": "error",
     "traceback": [
      "\u001b[0;31m---------------------------------------------------------------------------\u001b[0m",
      "\u001b[0;31mNameError\u001b[0m                                 Traceback (most recent call last)",
      "Input \u001b[0;32mIn [1]\u001b[0m, in \u001b[0;36m<cell line: 2>\u001b[0;34m()\u001b[0m\n\u001b[1;32m      1\u001b[0m toFilePre \u001b[38;5;241m=\u001b[39m \u001b[38;5;124m\"\u001b[39m\u001b[38;5;124m/home/jovyan/torsional/dataset-all/dataset_torsional\u001b[39m\u001b[38;5;124m\"\u001b[39m\n\u001b[0;32m----> 2\u001b[0m \u001b[43mos\u001b[49m\u001b[38;5;241m.\u001b[39msystem(\u001b[38;5;124mf\u001b[39m\u001b[38;5;124m\"\u001b[39m\u001b[38;5;124mmkdir -p \u001b[39m\u001b[38;5;132;01m{\u001b[39;00mtoFilePre\u001b[38;5;132;01m}\u001b[39;00m\u001b[38;5;124m\"\u001b[39m)\n\u001b[1;32m      3\u001b[0m dataset \u001b[38;5;241m=\u001b[39m TankBindDataSet_torsion(toFilePre, data\u001b[38;5;241m=\u001b[39minfo, protein_dict\u001b[38;5;241m=\u001b[39mprotein_dict, compound_dict\u001b[38;5;241m=\u001b[39mcompound_dict)\n",
      "\u001b[0;31mNameError\u001b[0m: name 'os' is not defined"
     ]
    }
   ],
   "source": [
    "toFilePre = \"/home/jovyan/torsional/dataset-all/dataset_torsional\"\n",
    "os.system(f\"mkdir -p {toFilePre}\")\n",
    "dataset = TankBindDataSet_torsion(toFilePre, data=info, protein_dict=protein_dict, compound_dict=compound_dict)"
   ]
  },
  {
   "cell_type": "code",
   "execution_count": 28,
   "id": "66a5d986-c404-4b32-b364-c4f4b83ed91d",
   "metadata": {},
   "outputs": [
    {
     "data": {
      "text/plain": [
       "tensor([[ 0,  1,  1,  2,  1,  3,  3,  4,  4,  5,  5,  6,  6,  7,  7,  8,  7,  9,\n",
       "          4, 10, 10, 11, 10, 12],\n",
       "        [ 1,  0,  2,  1,  3,  1,  4,  3,  5,  4,  6,  5,  7,  6,  8,  7,  9,  7,\n",
       "         10,  4, 11, 10, 12, 10]])"
      ]
     },
     "execution_count": 28,
     "metadata": {},
     "output_type": "execute_result"
    }
   ],
   "source": [
    "dataset[0]['compound', 'compound'].edge_index"
   ]
  },
  {
   "cell_type": "code",
   "execution_count": 21,
   "id": "e4d5990d",
   "metadata": {},
   "outputs": [],
   "source": [
    "import torch\n",
    "data = torch.load('/home/jovyan/torsional/dataset-all/torsional/train_dataset/processed/data.pt')\n",
    "protein_dict = torch.load('/home/jovyan/torsional/dataset-all/torsional/train_dataset/processed/protein.pt')\n",
    "compound_dict = torch.load('/home/jovyan/torsional/dataset-all/torsional/train_dataset/processed/compound.pt')"
   ]
  },
  {
   "cell_type": "code",
   "execution_count": 6,
   "id": "cea43008-8a3d-4bc2-a8a1-81a47d1a91c0",
   "metadata": {},
   "outputs": [],
   "source": [
    "line = data.iloc[0]\n",
    "protein_name = line['protein_name']"
   ]
  },
  {
   "cell_type": "code",
   "execution_count": 7,
   "id": "e2b11f90-45e7-4b84-8357-7a894141fa3d",
   "metadata": {},
   "outputs": [],
   "source": [
    "protein_node_xyz, protein_seq, protein_node_s, protein_node_v, protein_edge_index, protein_edge_s, protein_edge_v = protein_dict[protein_name]\n",
    "name = line['compound_name']\n",
    "coords, compound_node_features, input_atom_edge_list, input_atom_edge_attr_list, pair_dis_distribution = compound_dict[name]"
   ]
  },
  {
   "cell_type": "code",
   "execution_count": 8,
   "id": "0cf78142-78ea-4c8b-b83f-1fdd90688bac",
   "metadata": {},
   "outputs": [
    {
     "data": {
      "text/plain": [
       "tensor([[ 0,  1,  1,  2,  1,  3,  3,  4,  4,  5,  5,  6,  6,  7,  7,  8,  7,  9,\n",
       "          4, 10, 10, 11, 10, 12],\n",
       "        [ 1,  0,  2,  1,  3,  1,  4,  3,  5,  4,  6,  5,  7,  6,  8,  7,  9,  7,\n",
       "         10,  4, 11, 10, 12, 10]])"
      ]
     },
     "execution_count": 8,
     "metadata": {},
     "output_type": "execute_result"
    }
   ],
   "source": [
    "input_atom_edge_list[:,:2].long().t().contiguous()"
   ]
  },
  {
   "cell_type": "code",
   "execution_count": 12,
   "id": "049b4f2c-eb1b-4d92-a7f0-d10a84d0a00b",
   "metadata": {},
   "outputs": [],
   "source": [
    "from utils import construct_data_from_graph_gvp"
   ]
  },
  {
   "cell_type": "code",
   "execution_count": 13,
   "id": "1b783a2c-00db-4293-912b-afc40c66eca6",
   "metadata": {},
   "outputs": [],
   "source": [
    "data, input_node_list, keepNode = construct_data_from_graph_gvp(protein_node_xyz, protein_seq, protein_node_s, \n",
    "                                  protein_node_v, protein_edge_index, protein_edge_s, protein_edge_v,\n",
    "                                  coords, compound_node_features, input_atom_edge_list, input_atom_edge_attr_list, contactCutoff=8.0, includeDisMap=True,\n",
    "                          pocket_radius=20, add_noise_to_com=None, use_whole_protein=False, \n",
    "                          use_compound_com_as_pocket=True, chosen_pocket_com=None, compoundMode=1)"
   ]
  },
  {
   "cell_type": "code",
   "execution_count": 53,
   "id": "ceeee7d6-c2da-42e8-8ee2-bc16fdd1f04e",
   "metadata": {},
   "outputs": [],
   "source": [
    "data.pdb = line['pdb']"
   ]
  },
  {
   "cell_type": "code",
   "execution_count": 95,
   "id": "c9e5c400-d63f-4266-a387-f56f0bcc50fc",
   "metadata": {},
   "outputs": [],
   "source": [
    "def get_transformation_mask(pyg_data):\n",
    "    G = to_networkx(pyg_data.to_homogeneous(), to_undirected=False)\n",
    "    to_rotate = []\n",
    "    edges = pyg_data['compound', 'c2c', 'compound'].edge_index.T.numpy()\n",
    "    for i in range(0, edges.shape[0], 2):\n",
    "        assert edges[i, 0] == edges[i+1, 1]\n",
    "\n",
    "        G2 = G.to_undirected()\n",
    "        G2.remove_edge(*edges[i])\n",
    "        if not nx.is_connected(G2):\n",
    "            l = list(sorted(nx.connected_components(G2), key=len)[0])\n",
    "            if len(l) > 1:\n",
    "                if edges[i, 0] in l:\n",
    "                    to_rotate.append([])\n",
    "                    to_rotate.append(l)\n",
    "                else:\n",
    "                    to_rotate.append(l)\n",
    "                    to_rotate.append([])\n",
    "                continue\n",
    "        to_rotate.append([])\n",
    "        to_rotate.append([])\n",
    "\n",
    "    mask_edges = np.asarray([0 if len(l) == 0 else 1 for l in to_rotate], dtype=bool)\n",
    "    mask_rotate = np.zeros((np.sum(mask_edges), len(G.nodes())), dtype=bool)\n",
    "    idx = 0\n",
    "    for i in range(len(G.edges())):\n",
    "        if mask_edges[i]:\n",
    "            mask_rotate[idx][np.asarray(to_rotate[i], dtype=int)] = True\n",
    "            idx += 1\n",
    "\n",
    "    return mask_edges, mask_rotate"
   ]
  },
  {
   "cell_type": "code",
   "execution_count": 55,
   "id": "a357781b-38f9-450e-8cbf-7f9934a127de",
   "metadata": {},
   "outputs": [],
   "source": [
    "from torch_geometric.data import HeteroData\n",
    "data1 = HeteroData()\n",
    "name = data.pdb\n",
    "from feature_utils import extract_torchdrug_feature_from_mol\n",
    "mol, _ = read_mol(f\"/home/jovyan/data/renumber_atom_index_same_as_smiles/{name}.sdf\", None)"
   ]
  },
  {
   "cell_type": "code",
   "execution_count": 85,
   "id": "3ffaeb58-0a99-41dd-a25c-eb9230071dee",
   "metadata": {},
   "outputs": [],
   "source": [
    "def get_lig_graph(data_compound, data):\n",
    "    data_compound['compound'].x = data['compound'].x\n",
    "    data_compound['compound'].pos = data['compound'].pos\n",
    "    data_compound['compound', 'c2c', 'compound'].edge_index = data['compound', 'c2c', 'compound'].edge_index\n",
    "    data_compound['compound', 'c2c', 'compound'].edge_attr = data['compound', 'c2c', 'compound'].edge_attr\n",
    "    return\n"
   ]
  },
  {
   "cell_type": "code",
   "execution_count": 90,
   "id": "4669aea5-689b-4405-9a75-467c67e47e07",
   "metadata": {},
   "outputs": [],
   "source": [
    "import torch.nn.functional as F\n",
    "data1 = HeteroData()\n",
    "get_lig_graph(data1, data)"
   ]
  },
  {
   "cell_type": "code",
   "execution_count": 96,
   "id": "d1bba8f1-be24-4ad9-8202-60cf4154a984",
   "metadata": {},
   "outputs": [
    {
     "data": {
      "text/plain": [
       "HeteroData(\n",
       "  \u001b[1mcompound\u001b[0m={\n",
       "    x=[13, 56],\n",
       "    pos=[13, 3]\n",
       "  },\n",
       "  \u001b[1m(compound, c2c, compound)\u001b[0m={\n",
       "    edge_index=[2, 24],\n",
       "    edge_attr=[24, 19]\n",
       "  }\n",
       ")"
      ]
     },
     "execution_count": 96,
     "metadata": {},
     "output_type": "execute_result"
    }
   ],
   "source": [
    "data1"
   ]
  },
  {
   "cell_type": "code",
   "execution_count": 97,
   "id": "87042011-80de-4344-a28e-b81b7bf7dbdd",
   "metadata": {},
   "outputs": [],
   "source": [
    "edge_mask, mask_rotate = get_transformation_mask(data1)"
   ]
  },
  {
   "cell_type": "code",
   "execution_count": 100,
   "id": "331c8885-5809-466e-9173-94e2abba68a9",
   "metadata": {},
   "outputs": [
    {
     "data": {
      "text/plain": [
       "(6, 13)"
      ]
     },
     "execution_count": 100,
     "metadata": {},
     "output_type": "execute_result"
    }
   ],
   "source": [
    "mask_rotate.shape"
   ]
  },
  {
   "cell_type": "code",
   "execution_count": null,
   "id": "42075f5e-1215-4a6f-ae65-7111624ba604",
   "metadata": {},
   "outputs": [],
   "source": []
  },
  {
   "cell_type": "code",
   "execution_count": null,
   "id": "9b63fe81-db18-4065-a8de-a36dfe81067e",
   "metadata": {},
   "outputs": [],
   "source": []
  },
  {
   "cell_type": "code",
   "execution_count": null,
   "id": "c84320e8-5b89-4d56-993d-2a8bf7e3d78e",
   "metadata": {},
   "outputs": [],
   "source": []
  },
  {
   "cell_type": "code",
   "execution_count": null,
   "id": "b4574973-8659-48d8-838d-3608ce2973fe",
   "metadata": {},
   "outputs": [],
   "source": []
  },
  {
   "cell_type": "code",
   "execution_count": 7,
   "id": "1267a6e5",
   "metadata": {},
   "outputs": [
    {
     "name": "stderr",
     "output_type": "stream",
     "text": [
      "100%|██████████| 162036/162036 [1:31:17<00:00, 29.58it/s]  \n"
     ]
    }
   ],
   "source": [
    "t = []\n",
    "data = dataset.data\n",
    "pre_pdb = None\n",
    "for i, line in tqdm(data.iterrows(), total=data.shape[0]):\n",
    "    pdb = line['compound_name']\n",
    "    d = dataset[i]\n",
    "    p_length = d['node_xyz'].shape[0]\n",
    "    c_length = d['coords'].shape[0]\n",
    "    y_length = d['y'].shape[0]\n",
    "    num_contact = (d.y > 0).sum()\n",
    "    t.append([i, pdb, p_length, c_length, y_length, num_contact])\n",
    "\n"
   ]
  },
  {
   "cell_type": "code",
   "execution_count": null,
   "id": "300c1cfe",
   "metadata": {
    "scrolled": true
   },
   "outputs": [],
   "source": [
    "# data = data.drop(['p_length', 'c_length', 'y_length', 'num_contact'], axis=1)"
   ]
  },
  {
   "cell_type": "code",
   "execution_count": 9,
   "id": "aa8d7195",
   "metadata": {},
   "outputs": [],
   "source": [
    "t = pd.DataFrame(t, columns=['index', 'pdb' ,'p_length', 'c_length', 'y_length', 'num_contact'])\n",
    "t['num_contact'] = t['num_contact'].apply(lambda x: x.item())"
   ]
  },
  {
   "cell_type": "code",
   "execution_count": 11,
   "id": "ca502fef",
   "metadata": {},
   "outputs": [],
   "source": [
    "data = pd.concat([data, t[['p_length', 'c_length', 'y_length', 'num_contact']]], axis=1)"
   ]
  },
  {
   "cell_type": "code",
   "execution_count": 12,
   "id": "44cb12fc",
   "metadata": {},
   "outputs": [],
   "source": [
    "native_num_contact = data.query(\"use_compound_com\").set_index(\"protein_name\")['num_contact'].to_dict()\n",
    "data['native_num_contact'] = data.protein_name.map(native_num_contact)\n",
    "# data['fract_of_native_contact'] = data['num_contact'] / data['native_num_contact']"
   ]
  },
  {
   "cell_type": "code",
   "execution_count": 14,
   "id": "a4470042-1a93-4264-8197-91a21b941ef7",
   "metadata": {},
   "outputs": [],
   "source": [
    "import torch"
   ]
  },
  {
   "cell_type": "code",
   "execution_count": 15,
   "id": "7cf70702",
   "metadata": {},
   "outputs": [],
   "source": [
    "torch.save(data, f\"{toFilePre}/processed/data.pt\")"
   ]
  },
  {
   "cell_type": "code",
   "execution_count": 16,
   "id": "7446d8c2",
   "metadata": {},
   "outputs": [
    {
     "data": {
      "text/plain": [
       "'/home/jovyan/torsional/dataset-all/torsional/train_dataset'"
      ]
     },
     "execution_count": 16,
     "metadata": {},
     "output_type": "execute_result"
    }
   ],
   "source": [
    "toFilePre"
   ]
  },
  {
   "cell_type": "code",
   "execution_count": 17,
   "id": "2d6496bf",
   "metadata": {},
   "outputs": [
    {
     "data": {
      "text/plain": [
       "array(['train', 'valid', 'test'], dtype=object)"
      ]
     },
     "execution_count": 17,
     "metadata": {},
     "output_type": "execute_result"
    }
   ],
   "source": [
    "import torch\n",
    "info = torch.load(f\"{toFilePre}/processed/data.pt\")\n",
    "info['group'].unique()"
   ]
  },
  {
   "cell_type": "code",
   "execution_count": 18,
   "id": "d77c2712",
   "metadata": {},
   "outputs": [],
   "source": [
    "test = info.query(\"group == 'test'\").reset_index(drop=True)\n",
    "test_pdb_list = info.query(\"group == 'test'\").protein_name.unique()"
   ]
  },
  {
   "cell_type": "code",
   "execution_count": 19,
   "id": "d23ded63",
   "metadata": {},
   "outputs": [],
   "source": [
    "test = info.query(\"group == 'test'\").reset_index(drop=True)\n",
    "test_pdb_list = info.query(\"group == 'test'\").protein_name.unique()"
   ]
  },
  {
   "cell_type": "code",
   "execution_count": 22,
   "id": "9f7f3e1d",
   "metadata": {},
   "outputs": [
    {
     "name": "stderr",
     "output_type": "stream",
     "text": [
      "100%|██████████| 363/363 [00:00<00:00, 447540.37it/s]\n"
     ]
    }
   ],
   "source": [
    "subset_protein_dict = {}\n",
    "for pdb in tqdm(test_pdb_list):\n",
    "    subset_protein_dict[pdb] = protein_dict[pdb]"
   ]
  },
  {
   "cell_type": "code",
   "execution_count": 23,
   "id": "50a2d881",
   "metadata": {},
   "outputs": [
    {
     "name": "stderr",
     "output_type": "stream",
     "text": [
      "100%|██████████| 363/363 [00:00<00:00, 459701.80it/s]\n"
     ]
    }
   ],
   "source": [
    "subset_compound_dict = {}\n",
    "for pdb in tqdm(test_pdb_list):\n",
    "    subset_compound_dict[pdb] = compound_dict[pdb]"
   ]
  },
  {
   "cell_type": "code",
   "execution_count": 24,
   "id": "cd421899-66fa-46a2-b81c-d65c54601f49",
   "metadata": {},
   "outputs": [],
   "source": [
    "pre = '/home/jovyan/torsional/dataset-all/torsional'"
   ]
  },
  {
   "cell_type": "code",
   "execution_count": 26,
   "id": "65aa4f81",
   "metadata": {},
   "outputs": [
    {
     "name": "stderr",
     "output_type": "stream",
     "text": [
      "Processing...\n",
      "Done!\n"
     ]
    },
    {
     "name": "stdout",
     "output_type": "stream",
     "text": [
      "['/home/jovyan/torsional/dataset-all/torsional/test_dataset/processed/data.pt', '/home/jovyan/torsional/dataset-all/torsional/test_dataset/processed/protein.pt', '/home/jovyan/torsional/dataset-all/torsional/test_dataset/processed/compound.pt']\n"
     ]
    }
   ],
   "source": [
    "toFilePre = f\"{pre}/test_dataset\"\n",
    "os.system(f\"mkdir -p {toFilePre}\")\n",
    "dataset = TankBindDataSet_torsion(toFilePre, data=test, protein_dict=subset_protein_dict, compound_dict=subset_compound_dict)"
   ]
  },
  {
   "cell_type": "code",
   "execution_count": 27,
   "id": "e37f322a-83f7-4d2b-a5b6-62b016f55c4f",
   "metadata": {},
   "outputs": [],
   "source": [
    "valid = info.query(\"group == 'valid'\").reset_index(drop=True)\n",
    "valid_pdb_list = info.query(\"group == 'valid'\").protein_name.unique()"
   ]
  },
  {
   "cell_type": "code",
   "execution_count": 28,
   "id": "407f6ee8-3803-4764-bae4-b81d3b8f2849",
   "metadata": {},
   "outputs": [],
   "source": [
    "valid = info.query(\"group == 'valid'\").reset_index(drop=True)\n",
    "valid_pdb_list = info.query(\"group == 'valid'\").protein_name.unique()"
   ]
  },
  {
   "cell_type": "code",
   "execution_count": 29,
   "id": "4c35fe6a-ebc3-4d93-89f3-6034bb9756d3",
   "metadata": {},
   "outputs": [
    {
     "name": "stderr",
     "output_type": "stream",
     "text": [
      "100%|██████████| 968/968 [00:00<00:00, 193494.08it/s]\n"
     ]
    }
   ],
   "source": [
    "subset_protein_dict = {}\n",
    "for pdb in tqdm(valid_pdb_list):\n",
    "    subset_protein_dict[pdb] = protein_dict[pdb]"
   ]
  },
  {
   "cell_type": "code",
   "execution_count": 30,
   "id": "9969ac43-3370-47aa-8cbe-77c32560dd6c",
   "metadata": {},
   "outputs": [
    {
     "name": "stderr",
     "output_type": "stream",
     "text": [
      "100%|██████████| 968/968 [00:00<00:00, 193098.37it/s]\n"
     ]
    }
   ],
   "source": [
    "subset_compound_dict = {}\n",
    "for pdb in tqdm(valid_pdb_list):\n",
    "    subset_compound_dict[pdb] = compound_dict[pdb]"
   ]
  },
  {
   "cell_type": "code",
   "execution_count": 31,
   "id": "802f294e-d894-4b20-9c7d-f5b9db3efec2",
   "metadata": {},
   "outputs": [
    {
     "name": "stderr",
     "output_type": "stream",
     "text": [
      "Processing...\n",
      "Done!\n"
     ]
    },
    {
     "name": "stdout",
     "output_type": "stream",
     "text": [
      "['/home/jovyan/torsional/dataset-all/torsional/valid_dataset/processed/data.pt', '/home/jovyan/torsional/dataset-all/torsional/valid_dataset/processed/protein.pt', '/home/jovyan/torsional/dataset-all/torsional/valid_dataset/processed/compound.pt']\n"
     ]
    }
   ],
   "source": [
    "toFilePre = f\"{pre}/valid_dataset\"\n",
    "os.system(f\"mkdir -p {toFilePre}\")\n",
    "dataset = TankBindDataSet_torsion(toFilePre, data=valid, protein_dict=subset_protein_dict, compound_dict=subset_compound_dict)"
   ]
  },
  {
   "cell_type": "code",
   "execution_count": 56,
   "id": "7e997828",
   "metadata": {},
   "outputs": [],
   "source": [
    "def canonical_smiles(smiles):\n",
    "    return Chem.MolToSmiles(Chem.MolFromSmiles(smiles))"
   ]
  },
  {
   "cell_type": "code",
   "execution_count": 11,
   "id": "0c3204d8",
   "metadata": {},
   "outputs": [
    {
     "name": "stdout",
     "output_type": "stream",
     "text": [
      "['torsional/dataset-all/baseline/test_dataset/processed/data.pt', 'torsional/dataset-all/baseline/test_dataset/processed/protein.pt', 'torsional/dataset-all/baseline/test_dataset/processed/compound.pt']\n"
     ]
    }
   ],
   "source": [
    "dataset = TankBindDataSet('torsional/dataset-all/baseline/test_dataset')"
   ]
  },
  {
   "cell_type": "code",
   "execution_count": 16,
   "id": "aa0e3dbb-28bb-4223-a172-4c7e7d9a2704",
   "metadata": {},
   "outputs": [
    {
     "name": "stdout",
     "output_type": "stream",
     "text": [
      "['/home/jovyan/torsional/dataset-all/baseline/valid_dataset/processed/data.pt', '/home/jovyan/torsional/dataset-all/baseline/valid_dataset/processed/protein.pt', '/home/jovyan/torsional/dataset-all/baseline/valid_dataset/processed/compound.pt']\n"
     ]
    }
   ],
   "source": [
    "valid = TankBindDataSet('/home/jovyan/torsional/dataset-all/baseline/valid_dataset')"
   ]
  },
  {
   "cell_type": "code",
   "execution_count": 25,
   "id": "9eb59ca9-3025-4bf5-a4c1-4a10453c0ed3",
   "metadata": {},
   "outputs": [
    {
     "ename": "AttributeError",
     "evalue": "'numpy.str_' object has no attribute 'to_homogeneous'",
     "output_type": "error",
     "traceback": [
      "\u001b[0;31m---------------------------------------------------------------------------\u001b[0m",
      "\u001b[0;31mAttributeError\u001b[0m                            Traceback (most recent call last)",
      "Input \u001b[0;32mIn [25]\u001b[0m, in \u001b[0;36m<cell line: 1>\u001b[0;34m()\u001b[0m\n\u001b[0;32m----> 1\u001b[0m \u001b[43mvalid\u001b[49m\u001b[43m[\u001b[49m\u001b[38;5;241;43m0\u001b[39;49m\u001b[43m]\u001b[49m\u001b[38;5;241;43m.\u001b[39;49m\u001b[43mto_homogeneous\u001b[49m()\n",
      "\u001b[0;31mAttributeError\u001b[0m: 'numpy.str_' object has no attribute 'to_homogeneous'"
     ]
    }
   ],
   "source": [
    "valid[0].to_homogeneous()"
   ]
  },
  {
   "cell_type": "code",
   "execution_count": 4,
   "id": "a0943c5b-9c62-4e8e-8879-30060ff26a73",
   "metadata": {},
   "outputs": [],
   "source": [
    "from data import TankBindDataSet_torsion\n",
    "import os\n",
    "import torch"
   ]
  },
  {
   "cell_type": "code",
   "execution_count": 5,
   "id": "093ef87a-7d50-4594-baee-cc71eb95de5d",
   "metadata": {},
   "outputs": [
    {
     "name": "stderr",
     "output_type": "stream",
     "text": [
      "Processing...\n",
      "Done!\n"
     ]
    },
    {
     "name": "stdout",
     "output_type": "stream",
     "text": [
      "['/home/jovyan/torsional/dataset-all/torsional/test_dataset/processed/data.pt', '/home/jovyan/torsional/dataset-all/torsional/test_dataset/processed/protein.pt', '/home/jovyan/torsional/dataset-all/torsional/test_dataset/processed/compound.pt']\n"
     ]
    }
   ],
   "source": [
    "toFilePre = f\"/home/jovyan/torsional/dataset-all/torsional/test_dataset\"\n",
    "os.system(f\"mkdir -p {toFilePre}\")\n",
    "test = torch.load('/home/jovyan/torsional/dataset-all/torsional/test_dataset_/processed/data.pt')\n",
    "subset_protein_dict = torch.load('/home/jovyan/torsional/dataset-all/torsional/test_dataset_/processed/protein.pt')\n",
    "subset_compound_dict = torch.load('/home/jovyan/torsional/dataset-all/torsional/test_dataset_/processed/compound.pt')\n",
    "dataset = TankBindDataSet_torsion(toFilePre, data=test, protein_dict=subset_protein_dict, compound_dict=subset_compound_dict)"
   ]
  },
  {
   "cell_type": "code",
   "execution_count": 7,
   "id": "dccea332-eb4c-404d-8dd5-998b787830ef",
   "metadata": {},
   "outputs": [
    {
     "name": "stderr",
     "output_type": "stream",
     "text": [
      "Processing...\n",
      "Done!\n"
     ]
    },
    {
     "name": "stdout",
     "output_type": "stream",
     "text": [
      "['/home/jovyan/torsional/dataset-all/torsional/valid_dataset/processed/data.pt', '/home/jovyan/torsional/dataset-all/torsional/valid_dataset/processed/protein.pt', '/home/jovyan/torsional/dataset-all/torsional/valid_dataset/processed/compound.pt']\n"
     ]
    }
   ],
   "source": [
    "toFilePre = f\"/home/jovyan/torsional/dataset-all/torsional/valid_dataset\"\n",
    "os.system(f\"mkdir -p {toFilePre}\")\n",
    "valid = torch.load('/home/jovyan/torsional/dataset-all/torsional/valid_dataset_/processed/data.pt')\n",
    "subset_protein_dict = torch.load('/home/jovyan/torsional/dataset-all/torsional/valid_dataset_/processed/protein.pt')\n",
    "subset_compound_dict = torch.load('/home/jovyan/torsional/dataset-all/torsional/valid_dataset_/processed/compound.pt')\n",
    "dataset = TankBindDataSet_torsion(toFilePre, data=valid, protein_dict=subset_protein_dict, compound_dict=subset_compound_dict)"
   ]
  },
  {
   "cell_type": "code",
   "execution_count": 9,
   "id": "1f19547b-cac9-45b6-a9db-86051a764634",
   "metadata": {},
   "outputs": [
    {
     "name": "stderr",
     "output_type": "stream",
     "text": [
      "Processing...\n",
      "Done!\n"
     ]
    },
    {
     "name": "stdout",
     "output_type": "stream",
     "text": [
      "['/home/jovyan/torsional/dataset-all/torsional/train_dataset/processed/data.pt', '/home/jovyan/torsional/dataset-all/torsional/train_dataset/processed/protein.pt', '/home/jovyan/torsional/dataset-all/torsional/train_dataset/processed/compound.pt']\n"
     ]
    }
   ],
   "source": [
    "toFilePre = f\"/home/jovyan/torsional/dataset-all/torsional/train_dataset\"\n",
    "os.system(f\"mkdir -p {toFilePre}\")\n",
    "train = torch.load('/home/jovyan/torsional/dataset-all/torsional/train_dataset_/processed/data.pt')\n",
    "subset_protein_dict = torch.load('/home/jovyan/torsional/dataset-all/torsional/train_dataset_/processed/protein.pt')\n",
    "subset_compound_dict = torch.load('/home/jovyan/torsional/dataset-all/torsional/train_dataset_/processed/compound.pt')\n",
    "dataset = TankBindDataSet_torsion(toFilePre, data=train, protein_dict=subset_protein_dict, compound_dict=subset_compound_dict)"
   ]
  },
  {
   "cell_type": "code",
   "execution_count": 9,
   "id": "2617734b-65e7-4d62-b1ed-5a83cb68e161",
   "metadata": {},
   "outputs": [],
   "source": [
    "data = torch.load('/home/jovyan/torsional/dataset-all/torsional/train_dataset/processed/data.pt')"
   ]
  },
  {
   "cell_type": "code",
   "execution_count": 10,
   "id": "e0eb258d-fb32-4f37-86cf-69616324ce6f",
   "metadata": {},
   "outputs": [
    {
     "data": {
      "text/html": [
       "<div>\n",
       "<style scoped>\n",
       "    .dataframe tbody tr th:only-of-type {\n",
       "        vertical-align: middle;\n",
       "    }\n",
       "\n",
       "    .dataframe tbody tr th {\n",
       "        vertical-align: top;\n",
       "    }\n",
       "\n",
       "    .dataframe thead th {\n",
       "        text-align: right;\n",
       "    }\n",
       "</style>\n",
       "<table border=\"1\" class=\"dataframe\">\n",
       "  <thead>\n",
       "    <tr style=\"text-align: right;\">\n",
       "      <th></th>\n",
       "      <th>protein_name</th>\n",
       "      <th>compound_name</th>\n",
       "      <th>pdb</th>\n",
       "      <th>smiles</th>\n",
       "      <th>affinity</th>\n",
       "      <th>uid</th>\n",
       "      <th>pocket_com</th>\n",
       "      <th>use_compound_com</th>\n",
       "      <th>use_whole_protein</th>\n",
       "      <th>group</th>\n",
       "      <th>p_length</th>\n",
       "      <th>c_length</th>\n",
       "      <th>y_length</th>\n",
       "      <th>num_contact</th>\n",
       "      <th>native_num_contact</th>\n",
       "      <th>candicate_conf_pos</th>\n",
       "    </tr>\n",
       "  </thead>\n",
       "  <tbody>\n",
       "    <tr>\n",
       "      <th>0</th>\n",
       "      <td>3zzf</td>\n",
       "      <td>3zzf</td>\n",
       "      <td>3zzf</td>\n",
       "      <td></td>\n",
       "      <td>0.40</td>\n",
       "      <td>Q01217</td>\n",
       "      <td>None</td>\n",
       "      <td>True</td>\n",
       "      <td>False</td>\n",
       "      <td>train</td>\n",
       "      <td>144</td>\n",
       "      <td>13</td>\n",
       "      <td>1872</td>\n",
       "      <td>144</td>\n",
       "      <td>144</td>\n",
       "      <td>[[[-3.539917766266281, 1.1310054302447874, -0....</td>\n",
       "    </tr>\n",
       "    <tr>\n",
       "      <th>1</th>\n",
       "      <td>3zzf</td>\n",
       "      <td>3zzf</td>\n",
       "      <td>3zzf_c</td>\n",
       "      <td></td>\n",
       "      <td>0.40</td>\n",
       "      <td>Q01217</td>\n",
       "      <td>[[5.51331901550293, 36.50146484375, 14.4291219...</td>\n",
       "      <td>False</td>\n",
       "      <td>False</td>\n",
       "      <td>train</td>\n",
       "      <td>188</td>\n",
       "      <td>13</td>\n",
       "      <td>2444</td>\n",
       "      <td>136</td>\n",
       "      <td>144</td>\n",
       "      <td>[[[-3.539917766266281, 1.1310054302447874, -0....</td>\n",
       "    </tr>\n",
       "    <tr>\n",
       "      <th>2</th>\n",
       "      <td>3zzf</td>\n",
       "      <td>3zzf</td>\n",
       "      <td>3zzf_0</td>\n",
       "      <td></td>\n",
       "      <td>0.40</td>\n",
       "      <td>Q01217</td>\n",
       "      <td>[[9.2232, 36.6453, 4.2458]]</td>\n",
       "      <td>False</td>\n",
       "      <td>False</td>\n",
       "      <td>train</td>\n",
       "      <td>148</td>\n",
       "      <td>13</td>\n",
       "      <td>1924</td>\n",
       "      <td>144</td>\n",
       "      <td>144</td>\n",
       "      <td>[[[-3.539917766266281, 1.1310054302447874, -0....</td>\n",
       "    </tr>\n",
       "    <tr>\n",
       "      <th>3</th>\n",
       "      <td>3zzf</td>\n",
       "      <td>3zzf</td>\n",
       "      <td>3zzf_1</td>\n",
       "      <td></td>\n",
       "      <td>0.40</td>\n",
       "      <td>Q01217</td>\n",
       "      <td>[[-3.9652, 36.9019, 2.8611]]</td>\n",
       "      <td>False</td>\n",
       "      <td>False</td>\n",
       "      <td>train</td>\n",
       "      <td>121</td>\n",
       "      <td>13</td>\n",
       "      <td>1573</td>\n",
       "      <td>138</td>\n",
       "      <td>144</td>\n",
       "      <td>[[[-3.539917766266281, 1.1310054302447874, -0....</td>\n",
       "    </tr>\n",
       "    <tr>\n",
       "      <th>4</th>\n",
       "      <td>3zzf</td>\n",
       "      <td>3zzf</td>\n",
       "      <td>3zzf_2</td>\n",
       "      <td></td>\n",
       "      <td>0.40</td>\n",
       "      <td>Q01217</td>\n",
       "      <td>[[16.5628, 39.1406, 26.3637]]</td>\n",
       "      <td>False</td>\n",
       "      <td>False</td>\n",
       "      <td>train</td>\n",
       "      <td>116</td>\n",
       "      <td>13</td>\n",
       "      <td>1508</td>\n",
       "      <td>12</td>\n",
       "      <td>144</td>\n",
       "      <td>[[[-3.539917766266281, 1.1310054302447874, -0....</td>\n",
       "    </tr>\n",
       "    <tr>\n",
       "      <th>...</th>\n",
       "      <td>...</td>\n",
       "      <td>...</td>\n",
       "      <td>...</td>\n",
       "      <td>...</td>\n",
       "      <td>...</td>\n",
       "      <td>...</td>\n",
       "      <td>...</td>\n",
       "      <td>...</td>\n",
       "      <td>...</td>\n",
       "      <td>...</td>\n",
       "      <td>...</td>\n",
       "      <td>...</td>\n",
       "      <td>...</td>\n",
       "      <td>...</td>\n",
       "      <td>...</td>\n",
       "      <td>...</td>\n",
       "    </tr>\n",
       "    <tr>\n",
       "      <th>161889</th>\n",
       "      <td>2avi</td>\n",
       "      <td>2avi</td>\n",
       "      <td>2avi_5</td>\n",
       "      <td></td>\n",
       "      <td>15.22</td>\n",
       "      <td>P02701</td>\n",
       "      <td>[[-24.8819, 33.8811, 24.9982]]</td>\n",
       "      <td>False</td>\n",
       "      <td>False</td>\n",
       "      <td>train</td>\n",
       "      <td>91</td>\n",
       "      <td>16</td>\n",
       "      <td>1456</td>\n",
       "      <td>39</td>\n",
       "      <td>157</td>\n",
       "      <td>[[[5.241567853335355, 0.32110025819596066, -0....</td>\n",
       "    </tr>\n",
       "    <tr>\n",
       "      <th>161890</th>\n",
       "      <td>2avi</td>\n",
       "      <td>2avi</td>\n",
       "      <td>2avi_6</td>\n",
       "      <td></td>\n",
       "      <td>15.22</td>\n",
       "      <td>P02701</td>\n",
       "      <td>[[5.0382, 35.5432, 16.4793]]</td>\n",
       "      <td>False</td>\n",
       "      <td>False</td>\n",
       "      <td>train</td>\n",
       "      <td>121</td>\n",
       "      <td>16</td>\n",
       "      <td>1936</td>\n",
       "      <td>137</td>\n",
       "      <td>157</td>\n",
       "      <td>[[[5.241567853335355, 0.32110025819596066, -0....</td>\n",
       "    </tr>\n",
       "    <tr>\n",
       "      <th>161891</th>\n",
       "      <td>2avi</td>\n",
       "      <td>2avi</td>\n",
       "      <td>2avi_7</td>\n",
       "      <td></td>\n",
       "      <td>15.22</td>\n",
       "      <td>P02701</td>\n",
       "      <td>[[-4.7665, 15.8424, 22.5071]]</td>\n",
       "      <td>False</td>\n",
       "      <td>False</td>\n",
       "      <td>train</td>\n",
       "      <td>86</td>\n",
       "      <td>16</td>\n",
       "      <td>1376</td>\n",
       "      <td>144</td>\n",
       "      <td>157</td>\n",
       "      <td>[[[5.241567853335355, 0.32110025819596066, -0....</td>\n",
       "    </tr>\n",
       "    <tr>\n",
       "      <th>161892</th>\n",
       "      <td>2avi</td>\n",
       "      <td>2avi</td>\n",
       "      <td>2avi_8</td>\n",
       "      <td></td>\n",
       "      <td>15.22</td>\n",
       "      <td>P02701</td>\n",
       "      <td>[[4.7665, 64.5276, 22.5071]]</td>\n",
       "      <td>False</td>\n",
       "      <td>False</td>\n",
       "      <td>train</td>\n",
       "      <td>83</td>\n",
       "      <td>16</td>\n",
       "      <td>1328</td>\n",
       "      <td>0</td>\n",
       "      <td>157</td>\n",
       "      <td>[[[5.241567853335355, 0.32110025819596066, -0....</td>\n",
       "    </tr>\n",
       "    <tr>\n",
       "      <th>161893</th>\n",
       "      <td>2avi</td>\n",
       "      <td>2avi</td>\n",
       "      <td>2avi_9</td>\n",
       "      <td></td>\n",
       "      <td>15.22</td>\n",
       "      <td>P02701</td>\n",
       "      <td>[[-10.037, 16.893, 3.4295]]</td>\n",
       "      <td>False</td>\n",
       "      <td>False</td>\n",
       "      <td>train</td>\n",
       "      <td>90</td>\n",
       "      <td>16</td>\n",
       "      <td>1440</td>\n",
       "      <td>2</td>\n",
       "      <td>157</td>\n",
       "      <td>[[[5.241567853335355, 0.32110025819596066, -0....</td>\n",
       "    </tr>\n",
       "  </tbody>\n",
       "</table>\n",
       "<p>161894 rows × 16 columns</p>\n",
       "</div>"
      ],
      "text/plain": [
       "       protein_name compound_name     pdb smiles  affinity     uid  \\\n",
       "0              3zzf          3zzf    3zzf             0.40  Q01217   \n",
       "1              3zzf          3zzf  3zzf_c             0.40  Q01217   \n",
       "2              3zzf          3zzf  3zzf_0             0.40  Q01217   \n",
       "3              3zzf          3zzf  3zzf_1             0.40  Q01217   \n",
       "4              3zzf          3zzf  3zzf_2             0.40  Q01217   \n",
       "...             ...           ...     ...    ...       ...     ...   \n",
       "161889         2avi          2avi  2avi_5            15.22  P02701   \n",
       "161890         2avi          2avi  2avi_6            15.22  P02701   \n",
       "161891         2avi          2avi  2avi_7            15.22  P02701   \n",
       "161892         2avi          2avi  2avi_8            15.22  P02701   \n",
       "161893         2avi          2avi  2avi_9            15.22  P02701   \n",
       "\n",
       "                                               pocket_com  use_compound_com  \\\n",
       "0                                                    None              True   \n",
       "1       [[5.51331901550293, 36.50146484375, 14.4291219...             False   \n",
       "2                             [[9.2232, 36.6453, 4.2458]]             False   \n",
       "3                            [[-3.9652, 36.9019, 2.8611]]             False   \n",
       "4                           [[16.5628, 39.1406, 26.3637]]             False   \n",
       "...                                                   ...               ...   \n",
       "161889                     [[-24.8819, 33.8811, 24.9982]]             False   \n",
       "161890                       [[5.0382, 35.5432, 16.4793]]             False   \n",
       "161891                      [[-4.7665, 15.8424, 22.5071]]             False   \n",
       "161892                       [[4.7665, 64.5276, 22.5071]]             False   \n",
       "161893                        [[-10.037, 16.893, 3.4295]]             False   \n",
       "\n",
       "        use_whole_protein  group  p_length  c_length  y_length  num_contact  \\\n",
       "0                   False  train       144        13      1872          144   \n",
       "1                   False  train       188        13      2444          136   \n",
       "2                   False  train       148        13      1924          144   \n",
       "3                   False  train       121        13      1573          138   \n",
       "4                   False  train       116        13      1508           12   \n",
       "...                   ...    ...       ...       ...       ...          ...   \n",
       "161889              False  train        91        16      1456           39   \n",
       "161890              False  train       121        16      1936          137   \n",
       "161891              False  train        86        16      1376          144   \n",
       "161892              False  train        83        16      1328            0   \n",
       "161893              False  train        90        16      1440            2   \n",
       "\n",
       "        native_num_contact                                 candicate_conf_pos  \n",
       "0                      144  [[[-3.539917766266281, 1.1310054302447874, -0....  \n",
       "1                      144  [[[-3.539917766266281, 1.1310054302447874, -0....  \n",
       "2                      144  [[[-3.539917766266281, 1.1310054302447874, -0....  \n",
       "3                      144  [[[-3.539917766266281, 1.1310054302447874, -0....  \n",
       "4                      144  [[[-3.539917766266281, 1.1310054302447874, -0....  \n",
       "...                    ...                                                ...  \n",
       "161889                 157  [[[5.241567853335355, 0.32110025819596066, -0....  \n",
       "161890                 157  [[[5.241567853335355, 0.32110025819596066, -0....  \n",
       "161891                 157  [[[5.241567853335355, 0.32110025819596066, -0....  \n",
       "161892                 157  [[[5.241567853335355, 0.32110025819596066, -0....  \n",
       "161893                 157  [[[5.241567853335355, 0.32110025819596066, -0....  \n",
       "\n",
       "[161894 rows x 16 columns]"
      ]
     },
     "execution_count": 10,
     "metadata": {},
     "output_type": "execute_result"
    }
   ],
   "source": [
    "data"
   ]
  },
  {
   "cell_type": "code",
   "execution_count": null,
   "id": "4a606b1f-a559-483c-80b3-b23bb3129fb9",
   "metadata": {},
   "outputs": [],
   "source": []
  }
 ],
 "metadata": {
  "interpreter": {
   "hash": "3642610297c2db0c2e515b5d6934e6fa60bcae4d2e973dd2c51cba19538092f6"
  },
  "kernelspec": {
   "display_name": "Python [conda env:tankbind_py38]",
   "language": "python",
   "name": "conda-env-tankbind_py38-py"
  },
  "language_info": {
   "codemirror_mode": {
    "name": "ipython",
    "version": 3
   },
   "file_extension": ".py",
   "mimetype": "text/x-python",
   "name": "python",
   "nbconvert_exporter": "python",
   "pygments_lexer": "ipython3",
   "version": "3.8.13"
  }
 },
 "nbformat": 4,
 "nbformat_minor": 5
}
