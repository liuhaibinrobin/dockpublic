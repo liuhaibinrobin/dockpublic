{
 "cells": [
  {
   "cell_type": "markdown",
   "id": "23142276",
   "metadata": {},
   "source": [
    "# Overview\n",
    "\n",
    "In this example, we are going to conduct high-throughput virtual screening on the WDR domain of LRRK2 protein.\n",
    "\n",
    "As an example, we only use a subset (10,000 entries) of the Mcule library. It could be any library (for examples ZINC, Enamine, etc.) as long as it contains the smiles information.\n"
   ]
  },
  {
   "cell_type": "code",
   "execution_count": 1,
   "id": "67544b07",
   "metadata": {},
   "outputs": [],
   "source": [
    "tankbind_src_folder_path = \"../tankbind/\"\n",
    "import sys\n",
    "sys.path.insert(0, tankbind_src_folder_path)\n",
    "import os\n",
    "import numpy as np\n",
    "import pandas as pd\n",
    "from tqdm import tqdm\n",
    "import time\n",
    "import gvp\n",
    "import gvp.data\n",
    "import torch"
   ]
  },
  {
   "cell_type": "code",
   "execution_count": 2,
   "id": "d461b8d1-483a-4cb6-8022-5055fd6f517a",
   "metadata": {},
   "outputs": [],
   "source": [
    "import torch\n",
    "a = torch.arange(1,17).reshape(4,4).unsqueeze(-1)\n",
    "b = torch.arange(1,17).reshape(4,4).unsqueeze(-1)\n",
    "c = torch.einsum(\"bik,bjk->bijk\", a, b)[0]"
   ]
  },
  {
   "cell_type": "code",
   "execution_count": 21,
   "id": "22eea600-4f49-47fe-afdf-ccad435892ab",
   "metadata": {},
   "outputs": [
    {
     "data": {
      "text/plain": [
       "tensor(1.3447)"
      ]
     },
     "execution_count": 21,
     "metadata": {},
     "output_type": "execute_result"
    }
   ],
   "source": [
    "import torch\n",
    "import torch.nn as nn\n",
    "import math\n",
    "\n",
    "entroy=nn.CrossEntropyLoss()\n",
    "input=torch.Tensor([[-0.7715, -0.6205,-0.2562]])\n",
    "target = torch.tensor([0])\n",
    "output = entroy(input, target)\n",
    "output"
   ]
  },
  {
   "cell_type": "code",
   "execution_count": 2,
   "id": "5feb3da4-77ad-4408-a4b8-6fc9d08b7f5d",
   "metadata": {},
   "outputs": [],
   "source": [
    "# protein name, compounds name, smiles name.\n",
    "\n",
    "pdb_name = \"6scm\"  \n",
    "cp_name = \"SOS1\"\n",
    "\n",
    "# csv_name with .csv\n",
    "csv_name = \"SOS1-ID-SMILES.csv\"\n",
    "right_pocket = \"pocket_4\"\n",
    "\n",
    "\n",
    "distinguish_by_timestamp = True"
   ]
  },
  {
   "cell_type": "code",
   "execution_count": 3,
   "id": "6b7e3127",
   "metadata": {},
   "outputs": [],
   "source": [
    "base_pre = f\"./NCIVS/\"\n",
    "timetag = time.strftime(\"%m%d%H%M\")\n",
    "\n",
    "if distinguish_by_timestamp:\n",
    "    pre = f\"{base_pre}/{cp_name}-{pdb_name}-{timetag}\"\n",
    "else:\n",
    "    pre = f\"{base_pre}/{cp_name}-{pdb_name}\"\n",
    "\n",
    "os.system(f\"mkdir -p {pre}\")\n",
    "os.system(f\"rm -rf {pre}/sdfs\")\n",
    "os.system(f\"mkdir -p {pre}/sdfs\")\n",
    "os.system(f\"rm -rf {pre}/PDBs\")\n",
    "os.system(f\"mkdir -p {pre}/PDBs\")\n",
    "os.system(f\"rm -rf {pre}/p2rank\")\n",
    "os.system(f\"mkdir -p {pre}/p2rank\")\n",
    "os.system(f\"cp ./inputs/{csv_name} {pre}\")\n",
    "os.system(f\"cp ./inputs/{pdb_name}.pdb {pre}\")\n",
    "\n",
    "proteinName = pdb_name\n",
    "proteinFile = f\"{pre}/{proteinName}.pdb\""
   ]
  },
  {
   "cell_type": "markdown",
   "id": "1fb78b71",
   "metadata": {},
   "source": [
    "# get protein feature"
   ]
  },
  {
   "cell_type": "code",
   "execution_count": 4,
   "id": "8c7594d4",
   "metadata": {},
   "outputs": [],
   "source": [
    "from feature_utils import get_protein_feature"
   ]
  },
  {
   "cell_type": "code",
   "execution_count": 5,
   "id": "6acf4ee4",
   "metadata": {},
   "outputs": [],
   "source": [
    "from Bio.PDB import PDBParser\n",
    "from feature_utils import get_clean_res_list\n",
    "parser = PDBParser(QUIET=True)\n",
    "protein_dict = {}\n",
    "proteinName = pdb_name\n",
    "proteinFile = f\"{pre}/{proteinName}.pdb\"\n",
    "s = parser.get_structure(\"example\", proteinFile)\n",
    "res_list = list(s.get_residues())\n",
    "clean_res_list = get_clean_res_list(res_list, ensure_ca_exist=True)  ##保证['CA']在残基内部"
   ]
  },
  {
   "cell_type": "code",
   "execution_count": 6,
   "id": "e2616620-4a1d-4f9b-a903-9eaeea846517",
   "metadata": {},
   "outputs": [],
   "source": [
    "three_to_one = {'ALA': 'A', 'CYS': 'C', 'ASP': 'D', 'GLU': 'E', 'PHE': 'F', 'GLY': 'G', 'HIS': 'H', \n",
    "                'ILE': 'I', 'LYS': 'K', 'LEU': 'L', 'MET': 'M', 'ASN': 'N', 'PRO': 'P', 'GLN': 'Q', \n",
    "                'ARG': 'R', 'SER': 'S', 'THR': 'T', 'VAL': 'V', 'TRP': 'W', 'TYR': 'Y'}"
   ]
  },
  {
   "cell_type": "code",
   "execution_count": 7,
   "id": "b31d454c-30e4-43ad-9d4f-29dce29da689",
   "metadata": {},
   "outputs": [],
   "source": [
    "res_list = [res for res in clean_res_list if (('N' in res) and ('CA' in res) and ('C' in res) and ('O' in res))]\n",
    "# construct the input for ProteinGraphDataset\n",
    "# which requires name, seq, and a list of shape N * 4 * 3\n",
    "structure = {}\n",
    "structure['name'] = \"placeholder\"\n",
    "structure['seq'] = \"\".join([three_to_one.get(res.resname) for res in res_list])\n",
    "coords = []\n",
    "for res in res_list:\n",
    "    res_coords = []\n",
    "    for atom in [res['N'], res['CA'], res['C'], res['O']]:\n",
    "        res_coords.append(list(atom.coord))\n",
    "    coords.append(res_coords)\n",
    "    # print(coords)\n",
    "structure['coords'] = coords\n",
    "torch.set_num_threads(1)        # this reduce the overhead, and speed up the process for me.\n",
    "dataset = gvp.data.ProteinGraphDataset([structure])\n",
    "protein = dataset[0]\n",
    "x = (protein.x, protein.seq, protein.node_s, protein.node_v, protein.edge_index, protein.edge_s, protein.edge_v)"
   ]
  },
  {
   "cell_type": "code",
   "execution_count": 10,
   "id": "bbd9da03-366c-438e-9cf2-226ebcfd2e34",
   "metadata": {},
   "outputs": [],
   "source": [
    "protein = structure"
   ]
  },
  {
   "cell_type": "code",
   "execution_count": 11,
   "id": "548d26d6-3988-4338-9700-d595774b5592",
   "metadata": {},
   "outputs": [],
   "source": [
    "import torch_cluster\n",
    "device = 'cpu'\n",
    "top_k = 30\n",
    "def _positional_embeddings(edge_index, \n",
    "                               num_embeddings=None,\n",
    "                               period_range=[2, 1000]):\n",
    "        # From https://github.com/jingraham/neurips19-graph-protein-design\n",
    "        num_embeddings = num_embeddings or 16\n",
    "        d = edge_index[0] - edge_index[1]\n",
    "        frequency = torch.exp(\n",
    "            torch.arange(0, num_embeddings, 2, dtype=torch.float32, device=device)\n",
    "            * -(np.log(10000.0) / num_embeddings)\n",
    "        )\n",
    "        angles = d.unsqueeze(-1) * frequency\n",
    "        E = torch.cat((torch.cos(angles), torch.sin(angles)), -1)\n",
    "        return E\n",
    "    \n",
    "letter_to_num = {'C': 4, 'D': 3, 'S': 15, 'Q': 5, 'K': 11, 'I': 9,\n",
    "                       'P': 14, 'T': 16, 'F': 13, 'A': 0, 'G': 7, 'H': 8,\n",
    "                       'E': 6, 'L': 10, 'R': 1, 'W': 17, 'V': 19, \n",
    "                       'N': 2, 'Y': 18, 'M': 12}\n",
    "with torch.no_grad():\n",
    "    coords = torch.as_tensor(protein['coords'], \n",
    "                             device=device, dtype=torch.float32)   \n",
    "    seq = torch.as_tensor([letter_to_num[a] for a in protein['seq']],\n",
    "                          device=device, dtype=torch.long)\n",
    "\n",
    "    mask = torch.isfinite(coords.sum(dim=(1,2)))\n",
    "    coords[~mask] = np.inf\n",
    "\n",
    "    X_ca = coords[:, 1]\n",
    "    edge_index = torch_cluster.knn_graph(X_ca, k=top_k)\n",
    "\n",
    "    pos_embeddings = _positional_embeddings(edge_index)\n",
    "    E_vectors = X_ca[edge_index[0]] - X_ca[edge_index[1]]\n",
    "    "
   ]
  },
  {
   "cell_type": "code",
   "execution_count": 13,
   "id": "654d70e7-329a-478e-80f8-0b2b7bfca58f",
   "metadata": {},
   "outputs": [
    {
     "data": {
      "text/plain": [
       "tensor([[1, 2, 0, 3, 0, 3, 1, 2],\n",
       "        [0, 0, 1, 1, 2, 2, 3, 3]])"
      ]
     },
     "execution_count": 13,
     "metadata": {},
     "output_type": "execute_result"
    }
   ],
   "source": [
    "x = torch.Tensor([[-1, -1], [-1, 1], [1, -1], [1, 1]])\n",
    "batch = torch.tensor([0, 0, 0, 0])\n",
    "edge_index = torch_cluster.knn_graph(x, k=2, batch=batch, loop=False)\n",
    "edge_index"
   ]
  },
  {
   "cell_type": "code",
   "execution_count": 15,
   "id": "2b30f878-66fd-4d2a-a00f-3c9d5fdc0c1e",
   "metadata": {},
   "outputs": [
    {
     "data": {
      "text/plain": [
       "torch.Size([14070, 16])"
      ]
     },
     "execution_count": 15,
     "metadata": {},
     "output_type": "execute_result"
    }
   ],
   "source": [
    "pos_embeddings.shape"
   ]
  },
  {
   "cell_type": "code",
   "execution_count": 16,
   "id": "7df8dfd1-12d6-48ee-994b-2ab870de1caf",
   "metadata": {},
   "outputs": [
    {
     "data": {
      "text/plain": [
       "tensor([ 1.0000,  0.6533, -0.9938,  0.0000,  0.7571, -0.1115])"
      ]
     },
     "execution_count": 16,
     "metadata": {},
     "output_type": "execute_result"
    }
   ],
   "source": [
    "def _normalize(tensor, dim=-1):\n",
    "    '''\n",
    "    Normalizes a `torch.Tensor` along dimension `dim` without `nan`s.\n",
    "    '''\n",
    "    return torch.nan_to_num(\n",
    "        torch.div(tensor, torch.norm(tensor, dim=dim, keepdim=True)))\n",
    "X= coords\n",
    "eps=1e-7\n",
    "import torch.nn.functional as F\n",
    "X = torch.reshape(X[:, :3], [3*X.shape[0], 3])\n",
    "X.shape\n",
    "dX = X[1:] - X[:-1]\n",
    "\n",
    "U = _normalize(dX, dim=-1)\n",
    "u_2 = U[:-2]\n",
    "u_1 = U[1:-1]\n",
    "u_0 = U[2:]\n",
    "\n",
    "# Backbone normals\n",
    "n_2 = _normalize(torch.cross(u_2, u_1), dim=-1)\n",
    "n_1 = _normalize(torch.cross(u_1, u_0), dim=-1)\n",
    "\n",
    "# Angle between normals\n",
    "cosD = torch.sum(n_2 * n_1, -1)\n",
    "cosD = torch.clamp(cosD, -1 + eps, 1 - eps)\n",
    "D = torch.sign(torch.sum(u_2 * n_1, -1)) * torch.acos(cosD)\n",
    "\n",
    "# This scheme will remove phi[0], psi[-1], omega[-1]\n",
    "D = F.pad(D, [1, 2]) \n",
    "D = torch.reshape(D, [-1, 3])\n",
    "# Lift angle representations to the circle\n",
    "D_features = torch.cat([torch.cos(D), torch.sin(D)], 1)\n",
    "D_features[0]"
   ]
  },
  {
   "cell_type": "code",
   "execution_count": 22,
   "id": "96565632-b89d-4f7f-b156-5ab0924bdd26",
   "metadata": {},
   "outputs": [
    {
     "data": {
      "text/plain": [
       "tensor([[  1,   2,   3,  ..., 282, 193, 461],\n",
       "        [  0,   0,   0,  ..., 468, 468, 468]])"
      ]
     },
     "execution_count": 22,
     "metadata": {},
     "output_type": "execute_result"
    }
   ],
   "source": [
    "edge_index[:30]"
   ]
  },
  {
   "cell_type": "code",
   "execution_count": 20,
   "id": "28417224-f0cd-4d13-9e36-0eccab26d1e5",
   "metadata": {},
   "outputs": [
    {
     "name": "stdout",
     "output_type": "stream",
     "text": [
      "tensor([[  0.7020,  -3.3500,  -1.7770],\n",
      "        [  4.4240,  -3.2170,  -2.8070],\n",
      "        [  6.9100,  -3.3370,   0.1100],\n",
      "        ...,\n",
      "        [  4.6020,   7.6060, -12.6750],\n",
      "        [ 15.0980,   0.0630,   3.7780],\n",
      "        [  7.4360,  -4.1000, -13.2740]])\n",
      "tensor([ 3.8566,  6.1482,  7.6744,  ..., 15.4818, 15.5636, 15.7576])\n"
     ]
    }
   ],
   "source": [
    "print(E_vectors)\n",
    "print(E_vectors.norm(dim=-1))"
   ]
  },
  {
   "cell_type": "code",
   "execution_count": 17,
   "id": "4bd7c4a2-288b-4cd9-a216-762ee911db67",
   "metadata": {},
   "outputs": [
    {
     "data": {
      "text/plain": [
       "torch.Size([14070, 16])"
      ]
     },
     "execution_count": 17,
     "metadata": {},
     "output_type": "execute_result"
    }
   ],
   "source": [
    "def _rbf(D, D_min=0., D_max=20., D_count=16, device='cpu'):\n",
    "    '''\n",
    "    From https://github.com/jingraham/neurips19-graph-protein-design\n",
    "    \n",
    "    Returns an RBF embedding of `torch.Tensor` `D` along a new axis=-1.\n",
    "    That is, if `D` has shape [...dims], then the returned tensor will have\n",
    "    shape [...dims, D_count].\n",
    "    '''\n",
    "    D_mu = torch.linspace(D_min, D_max, D_count, device=device)\n",
    "    D_mu = D_mu.view([1, -1])\n",
    "    D_sigma = (D_max - D_min) / D_count\n",
    "    D_expand = torch.unsqueeze(D, -1)\n",
    "\n",
    "    RBF = torch.exp(-((D_expand - D_mu) / D_sigma) ** 2)\n",
    "    return RBF\n",
    "rbf = _rbf(E_vectors.norm(dim=-1), D_count=16, device=device)\n",
    "rbf.shape"
   ]
  },
  {
   "cell_type": "code",
   "execution_count": 9,
   "id": "bbd3cde3-ac3f-4d6b-9b96-951e44d223c3",
   "metadata": {},
   "outputs": [],
   "source": [
    "protein_dict[proteinName] = get_protein_feature(clean_res_list)"
   ]
  },
  {
   "cell_type": "code",
   "execution_count": 59,
   "id": "f72d862e-7120-4fea-aac8-49655003d58a",
   "metadata": {},
   "outputs": [
    {
     "data": {
      "text/plain": [
       "torch.Size([469, 3, 3])"
      ]
     },
     "execution_count": 59,
     "metadata": {},
     "output_type": "execute_result"
    }
   ],
   "source": [
    "protein_dict[proteinName][3].shape"
   ]
  },
  {
   "cell_type": "code",
   "execution_count": 39,
   "id": "632b1ddd-2276-44f5-bab0-c5b679829aeb",
   "metadata": {},
   "outputs": [
    {
     "data": {
      "text/plain": [
       "145"
      ]
     },
     "execution_count": 39,
     "metadata": {},
     "output_type": "execute_result"
    }
   ],
   "source": [
    "x = protein_dict[proteinName][0]\n",
    "n = 0\n",
    "for i in range(len(x)):\n",
    "    sum = (float(x[i][0]) - 8.709) **2 + (float(x[i][1]) + 24.923) **2 + (float(x[i][2]) + 34.936) **2\n",
    "    if sum <= 400:\n",
    "        n += 1\n",
    "n"
   ]
  },
  {
   "cell_type": "markdown",
   "id": "534ef2ed",
   "metadata": {},
   "source": [
    "# p2rank to segment the protein"
   ]
  },
  {
   "cell_type": "code",
   "execution_count": 19,
   "id": "efdf01dd",
   "metadata": {},
   "outputs": [],
   "source": [
    "ds = f\"{pre}/protein_list.ds\"\n",
    "with open(ds, \"w\") as out:\n",
    "    out.write(f\"/{proteinName}.pdb\\n\")"
   ]
  },
  {
   "cell_type": "code",
   "execution_count": 20,
   "id": "2054fde5",
   "metadata": {},
   "outputs": [
    {
     "name": "stdout",
     "output_type": "stream",
     "text": [
      "----------------------------------------------------------------------------------------------\n",
      " P2Rank 2.3\n",
      "----------------------------------------------------------------------------------------------\n",
      "\n",
      "predicting pockets for proteins from dataset [protein_list.ds]\n",
      "processing [6scm.pdb] (1/1)\n",
      "predicting pockets finished in 0 hours 0 minutes 11.828 seconds\n",
      "results saved to directory [/home/jovyan/TankBind/examples/NCIVS/SOS1-6scm-08080536/p2rank]\n",
      "\n",
      "----------------------------------------------------------------------------------------------\n",
      " finished successfully in 0 hours 0 minutes 13.557 seconds\n",
      "----------------------------------------------------------------------------------------------\n"
     ]
    },
    {
     "data": {
      "text/plain": [
       "0"
      ]
     },
     "execution_count": 20,
     "metadata": {},
     "output_type": "execute_result"
    }
   ],
   "source": [
    "p2rank = \"bash ./p2rank_2.3/prank\"\n",
    "cmd = f\"{p2rank} predict {ds} -o {pre}/p2rank -threads 1\"\n",
    "os.system(cmd)"
   ]
  },
  {
   "cell_type": "code",
   "execution_count": 17,
   "id": "0ac1eb38-81b1-4d22-86d1-af13be03f312",
   "metadata": {},
   "outputs": [],
   "source": [
    "d = pd.read_csv(f\"{pre}/{csv_name}\")"
   ]
  },
  {
   "cell_type": "code",
   "execution_count": 9,
   "id": "7760a5e4-9a21-445e-b556-296390555864",
   "metadata": {},
   "outputs": [
    {
     "data": {
      "text/html": [
       "<div>\n",
       "<style scoped>\n",
       "    .dataframe tbody tr th:only-of-type {\n",
       "        vertical-align: middle;\n",
       "    }\n",
       "\n",
       "    .dataframe tbody tr th {\n",
       "        vertical-align: top;\n",
       "    }\n",
       "\n",
       "    .dataframe thead th {\n",
       "        text-align: right;\n",
       "    }\n",
       "</style>\n",
       "<table border=\"1\" class=\"dataframe\">\n",
       "  <thead>\n",
       "    <tr style=\"text-align: right;\">\n",
       "      <th></th>\n",
       "      <th>Unnamed: 0</th>\n",
       "      <th>smiles</th>\n",
       "      <th>md5</th>\n",
       "    </tr>\n",
       "  </thead>\n",
       "  <tbody>\n",
       "    <tr>\n",
       "      <th>0</th>\n",
       "      <td>0</td>\n",
       "      <td>C[C@@H](NC(=O)c1cc(N2CCN(C(=O)C3CC3)CC2)nc2cc[...</td>\n",
       "      <td>0</td>\n",
       "    </tr>\n",
       "    <tr>\n",
       "      <th>1</th>\n",
       "      <td>1</td>\n",
       "      <td>C[C@@H](NC(=O)c1cc(N2CCN(C)CC2)nc2cn[nH]c12)c1...</td>\n",
       "      <td>1</td>\n",
       "    </tr>\n",
       "    <tr>\n",
       "      <th>2</th>\n",
       "      <td>2</td>\n",
       "      <td>CC(=O)N1C2CCC1CN(c1cc(C(=O)N[C@H](C)c3cccc(C(F...</td>\n",
       "      <td>2</td>\n",
       "    </tr>\n",
       "    <tr>\n",
       "      <th>3</th>\n",
       "      <td>3</td>\n",
       "      <td>CC(NC(=O)c1cc(N2CCN(C(=O)C3COC3)CC2)nc2cc[nH]c...</td>\n",
       "      <td>3</td>\n",
       "    </tr>\n",
       "    <tr>\n",
       "      <th>4</th>\n",
       "      <td>4</td>\n",
       "      <td>C[C@@H](NC(=O)c1cc(N2CCN(C)CC2)nc2cn[nH]c12)c1...</td>\n",
       "      <td>4</td>\n",
       "    </tr>\n",
       "    <tr>\n",
       "      <th>...</th>\n",
       "      <td>...</td>\n",
       "      <td>...</td>\n",
       "      <td>...</td>\n",
       "    </tr>\n",
       "    <tr>\n",
       "      <th>874</th>\n",
       "      <td>874</td>\n",
       "      <td>Cc1nnc(NC(C)c2cc(N)cc(C(F)(F)F)n2)c2cc(N3CC4(C...</td>\n",
       "      <td>874</td>\n",
       "    </tr>\n",
       "    <tr>\n",
       "      <th>875</th>\n",
       "      <td>875</td>\n",
       "      <td>Cc1nnc(NC(C)c2cc(N)cc(C(F)(F)F)n2)c2cc(N3CC(C)...</td>\n",
       "      <td>875</td>\n",
       "    </tr>\n",
       "    <tr>\n",
       "      <th>876</th>\n",
       "      <td>876</td>\n",
       "      <td>Cc1cc(F)ccc1C(C)Nc1nnc(C)c2cnc(N3CC(C)(O)C3)cc12</td>\n",
       "      <td>876</td>\n",
       "    </tr>\n",
       "    <tr>\n",
       "      <th>877</th>\n",
       "      <td>877</td>\n",
       "      <td>Cc1nnc(NC(C)c2cc(N)cc(C(F)(F)F)n2)c2cc(N3CC(C)...</td>\n",
       "      <td>877</td>\n",
       "    </tr>\n",
       "    <tr>\n",
       "      <th>878</th>\n",
       "      <td>878</td>\n",
       "      <td>Cc1nnc(NC(C)c2cc(F)cc(C#N)c2F)c2cc(N3CC(C)(N(C...</td>\n",
       "      <td>878</td>\n",
       "    </tr>\n",
       "  </tbody>\n",
       "</table>\n",
       "<p>879 rows × 3 columns</p>\n",
       "</div>"
      ],
      "text/plain": [
       "     Unnamed: 0                                             smiles  md5\n",
       "0             0  C[C@@H](NC(=O)c1cc(N2CCN(C(=O)C3CC3)CC2)nc2cc[...    0\n",
       "1             1  C[C@@H](NC(=O)c1cc(N2CCN(C)CC2)nc2cn[nH]c12)c1...    1\n",
       "2             2  CC(=O)N1C2CCC1CN(c1cc(C(=O)N[C@H](C)c3cccc(C(F...    2\n",
       "3             3  CC(NC(=O)c1cc(N2CCN(C(=O)C3COC3)CC2)nc2cc[nH]c...    3\n",
       "4             4  C[C@@H](NC(=O)c1cc(N2CCN(C)CC2)nc2cn[nH]c12)c1...    4\n",
       "..          ...                                                ...  ...\n",
       "874         874  Cc1nnc(NC(C)c2cc(N)cc(C(F)(F)F)n2)c2cc(N3CC4(C...  874\n",
       "875         875  Cc1nnc(NC(C)c2cc(N)cc(C(F)(F)F)n2)c2cc(N3CC(C)...  875\n",
       "876         876   Cc1cc(F)ccc1C(C)Nc1nnc(C)c2cnc(N3CC(C)(O)C3)cc12  876\n",
       "877         877  Cc1nnc(NC(C)c2cc(N)cc(C(F)(F)F)n2)c2cc(N3CC(C)...  877\n",
       "878         878  Cc1nnc(NC(C)c2cc(F)cc(C#N)c2F)c2cc(N3CC(C)(N(C...  878\n",
       "\n",
       "[879 rows x 3 columns]"
      ]
     },
     "execution_count": 9,
     "metadata": {},
     "output_type": "execute_result"
    }
   ],
   "source": [
    "d"
   ]
  },
  {
   "cell_type": "code",
   "execution_count": 21,
   "id": "d531aa7f",
   "metadata": {},
   "outputs": [
    {
     "name": "stderr",
     "output_type": "stream",
     "text": [
      "100%|██████████| 879/879 [00:03<00:00, 287.57it/s]\n"
     ]
    },
    {
     "data": {
      "text/html": [
       "<div>\n",
       "<style scoped>\n",
       "    .dataframe tbody tr th:only-of-type {\n",
       "        vertical-align: middle;\n",
       "    }\n",
       "\n",
       "    .dataframe tbody tr th {\n",
       "        vertical-align: top;\n",
       "    }\n",
       "\n",
       "    .dataframe thead th {\n",
       "        text-align: right;\n",
       "    }\n",
       "</style>\n",
       "<table border=\"1\" class=\"dataframe\">\n",
       "  <thead>\n",
       "    <tr style=\"text-align: right;\">\n",
       "      <th></th>\n",
       "      <th>protein_name</th>\n",
       "      <th>compound_name</th>\n",
       "      <th>smiles</th>\n",
       "      <th>pocket_name</th>\n",
       "      <th>pocket_com</th>\n",
       "    </tr>\n",
       "  </thead>\n",
       "  <tbody>\n",
       "    <tr>\n",
       "      <th>0</th>\n",
       "      <td>6scm</td>\n",
       "      <td></td>\n",
       "      <td>C[C@@H](NC(=O)c1cc(N2CCN(C(=O)C3CC3)CC2)nc2cc[...</td>\n",
       "      <td>pocket_1</td>\n",
       "      <td>8.709,-24.923,-34.936</td>\n",
       "    </tr>\n",
       "    <tr>\n",
       "      <th>1</th>\n",
       "      <td>6scm</td>\n",
       "      <td></td>\n",
       "      <td>C[C@@H](NC(=O)c1cc(N2CCN(C(=O)C3CC3)CC2)nc2cc[...</td>\n",
       "      <td>pocket_2</td>\n",
       "      <td>14.982,-43.708,-30.367</td>\n",
       "    </tr>\n",
       "    <tr>\n",
       "      <th>2</th>\n",
       "      <td>6scm</td>\n",
       "      <td></td>\n",
       "      <td>C[C@@H](NC(=O)c1cc(N2CCN(C(=O)C3CC3)CC2)nc2cc[...</td>\n",
       "      <td>pocket_3</td>\n",
       "      <td>4.658,-7.672,-15.484</td>\n",
       "    </tr>\n",
       "    <tr>\n",
       "      <th>3</th>\n",
       "      <td>6scm</td>\n",
       "      <td></td>\n",
       "      <td>C[C@@H](NC(=O)c1cc(N2CCN(C(=O)C3CC3)CC2)nc2cc[...</td>\n",
       "      <td>pocket_4</td>\n",
       "      <td>1.534,-35.549,-43.763</td>\n",
       "    </tr>\n",
       "    <tr>\n",
       "      <th>4</th>\n",
       "      <td>6scm</td>\n",
       "      <td></td>\n",
       "      <td>C[C@@H](NC(=O)c1cc(N2CCN(C(=O)C3CC3)CC2)nc2cc[...</td>\n",
       "      <td>pocket_5</td>\n",
       "      <td>7.982,19.069,-15.421</td>\n",
       "    </tr>\n",
       "    <tr>\n",
       "      <th>...</th>\n",
       "      <td>...</td>\n",
       "      <td>...</td>\n",
       "      <td>...</td>\n",
       "      <td>...</td>\n",
       "      <td>...</td>\n",
       "    </tr>\n",
       "    <tr>\n",
       "      <th>7906</th>\n",
       "      <td>6scm</td>\n",
       "      <td></td>\n",
       "      <td>Cc1nnc(NC(C)c2cc(F)cc(C#N)c2F)c2cc(N3CC(C)(N(C...</td>\n",
       "      <td>pocket_5</td>\n",
       "      <td>7.982,19.069,-15.421</td>\n",
       "    </tr>\n",
       "    <tr>\n",
       "      <th>7907</th>\n",
       "      <td>6scm</td>\n",
       "      <td></td>\n",
       "      <td>Cc1nnc(NC(C)c2cc(F)cc(C#N)c2F)c2cc(N3CC(C)(N(C...</td>\n",
       "      <td>pocket_6</td>\n",
       "      <td>-1.262,-16.002,-29.16</td>\n",
       "    </tr>\n",
       "    <tr>\n",
       "      <th>7908</th>\n",
       "      <td>6scm</td>\n",
       "      <td></td>\n",
       "      <td>Cc1nnc(NC(C)c2cc(F)cc(C#N)c2F)c2cc(N3CC(C)(N(C...</td>\n",
       "      <td>pocket_7</td>\n",
       "      <td>3.006,3.753,-22.598</td>\n",
       "    </tr>\n",
       "    <tr>\n",
       "      <th>7909</th>\n",
       "      <td>6scm</td>\n",
       "      <td></td>\n",
       "      <td>Cc1nnc(NC(C)c2cc(F)cc(C#N)c2F)c2cc(N3CC(C)(N(C...</td>\n",
       "      <td>pocket_8</td>\n",
       "      <td>15.256,-6.178,-31.047</td>\n",
       "    </tr>\n",
       "    <tr>\n",
       "      <th>7910</th>\n",
       "      <td>6scm</td>\n",
       "      <td></td>\n",
       "      <td>Cc1nnc(NC(C)c2cc(F)cc(C#N)c2F)c2cc(N3CC(C)(N(C...</td>\n",
       "      <td>pocket_9</td>\n",
       "      <td>-5.474,-33.348,-16.235</td>\n",
       "    </tr>\n",
       "  </tbody>\n",
       "</table>\n",
       "<p>7911 rows × 5 columns</p>\n",
       "</div>"
      ],
      "text/plain": [
       "     protein_name compound_name  \\\n",
       "0            6scm                 \n",
       "1            6scm                 \n",
       "2            6scm                 \n",
       "3            6scm                 \n",
       "4            6scm                 \n",
       "...           ...           ...   \n",
       "7906         6scm                 \n",
       "7907         6scm                 \n",
       "7908         6scm                 \n",
       "7909         6scm                 \n",
       "7910         6scm                 \n",
       "\n",
       "                                                 smiles pocket_name  \\\n",
       "0     C[C@@H](NC(=O)c1cc(N2CCN(C(=O)C3CC3)CC2)nc2cc[...    pocket_1   \n",
       "1     C[C@@H](NC(=O)c1cc(N2CCN(C(=O)C3CC3)CC2)nc2cc[...    pocket_2   \n",
       "2     C[C@@H](NC(=O)c1cc(N2CCN(C(=O)C3CC3)CC2)nc2cc[...    pocket_3   \n",
       "3     C[C@@H](NC(=O)c1cc(N2CCN(C(=O)C3CC3)CC2)nc2cc[...    pocket_4   \n",
       "4     C[C@@H](NC(=O)c1cc(N2CCN(C(=O)C3CC3)CC2)nc2cc[...    pocket_5   \n",
       "...                                                 ...         ...   \n",
       "7906  Cc1nnc(NC(C)c2cc(F)cc(C#N)c2F)c2cc(N3CC(C)(N(C...    pocket_5   \n",
       "7907  Cc1nnc(NC(C)c2cc(F)cc(C#N)c2F)c2cc(N3CC(C)(N(C...    pocket_6   \n",
       "7908  Cc1nnc(NC(C)c2cc(F)cc(C#N)c2F)c2cc(N3CC(C)(N(C...    pocket_7   \n",
       "7909  Cc1nnc(NC(C)c2cc(F)cc(C#N)c2F)c2cc(N3CC(C)(N(C...    pocket_8   \n",
       "7910  Cc1nnc(NC(C)c2cc(F)cc(C#N)c2F)c2cc(N3CC(C)(N(C...    pocket_9   \n",
       "\n",
       "                  pocket_com  \n",
       "0      8.709,-24.923,-34.936  \n",
       "1     14.982,-43.708,-30.367  \n",
       "2       4.658,-7.672,-15.484  \n",
       "3      1.534,-35.549,-43.763  \n",
       "4       7.982,19.069,-15.421  \n",
       "...                      ...  \n",
       "7906    7.982,19.069,-15.421  \n",
       "7907   -1.262,-16.002,-29.16  \n",
       "7908     3.006,3.753,-22.598  \n",
       "7909   15.256,-6.178,-31.047  \n",
       "7910  -5.474,-33.348,-16.235  \n",
       "\n",
       "[7911 rows x 5 columns]"
      ]
     },
     "execution_count": 21,
     "metadata": {},
     "output_type": "execute_result"
    }
   ],
   "source": [
    "info = []\n",
    "for i, line in tqdm(d.iterrows(), total=d.shape[0]):\n",
    "    smiles = line['smiles']\n",
    "    compound_name = \"\"\n",
    "    protein_name = proteinName\n",
    "    # use protein center as the pocket center.\n",
    "#    com = \",\".join([str(a.round(3)) for a in protein_dict[proteinName][0].mean(axis=0).numpy()])\n",
    " #   info.append([protein_name, compound_name, smiles, \"protein_center\", com])\n",
    "    # since WDR is actually small enough, and we are interested in finding a ligand binds to the central cavity.\n",
    "    # the block centered at the centroid of the protein is enough.\n",
    "    # we don't need additional p2rank predicted centers.\n",
    "    if True:\n",
    "        p2rankFile = f\"{pre}/p2rank/{proteinName}.pdb_predictions.csv\"\n",
    "        pocket = pd.read_csv(p2rankFile)\n",
    "        pocket.columns = pocket.columns.str.strip()\n",
    "        pocket_coms = pocket[['center_x', 'center_y', 'center_z']].values\n",
    "        for ith_pocket, com in enumerate(pocket_coms):\n",
    "            com = \",\".join([str(a.round(3)) for a in com])\n",
    "            info.append([protein_name, compound_name, smiles, f\"pocket_{ith_pocket+1}\", com])\n",
    "info = pd.DataFrame(info, columns=['protein_name', 'compound_name', 'smiles', 'pocket_name', 'pocket_com'])\n",
    "info"
   ]
  },
  {
   "cell_type": "code",
   "execution_count": 22,
   "id": "a9b8a488-5653-4d28-9edf-3f3d5cc3a9f7",
   "metadata": {},
   "outputs": [
    {
     "data": {
      "text/plain": [
       "9"
      ]
     },
     "execution_count": 22,
     "metadata": {},
     "output_type": "execute_result"
    }
   ],
   "source": [
    "len(info['pocket_name'].unique())"
   ]
  },
  {
   "cell_type": "markdown",
   "id": "c98d21cf",
   "metadata": {},
   "source": [
    "# construct dataset"
   ]
  },
  {
   "cell_type": "code",
   "execution_count": 23,
   "id": "a072075c",
   "metadata": {},
   "outputs": [],
   "source": [
    "import torch\n",
    "torch.set_num_threads(1)"
   ]
  },
  {
   "cell_type": "code",
   "execution_count": 24,
   "id": "aff848be",
   "metadata": {},
   "outputs": [],
   "source": [
    "from torch_geometric.data import Dataset\n",
    "from utils import construct_data_from_graph_gvp\n",
    "import rdkit.Chem as Chem    # conda install rdkit -c rdkit if import failure.\n",
    "from feature_utils import extract_torchdrug_feature_from_mol, get_canonical_smiles"
   ]
  },
  {
   "cell_type": "code",
   "execution_count": 25,
   "id": "ac200ce2-756d-4884-8b08-777e775578d1",
   "metadata": {},
   "outputs": [],
   "source": [
    "savelist = []"
   ]
  },
  {
   "cell_type": "code",
   "execution_count": 26,
   "id": "3883313b",
   "metadata": {},
   "outputs": [],
   "source": [
    "class MyDataset_VS(Dataset):\n",
    "    def __init__(self, root, data=None, protein_dict=None, proteinMode=0, compoundMode=1,\n",
    "                pocket_radius=20, shake_nodes=None,\n",
    "                 transform=None, pre_transform=None, pre_filter=None):\n",
    "        self.data = data\n",
    "        self.protein_dict = protein_dict\n",
    "        super().__init__(root, transform, pre_transform, pre_filter)\n",
    "        print(self.processed_paths)\n",
    "        self.data = torch.load(self.processed_paths[0])\n",
    "        self.protein_dict = torch.load(self.processed_paths[1])\n",
    "        self.proteinMode = proteinMode\n",
    "        self.pocket_radius = pocket_radius\n",
    "        self.compoundMode = compoundMode\n",
    "        self.shake_nodes = shake_nodes\n",
    "        #self.printflag = True\n",
    "    @property\n",
    "    def processed_file_names(self):\n",
    "        return ['data.pt', 'protein.pt']\n",
    "\n",
    "    def process(self):\n",
    "        torch.save(self.data, self.processed_paths[0])\n",
    "        torch.save(self.protein_dict, self.processed_paths[1])\n",
    "\n",
    "    def len(self):\n",
    "        return len(self.data)\n",
    "\n",
    "    def get(self, idx):\n",
    "        line = self.data.iloc[idx]\n",
    "        smiles = line['smiles']\n",
    "        pocket_com = line['pocket_com']\n",
    "        pocket_com = np.array(pocket_com.split(\",\")).astype(float) if type(pocket_com) == str else pocket_com\n",
    "        pocket_com = pocket_com.reshape((1, 3))\n",
    "        use_whole_protein = line['use_whole_protein'] if \"use_whole_protein\" in line.index else False\n",
    "\n",
    "        protein_name = line['protein_name']\n",
    "        protein_node_xyz, protein_seq, protein_node_s, protein_node_v, protein_edge_index, protein_edge_s, protein_edge_v = self.protein_dict[protein_name]\n",
    "\n",
    "        \n",
    "        \n",
    "        try:\n",
    "            smiles = get_canonical_smiles(smiles)\n",
    "            mol = Chem.MolFromSmiles(smiles)\n",
    "            mol.Compute2DCoords()\n",
    "                \n",
    "            coords, compound_node_features, input_atom_edge_list, input_atom_edge_attr_list, pair_dis_distribution = extract_torchdrug_feature_from_mol(mol, has_LAS_mask=True)\n",
    "        except:\n",
    "            print(\"something wrong with \", smiles, \"to prevent this stops our screening, we repalce it with a placeholder smiles 'CCC'\")\n",
    "            smiles = 'CCC'\n",
    "            mol = Chem.MolFromSmiles(smiles)\n",
    "            mol.Compute2DCoords()\n",
    "            coords, compound_node_features, input_atom_edge_list, input_atom_edge_attr_list, pair_dis_distribution = extract_torchdrug_feature_from_mol(mol, has_LAS_mask=True)\n",
    "        # y is distance map, instead of contact map.\n",
    "        data, input_node_list, keepNode = construct_data_from_graph_gvp(protein_node_xyz, protein_seq, protein_node_s, \n",
    "                              protein_node_v, protein_edge_index, protein_edge_s, protein_edge_v,\n",
    "                              coords, compound_node_features, input_atom_edge_list, input_atom_edge_attr_list,\n",
    "                              pocket_radius=self.pocket_radius, use_whole_protein=use_whole_protein, includeDisMap=True,\n",
    "                              use_compound_com_as_pocket=False, chosen_pocket_com=pocket_com, compoundMode=self.compoundMode)\n",
    "        data.compound_pair = pair_dis_distribution.reshape(-1, 16)\n",
    "        #print(\"=================== GET RETURN =======================\")\n",
    "        #print(data)\n",
    "        return data\n"
   ]
  },
  {
   "cell_type": "code",
   "execution_count": 27,
   "id": "f329c148",
   "metadata": {},
   "outputs": [
    {
     "name": "stdout",
     "output_type": "stream",
     "text": [
      "['NCIVS/dataset/processed/data.pt', 'NCIVS/dataset/processed/protein.pt']\n"
     ]
    },
    {
     "name": "stderr",
     "output_type": "stream",
     "text": [
      "Processing...\n",
      "Done!\n"
     ]
    }
   ],
   "source": [
    "dataset_path = f\"{base_pre}/dataset/\"\n",
    "os.system(f\"rm -r {dataset_path}\")\n",
    "os.system(f\"mkdir -p {dataset_path}\")\n",
    "dataset = MyDataset_VS(dataset_path, data=info, protein_dict=protein_dict)"
   ]
  },
  {
   "cell_type": "code",
   "execution_count": 51,
   "id": "cfff73fe-579a-4142-bfaf-df9f18a133b5",
   "metadata": {},
   "outputs": [],
   "source": [
    "a = dataset[0]['protein']['node_s']"
   ]
  },
  {
   "cell_type": "code",
   "execution_count": 34,
   "id": "66581448-217c-4258-ad1f-9e243f82eba9",
   "metadata": {},
   "outputs": [
    {
     "data": {
      "text/plain": [
       "HeteroData(\n",
       "  dis_map=[4495],\n",
       "  node_xyz=[145, 3],\n",
       "  coords=[31, 3],\n",
       "  y=[4495],\n",
       "  seq=[145],\n",
       "  compound_pair=[961, 16],\n",
       "  \u001b[1mprotein\u001b[0m={\n",
       "    node_s=[145, 6],\n",
       "    node_v=[145, 3, 3]\n",
       "  },\n",
       "  \u001b[1mcompound\u001b[0m={ x=[31, 56] },\n",
       "  \u001b[1m(protein, p2p, protein)\u001b[0m={\n",
       "    edge_index=[2, 3466],\n",
       "    edge_s=[3466, 32],\n",
       "    edge_v=[3466, 1, 3]\n",
       "  },\n",
       "  \u001b[1m(compound, c2c, compound)\u001b[0m={\n",
       "    edge_index=[2, 68],\n",
       "    edge_weight=[68],\n",
       "    edge_attr=[68, 19]\n",
       "  }\n",
       ")"
      ]
     },
     "execution_count": 34,
     "metadata": {},
     "output_type": "execute_result"
    }
   ],
   "source": [
    "dataset[9]"
   ]
  },
  {
   "cell_type": "code",
   "execution_count": 17,
   "id": "23efbc17",
   "metadata": {},
   "outputs": [
    {
     "name": "stdout",
     "output_type": "stream",
     "text": [
      "['NCIVS/dataset/processed/data.pt', 'NCIVS/dataset/processed/protein.pt']\n"
     ]
    }
   ],
   "source": [
    "dataset = MyDataset_VS(dataset_path)"
   ]
  },
  {
   "cell_type": "code",
   "execution_count": 18,
   "id": "9f9c40c3",
   "metadata": {},
   "outputs": [],
   "source": [
    "import logging\n",
    "from torch_geometric.loader import DataLoader\n",
    "from tqdm import tqdm    # pip install tqdm if fails.\n",
    "from model import get_model"
   ]
  },
  {
   "cell_type": "markdown",
   "id": "2814e362",
   "metadata": {},
   "source": [
    "# take about 2 minutes to screen 10,000 drug candidates."
   ]
  },
  {
   "cell_type": "code",
   "execution_count": null,
   "id": "96da1392-afc8-450e-b4e3-1783f893c242",
   "metadata": {},
   "outputs": [],
   "source": [
    "import torch\n",
    "from torch import nn\n",
    "x = torch.randn(10,768,2)\n",
    "query = nn.Linear(768*2, 2)\n",
    "key = nn.Linear(768*2, 10)\n",
    "ln = nn.LayerNorm(10)\n",
    "x = x.view(10, 768*2)\n",
    "q = query(x)\n",
    "q1 = torch.softmax(q,dim=0)\n",
    "x1 = key(x)\n",
    "x2 = ln(x1)\n",
    "x3 = torch.einsum(\"bi,bj->bij\",q1,x2)\n",
    "x4 = x3.sum(dim=2)"
   ]
  },
  {
   "cell_type": "code",
   "execution_count": 74,
   "id": "ac444f70-1350-4166-8bd1-508461f82fa3",
   "metadata": {},
   "outputs": [
    {
     "data": {
      "text/plain": [
       "Linear(in_features=10, out_features=1, bias=True)"
      ]
     },
     "execution_count": 74,
     "metadata": {},
     "output_type": "execute_result"
    }
   ],
   "source": [
    "nn.Linear(10,1).to(torch.device(\"cuda\"))"
   ]
  },
  {
   "cell_type": "code",
   "execution_count": 66,
   "id": "a645da5d-b148-468a-b85d-01be47a0043a",
   "metadata": {},
   "outputs": [
    {
     "data": {
      "text/plain": [
       "torch.Size([10, 2])"
      ]
     },
     "execution_count": 66,
     "metadata": {},
     "output_type": "execute_result"
    }
   ],
   "source": [
    "x4.shape"
   ]
  },
  {
   "cell_type": "code",
   "execution_count": 61,
   "id": "a50e2aa7-b0d2-4311-838f-d7d0b3da21d6",
   "metadata": {},
   "outputs": [
    {
     "data": {
      "text/plain": [
       "torch.Size([10, 10])"
      ]
     },
     "execution_count": 61,
     "metadata": {},
     "output_type": "execute_result"
    }
   ],
   "source": [
    "x3.shape"
   ]
  },
  {
   "cell_type": "code",
   "execution_count": 37,
   "id": "cf009163-6da0-4c86-89c8-3a11b2a36259",
   "metadata": {},
   "outputs": [
    {
     "name": "stdout",
     "output_type": "stream",
     "text": [
      "05:04:18   5 stack, readout2, pred dis map add self attention and GVP embed, compound model GIN\n",
      "['linear_energy.weight', 'linear_energy.bias', 'gate_linear.weight', 'gate_linear.bias']\n",
      "[Parameter containing:\n",
      "tensor([[-0.0040,  0.1289,  0.0683, -0.0112,  0.0831, -0.0163,  0.1378, -0.0337,\n",
      "          0.0884, -0.0789,  0.0853, -0.0318,  0.0325, -0.0357,  0.0798,  0.0480,\n",
      "         -0.0345,  0.0230, -0.0421, -0.0633, -0.0575,  0.0048,  0.0080, -0.0325,\n",
      "         -0.0593, -0.0099,  0.0327,  0.0053,  0.0437, -0.0489,  0.0675, -0.0024,\n",
      "         -0.0436, -0.0767, -0.0528,  0.0124,  0.0198, -0.0500,  0.0678,  0.0362,\n",
      "          0.0046, -0.0102,  0.0195, -0.0837,  0.0411,  0.0836,  0.0044,  0.0264,\n",
      "         -0.0869,  0.0062,  0.0659,  0.0683, -0.0522,  0.0926, -0.0788,  0.0338,\n",
      "         -0.0016,  0.0123, -0.0597, -0.0259,  0.0203,  0.0247,  0.0345, -0.0873,\n",
      "         -0.0010, -0.0810, -0.0461,  0.0626,  0.0212, -0.0468,  0.0619,  0.0410,\n",
      "          0.0355, -0.0153,  0.0620, -0.0129,  0.0420,  0.0675,  0.0936, -0.0023,\n",
      "          0.0927, -0.0327,  0.0096, -0.0791,  0.0407,  0.0666,  0.0495, -0.0107,\n",
      "         -0.0240,  0.0140,  0.0818, -0.0711,  0.0377, -0.0128,  0.0883, -0.0446,\n",
      "          0.0838,  0.0041,  0.0404, -0.0963, -0.0036,  0.0239,  0.0703, -0.0609,\n",
      "         -0.0809, -0.0096,  0.0028,  0.0906, -0.0005,  0.0482,  0.0428, -0.0431,\n",
      "          0.0394, -0.0337, -0.0887,  0.0230,  0.0834, -0.0076, -0.0060,  0.0674,\n",
      "         -0.0593, -0.0713,  0.0174, -0.0418, -0.0106,  0.0176,  0.0249, -0.0210]],\n",
      "       device='cuda:2', requires_grad=True), Parameter containing:\n",
      "tensor([-0.0355], device='cuda:2', requires_grad=True), Parameter containing:\n",
      "tensor([[-0.0283, -0.1358, -0.0933, -0.1455,  0.1161,  0.0762,  0.0251,  0.1405,\n",
      "         -0.2050,  0.1123, -0.1570,  0.0743, -0.0106, -0.0698, -0.0262, -0.1285,\n",
      "          0.0179,  0.0541,  0.0700, -0.1443,  0.2465,  0.0010, -0.1076,  0.1918,\n",
      "          0.2041,  0.0241, -0.1516,  0.1336, -0.1767, -0.0508, -0.1701, -0.1585,\n",
      "          0.0466,  0.1553,  0.0470,  0.0100, -0.0961,  0.0461, -0.1016, -0.0869,\n",
      "         -0.0282, -0.1390,  0.0327,  0.0963, -0.0619, -0.1412, -0.0465,  0.0476,\n",
      "         -0.0755, -0.0524, -0.1114, -0.0543, -0.0822,  0.0295,  0.0983, -0.0673,\n",
      "          0.1554, -0.0065, -0.0882, -0.0102, -0.2153,  0.0563, -0.1021,  0.1183,\n",
      "         -0.0156,  0.1168,  0.0579, -0.0375, -0.0510,  0.0728, -0.0221, -0.1124,\n",
      "         -0.0205, -0.0012, -0.0637,  0.0605, -0.0692, -0.0730, -0.0752, -0.0666,\n",
      "         -0.1294,  0.0173, -0.1126,  0.1946, -0.0018, -0.0926,  0.0193, -0.0321,\n",
      "         -0.2402, -0.1163, -0.1051,  0.1538, -0.1818,  0.0340, -0.1232,  0.0767,\n",
      "          0.0010, -0.0620,  0.0130,  0.0572, -0.2457,  0.0148,  0.0099,  0.1305,\n",
      "          0.0159, -0.1200, -0.1796, -0.1734,  0.0473, -0.0078,  0.0115,  0.1380,\n",
      "         -0.1945,  0.1863,  0.1711,  0.2289,  0.0862,  0.0347, -0.0876, -0.1934,\n",
      "         -0.0380, -0.1081, -0.0243,  0.0627,  0.0401, -0.0017, -0.0456,  0.1372]],\n",
      "       device='cuda:2', requires_grad=True), Parameter containing:\n",
      "tensor([-0.3974], device='cuda:2', requires_grad=True)]\n"
     ]
    }
   ],
   "source": [
    "batch_size = 5 ##与口袋数相关35 35 35 36 36 32 33 33  30 37 37 33\n",
    "device = 'cuda:2' if torch.cuda.is_available() else 'cpu'\n",
    "# device= 'cpu'\n",
    "logging.basicConfig(level=logging.INFO)\n",
    "model = get_model(0, logging, device)\n",
    "# modelFile = \"../saved_models/re_dock.pt\"\n",
    "# self-dock model\n",
    "modelFile = \"../saved_models/self_dock.pt\"\n",
    "model.load_state_dict(torch.load(modelFile, map_location=device))\n",
    "# for name in model.state_dict():\n",
    "#     print(name, '      ')\n",
    "\n",
    "param_list = []\n",
    "name_list = []\n",
    "for name, param in model.named_parameters():\n",
    "    param_list.append(param)\n",
    "    name_list.append(name)\n",
    "print(name_list[-4:])\n",
    "print(param_list[-4:])        \n",
    "\n",
    "# _ = model.eval()\n",
    "\n",
    "# data_loader = DataLoader(dataset, batch_size=batch_size, follow_batch=['x', 'y', 'compound_pair'], shuffle=False, num_workers=8)\n",
    "# sum_embed_t = []\n",
    "# attn_embed_t = []\n",
    "# affinity_pred_list = []\n",
    "# y_pred_list = []\n",
    "# for data in tqdm(data_loader):\n",
    "#     data = data.to(device)\n",
    "#     y_pred, affinity_pred, sum_embed, attn_embed = model(data)\n",
    "#     affinity_pred_list.append(affinity_pred.detach().cpu())\n",
    "#     sum_embed_t.append(sum_embed.detach().cpu())\n",
    "#     attn_embed_t.append(attn_embed.detach().cpu())\n",
    "# affinity_pred_list = torch.cat(affinity_pred_list)\n",
    "\n",
    "\n",
    "model_dict = model.state_dict()\n",
    "pretrainedd_dict = torch.load(\"../saved_models/self_dock.pt\", map_location=device)\n",
    "model_dict['linear_energy.weight'] = pretrainedd_dict['linear_energy.weight']\n",
    "model_dict['linear_energy.bias'] = pretrainedd_dict['linear_energy.bias']\n",
    "model_dict['gate_linear.weight'] = pretrainedd_dict['gate_linear.weight']\n",
    "model_dict['gate_linear.bias'] = pretrainedd_dict['gate_linear.bias']\n",
    "model.load_state_dict(model_dict)"
   ]
  },
  {
   "cell_type": "code",
   "execution_count": 40,
   "id": "310e4df7-e6ff-4719-b4e9-bf40dd6d5109",
   "metadata": {},
   "outputs": [
    {
     "data": {
      "text/plain": [
       "torch.Size([1, 128])"
      ]
     },
     "execution_count": 40,
     "metadata": {},
     "output_type": "execute_result"
    }
   ],
   "source": [
    "param_list[-2].shape"
   ]
  },
  {
   "cell_type": "code",
   "execution_count": 20,
   "id": "47b7e12e-43a5-42fb-9492-3508b4867332",
   "metadata": {},
   "outputs": [
    {
     "data": {
      "text/html": [
       "<div>\n",
       "<style scoped>\n",
       "    .dataframe tbody tr th:only-of-type {\n",
       "        vertical-align: middle;\n",
       "    }\n",
       "\n",
       "    .dataframe tbody tr th {\n",
       "        vertical-align: top;\n",
       "    }\n",
       "\n",
       "    .dataframe thead th {\n",
       "        text-align: right;\n",
       "    }\n",
       "</style>\n",
       "<table border=\"1\" class=\"dataframe\">\n",
       "  <thead>\n",
       "    <tr style=\"text-align: right;\">\n",
       "      <th></th>\n",
       "      <th>index</th>\n",
       "      <th>protein_name</th>\n",
       "      <th>compound_name</th>\n",
       "      <th>smiles</th>\n",
       "      <th>pocket_name</th>\n",
       "      <th>pocket_com</th>\n",
       "      <th>affinity</th>\n",
       "    </tr>\n",
       "  </thead>\n",
       "  <tbody>\n",
       "    <tr>\n",
       "      <th>0</th>\n",
       "      <td>3</td>\n",
       "      <td>6scm</td>\n",
       "      <td></td>\n",
       "      <td>C[C@@H](NC(=O)c1cc(N2CCN(C(=O)C3CC3)CC2)nc2cc[...</td>\n",
       "      <td>pocket_4</td>\n",
       "      <td>1.534,-35.549,-43.763</td>\n",
       "      <td>6.471038</td>\n",
       "    </tr>\n",
       "    <tr>\n",
       "      <th>1</th>\n",
       "      <td>12</td>\n",
       "      <td>6scm</td>\n",
       "      <td></td>\n",
       "      <td>C[C@@H](NC(=O)c1cc(N2CCN(C)CC2)nc2cn[nH]c12)c1...</td>\n",
       "      <td>pocket_4</td>\n",
       "      <td>1.534,-35.549,-43.763</td>\n",
       "      <td>6.071306</td>\n",
       "    </tr>\n",
       "    <tr>\n",
       "      <th>2</th>\n",
       "      <td>21</td>\n",
       "      <td>6scm</td>\n",
       "      <td></td>\n",
       "      <td>CC(=O)N1C2CCC1CN(c1cc(C(=O)N[C@H](C)c3cccc(C(F...</td>\n",
       "      <td>pocket_4</td>\n",
       "      <td>1.534,-35.549,-43.763</td>\n",
       "      <td>6.444242</td>\n",
       "    </tr>\n",
       "    <tr>\n",
       "      <th>3</th>\n",
       "      <td>30</td>\n",
       "      <td>6scm</td>\n",
       "      <td></td>\n",
       "      <td>CC(NC(=O)c1cc(N2CCN(C(=O)C3COC3)CC2)nc2cc[nH]c...</td>\n",
       "      <td>pocket_4</td>\n",
       "      <td>1.534,-35.549,-43.763</td>\n",
       "      <td>6.428270</td>\n",
       "    </tr>\n",
       "    <tr>\n",
       "      <th>4</th>\n",
       "      <td>39</td>\n",
       "      <td>6scm</td>\n",
       "      <td></td>\n",
       "      <td>C[C@@H](NC(=O)c1cc(N2CCN(C)CC2)nc2cn[nH]c12)c1...</td>\n",
       "      <td>pocket_4</td>\n",
       "      <td>1.534,-35.549,-43.763</td>\n",
       "      <td>6.147758</td>\n",
       "    </tr>\n",
       "    <tr>\n",
       "      <th>...</th>\n",
       "      <td>...</td>\n",
       "      <td>...</td>\n",
       "      <td>...</td>\n",
       "      <td>...</td>\n",
       "      <td>...</td>\n",
       "      <td>...</td>\n",
       "      <td>...</td>\n",
       "    </tr>\n",
       "    <tr>\n",
       "      <th>874</th>\n",
       "      <td>7869</td>\n",
       "      <td>6scm</td>\n",
       "      <td></td>\n",
       "      <td>Cc1nnc(NC(C)c2cc(N)cc(C(F)(F)F)n2)c2cc(N3CC4(C...</td>\n",
       "      <td>pocket_4</td>\n",
       "      <td>1.534,-35.549,-43.763</td>\n",
       "      <td>6.985334</td>\n",
       "    </tr>\n",
       "    <tr>\n",
       "      <th>875</th>\n",
       "      <td>7878</td>\n",
       "      <td>6scm</td>\n",
       "      <td></td>\n",
       "      <td>Cc1nnc(NC(C)c2cc(N)cc(C(F)(F)F)n2)c2cc(N3CC(C)...</td>\n",
       "      <td>pocket_4</td>\n",
       "      <td>1.534,-35.549,-43.763</td>\n",
       "      <td>6.722276</td>\n",
       "    </tr>\n",
       "    <tr>\n",
       "      <th>876</th>\n",
       "      <td>7887</td>\n",
       "      <td>6scm</td>\n",
       "      <td></td>\n",
       "      <td>Cc1cc(F)ccc1C(C)Nc1nnc(C)c2cnc(N3CC(C)(O)C3)cc12</td>\n",
       "      <td>pocket_4</td>\n",
       "      <td>1.534,-35.549,-43.763</td>\n",
       "      <td>6.571416</td>\n",
       "    </tr>\n",
       "    <tr>\n",
       "      <th>877</th>\n",
       "      <td>7896</td>\n",
       "      <td>6scm</td>\n",
       "      <td></td>\n",
       "      <td>Cc1nnc(NC(C)c2cc(N)cc(C(F)(F)F)n2)c2cc(N3CC(C)...</td>\n",
       "      <td>pocket_4</td>\n",
       "      <td>1.534,-35.549,-43.763</td>\n",
       "      <td>6.963036</td>\n",
       "    </tr>\n",
       "    <tr>\n",
       "      <th>878</th>\n",
       "      <td>7902</td>\n",
       "      <td>6scm</td>\n",
       "      <td></td>\n",
       "      <td>Cc1nnc(NC(C)c2cc(F)cc(C#N)c2F)c2cc(N3CC(C)(N(C...</td>\n",
       "      <td>pocket_1</td>\n",
       "      <td>8.709,-24.923,-34.936</td>\n",
       "      <td>7.130466</td>\n",
       "    </tr>\n",
       "  </tbody>\n",
       "</table>\n",
       "<p>879 rows × 7 columns</p>\n",
       "</div>"
      ],
      "text/plain": [
       "     index protein_name compound_name  \\\n",
       "0        3         6scm                 \n",
       "1       12         6scm                 \n",
       "2       21         6scm                 \n",
       "3       30         6scm                 \n",
       "4       39         6scm                 \n",
       "..     ...          ...           ...   \n",
       "874   7869         6scm                 \n",
       "875   7878         6scm                 \n",
       "876   7887         6scm                 \n",
       "877   7896         6scm                 \n",
       "878   7902         6scm                 \n",
       "\n",
       "                                                smiles pocket_name  \\\n",
       "0    C[C@@H](NC(=O)c1cc(N2CCN(C(=O)C3CC3)CC2)nc2cc[...    pocket_4   \n",
       "1    C[C@@H](NC(=O)c1cc(N2CCN(C)CC2)nc2cn[nH]c12)c1...    pocket_4   \n",
       "2    CC(=O)N1C2CCC1CN(c1cc(C(=O)N[C@H](C)c3cccc(C(F...    pocket_4   \n",
       "3    CC(NC(=O)c1cc(N2CCN(C(=O)C3COC3)CC2)nc2cc[nH]c...    pocket_4   \n",
       "4    C[C@@H](NC(=O)c1cc(N2CCN(C)CC2)nc2cn[nH]c12)c1...    pocket_4   \n",
       "..                                                 ...         ...   \n",
       "874  Cc1nnc(NC(C)c2cc(N)cc(C(F)(F)F)n2)c2cc(N3CC4(C...    pocket_4   \n",
       "875  Cc1nnc(NC(C)c2cc(N)cc(C(F)(F)F)n2)c2cc(N3CC(C)...    pocket_4   \n",
       "876   Cc1cc(F)ccc1C(C)Nc1nnc(C)c2cnc(N3CC(C)(O)C3)cc12    pocket_4   \n",
       "877  Cc1nnc(NC(C)c2cc(N)cc(C(F)(F)F)n2)c2cc(N3CC(C)...    pocket_4   \n",
       "878  Cc1nnc(NC(C)c2cc(F)cc(C#N)c2F)c2cc(N3CC(C)(N(C...    pocket_1   \n",
       "\n",
       "                pocket_com  affinity  \n",
       "0    1.534,-35.549,-43.763  6.471038  \n",
       "1    1.534,-35.549,-43.763  6.071306  \n",
       "2    1.534,-35.549,-43.763  6.444242  \n",
       "3    1.534,-35.549,-43.763  6.428270  \n",
       "4    1.534,-35.549,-43.763  6.147758  \n",
       "..                     ...       ...  \n",
       "874  1.534,-35.549,-43.763  6.985334  \n",
       "875  1.534,-35.549,-43.763  6.722276  \n",
       "876  1.534,-35.549,-43.763  6.571416  \n",
       "877  1.534,-35.549,-43.763  6.963036  \n",
       "878  8.709,-24.923,-34.936  7.130466  \n",
       "\n",
       "[879 rows x 7 columns]"
      ]
     },
     "execution_count": 20,
     "metadata": {},
     "output_type": "execute_result"
    }
   ],
   "source": [
    "info = dataset.data\n",
    "info['affinity'] = affinity_pred_list\n",
    "chosen = info.loc[info.groupby(['protein_name', 'smiles'],sort=False)['affinity'].agg('idxmax')].reset_index()\n",
    "chosen"
   ]
  },
  {
   "cell_type": "code",
   "execution_count": 37,
   "id": "e22522ff-0a86-4c3c-94c9-35f405716ede",
   "metadata": {},
   "outputs": [
    {
     "data": {
      "text/plain": [
       "879"
      ]
     },
     "execution_count": 37,
     "metadata": {},
     "output_type": "execute_result"
    }
   ],
   "source": [
    "pocket_t = chosen['pocket_name']\n",
    "true_pocket = []\n",
    "for i in range(len(pocket_t)):\n",
    "    true_pocket.append(int(pocket_t[i][-1]))\n",
    "len(true_pocket)"
   ]
  },
  {
   "cell_type": "code",
   "execution_count": 43,
   "id": "02cdc922-d65e-4632-938a-65976f2d30fa",
   "metadata": {},
   "outputs": [
    {
     "data": {
      "text/plain": [
       "tensor([  9295.4238,  -6397.1343,   8877.8984,  12001.8965,  -3200.9712,\n",
       "          5210.3911,   1771.4196,  -6084.5264,  -1138.1833,   1329.8594,\n",
       "          8368.5391,   4685.1436,   8940.1250,   9255.3457,  -4021.5654,\n",
       "          9492.2266,   4106.1128,  -2385.1477,   6495.5859,   9367.0947,\n",
       "        -10212.4727,  13827.9043,  16982.5352,   5407.8398, -21032.1777,\n",
       "         -5942.8857,  39857.0703,   1898.2834,  -6788.2637,   7529.0029,\n",
       "          1860.2163,  13687.3379,  15557.8291,  -6218.5596,  -5210.7100,\n",
       "         14394.4102,  10942.0195,   3245.2822,  -1628.3281,   5156.6143,\n",
       "          1041.1738,   5240.5205,   4928.0508,  -4451.0439,  10087.9844,\n",
       "         -1577.9131,  21653.1445,   -130.2683,  15311.6416,   6461.1074,\n",
       "         -3016.7903,   4679.5742,   7791.4893,   5649.2788, -18524.9531,\n",
       "         -6317.3340,   2252.7473,   4429.5977,   6954.6211, -10627.3262,\n",
       "         -1011.8820,  -6526.2490,   -339.7821,  -7610.6899,  -4477.7842,\n",
       "          1152.9044,   1507.5054,  10109.8984,  -6429.8335,  -6937.3325,\n",
       "         -3809.4661,  11046.0488,   1254.8293,  -1330.7251,  -1692.1527,\n",
       "        -12741.1992,  -5233.4370,   1081.6353,   6525.1582,  10375.0371,\n",
       "          5759.8740, -10020.3877,  16310.1230,   1241.2852,  -4183.9961,\n",
       "          3366.1445, -11350.8105,  -3489.8901,   9032.4268,   3739.9736,\n",
       "          1707.2449,   8890.8574,   3172.6113,    159.4003,   1989.8157,\n",
       "         13049.7148,  10847.7920,   3801.3340,  11848.1270,  -8150.1465,\n",
       "          6309.4414,    878.4565,  -6245.6914,  -4807.3667,  -8737.0586,\n",
       "          -209.6371,  14206.9971,  33442.9336,  -7426.2646,  -6939.9629,\n",
       "          1597.2773,   3682.1135,   2202.8159, -57867.0391,  16222.3311,\n",
       "         -1947.0984,  -6641.6167,  -8819.2627,  -5588.3965,  10103.5596,\n",
       "         -5471.4116,   -167.6591,  -2263.7312,   3555.7754,  -3780.0986,\n",
       "          4376.5630,   8267.3867,  17367.9785])"
      ]
     },
     "execution_count": 43,
     "metadata": {},
     "output_type": "execute_result"
    }
   ],
   "source": [
    "sum_embed_t[-1][1]"
   ]
  },
  {
   "cell_type": "code",
   "execution_count": 41,
   "id": "ff63b051-d583-49cf-96c6-ee1703a52101",
   "metadata": {},
   "outputs": [
    {
     "name": "stderr",
     "output_type": "stream",
     "text": [
      "100%|██████████| 879/879 [01:03<00:00, 13.82it/s]\n"
     ]
    }
   ],
   "source": [
    "n = 0\n",
    "sum_embed_list = []\n",
    "z_list = []\n",
    "for data in tqdm(data_loader):\n",
    "    sum_embed_list.append(sum_embed_t[n][true_pocket[n]])  ##第四个口袋是真实口袋\n",
    "    z_list.append(attn_embed_t[n][true_pocket[n]])\n",
    "    n += 1"
   ]
  },
  {
   "cell_type": "code",
   "execution_count": 45,
   "id": "ed679154-0d3d-4e74-ba4a-2c11bd2d4cac",
   "metadata": {},
   "outputs": [
    {
     "data": {
      "text/plain": [
       "879"
      ]
     },
     "execution_count": 45,
     "metadata": {},
     "output_type": "execute_result"
    }
   ],
   "source": [
    "len(sum_embed_list)"
   ]
  },
  {
   "cell_type": "code",
   "execution_count": 20,
   "id": "1dfcc096-ee39-4c51-8aed-afe7b9f37442",
   "metadata": {},
   "outputs": [],
   "source": [
    "energy_list = []\n",
    "for _batch in batched_energy_list:\n",
    "    for item in _batch:\n",
    "        energy_list.append(item)"
   ]
  },
  {
   "cell_type": "code",
   "execution_count": 21,
   "id": "ef74f251-e66a-4d8d-8ff4-bda1fd1aa5af",
   "metadata": {},
   "outputs": [],
   "source": [
    "NCI_list = []\n",
    "num_list = []\n",
    "for p in info.iterrows():\n",
    "    sm = p[1][\"smiles\"]\n",
    "    #print(sm)\n",
    "    smiles = get_canonical_smiles(sm)\n",
    "    #print(smiles)\n",
    "    mol = Chem.MolFromSmiles(smiles)\n",
    "    \n",
    "    nci = []\n",
    "    for _atom in mol.GetAtoms():\n",
    "        if _atom.GetAtomicNum() in [7, 8]:\n",
    "            nci.append(_atom.GetIdx())\n",
    "    NCI_list.append(nci)\n",
    "    num_list.append(mol.GetNumHeavyAtoms())"
   ]
  },
  {
   "cell_type": "code",
   "execution_count": 22,
   "id": "ea2e686e-b8bc-4b3f-9ddd-ad40f857b5da",
   "metadata": {},
   "outputs": [],
   "source": [
    "nci_energy = []\n",
    "colsum_energy_list = [i.sum(axis=0) for i in energy_list]\n",
    "nci_energy_list = [colsum_energy_list[i][NCI_list[i]].sum() for i in range(len(colsum_energy_list))]"
   ]
  },
  {
   "cell_type": "code",
   "execution_count": 23,
   "id": "0fa979a7-921e-4cbb-baa0-36bfa8372aa6",
   "metadata": {},
   "outputs": [],
   "source": [
    "total_energy_list = [i.sum() for i in energy_list]"
   ]
  },
  {
   "cell_type": "code",
   "execution_count": 24,
   "id": "a8a13f08-c463-495f-984f-3933f03db729",
   "metadata": {},
   "outputs": [],
   "source": [
    "nci_energy_tensor = torch.tensor(nci_energy_list)\n",
    "total_energy_tensor = torch.tensor(total_energy_list)\n",
    "non_nci_energy_tensor = total_energy_tensor - nci_energy_tensor"
   ]
  },
  {
   "cell_type": "code",
   "execution_count": 25,
   "id": "a6b6a78e-f437-4745-8ab5-77d223c254c6",
   "metadata": {},
   "outputs": [],
   "source": [
    "bias = bias_list[0]\n",
    "outleaky = torch.nn.LeakyReLU()"
   ]
  },
  {
   "cell_type": "code",
   "execution_count": 26,
   "id": "8f76273a-f82a-4574-8313-3231b94d103e",
   "metadata": {},
   "outputs": [],
   "source": [
    "nci_affinity = outleaky(bias + nci_energy_tensor)\n",
    "non_nci_affinity = outleaky(bias + non_nci_energy_tensor)"
   ]
  },
  {
   "cell_type": "code",
   "execution_count": 27,
   "id": "792a3294-c030-4648-8e04-321477dd2b61",
   "metadata": {},
   "outputs": [
    {
     "data": {
      "text/plain": [
       "884"
      ]
     },
     "execution_count": 27,
     "metadata": {},
     "output_type": "execute_result"
    }
   ],
   "source": [
    "len(NCI_list)"
   ]
  },
  {
   "cell_type": "code",
   "execution_count": 28,
   "id": "cdd547ca-ceb7-46a5-8987-c592108a8125",
   "metadata": {},
   "outputs": [
    {
     "data": {
      "text/plain": [
       "884"
      ]
     },
     "execution_count": 28,
     "metadata": {},
     "output_type": "execute_result"
    }
   ],
   "source": [
    "len(num_list)"
   ]
  },
  {
   "cell_type": "code",
   "execution_count": 29,
   "id": "df8ef376-2673-4a17-aada-f9619429b5f8",
   "metadata": {},
   "outputs": [
    {
     "data": {
      "text/plain": [
       "tensor([31, 37, 33, 33, 35, 33, 36, 39, 34, 32, 32, 33, 32, 32, 36, 33, 32, 34,\n",
       "        33, 33, 33, 34, 31, 34, 35, 37, 36, 35, 35, 35, 32, 33, 35, 33, 34, 34,\n",
       "        35, 31, 33, 36, 35, 36, 33, 34, 33, 33, 35, 27, 33, 37, 34, 36, 36, 36,\n",
       "        32, 33, 37, 32, 36, 32, 33, 33, 34, 36, 35, 36, 34, 37])"
      ]
     },
     "execution_count": 29,
     "metadata": {},
     "output_type": "execute_result"
    }
   ],
   "source": [
    "tn = torch.tensor(num_list).reshape(-1,13)\n",
    "tn[:,0]"
   ]
  },
  {
   "cell_type": "code",
   "execution_count": 30,
   "id": "eff35a12-7055-4b54-a8a6-739a89e3ee97",
   "metadata": {},
   "outputs": [],
   "source": [
    "NCI_list_len = [len(i) for i in NCI_list]"
   ]
  },
  {
   "cell_type": "code",
   "execution_count": 31,
   "id": "926be29a-4fc1-4372-a55f-74acf5a33caa",
   "metadata": {},
   "outputs": [
    {
     "data": {
      "text/plain": [
       "tensor([ 9, 10,  9,  9,  9,  9, 11, 11,  9, 10,  8,  9,  9,  9, 10,  8, 10,  9,\n",
       "         9, 10, 10, 10,  8,  9,  9,  9, 10, 10, 10, 11, 10, 10, 10, 10, 10, 10,\n",
       "         9,  9,  8,  9,  9, 10,  9, 11,  9,  9,  9,  9,  9,  9,  8,  9,  9, 10,\n",
       "        10,  7,  9, 10,  9, 11, 10, 10, 10,  9, 10,  9,  9, 10])"
      ]
     },
     "execution_count": 31,
     "metadata": {},
     "output_type": "execute_result"
    }
   ],
   "source": [
    "tn2 = torch.tensor(NCI_list_len).reshape(-1,13)\n",
    "tn2[:,0]"
   ]
  },
  {
   "cell_type": "code",
   "execution_count": 32,
   "id": "14934ed8-5f9d-454a-812f-e0ea44ad676b",
   "metadata": {},
   "outputs": [
    {
     "data": {
      "text/plain": [
       "tensor([4.4871, 4.3222, 3.6824, 3.0328, 3.1113, 3.4379, 3.8686, 3.4857, 4.2289,\n",
       "        3.0035, 2.6052, 4.0969, 2.6545, 4.4308, 4.2480, 3.6955, 3.0790, 3.2350,\n",
       "        3.4425, 3.9682, 3.6418, 4.4179, 3.1332, 2.6347, 4.1597, 2.6353, 4.3755,\n",
       "        4.2572, 3.7249, 3.1071, 3.0821, 3.3934, 3.9567, 3.6845, 4.3059, 3.1558,\n",
       "        2.7154, 4.1784, 2.7137, 4.3834, 4.2850, 3.7195, 3.1029, 3.0974, 3.4078,\n",
       "        3.9780, 3.7040, 4.3494, 3.1293, 2.6924, 4.1884, 2.7214, 4.3616, 4.2823,\n",
       "        3.6613, 3.1395, 3.1044, 3.3390, 3.9319, 3.6237, 4.2687, 3.0564, 2.6752,\n",
       "        3.9428, 2.6709, 4.3054, 4.2273, 3.5727, 3.1446, 3.0566, 3.2861, 3.8605,\n",
       "        3.5717, 4.1625, 3.2849, 2.7676, 3.9550, 2.7281, 4.5260, 4.4467, 3.6806,\n",
       "        3.2929, 3.1791, 3.3055, 3.8960, 3.6392, 4.6069, 3.1243, 2.6505, 4.1628,\n",
       "        2.7306, 4.3977, 4.2543, 3.7105, 3.1091, 3.2445, 3.4640, 3.9495, 3.6201,\n",
       "        4.4283, 3.0604, 2.6685, 4.1824, 2.6525, 4.3001, 4.2767, 3.5536, 3.2220,\n",
       "        3.0441, 3.2693, 3.9653, 3.5263, 4.3746, 2.9319, 2.6086, 3.9205, 2.6508,\n",
       "        4.6010, 4.4383, 3.5339, 3.3083, 2.9966, 3.4131, 4.1744, 3.5256, 4.5982,\n",
       "        3.2429, 2.6476, 4.1423, 2.7161, 4.2727, 4.1771, 3.6395, 3.0982, 2.9884,\n",
       "        3.3182, 3.9553, 3.5925, 4.2214, 2.9964, 2.6799, 4.0012, 2.6321, 4.3366,\n",
       "        4.2601, 3.6770, 3.2047, 3.0663, 3.3763, 3.9331, 3.5853, 4.3123, 2.9656,\n",
       "        2.6341, 3.9661, 2.6790, 4.3682, 4.2443, 3.7175, 3.1760, 3.0133, 3.3289,\n",
       "        3.9674, 3.6194, 4.3553, 3.0114, 2.6699, 4.0292, 2.6652, 4.2218, 4.0739,\n",
       "        3.3928, 3.1913, 3.0033, 3.2073, 3.8926, 3.2939, 3.8272, 2.9645, 2.6779,\n",
       "        3.7167, 2.7713, 4.3537, 4.2509, 3.7037, 3.1456, 3.1800, 3.3475, 3.8929,\n",
       "        3.6100, 4.3787, 3.0583, 2.6517, 4.1032, 2.6643, 4.1916, 4.1157, 3.7105,\n",
       "        3.0241, 3.2346, 3.5010, 3.8479, 3.3849, 4.0817, 3.1644, 2.7720, 3.9314,\n",
       "        2.6457, 4.5601, 4.4203, 3.6663, 3.3092, 3.0694, 3.4049, 4.1421, 3.8258,\n",
       "        4.5541, 3.1401, 2.6590, 4.1282, 2.6775, 4.3286, 4.2332, 3.6362, 3.1745,\n",
       "        3.1659, 3.4354, 4.0617, 3.7126, 4.4191, 3.0160, 2.7016, 4.1401, 2.7058,\n",
       "        4.4554, 4.3432, 3.6725, 3.0931, 3.1351, 3.3836, 3.9140, 3.5237, 4.3041,\n",
       "        2.8980, 2.6552, 3.9940, 2.6945, 4.6710, 4.5071, 3.5239, 3.3178, 3.1036,\n",
       "        3.4401, 4.0789, 3.3995, 4.5364, 3.1118, 2.6015, 4.0731, 2.7631, 4.6296,\n",
       "        4.5472, 3.6222, 3.2166, 3.1154, 3.4464, 4.1504, 3.7311, 4.4372, 3.1759,\n",
       "        2.6948, 4.0944, 2.7554, 4.6471, 4.5226, 3.6516, 3.2979, 3.1652, 3.4379,\n",
       "        4.1136, 3.5573, 4.4959, 3.0455, 2.6192, 4.0251, 2.7613, 4.4338, 4.3293,\n",
       "        3.6977, 3.0338, 3.0910, 3.3459, 3.9489, 3.6998, 4.2789, 2.9342, 2.6312,\n",
       "        4.0483, 2.6264, 4.4113, 4.2955, 3.6743, 3.0941, 3.2336, 3.4380, 3.8822,\n",
       "        3.5405, 4.0807, 3.1264, 2.6622, 3.9544, 2.6968, 4.3667, 4.2528, 3.7825,\n",
       "        3.1158, 3.0578, 3.4310, 3.9836, 3.6667, 4.2424, 3.0542, 2.6775, 4.0999,\n",
       "        2.6955, 4.2896, 4.1978, 3.7422, 3.1431, 3.0842, 3.4156, 3.8550, 3.6551,\n",
       "        4.2289, 2.9682, 2.7081, 4.1183, 2.7877, 4.3861, 4.2853, 3.6685, 3.1498,\n",
       "        3.1877, 3.3522, 3.9024, 3.5995, 4.4131, 3.0705, 2.6744, 4.0819, 2.6688,\n",
       "        4.7071, 4.5589, 3.6510, 3.3029, 3.2401, 3.4225, 4.1272, 3.4903, 4.5162,\n",
       "        2.9825, 2.5998, 4.0061, 2.7656, 4.4084, 4.2552, 3.7003, 3.1489, 3.0518,\n",
       "        3.4247, 3.9638, 3.6418, 4.2675, 3.1457, 2.6966, 4.1275, 2.7165, 4.6276,\n",
       "        4.5053, 3.7826, 3.3661, 3.1716, 3.3947, 4.0693, 3.9103, 4.6783, 3.1799,\n",
       "        2.6435, 4.2858, 2.8124, 4.3744, 4.2542, 3.4243, 3.2624, 3.0389, 3.2756,\n",
       "        3.9227, 3.3592, 4.3340, 3.4204, 2.7696, 4.0074, 2.6472, 4.6432, 4.4965,\n",
       "        3.6217, 3.2461, 3.1476, 3.4403, 4.0697, 3.5554, 4.4845, 2.9920, 2.6089,\n",
       "        4.0209, 2.7512, 4.4387, 4.3037, 3.7860, 3.1837, 3.1431, 3.3650, 4.0318,\n",
       "        3.7414, 4.4131, 3.0194, 2.6506, 4.2592, 2.6928, 4.6232, 4.4016, 3.4959,\n",
       "        3.1974, 3.1250, 3.3586, 4.0906, 3.4889, 4.3193, 3.0835, 2.7181, 3.8571,\n",
       "        2.7029, 4.6115, 4.4370, 3.5488, 3.1542, 3.2016, 3.3217, 4.0783, 3.5191,\n",
       "        4.3589, 3.2577, 2.7173, 3.9603, 2.6964, 4.6170, 4.5108, 3.6551, 3.2655,\n",
       "        3.2092, 3.4701, 4.0626, 3.5608, 4.4763, 3.0234, 2.6284, 4.0543, 2.7919,\n",
       "        4.4009, 4.2590, 3.6815, 3.0847, 3.3229, 3.3292, 3.9911, 3.5147, 4.2093,\n",
       "        3.0914, 2.7014, 4.0146, 2.7483, 4.3417, 4.2276, 3.6155, 3.2910, 2.8881,\n",
       "        3.3426, 3.9612, 3.5429, 4.3552, 3.2860, 2.7461, 4.0437, 2.7187, 3.9769,\n",
       "        3.8906, 3.1638, 3.1106, 2.9551, 3.0600, 3.6800, 3.2661, 3.7190, 2.9224,\n",
       "        2.7296, 3.5324, 2.7702, 4.3898, 4.2838, 3.7846, 3.1032, 3.1595, 3.4666,\n",
       "        3.9268, 3.6051, 4.2801, 2.9353, 2.6634, 4.1190, 2.7228, 4.0603, 4.1074,\n",
       "        3.2988, 3.2076, 2.9336, 3.3413, 3.6780, 3.2950, 4.0676, 2.7492, 2.6737,\n",
       "        3.6783, 2.7831, 4.1431, 4.1924, 3.4304, 3.2475, 3.0832, 3.4094, 3.8752,\n",
       "        3.3695, 4.0467, 2.8239, 2.6941, 3.7870, 2.9608, 4.3200, 4.2670, 3.6804,\n",
       "        3.2020, 3.2860, 3.7102, 4.1199, 3.3834, 4.2536, 3.1404, 2.6890, 3.9967,\n",
       "        2.7497, 4.5919, 4.4798, 3.7878, 3.3438, 3.2705, 3.5856, 4.2247, 3.4633,\n",
       "        4.3642, 3.0792, 2.7842, 4.1560, 2.8309, 4.4157, 4.3379, 3.7868, 3.0884,\n",
       "        3.0312, 3.4143, 3.9685, 3.7448, 4.2767, 3.1658, 2.6831, 4.1489, 2.7016,\n",
       "        4.4693, 4.4529, 3.7082, 3.0847, 3.1647, 3.4828, 4.0803, 3.6916, 4.2969,\n",
       "        2.9332, 2.6143, 4.0760, 2.6938, 4.2706, 4.2107, 3.7865, 3.0361, 3.0839,\n",
       "        3.4274, 3.8834, 3.5925, 3.9987, 3.1259, 2.6924, 4.0225, 2.7691, 4.3637,\n",
       "        4.3685, 3.6937, 3.1664, 3.0079, 3.4602, 4.3051, 3.5460, 4.3634, 3.1687,\n",
       "        2.6769, 4.1268, 2.5576, 4.3706, 4.3021, 3.7735, 3.0886, 3.0050, 3.3548,\n",
       "        3.9198, 3.6942, 4.2044, 3.2491, 2.6922, 4.1436, 2.7050, 4.2104, 4.1676,\n",
       "        3.7513, 3.0496, 3.0951, 3.3937, 3.8020, 3.6084, 3.9335, 3.0433, 2.7519,\n",
       "        4.0274, 2.8427, 3.8039, 3.8580, 3.3753, 2.9741, 2.9570, 3.3098, 3.6640,\n",
       "        3.4300, 3.8242, 2.7915, 2.7210, 3.6433, 2.8044, 3.9854, 3.8482, 3.2224,\n",
       "        3.0411, 3.0718, 3.0673, 3.6912, 3.3586, 3.8287, 2.9956, 2.7448, 3.6472,\n",
       "        2.7659, 4.0413, 4.0074, 3.4791, 3.0689, 3.0817, 3.3198, 3.8327, 3.6669,\n",
       "        4.1662, 2.9270, 2.6579, 3.8639, 2.7481, 3.9845, 4.0094, 3.4326, 3.0469,\n",
       "        3.0856, 3.2440, 3.9410, 3.3447, 4.0478, 3.0195, 2.7530, 3.7537, 2.7359,\n",
       "        4.6519, 4.5495, 3.6387, 3.2750, 3.0657, 3.4088, 4.0953, 3.5741, 4.5147,\n",
       "        2.9965, 2.6128, 3.9935, 2.7286, 3.7466, 3.8102, 3.2781, 2.8820, 2.8657,\n",
       "        3.0506, 3.5967, 3.2874, 3.7651, 2.7065, 2.7022, 3.5221, 2.6529, 4.0376,\n",
       "        3.9754, 3.5933, 3.0489, 2.9923, 3.3224, 3.7273, 3.4205, 3.9984, 2.9336,\n",
       "        2.6023, 3.8622, 2.7420, 4.6337, 4.4399, 3.6551, 3.3119, 3.0631, 3.4395,\n",
       "        4.0927, 3.6561, 4.4254, 3.0878, 2.6820, 4.0132, 2.7713, 4.3538, 4.2408,\n",
       "        3.6818, 3.0949, 3.0614, 3.3879, 3.8730, 3.5855, 4.2717, 2.9486, 2.7280,\n",
       "        4.0691, 2.6961, 4.3535, 4.2687, 3.6693, 3.1623, 3.3016, 3.3770, 4.2617,\n",
       "        3.5747, 4.3053, 3.1270, 2.7578, 3.9340, 2.7278, 4.2527, 4.2536, 3.5501,\n",
       "        3.2684, 3.2202, 3.6191, 4.1448, 3.4847, 4.2689, 3.2228, 2.6362, 3.9692,\n",
       "        2.6763, 4.2529, 4.2639, 3.5337, 3.2627, 3.2158, 3.6206, 4.0983, 3.5095,\n",
       "        4.2497, 3.1954, 2.6942, 3.9755, 2.6965, 4.5647, 4.3830, 3.7079, 3.2566,\n",
       "        3.0697, 3.3556, 3.9745, 3.7732, 4.5661, 3.1370, 2.6246, 4.2909, 2.7561,\n",
       "        4.1571, 4.1583, 3.5099, 3.1889, 3.1305, 3.5051, 3.9521, 3.2726, 4.1592,\n",
       "        3.0853, 2.7089, 3.8747, 2.7121, 4.4115, 4.2907, 3.6770, 3.1241, 3.2129,\n",
       "        3.4156, 3.8981, 3.5845, 4.3853, 3.0472, 2.6614, 4.0616, 2.6411, 4.1610,\n",
       "        4.1656, 3.5825, 3.2006, 3.1561, 3.5052, 4.0136, 3.2998, 4.1824, 3.0675,\n",
       "        2.6256, 3.8905, 2.7182, 4.1963, 4.1602, 3.5812, 3.1869, 3.1436, 3.5085,\n",
       "        3.9731, 3.3459, 4.1901, 3.2145, 2.7804, 3.8986, 2.6976, 4.1870, 4.1827,\n",
       "        3.4899, 3.2309, 3.2369, 3.5025, 3.9286, 3.2915, 4.1679, 3.1580, 2.6766,\n",
       "        3.8631, 2.7096])"
      ]
     },
     "execution_count": 32,
     "metadata": {},
     "output_type": "execute_result"
    }
   ],
   "source": [
    "nci_affinity"
   ]
  },
  {
   "cell_type": "code",
   "execution_count": 33,
   "id": "59778e01",
   "metadata": {},
   "outputs": [],
   "source": [
    "info = dataset.data\n",
    "info['affinity'] = affinity_pred_list"
   ]
  },
  {
   "cell_type": "code",
   "execution_count": 34,
   "id": "13c3be02-9be2-42e3-8e82-9f55dc7ec289",
   "metadata": {},
   "outputs": [],
   "source": [
    "info['nci_affinity'] = nci_affinity\n",
    "info['non_nci_affinity'] = non_nci_affinity"
   ]
  },
  {
   "cell_type": "code",
   "execution_count": 35,
   "id": "12cc27e8-f517-4eab-89aa-82894502df63",
   "metadata": {},
   "outputs": [],
   "source": [
    "info_right_pocket = info[info[\"pocket_name\"]==right_pocket]\n",
    "info_right_pocket.to_csv(f\"{pre}/result_info_right_pocket.csv\")"
   ]
  },
  {
   "cell_type": "code",
   "execution_count": 36,
   "id": "45a149ec",
   "metadata": {},
   "outputs": [],
   "source": [
    "info.to_csv(f\"{pre}/result_info.csv\")"
   ]
  },
  {
   "cell_type": "code",
   "execution_count": 37,
   "id": "6ea973fc",
   "metadata": {},
   "outputs": [],
   "source": [
    "import matplotlib.pylab as plt\n",
    "%matplotlib inline"
   ]
  },
  {
   "cell_type": "code",
   "execution_count": 38,
   "id": "13608e91-3e2b-4d27-89d3-58523e88156a",
   "metadata": {},
   "outputs": [
    {
     "data": {
      "text/plain": [
       "14"
      ]
     },
     "execution_count": 38,
     "metadata": {},
     "output_type": "execute_result"
    }
   ],
   "source": [
    "ncichosen = info.loc[info.groupby(['protein_name', 'smiles'],sort=False)['nci_affinity'].agg('idxmax')].reset_index()\n",
    "len(ncichosen[ncichosen[\"pocket_name\"]==\"pocket_9\"])"
   ]
  },
  {
   "cell_type": "code",
   "execution_count": 39,
   "id": "31361fb1-dfdd-44cb-aab6-e0bd23f565f5",
   "metadata": {},
   "outputs": [
    {
     "data": {
      "text/plain": [
       "4"
      ]
     },
     "execution_count": 39,
     "metadata": {},
     "output_type": "execute_result"
    }
   ],
   "source": [
    "nonncichosen = info.loc[info.groupby(['protein_name', 'smiles'],sort=False)['non_nci_affinity'].agg('idxmax')].reset_index()\n",
    "len(ncichosen[nonncichosen[\"pocket_name\"]==\"pocket_2\"])"
   ]
  },
  {
   "cell_type": "code",
   "execution_count": 40,
   "id": "94e594c4-f116-4433-a099-6e3ab22678e5",
   "metadata": {},
   "outputs": [
    {
     "data": {
      "text/html": [
       "<div>\n",
       "<style scoped>\n",
       "    .dataframe tbody tr th:only-of-type {\n",
       "        vertical-align: middle;\n",
       "    }\n",
       "\n",
       "    .dataframe tbody tr th {\n",
       "        vertical-align: top;\n",
       "    }\n",
       "\n",
       "    .dataframe thead th {\n",
       "        text-align: right;\n",
       "    }\n",
       "</style>\n",
       "<table border=\"1\" class=\"dataframe\">\n",
       "  <thead>\n",
       "    <tr style=\"text-align: right;\">\n",
       "      <th></th>\n",
       "      <th>index</th>\n",
       "      <th>protein_name</th>\n",
       "      <th>compound_name</th>\n",
       "      <th>smiles</th>\n",
       "      <th>pocket_name</th>\n",
       "      <th>pocket_com</th>\n",
       "      <th>affinity</th>\n",
       "      <th>nci_affinity</th>\n",
       "      <th>non_nci_affinity</th>\n",
       "    </tr>\n",
       "  </thead>\n",
       "  <tbody>\n",
       "    <tr>\n",
       "      <th>0</th>\n",
       "      <td>0</td>\n",
       "      <td>7kac</td>\n",
       "      <td></td>\n",
       "      <td>CN1CCN(c2ccc(Nc3ncc(-c4ccnc(N)c4)nc3C(N)=O)cc2...</td>\n",
       "      <td>pocket_1</td>\n",
       "      <td>4.859,-57.458,-43.996</td>\n",
       "      <td>8.123730</td>\n",
       "      <td>4.487057</td>\n",
       "      <td>6.182545</td>\n",
       "    </tr>\n",
       "    <tr>\n",
       "      <th>1</th>\n",
       "      <td>13</td>\n",
       "      <td>7kac</td>\n",
       "      <td></td>\n",
       "      <td>CN(C)Cc1cc(Nc2ncc(-c3ccnc4[nH]ccc34)nc2C(N)=O)...</td>\n",
       "      <td>pocket_1</td>\n",
       "      <td>4.859,-57.458,-43.996</td>\n",
       "      <td>8.898894</td>\n",
       "      <td>4.430846</td>\n",
       "      <td>7.013921</td>\n",
       "    </tr>\n",
       "    <tr>\n",
       "      <th>2</th>\n",
       "      <td>26</td>\n",
       "      <td>7kac</td>\n",
       "      <td></td>\n",
       "      <td>CN1CCN(c2ccc(Nc3ncc(-c4ccnc5[nH]ccc45)nc3C(N)=...</td>\n",
       "      <td>pocket_1</td>\n",
       "      <td>4.859,-57.458,-43.996</td>\n",
       "      <td>8.909189</td>\n",
       "      <td>4.375490</td>\n",
       "      <td>7.079571</td>\n",
       "    </tr>\n",
       "    <tr>\n",
       "      <th>3</th>\n",
       "      <td>39</td>\n",
       "      <td>7kac</td>\n",
       "      <td></td>\n",
       "      <td>Cc1cc(Nc2ncc(-c3ccnc4[nH]ccc34)nc2C(N)=O)ccc1N...</td>\n",
       "      <td>pocket_1</td>\n",
       "      <td>4.859,-57.458,-43.996</td>\n",
       "      <td>8.928129</td>\n",
       "      <td>4.383424</td>\n",
       "      <td>7.090578</td>\n",
       "    </tr>\n",
       "    <tr>\n",
       "      <th>4</th>\n",
       "      <td>52</td>\n",
       "      <td>7kac</td>\n",
       "      <td></td>\n",
       "      <td>CN1C2CCC1CN(c1ccc(Nc3ncc(-c4ccnc5[nH]ccc45)nc3...</td>\n",
       "      <td>pocket_1</td>\n",
       "      <td>4.859,-57.458,-43.996</td>\n",
       "      <td>8.997917</td>\n",
       "      <td>4.361575</td>\n",
       "      <td>7.182215</td>\n",
       "    </tr>\n",
       "    <tr>\n",
       "      <th>5</th>\n",
       "      <td>65</td>\n",
       "      <td>7kac</td>\n",
       "      <td></td>\n",
       "      <td>NC(=O)c1nc(-c2ccnc3[nH]ccc23)cnc1Nc1ccc(N2CCC(...</td>\n",
       "      <td>pocket_1</td>\n",
       "      <td>4.859,-57.458,-43.996</td>\n",
       "      <td>8.634169</td>\n",
       "      <td>4.305429</td>\n",
       "      <td>6.874614</td>\n",
       "    </tr>\n",
       "    <tr>\n",
       "      <th>9</th>\n",
       "      <td>117</td>\n",
       "      <td>7kac</td>\n",
       "      <td></td>\n",
       "      <td>CN1CCN(c2ccc(Nc3cnc(-c4ccnc5[nH]ccc45)nc3C(N)=...</td>\n",
       "      <td>pocket_1</td>\n",
       "      <td>4.859,-57.458,-43.996</td>\n",
       "      <td>8.857726</td>\n",
       "      <td>4.601030</td>\n",
       "      <td>6.802568</td>\n",
       "    </tr>\n",
       "    <tr>\n",
       "      <th>10</th>\n",
       "      <td>130</td>\n",
       "      <td>7kac</td>\n",
       "      <td></td>\n",
       "      <td>CN1CCC(c2ccc(Nc3ncc(-c4ccnc5[nH]ccc45)nc3C(N)=...</td>\n",
       "      <td>pocket_1</td>\n",
       "      <td>4.859,-57.458,-43.996</td>\n",
       "      <td>8.614779</td>\n",
       "      <td>4.272735</td>\n",
       "      <td>6.887916</td>\n",
       "    </tr>\n",
       "    <tr>\n",
       "      <th>11</th>\n",
       "      <td>143</td>\n",
       "      <td>7kac</td>\n",
       "      <td></td>\n",
       "      <td>CNC1CCN(c2ccc(Nc3ncc(-c4ccnc5[nH]ccc45)nc3C(N)...</td>\n",
       "      <td>pocket_1</td>\n",
       "      <td>4.859,-57.458,-43.996</td>\n",
       "      <td>8.620049</td>\n",
       "      <td>4.336650</td>\n",
       "      <td>6.829270</td>\n",
       "    </tr>\n",
       "    <tr>\n",
       "      <th>12</th>\n",
       "      <td>156</td>\n",
       "      <td>7kac</td>\n",
       "      <td></td>\n",
       "      <td>CN1CCN(c2ccc(Nc3ncc(-c4ccnc5[nH]ccc45)nc3C(N)=...</td>\n",
       "      <td>pocket_1</td>\n",
       "      <td>4.859,-57.458,-43.996</td>\n",
       "      <td>8.619243</td>\n",
       "      <td>4.368167</td>\n",
       "      <td>6.796948</td>\n",
       "    </tr>\n",
       "    <tr>\n",
       "      <th>13</th>\n",
       "      <td>169</td>\n",
       "      <td>7kac</td>\n",
       "      <td></td>\n",
       "      <td>CN1CCN(c2ccc(Nc3ccc(-c4ccnc5[nH]ccc45)nc3C(N)=...</td>\n",
       "      <td>pocket_1</td>\n",
       "      <td>4.859,-57.458,-43.996</td>\n",
       "      <td>8.818550</td>\n",
       "      <td>4.221791</td>\n",
       "      <td>7.142632</td>\n",
       "    </tr>\n",
       "    <tr>\n",
       "      <th>15</th>\n",
       "      <td>195</td>\n",
       "      <td>7kac</td>\n",
       "      <td></td>\n",
       "      <td>CN1CCN(c2ccc(Nc3ncc(-c4cccc5[nH]ccc45)nc3C(N)=...</td>\n",
       "      <td>pocket_1</td>\n",
       "      <td>4.859,-57.458,-43.996</td>\n",
       "      <td>8.038018</td>\n",
       "      <td>4.191558</td>\n",
       "      <td>6.392332</td>\n",
       "    </tr>\n",
       "    <tr>\n",
       "      <th>16</th>\n",
       "      <td>208</td>\n",
       "      <td>7kac</td>\n",
       "      <td></td>\n",
       "      <td>CN1CCN(c2ccc(Nc3ncc(-c4ccnc5[nH]ccc45)nc3C(N)=...</td>\n",
       "      <td>pocket_1</td>\n",
       "      <td>4.859,-57.458,-43.996</td>\n",
       "      <td>8.762454</td>\n",
       "      <td>4.560084</td>\n",
       "      <td>6.748241</td>\n",
       "    </tr>\n",
       "    <tr>\n",
       "      <th>18</th>\n",
       "      <td>234</td>\n",
       "      <td>7kac</td>\n",
       "      <td></td>\n",
       "      <td>CN1CCN(c2ccc(Nc3ncc(-c4ccnc5c4ccn5C)nc3C(N)=O)...</td>\n",
       "      <td>pocket_1</td>\n",
       "      <td>4.859,-57.458,-43.996</td>\n",
       "      <td>8.545753</td>\n",
       "      <td>4.455357</td>\n",
       "      <td>6.636268</td>\n",
       "    </tr>\n",
       "    <tr>\n",
       "      <th>19</th>\n",
       "      <td>247</td>\n",
       "      <td>7kac</td>\n",
       "      <td></td>\n",
       "      <td>CN1CCN(c2ccc(Nc3cnc(-c4ccnc5c4ccn5C)nc3C(N)=O)...</td>\n",
       "      <td>pocket_1</td>\n",
       "      <td>4.859,-57.458,-43.996</td>\n",
       "      <td>8.950798</td>\n",
       "      <td>4.671000</td>\n",
       "      <td>6.825670</td>\n",
       "    </tr>\n",
       "    <tr>\n",
       "      <th>20</th>\n",
       "      <td>260</td>\n",
       "      <td>7kac</td>\n",
       "      <td></td>\n",
       "      <td>Cc1cnc2[nH]ccc2c1-c1cnc(Nc2ccc(N3CCN(C)CC3)nc2...</td>\n",
       "      <td>pocket_1</td>\n",
       "      <td>4.859,-57.458,-43.996</td>\n",
       "      <td>9.044092</td>\n",
       "      <td>4.629644</td>\n",
       "      <td>6.960320</td>\n",
       "    </tr>\n",
       "    <tr>\n",
       "      <th>21</th>\n",
       "      <td>273</td>\n",
       "      <td>7kac</td>\n",
       "      <td></td>\n",
       "      <td>CNC1CCN(c2ccc(Nc3ncc(-c4ccnc5c4ccn5C)nc3C(N)=O...</td>\n",
       "      <td>pocket_1</td>\n",
       "      <td>4.859,-57.458,-43.996</td>\n",
       "      <td>8.838993</td>\n",
       "      <td>4.647078</td>\n",
       "      <td>6.737787</td>\n",
       "    </tr>\n",
       "    <tr>\n",
       "      <th>22</th>\n",
       "      <td>286</td>\n",
       "      <td>7kac</td>\n",
       "      <td></td>\n",
       "      <td>CN1CCc2ccc(Nc3ncc(-c4ccnc5c4ccn5C)nc3C(N)=O)cc2C1</td>\n",
       "      <td>pocket_1</td>\n",
       "      <td>4.859,-57.458,-43.996</td>\n",
       "      <td>8.585316</td>\n",
       "      <td>4.433823</td>\n",
       "      <td>6.697366</td>\n",
       "    </tr>\n",
       "    <tr>\n",
       "      <th>23</th>\n",
       "      <td>299</td>\n",
       "      <td>7kac</td>\n",
       "      <td></td>\n",
       "      <td>NC(=O)c1nc(-c2ccnc3[nH]ccc23)cnc1Nc1ccc(N2CC3C...</td>\n",
       "      <td>pocket_1</td>\n",
       "      <td>4.859,-57.458,-43.996</td>\n",
       "      <td>8.583811</td>\n",
       "      <td>4.411267</td>\n",
       "      <td>6.718417</td>\n",
       "    </tr>\n",
       "    <tr>\n",
       "      <th>24</th>\n",
       "      <td>312</td>\n",
       "      <td>7kac</td>\n",
       "      <td></td>\n",
       "      <td>CN(C)Cc1cc(Nc2ncc(-c3ccnc4[nH]ccc34)nc2C(N)=O)...</td>\n",
       "      <td>pocket_1</td>\n",
       "      <td>4.859,-57.458,-43.996</td>\n",
       "      <td>8.960400</td>\n",
       "      <td>4.366669</td>\n",
       "      <td>7.139603</td>\n",
       "    </tr>\n",
       "    <tr>\n",
       "      <th>25</th>\n",
       "      <td>325</td>\n",
       "      <td>7kac</td>\n",
       "      <td></td>\n",
       "      <td>NC(=O)c1nc(-c2ccnc3[nH]ccc23)cnc1Nc1ccc(C2CCOC...</td>\n",
       "      <td>pocket_1</td>\n",
       "      <td>4.859,-57.458,-43.996</td>\n",
       "      <td>9.000686</td>\n",
       "      <td>4.289579</td>\n",
       "      <td>7.256979</td>\n",
       "    </tr>\n",
       "    <tr>\n",
       "      <th>27</th>\n",
       "      <td>351</td>\n",
       "      <td>7kac</td>\n",
       "      <td></td>\n",
       "      <td>CN1C2CCC1CN(c1ccc(Nc3ncc(-c4ccnc5c4ccn5C)nc3C(...</td>\n",
       "      <td>pocket_1</td>\n",
       "      <td>4.859,-57.458,-43.996</td>\n",
       "      <td>9.190441</td>\n",
       "      <td>4.707071</td>\n",
       "      <td>7.029243</td>\n",
       "    </tr>\n",
       "    <tr>\n",
       "      <th>28</th>\n",
       "      <td>364</td>\n",
       "      <td>7kac</td>\n",
       "      <td></td>\n",
       "      <td>CN(C)Cc1cc(Nc2ncc(-c3ccnc4[nH]ccc34)nc2C(N)=O)...</td>\n",
       "      <td>pocket_1</td>\n",
       "      <td>4.859,-57.458,-43.996</td>\n",
       "      <td>8.814379</td>\n",
       "      <td>4.408391</td>\n",
       "      <td>6.951859</td>\n",
       "    </tr>\n",
       "    <tr>\n",
       "      <th>30</th>\n",
       "      <td>390</td>\n",
       "      <td>7kac</td>\n",
       "      <td></td>\n",
       "      <td>NC(=O)c1nc(-c2ccnc3[nH]ccc23)ncc1Nc1ccc(C2(O)C...</td>\n",
       "      <td>pocket_1</td>\n",
       "      <td>4.859,-57.458,-43.996</td>\n",
       "      <td>8.413997</td>\n",
       "      <td>4.374446</td>\n",
       "      <td>6.585423</td>\n",
       "    </tr>\n",
       "    <tr>\n",
       "      <th>31</th>\n",
       "      <td>403</td>\n",
       "      <td>7kac</td>\n",
       "      <td></td>\n",
       "      <td>CN1CCN(c2ccc(Nc3ncc(-c4ccnc5c4ccn5C)nc3C(N)=O)...</td>\n",
       "      <td>pocket_1</td>\n",
       "      <td>4.859,-57.458,-43.996</td>\n",
       "      <td>8.822942</td>\n",
       "      <td>4.643218</td>\n",
       "      <td>6.725596</td>\n",
       "    </tr>\n",
       "    <tr>\n",
       "      <th>32</th>\n",
       "      <td>416</td>\n",
       "      <td>7kac</td>\n",
       "      <td></td>\n",
       "      <td>CN(C)Cc1cc(Nc2ncc(-c3ccnc4[nH]ccc34)nc2C(N)=O)...</td>\n",
       "      <td>pocket_1</td>\n",
       "      <td>4.859,-57.458,-43.996</td>\n",
       "      <td>8.948683</td>\n",
       "      <td>4.438745</td>\n",
       "      <td>7.055810</td>\n",
       "    </tr>\n",
       "    <tr>\n",
       "      <th>33</th>\n",
       "      <td>429</td>\n",
       "      <td>7kac</td>\n",
       "      <td></td>\n",
       "      <td>Cn1ccc2c(-c3cnc(Nc4ccc(N5CCC(O)CC5)nc4)c(C(N)=...</td>\n",
       "      <td>pocket_1</td>\n",
       "      <td>4.859,-57.458,-43.996</td>\n",
       "      <td>8.655549</td>\n",
       "      <td>4.623232</td>\n",
       "      <td>6.578190</td>\n",
       "    </tr>\n",
       "    <tr>\n",
       "      <th>34</th>\n",
       "      <td>442</td>\n",
       "      <td>7kac</td>\n",
       "      <td></td>\n",
       "      <td>Cn1ccc2c(-c3cnc(Nc4ccc(N5CCC(C)(O)CC5)nc4)c(C(...</td>\n",
       "      <td>pocket_1</td>\n",
       "      <td>4.859,-57.458,-43.996</td>\n",
       "      <td>8.602785</td>\n",
       "      <td>4.611541</td>\n",
       "      <td>6.537116</td>\n",
       "    </tr>\n",
       "    <tr>\n",
       "      <th>35</th>\n",
       "      <td>455</td>\n",
       "      <td>7kac</td>\n",
       "      <td></td>\n",
       "      <td>CCn1ccc2c(-c3cnc(Nc4ccc(N5CCN(C)CC5)nc4)c(C(N)...</td>\n",
       "      <td>pocket_1</td>\n",
       "      <td>4.859,-57.458,-43.996</td>\n",
       "      <td>8.825671</td>\n",
       "      <td>4.616986</td>\n",
       "      <td>6.754558</td>\n",
       "    </tr>\n",
       "    <tr>\n",
       "      <th>36</th>\n",
       "      <td>468</td>\n",
       "      <td>7kac</td>\n",
       "      <td></td>\n",
       "      <td>Cn1ccc2c(-c3cnc(Nc4ccc(N5CC6CCC(C5)N6)c(F)c4)c...</td>\n",
       "      <td>pocket_1</td>\n",
       "      <td>4.859,-57.458,-43.996</td>\n",
       "      <td>8.555993</td>\n",
       "      <td>4.400856</td>\n",
       "      <td>6.701011</td>\n",
       "    </tr>\n",
       "    <tr>\n",
       "      <th>38</th>\n",
       "      <td>494</td>\n",
       "      <td>7kac</td>\n",
       "      <td></td>\n",
       "      <td>CN1CCN(c2ccc(Nc3ccc(-c4ccnc5[nH]ccc45)c(F)c3C(...</td>\n",
       "      <td>pocket_1</td>\n",
       "      <td>4.859,-57.458,-43.996</td>\n",
       "      <td>9.086787</td>\n",
       "      <td>3.976878</td>\n",
       "      <td>7.655782</td>\n",
       "    </tr>\n",
       "    <tr>\n",
       "      <th>39</th>\n",
       "      <td>507</td>\n",
       "      <td>7kac</td>\n",
       "      <td></td>\n",
       "      <td>CN(C)Cc1cc(Nc2ncc(-c3ccnc4c3ccn4C)nc2C(N)=O)cc...</td>\n",
       "      <td>pocket_1</td>\n",
       "      <td>4.859,-57.458,-43.996</td>\n",
       "      <td>8.566477</td>\n",
       "      <td>4.389828</td>\n",
       "      <td>6.722522</td>\n",
       "    </tr>\n",
       "    <tr>\n",
       "      <th>42</th>\n",
       "      <td>546</td>\n",
       "      <td>7kac</td>\n",
       "      <td></td>\n",
       "      <td>CN1CCN(c2ccc(Nc3ncc(-c4cccc5c4ccn5C)nc3C(N)=O)...</td>\n",
       "      <td>pocket_1</td>\n",
       "      <td>4.859,-57.458,-43.996</td>\n",
       "      <td>8.091509</td>\n",
       "      <td>4.320029</td>\n",
       "      <td>6.317353</td>\n",
       "    </tr>\n",
       "    <tr>\n",
       "      <th>43</th>\n",
       "      <td>559</td>\n",
       "      <td>7kac</td>\n",
       "      <td></td>\n",
       "      <td>Cc1c(-c2cnc(Nc3ccc(N4CCN(C)CC4)nc3)c(C(N)=O)n2...</td>\n",
       "      <td>pocket_1</td>\n",
       "      <td>4.859,-57.458,-43.996</td>\n",
       "      <td>8.587676</td>\n",
       "      <td>4.591898</td>\n",
       "      <td>6.541649</td>\n",
       "    </tr>\n",
       "    <tr>\n",
       "      <th>44</th>\n",
       "      <td>572</td>\n",
       "      <td>7kac</td>\n",
       "      <td></td>\n",
       "      <td>Cc1cc(N2CCN(C)CC2)ccc1Nc1ncc(-c2ccnc3[nH]ccc23...</td>\n",
       "      <td>pocket_1</td>\n",
       "      <td>4.859,-57.458,-43.996</td>\n",
       "      <td>8.818047</td>\n",
       "      <td>4.415701</td>\n",
       "      <td>6.948217</td>\n",
       "    </tr>\n",
       "    <tr>\n",
       "      <th>45</th>\n",
       "      <td>585</td>\n",
       "      <td>7kac</td>\n",
       "      <td></td>\n",
       "      <td>CN1CCN(c2cccc(Nc3ncc(-c4ccnc5c4ccn5C)nc3C(N)=O...</td>\n",
       "      <td>pocket_1</td>\n",
       "      <td>4.859,-57.458,-43.996</td>\n",
       "      <td>8.338042</td>\n",
       "      <td>4.469328</td>\n",
       "      <td>6.414587</td>\n",
       "    </tr>\n",
       "    <tr>\n",
       "      <th>46</th>\n",
       "      <td>598</td>\n",
       "      <td>7kac</td>\n",
       "      <td></td>\n",
       "      <td>CN(C)Cc1cc(Nc2cnc(-c3ccnc4[nH]ccc34)nc2C(N)=O)...</td>\n",
       "      <td>pocket_1</td>\n",
       "      <td>4.859,-57.458,-43.996</td>\n",
       "      <td>8.826536</td>\n",
       "      <td>4.270615</td>\n",
       "      <td>7.101794</td>\n",
       "    </tr>\n",
       "    <tr>\n",
       "      <th>48</th>\n",
       "      <td>624</td>\n",
       "      <td>7kac</td>\n",
       "      <td></td>\n",
       "      <td>CN1CCN(c2ccc(Nc3ncc(-c4ccnc5[nH]ccc45)nc3C(N)=...</td>\n",
       "      <td>pocket_1</td>\n",
       "      <td>4.859,-57.458,-43.996</td>\n",
       "      <td>8.684924</td>\n",
       "      <td>4.370615</td>\n",
       "      <td>6.860181</td>\n",
       "    </tr>\n",
       "    <tr>\n",
       "      <th>49</th>\n",
       "      <td>637</td>\n",
       "      <td>7kac</td>\n",
       "      <td></td>\n",
       "      <td>NC(=O)c1nc(-c2ccnc3[nH]ccc23)ncc1Nc1ccc(C2CCOC...</td>\n",
       "      <td>pocket_1</td>\n",
       "      <td>4.859,-57.458,-43.996</td>\n",
       "      <td>8.803042</td>\n",
       "      <td>4.210389</td>\n",
       "      <td>7.138526</td>\n",
       "    </tr>\n",
       "    <tr>\n",
       "      <th>51</th>\n",
       "      <td>663</td>\n",
       "      <td>7kac</td>\n",
       "      <td></td>\n",
       "      <td>CN(C)Cc1nc(Nc2ccc(-c3ccnc4[nH]ccc34)c(F)c2C(N)...</td>\n",
       "      <td>pocket_1</td>\n",
       "      <td>4.859,-57.458,-43.996</td>\n",
       "      <td>9.123370</td>\n",
       "      <td>3.985356</td>\n",
       "      <td>7.683886</td>\n",
       "    </tr>\n",
       "    <tr>\n",
       "      <th>54</th>\n",
       "      <td>702</td>\n",
       "      <td>7kac</td>\n",
       "      <td></td>\n",
       "      <td>Cn1ccc2c(-c3cnc(Nc4ccc(N5CCNCC5)nc4)c(C(N)=O)n...</td>\n",
       "      <td>pocket_1</td>\n",
       "      <td>4.859,-57.458,-43.996</td>\n",
       "      <td>8.740831</td>\n",
       "      <td>4.651851</td>\n",
       "      <td>6.634853</td>\n",
       "    </tr>\n",
       "    <tr>\n",
       "      <th>56</th>\n",
       "      <td>728</td>\n",
       "      <td>7kac</td>\n",
       "      <td></td>\n",
       "      <td>COc1c(-c2ccnc3[nH]ccc23)cnc(Nc2ccc(C3CCOCC3)c(...</td>\n",
       "      <td>pocket_1</td>\n",
       "      <td>4.859,-57.458,-43.996</td>\n",
       "      <td>8.765996</td>\n",
       "      <td>4.037585</td>\n",
       "      <td>7.274283</td>\n",
       "    </tr>\n",
       "    <tr>\n",
       "      <th>57</th>\n",
       "      <td>741</td>\n",
       "      <td>7kac</td>\n",
       "      <td></td>\n",
       "      <td>Cn1ccc2c(-c3cnc(Nc4ccc(N5CCOCC5)nc4)c(C(N)=O)n...</td>\n",
       "      <td>pocket_1</td>\n",
       "      <td>4.859,-57.458,-43.996</td>\n",
       "      <td>8.772315</td>\n",
       "      <td>4.633737</td>\n",
       "      <td>6.684450</td>\n",
       "    </tr>\n",
       "    <tr>\n",
       "      <th>58</th>\n",
       "      <td>754</td>\n",
       "      <td>7kac</td>\n",
       "      <td></td>\n",
       "      <td>CN(C)Cc1cc(Nc2ncc(-c3ccnc4c3ccn4C)nc2C(N)=O)cc...</td>\n",
       "      <td>pocket_1</td>\n",
       "      <td>4.859,-57.458,-43.996</td>\n",
       "      <td>8.485350</td>\n",
       "      <td>4.353765</td>\n",
       "      <td>6.677458</td>\n",
       "    </tr>\n",
       "    <tr>\n",
       "      <th>59</th>\n",
       "      <td>767</td>\n",
       "      <td>7kac</td>\n",
       "      <td></td>\n",
       "      <td>CN1CCN(c2ccc(Nc3ncc(-c4cnc5cnccn45)nc3C(N)=O)c...</td>\n",
       "      <td>pocket_1</td>\n",
       "      <td>4.859,-57.458,-43.996</td>\n",
       "      <td>7.972460</td>\n",
       "      <td>4.353475</td>\n",
       "      <td>6.164857</td>\n",
       "    </tr>\n",
       "    <tr>\n",
       "      <th>64</th>\n",
       "      <td>832</td>\n",
       "      <td>7kac</td>\n",
       "      <td></td>\n",
       "      <td>CN(C)Cc1cc(Nc2ncc(-c3ccnc4[nH]ccc34)nc2C(N)=O)...</td>\n",
       "      <td>pocket_1</td>\n",
       "      <td>4.859,-57.458,-43.996</td>\n",
       "      <td>8.913071</td>\n",
       "      <td>4.411453</td>\n",
       "      <td>7.047490</td>\n",
       "    </tr>\n",
       "    <tr>\n",
       "      <th>66</th>\n",
       "      <td>858</td>\n",
       "      <td>7kac</td>\n",
       "      <td></td>\n",
       "      <td>CN1CCN(c2ccc(Nc3ncc(-c4cnc5cc(F)ccn45)nc3C(N)=...</td>\n",
       "      <td>pocket_1</td>\n",
       "      <td>4.859,-57.458,-43.996</td>\n",
       "      <td>7.860363</td>\n",
       "      <td>4.196264</td>\n",
       "      <td>6.209971</td>\n",
       "    </tr>\n",
       "    <tr>\n",
       "      <th>67</th>\n",
       "      <td>871</td>\n",
       "      <td>7kac</td>\n",
       "      <td></td>\n",
       "      <td>CN(C)Cc1cc(Nc2ncc(-c3cnc4cc(F)ccn34)nc2C(N)=O)...</td>\n",
       "      <td>pocket_1</td>\n",
       "      <td>4.859,-57.458,-43.996</td>\n",
       "      <td>7.835437</td>\n",
       "      <td>4.187047</td>\n",
       "      <td>6.194262</td>\n",
       "    </tr>\n",
       "  </tbody>\n",
       "</table>\n",
       "</div>"
      ],
      "text/plain": [
       "    index protein_name compound_name  \\\n",
       "0       0         7kac                 \n",
       "1      13         7kac                 \n",
       "2      26         7kac                 \n",
       "3      39         7kac                 \n",
       "4      52         7kac                 \n",
       "5      65         7kac                 \n",
       "9     117         7kac                 \n",
       "10    130         7kac                 \n",
       "11    143         7kac                 \n",
       "12    156         7kac                 \n",
       "13    169         7kac                 \n",
       "15    195         7kac                 \n",
       "16    208         7kac                 \n",
       "18    234         7kac                 \n",
       "19    247         7kac                 \n",
       "20    260         7kac                 \n",
       "21    273         7kac                 \n",
       "22    286         7kac                 \n",
       "23    299         7kac                 \n",
       "24    312         7kac                 \n",
       "25    325         7kac                 \n",
       "27    351         7kac                 \n",
       "28    364         7kac                 \n",
       "30    390         7kac                 \n",
       "31    403         7kac                 \n",
       "32    416         7kac                 \n",
       "33    429         7kac                 \n",
       "34    442         7kac                 \n",
       "35    455         7kac                 \n",
       "36    468         7kac                 \n",
       "38    494         7kac                 \n",
       "39    507         7kac                 \n",
       "42    546         7kac                 \n",
       "43    559         7kac                 \n",
       "44    572         7kac                 \n",
       "45    585         7kac                 \n",
       "46    598         7kac                 \n",
       "48    624         7kac                 \n",
       "49    637         7kac                 \n",
       "51    663         7kac                 \n",
       "54    702         7kac                 \n",
       "56    728         7kac                 \n",
       "57    741         7kac                 \n",
       "58    754         7kac                 \n",
       "59    767         7kac                 \n",
       "64    832         7kac                 \n",
       "66    858         7kac                 \n",
       "67    871         7kac                 \n",
       "\n",
       "                                               smiles pocket_name  \\\n",
       "0   CN1CCN(c2ccc(Nc3ncc(-c4ccnc(N)c4)nc3C(N)=O)cc2...    pocket_1   \n",
       "1   CN(C)Cc1cc(Nc2ncc(-c3ccnc4[nH]ccc34)nc2C(N)=O)...    pocket_1   \n",
       "2   CN1CCN(c2ccc(Nc3ncc(-c4ccnc5[nH]ccc45)nc3C(N)=...    pocket_1   \n",
       "3   Cc1cc(Nc2ncc(-c3ccnc4[nH]ccc34)nc2C(N)=O)ccc1N...    pocket_1   \n",
       "4   CN1C2CCC1CN(c1ccc(Nc3ncc(-c4ccnc5[nH]ccc45)nc3...    pocket_1   \n",
       "5   NC(=O)c1nc(-c2ccnc3[nH]ccc23)cnc1Nc1ccc(N2CCC(...    pocket_1   \n",
       "9   CN1CCN(c2ccc(Nc3cnc(-c4ccnc5[nH]ccc45)nc3C(N)=...    pocket_1   \n",
       "10  CN1CCC(c2ccc(Nc3ncc(-c4ccnc5[nH]ccc45)nc3C(N)=...    pocket_1   \n",
       "11  CNC1CCN(c2ccc(Nc3ncc(-c4ccnc5[nH]ccc45)nc3C(N)...    pocket_1   \n",
       "12  CN1CCN(c2ccc(Nc3ncc(-c4ccnc5[nH]ccc45)nc3C(N)=...    pocket_1   \n",
       "13  CN1CCN(c2ccc(Nc3ccc(-c4ccnc5[nH]ccc45)nc3C(N)=...    pocket_1   \n",
       "15  CN1CCN(c2ccc(Nc3ncc(-c4cccc5[nH]ccc45)nc3C(N)=...    pocket_1   \n",
       "16  CN1CCN(c2ccc(Nc3ncc(-c4ccnc5[nH]ccc45)nc3C(N)=...    pocket_1   \n",
       "18  CN1CCN(c2ccc(Nc3ncc(-c4ccnc5c4ccn5C)nc3C(N)=O)...    pocket_1   \n",
       "19  CN1CCN(c2ccc(Nc3cnc(-c4ccnc5c4ccn5C)nc3C(N)=O)...    pocket_1   \n",
       "20  Cc1cnc2[nH]ccc2c1-c1cnc(Nc2ccc(N3CCN(C)CC3)nc2...    pocket_1   \n",
       "21  CNC1CCN(c2ccc(Nc3ncc(-c4ccnc5c4ccn5C)nc3C(N)=O...    pocket_1   \n",
       "22  CN1CCc2ccc(Nc3ncc(-c4ccnc5c4ccn5C)nc3C(N)=O)cc2C1    pocket_1   \n",
       "23  NC(=O)c1nc(-c2ccnc3[nH]ccc23)cnc1Nc1ccc(N2CC3C...    pocket_1   \n",
       "24  CN(C)Cc1cc(Nc2ncc(-c3ccnc4[nH]ccc34)nc2C(N)=O)...    pocket_1   \n",
       "25  NC(=O)c1nc(-c2ccnc3[nH]ccc23)cnc1Nc1ccc(C2CCOC...    pocket_1   \n",
       "27  CN1C2CCC1CN(c1ccc(Nc3ncc(-c4ccnc5c4ccn5C)nc3C(...    pocket_1   \n",
       "28  CN(C)Cc1cc(Nc2ncc(-c3ccnc4[nH]ccc34)nc2C(N)=O)...    pocket_1   \n",
       "30  NC(=O)c1nc(-c2ccnc3[nH]ccc23)ncc1Nc1ccc(C2(O)C...    pocket_1   \n",
       "31  CN1CCN(c2ccc(Nc3ncc(-c4ccnc5c4ccn5C)nc3C(N)=O)...    pocket_1   \n",
       "32  CN(C)Cc1cc(Nc2ncc(-c3ccnc4[nH]ccc34)nc2C(N)=O)...    pocket_1   \n",
       "33  Cn1ccc2c(-c3cnc(Nc4ccc(N5CCC(O)CC5)nc4)c(C(N)=...    pocket_1   \n",
       "34  Cn1ccc2c(-c3cnc(Nc4ccc(N5CCC(C)(O)CC5)nc4)c(C(...    pocket_1   \n",
       "35  CCn1ccc2c(-c3cnc(Nc4ccc(N5CCN(C)CC5)nc4)c(C(N)...    pocket_1   \n",
       "36  Cn1ccc2c(-c3cnc(Nc4ccc(N5CC6CCC(C5)N6)c(F)c4)c...    pocket_1   \n",
       "38  CN1CCN(c2ccc(Nc3ccc(-c4ccnc5[nH]ccc45)c(F)c3C(...    pocket_1   \n",
       "39  CN(C)Cc1cc(Nc2ncc(-c3ccnc4c3ccn4C)nc2C(N)=O)cc...    pocket_1   \n",
       "42  CN1CCN(c2ccc(Nc3ncc(-c4cccc5c4ccn5C)nc3C(N)=O)...    pocket_1   \n",
       "43  Cc1c(-c2cnc(Nc3ccc(N4CCN(C)CC4)nc3)c(C(N)=O)n2...    pocket_1   \n",
       "44  Cc1cc(N2CCN(C)CC2)ccc1Nc1ncc(-c2ccnc3[nH]ccc23...    pocket_1   \n",
       "45  CN1CCN(c2cccc(Nc3ncc(-c4ccnc5c4ccn5C)nc3C(N)=O...    pocket_1   \n",
       "46  CN(C)Cc1cc(Nc2cnc(-c3ccnc4[nH]ccc34)nc2C(N)=O)...    pocket_1   \n",
       "48  CN1CCN(c2ccc(Nc3ncc(-c4ccnc5[nH]ccc45)nc3C(N)=...    pocket_1   \n",
       "49  NC(=O)c1nc(-c2ccnc3[nH]ccc23)ncc1Nc1ccc(C2CCOC...    pocket_1   \n",
       "51  CN(C)Cc1nc(Nc2ccc(-c3ccnc4[nH]ccc34)c(F)c2C(N)...    pocket_1   \n",
       "54  Cn1ccc2c(-c3cnc(Nc4ccc(N5CCNCC5)nc4)c(C(N)=O)n...    pocket_1   \n",
       "56  COc1c(-c2ccnc3[nH]ccc23)cnc(Nc2ccc(C3CCOCC3)c(...    pocket_1   \n",
       "57  Cn1ccc2c(-c3cnc(Nc4ccc(N5CCOCC5)nc4)c(C(N)=O)n...    pocket_1   \n",
       "58  CN(C)Cc1cc(Nc2ncc(-c3ccnc4c3ccn4C)nc2C(N)=O)cc...    pocket_1   \n",
       "59  CN1CCN(c2ccc(Nc3ncc(-c4cnc5cnccn45)nc3C(N)=O)c...    pocket_1   \n",
       "64  CN(C)Cc1cc(Nc2ncc(-c3ccnc4[nH]ccc34)nc2C(N)=O)...    pocket_1   \n",
       "66  CN1CCN(c2ccc(Nc3ncc(-c4cnc5cc(F)ccn45)nc3C(N)=...    pocket_1   \n",
       "67  CN(C)Cc1cc(Nc2ncc(-c3cnc4cc(F)ccn34)nc2C(N)=O)...    pocket_1   \n",
       "\n",
       "               pocket_com  affinity  nci_affinity  non_nci_affinity  \n",
       "0   4.859,-57.458,-43.996  8.123730      4.487057          6.182545  \n",
       "1   4.859,-57.458,-43.996  8.898894      4.430846          7.013921  \n",
       "2   4.859,-57.458,-43.996  8.909189      4.375490          7.079571  \n",
       "3   4.859,-57.458,-43.996  8.928129      4.383424          7.090578  \n",
       "4   4.859,-57.458,-43.996  8.997917      4.361575          7.182215  \n",
       "5   4.859,-57.458,-43.996  8.634169      4.305429          6.874614  \n",
       "9   4.859,-57.458,-43.996  8.857726      4.601030          6.802568  \n",
       "10  4.859,-57.458,-43.996  8.614779      4.272735          6.887916  \n",
       "11  4.859,-57.458,-43.996  8.620049      4.336650          6.829270  \n",
       "12  4.859,-57.458,-43.996  8.619243      4.368167          6.796948  \n",
       "13  4.859,-57.458,-43.996  8.818550      4.221791          7.142632  \n",
       "15  4.859,-57.458,-43.996  8.038018      4.191558          6.392332  \n",
       "16  4.859,-57.458,-43.996  8.762454      4.560084          6.748241  \n",
       "18  4.859,-57.458,-43.996  8.545753      4.455357          6.636268  \n",
       "19  4.859,-57.458,-43.996  8.950798      4.671000          6.825670  \n",
       "20  4.859,-57.458,-43.996  9.044092      4.629644          6.960320  \n",
       "21  4.859,-57.458,-43.996  8.838993      4.647078          6.737787  \n",
       "22  4.859,-57.458,-43.996  8.585316      4.433823          6.697366  \n",
       "23  4.859,-57.458,-43.996  8.583811      4.411267          6.718417  \n",
       "24  4.859,-57.458,-43.996  8.960400      4.366669          7.139603  \n",
       "25  4.859,-57.458,-43.996  9.000686      4.289579          7.256979  \n",
       "27  4.859,-57.458,-43.996  9.190441      4.707071          7.029243  \n",
       "28  4.859,-57.458,-43.996  8.814379      4.408391          6.951859  \n",
       "30  4.859,-57.458,-43.996  8.413997      4.374446          6.585423  \n",
       "31  4.859,-57.458,-43.996  8.822942      4.643218          6.725596  \n",
       "32  4.859,-57.458,-43.996  8.948683      4.438745          7.055810  \n",
       "33  4.859,-57.458,-43.996  8.655549      4.623232          6.578190  \n",
       "34  4.859,-57.458,-43.996  8.602785      4.611541          6.537116  \n",
       "35  4.859,-57.458,-43.996  8.825671      4.616986          6.754558  \n",
       "36  4.859,-57.458,-43.996  8.555993      4.400856          6.701011  \n",
       "38  4.859,-57.458,-43.996  9.086787      3.976878          7.655782  \n",
       "39  4.859,-57.458,-43.996  8.566477      4.389828          6.722522  \n",
       "42  4.859,-57.458,-43.996  8.091509      4.320029          6.317353  \n",
       "43  4.859,-57.458,-43.996  8.587676      4.591898          6.541649  \n",
       "44  4.859,-57.458,-43.996  8.818047      4.415701          6.948217  \n",
       "45  4.859,-57.458,-43.996  8.338042      4.469328          6.414587  \n",
       "46  4.859,-57.458,-43.996  8.826536      4.270615          7.101794  \n",
       "48  4.859,-57.458,-43.996  8.684924      4.370615          6.860181  \n",
       "49  4.859,-57.458,-43.996  8.803042      4.210389          7.138526  \n",
       "51  4.859,-57.458,-43.996  9.123370      3.985356          7.683886  \n",
       "54  4.859,-57.458,-43.996  8.740831      4.651851          6.634853  \n",
       "56  4.859,-57.458,-43.996  8.765996      4.037585          7.274283  \n",
       "57  4.859,-57.458,-43.996  8.772315      4.633737          6.684450  \n",
       "58  4.859,-57.458,-43.996  8.485350      4.353765          6.677458  \n",
       "59  4.859,-57.458,-43.996  7.972460      4.353475          6.164857  \n",
       "64  4.859,-57.458,-43.996  8.913071      4.411453          7.047490  \n",
       "66  4.859,-57.458,-43.996  7.860363      4.196264          6.209971  \n",
       "67  4.859,-57.458,-43.996  7.835437      4.187047          6.194262  "
      ]
     },
     "execution_count": 40,
     "metadata": {},
     "output_type": "execute_result"
    }
   ],
   "source": [
    "ncichosen = info.loc[info.groupby(['protein_name', 'smiles'],sort=False)['nci_affinity'].agg('idxmax')].reset_index()\n",
    "ncichosen[ncichosen[\"pocket_name\"]==\"pocket_1\"]"
   ]
  },
  {
   "cell_type": "code",
   "execution_count": 41,
   "id": "ab555b6c-ea45-4b9a-8cce-cf4ee23a8c02",
   "metadata": {},
   "outputs": [],
   "source": [
    "ncichosen.to_csv(f\"{pre}/result_chosen_NCI.csv\")"
   ]
  },
  {
   "cell_type": "code",
   "execution_count": 42,
   "id": "f13a99ae",
   "metadata": {},
   "outputs": [
    {
     "data": {
      "text/plain": [
       "array(['pocket_1', 'pocket_2'], dtype=object)"
      ]
     },
     "execution_count": 42,
     "metadata": {},
     "output_type": "execute_result"
    }
   ],
   "source": [
    "chosen = info.loc[info.groupby(['protein_name', 'smiles'],sort=False)['affinity'].agg('idxmax')].reset_index()\n",
    "chosen.pocket_name.unique()"
   ]
  },
  {
   "cell_type": "code",
   "execution_count": 43,
   "id": "49548350",
   "metadata": {},
   "outputs": [
    {
     "data": {
      "text/plain": [
       "<matplotlib.axes._subplots.AxesSubplot at 0x7f500c681370>"
      ]
     },
     "execution_count": 43,
     "metadata": {},
     "output_type": "execute_result"
    },
    {
     "data": {
      "image/png": "[encoded data removed]",
      "text/plain": [
       "<Figure size 432x288 with 1 Axes>"
      ]
     },
     "metadata": {
      "needs_background": "light"
     },
     "output_type": "display_data"
    }
   ],
   "source": [
    "chosen.affinity.hist()"
   ]
  },
  {
   "cell_type": "code",
   "execution_count": 44,
   "id": "20328763",
   "metadata": {},
   "outputs": [
    {
     "ename": "RuntimeError",
     "evalue": "Expected all tensors to be on the same device, but found at least two devices, cuda:0 and cpu! (when checking argument for argument index in method wrapper__index_select)",
     "output_type": "error",
     "traceback": [
      "\u001b[0;31m---------------------------------------------------------------------------\u001b[0m",
      "\u001b[0;31mRuntimeError\u001b[0m                              Traceback (most recent call last)",
      "Input \u001b[0;32mIn [44]\u001b[0m, in \u001b[0;36m<cell line: 10>\u001b[0;34m()\u001b[0m\n\u001b[1;32m      7\u001b[0m one_data \u001b[38;5;241m=\u001b[39m dataset[idx]\n\u001b[1;32m      8\u001b[0m data_with_batch_info \u001b[38;5;241m=\u001b[39m \u001b[38;5;28mnext\u001b[39m(\u001b[38;5;28miter\u001b[39m(DataLoader(dataset[idx:idx\u001b[38;5;241m+\u001b[39m\u001b[38;5;241m1\u001b[39m], batch_size\u001b[38;5;241m=\u001b[39m\u001b[38;5;241m1\u001b[39m, \n\u001b[1;32m      9\u001b[0m                          follow_batch\u001b[38;5;241m=\u001b[39m[\u001b[38;5;124m'\u001b[39m\u001b[38;5;124mx\u001b[39m\u001b[38;5;124m'\u001b[39m, \u001b[38;5;124m'\u001b[39m\u001b[38;5;124my\u001b[39m\u001b[38;5;124m'\u001b[39m, \u001b[38;5;124m'\u001b[39m\u001b[38;5;124mcompound_pair\u001b[39m\u001b[38;5;124m'\u001b[39m], shuffle\u001b[38;5;241m=\u001b[39m\u001b[38;5;28;01mFalse\u001b[39;00m, num_workers\u001b[38;5;241m=\u001b[39m\u001b[38;5;241m1\u001b[39m)))\n\u001b[0;32m---> 10\u001b[0m y_pred, affinity_pred \u001b[38;5;241m=\u001b[39m \u001b[43mmodel\u001b[49m\u001b[43m(\u001b[49m\u001b[43mdata_with_batch_info\u001b[49m\u001b[43m)\u001b[49m\n\u001b[1;32m     12\u001b[0m coords \u001b[38;5;241m=\u001b[39m one_data\u001b[38;5;241m.\u001b[39mcoords\u001b[38;5;241m.\u001b[39mto(device)\n\u001b[1;32m     13\u001b[0m protein_nodes_xyz \u001b[38;5;241m=\u001b[39m one_data\u001b[38;5;241m.\u001b[39mnode_xyz\u001b[38;5;241m.\u001b[39mto(device)\n",
      "File \u001b[0;32m/opt/conda/envs/tankbind_py38/lib/python3.8/site-packages/torch/nn/modules/module.py:1110\u001b[0m, in \u001b[0;36mModule._call_impl\u001b[0;34m(self, *input, **kwargs)\u001b[0m\n\u001b[1;32m   1106\u001b[0m \u001b[38;5;66;03m# If we don't have any hooks, we want to skip the rest of the logic in\u001b[39;00m\n\u001b[1;32m   1107\u001b[0m \u001b[38;5;66;03m# this function, and just call forward.\u001b[39;00m\n\u001b[1;32m   1108\u001b[0m \u001b[38;5;28;01mif\u001b[39;00m \u001b[38;5;129;01mnot\u001b[39;00m (\u001b[38;5;28mself\u001b[39m\u001b[38;5;241m.\u001b[39m_backward_hooks \u001b[38;5;129;01mor\u001b[39;00m \u001b[38;5;28mself\u001b[39m\u001b[38;5;241m.\u001b[39m_forward_hooks \u001b[38;5;129;01mor\u001b[39;00m \u001b[38;5;28mself\u001b[39m\u001b[38;5;241m.\u001b[39m_forward_pre_hooks \u001b[38;5;129;01mor\u001b[39;00m _global_backward_hooks\n\u001b[1;32m   1109\u001b[0m         \u001b[38;5;129;01mor\u001b[39;00m _global_forward_hooks \u001b[38;5;129;01mor\u001b[39;00m _global_forward_pre_hooks):\n\u001b[0;32m-> 1110\u001b[0m     \u001b[38;5;28;01mreturn\u001b[39;00m \u001b[43mforward_call\u001b[49m\u001b[43m(\u001b[49m\u001b[38;5;241;43m*\u001b[39;49m\u001b[38;5;28;43minput\u001b[39;49m\u001b[43m,\u001b[49m\u001b[43m \u001b[49m\u001b[38;5;241;43m*\u001b[39;49m\u001b[38;5;241;43m*\u001b[39;49m\u001b[43mkwargs\u001b[49m\u001b[43m)\u001b[49m\n\u001b[1;32m   1111\u001b[0m \u001b[38;5;66;03m# Do not call functions when jit is used\u001b[39;00m\n\u001b[1;32m   1112\u001b[0m full_backward_hooks, non_full_backward_hooks \u001b[38;5;241m=\u001b[39m [], []\n",
      "File \u001b[0;32m/home/jovyan/TankBind/examples/../tankbind/model.py:349\u001b[0m, in \u001b[0;36mIaBNet_with_affinity.forward\u001b[0;34m(self, data)\u001b[0m\n\u001b[1;32m    347\u001b[0m     edges \u001b[38;5;241m=\u001b[39m (data[(\u001b[38;5;124m\"\u001b[39m\u001b[38;5;124mprotein\u001b[39m\u001b[38;5;124m\"\u001b[39m, \u001b[38;5;124m\"\u001b[39m\u001b[38;5;124mp2p\u001b[39m\u001b[38;5;124m\"\u001b[39m, \u001b[38;5;124m\"\u001b[39m\u001b[38;5;124mprotein\u001b[39m\u001b[38;5;124m\"\u001b[39m)][\u001b[38;5;124m\"\u001b[39m\u001b[38;5;124medge_s\u001b[39m\u001b[38;5;124m\"\u001b[39m], data[(\u001b[38;5;124m\"\u001b[39m\u001b[38;5;124mprotein\u001b[39m\u001b[38;5;124m\"\u001b[39m, \u001b[38;5;124m\"\u001b[39m\u001b[38;5;124mp2p\u001b[39m\u001b[38;5;124m\"\u001b[39m, \u001b[38;5;124m\"\u001b[39m\u001b[38;5;124mprotein\u001b[39m\u001b[38;5;124m\"\u001b[39m)][\u001b[38;5;124m\"\u001b[39m\u001b[38;5;124medge_v\u001b[39m\u001b[38;5;124m\"\u001b[39m])\n\u001b[1;32m    348\u001b[0m     protein_batch \u001b[38;5;241m=\u001b[39m data[\u001b[38;5;124m'\u001b[39m\u001b[38;5;124mprotein\u001b[39m\u001b[38;5;124m'\u001b[39m]\u001b[38;5;241m.\u001b[39mbatch\n\u001b[0;32m--> 349\u001b[0m     protein_out \u001b[38;5;241m=\u001b[39m \u001b[38;5;28;43mself\u001b[39;49m\u001b[38;5;241;43m.\u001b[39;49m\u001b[43mconv_protein\u001b[49m\u001b[43m(\u001b[49m\u001b[43mnodes\u001b[49m\u001b[43m,\u001b[49m\u001b[43m \u001b[49m\u001b[43mdata\u001b[49m\u001b[43m[\u001b[49m\u001b[43m(\u001b[49m\u001b[38;5;124;43m\"\u001b[39;49m\u001b[38;5;124;43mprotein\u001b[39;49m\u001b[38;5;124;43m\"\u001b[39;49m\u001b[43m,\u001b[49m\u001b[43m \u001b[49m\u001b[38;5;124;43m\"\u001b[39;49m\u001b[38;5;124;43mp2p\u001b[39;49m\u001b[38;5;124;43m\"\u001b[39;49m\u001b[43m,\u001b[49m\u001b[43m \u001b[49m\u001b[38;5;124;43m\"\u001b[39;49m\u001b[38;5;124;43mprotein\u001b[39;49m\u001b[38;5;124;43m\"\u001b[39;49m\u001b[43m)\u001b[49m\u001b[43m]\u001b[49m\u001b[43m[\u001b[49m\u001b[38;5;124;43m\"\u001b[39;49m\u001b[38;5;124;43medge_index\u001b[39;49m\u001b[38;5;124;43m\"\u001b[39;49m\u001b[43m]\u001b[49m\u001b[43m,\u001b[49m\u001b[43m \u001b[49m\u001b[43medges\u001b[49m\u001b[43m,\u001b[49m\u001b[43m \u001b[49m\u001b[43mdata\u001b[49m\u001b[38;5;241;43m.\u001b[39;49m\u001b[43mseq\u001b[49m\u001b[43m)\u001b[49m\n\u001b[1;32m    351\u001b[0m \u001b[38;5;28;01mif\u001b[39;00m \u001b[38;5;28mself\u001b[39m\u001b[38;5;241m.\u001b[39mcompound_embed_mode \u001b[38;5;241m==\u001b[39m \u001b[38;5;241m0\u001b[39m:\n\u001b[1;32m    352\u001b[0m     compound_x \u001b[38;5;241m=\u001b[39m data[\u001b[38;5;124m'\u001b[39m\u001b[38;5;124mcompound\u001b[39m\u001b[38;5;124m'\u001b[39m]\u001b[38;5;241m.\u001b[39mx\u001b[38;5;241m.\u001b[39mfloat()\n",
      "File \u001b[0;32m/opt/conda/envs/tankbind_py38/lib/python3.8/site-packages/torch/nn/modules/module.py:1110\u001b[0m, in \u001b[0;36mModule._call_impl\u001b[0;34m(self, *input, **kwargs)\u001b[0m\n\u001b[1;32m   1106\u001b[0m \u001b[38;5;66;03m# If we don't have any hooks, we want to skip the rest of the logic in\u001b[39;00m\n\u001b[1;32m   1107\u001b[0m \u001b[38;5;66;03m# this function, and just call forward.\u001b[39;00m\n\u001b[1;32m   1108\u001b[0m \u001b[38;5;28;01mif\u001b[39;00m \u001b[38;5;129;01mnot\u001b[39;00m (\u001b[38;5;28mself\u001b[39m\u001b[38;5;241m.\u001b[39m_backward_hooks \u001b[38;5;129;01mor\u001b[39;00m \u001b[38;5;28mself\u001b[39m\u001b[38;5;241m.\u001b[39m_forward_hooks \u001b[38;5;129;01mor\u001b[39;00m \u001b[38;5;28mself\u001b[39m\u001b[38;5;241m.\u001b[39m_forward_pre_hooks \u001b[38;5;129;01mor\u001b[39;00m _global_backward_hooks\n\u001b[1;32m   1109\u001b[0m         \u001b[38;5;129;01mor\u001b[39;00m _global_forward_hooks \u001b[38;5;129;01mor\u001b[39;00m _global_forward_pre_hooks):\n\u001b[0;32m-> 1110\u001b[0m     \u001b[38;5;28;01mreturn\u001b[39;00m \u001b[43mforward_call\u001b[49m\u001b[43m(\u001b[49m\u001b[38;5;241;43m*\u001b[39;49m\u001b[38;5;28;43minput\u001b[39;49m\u001b[43m,\u001b[49m\u001b[43m \u001b[49m\u001b[38;5;241;43m*\u001b[39;49m\u001b[38;5;241;43m*\u001b[39;49m\u001b[43mkwargs\u001b[49m\u001b[43m)\u001b[49m\n\u001b[1;32m   1111\u001b[0m \u001b[38;5;66;03m# Do not call functions when jit is used\u001b[39;00m\n\u001b[1;32m   1112\u001b[0m full_backward_hooks, non_full_backward_hooks \u001b[38;5;241m=\u001b[39m [], []\n",
      "File \u001b[0;32m/home/jovyan/TankBind/examples/../tankbind/model.py:89\u001b[0m, in \u001b[0;36mGVP_embedding.forward\u001b[0;34m(self, h_V, edge_index, h_E, seq)\u001b[0m\n\u001b[1;32m     81\u001b[0m \u001b[38;5;28;01mdef\u001b[39;00m \u001b[38;5;21mforward\u001b[39m(\u001b[38;5;28mself\u001b[39m, h_V, edge_index, h_E, seq):      \n\u001b[1;32m     82\u001b[0m     \u001b[38;5;124;03m'''\u001b[39;00m\n\u001b[1;32m     83\u001b[0m \u001b[38;5;124;03m    :param h_V: tuple (s, V) of node embeddings\u001b[39;00m\n\u001b[1;32m     84\u001b[0m \u001b[38;5;124;03m    :param edge_index: `torch.Tensor` of shape [2, num_edges]\u001b[39;00m\n\u001b[0;32m   (...)\u001b[0m\n\u001b[1;32m     87\u001b[0m \u001b[38;5;124;03m                to be embedded and appended to `h_V`\u001b[39;00m\n\u001b[1;32m     88\u001b[0m \u001b[38;5;124;03m    '''\u001b[39;00m\n\u001b[0;32m---> 89\u001b[0m     seq \u001b[38;5;241m=\u001b[39m \u001b[38;5;28;43mself\u001b[39;49m\u001b[38;5;241;43m.\u001b[39;49m\u001b[43mW_s\u001b[49m\u001b[43m(\u001b[49m\u001b[43mseq\u001b[49m\u001b[43m)\u001b[49m\n\u001b[1;32m     90\u001b[0m     h_V \u001b[38;5;241m=\u001b[39m (torch\u001b[38;5;241m.\u001b[39mcat([h_V[\u001b[38;5;241m0\u001b[39m], seq], dim\u001b[38;5;241m=\u001b[39m\u001b[38;5;241m-\u001b[39m\u001b[38;5;241m1\u001b[39m), h_V[\u001b[38;5;241m1\u001b[39m])\n\u001b[1;32m     91\u001b[0m     h_V \u001b[38;5;241m=\u001b[39m \u001b[38;5;28mself\u001b[39m\u001b[38;5;241m.\u001b[39mW_v(h_V)\n",
      "File \u001b[0;32m/opt/conda/envs/tankbind_py38/lib/python3.8/site-packages/torch/nn/modules/module.py:1110\u001b[0m, in \u001b[0;36mModule._call_impl\u001b[0;34m(self, *input, **kwargs)\u001b[0m\n\u001b[1;32m   1106\u001b[0m \u001b[38;5;66;03m# If we don't have any hooks, we want to skip the rest of the logic in\u001b[39;00m\n\u001b[1;32m   1107\u001b[0m \u001b[38;5;66;03m# this function, and just call forward.\u001b[39;00m\n\u001b[1;32m   1108\u001b[0m \u001b[38;5;28;01mif\u001b[39;00m \u001b[38;5;129;01mnot\u001b[39;00m (\u001b[38;5;28mself\u001b[39m\u001b[38;5;241m.\u001b[39m_backward_hooks \u001b[38;5;129;01mor\u001b[39;00m \u001b[38;5;28mself\u001b[39m\u001b[38;5;241m.\u001b[39m_forward_hooks \u001b[38;5;129;01mor\u001b[39;00m \u001b[38;5;28mself\u001b[39m\u001b[38;5;241m.\u001b[39m_forward_pre_hooks \u001b[38;5;129;01mor\u001b[39;00m _global_backward_hooks\n\u001b[1;32m   1109\u001b[0m         \u001b[38;5;129;01mor\u001b[39;00m _global_forward_hooks \u001b[38;5;129;01mor\u001b[39;00m _global_forward_pre_hooks):\n\u001b[0;32m-> 1110\u001b[0m     \u001b[38;5;28;01mreturn\u001b[39;00m \u001b[43mforward_call\u001b[49m\u001b[43m(\u001b[49m\u001b[38;5;241;43m*\u001b[39;49m\u001b[38;5;28;43minput\u001b[39;49m\u001b[43m,\u001b[49m\u001b[43m \u001b[49m\u001b[38;5;241;43m*\u001b[39;49m\u001b[38;5;241;43m*\u001b[39;49m\u001b[43mkwargs\u001b[49m\u001b[43m)\u001b[49m\n\u001b[1;32m   1111\u001b[0m \u001b[38;5;66;03m# Do not call functions when jit is used\u001b[39;00m\n\u001b[1;32m   1112\u001b[0m full_backward_hooks, non_full_backward_hooks \u001b[38;5;241m=\u001b[39m [], []\n",
      "File \u001b[0;32m/opt/conda/envs/tankbind_py38/lib/python3.8/site-packages/torch/nn/modules/sparse.py:158\u001b[0m, in \u001b[0;36mEmbedding.forward\u001b[0;34m(self, input)\u001b[0m\n\u001b[1;32m    157\u001b[0m \u001b[38;5;28;01mdef\u001b[39;00m \u001b[38;5;21mforward\u001b[39m(\u001b[38;5;28mself\u001b[39m, \u001b[38;5;28minput\u001b[39m: Tensor) \u001b[38;5;241m-\u001b[39m\u001b[38;5;241m>\u001b[39m Tensor:\n\u001b[0;32m--> 158\u001b[0m     \u001b[38;5;28;01mreturn\u001b[39;00m \u001b[43mF\u001b[49m\u001b[38;5;241;43m.\u001b[39;49m\u001b[43membedding\u001b[49m\u001b[43m(\u001b[49m\n\u001b[1;32m    159\u001b[0m \u001b[43m        \u001b[49m\u001b[38;5;28;43minput\u001b[39;49m\u001b[43m,\u001b[49m\u001b[43m \u001b[49m\u001b[38;5;28;43mself\u001b[39;49m\u001b[38;5;241;43m.\u001b[39;49m\u001b[43mweight\u001b[49m\u001b[43m,\u001b[49m\u001b[43m \u001b[49m\u001b[38;5;28;43mself\u001b[39;49m\u001b[38;5;241;43m.\u001b[39;49m\u001b[43mpadding_idx\u001b[49m\u001b[43m,\u001b[49m\u001b[43m \u001b[49m\u001b[38;5;28;43mself\u001b[39;49m\u001b[38;5;241;43m.\u001b[39;49m\u001b[43mmax_norm\u001b[49m\u001b[43m,\u001b[49m\n\u001b[1;32m    160\u001b[0m \u001b[43m        \u001b[49m\u001b[38;5;28;43mself\u001b[39;49m\u001b[38;5;241;43m.\u001b[39;49m\u001b[43mnorm_type\u001b[49m\u001b[43m,\u001b[49m\u001b[43m \u001b[49m\u001b[38;5;28;43mself\u001b[39;49m\u001b[38;5;241;43m.\u001b[39;49m\u001b[43mscale_grad_by_freq\u001b[49m\u001b[43m,\u001b[49m\u001b[43m \u001b[49m\u001b[38;5;28;43mself\u001b[39;49m\u001b[38;5;241;43m.\u001b[39;49m\u001b[43msparse\u001b[49m\u001b[43m)\u001b[49m\n",
      "File \u001b[0;32m/opt/conda/envs/tankbind_py38/lib/python3.8/site-packages/torch/nn/functional.py:2183\u001b[0m, in \u001b[0;36membedding\u001b[0;34m(input, weight, padding_idx, max_norm, norm_type, scale_grad_by_freq, sparse)\u001b[0m\n\u001b[1;32m   2177\u001b[0m     \u001b[38;5;66;03m# Note [embedding_renorm set_grad_enabled]\u001b[39;00m\n\u001b[1;32m   2178\u001b[0m     \u001b[38;5;66;03m# XXX: equivalent to\u001b[39;00m\n\u001b[1;32m   2179\u001b[0m     \u001b[38;5;66;03m# with torch.no_grad():\u001b[39;00m\n\u001b[1;32m   2180\u001b[0m     \u001b[38;5;66;03m#   torch.embedding_renorm_\u001b[39;00m\n\u001b[1;32m   2181\u001b[0m     \u001b[38;5;66;03m# remove once script supports set_grad_enabled\u001b[39;00m\n\u001b[1;32m   2182\u001b[0m     _no_grad_embedding_renorm_(weight, \u001b[38;5;28minput\u001b[39m, max_norm, norm_type)\n\u001b[0;32m-> 2183\u001b[0m \u001b[38;5;28;01mreturn\u001b[39;00m \u001b[43mtorch\u001b[49m\u001b[38;5;241;43m.\u001b[39;49m\u001b[43membedding\u001b[49m\u001b[43m(\u001b[49m\u001b[43mweight\u001b[49m\u001b[43m,\u001b[49m\u001b[43m \u001b[49m\u001b[38;5;28;43minput\u001b[39;49m\u001b[43m,\u001b[49m\u001b[43m \u001b[49m\u001b[43mpadding_idx\u001b[49m\u001b[43m,\u001b[49m\u001b[43m \u001b[49m\u001b[43mscale_grad_by_freq\u001b[49m\u001b[43m,\u001b[49m\u001b[43m \u001b[49m\u001b[43msparse\u001b[49m\u001b[43m)\u001b[49m\n",
      "\u001b[0;31mRuntimeError\u001b[0m: Expected all tensors to be on the same device, but found at least two devices, cuda:0 and cpu! (when checking argument for argument index in method wrapper__index_select)"
     ]
    }
   ],
   "source": [
    "from generation_utils import get_LAS_distance_constraint_mask, get_info_pred_distance, write_with_new_coords\n",
    "# pick one with affinity greater than 7.\n",
    "chosen = info.loc[info.groupby(['protein_name', 'smiles'],sort=False)['affinity'].agg('idxmax')].reset_index()\n",
    "chosen = chosen.query(\"affinity > 7\").reset_index(drop=True)\n",
    "line = chosen.iloc[0]\n",
    "idx = line['index']\n",
    "one_data = dataset[idx]\n",
    "data_with_batch_info = next(iter(DataLoader(dataset[idx:idx+1], batch_size=1, \n",
    "                         follow_batch=['x', 'y', 'compound_pair'], shuffle=False, num_workers=1)))\n",
    "y_pred, affinity_pred = model(data_with_batch_info)\n",
    "\n",
    "coords = one_data.coords.to(device)\n",
    "protein_nodes_xyz = one_data.node_xyz.to(device)\n",
    "n_compound = coords.shape[0]\n",
    "n_protein = protein_nodes_xyz.shape[0]\n",
    "y_pred = y_pred.reshape(n_protein, n_compound).to(device).detach()\n",
    "y = one_data.dis_map.reshape(n_protein, n_compound).to(device)\n",
    "compound_pair_dis_constraint = torch.cdist(coords, coords)"
   ]
  },
  {
   "cell_type": "code",
   "execution_count": null,
   "id": "e0100c08",
   "metadata": {},
   "outputs": [],
   "source": [
    "smiles = line['smiles']\n",
    "print(smiles)\n",
    "mol = Chem.MolFromSmiles(smiles)\n",
    "mol.Compute2DCoords()\n",
    "LAS_distance_constraint_mask = get_LAS_distance_constraint_mask(mol).bool()\n",
    "info = get_info_pred_distance(coords, y_pred, protein_nodes_xyz, compound_pair_dis_constraint, \n",
    "                              LAS_distance_constraint_mask=LAS_distance_constraint_mask,\n",
    "                              n_repeat=1, show_progress=False)\n",
    "toFile = f'{base_pre}/one_tankbind.sdf'\n",
    "new_coords = info.sort_values(\"loss\")['coords'].iloc[0].astype(np.double)\n",
    "write_with_new_coords(mol, new_coords, toFile)"
   ]
  },
  {
   "cell_type": "code",
   "execution_count": null,
   "id": "7c604bce",
   "metadata": {},
   "outputs": [],
   "source": [
    "import nglview   # conda install nglview -c conda-forge if import failure\n",
    "\n",
    "proteinName = \"6dlo\"\n",
    "proteinFile = f\"{base_pre}/{proteinName}.pdb\"\n",
    "view = nglview.show_file(nglview.FileStructure(proteinFile), default=False)\n",
    "view.add_representation('cartoon', selection='protein', color='white')\n",
    "\n",
    "predictedFile = f'{base_pre}/one_tankbind.sdf'\n",
    "rdkit = view.add_component(nglview.FileStructure(predictedFile), default=False)\n",
    "rdkit.add_ball_and_stick(color='red')\n",
    "view"
   ]
  },
  {
   "cell_type": "code",
   "execution_count": null,
   "id": "6216d7de",
   "metadata": {},
   "outputs": [],
   "source": [
    "view.render_image()"
   ]
  },
  {
   "cell_type": "code",
   "execution_count": null,
   "id": "949e363e",
   "metadata": {},
   "outputs": [],
   "source": [
    "view._display_image()"
   ]
  },
  {
   "cell_type": "code",
   "execution_count": null,
   "id": "44c92045",
   "metadata": {},
   "outputs": [],
   "source": []
  },
  {
   "cell_type": "code",
   "execution_count": null,
   "id": "9d93aa48-5646-46d6-9e9b-86c0e9b26d2c",
   "metadata": {},
   "outputs": [],
   "source": []
  }
 ],
 "metadata": {
  "kernelspec": {
   "display_name": "Python [conda env:tankbind_py38]",
   "language": "python",
   "name": "conda-env-tankbind_py38-py"
  },
  "language_info": {
   "codemirror_mode": {
    "name": "ipython",
    "version": 3
   },
   "file_extension": ".py",
   "mimetype": "text/x-python",
   "name": "python",
   "nbconvert_exporter": "python",
   "pygments_lexer": "ipython3",
   "version": "3.8.13"
  }
 },
 "nbformat": 4,
 "nbformat_minor": 5
}
