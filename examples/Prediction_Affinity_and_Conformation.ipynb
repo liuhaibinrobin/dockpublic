{
 "cells": [
  {
   "cell_type": "markdown",
   "id": "25766f4b-323d-4388-8524-8c6868eeef26",
   "metadata": {
    "tags": []
   },
   "source": [
    "# README"
   ]
  },
  {
   "cell_type": "markdown",
   "id": "19a671df-eb53-4d03-ab77-ae7fabce4e19",
   "metadata": {
    "jp-MarkdownHeadingCollapsed": true,
    "tags": []
   },
   "source": [
    "#### 放置数据\n",
    "将 本笔记本 和 p2rank_2.3 文件夹置于 TankBind/example 下\n",
    "\n",
    "在 TankBind/example 下建立文件夹 inputs 文件夹\n",
    "\n",
    "在 input 文件夹中放入上一格提到的 .csv 文件和蛋白质对应的 .pdb 文件（同样的蛋白质文件/csv文件只用放一次）\n",
    "\n",
    "- .pdb 文件：名字格式为：`f\"{pdb_name}\".pdb`，此`pdb_name`参数在下文填充。例如：\"7kac.pdb\"\n",
    "\n",
    "- .csv 文件：列名为`id`和`smiles`，`id` 用于区分不同的 SMILES，可为任意值）\n",
    "\n",
    "#### 小分子构象文件\n",
    "生成的小分子构象文件中，若文件名\n",
    "- 包含 `_AfGv_` 字段，说明手动指定的口袋和由 TankBind 依据最高 Affinity 选择的口袋为同一口袋\n",
    "\n",
    "否则，将会分别生成：\n",
    "- 包含中间字段 `_Af_` 的构象：由 TankBind 选择的口袋\n",
    "- 包含中间字段 `_Gv_` 的构象：由`given_pocket`参数指定的口袋"
   ]
  },
  {
   "cell_type": "markdown",
   "id": "9b111110",
   "metadata": {
    "tags": []
   },
   "source": [
    "# Input\n"
   ]
  },
  {
   "cell_type": "markdown",
   "id": "eb0c92ee-0877-495e-883e-4ce9693063f6",
   "metadata": {},
   "source": [
    "`conf_by_chosen` 参数：若为 `True`，则 TankBind 会依据预测出的最高 Affinity 选择对应口袋并生成构象。\n",
    "\n",
    "`distinguish_by_timestamp` 参数：若为 `True`，则 输出文件夹名字会额外包含一个时间戳后缀。\n",
    "\n",
    "填完下边第一个框就可以直接跑了"
   ]
  },
  {
   "cell_type": "code",
   "execution_count": 1,
   "id": "71ed5bc4",
   "metadata": {},
   "outputs": [],
   "source": [
    "pdb_name = \"7kac\"\n",
    "cp_name = \"HPK14\" # Please remove the \"_\"\n",
    "csv_name = \"HPK14-ID-SMILES.csv\"  # Titles: \"id\", \"smiles\"\n",
    "\n",
    "given_pocket = 0\n",
    "given_pocket = \"pocket_1\" # or 0\n",
    "\n",
    "base_pre = f\"./PREDICTION\"\n",
    "\n",
    "conf_by_chosen = True\n",
    "# if false and \"given_pocket\" is 0, only the conformations relating to the given_pocket will be generated.\n",
    "\n",
    "distinguish_by_timestamp = True \n",
    "# if true, the output folder name will be suffiexed with a timestamp "
   ]
  },
  {
   "cell_type": "code",
   "execution_count": 2,
   "id": "f7f77398-dc6f-41cc-bbbc-6a4b8b9a166c",
   "metadata": {},
   "outputs": [],
   "source": [
    "if (given_pocket == 0) and (conf_by_chosen == False):\n",
    "    conf_by_chosen = True\n",
    "\n",
    "tankbind_src_folder_path = \"../tankbind/\"\n",
    "import sys\n",
    "sys.path.insert(0, tankbind_src_folder_path)\n",
    "from Bio.PDB.PDBList import PDBList   # pip install biopython if import failure\n",
    "import os\n",
    "import numpy as np\n",
    "import pandas as pd\n",
    "import time"
   ]
  },
  {
   "cell_type": "code",
   "execution_count": 3,
   "id": "0b543f6c-0a33-4e9f-9333-9904b3501326",
   "metadata": {},
   "outputs": [
    {
     "data": {
      "text/plain": [
       "0"
      ]
     },
     "execution_count": 3,
     "metadata": {},
     "output_type": "execute_result"
    }
   ],
   "source": [
    "if distinguish_by_timestamp:\n",
    "    timetag = time.strftime(\"%m%d%H%M\")\n",
    "    pre = f\"{base_pre}/{cp_name}-{pdb_name}-{timetag}\"\n",
    "else:\n",
    "    pre = f\"{base_pre}/{cp_name}-{pdb_name}\"\n",
    "pdir = f\"{pre}/PDBs/\"\n",
    "os.system(f\"mkdir -p {base_pre}\")\n",
    "os.system(f\"rm -rf {pre}/sdfs\")\n",
    "os.system(f\"mkdir -p {pre}/sdfs\")\n",
    "os.system(f\"rm -rf {pre}/PDBs\")\n",
    "os.system(f\"mkdir -p {pre}/PDBs\")\n",
    "os.system(f\"rm -rf {pre}/p2rank\")\n",
    "os.system(f\"mkdir -p {pre}/p2rank\")\n",
    "os.system(f\"cp ./inputs/{csv_name} {pre}\")\n",
    "os.system(f\"cp ./inputs/{pdb_name}.pdb {pre}\")"
   ]
  },
  {
   "cell_type": "code",
   "execution_count": 4,
   "id": "69112cee-8b38-4315-aa37-a9d0fc94ad71",
   "metadata": {},
   "outputs": [],
   "source": [
    "pdb = f'{pdb_name}'\n",
    "os.system(f\"mkdir -p {pdir}\")\n",
    "pdbl = PDBList()\n",
    "native_pdb = f\"{pre}/{pdb_name}.pdb\"\n",
    "\n",
    "from Bio.PDB import PDBParser\n",
    "parser = PDBParser(QUIET=True)\n",
    "s = parser.get_structure(pdb, native_pdb)\n",
    "\n"
   ]
  },
  {
   "cell_type": "code",
   "execution_count": 5,
   "id": "e9ee7a8a-0b0c-4fc8-8365-582affad84d6",
   "metadata": {},
   "outputs": [],
   "source": [
    "proteinFile = f\"{pre}/{pdb}.pdb\""
   ]
  },
  {
   "cell_type": "code",
   "execution_count": 6,
   "id": "7f60cc05-32e9-44f6-8d91-2edda86fb93f",
   "metadata": {},
   "outputs": [],
   "source": [
    "import rdkit.Chem as Chem\n",
    "from feature_utils import generate_sdf_from_smiles_using_rdkit"
   ]
  },
  {
   "cell_type": "code",
   "execution_count": 7,
   "id": "70faca1e-b25e-4b00-8f25-cbc1a4f89405",
   "metadata": {},
   "outputs": [],
   "source": [
    "input_dataframe = pd.read_csv(f'{pre}/{csv_name}')\n",
    "smilesdict = dict(zip(input_dataframe['id'], input_dataframe['smiles']))\n",
    "for _key in smilesdict.keys():\n",
    "    rdkitMolFile = f\"{pre}/sdfs/{pdb}_{_key}_mol_from_rdkit.sdf\"\n",
    "    shift_dis = 0   # for visual only, could be any number, shift the ligand away from the protein.\n",
    "    generate_sdf_from_smiles_using_rdkit(smilesdict[_key], rdkitMolFile, shift_dis=shift_dis)"
   ]
  },
  {
   "cell_type": "markdown",
   "id": "a15950de",
   "metadata": {},
   "source": [
    "# get protein feature"
   ]
  },
  {
   "cell_type": "code",
   "execution_count": 8,
   "id": "b9278895",
   "metadata": {},
   "outputs": [],
   "source": [
    "from feature_utils import get_protein_feature"
   ]
  },
  {
   "cell_type": "code",
   "execution_count": 9,
   "id": "ccfdcee6",
   "metadata": {},
   "outputs": [],
   "source": [
    "parser = PDBParser(QUIET=True)\n",
    "s = parser.get_structure(\"x\", proteinFile)\n",
    "res_list = list(s.get_residues())"
   ]
  },
  {
   "cell_type": "code",
   "execution_count": 10,
   "id": "a636d214",
   "metadata": {},
   "outputs": [],
   "source": [
    "protein_dict = {}\n",
    "protein_dict[pdb] = get_protein_feature(res_list)\n"
   ]
  },
  {
   "cell_type": "markdown",
   "id": "7c75c447",
   "metadata": {},
   "source": [
    "# get compound feature"
   ]
  },
  {
   "cell_type": "code",
   "execution_count": 11,
   "id": "c62d9a45",
   "metadata": {},
   "outputs": [],
   "source": [
    "from feature_utils import extract_torchdrug_feature_from_mol"
   ]
  },
  {
   "cell_type": "code",
   "execution_count": 12,
   "id": "fe8a5b49",
   "metadata": {},
   "outputs": [],
   "source": [
    "compound_dict = {}\n",
    "for ligandName in smilesdict.keys():\n",
    "    rdkitMolFile = f\"{pre}/sdfs/{pdb}_{ligandName}_mol_from_rdkit.sdf\"\n",
    "    mol = Chem.MolFromMolFile(rdkitMolFile)\n",
    "    compound_dict[pdb+f\"_{ligandName}\"+\"_rdkit\"] = extract_torchdrug_feature_from_mol(mol, has_LAS_mask=True)"
   ]
  },
  {
   "cell_type": "markdown",
   "id": "350f3094",
   "metadata": {},
   "source": [
    "# p2rank"
   ]
  },
  {
   "cell_type": "code",
   "execution_count": 13,
   "id": "ce0690c0",
   "metadata": {},
   "outputs": [],
   "source": [
    "pdb_list = [pdb]\n",
    "ds = f\"{pre}/protein_list.ds\"\n",
    "with open(ds, \"w\") as out:\n",
    "    for pdb in pdb_list:\n",
    "        out.write(f\"./{pdb}.pdb\\n\")\n"
   ]
  },
  {
   "cell_type": "code",
   "execution_count": 14,
   "id": "51ccb607",
   "metadata": {},
   "outputs": [
    {
     "name": "stdout",
     "output_type": "stream",
     "text": [
      "----------------------------------------------------------------------------------------------\n",
      " P2Rank 2.3\n",
      "----------------------------------------------------------------------------------------------\n",
      "\n",
      "predicting pockets for proteins from dataset [protein_list.ds]\n",
      "processing [7kac.pdb] (1/1)\n",
      "predicting pockets finished in 0 hours 0 minutes 10.391 seconds\n",
      "results saved to directory [/home/jovyan/TankBind/examples/PREDICTION/HPK14-7kac-07220904/p2rank]\n",
      "\n",
      "----------------------------------------------------------------------------------------------\n",
      " finished successfully in 0 hours 0 minutes 11.182 seconds\n",
      "----------------------------------------------------------------------------------------------\n"
     ]
    },
    {
     "data": {
      "text/plain": [
       "0"
      ]
     },
     "execution_count": 14,
     "metadata": {},
     "output_type": "execute_result"
    }
   ],
   "source": [
    "p2rank = \"bash ./p2rank_2.3/prank\"\n",
    "cmd = f\"{p2rank} predict {ds} -o {pre}/p2rank -threads 1\"\n",
    "os.system(cmd)"
   ]
  },
  {
   "cell_type": "raw",
   "id": "23eff815-9271-44b1-9643-5b4841d41e4f",
   "metadata": {},
   "source": [
    "pre"
   ]
  },
  {
   "cell_type": "code",
   "execution_count": 15,
   "id": "81517d71",
   "metadata": {},
   "outputs": [
    {
     "data": {
      "text/html": [
       "<div>\n",
       "<style scoped>\n",
       "    .dataframe tbody tr th:only-of-type {\n",
       "        vertical-align: middle;\n",
       "    }\n",
       "\n",
       "    .dataframe tbody tr th {\n",
       "        vertical-align: top;\n",
       "    }\n",
       "\n",
       "    .dataframe thead th {\n",
       "        text-align: right;\n",
       "    }\n",
       "</style>\n",
       "<table border=\"1\" class=\"dataframe\">\n",
       "  <thead>\n",
       "    <tr style=\"text-align: right;\">\n",
       "      <th></th>\n",
       "      <th>protein_name</th>\n",
       "      <th>compound_name</th>\n",
       "      <th>pocket_name</th>\n",
       "      <th>pocket_com</th>\n",
       "    </tr>\n",
       "  </thead>\n",
       "  <tbody>\n",
       "    <tr>\n",
       "      <th>0</th>\n",
       "      <td>7kac</td>\n",
       "      <td>7kac_HPK14-001_rdkit</td>\n",
       "      <td>protein_center</td>\n",
       "      <td>22.207,-63.269,-21.249</td>\n",
       "    </tr>\n",
       "    <tr>\n",
       "      <th>1</th>\n",
       "      <td>7kac</td>\n",
       "      <td>7kac_HPK14-001_rdkit</td>\n",
       "      <td>pocket_1</td>\n",
       "      <td>4.859,-57.458,-43.996</td>\n",
       "    </tr>\n",
       "    <tr>\n",
       "      <th>2</th>\n",
       "      <td>7kac</td>\n",
       "      <td>7kac_HPK14-001_rdkit</td>\n",
       "      <td>pocket_2</td>\n",
       "      <td>27.753,-82.781,-1.496</td>\n",
       "    </tr>\n",
       "    <tr>\n",
       "      <th>3</th>\n",
       "      <td>7kac</td>\n",
       "      <td>7kac_HPK14-001_rdkit</td>\n",
       "      <td>pocket_3</td>\n",
       "      <td>20.086,-94.025,-5.626</td>\n",
       "    </tr>\n",
       "    <tr>\n",
       "      <th>4</th>\n",
       "      <td>7kac</td>\n",
       "      <td>7kac_HPK14-001_rdkit</td>\n",
       "      <td>pocket_4</td>\n",
       "      <td>21.08,-56.429,-46.002</td>\n",
       "    </tr>\n",
       "    <tr>\n",
       "      <th>...</th>\n",
       "      <td>...</td>\n",
       "      <td>...</td>\n",
       "      <td>...</td>\n",
       "      <td>...</td>\n",
       "    </tr>\n",
       "    <tr>\n",
       "      <th>947</th>\n",
       "      <td>7kac</td>\n",
       "      <td>7kac_HPK14-068_rdkit</td>\n",
       "      <td>pocket_9</td>\n",
       "      <td>27.432,-83.485,-11.664</td>\n",
       "    </tr>\n",
       "    <tr>\n",
       "      <th>948</th>\n",
       "      <td>7kac</td>\n",
       "      <td>7kac_HPK14-068_rdkit</td>\n",
       "      <td>pocket_10</td>\n",
       "      <td>20.464,-61.454,-27.098</td>\n",
       "    </tr>\n",
       "    <tr>\n",
       "      <th>949</th>\n",
       "      <td>7kac</td>\n",
       "      <td>7kac_HPK14-068_rdkit</td>\n",
       "      <td>pocket_11</td>\n",
       "      <td>28.164,-56.3,-21.221</td>\n",
       "    </tr>\n",
       "    <tr>\n",
       "      <th>950</th>\n",
       "      <td>7kac</td>\n",
       "      <td>7kac_HPK14-068_rdkit</td>\n",
       "      <td>pocket_12</td>\n",
       "      <td>34.073,-94.837,-5.136</td>\n",
       "    </tr>\n",
       "    <tr>\n",
       "      <th>951</th>\n",
       "      <td>7kac</td>\n",
       "      <td>7kac_HPK14-068_rdkit</td>\n",
       "      <td>pocket_13</td>\n",
       "      <td>27.773,-57.406,-4.392</td>\n",
       "    </tr>\n",
       "  </tbody>\n",
       "</table>\n",
       "<p>952 rows × 4 columns</p>\n",
       "</div>"
      ],
      "text/plain": [
       "    protein_name         compound_name     pocket_name              pocket_com\n",
       "0           7kac  7kac_HPK14-001_rdkit  protein_center  22.207,-63.269,-21.249\n",
       "1           7kac  7kac_HPK14-001_rdkit        pocket_1   4.859,-57.458,-43.996\n",
       "2           7kac  7kac_HPK14-001_rdkit        pocket_2   27.753,-82.781,-1.496\n",
       "3           7kac  7kac_HPK14-001_rdkit        pocket_3   20.086,-94.025,-5.626\n",
       "4           7kac  7kac_HPK14-001_rdkit        pocket_4   21.08,-56.429,-46.002\n",
       "..           ...                   ...             ...                     ...\n",
       "947         7kac  7kac_HPK14-068_rdkit        pocket_9  27.432,-83.485,-11.664\n",
       "948         7kac  7kac_HPK14-068_rdkit       pocket_10  20.464,-61.454,-27.098\n",
       "949         7kac  7kac_HPK14-068_rdkit       pocket_11    28.164,-56.3,-21.221\n",
       "950         7kac  7kac_HPK14-068_rdkit       pocket_12   34.073,-94.837,-5.136\n",
       "951         7kac  7kac_HPK14-068_rdkit       pocket_13   27.773,-57.406,-4.392\n",
       "\n",
       "[952 rows x 4 columns]"
      ]
     },
     "execution_count": 15,
     "metadata": {},
     "output_type": "execute_result"
    }
   ],
   "source": [
    "info = []\n",
    "for pdb in pdb_list:\n",
    "    for compound_name in list(compound_dict.keys()):\n",
    "        # use protein center as the block center.\n",
    "        com = \",\".join([str(a.round(3)) for a in protein_dict[pdb][0].mean(axis=0).numpy()])\n",
    "        info.append([pdb, compound_name, \"protein_center\", com])\n",
    "\n",
    "        p2rankFile = f\"{pre}/p2rank/{pdb}.pdb_predictions.csv\"\n",
    "        pocket = pd.read_csv(p2rankFile)\n",
    "        pocket.columns = pocket.columns.str.strip()\n",
    "        pocket_coms = pocket[['center_x', 'center_y', 'center_z']].values\n",
    "        for ith_pocket, com in enumerate(pocket_coms):\n",
    "            com = \",\".join([str(a.round(3)) for a in com])\n",
    "            info.append([pdb, compound_name, f\"pocket_{ith_pocket+1}\", com])\n",
    "info = pd.DataFrame(info, columns=['protein_name', 'compound_name', 'pocket_name', 'pocket_com'])\n",
    "info"
   ]
  },
  {
   "cell_type": "code",
   "execution_count": 16,
   "id": "fc7e811d-7809-49fb-8417-05ad02e75639",
   "metadata": {},
   "outputs": [],
   "source": [
    "p2rankFile = \"PREDICTION/HPK14-7kac/p2rank/7kac.pdb_predictions.csv\"\n",
    "pocket = pd.read_csv(p2rankFile)"
   ]
  },
  {
   "cell_type": "markdown",
   "id": "10a2df6d",
   "metadata": {},
   "source": [
    "# construct dataset"
   ]
  },
  {
   "cell_type": "code",
   "execution_count": 17,
   "id": "5b6db20c",
   "metadata": {},
   "outputs": [],
   "source": [
    "import torch\n",
    "torch.set_num_threads(1)"
   ]
  },
  {
   "cell_type": "code",
   "execution_count": 18,
   "id": "70e69824",
   "metadata": {},
   "outputs": [],
   "source": [
    "from data import TankBind_prediction"
   ]
  },
  {
   "cell_type": "code",
   "execution_count": 19,
   "id": "441fadc7",
   "metadata": {},
   "outputs": [
    {
     "name": "stderr",
     "output_type": "stream",
     "text": [
      "rm: cannot remove './PREDICTION/HPK14-7kac-07220904/7kac_dataset/': No such file or directory\n",
      "Processing...\n",
      "Done!\n"
     ]
    },
    {
     "name": "stdout",
     "output_type": "stream",
     "text": [
      "['PREDICTION/HPK14-7kac-07220904/7kac_dataset/processed/data.pt', 'PREDICTION/HPK14-7kac-07220904/7kac_dataset/processed/protein.pt', 'PREDICTION/HPK14-7kac-07220904/7kac_dataset/processed/compound.pt']\n"
     ]
    }
   ],
   "source": [
    "dataset_path = f\"{pre}/{pdb}_dataset/\"\n",
    "os.system(f\"rm -r {dataset_path}\")\n",
    "os.system(f\"mkdir -p {dataset_path}\")\n",
    "dataset = TankBind_prediction(dataset_path, data=info, protein_dict=protein_dict, compound_dict=compound_dict)"
   ]
  },
  {
   "cell_type": "code",
   "execution_count": 20,
   "id": "87f7d3df",
   "metadata": {},
   "outputs": [
    {
     "name": "stdout",
     "output_type": "stream",
     "text": [
      "['PREDICTION/HPK14-7kac-07220904/7kac_dataset/processed/data.pt', 'PREDICTION/HPK14-7kac-07220904/7kac_dataset/processed/protein.pt', 'PREDICTION/HPK14-7kac-07220904/7kac_dataset/processed/compound.pt']\n"
     ]
    }
   ],
   "source": [
    "dataset_path = f\"{pre}/{pdb}_dataset/\"\n",
    "dataset = TankBind_prediction(dataset_path)"
   ]
  },
  {
   "cell_type": "code",
   "execution_count": 21,
   "id": "be2d6529",
   "metadata": {},
   "outputs": [],
   "source": [
    "import logging\n",
    "from torch_geometric.loader import DataLoader\n",
    "from tqdm import tqdm    # pip install tqdm if fails.\n",
    "from model import get_model\n",
    "# from utils import *"
   ]
  },
  {
   "cell_type": "code",
   "execution_count": 22,
   "id": "3b0cb143",
   "metadata": {},
   "outputs": [
    {
     "name": "stdout",
     "output_type": "stream",
     "text": [
      "09:05:04   5 stack, readout2, pred dis map add self attention and GVP embed, compound model GIN\n",
      "Parameter containing:\n",
      "tensor([1.], requires_grad=True)\n"
     ]
    },
    {
     "name": "stderr",
     "output_type": "stream",
     "text": [
      "100%|██████████| 191/191 [00:12<00:00, 15.14it/s]\n"
     ]
    }
   ],
   "source": [
    "batch_size = 5\n",
    "device = 'cuda' if torch.cuda.is_available() else 'cpu'\n",
    "logging.basicConfig(level=logging.INFO)\n",
    "model = get_model(0, logging, device)\n",
    "# re-dock model\n",
    "# modelFile = \"../saved_models/re_dock.pt\"\n",
    "# self-dock model\n",
    "modelFile = \"../saved_models/self_dock.pt\"\n",
    "\n",
    "model.load_state_dict(torch.load(modelFile, map_location=device))\n",
    "_ = model.eval()\n",
    "\n",
    "data_loader = DataLoader(dataset, batch_size=batch_size, follow_batch=['x', 'y', 'compound_pair'], shuffle=False, num_workers=8)\n",
    "affinity_pred_list = []\n",
    "y_pred_list = []\n",
    "for data in tqdm(data_loader):\n",
    "    data = data.to(device)\n",
    "    y_pred, affinity_pred = model(data)\n",
    "    affinity_pred_list.append(affinity_pred.detach().cpu())\n",
    "    for i in range(data.y_batch.max() + 1):\n",
    "        y_pred_list.append((y_pred[data['y_batch'] == i]).detach().cpu())\n",
    "\n",
    "affinity_pred_list = torch.cat(affinity_pred_list)"
   ]
  },
  {
   "cell_type": "code",
   "execution_count": 23,
   "id": "60fd3375",
   "metadata": {},
   "outputs": [],
   "source": [
    "info = dataset.data\n",
    "info['affinity'] = affinity_pred_list"
   ]
  },
  {
   "cell_type": "code",
   "execution_count": 24,
   "id": "6d103c25",
   "metadata": {},
   "outputs": [],
   "source": [
    "info.to_csv(f\"{pre}/result_info_all.csv\")"
   ]
  },
  {
   "cell_type": "code",
   "execution_count": 25,
   "id": "d1d3054d",
   "metadata": {},
   "outputs": [],
   "source": [
    "chosen = info.loc[info.groupby(['protein_name', 'compound_name'],sort=False)['affinity'].agg('idxmax')].reset_index()\n",
    "chosen.to_csv(f\"{pre}/result_chosen_by_affinity.csv\")"
   ]
  },
  {
   "cell_type": "code",
   "execution_count": 26,
   "id": "8cda8c7b-a65d-46d1-882e-10be9112919d",
   "metadata": {},
   "outputs": [],
   "source": [
    "if given_pocket:\n",
    "    info_right_pocket = info[info[\"pocket_name\"]==given_pocket].reset_index()\n",
    "    info_right_pocket.to_csv(f\"{pre}/result_given_pocket.csv\")"
   ]
  },
  {
   "cell_type": "markdown",
   "id": "25bd3c9d",
   "metadata": {
    "tags": []
   },
   "source": [
    "# from predicted interaction distance map to sdf"
   ]
  },
  {
   "cell_type": "code",
   "execution_count": 27,
   "id": "7f92b01b",
   "metadata": {},
   "outputs": [],
   "source": [
    "import matplotlib.pyplot as plt\n",
    "%matplotlib inline"
   ]
  },
  {
   "cell_type": "code",
   "execution_count": 29,
   "id": "a2420ef9-e661-4a25-9e7b-9dddbdc8bec6",
   "metadata": {},
   "outputs": [
    {
     "ename": "NameError",
     "evalue": "name 'right_pocket' is not defined",
     "output_type": "error",
     "traceback": [
      "\u001b[0;31m---------------------------------------------------------------------------\u001b[0m",
      "\u001b[0;31mNameError\u001b[0m                                 Traceback (most recent call last)",
      "Input \u001b[0;32mIn [29]\u001b[0m, in \u001b[0;36m<cell line: 34>\u001b[0;34m()\u001b[0m\n\u001b[1;32m     36\u001b[0m idx \u001b[38;5;241m=\u001b[39m line[\u001b[38;5;124m'\u001b[39m\u001b[38;5;124mindex\u001b[39m\u001b[38;5;124m'\u001b[39m]\n\u001b[1;32m     37\u001b[0m pocket_name \u001b[38;5;241m=\u001b[39m line[\u001b[38;5;124m'\u001b[39m\u001b[38;5;124mpocket_name\u001b[39m\u001b[38;5;124m'\u001b[39m]\n\u001b[0;32m---> 38\u001b[0m \u001b[38;5;28;01mif\u001b[39;00m (pocket_name \u001b[38;5;241m==\u001b[39m \u001b[43mright_pocket\u001b[49m) \u001b[38;5;129;01mand\u001b[39;00m conf_by_chosen:\n\u001b[1;32m     39\u001b[0m     \u001b[38;5;28;01mpass\u001b[39;00m\n\u001b[1;32m     40\u001b[0m \u001b[38;5;28;01melse\u001b[39;00m:\n",
      "\u001b[0;31mNameError\u001b[0m: name 'right_pocket' is not defined"
     ]
    }
   ],
   "source": [
    "from generation_utils import get_LAS_distance_constraint_mask, get_info_pred_distance, write_with_new_coords\n",
    "device = 'cpu'\n",
    "if conf_by_chosen:\n",
    "    for i, line in chosen.iterrows():\n",
    "        idx = line['index']\n",
    "        pocket_name = line['pocket_name']\n",
    "        compound_name = line['compound_name']\n",
    "        ligandName = compound_name.split(\"_\")[1]\n",
    "        coords = dataset[idx].coords.to(device)\n",
    "        protein_nodes_xyz = dataset[idx].node_xyz.to(device)\n",
    "        n_compound = coords.shape[0]\n",
    "        n_protein = protein_nodes_xyz.shape[0]\n",
    "        y_pred = y_pred_list[idx].reshape(n_protein, n_compound).to(device)\n",
    "        y = dataset[idx].dis_map.reshape(n_protein, n_compound).to(device)\n",
    "        compound_pair_dis_constraint = torch.cdist(coords, coords)\n",
    "        rdkitMolFile = f\"{pre}/sdfs/{pdb}_{ligandName}_mol_from_rdkit.sdf\"\n",
    "        mol = Chem.MolFromMolFile(rdkitMolFile)\n",
    "        LAS_distance_constraint_mask = get_LAS_distance_constraint_mask(mol).bool()\n",
    "        info2 = get_info_pred_distance(coords, y_pred, protein_nodes_xyz, compound_pair_dis_constraint, \n",
    "                                      LAS_distance_constraint_mask=LAS_distance_constraint_mask,\n",
    "                                      n_repeat=1, show_progress=False)\n",
    "\n",
    "        result_folder = f'{pre}/{pdb}_result/'\n",
    "        os.system(f'mkdir -p {result_folder}')\n",
    "        # toFile = f'{result_folder}/{ligandName}_{pocket_name}_tankbind.sdf'\n",
    "        if pocket_name == given_pocket:\n",
    "            toFile = f'{result_folder}/{ligandName}_tankbind_AfGv_{pocket_name}.sdf'\n",
    "        else:\n",
    "            toFile = f'{result_folder}/{ligandName}_tankbind_Af_{pocket_name}.sdf'\n",
    "        # print(toFile)\n",
    "        new_coords = info2.sort_values(\"loss\")['coords'].iloc[0].astype(np.double)\n",
    "        write_with_new_coords(mol, new_coords, toFile)\n",
    "\n",
    "if given_pocket:\n",
    "    for i, line in info_right_pocket.iterrows():\n",
    "        idx = line['index']\n",
    "        pocket_name = line['pocket_name']\n",
    "        if (pocket_name == given_pocket) and conf_by_chosen:\n",
    "            pass\n",
    "        else:\n",
    "            compound_name = line['compound_name']\n",
    "            ligandName = compound_name.split(\"_\")[1]\n",
    "            coords = dataset[idx].coords.to(device)\n",
    "            protein_nodes_xyz = dataset[idx].node_xyz.to(device)\n",
    "            n_compound = coords.shape[0]\n",
    "            n_protein = protein_nodes_xyz.shape[0]\n",
    "            y_pred = y_pred_list[idx].reshape(n_protein, n_compound).to(device)\n",
    "            y = dataset[idx].dis_map.reshape(n_protein, n_compound).to(device)\n",
    "            compound_pair_dis_constraint = torch.cdist(coords, coords)\n",
    "            rdkitMolFile = f\"{pre}/sdfs/{pdb}_{ligandName}_mol_from_rdkit.sdf\"\n",
    "            mol = Chem.MolFromMolFile(rdkitMolFile)\n",
    "            LAS_distance_constraint_mask = get_LAS_distance_constraint_mask(mol).bool()\n",
    "            info2 = get_info_pred_distance(coords, y_pred, protein_nodes_xyz, compound_pair_dis_constraint, \n",
    "                                          LAS_distance_constraint_mask=LAS_distance_constraint_mask,\n",
    "                                          n_repeat=1, show_progress=False)\n",
    "\n",
    "            result_folder = f'{pre}/{pdb}_result/'\n",
    "            os.system(f'mkdir -p {result_folder}')\n",
    "            # toFile = f'{result_folder}/{ligandName}_{pocket_name}_tankbind.sdf'\n",
    "            toFile = f'{result_folder}/{ligandName}_tankbind_Gv_{pocket_name}.sdf'\n",
    "            # print(toFile)\n",
    "            new_coords = info2.sort_values(\"loss\")['coords'].iloc[0].astype(np.double)\n",
    "            write_with_new_coords(mol, new_coords, toFile)"
   ]
  },
  {
   "cell_type": "code",
   "execution_count": null,
   "id": "70c94401-5e10-4ced-ac87-ab186f070df1",
   "metadata": {},
   "outputs": [],
   "source": []
  }
 ],
 "metadata": {
  "kernelspec": {
   "display_name": "Python [conda env:tankbind_py38]",
   "language": "python",
   "name": "conda-env-tankbind_py38-py"
  },
  "language_info": {
   "codemirror_mode": {
    "name": "ipython",
    "version": 3
   },
   "file_extension": ".py",
   "mimetype": "text/x-python",
   "name": "python",
   "nbconvert_exporter": "python",
   "pygments_lexer": "ipython3",
   "version": "3.8.13"
  },
  "nteract": {
   "version": "0.28.0"
  }
 },
 "nbformat": 4,
 "nbformat_minor": 5
}
