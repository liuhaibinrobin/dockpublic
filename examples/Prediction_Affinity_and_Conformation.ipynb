{
 "cells": [
  {
   "cell_type": "markdown",
   "id": "25766f4b-323d-4388-8524-8c6868eeef26",
   "metadata": {
    "tags": []
   },
   "source": [
    "# README"
   ]
  },
  {
   "cell_type": "markdown",
   "id": "19a671df-eb53-4d03-ab77-ae7fabce4e19",
   "metadata": {
    "tags": []
   },
   "source": [
    "#### 放置数据\n",
    "- 将 本笔记本 和 p2rank_2.3 文件夹置于 TankBind/example 下（p2rank_2.3的路径可在下一格的 Input configuration 中修改）\n",
    "\n",
    "- 在 TankBind/example 下建立文件夹 inputs 文件夹 （路径可修改）\n",
    "\n",
    "- 在 input 蛋白质对应的 .pdb 文件\n",
    "\n",
    "    - .pdb 文件：名字格式为：`f\"{pdb_name}\".pdb`，此`pdb_name`参数在下文填充。例如：\"7kac.pdb\"\n",
    "\n",
    "#### 小分子构象文件\n",
    "生成的小分子构象文件中，若文件名\n",
    "- 包含 `_AfGv_` 字段，说明手动指定的口袋和由 TankBind 依据最高 Affinity 选择的口袋为同一口袋\n",
    "\n",
    "否则，将会分别生成：\n",
    "- 包含中间字段 `_Af_` 的构象：由 TankBind 选择的口袋\n",
    "- 包含中间字段 `_Gv_` 的构象：由`given_pocket`参数指定的口袋"
   ]
  },
  {
   "cell_type": "markdown",
   "id": "9b111110",
   "metadata": {
    "tags": []
   },
   "source": [
    "# Input configuration\n",
    "需在此指定 .csv 文件的名称(和此前的 DownloadData 文件相配合）。\n",
    "所需的 .pdb 文件仍需要手动上传到下述 inputs 文件夹中。"
   ]
  },
  {
   "cell_type": "markdown",
   "id": "06c823f7-d0df-40a4-8a32-115ba1a8b81f",
   "metadata": {},
   "source": [
    "`conf_by_chosen` 参数：\n",
    "- 若为 `True`，则 TankBind 会依据预测出的最高 Affinity 选择对应口袋并生成构象。\n",
    "- 当 `given_pocket = 0`时，此参数会被修正为 `True`.\n",
    "\n",
    "`distinguish_by_timestamp` 参数：若为 `True`，则 输出文件夹名字会额外包含一个时间戳后缀。\n",
    "\n",
    "\n"
   ]
  },
  {
   "cell_type": "code",
   "execution_count": 143,
   "id": "71ed5bc4",
   "metadata": {},
   "outputs": [],
   "source": [
    "pdb_name = \"6scm\" # f'{pdb_name}.pdb' file in the inputs folder will be used.\n",
    "target_name = \"SOS1\"  # \"target\" in the .csv file\n",
    "csv_name = \"all_middle.test.csv\"\n",
    "\n",
    "given_pocket = 0\n",
    "#given_pocket = \"pocket_8\" # or int 0\n",
    "\n",
    "input_path = \"./inputs\" # for .pdb files \n",
    "base_pre = f\"./PREDICTION\" # for results\n",
    "\n",
    "conf_by_chosen = True\n",
    "# if false and \"given_pocket\" is 0, only the conformations relating to the given_pocket will be generated.\n",
    "\n",
    "distinguish_by_timestamp = True \n",
    "# if true, the output folder name will be suffiexed with a timestamp \n",
    "\n",
    "\n",
    "p2rank = \"bash ./p2rank_2.3/prank\" # p2rank file path"
   ]
  },
  {
   "cell_type": "markdown",
   "id": "9b713b82-aee5-4e0e-8c69-48acbbbe0c9b",
   "metadata": {},
   "source": [
    "<font color=\"blue\" size=5>需在此指定 label_data 的路径</font>"
   ]
  },
  {
   "cell_type": "code",
   "execution_count": 144,
   "id": "30fe3be3-abb8-4999-b8bf-fa712a5bd58e",
   "metadata": {},
   "outputs": [
    {
     "data": {
      "text/plain": [
       "['.ipynb_checkpoints',\n",
       " 'all_middle.test.csv',\n",
       " 'all_middle.train.csv',\n",
       " 'all_ndcg.test.csv',\n",
       " 'all_ndcg.train.csv',\n",
       " 'all_pair.test.csv',\n",
       " 'all_pair.train.csv',\n",
       " 'all_top.test.csv',\n",
       " 'all_top.train.csv']"
      ]
     },
     "execution_count": 144,
     "metadata": {},
     "output_type": "execute_result"
    }
   ],
   "source": [
    "path_label_data = \"../../sar-3d-pharam/data/label_data/\"\n",
    "path_data_folder = \"SOS1 HPK1\" # or \"\" if the .csv file is placed in label_data folder\n",
    "\n",
    "\n",
    "    # label_data*\n",
    "    # - HPK1 SOS1*\n",
    "    #     - all_middle.test.csv\n",
    "    #     - all_middle.train.csv\n",
    "    #     - ...\n",
    "    # - PRTM5*\n",
    "    #     - all_middle.test.csv\n",
    "    #     - all_middle.train.csv\n",
    "    #     - ...\n",
    "    # - all_middle.test.csv\n",
    "    # - all_middle.train.csv\n",
    "    # - ...\n",
    "\n",
    "path_data = path_label_data + path_data_folder\n",
    "import os\n",
    "os.listdir(path_data)\n",
    "    # You should see something like this:\n",
    "    #   ['all_middle.test.csv',\n",
    "    #    'all_middle.train.csv',\n",
    "    #    ...\n",
    "    # The SMILES in the 'all_middle.text.csv' file will be used ："
   ]
  },
  {
   "cell_type": "markdown",
   "id": "9c1d8205-25c0-4d71-8941-4c7ac6a2a7f6",
   "metadata": {},
   "source": [
    "# Start"
   ]
  },
  {
   "cell_type": "code",
   "execution_count": 145,
   "id": "f7f77398-dc6f-41cc-bbbc-6a4b8b9a166c",
   "metadata": {},
   "outputs": [],
   "source": [
    "cp_name = target_name.replace(\"_\",\"\")\n",
    "if (given_pocket == 0) and (conf_by_chosen == False):\n",
    "    conf_by_chosen = True\n",
    "\n",
    "tankbind_src_folder_path = \"../tankbind/\"\n",
    "import sys\n",
    "sys.path.insert(0, tankbind_src_folder_path)\n",
    "from Bio.PDB.PDBList import PDBList   # pip install biopython if import failure\n",
    "import os\n",
    "import numpy as np\n",
    "import pandas as pd\n",
    "import time"
   ]
  },
  {
   "cell_type": "code",
   "execution_count": 146,
   "id": "0b543f6c-0a33-4e9f-9333-9904b3501326",
   "metadata": {},
   "outputs": [
    {
     "data": {
      "text/plain": [
       "0"
      ]
     },
     "execution_count": 146,
     "metadata": {},
     "output_type": "execute_result"
    }
   ],
   "source": [
    "if distinguish_by_timestamp:\n",
    "    timetag = time.strftime(\"%m%d%H%M\")\n",
    "    pre = f\"{base_pre}/{cp_name}-{pdb_name}-{timetag}\"\n",
    "else:\n",
    "    pre = f\"{base_pre}/{cp_name}-{pdb_name}\"\n",
    "pdir = f\"{pre}/PDBs/\"\n",
    "os.system(f\"mkdir -p {base_pre}\")\n",
    "os.system(f\"rm -rf {pre}/sdfs\")\n",
    "os.system(f\"mkdir -p {pre}/sdfs\")\n",
    "os.system(f\"rm -rf {pre}/PDBs\")\n",
    "os.system(f\"mkdir -p {pre}/PDBs\")\n",
    "os.system(f\"rm -rf {pre}/p2rank\")\n",
    "os.system(f\"mkdir -p {pre}/p2rank\")\n"
   ]
  },
  {
   "cell_type": "code",
   "execution_count": 147,
   "id": "69112cee-8b38-4315-aa37-a9d0fc94ad71",
   "metadata": {},
   "outputs": [],
   "source": [
    "pdb = f'{pdb_name}'\n",
    "os.system(f\"mkdir -p {pdir}\")\n",
    "pdbl = PDBList()\n",
    "native_pdb = f\"./inputs/{pdb_name}.pdb\"\n",
    "\n",
    "from Bio.PDB import PDBParser\n",
    "parser = PDBParser(QUIET=True)\n",
    "s = parser.get_structure(pdb, native_pdb)\n",
    "\n"
   ]
  },
  {
   "cell_type": "code",
   "execution_count": 148,
   "id": "e9ee7a8a-0b0c-4fc8-8365-582affad84d6",
   "metadata": {},
   "outputs": [],
   "source": [
    "proteinFile = f\"./inputs/{pdb_name}.pdb\""
   ]
  },
  {
   "cell_type": "code",
   "execution_count": 149,
   "id": "7f60cc05-32e9-44f6-8d91-2edda86fb93f",
   "metadata": {},
   "outputs": [],
   "source": [
    "import rdkit.Chem as Chem\n",
    "from feature_utils import generate_sdf_from_smiles_using_rdkit"
   ]
  },
  {
   "cell_type": "code",
   "execution_count": 150,
   "id": "70faca1e-b25e-4b00-8f25-cbc1a4f89405",
   "metadata": {},
   "outputs": [],
   "source": [
    "input_dataframe = pd.read_csv(f'{path_data}/{csv_name}')\n",
    "input_dataframe = input_dataframe[input_dataframe[\"target\"]==target_name][[\"id_in_patent\",\"smiles\",\"target\"]]\n",
    "input_dataframe"
   ]
  },
  {
   "cell_type": "code",
   "execution_count": 151,
   "id": "ca929908-c357-4e6d-86fd-d3e2d53d4090",
   "metadata": {},
   "outputs": [],
   "source": [
    "smilesdict = dict(zip(input_dataframe['id_in_patent'], input_dataframe['smiles']))\n",
    "for _key in smilesdict.keys():\n",
    "    rdkitMolFile = f\"{pre}/sdfs/{pdb}_{_key}_mol_from_rdkit.sdf\"\n",
    "    shift_dis = 0   # for visual only, could be any number, shift the ligand away from the protein.\n",
    "    generate_sdf_from_smiles_using_rdkit(smilesdict[_key], rdkitMolFile, shift_dis=shift_dis)"
   ]
  },
  {
   "cell_type": "markdown",
   "id": "a15950de",
   "metadata": {},
   "source": [
    "# get protein feature"
   ]
  },
  {
   "cell_type": "code",
   "execution_count": 152,
   "id": "b9278895",
   "metadata": {},
   "outputs": [],
   "source": [
    "from feature_utils import get_protein_feature"
   ]
  },
  {
   "cell_type": "code",
   "execution_count": 153,
   "id": "ccfdcee6",
   "metadata": {},
   "outputs": [],
   "source": [
    "parser = PDBParser(QUIET=True)\n",
    "s = parser.get_structure(\"x\", proteinFile)\n",
    "res_list = list(s.get_residues())"
   ]
  },
  {
   "cell_type": "code",
   "execution_count": 154,
   "id": "a636d214",
   "metadata": {},
   "outputs": [],
   "source": [
    "protein_dict = {}\n",
    "protein_dict[pdb] = get_protein_feature(res_list)\n"
   ]
  },
  {
   "cell_type": "markdown",
   "id": "7c75c447",
   "metadata": {},
   "source": [
    "# get compound feature"
   ]
  },
  {
   "cell_type": "code",
   "execution_count": 155,
   "id": "c62d9a45",
   "metadata": {},
   "outputs": [],
   "source": [
    "from feature_utils import extract_torchdrug_feature_from_mol"
   ]
  },
  {
   "cell_type": "code",
   "execution_count": 156,
   "id": "fe8a5b49",
   "metadata": {},
   "outputs": [],
   "source": [
    "compound_dict = {}\n",
    "for ligandName in smilesdict.keys():\n",
    "    rdkitMolFile = f\"{pre}/sdfs/{pdb}_{ligandName}_mol_from_rdkit.sdf\"\n",
    "    mol = Chem.MolFromMolFile(rdkitMolFile)\n",
    "    compound_dict[pdb+f\"_{ligandName}\"+\"_rdkit\"] = extract_torchdrug_feature_from_mol(mol, has_LAS_mask=True)"
   ]
  },
  {
   "cell_type": "markdown",
   "id": "350f3094",
   "metadata": {},
   "source": [
    "# p2rank"
   ]
  },
  {
   "cell_type": "code",
   "execution_count": 157,
   "id": "ce0690c0",
   "metadata": {},
   "outputs": [],
   "source": [
    "pdb_list = [pdb]\n",
    "ds = f\"{pre}/protein_list.ds\"\n",
    "with open(ds, \"w\") as out:\n",
    "    for pdb in pdb_list:\n",
    "        out.write(f\"../../{input_path}/{pdb_name}.pdb\\n\")\n"
   ]
  },
  {
   "cell_type": "code",
   "execution_count": 158,
   "id": "51ccb607",
   "metadata": {},
   "outputs": [
    {
     "name": "stdout",
     "output_type": "stream",
     "text": [
      "----------------------------------------------------------------------------------------------\n",
      " P2Rank 2.3\n",
      "----------------------------------------------------------------------------------------------\n",
      "\n",
      "predicting pockets for proteins from dataset [protein_list.ds]\n",
      "processing [6scm.pdb] (1/1)\n",
      "predicting pockets finished in 0 hours 0 minutes 10.759 seconds\n",
      "results saved to directory [/home/jovyan/TankBind/examples/PREDICTION/SOS1-6scm-07250349/p2rank]\n",
      "\n",
      "----------------------------------------------------------------------------------------------\n",
      " finished successfully in 0 hours 0 minutes 11.580 seconds\n",
      "----------------------------------------------------------------------------------------------\n"
     ]
    },
    {
     "data": {
      "text/plain": [
       "0"
      ]
     },
     "execution_count": 158,
     "metadata": {},
     "output_type": "execute_result"
    }
   ],
   "source": [
    "cmd = f\"{p2rank} predict {ds} -o {pre}/p2rank -threads 1\"\n",
    "os.system(cmd)"
   ]
  },
  {
   "cell_type": "raw",
   "id": "23eff815-9271-44b1-9643-5b4841d41e4f",
   "metadata": {},
   "source": [
    "pre"
   ]
  },
  {
   "cell_type": "code",
   "execution_count": 159,
   "id": "81517d71",
   "metadata": {},
   "outputs": [
    {
     "data": {
      "text/html": [
       "<div>\n",
       "<style scoped>\n",
       "    .dataframe tbody tr th:only-of-type {\n",
       "        vertical-align: middle;\n",
       "    }\n",
       "\n",
       "    .dataframe tbody tr th {\n",
       "        vertical-align: top;\n",
       "    }\n",
       "\n",
       "    .dataframe thead th {\n",
       "        text-align: right;\n",
       "    }\n",
       "</style>\n",
       "<table border=\"1\" class=\"dataframe\">\n",
       "  <thead>\n",
       "    <tr style=\"text-align: right;\">\n",
       "      <th></th>\n",
       "      <th>protein_name</th>\n",
       "      <th>compound_name</th>\n",
       "      <th>pocket_name</th>\n",
       "      <th>pocket_com</th>\n",
       "    </tr>\n",
       "  </thead>\n",
       "  <tbody>\n",
       "    <tr>\n",
       "      <th>0</th>\n",
       "      <td>6scm</td>\n",
       "      <td>6scm_0_rdkit</td>\n",
       "      <td>protein_center</td>\n",
       "      <td>8.736,-15.087,-22.089</td>\n",
       "    </tr>\n",
       "    <tr>\n",
       "      <th>1</th>\n",
       "      <td>6scm</td>\n",
       "      <td>6scm_0_rdkit</td>\n",
       "      <td>pocket_1</td>\n",
       "      <td>8.709,-24.923,-34.936</td>\n",
       "    </tr>\n",
       "    <tr>\n",
       "      <th>2</th>\n",
       "      <td>6scm</td>\n",
       "      <td>6scm_0_rdkit</td>\n",
       "      <td>pocket_2</td>\n",
       "      <td>14.982,-43.708,-30.367</td>\n",
       "    </tr>\n",
       "    <tr>\n",
       "      <th>3</th>\n",
       "      <td>6scm</td>\n",
       "      <td>6scm_0_rdkit</td>\n",
       "      <td>pocket_3</td>\n",
       "      <td>4.658,-7.672,-15.484</td>\n",
       "    </tr>\n",
       "    <tr>\n",
       "      <th>4</th>\n",
       "      <td>6scm</td>\n",
       "      <td>6scm_0_rdkit</td>\n",
       "      <td>pocket_4</td>\n",
       "      <td>1.534,-35.549,-43.763</td>\n",
       "    </tr>\n",
       "    <tr>\n",
       "      <th>...</th>\n",
       "      <td>...</td>\n",
       "      <td>...</td>\n",
       "      <td>...</td>\n",
       "      <td>...</td>\n",
       "    </tr>\n",
       "    <tr>\n",
       "      <th>1185</th>\n",
       "      <td>6scm</td>\n",
       "      <td>6scm_118_rdkit</td>\n",
       "      <td>pocket_5</td>\n",
       "      <td>7.982,19.069,-15.421</td>\n",
       "    </tr>\n",
       "    <tr>\n",
       "      <th>1186</th>\n",
       "      <td>6scm</td>\n",
       "      <td>6scm_118_rdkit</td>\n",
       "      <td>pocket_6</td>\n",
       "      <td>-1.262,-16.002,-29.16</td>\n",
       "    </tr>\n",
       "    <tr>\n",
       "      <th>1187</th>\n",
       "      <td>6scm</td>\n",
       "      <td>6scm_118_rdkit</td>\n",
       "      <td>pocket_7</td>\n",
       "      <td>3.006,3.753,-22.598</td>\n",
       "    </tr>\n",
       "    <tr>\n",
       "      <th>1188</th>\n",
       "      <td>6scm</td>\n",
       "      <td>6scm_118_rdkit</td>\n",
       "      <td>pocket_8</td>\n",
       "      <td>15.256,-6.178,-31.047</td>\n",
       "    </tr>\n",
       "    <tr>\n",
       "      <th>1189</th>\n",
       "      <td>6scm</td>\n",
       "      <td>6scm_118_rdkit</td>\n",
       "      <td>pocket_9</td>\n",
       "      <td>-5.474,-33.348,-16.235</td>\n",
       "    </tr>\n",
       "  </tbody>\n",
       "</table>\n",
       "<p>1190 rows × 4 columns</p>\n",
       "</div>"
      ],
      "text/plain": [
       "     protein_name   compound_name     pocket_name              pocket_com\n",
       "0            6scm    6scm_0_rdkit  protein_center   8.736,-15.087,-22.089\n",
       "1            6scm    6scm_0_rdkit        pocket_1   8.709,-24.923,-34.936\n",
       "2            6scm    6scm_0_rdkit        pocket_2  14.982,-43.708,-30.367\n",
       "3            6scm    6scm_0_rdkit        pocket_3    4.658,-7.672,-15.484\n",
       "4            6scm    6scm_0_rdkit        pocket_4   1.534,-35.549,-43.763\n",
       "...           ...             ...             ...                     ...\n",
       "1185         6scm  6scm_118_rdkit        pocket_5    7.982,19.069,-15.421\n",
       "1186         6scm  6scm_118_rdkit        pocket_6   -1.262,-16.002,-29.16\n",
       "1187         6scm  6scm_118_rdkit        pocket_7     3.006,3.753,-22.598\n",
       "1188         6scm  6scm_118_rdkit        pocket_8   15.256,-6.178,-31.047\n",
       "1189         6scm  6scm_118_rdkit        pocket_9  -5.474,-33.348,-16.235\n",
       "\n",
       "[1190 rows x 4 columns]"
      ]
     },
     "execution_count": 159,
     "metadata": {},
     "output_type": "execute_result"
    }
   ],
   "source": [
    "info = []\n",
    "for pdb in pdb_list:\n",
    "    for compound_name in list(compound_dict.keys()):\n",
    "        # use protein center as the block center.\n",
    "        com = \",\".join([str(a.round(3)) for a in protein_dict[pdb][0].mean(axis=0).numpy()])\n",
    "        info.append([pdb, compound_name, \"protein_center\", com])\n",
    "\n",
    "        p2rankFile = f\"{pre}/p2rank/{pdb}.pdb_predictions.csv\"\n",
    "        pocket = pd.read_csv(p2rankFile)\n",
    "        pocket.columns = pocket.columns.str.strip()\n",
    "        pocket_coms = pocket[['center_x', 'center_y', 'center_z']].values\n",
    "        for ith_pocket, com in enumerate(pocket_coms):\n",
    "            com = \",\".join([str(a.round(3)) for a in com])\n",
    "            info.append([pdb, compound_name, f\"pocket_{ith_pocket+1}\", com])\n",
    "info = pd.DataFrame(info, columns=['protein_name', 'compound_name', 'pocket_name', 'pocket_com'])\n",
    "info"
   ]
  },
  {
   "cell_type": "code",
   "execution_count": 161,
   "id": "fc7e811d-7809-49fb-8417-05ad02e75639",
   "metadata": {},
   "outputs": [],
   "source": [
    "p2rankFile = f\"{pre}/p2rank/{pdb_name}.pdb_predictions.csv\"\n",
    "pocket = pd.read_csv(p2rankFile)"
   ]
  },
  {
   "cell_type": "markdown",
   "id": "10a2df6d",
   "metadata": {},
   "source": [
    "# construct dataset"
   ]
  },
  {
   "cell_type": "code",
   "execution_count": 162,
   "id": "5b6db20c",
   "metadata": {},
   "outputs": [],
   "source": [
    "import torch\n",
    "torch.set_num_threads(1)"
   ]
  },
  {
   "cell_type": "code",
   "execution_count": 163,
   "id": "70e69824",
   "metadata": {},
   "outputs": [],
   "source": [
    "from data import TankBind_prediction"
   ]
  },
  {
   "cell_type": "code",
   "execution_count": 164,
   "id": "441fadc7",
   "metadata": {},
   "outputs": [
    {
     "name": "stderr",
     "output_type": "stream",
     "text": [
      "rm: cannot remove './PREDICTION/SOS1-6scm-07250349/6scm_dataset/': No such file or directory\n",
      "Processing...\n"
     ]
    },
    {
     "name": "stdout",
     "output_type": "stream",
     "text": [
      "['PREDICTION/SOS1-6scm-07250349/6scm_dataset/processed/data.pt', 'PREDICTION/SOS1-6scm-07250349/6scm_dataset/processed/protein.pt', 'PREDICTION/SOS1-6scm-07250349/6scm_dataset/processed/compound.pt']\n"
     ]
    },
    {
     "name": "stderr",
     "output_type": "stream",
     "text": [
      "Done!\n"
     ]
    }
   ],
   "source": [
    "dataset_path = f\"{pre}/{pdb}_dataset/\"\n",
    "os.system(f\"rm -r {dataset_path}\")\n",
    "os.system(f\"mkdir -p {dataset_path}\")\n",
    "dataset = TankBind_prediction(dataset_path, data=info, protein_dict=protein_dict, compound_dict=compound_dict)"
   ]
  },
  {
   "cell_type": "code",
   "execution_count": 165,
   "id": "87f7d3df",
   "metadata": {},
   "outputs": [
    {
     "name": "stdout",
     "output_type": "stream",
     "text": [
      "['PREDICTION/SOS1-6scm-07250349/6scm_dataset/processed/data.pt', 'PREDICTION/SOS1-6scm-07250349/6scm_dataset/processed/protein.pt', 'PREDICTION/SOS1-6scm-07250349/6scm_dataset/processed/compound.pt']\n"
     ]
    }
   ],
   "source": [
    "dataset_path = f\"{pre}/{pdb}_dataset/\"\n",
    "dataset = TankBind_prediction(dataset_path)"
   ]
  },
  {
   "cell_type": "code",
   "execution_count": 166,
   "id": "be2d6529",
   "metadata": {},
   "outputs": [],
   "source": [
    "import logging\n",
    "from torch_geometric.loader import DataLoader\n",
    "from tqdm import tqdm    # pip install tqdm if fails.\n",
    "from model import get_model\n",
    "# from utils import *"
   ]
  },
  {
   "cell_type": "code",
   "execution_count": 167,
   "id": "3b0cb143",
   "metadata": {},
   "outputs": [
    {
     "name": "stdout",
     "output_type": "stream",
     "text": [
      "03:50:45   5 stack, readout2, pred dis map add self attention and GVP embed, compound model GIN\n",
      "Parameter containing:\n",
      "tensor([1.], requires_grad=True)\n"
     ]
    },
    {
     "name": "stderr",
     "output_type": "stream",
     "text": [
      "100%|██████████| 238/238 [00:14<00:00, 16.60it/s]\n"
     ]
    }
   ],
   "source": [
    "batch_size = 5\n",
    "device = 'cuda' if torch.cuda.is_available() else 'cpu'\n",
    "logging.basicConfig(level=logging.INFO)\n",
    "model = get_model(0, logging, device)\n",
    "# re-dock model\n",
    "# modelFile = \"../saved_models/re_dock.pt\"\n",
    "# self-dock model\n",
    "modelFile = \"../saved_models/self_dock.pt\"\n",
    "\n",
    "model.load_state_dict(torch.load(modelFile, map_location=device))\n",
    "_ = model.eval()\n",
    "\n",
    "data_loader = DataLoader(dataset, batch_size=batch_size, follow_batch=['x', 'y', 'compound_pair'], shuffle=False, num_workers=8)\n",
    "affinity_pred_list = []\n",
    "y_pred_list = []\n",
    "for data in tqdm(data_loader):\n",
    "    data = data.to(device)\n",
    "    y_pred, affinity_pred = model(data)\n",
    "    affinity_pred_list.append(affinity_pred.detach().cpu())\n",
    "    for i in range(data.y_batch.max() + 1):\n",
    "        y_pred_list.append((y_pred[data['y_batch'] == i]).detach().cpu())\n",
    "\n",
    "affinity_pred_list = torch.cat(affinity_pred_list)"
   ]
  },
  {
   "cell_type": "code",
   "execution_count": 168,
   "id": "60fd3375",
   "metadata": {},
   "outputs": [],
   "source": [
    "info = dataset.data\n",
    "info['affinity'] = affinity_pred_list"
   ]
  },
  {
   "cell_type": "code",
   "execution_count": 169,
   "id": "6d103c25",
   "metadata": {},
   "outputs": [],
   "source": [
    "info.to_csv(f\"{pre}/result_info_all.csv\")"
   ]
  },
  {
   "cell_type": "code",
   "execution_count": 170,
   "id": "d1d3054d",
   "metadata": {},
   "outputs": [],
   "source": [
    "chosen = info.loc[info.groupby(['protein_name', 'compound_name'],sort=False)['affinity'].agg('idxmax')].reset_index()\n",
    "chosen.to_csv(f\"{pre}/result_chosen_by_affinity.csv\")"
   ]
  },
  {
   "cell_type": "code",
   "execution_count": 171,
   "id": "8cda8c7b-a65d-46d1-882e-10be9112919d",
   "metadata": {},
   "outputs": [],
   "source": [
    "if given_pocket:\n",
    "    info_right_pocket = info[info[\"pocket_name\"]==given_pocket].reset_index()\n",
    "    info_right_pocket.to_csv(f\"{pre}/result_given_pocket.csv\")"
   ]
  },
  {
   "cell_type": "markdown",
   "id": "25bd3c9d",
   "metadata": {
    "tags": []
   },
   "source": [
    "# from predicted interaction distance map to sdf"
   ]
  },
  {
   "cell_type": "code",
   "execution_count": 172,
   "id": "7f92b01b",
   "metadata": {},
   "outputs": [],
   "source": [
    "import matplotlib.pyplot as plt\n",
    "%matplotlib inline"
   ]
  },
  {
   "cell_type": "code",
   "execution_count": 173,
   "id": "a2420ef9-e661-4a25-9e7b-9dddbdc8bec6",
   "metadata": {},
   "outputs": [],
   "source": [
    "from generation_utils import get_LAS_distance_constraint_mask, get_info_pred_distance, write_with_new_coords\n",
    "device = 'cpu'\n",
    "if conf_by_chosen:\n",
    "    for i, line in chosen.iterrows():\n",
    "        idx = line['index']\n",
    "        pocket_name = line['pocket_name']\n",
    "        compound_name = line['compound_name']\n",
    "        ligandName = compound_name.split(\"_\")[1]\n",
    "        coords = dataset[idx].coords.to(device)\n",
    "        protein_nodes_xyz = dataset[idx].node_xyz.to(device)\n",
    "        n_compound = coords.shape[0]\n",
    "        n_protein = protein_nodes_xyz.shape[0]\n",
    "        y_pred = y_pred_list[idx].reshape(n_protein, n_compound).to(device)\n",
    "        y = dataset[idx].dis_map.reshape(n_protein, n_compound).to(device)\n",
    "        compound_pair_dis_constraint = torch.cdist(coords, coords)\n",
    "        rdkitMolFile = f\"{pre}/sdfs/{pdb}_{ligandName}_mol_from_rdkit.sdf\"\n",
    "        mol = Chem.MolFromMolFile(rdkitMolFile)\n",
    "        LAS_distance_constraint_mask = get_LAS_distance_constraint_mask(mol).bool()\n",
    "        info2 = get_info_pred_distance(coords, y_pred, protein_nodes_xyz, compound_pair_dis_constraint, \n",
    "                                      LAS_distance_constraint_mask=LAS_distance_constraint_mask,\n",
    "                                      n_repeat=1, show_progress=False)\n",
    "\n",
    "        result_folder = f'{pre}/{pdb}_result/'\n",
    "        os.system(f'mkdir -p {result_folder}')\n",
    "        # toFile = f'{result_folder}/{ligandName}_{pocket_name}_tankbind.sdf'\n",
    "        if pocket_name == given_pocket:\n",
    "            toFile = f'{result_folder}/{ligandName}_tankbind_AfGv_{pocket_name}.sdf'\n",
    "        else:\n",
    "            toFile = f'{result_folder}/{ligandName}_tankbind_Af_{pocket_name}.sdf'\n",
    "        # print(toFile)\n",
    "        new_coords = info2.sort_values(\"loss\")['coords'].iloc[0].astype(np.double)\n",
    "        write_with_new_coords(mol, new_coords, toFile)\n",
    "\n",
    "if given_pocket:\n",
    "    for i, line in info_right_pocket.iterrows():\n",
    "        idx = line['index']\n",
    "        pocket_name = line['pocket_name']\n",
    "        if (pocket_name == given_pocket) and conf_by_chosen:\n",
    "            pass\n",
    "        else:\n",
    "            compound_name = line['compound_name']\n",
    "            ligandName = compound_name.split(\"_\")[1]\n",
    "            coords = dataset[idx].coords.to(device)\n",
    "            protein_nodes_xyz = dataset[idx].node_xyz.to(device)\n",
    "            n_compound = coords.shape[0]\n",
    "            n_protein = protein_nodes_xyz.shape[0]\n",
    "            y_pred = y_pred_list[idx].reshape(n_protein, n_compound).to(device)\n",
    "            y = dataset[idx].dis_map.reshape(n_protein, n_compound).to(device)\n",
    "            compound_pair_dis_constraint = torch.cdist(coords, coords)\n",
    "            rdkitMolFile = f\"{pre}/sdfs/{pdb}_{ligandName}_mol_from_rdkit.sdf\"\n",
    "            mol = Chem.MolFromMolFile(rdkitMolFile)\n",
    "            LAS_distance_constraint_mask = get_LAS_distance_constraint_mask(mol).bool()\n",
    "            info2 = get_info_pred_distance(coords, y_pred, protein_nodes_xyz, compound_pair_dis_constraint, \n",
    "                                          LAS_distance_constraint_mask=LAS_distance_constraint_mask,\n",
    "                                          n_repeat=1, show_progress=False)\n",
    "\n",
    "            result_folder = f'{pre}/{pdb}_result/'\n",
    "            os.system(f'mkdir -p {result_folder}')\n",
    "            # toFile = f'{result_folder}/{ligandName}_{pocket_name}_tankbind.sdf'\n",
    "            toFile = f'{result_folder}/{ligandName}_tankbind_Gv_{pocket_name}.sdf'\n",
    "            # print(toFile)\n",
    "            new_coords = info2.sort_values(\"loss\")['coords'].iloc[0].astype(np.double)\n",
    "            write_with_new_coords(mol, new_coords, toFile)"
   ]
  }
 ],
 "metadata": {
  "kernelspec": {
   "display_name": "Python [conda env:tankbind_py38]",
   "language": "python",
   "name": "conda-env-tankbind_py38-py"
  },
  "language_info": {
   "codemirror_mode": {
    "name": "ipython",
    "version": 3
   },
   "file_extension": ".py",
   "mimetype": "text/x-python",
   "name": "python",
   "nbconvert_exporter": "python",
   "pygments_lexer": "ipython3",
   "version": "3.8.13"
  },
  "nteract": {
   "version": "0.28.0"
  }
 },
 "nbformat": 4,
 "nbformat_minor": 5
}
