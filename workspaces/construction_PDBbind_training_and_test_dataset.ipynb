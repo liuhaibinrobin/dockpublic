{
 "cells": [
  {
   "cell_type": "markdown",
   "id": "fea8b151",
   "metadata": {},
   "source": [
    "# overview\n",
    "\n",
    "We start from the raw PDBbind dataset downloaded from http://www.pdbbind.org.cn/download.php\n",
    "\n",
    "1. filter out those unable to process using RDKit.\n",
    "\n",
    "2. Process the protein by only preserving the chains that with at least one atom within 10Å from any atom of the ligand.\n",
    "\n",
    "3. Use p2rank to segment protein into blocks.\n",
    "\n",
    "4. extract protein and ligand features.\n",
    "\n",
    "5. construct the training and test dataset.\n"
   ]
  },
  {
   "cell_type": "code",
   "execution_count": 1,
   "id": "cbfb2c3d",
   "metadata": {},
   "outputs": [],
   "source": [
    "import time\n",
    "from datetime import datetime as dt\n",
    "def tt():\n",
    "    print(time.strftime(\"%m-%d %H:%M:%S\", time.localtime(time.time()+8*3600)))"
   ]
  },
  {
   "cell_type": "code",
   "execution_count": 2,
   "id": "5dcf7ee4",
   "metadata": {},
   "outputs": [
    {
     "name": "stdout",
     "output_type": "stream",
     "text": [
      "10-10 09:59:26\n"
     ]
    }
   ],
   "source": [
    "CTN = True\n",
    "tt()"
   ]
  },
  {
   "cell_type": "code",
   "execution_count": 3,
   "id": "b311ab09",
   "metadata": {},
   "outputs": [
    {
     "name": "stdout",
     "output_type": "stream",
     "text": [
      "10-10 09:59:28\n"
     ]
    }
   ],
   "source": [
    "tankbind_src_folder_path = \"../tankbind/\"\n",
    "import sys\n",
    "import torch\n",
    "sys.path.insert(0, tankbind_src_folder_path)\n",
    "tt()"
   ]
  },
  {
   "cell_type": "code",
   "execution_count": 4,
   "id": "5069f0d0",
   "metadata": {},
   "outputs": [
    {
     "name": "stdout",
     "output_type": "stream",
     "text": [
      "10-10 09:59:28\n"
     ]
    }
   ],
   "source": [
    "import pandas as pd\n",
    "import numpy as np\n",
    "from tqdm import tqdm\n",
    "from collections import defaultdict\n",
    "tt()"
   ]
  },
  {
   "cell_type": "markdown",
   "id": "c16007dc",
   "metadata": {},
   "source": [
    "# process the raw PDBbind dataset."
   ]
  },
  {
   "cell_type": "code",
   "execution_count": 5,
   "id": "426539b6",
   "metadata": {},
   "outputs": [
    {
     "name": "stdout",
     "output_type": "stream",
     "text": [
      "10-10 09:59:30\n"
     ]
    }
   ],
   "source": [
    "from utils import read_pdbbind_data\n",
    "tt()"
   ]
  },
  {
   "cell_type": "code",
   "execution_count": 6,
   "id": "4229f4e0",
   "metadata": {},
   "outputs": [
    {
     "name": "stdout",
     "output_type": "stream",
     "text": [
      "10-10 09:59:33\n"
     ]
    }
   ],
   "source": [
    "# raw PDBbind dataset could be downloaded from http://www.pdbbind.org.cn/download.php\n",
    "pre = \"/home/jovyan/data/pdbbind2020\"\n",
    "df_pdb_id = pd.read_csv(f'{pre}/index/INDEX_general_PL_name.2020', sep=\"  \", comment='#', header=None, names=['pdb', 'year', 'uid', 'd', 'e','f','g','h','i','j','k','l','m','n','o'], engine='python')\n",
    "df_pdb_id = df_pdb_id[['pdb','uid']]\n",
    "data = read_pdbbind_data(f'{pre}/index/INDEX_general_PL_data.2020')\n",
    "data = data.merge(df_pdb_id, on=['pdb'])\n",
    "tt()\n"
   ]
  },
  {
   "cell_type": "code",
   "execution_count": 10,
   "id": "43c1561b",
   "metadata": {},
   "outputs": [
    {
     "name": "stdout",
     "output_type": "stream",
     "text": [
      "10-10 10:15:28\n"
     ]
    }
   ],
   "source": [
    "ctn_path = \"/home/jovyan/dataspace/NFT/main/CTNs\"\n",
    "tt()"
   ]
  },
  {
   "cell_type": "markdown",
   "id": "275f0a5d",
   "metadata": {},
   "source": [
    "# ligand file should be readable by RDKit."
   ]
  },
  {
   "cell_type": "code",
   "execution_count": 7,
   "id": "b7a90f5e",
   "metadata": {},
   "outputs": [
    {
     "name": "stdout",
     "output_type": "stream",
     "text": [
      "10-10 09:59:35\n"
     ]
    }
   ],
   "source": [
    "from feature_utils import read_mol\n",
    "tt()"
   ]
  },
  {
   "cell_type": "code",
   "execution_count": 12,
   "id": "fbe53fe6",
   "metadata": {},
   "outputs": [
    {
     "name": "stdout",
     "output_type": "stream",
     "text": [
      "10-10 10:15:44\n"
     ]
    }
   ],
   "source": [
    "from rdkit import RDLogger\n",
    "RDLogger.DisableLog('rdApp.*')\n",
    "pdb_list = []\n",
    "probem_list = []\n",
    "if not CTN:\n",
    "    for pdb in tqdm(data.pdb):\n",
    "        sdf_fileName = f\"{pre}/pdbbind_files/{pdb}/{pdb}_ligand.sdf\"\n",
    "        mol2_fileName = f\"{pre}/pdbbind_files/{pdb}/{pdb}_ligand.mol2\"\n",
    "        mol, problem = read_mol(sdf_fileName, mol2_fileName)\n",
    "        if problem:\n",
    "            probem_list.append(pdb)\n",
    "            continue\n",
    "        pdb_list.append(pdb)\n",
    "    torch.save(pdb_list, f\"{ctn_path}/pdb_list.pt\")\n",
    "pdb_list = torch.load(f\"{ctn_path}/pdb_list.pt\")\n",
    "tt()"
   ]
  },
  {
   "cell_type": "code",
   "execution_count": 13,
   "id": "e5ee0f5b",
   "metadata": {},
   "outputs": [
    {
     "name": "stdout",
     "output_type": "stream",
     "text": [
      "(19127, 7)\n",
      "10-10 10:15:47\n"
     ]
    }
   ],
   "source": [
    "data = data.query(\"pdb in @pdb_list\").reset_index(drop=True)\n",
    "print(data.shape)\n",
    "tt()"
   ]
  },
  {
   "cell_type": "markdown",
   "id": "1bc1970b",
   "metadata": {},
   "source": [
    "### for ease of RMSD evaluation later, we renumber the atom index to be consistent with the smiles"
   ]
  },
  {
   "cell_type": "code",
   "execution_count": 14,
   "id": "12910fb5",
   "metadata": {},
   "outputs": [
    {
     "name": "stdout",
     "output_type": "stream",
     "text": [
      "10-10 10:15:51\n"
     ]
    }
   ],
   "source": [
    "from feature_utils import write_renumbered_sdf\n",
    "pre_main = \"/home/jovyan/dataspace/NFT/main\"\n",
    "toFolder = f\"{pre_main}/renumber_atom_index_same_as_smiles\"\n",
    "os.system(f\"mkdir -p {toFolder}\")\n",
    "# for PDB_Code in lig_id_dict.keys(), the sdf in NCI dataset will be used.\n",
    "lig_id_dict = torch.load(\"../../dataspace/NFT/main/ligand_name_dicts/ligdict_id.pt\")\n",
    "tt()"
   ]
  },
  {
   "cell_type": "code",
   "execution_count": 17,
   "id": "ade60b1e",
   "metadata": {},
   "outputs": [
    {
     "name": "stderr",
     "output_type": "stream",
     "text": [
      "100%|██████████| 19127/19127 [14:15<00:00, 22.36it/s]"
     ]
    },
    {
     "name": "stdout",
     "output_type": "stream",
     "text": [
      "10-10 10:30:38\n"
     ]
    },
    {
     "name": "stderr",
     "output_type": "stream",
     "text": [
      "\n"
     ]
    }
   ],
   "source": [
    "if CTN:\n",
    "    for pdb in tqdm(pdb_list):\n",
    "        if pdb not in lig_id_dict:  # Use PDBBind dataset sdf\n",
    "            sdf_fileName = f\"{pre}/pdbbind_files/{pdb}/{pdb}_ligand.sdf\"\n",
    "            mol2_fileName = f\"{pre}/pdbbind_files/{pdb}/{pdb}_ligand.mol2\"\n",
    "            toFile = f\"{toFolder}/{pdb}.sdf\"\n",
    "            write_renumbered_sdf(toFile, sdf_fileName, mol2_fileName)\n",
    "        else:  # Use NCI dataset sdf\n",
    "            sdf_fileName = f\"/home/jovyan/dataspace/pdb_bind_2020/{pdb}/{pdb}_ligand.sdf\"\n",
    "            toFile = f\"{toFolder}/{pdb}.sdf\"\n",
    "            write_renumbered_sdf(toFile, sdf_fileName, None)\n",
    "tt()"
   ]
  },
  {
   "cell_type": "markdown",
   "id": "dd58cfa5",
   "metadata": {},
   "source": [
    "# process PDBbind proteins, removing extra chains, cutoff 10A"
   ]
  },
  {
   "cell_type": "code",
   "execution_count": 33,
   "id": "192b7c8e",
   "metadata": {},
   "outputs": [
    {
     "name": "stdout",
     "output_type": "stream",
     "text": [
      "10-10 10:33:26\n"
     ]
    }
   ],
   "source": [
    "toFolder = f\"{pre_main}/protein_remove_extra_chains_10A/\"\n",
    "os.system(f\"mkdir -p {toFolder}\")\n",
    "tt()"
   ]
  },
  {
   "cell_type": "code",
   "execution_count": 19,
   "id": "b680f7d9",
   "metadata": {},
   "outputs": [
    {
     "name": "stdout",
     "output_type": "stream",
     "text": [
      "10-10 10:30:38\n"
     ]
    }
   ],
   "source": [
    "input_ = []\n",
    "cutoff = 10\n",
    "for pdb in data.pdb.values:\n",
    "    pdbFile = f\"{pre}/pdbbind_files/{pdb}/{pdb}_protein.pdb\"\n",
    "    ligandFile = f\"{pre_main}/renumber_atom_index_same_as_smiles/{pdb}.sdf\"\n",
    "    toFile = f\"{toFolder}/{pdb}_protein.pdb\"\n",
    "    x = (pdbFile, ligandFile, cutoff, toFile)\n",
    "    input_.append(x)\n",
    "tt()"
   ]
  },
  {
   "cell_type": "code",
   "execution_count": 20,
   "id": "2796e510",
   "metadata": {},
   "outputs": [
    {
     "name": "stdout",
     "output_type": "stream",
     "text": [
      "10-10 10:30:39\n"
     ]
    }
   ],
   "source": [
    "from feature_utils import select_chain_within_cutoff_to_ligand_v2\n",
    "tt()"
   ]
  },
  {
   "cell_type": "code",
   "execution_count": 21,
   "id": "879c4c31",
   "metadata": {},
   "outputs": [
    {
     "name": "stdout",
     "output_type": "stream",
     "text": [
      "10-10 10:30:39\n"
     ]
    }
   ],
   "source": [
    "if not CTN:\n",
    "    import mlcrate as mlc\n",
    "    import os\n",
    "    pool = mlc.SuperPool(64)\n",
    "    pool.pool.restart()\n",
    "    _ = pool.map(select_chain_within_cutoff_to_ligand_v2,input_)\n",
    "    pool.exit()\n",
    "tt()"
   ]
  },
  {
   "cell_type": "code",
   "execution_count": 22,
   "id": "cbe5c4f8",
   "metadata": {},
   "outputs": [
    {
     "name": "stdout",
     "output_type": "stream",
     "text": [
      "10-10 10:30:39\n"
     ]
    }
   ],
   "source": [
    "# previously, I found that 2r1w has no chain near the ligand.\n",
    "data = data.query(\"pdb != '2r1w'\").reset_index(drop=True)\n",
    "tt()"
   ]
  },
  {
   "cell_type": "markdown",
   "id": "c4e05cea",
   "metadata": {},
   "source": [
    "# p2rank segmentation"
   ]
  },
  {
   "cell_type": "code",
   "execution_count": 23,
   "id": "e49b8ae8",
   "metadata": {},
   "outputs": [
    {
     "name": "stdout",
     "output_type": "stream",
     "text": [
      "10-10 10:30:39\n"
     ]
    }
   ],
   "source": [
    "if not CTN:\n",
    "    p2rank_prediction_folder = f\"{pre_main}/p2rank_protein_remove_extra_chains_10A\"\n",
    "    os.system(f\"mkdir -p {p2rank_prediction_folder}\")\n",
    "    ds = f\"{p2rank_prediction_folder}/protein_list.ds\"\n",
    "    with open(ds, \"w\") as out:\n",
    "        for pdb in data.pdb.values:\n",
    "            out.write(f\"../protein_remove_extra_chains_10A/{pdb}_protein.pdb\\n\")\n",
    "tt()"
   ]
  },
  {
   "cell_type": "code",
   "execution_count": 24,
   "id": "b3438c7b",
   "metadata": {},
   "outputs": [
    {
     "name": "stdout",
     "output_type": "stream",
     "text": [
      "10-10 10:30:40\n"
     ]
    }
   ],
   "source": [
    "if not CTN:\n",
    "    # takes about 30 minutes.\n",
    "    p2rank = \"bash /home/jovyan/p2rank_2.3/prank\"\n",
    "    cmd = f\"{p2rank} predict {ds} -o {p2rank_prediction_folder}/p2rank -threads 16\"\n",
    "    os.system(cmd)\n",
    "tt()"
   ]
  },
  {
   "cell_type": "code",
   "execution_count": 25,
   "id": "910f54fb",
   "metadata": {},
   "outputs": [
    {
     "name": "stdout",
     "output_type": "stream",
     "text": [
      "10-10 10:30:40\n"
     ]
    }
   ],
   "source": [
    "if not CTN:\n",
    "    data.to_csv(f\"{pre_main}/data.csv\")\n",
    "tt()"
   ]
  },
  {
   "cell_type": "markdown",
   "id": "1d2fc3a8",
   "metadata": {},
   "source": [
    "### Continue From Here"
   ]
  },
  {
   "cell_type": "code",
   "execution_count": 26,
   "id": "cf4415a1",
   "metadata": {},
   "outputs": [
    {
     "name": "stdout",
     "output_type": "stream",
     "text": [
      "(19126, 8)\n",
      "10-10 10:30:40\n"
     ]
    }
   ],
   "source": [
    "data = pd.read_csv(f\"{pre_main}/data.csv\")\n",
    "print(data.shape)\n",
    "tt()"
   ]
  },
  {
   "cell_type": "code",
   "execution_count": 27,
   "id": "5e601c3b",
   "metadata": {},
   "outputs": [
    {
     "name": "stdout",
     "output_type": "stream",
     "text": [
      "10-10 10:30:40\n"
     ]
    }
   ],
   "source": [
    "pdb_list = data.pdb.values\n",
    "tt()"
   ]
  },
  {
   "cell_type": "code",
   "execution_count": 28,
   "id": "12746f0b",
   "metadata": {},
   "outputs": [
    {
     "data": {
      "text/plain": [
       "0"
      ]
     },
     "execution_count": 28,
     "metadata": {},
     "output_type": "execute_result"
    }
   ],
   "source": [
    "tankbind_data_path = f\"{pre_main}/tankbind_data\"\n",
    "os.system(f\"mkdir -p {tankbind_data_path}\")"
   ]
  },
  {
   "cell_type": "code",
   "execution_count": 29,
   "id": "12847b29",
   "metadata": {},
   "outputs": [],
   "source": [
    "name_list = pdb_list\n",
    "d_list = []\n",
    "\n",
    "if not CTN:\n",
    "    for name in tqdm(name_list):\n",
    "        p2rankFile = f\"{pre_main}/p2rank_protein_remove_extra_chains_10A/p2rank/{name}_protein.pdb_predictions.csv\"\n",
    "        d = pd.read_csv(p2rankFile)\n",
    "        d.columns = d.columns.str.strip()\n",
    "        d_list.append(d.assign(name=name))\n",
    "    d = pd.concat(d_list).reset_index(drop=True)\n",
    "    d.reset_index(drop=True).to_feather(f\"{tankbind_data_path}/p2rank_result.feather\")"
   ]
  },
  {
   "cell_type": "code",
   "execution_count": 30,
   "id": "e1762386",
   "metadata": {},
   "outputs": [
    {
     "name": "stdout",
     "output_type": "stream",
     "text": [
      "10-10 10:30:41\n"
     ]
    }
   ],
   "source": [
    "d = pd.read_feather(f\"{tankbind_data_path}/p2rank_result.feather\")\n",
    "tt()"
   ]
  },
  {
   "cell_type": "code",
   "execution_count": 31,
   "id": "db3d013e",
   "metadata": {},
   "outputs": [
    {
     "name": "stderr",
     "output_type": "stream",
     "text": [
      "100%|██████████| 19126/19126 [02:41<00:00, 118.11it/s]"
     ]
    },
    {
     "name": "stdout",
     "output_type": "stream",
     "text": [
      "10-10 10:33:23\n"
     ]
    },
    {
     "name": "stderr",
     "output_type": "stream",
     "text": [
      "\n"
     ]
    }
   ],
   "source": [
    "pockets_dict = {}\n",
    "for name in tqdm(name_list):\n",
    "    pockets_dict[name] = d[d.name == name].reset_index(drop=True)\n",
    "tt()"
   ]
  },
  {
   "cell_type": "code",
   "execution_count": 34,
   "id": "90e87492",
   "metadata": {},
   "outputs": [
    {
     "name": "stdout",
     "output_type": "stream",
     "text": [
      "10-10 10:35:17\n"
     ]
    }
   ],
   "source": [
    "if not CTN:\n",
    "    torch.save(pockets_dict, f\"{tankbind_data_path}/pocket_dict.pt\")\n",
    "pockets_dict = torch.load(f\"{tankbind_data_path}/pocket_dict.pt\")\n",
    "tt()"
   ]
  },
  {
   "cell_type": "markdown",
   "id": "5f9140de",
   "metadata": {},
   "source": [
    "# protein feature"
   ]
  },
  {
   "cell_type": "code",
   "execution_count": 35,
   "id": "b689f3e0",
   "metadata": {},
   "outputs": [
    {
     "name": "stdout",
     "output_type": "stream",
     "text": [
      "10-10 10:35:20\n"
     ]
    }
   ],
   "source": [
    "from feature_utils import get_protein_feature\n",
    "from feature_utils import nciyes_get_protein_feature\n",
    "tt()"
   ]
  },
  {
   "cell_type": "code",
   "execution_count": 36,
   "id": "d29e0a82",
   "metadata": {},
   "outputs": [
    {
     "name": "stdout",
     "output_type": "stream",
     "text": [
      "10-10 10:35:24\n"
     ]
    }
   ],
   "source": [
    "input_ = []\n",
    "protein_embedding_folder = f\"{tankbind_data_path}/gvp_protein_embedding\"\n",
    "os.system(f\"mkdir -p {protein_embedding_folder}\")\n",
    "for pdb in pdb_list:\n",
    "    proteinFile = f\"{pre_main}/protein_remove_extra_chains_10A/{pdb}_protein.pdb\"\n",
    "    toFile = [f\"{protein_embedding_folder}/{pdb}.pt\", f\"{protein_embedding_folder}/{pdb}_id.pt\"]\n",
    "    x = (pdb, proteinFile, toFile)\n",
    "    input_.append(x)\n",
    "tt()"
   ]
  },
  {
   "cell_type": "code",
   "execution_count": 37,
   "id": "12ac77de",
   "metadata": {},
   "outputs": [
    {
     "name": "stdout",
     "output_type": "stream",
     "text": [
      "10-10 10:35:30\n"
     ]
    }
   ],
   "source": [
    "def get_full_id(full_id_ls: list, resname):\n",
    "    chain_id = full_id_ls[2]\n",
    "    res_id = full_id_ls[3][1]\n",
    "    return chain_id + \"_\" + str(res_id) + \"_\" + resname\n",
    "tt()"
   ]
  },
  {
   "cell_type": "code",
   "execution_count": 38,
   "id": "70121a0c",
   "metadata": {},
   "outputs": [
    {
     "name": "stdout",
     "output_type": "stream",
     "text": [
      "10-10 10:35:35\n"
     ]
    }
   ],
   "source": [
    "from Bio.PDB import PDBParser\n",
    "from feature_utils import get_clean_res_list\n",
    "import torch\n",
    "torch.set_num_threads(1)\n",
    "\n",
    "def batch_run(x):\n",
    "    protein_dict = {}\n",
    "    protein_id_dict = {}\n",
    "    pdb, proteinFile, toFile = x\n",
    "    parser = PDBParser(QUIET=True)\n",
    "    s = parser.get_structure(pdb, proteinFile)\n",
    "    res_list = get_clean_res_list(s.get_residues(), verbose=False, ensure_ca_exist=True)\n",
    "    res_full_id_list = [get_full_id(x.full_id, x.get_resname()) for x in res_list]\n",
    "    protein_dict[pdb], protein_id_dict[pdb] = nciyes_get_protein_feature(res_list, res_full_id_list)\n",
    "    torch.save(protein_dict, toFile[0])\n",
    "    torch.save(protein_id_dict, toFile[1])\n",
    "tt()"
   ]
  },
  {
   "cell_type": "code",
   "execution_count": 39,
   "id": "321cee7f",
   "metadata": {},
   "outputs": [
    {
     "name": "stdout",
     "output_type": "stream",
     "text": [
      "10-10 10:35:39\n"
     ]
    }
   ],
   "source": [
    "if not CTN:\n",
    "    import mlcrate as mlc\n",
    "    import os\n",
    "    pool = mlc.SuperPool(64)\n",
    "    pool.pool.restart()\n",
    "    _ = pool.map(batch_run,input_)\n",
    "    pool.exit()\n",
    "tt()"
   ]
  },
  {
   "cell_type": "code",
   "execution_count": 40,
   "id": "bfbc3289",
   "metadata": {},
   "outputs": [
    {
     "name": "stderr",
     "output_type": "stream",
     "text": [
      "100%|██████████| 19126/19126 [12:50<00:00, 24.81it/s]"
     ]
    },
    {
     "name": "stdout",
     "output_type": "stream",
     "text": [
      "10-10 10:48:38\n"
     ]
    },
    {
     "name": "stderr",
     "output_type": "stream",
     "text": [
      "\n"
     ]
    }
   ],
   "source": [
    "import torch\n",
    "protein_dict = {}\n",
    "protein_id_dict = {}\n",
    "for pdb in tqdm(pdb_list):\n",
    "    protein_dict.update(torch.load(f\"{protein_embedding_folder}/{pdb}.pt\"))\n",
    "    protein_id_dict.update(torch.load(f\"{protein_embedding_folder}/{pdb}_id.pt\"))\n",
    "tt()"
   ]
  },
  {
   "cell_type": "markdown",
   "id": "7d8d60b3",
   "metadata": {},
   "source": [
    "# Compound Features"
   ]
  },
  {
   "cell_type": "code",
   "execution_count": 41,
   "id": "ff6d64d7",
   "metadata": {},
   "outputs": [
    {
     "name": "stderr",
     "output_type": "stream",
     "text": [
      "  1%|          | 238/19126 [00:07<08:43, 36.05it/s]/opt/conda/envs/tankbind_py38/lib/python3.8/site-packages/torchdrug/data/feature.py:37: UserWarning: Unknown value `As`\n",
      "  warnings.warn(\"Unknown value `%s`\" % x)\n",
      "  3%|▎         | 508/19126 [00:15<11:14, 27.61it/s]/opt/conda/envs/tankbind_py38/lib/python3.8/site-packages/torchdrug/data/feature.py:37: UserWarning: Unknown value `Fe`\n",
      "  warnings.warn(\"Unknown value `%s`\" % x)\n",
      "  3%|▎         | 528/19126 [00:15<08:53, 34.89it/s]/opt/conda/envs/tankbind_py38/lib/python3.8/site-packages/torchdrug/data/feature.py:37: UserWarning: Unknown value `Pt`\n",
      "  warnings.warn(\"Unknown value `%s`\" % x)\n",
      " 16%|█▌        | 2986/19126 [01:34<08:38, 31.14it/s]/opt/conda/envs/tankbind_py38/lib/python3.8/site-packages/torchdrug/data/feature.py:37: UserWarning: Unknown value `V`\n",
      "  warnings.warn(\"Unknown value `%s`\" % x)\n",
      "/opt/conda/envs/tankbind_py38/lib/python3.8/site-packages/torchdrug/data/feature.py:37: UserWarning: Unknown value `8`\n",
      "  warnings.warn(\"Unknown value `%s`\" % x)\n",
      " 16%|█▌        | 3072/19126 [01:39<16:12, 16.51it/s]/opt/conda/envs/tankbind_py38/lib/python3.8/site-packages/torchdrug/data/feature.py:37: UserWarning: Unknown value `7`\n",
      "  warnings.warn(\"Unknown value `%s`\" % x)\n",
      " 17%|█▋        | 3284/19126 [01:52<16:29, 16.00it/s]/opt/conda/envs/tankbind_py38/lib/python3.8/site-packages/torchdrug/data/feature.py:37: UserWarning: Unknown value `6`\n",
      "  warnings.warn(\"Unknown value `%s`\" % x)\n",
      " 22%|██▏       | 4230/19126 [02:53<13:36, 18.24it/s]/opt/conda/envs/tankbind_py38/lib/python3.8/site-packages/torchdrug/data/feature.py:37: UserWarning: Unknown value `9`\n",
      "  warnings.warn(\"Unknown value `%s`\" % x)\n",
      " 28%|██▊       | 5270/19126 [03:53<13:12, 17.48it/s]"
     ]
    },
    {
     "name": "stdout",
     "output_type": "stream",
     "text": [
      "\n",
      "3kqs\n"
     ]
    },
    {
     "name": "stderr",
     "output_type": "stream",
     "text": [
      " 37%|███▋      | 6996/19126 [05:04<10:59, 18.38it/s]/opt/conda/envs/tankbind_py38/lib/python3.8/site-packages/torchdrug/data/feature.py:37: UserWarning: Unknown value `Rh`\n",
      "  warnings.warn(\"Unknown value `%s`\" % x)\n",
      " 50%|█████     | 9580/19126 [07:17<09:17, 17.12it/s]/opt/conda/envs/tankbind_py38/lib/python3.8/site-packages/torchdrug/data/feature.py:37: UserWarning: Unknown value `Ru`\n",
      "  warnings.warn(\"Unknown value `%s`\" % x)\n",
      " 56%|█████▌    | 10644/19126 [08:14<07:15, 19.49it/s]/opt/conda/envs/tankbind_py38/lib/python3.8/site-packages/torchdrug/data/feature.py:37: UserWarning: Unknown value `Sb`\n",
      "  warnings.warn(\"Unknown value `%s`\" % x)\n",
      " 58%|█████▊    | 11124/19126 [08:35<06:05, 21.89it/s]/opt/conda/envs/tankbind_py38/lib/python3.8/site-packages/torchdrug/data/feature.py:37: UserWarning: Unknown value `Co`\n",
      "  warnings.warn(\"Unknown value `%s`\" % x)\n",
      " 58%|█████▊    | 11154/19126 [08:36<06:03, 21.94it/s]/opt/conda/envs/tankbind_py38/lib/python3.8/site-packages/torchdrug/data/feature.py:37: UserWarning: Unknown value `Ir`\n",
      "  warnings.warn(\"Unknown value `%s`\" % x)\n",
      " 73%|███████▎  | 13976/19126 [10:26<03:59, 21.51it/s]/opt/conda/envs/tankbind_py38/lib/python3.8/site-packages/torchdrug/data/feature.py:37: UserWarning: Unknown value `Re`\n",
      "  warnings.warn(\"Unknown value `%s`\" % x)\n",
      " 79%|███████▉  | 15141/19126 [11:26<04:26, 14.97it/s]/opt/conda/envs/tankbind_py38/lib/python3.8/site-packages/torchdrug/data/feature.py:37: UserWarning: Unknown value `10`\n",
      "  warnings.warn(\"Unknown value `%s`\" % x)\n",
      " 95%|█████████▍| 18131/19126 [14:40<00:54, 18.18it/s]/opt/conda/envs/tankbind_py38/lib/python3.8/site-packages/torchdrug/data/feature.py:37: UserWarning: Unknown value `Te`\n",
      "  warnings.warn(\"Unknown value `%s`\" % x)\n",
      "100%|██████████| 19126/19126 [15:41<00:00, 20.32it/s]"
     ]
    },
    {
     "name": "stdout",
     "output_type": "stream",
     "text": [
      "10-10 11:04:22\n"
     ]
    },
    {
     "name": "stderr",
     "output_type": "stream",
     "text": [
      "\n"
     ]
    }
   ],
   "source": [
    "from feature_utils import extract_torchdrug_feature_from_mol\n",
    "if not CTN:\n",
    "    compound_dict = {}\n",
    "    skip_pdb_list = []\n",
    "    for pdb in tqdm(pdb_list):\n",
    "        mol, _ = read_mol(f\"{pre_main}/renumber_atom_index_same_as_smiles/{pdb}.sdf\", None)\n",
    "        # extract features from sdf.\n",
    "        try:\n",
    "            compound_dict[pdb] = extract_torchdrug_feature_from_mol(mol, has_LAS_mask=True)  # self-dock set has_LAS_mask to true\n",
    "        except Exception as e:\n",
    "            print(e)\n",
    "            skip_pdb_list.append(pdb)\n",
    "            print(pdb)\n",
    "    torch.save(compound_dict, f\"{tankbind_data_path}/compound_torchdrug_features.pt\")\n",
    "tt()"
   ]
  },
  {
   "cell_type": "code",
   "execution_count": 43,
   "id": "a5707780",
   "metadata": {},
   "outputs": [],
   "source": [
    "compound_dict = torch.load(f\"{tankbind_data_path}/compound_torchdrug_features.pt\")\n",
    "skip_pdb_list = ['3kqs']\n",
    "tt()"
   ]
  },
  {
   "cell_type": "code",
   "execution_count": 45,
   "id": "92b17db2",
   "metadata": {},
   "outputs": [
    {
     "name": "stdout",
     "output_type": "stream",
     "text": [
      "10-10 11:05:54\n"
     ]
    }
   ],
   "source": [
    "data = data.query(\"pdb not in @skip_pdb_list\").reset_index(drop=True)\n",
    "tt()"
   ]
  },
  {
   "cell_type": "markdown",
   "id": "64445b57",
   "metadata": {},
   "source": [
    "### NCI Features"
   ]
  },
  {
   "cell_type": "code",
   "execution_count": 46,
   "id": "4f821688",
   "metadata": {},
   "outputs": [
    {
     "name": "stdout",
     "output_type": "stream",
     "text": [
      "10-10 11:06:04\n"
     ]
    }
   ],
   "source": [
    "lig_nameid_dict = torch.load(\"../../dataspace/NFT/main/ligand_name_dicts/ligdict_nameid.pt\")\n",
    "lig_id_dict = torch.load(\"../../dataspace/NFT/main/ligand_name_dicts/ligdict_id.pt\")\n",
    "NCI_df = pd.read_csv(\"/home/jovyan/dataspace/processed_nci_data/v10.8/Data.v10.8.NCIs.csv\")\n",
    "tt()"
   ]
  },
  {
   "cell_type": "code",
   "execution_count": 52,
   "id": "9277c7ca",
   "metadata": {},
   "outputs": [
    {
     "name": "stdout",
     "output_type": "stream",
     "text": [
      "10-10 11:56:44\n"
     ]
    }
   ],
   "source": [
    "# for pdb in tqdm(pdb_list):\n",
    "from collections import defaultdict\n",
    "from tqdm import tqdm\n",
    "if not CTN:\n",
    "    nci_info = {}\n",
    "    nci_save_path = \"/home/jovyan/dataspace/NFT/main/nci_protein_ligand_matrix\"\n",
    "    # os.system(f\"rm -rf {nci_save_path}\")\n",
    "    os.system(f\"mkdir -p {nci_save_path}\")\n",
    "    for pdb in tqdm(pdb_list):\n",
    "        #print(pdb)\n",
    "        if True:\n",
    "            if (pdb not in lig_nameid_dict) and (pdb not in lig_id_dict):\n",
    "                nci_info[pdb] = \"BAD_NoLigName\"\n",
    "                continue\n",
    "                \n",
    "            \n",
    "            # Lig\n",
    "            mol, _ = read_mol(f\"{pre_main}/renumber_atom_index_same_as_smiles/{pdb}.sdf\", None)\n",
    "            \n",
    "            # Protein\n",
    "            proteinFile = f\"{pre_main}/protein_remove_extra_chains_10A/{pdb}_protein.pdb\"\n",
    "            toFile = [f\"{protein_embedding_folder}/{pdb}.pt\", f\"{protein_embedding_folder}/{pdb}_id.pt\"]\n",
    "            ebd = torch.load(toFile[0])[pdb]\n",
    "            protein_ids = torch.load(toFile[1])[pdb]\n",
    "            \n",
    "            # inverse protein_ids:\n",
    "            protein_id_inverse = defaultdict(list)\n",
    "            for _id, _name in protein_ids.items():\n",
    "                protein_id_inverse[_name[0]].append(_id)\n",
    "            \n",
    "            protein_id_inverse = {k:v for k, v in protein_id_inverse.items()}\n",
    "            \n",
    "            # inverse lig_ids:\n",
    "            \n",
    "            if pdb in lig_nameid_dict:\n",
    "                liglen = len(lig_nameid_dict[pdb])\n",
    "                lig_id_inverse = {_value[1]:_key for _key, _value in lig_nameid_dict[pdb].items()}\n",
    "            elif pdb in lig_id_dict:\n",
    "                liglen = len(lig_id_dict[pdb])\n",
    "                lig_id_inverse = {_value:_key for _key, _value in lig_id_dict[pdb].items()}\n",
    "                \n",
    "            ncis = NCI_df[NCI_df.PDB_Code==pdb]\n",
    "            if len(ncis) == 0:\n",
    "                nci_info[pdb] = \"BAD_EmptyNCI\"\n",
    "            \n",
    "            pl_0 = ebd[0].shape[0]\n",
    "            pl_1 = len(protein_ids)\n",
    "            ll_0 = mol.GetNumAtoms()\n",
    "            ll_1 = liglen\n",
    "            if pl_0 != pl_1:\n",
    "                nci_info[pdb] = \"BAD_ResNum\"\n",
    "                continue\n",
    "            elif ll_0 != ll_1:\n",
    "                nci_info[pdb] = \"BAD_AtomNum\"\n",
    "                continue\n",
    "            \n",
    "            nci_matrix = torch.zeros(pl_0, ll_0)\n",
    "            nci_matrix_0 = torch.zeros(pl_0, ll_0)\n",
    "            \n",
    "            if pdb in nci_info:\n",
    "                torch.save({pdb:nci_matrix_0}, f\"{nci_save_path}/{pdb}_nci_matrix.pt\")\n",
    "                continue\n",
    "            \n",
    "            for line in ncis.iterrows():\n",
    "                ResFullID, l_id = line[1]['ResFullID'], line[1]['l_id']\n",
    "                \n",
    "                try:\n",
    "                    p_index = protein_id_inverse[ResFullID]\n",
    "                except:\n",
    "                    nci_info[pdb] = \"BAD_ResKey\"\n",
    "                    torch.save({pdb:nci_matrix_0}, f\"{nci_save_path}/{pdb}_nci_matrix.pt\")\n",
    "                    break\n",
    "                try:\n",
    "                    l_index = lig_id_inverse[l_id]\n",
    "                except:\n",
    "                    nci_info[pdb] = \"BAD_AtomKey\"\n",
    "                    torch.save({pdb:nci_matrix_0}, f\"{nci_save_path}/{pdb}_nci_matrix.pt\")\n",
    "                    break\n",
    "                \n",
    "                if len(p_index) > 1:\n",
    "                    nci_info[pdb] = \"BAD_ResIncoherant\"\n",
    "                    torch.save({pdb:nci_matrix_0}, f\"{nci_save_path}/{pdb}_nci_matrix.pt\")\n",
    "                    break\n",
    "                else:\n",
    "                    nci_matrix[p_index[0]][l_index] = 1\n",
    "                    \n",
    "            if pdb in nci_info:\n",
    "                continue\n",
    "            else:\n",
    "                nci_info[pdb] = \"YES\"\n",
    "                torch.save({pdb:nci_matrix}, f\"{nci_save_path}/{pdb}_nci_matrix.pt\")\n",
    "    torch.save(nci_info, \"/home/jovyan/dataspace/NFT/main/nci_info.pt\")\n",
    "tt()"
   ]
  },
  {
   "cell_type": "code",
   "execution_count": 53,
   "id": "df45a294",
   "metadata": {},
   "outputs": [
    {
     "name": "stdout",
     "output_type": "stream",
     "text": [
      "10-10 11:56:46\n"
     ]
    }
   ],
   "source": [
    "for k, v in nci_info.items():\n",
    "    if v == \"BAD_ResNum\" or v == \"BAD_AtomNum\":\n",
    "        print(k)\n",
    "tt()"
   ]
  },
  {
   "cell_type": "code",
   "execution_count": 55,
   "id": "9ae43ba4",
   "metadata": {},
   "outputs": [
    {
     "name": "stdout",
     "output_type": "stream",
     "text": [
      "10-10 11:56:58\n"
     ]
    }
   ],
   "source": [
    "nci_info = torch.load(\"/home/jovyan/dataspace/NFT/main/nci_info.pt\")\n",
    "tt()"
   ]
  },
  {
   "cell_type": "code",
   "execution_count": 56,
   "id": "aa867cc5",
   "metadata": {},
   "outputs": [
    {
     "data": {
      "text/plain": [
       "defaultdict(int,\n",
       "            {'YES': 10727,\n",
       "             'BAD_NoLigName': 5680,\n",
       "             'BAD_EmptyNCI': 2597,\n",
       "             'BAD_ResKey': 119,\n",
       "             'BAD_ResIncoherant': 3})"
      ]
     },
     "execution_count": 56,
     "metadata": {},
     "output_type": "execute_result"
    }
   ],
   "source": [
    "nci_info_stat = defaultdict(int)\n",
    "for k,v in nci_info.items():\n",
    "    nci_info_stat[v] += 1\n",
    "nci_info_stat"
   ]
  },
  {
   "cell_type": "code",
   "execution_count": 60,
   "id": "d83cae00",
   "metadata": {},
   "outputs": [
    {
     "name": "stdout",
     "output_type": "stream",
     "text": [
      "10-10 12:04:32\n"
     ]
    }
   ],
   "source": [
    "nci_dict = {}\n",
    "if not CTN:\n",
    "    for pdb in tqdm(pdb_list):\n",
    "        if pdb not in nci_info or nci_info[pdb] != \"YES\":\n",
    "            continue\n",
    "        else:\n",
    "            nci_dict.update(torch.load(f\"{nci_save_path}/{pdb}_nci_matrix.pt\"))\n",
    "    torch.save(nci_dict, f\"{tankbind_data_path}/nci_matrix.pt\")\n",
    "tt()"
   ]
  },
  {
   "cell_type": "code",
   "execution_count": 61,
   "id": "2b64e7a1",
   "metadata": {},
   "outputs": [
    {
     "name": "stdout",
     "output_type": "stream",
     "text": [
      "10-10 12:04:36\n"
     ]
    }
   ],
   "source": [
    "nci_dict = torch.load(f\"{tankbind_data_path}/nci_matrix.pt\")\n",
    "tt()"
   ]
  },
  {
   "cell_type": "markdown",
   "id": "78f25b2f",
   "metadata": {},
   "source": [
    "# construct dataset."
   ]
  },
  {
   "cell_type": "code",
   "execution_count": 63,
   "id": "97a21f59",
   "metadata": {},
   "outputs": [
    {
     "name": "stdout",
     "output_type": "stream",
     "text": [
      "10-10 12:04:43\n"
     ]
    }
   ],
   "source": [
    "# we use the time-split defined in EquiBind paper.\n",
    "# https://github.com/HannesStark/EquiBind/tree/main/data\n",
    "valid = np.loadtxt(\"/home/jovyan/data/Equiband/timesplit_no_lig_overlap_val\", dtype=str)\n",
    "test = np.loadtxt(\"/home/jovyan/data/Equiband/timesplit_test\", dtype=str)\n",
    "def assign_group(pdb, valid=valid, test=test):\n",
    "    if pdb in valid:\n",
    "        return 'valid'\n",
    "    if pdb in test:\n",
    "        return 'test'\n",
    "    return 'train'\n",
    "\n",
    "data['group'] = data.pdb.map(assign_group)\n",
    "tt()"
   ]
  },
  {
   "cell_type": "code",
   "execution_count": 65,
   "id": "275891d7",
   "metadata": {},
   "outputs": [
    {
     "name": "stdout",
     "output_type": "stream",
     "text": [
      "group\n",
      "train    17794\n",
      "valid      968\n",
      "test       363\n",
      "dtype: int64\n",
      "10-10 12:04:50\n"
     ]
    }
   ],
   "source": [
    "print(data.value_counts(\"group\"))\n",
    "tt()"
   ]
  },
  {
   "cell_type": "code",
   "execution_count": 67,
   "id": "04ca68b2",
   "metadata": {},
   "outputs": [
    {
     "name": "stdout",
     "output_type": "stream",
     "text": [
      "10-10 12:04:57\n"
     ]
    }
   ],
   "source": [
    "data['name'] = data['pdb']\n",
    "tt()"
   ]
  },
  {
   "cell_type": "code",
   "execution_count": 72,
   "id": "26bc4d87",
   "metadata": {},
   "outputs": [
    {
     "name": "stderr",
     "output_type": "stream",
     "text": [
      "100%|██████████| 19125/19125 [00:22<00:00, 866.22it/s]\n"
     ]
    },
    {
     "name": "stdout",
     "output_type": "stream",
     "text": [
      "10-10 12:15:28\n"
     ]
    }
   ],
   "source": [
    "if CTN:\n",
    "    info = []\n",
    "    for i, line in tqdm(data.iterrows(), total=data.shape[0]):\n",
    "        pdb = line['pdb']\n",
    "        uid = line['uid']\n",
    "        # smiles = line['smiles']\n",
    "        smiles = \"\"\n",
    "        affinity = line['affinity']\n",
    "        group = line['group']\n",
    "\n",
    "        compound_name = line['name']\n",
    "        protein_name = line['name']\n",
    "\n",
    "        pocket = pockets_dict[pdb].head(10)\n",
    "        pocket.columns = pocket.columns.str.strip()\n",
    "        pocket_coms = pocket[['center_x', 'center_y', 'center_z']].values\n",
    "        \n",
    "        has_nci = (nci_info[protein_name] == \"YES\")\n",
    "        compound_sdf_from_nci = (protein_name in lig_id_dict.keys())\n",
    "        # native block.\n",
    "        info.append([protein_name, compound_name, pdb, smiles, affinity, uid, None, True, False, group, has_nci, compound_sdf_from_nci])\n",
    "        # protein center as a block.\n",
    "        protein_com = protein_dict[protein_name][0].numpy().mean(axis=0).astype(float).reshape(1, 3)\n",
    "        info.append([protein_name, compound_name, pdb+\"_c\", smiles, affinity, uid, protein_com, False, False, group, has_nci, compound_sdf_from_nci])\n",
    "        \n",
    "        for idx, pocket_line in pocket.iterrows():\n",
    "            pdb_idx = f\"{pdb}_{idx}\"\n",
    "            info.append([protein_name, compound_name, pdb_idx, smiles, affinity, uid, pocket_coms[idx].reshape(1, 3), False, False, group, has_nci, compound_sdf_from_nci])\n",
    "    info = pd.DataFrame(info, columns=['protein_name', 'compound_name', 'pdb', 'smiles', 'affinity', 'uid', 'pocket_com', \n",
    "                                    'use_compound_com', 'use_whole_protein',\n",
    "                                    'group', 'has_nci_info', 'compound_sdf_from_nci'])\n",
    "    info.to_csv(f\"{tankbind_data_path}/info.csv\")\n",
    "info = pd.read_csv(f\"{tankbind_data_path}/info.csv\")\n",
    "tt()\n",
    "\n"
   ]
  },
  {
   "cell_type": "code",
   "execution_count": 75,
   "id": "861562aa",
   "metadata": {},
   "outputs": [
    {
     "name": "stdout",
     "output_type": "stream",
     "text": [
      "10-10 12:23:53\n"
     ]
    }
   ],
   "source": [
    "info.shape\n",
    "tt()"
   ]
  },
  {
   "cell_type": "code",
   "execution_count": 76,
   "id": "c1a09bfa",
   "metadata": {},
   "outputs": [
    {
     "name": "stdout",
     "output_type": "stream",
     "text": [
      "10-10 12:23:56\n"
     ]
    }
   ],
   "source": [
    "info\n",
    "tt()"
   ]
  },
  {
   "cell_type": "code",
   "execution_count": 43,
   "id": "396b862a",
   "metadata": {},
   "outputs": [],
   "source": [
    "from data_nci import "
   ]
  },
  {
   "cell_type": "code",
   "execution_count": null,
   "id": "53cc9668",
   "metadata": {},
   "outputs": [],
   "source": [
    "toFilePre = f\"{pre}/dataset\"\n",
    "os.system(f\"mkdir -p {toFilePre}\")\n",
    "dataset = TankBindDataSet(toFilePre, data=info, protein_dict=protein_dict, compound_dict=compound_dict)"
   ]
  },
  {
   "cell_type": "code",
   "execution_count": null,
   "id": "456655b8",
   "metadata": {},
   "outputs": [],
   "source": [
    "dataset = TankBindDataSet(toFilePre)\n"
   ]
  },
  {
   "cell_type": "code",
   "execution_count": 45,
   "id": "26f65962",
   "metadata": {},
   "outputs": [
    {
     "name": "stderr",
     "output_type": "stream",
     "text": [
      "100%|██████████| 161940/161940 [11:33<00:00, 233.55it/s]\n"
     ]
    }
   ],
   "source": [
    "t = []\n",
    "data = dataset.data\n",
    "pre_pdb = None\n",
    "for i, line in tqdm(data.iterrows(), total=data.shape[0]):\n",
    "    pdb = line['compound_name']\n",
    "    d = dataset[i]\n",
    "    p_length = d['node_xyz'].shape[0]\n",
    "    c_length = d['coords'].shape[0]\n",
    "    y_length = d['y'].shape[0]\n",
    "    num_contact = (d.y > 0).sum()\n",
    "    t.append([i, pdb, p_length, c_length, y_length, num_contact])\n",
    "\n"
   ]
  },
  {
   "cell_type": "code",
   "execution_count": 38,
   "id": "bc8a5b19",
   "metadata": {
    "scrolled": true
   },
   "outputs": [],
   "source": [
    "# data = data.drop(['p_length', 'c_length', 'y_length', 'num_contact'], axis=1)"
   ]
  },
  {
   "cell_type": "code",
   "execution_count": 46,
   "id": "058c4776",
   "metadata": {},
   "outputs": [],
   "source": [
    "t = pd.DataFrame(t, columns=['index', 'pdb' ,'p_length', 'c_length', 'y_length', 'num_contact'])\n",
    "t['num_contact'] = t['num_contact'].apply(lambda x: x.item())"
   ]
  },
  {
   "cell_type": "code",
   "execution_count": 47,
   "id": "4ac10390",
   "metadata": {},
   "outputs": [],
   "source": [
    "data = pd.concat([data, t[['p_length', 'c_length', 'y_length', 'num_contact']]], axis=1)"
   ]
  },
  {
   "cell_type": "code",
   "execution_count": 48,
   "id": "959205ff",
   "metadata": {},
   "outputs": [],
   "source": [
    "native_num_contact = data.query(\"use_compound_com\").set_index(\"protein_name\")['num_contact'].to_dict()\n",
    "data['native_num_contact'] = data.protein_name.map(native_num_contact)\n",
    "# data['fract_of_native_contact'] = data['num_contact'] / data['native_num_contact']"
   ]
  },
  {
   "cell_type": "code",
   "execution_count": 49,
   "id": "8fa707df",
   "metadata": {},
   "outputs": [],
   "source": [
    "torch.save(data, f\"{toFilePre}/processed/data.pt\")"
   ]
  },
  {
   "cell_type": "code",
   "execution_count": 51,
   "id": "184158ad",
   "metadata": {},
   "outputs": [],
   "source": [
    "info = torch.load(f\"{toFilePre}/processed/data.pt\")\n"
   ]
  },
  {
   "cell_type": "code",
   "execution_count": 52,
   "id": "2e5f5c5b",
   "metadata": {},
   "outputs": [],
   "source": [
    "test = info.query(\"group == 'test'\").reset_index(drop=True)\n",
    "test_pdb_list = info.query(\"group == 'test'\").protein_name.unique()"
   ]
  },
  {
   "cell_type": "code",
   "execution_count": 53,
   "id": "6deb8274",
   "metadata": {},
   "outputs": [
    {
     "name": "stderr",
     "output_type": "stream",
     "text": [
      "100%|██████████| 363/363 [00:00<00:00, 251866.39it/s]\n"
     ]
    }
   ],
   "source": [
    "subset_protein_dict = {}\n",
    "for pdb in tqdm(test_pdb_list):\n",
    "    subset_protein_dict[pdb] = protein_dict[pdb]"
   ]
  },
  {
   "cell_type": "code",
   "execution_count": 54,
   "id": "b7a1c1a1",
   "metadata": {},
   "outputs": [
    {
     "name": "stderr",
     "output_type": "stream",
     "text": [
      "100%|██████████| 363/363 [00:00<00:00, 182208.28it/s]\n"
     ]
    }
   ],
   "source": [
    "subset_compound_dict = {}\n",
    "for pdb in tqdm(test_pdb_list):\n",
    "    subset_compound_dict[pdb] = compound_dict[pdb]"
   ]
  },
  {
   "cell_type": "code",
   "execution_count": null,
   "id": "b8d7d3ce",
   "metadata": {},
   "outputs": [],
   "source": [
    "\n",
    "toFilePre = f\"{pre}/test_dataset\"\n",
    "os.system(f\"mkdir -p {toFilePre}\")\n",
    "dataset = TankBindDataSet(toFilePre, data=test, protein_dict=subset_protein_dict, compound_dict=subset_compound_dict)"
   ]
  },
  {
   "cell_type": "code",
   "execution_count": null,
   "id": "3699395a",
   "metadata": {},
   "outputs": [],
   "source": [
    "def canonical_smiles(smiles):\n",
    "    return Chem.MolToSmiles(Chem.MolFromSmiles(smiles))"
   ]
  }
 ],
 "metadata": {
  "kernelspec": {
   "display_name": "Python 3.8.13 ('tankbind_py38')",
   "language": "python",
   "name": "python3"
  },
  "language_info": {
   "codemirror_mode": {
    "name": "ipython",
    "version": 3
   },
   "file_extension": ".py",
   "mimetype": "text/x-python",
   "name": "python",
   "nbconvert_exporter": "python",
   "pygments_lexer": "ipython3",
   "version": "3.8.13"
  },
  "vscode": {
   "interpreter": {
    "hash": "3642610297c2db0c2e515b5d6934e6fa60bcae4d2e973dd2c51cba19538092f6"
   }
  }
 },
 "nbformat": 4,
 "nbformat_minor": 5
}
