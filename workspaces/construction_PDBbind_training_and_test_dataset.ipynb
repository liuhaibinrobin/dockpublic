{
 "cells": [
  {
   "cell_type": "markdown",
   "id": "fea8b151",
   "metadata": {
    "pycharm": {
     "name": "#%% md\n"
    }
   },
   "source": [
    "# overview\n",
    "\n",
    "We start from the raw PDBbind dataset downloaded from http://www.pdbbind.org.cn/download.php\n",
    "\n",
    "1. filter out those unable to process using RDKit.\n",
    "\n",
    "2. Process the protein by only preserving the chains that with at least one atom within 10Å from any atom of the ligand.\n",
    "\n",
    "3. Use p2rank to segment protein into blocks.\n",
    "\n",
    "4. extract protein and ligand features.\n",
    "\n",
    "5. construct the training and test dataset.\n"
   ]
  },
  {
   "cell_type": "code",
   "execution_count": 1,
   "id": "cbfb2c3d",
   "metadata": {
    "pycharm": {
     "name": "#%%\n"
    }
   },
   "outputs": [],
   "source": [
    "import time\n",
    "from datetime import datetime as dt\n",
    "def tt():\n",
    "    print(time.strftime(\"%m-%d %H:%M:%S\", time.localtime(time.time()+8*3600)))"
   ]
  },
  {
   "cell_type": "code",
   "execution_count": 2,
   "id": "5dcf7ee4",
   "metadata": {
    "pycharm": {
     "name": "#%%\n"
    }
   },
   "outputs": [
    {
     "name": "stdout",
     "output_type": "stream",
     "text": [
      "10-11 09:25:08\n"
     ]
    }
   ],
   "source": [
    "CTN = True\n",
    "tt()"
   ]
  },
  {
   "cell_type": "code",
   "execution_count": 3,
   "id": "b311ab09",
   "metadata": {
    "pycharm": {
     "name": "#%%\n"
    }
   },
   "outputs": [
    {
     "name": "stdout",
     "output_type": "stream",
     "text": [
      "10-11 09:25:10\n"
     ]
    }
   ],
   "source": [
    "tankbind_src_folder_path = \"../tankbind/\"\n",
    "import sys\n",
    "import torch\n",
    "sys.path.insert(0, tankbind_src_folder_path)\n",
    "tt()"
   ]
  },
  {
   "cell_type": "code",
   "execution_count": 4,
   "id": "5069f0d0",
   "metadata": {
    "pycharm": {
     "name": "#%%\n"
    }
   },
   "outputs": [
    {
     "name": "stdout",
     "output_type": "stream",
     "text": [
      "10-11 09:25:10\n"
     ]
    }
   ],
   "source": [
    "import pandas as pd\n",
    "import numpy as np\n",
    "from tqdm import tqdm\n",
    "from collections import defaultdict\n",
    "tt()"
   ]
  },
  {
   "cell_type": "markdown",
   "id": "c16007dc",
   "metadata": {
    "pycharm": {
     "name": "#%% md\n"
    }
   },
   "source": [
    "# process the raw PDBbind dataset."
   ]
  },
  {
   "cell_type": "code",
   "execution_count": 5,
   "id": "426539b6",
   "metadata": {
    "pycharm": {
     "name": "#%%\n"
    }
   },
   "outputs": [
    {
     "name": "stdout",
     "output_type": "stream",
     "text": [
      "10-11 09:25:12\n"
     ]
    }
   ],
   "source": [
    "from utils import read_pdbbind_data\n",
    "tt()"
   ]
  },
  {
   "cell_type": "code",
   "execution_count": 6,
   "id": "4229f4e0",
   "metadata": {
    "pycharm": {
     "name": "#%%\n"
    }
   },
   "outputs": [
    {
     "name": "stdout",
     "output_type": "stream",
     "text": [
      "10-11 09:25:13\n"
     ]
    }
   ],
   "source": [
    "# raw PDBbind dataset could be downloaded from http://www.pdbbind.org.cn/download.php\n",
    "pre = \"/home/jovyan/data/pdbbind2020\"\n",
    "df_pdb_id = pd.read_csv(f'{pre}/index/INDEX_general_PL_name.2020', sep=\"  \", comment='#', header=None, names=['pdb', 'year', 'uid', 'd', 'e','f','g','h','i','j','k','l','m','n','o'], engine='python')\n",
    "df_pdb_id = df_pdb_id[['pdb','uid']]\n",
    "data = read_pdbbind_data(f'{pre}/index/INDEX_general_PL_data.2020')\n",
    "data = data.merge(df_pdb_id, on=['pdb'])\n",
    "tt()\n"
   ]
  },
  {
   "cell_type": "code",
   "execution_count": 7,
   "id": "43c1561b",
   "metadata": {
    "pycharm": {
     "name": "#%%\n"
    }
   },
   "outputs": [
    {
     "name": "stdout",
     "output_type": "stream",
     "text": [
      "10-11 09:25:14\n"
     ]
    }
   ],
   "source": [
    "ctn_path = \"/home/jovyan/dataspace/NFT/main/CTNs\"\n",
    "tt()"
   ]
  },
  {
   "cell_type": "markdown",
   "id": "275f0a5d",
   "metadata": {
    "pycharm": {
     "name": "#%% md\n"
    }
   },
   "source": [
    "# ligand file should be readable by RDKit."
   ]
  },
  {
   "cell_type": "code",
   "execution_count": 8,
   "id": "b7a90f5e",
   "metadata": {
    "pycharm": {
     "name": "#%%\n"
    }
   },
   "outputs": [
    {
     "name": "stdout",
     "output_type": "stream",
     "text": [
      "No CUDA runtime is found, using CUDA_HOME='/usr/local/cuda'\n",
      "10-11 09:25:16\n"
     ]
    }
   ],
   "source": [
    "from feature_utils import read_mol\n",
    "tt()"
   ]
  },
  {
   "cell_type": "code",
   "execution_count": 9,
   "id": "fbe53fe6",
   "metadata": {
    "pycharm": {
     "name": "#%%\n"
    }
   },
   "outputs": [
    {
     "name": "stdout",
     "output_type": "stream",
     "text": [
      "10-11 09:25:18\n"
     ]
    }
   ],
   "source": [
    "from rdkit import RDLogger\n",
    "RDLogger.DisableLog('rdApp.*')\n",
    "pdb_list = []\n",
    "probem_list = []\n",
    "if not CTN:\n",
    "    for pdb in tqdm(data.pdb):\n",
    "        sdf_fileName = f\"{pre}/pdbbind_files/{pdb}/{pdb}_ligand.sdf\"\n",
    "        mol2_fileName = f\"{pre}/pdbbind_files/{pdb}/{pdb}_ligand.mol2\"\n",
    "        mol, problem = read_mol(sdf_fileName, mol2_fileName)\n",
    "        if problem:\n",
    "            probem_list.append(pdb)\n",
    "            continue\n",
    "        pdb_list.append(pdb)\n",
    "    torch.save(pdb_list, f\"{ctn_path}/pdb_list.pt\")\n",
    "pdb_list = torch.load(f\"{ctn_path}/pdb_list.pt\")\n",
    "tt()"
   ]
  },
  {
   "cell_type": "code",
   "execution_count": 10,
   "id": "e5ee0f5b",
   "metadata": {
    "pycharm": {
     "name": "#%%\n"
    }
   },
   "outputs": [
    {
     "name": "stdout",
     "output_type": "stream",
     "text": [
      "(19127, 7)\n",
      "10-11 09:25:19\n"
     ]
    }
   ],
   "source": [
    "data = data.query(\"pdb in @pdb_list\").reset_index(drop=True)\n",
    "print(data.shape)\n",
    "tt()"
   ]
  },
  {
   "cell_type": "code",
   "execution_count": 11,
   "id": "9028fe1a",
   "metadata": {
    "pycharm": {
     "name": "#%%\n"
    }
   },
   "outputs": [
    {
     "data": {
      "text/plain": [
       "(19127, 7)"
      ]
     },
     "execution_count": 11,
     "metadata": {},
     "output_type": "execute_result"
    }
   ],
   "source": [
    "data.shape"
   ]
  },
  {
   "cell_type": "markdown",
   "id": "1bc1970b",
   "metadata": {
    "pycharm": {
     "name": "#%% md\n"
    }
   },
   "source": [
    "### for ease of RMSD evaluation later, we renumber the atom index to be consistent with the smiles"
   ]
  },
  {
   "cell_type": "code",
   "execution_count": 12,
   "id": "12910fb5",
   "metadata": {
    "pycharm": {
     "name": "#%%\n"
    }
   },
   "outputs": [
    {
     "name": "stdout",
     "output_type": "stream",
     "text": [
      "10-11 09:25:23\n"
     ]
    }
   ],
   "source": [
    "from feature_utils import write_renumbered_sdf\n",
    "pre_main = \"/home/jovyan/dataspace/NFT/main\"\n",
    "toFolder = f\"{pre_main}/renumber_atom_index_same_as_smiles\"\n",
    "os.system(f\"mkdir -p {toFolder}\")\n",
    "# for PDB_Code in lig_id_dict.keys(), the sdf in NCI dataset will be used.\n",
    "lig_id_dict = torch.load(\"../../dataspace/NFT/main/ligand_name_dicts/ligdict_id.pt\")\n",
    "tt()"
   ]
  },
  {
   "cell_type": "code",
   "execution_count": 13,
   "id": "ade60b1e",
   "metadata": {
    "pycharm": {
     "name": "#%%\n"
    }
   },
   "outputs": [
    {
     "name": "stdout",
     "output_type": "stream",
     "text": [
      "10-11 09:25:25\n"
     ]
    }
   ],
   "source": [
    "if not CTN:\n",
    "    for pdb in tqdm(pdb_list):\n",
    "        if pdb not in lig_id_dict:  # Use PDBBind dataset sdf\n",
    "            sdf_fileName = f\"{pre}/pdbbind_files/{pdb}/{pdb}_ligand.sdf\"\n",
    "            mol2_fileName = f\"{pre}/pdbbind_files/{pdb}/{pdb}_ligand.mol2\"\n",
    "            toFile = f\"{toFolder}/{pdb}.sdf\"\n",
    "            write_renumbered_sdf(toFile, sdf_fileName, mol2_fileName)\n",
    "        else:  # Use NCI dataset sdf\n",
    "            sdf_fileName = f\"/home/jovyan/dataspace/pdb_bind_2020/{pdb}/{pdb}_ligand.sdf\"\n",
    "            toFile = f\"{toFolder}/{pdb}.sdf\"\n",
    "            write_renumbered_sdf(toFile, sdf_fileName, None)\n",
    "tt()"
   ]
  },
  {
   "cell_type": "code",
   "execution_count": 14,
   "id": "83ce9c74",
   "metadata": {
    "pycharm": {
     "name": "#%%\n"
    }
   },
   "outputs": [
    {
     "name": "stdout",
     "output_type": "stream",
     "text": [
      "10-11 09:25:26\n"
     ]
    }
   ],
   "source": [
    "from feature_utils import write_renumbered_sdf\n",
    "pre_main = \"/home/jovyan/dataspace/NFT/main\"\n",
    "toFolder = f\"{pre_main}/renumber_atom_index_same_as_smiles\"\n",
    "os.system(f\"mkdir -p {toFolder}\")\n",
    "tt()"
   ]
  },
  {
   "cell_type": "code",
   "execution_count": 15,
   "id": "ade60b1e",
   "metadata": {
    "pycharm": {
     "name": "#%%\n"
    }
   },
   "outputs": [],
   "source": [
    "if not CTN:\n",
    "    \n",
    "    for pdb in tqdm(pdb_list):\n",
    "        sdf_fileName = f\"{pre}/pdbbind_files/{pdb}/{pdb}_ligand.sdf\"\n",
    "        mol2_fileName = f\"{pre}/pdbbind_files/{pdb}/{pdb}_ligand.mol2\"\n",
    "        toFile = f\"{toFolder}/{pdb}.sdf\"\n",
    "        write_renumbered_sdf(toFile, sdf_fileName, mol2_fileName)\n"
   ]
  },
  {
   "cell_type": "code",
   "execution_count": 16,
   "id": "6194f700",
   "metadata": {
    "pycharm": {
     "name": "#%%\n"
    }
   },
   "outputs": [
    {
     "data": {
      "text/plain": [
       "0"
      ]
     },
     "execution_count": 16,
     "metadata": {},
     "output_type": "execute_result"
    }
   ],
   "source": [
    "from feature_utils import write_renumbered_sdf\n",
    "pre_main = \"/home/jovyan/dataspace/NFT/main\"\n",
    "toFolder = f\"{pre_main}/renumber_atom_index_same_as_smiles_from_NCI_sdf\"\n",
    "os.system(f\"mkdir -p {toFolder}\")"
   ]
  },
  {
   "cell_type": "code",
   "execution_count": 17,
   "id": "90e5b344",
   "metadata": {
    "pycharm": {
     "name": "#%%\n"
    }
   },
   "outputs": [],
   "source": [
    "if False:\n",
    "    import shutil\n",
    "    os.system(\"mkdir -p /home/jovyan/dataspace/Predownloads/WZCase2\")\n",
    "    os.system(\"mkdir -p /home/jovyan/dataspace/Predownloads/PDBCase2\")\n",
    "    for pdb in lig_id_dict.keys():\n",
    "        shutil.copy(f\"/home/jovyan/dataspace/pdb_bind_2020/{pdb}/{pdb}_ligand.sdf\", f\"/home/jovyan/dataspace/Predownloads/WZCase2/{pdb}_NCI.sdf\")\n",
    "        shutil.copy(f\"{pre}/pdbbind_files/{pdb}/{pdb}_ligand.sdf\", f\"/home/jovyan/dataspace/Predownloads/PDBCase2/{pdb}_PDBBind.sdf\")"
   ]
  },
  {
   "cell_type": "markdown",
   "id": "dd58cfa5",
   "metadata": {
    "pycharm": {
     "name": "#%% md\n"
    }
   },
   "source": [
    "# process PDBbind proteins, removing extra chains, cutoff 10A"
   ]
  },
  {
   "cell_type": "code",
   "execution_count": 18,
   "id": "192b7c8e",
   "metadata": {
    "pycharm": {
     "name": "#%%\n"
    }
   },
   "outputs": [
    {
     "name": "stdout",
     "output_type": "stream",
     "text": [
      "10-11 09:25:32\n"
     ]
    }
   ],
   "source": [
    "toFolder = f\"{pre_main}/protein_remove_extra_chains_10A/\"\n",
    "os.system(f\"mkdir -p {toFolder}\")\n",
    "tt()"
   ]
  },
  {
   "cell_type": "code",
   "execution_count": 19,
   "id": "b680f7d9",
   "metadata": {
    "pycharm": {
     "name": "#%%\n"
    }
   },
   "outputs": [
    {
     "name": "stdout",
     "output_type": "stream",
     "text": [
      "10-11 09:25:33\n"
     ]
    }
   ],
   "source": [
    "input_ = []\n",
    "cutoff = 10\n",
    "for pdb in data.pdb.values:\n",
    "    pdbFile = f\"{pre}/pdbbind_files/{pdb}/{pdb}_protein.pdb\"\n",
    "    ligandFile = f\"{pre_main}/renumber_atom_index_same_as_smiles/{pdb}.sdf\"\n",
    "    toFile = f\"{toFolder}/{pdb}_protein.pdb\"\n",
    "    x = (pdbFile, ligandFile, cutoff, toFile)\n",
    "    input_.append(x)\n",
    "tt()"
   ]
  },
  {
   "cell_type": "code",
   "execution_count": 20,
   "id": "2796e510",
   "metadata": {
    "pycharm": {
     "name": "#%%\n"
    }
   },
   "outputs": [
    {
     "name": "stdout",
     "output_type": "stream",
     "text": [
      "10-11 09:25:34\n"
     ]
    }
   ],
   "source": [
    "from feature_utils import select_chain_within_cutoff_to_ligand_v2\n",
    "tt()"
   ]
  },
  {
   "cell_type": "code",
   "execution_count": 21,
   "id": "879c4c31",
   "metadata": {
    "pycharm": {
     "name": "#%%\n"
    }
   },
   "outputs": [
    {
     "name": "stdout",
     "output_type": "stream",
     "text": [
      "10-11 09:25:35\n"
     ]
    }
   ],
   "source": [
    "if not CTN:\n",
    "    import mlcrate as mlc\n",
    "    import os\n",
    "    pool = mlc.SuperPool(64)\n",
    "    pool.pool.restart()\n",
    "    _ = pool.map(select_chain_within_cutoff_to_ligand_v2,input_)\n",
    "    pool.exit()\n",
    "tt()"
   ]
  },
  {
   "cell_type": "code",
   "execution_count": 22,
   "id": "cbe5c4f8",
   "metadata": {
    "pycharm": {
     "name": "#%%\n"
    }
   },
   "outputs": [
    {
     "name": "stdout",
     "output_type": "stream",
     "text": [
      "10-11 09:25:36\n"
     ]
    }
   ],
   "source": [
    "# previously, I found that 2r1w has no chain near the ligand.\n",
    "data = data.query(\"pdb != '2r1w'\").reset_index(drop=True)\n",
    "tt()"
   ]
  },
  {
   "cell_type": "markdown",
   "id": "c4e05cea",
   "metadata": {
    "pycharm": {
     "name": "#%% md\n"
    }
   },
   "source": [
    "# p2rank segmentation"
   ]
  },
  {
   "cell_type": "code",
   "execution_count": 23,
   "id": "e49b8ae8",
   "metadata": {
    "pycharm": {
     "name": "#%%\n"
    }
   },
   "outputs": [
    {
     "name": "stdout",
     "output_type": "stream",
     "text": [
      "10-11 09:25:38\n"
     ]
    }
   ],
   "source": [
    "if not CTN and False:\n",
    "    p2rank_prediction_folder = f\"{pre_main}/p2rank_protein_remove_extra_chains_10A\"\n",
    "    os.system(f\"mkdir -p {p2rank_prediction_folder}\")\n",
    "    ds = f\"{p2rank_prediction_folder}/protein_list.ds\"\n",
    "    with open(ds, \"w\") as out:\n",
    "        for pdb in data.pdb.values:\n",
    "            out.write(f\"../protein_remove_extra_chains_10A/{pdb}_protein.pdb\\n\")\n",
    "tt()"
   ]
  },
  {
   "cell_type": "code",
   "execution_count": 24,
   "id": "b3438c7b",
   "metadata": {
    "pycharm": {
     "name": "#%%\n"
    }
   },
   "outputs": [
    {
     "name": "stdout",
     "output_type": "stream",
     "text": [
      "10-11 09:25:39\n"
     ]
    }
   ],
   "source": [
    "if not CTN:\n",
    "    # takes about 30 minutes.\n",
    "    p2rank = \"bash /home/jovyan/p2rank_2.3/prank\"\n",
    "    cmd = f\"{p2rank} predict {ds} -o {p2rank_prediction_folder}/p2rank -threads 16\"\n",
    "    os.system(cmd)\n",
    "tt()"
   ]
  },
  {
   "cell_type": "code",
   "execution_count": 25,
   "id": "910f54fb",
   "metadata": {
    "pycharm": {
     "name": "#%%\n"
    }
   },
   "outputs": [
    {
     "name": "stdout",
     "output_type": "stream",
     "text": [
      "10-11 09:25:40\n"
     ]
    }
   ],
   "source": [
    "if not CTN:\n",
    "    data.to_csv(f\"{pre_main}/data.csv\")\n",
    "tt()"
   ]
  },
  {
   "cell_type": "markdown",
   "id": "1d2fc3a8",
   "metadata": {
    "pycharm": {
     "name": "#%% md\n"
    }
   },
   "source": [
    "### Continue From Here"
   ]
  },
  {
   "cell_type": "code",
   "execution_count": 26,
   "id": "cf4415a1",
   "metadata": {
    "pycharm": {
     "name": "#%%\n"
    }
   },
   "outputs": [
    {
     "name": "stdout",
     "output_type": "stream",
     "text": [
      "(19126, 8)\n",
      "10-11 09:25:42\n"
     ]
    }
   ],
   "source": [
    "data = pd.read_csv(f\"{pre_main}/data.csv\")\n",
    "print(data.shape)\n",
    "tt()"
   ]
  },
  {
   "cell_type": "code",
   "execution_count": 27,
   "id": "5e601c3b",
   "metadata": {
    "pycharm": {
     "name": "#%%\n"
    }
   },
   "outputs": [
    {
     "name": "stdout",
     "output_type": "stream",
     "text": [
      "10-11 09:25:44\n"
     ]
    }
   ],
   "source": [
    "pdb_list = data.pdb.values\n",
    "tt()"
   ]
  },
  {
   "cell_type": "code",
   "execution_count": 28,
   "id": "12746f0b",
   "metadata": {
    "pycharm": {
     "name": "#%%\n"
    }
   },
   "outputs": [
    {
     "data": {
      "text/plain": [
       "0"
      ]
     },
     "execution_count": 28,
     "metadata": {},
     "output_type": "execute_result"
    }
   ],
   "source": [
    "tankbind_data_path = f\"{pre_main}/tankbind_data\"\n",
    "os.system(f\"mkdir -p {tankbind_data_path}\")"
   ]
  },
  {
   "cell_type": "code",
   "execution_count": 29,
   "id": "12847b29",
   "metadata": {
    "pycharm": {
     "name": "#%%\n"
    }
   },
   "outputs": [],
   "source": [
    "name_list = pdb_list\n",
    "d_list = []\n",
    "\n",
    "if not CTN:\n",
    "    for name in tqdm(name_list):\n",
    "        p2rankFile = f\"{pre_main}/p2rank_protein_remove_extra_chains_10A/p2rank/{name}_protein.pdb_predictions.csv\"\n",
    "        d = pd.read_csv(p2rankFile)\n",
    "        d.columns = d.columns.str.strip()\n",
    "        d_list.append(d.assign(name=name))\n",
    "    d = pd.concat(d_list).reset_index(drop=True)\n",
    "    d.reset_index(drop=True).to_feather(f\"{tankbind_data_path}/p2rank_result.feather\")"
   ]
  },
  {
   "cell_type": "code",
   "execution_count": 30,
   "id": "e1762386",
   "metadata": {
    "pycharm": {
     "name": "#%%\n"
    }
   },
   "outputs": [
    {
     "name": "stdout",
     "output_type": "stream",
     "text": [
      "10-11 09:25:50\n"
     ]
    }
   ],
   "source": [
    "d = pd.read_feather(f\"{tankbind_data_path}/p2rank_result.feather\")\n",
    "tt()"
   ]
  },
  {
   "cell_type": "code",
   "execution_count": 31,
   "id": "db3d013e",
   "metadata": {
    "pycharm": {
     "name": "#%%\n"
    }
   },
   "outputs": [
    {
     "name": "stdout",
     "output_type": "stream",
     "text": [
      "10-11 09:25:55\n"
     ]
    }
   ],
   "source": [
    "pockets_dict = {}\n",
    "if not CTN:\n",
    "    for name in tqdm(name_list):\n",
    "        pockets_dict[name] = d[d.name == name].reset_index(drop=True)\n",
    "        torch.save(pockets_dict, f\"{tankbind_data_path}/pocket_dict.pt\")\n",
    "pockets_dict = torch.load(f\"{tankbind_data_path}/pocket_dict.pt\")\n",
    "tt()"
   ]
  },
  {
   "cell_type": "markdown",
   "id": "5f9140de",
   "metadata": {
    "pycharm": {
     "name": "#%% md\n"
    }
   },
   "source": [
    "# protein feature"
   ]
  },
  {
   "cell_type": "code",
   "execution_count": 32,
   "id": "b689f3e0",
   "metadata": {
    "pycharm": {
     "name": "#%%\n"
    }
   },
   "outputs": [
    {
     "name": "stdout",
     "output_type": "stream",
     "text": [
      "10-11 09:26:00\n"
     ]
    }
   ],
   "source": [
    "from feature_utils import get_protein_feature\n",
    "from feature_utils import nciyes_get_protein_feature\n",
    "tt()"
   ]
  },
  {
   "cell_type": "code",
   "execution_count": 33,
   "id": "d29e0a82",
   "metadata": {
    "pycharm": {
     "name": "#%%\n"
    }
   },
   "outputs": [
    {
     "name": "stdout",
     "output_type": "stream",
     "text": [
      "10-11 09:26:05\n"
     ]
    }
   ],
   "source": [
    "input_ = []\n",
    "protein_embedding_folder = f\"{tankbind_data_path}/gvp_protein_embedding\"\n",
    "os.system(f\"mkdir -p {protein_embedding_folder}\")\n",
    "for pdb in pdb_list:\n",
    "    proteinFile = f\"{pre_main}/protein_remove_extra_chains_10A/{pdb}_protein.pdb\"\n",
    "    toFile = [f\"{protein_embedding_folder}/{pdb}.pt\", f\"{protein_embedding_folder}/{pdb}_id.pt\"]\n",
    "    x = (pdb, proteinFile, toFile)\n",
    "    input_.append(x)\n",
    "tt()"
   ]
  },
  {
   "cell_type": "code",
   "execution_count": 34,
   "id": "12ac77de",
   "metadata": {
    "pycharm": {
     "name": "#%%\n"
    }
   },
   "outputs": [
    {
     "name": "stdout",
     "output_type": "stream",
     "text": [
      "10-11 09:26:06\n"
     ]
    }
   ],
   "source": [
    "def get_full_id(full_id_ls: list, resname):\n",
    "    chain_id = full_id_ls[2]\n",
    "    res_id = full_id_ls[3][1]\n",
    "    return chain_id + \"_\" + str(res_id) + \"_\" + resname\n",
    "tt()"
   ]
  },
  {
   "cell_type": "code",
   "execution_count": 35,
   "id": "70121a0c",
   "metadata": {
    "pycharm": {
     "name": "#%%\n"
    }
   },
   "outputs": [
    {
     "name": "stdout",
     "output_type": "stream",
     "text": [
      "10-11 09:26:08\n"
     ]
    }
   ],
   "source": [
    "from Bio.PDB import PDBParser\n",
    "from feature_utils import get_clean_res_list\n",
    "import torch\n",
    "torch.set_num_threads(1)\n",
    "\n",
    "def batch_run(x):\n",
    "    protein_dict = {}\n",
    "    protein_id_dict = {}\n",
    "    pdb, proteinFile, toFile = x\n",
    "    parser = PDBParser(QUIET=True)\n",
    "    s = parser.get_structure(pdb, proteinFile)\n",
    "    res_list = get_clean_res_list(s.get_residues(), verbose=False, ensure_ca_exist=True)\n",
    "    res_full_id_list = [get_full_id(x.full_id, x.get_resname()) for x in res_list]\n",
    "    protein_dict[pdb], protein_id_dict[pdb] = nciyes_get_protein_feature(res_list, res_full_id_list)\n",
    "    torch.save(protein_dict, toFile[0])\n",
    "    torch.save(protein_id_dict, toFile[1])\n",
    "tt()"
   ]
  },
  {
   "cell_type": "code",
   "execution_count": 36,
   "id": "321cee7f",
   "metadata": {
    "pycharm": {
     "name": "#%%\n"
    }
   },
   "outputs": [
    {
     "name": "stdout",
     "output_type": "stream",
     "text": [
      "10-11 09:26:09\n"
     ]
    }
   ],
   "source": [
    "if not CTN:\n",
    "    import mlcrate as mlc\n",
    "    import os\n",
    "    pool = mlc.SuperPool(64)\n",
    "    pool.pool.restart()\n",
    "    _ = pool.map(batch_run,input_)\n",
    "    pool.exit()\n",
    "tt()"
   ]
  },
  {
   "cell_type": "code",
   "execution_count": 38,
   "id": "bfbc3289",
   "metadata": {
    "pycharm": {
     "name": "#%%\n"
    }
   },
   "outputs": [
    {
     "name": "stderr",
     "output_type": "stream",
     "text": [
      "100%|██████████| 19126/19126 [01:31<00:00, 210.16it/s]"
     ]
    },
    {
     "name": "stdout",
     "output_type": "stream",
     "text": [
      "10-11 09:29:49\n"
     ]
    },
    {
     "name": "stderr",
     "output_type": "stream",
     "text": [
      "\n"
     ]
    }
   ],
   "source": [
    "import torch\n",
    "protein_dict = {}\n",
    "protein_id_dict = {}\n",
    "for pdb in tqdm(pdb_list):\n",
    "    protein_dict.update(torch.load(f\"{protein_embedding_folder}/{pdb}.pt\"))\n",
    "    protein_id_dict.update(torch.load(f\"{protein_embedding_folder}/{pdb}_id.pt\"))\n",
    "tt()"
   ]
  },
  {
   "cell_type": "markdown",
   "id": "7d8d60b3",
   "metadata": {
    "pycharm": {
     "name": "#%% md\n"
    }
   },
   "source": [
    "# Compound Features"
   ]
  },
  {
   "cell_type": "code",
   "execution_count": 39,
   "id": "ff6d64d7",
   "metadata": {
    "pycharm": {
     "name": "#%%\n"
    }
   },
   "outputs": [
    {
     "name": "stdout",
     "output_type": "stream",
     "text": [
      "10-11 09:32:54\n"
     ]
    }
   ],
   "source": [
    "from feature_utils import extract_torchdrug_feature_from_mol\n",
    "if not CTN:\n",
    "    compound_dict = {}\n",
    "    skip_pdb_list = []\n",
    "    for pdb in tqdm(pdb_list):\n",
    "        mol, _ = read_mol(f\"{pre_main}/renumber_atom_index_same_as_smiles/{pdb}.sdf\", None)\n",
    "        # extract features from sdf.\n",
    "        try:\n",
    "            compound_dict[pdb] = extract_torchdrug_feature_from_mol(mol, has_LAS_mask=True)  # self-dock set has_LAS_mask to true\n",
    "        except Exception as e:\n",
    "            print(e)\n",
    "            skip_pdb_list.append(pdb)\n",
    "            print(pdb)\n",
    "    torch.save(compound_dict, f\"{tankbind_data_path}/compound_torchdrug_features.pt\")\n",
    "tt()"
   ]
  },
  {
   "cell_type": "code",
   "execution_count": 40,
   "id": "92d4e566",
   "metadata": {
    "pycharm": {
     "name": "#%%\n"
    }
   },
   "outputs": [],
   "source": [
    "if not CTN:\n",
    "    torch.save(compound_dict, f\"{tankbind_data_path}/compound_torchdrug_features.pt\")"
   ]
  },
  {
   "cell_type": "code",
   "execution_count": 41,
   "id": "a5707780",
   "metadata": {
    "pycharm": {
     "name": "#%%\n"
    }
   },
   "outputs": [
    {
     "name": "stdout",
     "output_type": "stream",
     "text": [
      "10-11 09:33:29\n"
     ]
    }
   ],
   "source": [
    "compound_dict = torch.load(f\"{tankbind_data_path}/compound_torchdrug_features.pt\")\n",
    "skip_pdb_list = ['3kqs']\n",
    "tt()"
   ]
  },
  {
   "cell_type": "code",
   "execution_count": 42,
   "id": "a3d09c1b",
   "metadata": {
    "pycharm": {
     "name": "#%%\n"
    }
   },
   "outputs": [
    {
     "name": "stdout",
     "output_type": "stream",
     "text": [
      "10-11 09:33:33\n"
     ]
    }
   ],
   "source": [
    "skip_pdb_list = ['3kqs']\n",
    "tt()"
   ]
  },
  {
   "cell_type": "code",
   "execution_count": 43,
   "id": "92b17db2",
   "metadata": {
    "pycharm": {
     "name": "#%%\n"
    }
   },
   "outputs": [
    {
     "name": "stdout",
     "output_type": "stream",
     "text": [
      "10-11 09:33:35\n"
     ]
    }
   ],
   "source": [
    "data = data.query(\"pdb not in @skip_pdb_list\").reset_index(drop=True)\n",
    "tt()"
   ]
  },
  {
   "cell_type": "markdown",
   "id": "64445b57",
   "metadata": {
    "pycharm": {
     "name": "#%% md\n"
    }
   },
   "source": [
    "### NCI Features"
   ]
  },
  {
   "cell_type": "code",
   "execution_count": 44,
   "id": "4f821688",
   "metadata": {
    "pycharm": {
     "name": "#%%\n"
    }
   },
   "outputs": [
    {
     "name": "stdout",
     "output_type": "stream",
     "text": [
      "10-11 09:33:41\n"
     ]
    }
   ],
   "source": [
    "lig_nameid_dict = torch.load(\"../../dataspace/NFT/main/ligand_name_dicts/ligdict_nameid.pt\")\n",
    "lig_id_dict = torch.load(\"../../dataspace/NFT/main/ligand_name_dicts/ligdict_id.pt\")\n",
    "NCI_df = pd.read_csv(\"/home/jovyan/dataspace/processed_nci_data/v10.8/Data.v10.8.NCIs.csv\")\n",
    "tt()"
   ]
  },
  {
   "cell_type": "code",
   "execution_count": 45,
   "id": "31d5e7cd",
   "metadata": {
    "pycharm": {
     "name": "#%%\n"
    }
   },
   "outputs": [
    {
     "data": {
      "text/plain": [
       "array(['3zzf', '3gww', '1w8l', ..., '1avd', '2xui', '2avi'], dtype=object)"
      ]
     },
     "execution_count": 45,
     "metadata": {},
     "output_type": "execute_result"
    }
   ],
   "source": [
    "pdb_list"
   ]
  },
  {
   "cell_type": "code",
   "execution_count": 48,
   "id": "9277c7ca",
   "metadata": {
    "pycharm": {
     "name": "#%%\n"
    }
   },
   "outputs": [
    {
     "name": "stderr",
     "output_type": "stream",
     "text": [
      "100%|██████████| 19126/19126 [07:17<00:00, 43.71it/s] "
     ]
    },
    {
     "name": "stdout",
     "output_type": "stream",
     "text": [
      "10-11 09:47:14\n"
     ]
    },
    {
     "name": "stderr",
     "output_type": "stream",
     "text": [
      "\n"
     ]
    }
   ],
   "source": [
    "# for pdb in tqdm(pdb_list):\n",
    "from collections import defaultdict\n",
    "from tqdm import tqdm\n",
    "if CTN:\n",
    "    nci_info = {}\n",
    "    nci_save_path = \"/home/jovyan/dataspace/NFT/main/nci_protein_ligand_matrix\"\n",
    "    # os.system(f\"rm -rf {nci_save_path}\")\n",
    "    os.system(f\"mkdir -p {nci_save_path}\")\n",
    "    for pdb in tqdm(pdb_list):\n",
    "        #print(pdb)\n",
    "        if True:\n",
    "            if (pdb not in lig_nameid_dict) and (pdb not in lig_id_dict):\n",
    "                nci_info[pdb] = \"BAD_NoLigName\"\n",
    "\n",
    "\n",
    "            # Lig\n",
    "            mol, _ = read_mol(f\"{pre_main}/renumber_atom_index_same_as_smiles/{pdb}.sdf\", None)\n",
    "            \n",
    "            # Protein\n",
    "            proteinFile = f\"{pre_main}/protein_remove_extra_chains_10A/{pdb}_protein.pdb\"\n",
    "            toFile = [f\"{protein_embedding_folder}/{pdb}.pt\", f\"{protein_embedding_folder}/{pdb}_id.pt\"]\n",
    "            ebd = torch.load(toFile[0])[pdb]\n",
    "            protein_ids = torch.load(toFile[1])[pdb]\n",
    "            \n",
    "            # inverse protein_ids:\n",
    "            protein_id_inverse = defaultdict(list)\n",
    "            for _id, _name in protein_ids.items():\n",
    "                protein_id_inverse[_name[0]].append(_id)\n",
    "            \n",
    "            protein_id_inverse = {k:v for k, v in protein_id_inverse.items()}\n",
    "            \n",
    "            # inverse lig_ids:\n",
    "            \n",
    "            if pdb in lig_nameid_dict:\n",
    "                liglen = len(lig_nameid_dict[pdb])\n",
    "                lig_id_inverse = {_value[1]:_key for _key, _value in lig_nameid_dict[pdb].items()}\n",
    "            elif pdb in lig_id_dict:\n",
    "                liglen = len(lig_id_dict[pdb])\n",
    "                lig_id_inverse = {_value:_key for _key, _value in lig_id_dict[pdb].items()}\n",
    "                \n",
    "\n",
    "            \n",
    "            pl_0 = ebd[0].shape[0]\n",
    "            pl_1 = len(protein_ids)\n",
    "            ll_0 = mol.GetNumAtoms()\n",
    "            ll_1 = liglen\n",
    "\n",
    "            nci_matrix = torch.zeros(pl_0, ll_0)\n",
    "            nci_matrix_0 = torch.zeros(pl_0, ll_0)\n",
    "            \n",
    "            if pdb in nci_info:\n",
    "                torch.save({pdb:nci_matrix_0}, f\"{nci_save_path}/{pdb}_nci_matrix.pt\")\n",
    "                continue\n",
    "            \n",
    "            if pl_0 != pl_1:\n",
    "                nci_info[pdb] = \"BAD_ResNum\"\n",
    "                torch.save({pdb:nci_matrix_0}, f\"{nci_save_path}/{pdb}_nci_matrix.pt\")\n",
    "                continue\n",
    "            elif ll_0 != ll_1:\n",
    "                nci_info[pdb] = \"BAD_AtomNum\"\n",
    "                torch.save({pdb:nci_matrix_0}, f\"{nci_save_path}/{pdb}_nci_matrix.pt\")\n",
    "                continue\n",
    "\n",
    "            ncis = NCI_df[NCI_df.PDB_Code==pdb]\n",
    "            if len(ncis) == 0:\n",
    "                nci_info[pdb] = \"BAD_EmptyNCI\"\n",
    "\n",
    "            \n",
    "            \n",
    "            if pdb in nci_info:\n",
    "                torch.save({pdb:nci_matrix_0}, f\"{nci_save_path}/{pdb}_nci_matrix.pt\")\n",
    "                continue\n",
    "            \n",
    "            for line in ncis.iterrows():\n",
    "                ResFullID, l_id = line[1]['ResFullID'], line[1]['l_id']\n",
    "                \n",
    "                try:\n",
    "                    p_index = protein_id_inverse[ResFullID]\n",
    "                except:\n",
    "                    nci_info[pdb] = \"BAD_ResKey\"\n",
    "                    torch.save({pdb:nci_matrix_0}, f\"{nci_save_path}/{pdb}_nci_matrix.pt\")\n",
    "                    break\n",
    "\n",
    "                try:\n",
    "                    l_index = lig_id_inverse[l_id]\n",
    "                except:\n",
    "                    nci_info[pdb] = \"BAD_AtomKey\"\n",
    "                    torch.save({pdb:nci_matrix_0}, f\"{nci_save_path}/{pdb}_nci_matrix.pt\")\n",
    "                    break\n",
    "                \n",
    "                if len(p_index) > 1:\n",
    "                    nci_info[pdb] = \"BAD_ResIncoherant\"\n",
    "                    torch.save({pdb:nci_matrix_0}, f\"{nci_save_path}/{pdb}_nci_matrix.pt\")\n",
    "                    break\n",
    "                else:\n",
    "                    nci_matrix[p_index[0]][l_index] = 1\n",
    "                    \n",
    "            if pdb in nci_info:\n",
    "                continue\n",
    "            else:\n",
    "                nci_info[pdb] = \"YES\"\n",
    "                torch.save({pdb:nci_matrix}, f\"{nci_save_path}/{pdb}_nci_matrix.pt\")\n",
    "    torch.save(nci_info, \"/home/jovyan/dataspace/NFT/main/nci_info.pt\")\n",
    "tt()"
   ]
  },
  {
   "cell_type": "code",
   "execution_count": 49,
   "id": "9ae43ba4",
   "metadata": {
    "pycharm": {
     "name": "#%%\n"
    }
   },
   "outputs": [
    {
     "name": "stdout",
     "output_type": "stream",
     "text": [
      "10-11 09:47:14\n"
     ]
    }
   ],
   "source": [
    "nci_info = torch.load(\"/home/jovyan/dataspace/NFT/main/nci_info.pt\")\n",
    "for k, v in nci_info.items():\n",
    "    if v == \"BAD_ResNum\" or v == \"BAD_AtomNum\":\n",
    "        print(k)\n",
    "tt()"
   ]
  },
  {
   "cell_type": "code",
   "execution_count": 50,
   "id": "aa867cc5",
   "metadata": {
    "pycharm": {
     "name": "#%%\n"
    }
   },
   "outputs": [
    {
     "name": "stdout",
     "output_type": "stream",
     "text": [
      "defaultdict(<class 'int'>, {'YES': 10727, 'BAD_NoLigName': 5680, 'BAD_EmptyNCI': 2597, 'BAD_ResKey': 119, 'BAD_ResIncoherant': 3})\n",
      "10-11 09:47:27\n"
     ]
    }
   ],
   "source": [
    "nci_info_stat = defaultdict(int)\n",
    "for k,v in nci_info.items():\n",
    "    nci_info_stat[v] += 1\n",
    "print(nci_info_stat)\n",
    "tt()"
   ]
  },
  {
   "cell_type": "code",
   "execution_count": 57,
   "id": "d83cae00",
   "metadata": {
    "pycharm": {
     "name": "#%%\n"
    }
   },
   "outputs": [
    {
     "name": "stderr",
     "output_type": "stream",
     "text": [
      "100%|██████████| 19126/19126 [00:46<00:00, 410.67it/s]\n"
     ]
    },
    {
     "name": "stdout",
     "output_type": "stream",
     "text": [
      "10-11 09:53:06\n"
     ]
    }
   ],
   "source": [
    "nci_dict = {}\n",
    "if not CTN:\n",
    "    for pdb in tqdm(pdb_list):\n",
    "        nci_dict.update(torch.load(f\"{nci_save_path}/{pdb}_nci_matrix.pt\"))\n",
    "    torch.save(nci_dict, f\"{tankbind_data_path}/nci_matrix.pt\")\n",
    "\n",
    "# Load\n",
    "nci_dict = torch.load(f\"{tankbind_data_path}/nci_matrix.pt\")\n",
    "tt()"
   ]
  },
  {
   "cell_type": "code",
   "execution_count": 58,
   "id": "2b64e7a1",
   "metadata": {
    "pycharm": {
     "name": "#%%\n"
    }
   },
   "outputs": [
    {
     "name": "stdout",
     "output_type": "stream",
     "text": [
      "10-11 09:56:39\n"
     ]
    }
   ],
   "source": []
  },
  {
   "cell_type": "code",
   "execution_count": 59,
   "id": "ef8df881",
   "metadata": {
    "pycharm": {
     "name": "#%%\n"
    }
   },
   "outputs": [
    {
     "data": {
      "text/plain": [
       "19126"
      ]
     },
     "execution_count": 59,
     "metadata": {},
     "output_type": "execute_result"
    }
   ],
   "source": [
    "len(nci_dict.keys())"
   ]
  },
  {
   "cell_type": "markdown",
   "id": "78f25b2f",
   "metadata": {
    "pycharm": {
     "name": "#%% md\n"
    }
   },
   "source": [
    "# construct dataset."
   ]
  },
  {
   "cell_type": "code",
   "execution_count": 60,
   "id": "97a21f59",
   "metadata": {
    "pycharm": {
     "name": "#%%\n"
    }
   },
   "outputs": [
    {
     "name": "stdout",
     "output_type": "stream",
     "text": [
      "10-11 09:56:44\n"
     ]
    }
   ],
   "source": [
    "# we use the time-split defined in EquiBind paper.\n",
    "# https://github.com/HannesStark/EquiBind/tree/main/data\n",
    "valid = np.loadtxt(\"/home/jovyan/data/Equiband/timesplit_no_lig_overlap_val\", dtype=str)\n",
    "test = np.loadtxt(\"/home/jovyan/data/Equiband/timesplit_test\", dtype=str)\n",
    "def assign_group(pdb, valid=valid, test=test):\n",
    "    if pdb in valid:\n",
    "        return 'valid'\n",
    "    if pdb in test:\n",
    "        return 'test'\n",
    "    return 'train'\n",
    "\n",
    "data['group'] = data.pdb.map(assign_group)\n",
    "tt()"
   ]
  },
  {
   "cell_type": "code",
   "execution_count": 61,
   "id": "275891d7",
   "metadata": {
    "pycharm": {
     "name": "#%%\n"
    }
   },
   "outputs": [
    {
     "name": "stdout",
     "output_type": "stream",
     "text": [
      "group\n",
      "train    17794\n",
      "valid      968\n",
      "test       363\n",
      "dtype: int64\n",
      "10-11 09:56:46\n"
     ]
    }
   ],
   "source": [
    "print(data.value_counts(\"group\"))\n",
    "tt()"
   ]
  },
  {
   "cell_type": "code",
   "execution_count": 62,
   "id": "04ca68b2",
   "metadata": {
    "pycharm": {
     "name": "#%%\n"
    }
   },
   "outputs": [
    {
     "name": "stdout",
     "output_type": "stream",
     "text": [
      "10-11 09:56:50\n"
     ]
    }
   ],
   "source": [
    "data['name'] = data['pdb']\n",
    "tt()"
   ]
  },
  {
   "cell_type": "code",
   "execution_count": 63,
   "id": "26bc4d87",
   "metadata": {
    "pycharm": {
     "name": "#%%\n"
    }
   },
   "outputs": [
    {
     "name": "stderr",
     "output_type": "stream",
     "text": [
      "100%|██████████| 19125/19125 [00:20<00:00, 944.63it/s]\n"
     ]
    },
    {
     "name": "stdout",
     "output_type": "stream",
     "text": [
      "10-11 09:57:57\n"
     ]
    }
   ],
   "source": [
    "if not CTN:\n",
    "    info = []\n",
    "    for i, line in tqdm(data.iterrows(), total=data.shape[0]):\n",
    "        pdb = line['pdb']\n",
    "        uid = line['uid']\n",
    "        # smiles = line['smiles']\n",
    "        smiles = \"\"\n",
    "        affinity = line['affinity']\n",
    "        group = line['group']\n",
    "\n",
    "        compound_name = line['name']\n",
    "        protein_name = line['name']\n",
    "\n",
    "        pocket = pockets_dict[pdb].head(10)\n",
    "        pocket.columns = pocket.columns.str.strip()\n",
    "        pocket_coms = pocket[['center_x', 'center_y', 'center_z']].values\n",
    "        \n",
    "        has_nci = (nci_info[protein_name] == \"YES\")\n",
    "        compound_sdf_from_nci = (protein_name in lig_id_dict.keys())\n",
    "        # native block.\n",
    "        info.append([protein_name, compound_name, pdb, smiles, affinity, uid, None, True, False, group, has_nci, compound_sdf_from_nci])\n",
    "        # protein center as a block.\n",
    "        protein_com = protein_dict[protein_name][0].numpy().mean(axis=0).astype(float).reshape(1, 3)\n",
    "        info.append([protein_name, compound_name, pdb+\"_c\", smiles, affinity, uid, protein_com, False, False, group, has_nci, compound_sdf_from_nci])\n",
    "        \n",
    "        for idx, pocket_line in pocket.iterrows():\n",
    "            pdb_idx = f\"{pdb}_{idx}\"\n",
    "            info.append([protein_name, compound_name, pdb_idx, smiles, affinity, uid, pocket_coms[idx].reshape(1, 3), False, False, group, has_nci, compound_sdf_from_nci])\n",
    "    info = pd.DataFrame(info, columns=['protein_name', 'compound_name', 'pdb', 'smiles', 'affinity', 'uid', 'pocket_com', \n",
    "                                    'use_compound_com', 'use_whole_protein',\n",
    "                                    'group', 'has_nci_info', 'compound_sdf_from_nci'])\n",
    "    torch.save(info, f\"{tankbind_data_path}/info.pt\")\n",
    "\n",
    "# Load\n",
    "info = torch.load(f\"{tankbind_data_path}/info.pt\")\n",
    "tt()\n",
    "\n"
   ]
  },
  {
   "cell_type": "code",
   "execution_count": 64,
   "id": "861562aa",
   "metadata": {
    "pycharm": {
     "name": "#%%\n"
    }
   },
   "outputs": [
    {
     "name": "stdout",
     "output_type": "stream",
     "text": [
      "10-11 09:57:58\n"
     ]
    }
   ],
   "source": [
    "info.shape\n",
    "tt()"
   ]
  },
  {
   "cell_type": "code",
   "execution_count": 65,
   "id": "c1a09bfa",
   "metadata": {
    "pycharm": {
     "name": "#%%\n"
    }
   },
   "outputs": [
    {
     "data": {
      "text/html": [
       "<div>\n",
       "<style scoped>\n",
       "    .dataframe tbody tr th:only-of-type {\n",
       "        vertical-align: middle;\n",
       "    }\n",
       "\n",
       "    .dataframe tbody tr th {\n",
       "        vertical-align: top;\n",
       "    }\n",
       "\n",
       "    .dataframe thead th {\n",
       "        text-align: right;\n",
       "    }\n",
       "</style>\n",
       "<table border=\"1\" class=\"dataframe\">\n",
       "  <thead>\n",
       "    <tr style=\"text-align: right;\">\n",
       "      <th></th>\n",
       "      <th>protein_name</th>\n",
       "      <th>compound_name</th>\n",
       "      <th>pdb</th>\n",
       "      <th>smiles</th>\n",
       "      <th>affinity</th>\n",
       "      <th>uid</th>\n",
       "      <th>pocket_com</th>\n",
       "      <th>use_compound_com</th>\n",
       "      <th>use_whole_protein</th>\n",
       "      <th>group</th>\n",
       "      <th>has_nci_info</th>\n",
       "      <th>compound_sdf_from_nci</th>\n",
       "    </tr>\n",
       "  </thead>\n",
       "  <tbody>\n",
       "    <tr>\n",
       "      <th>0</th>\n",
       "      <td>3zzf</td>\n",
       "      <td>3zzf</td>\n",
       "      <td>3zzf</td>\n",
       "      <td></td>\n",
       "      <td>0.4</td>\n",
       "      <td>Q01217</td>\n",
       "      <td>None</td>\n",
       "      <td>True</td>\n",
       "      <td>False</td>\n",
       "      <td>train</td>\n",
       "      <td>True</td>\n",
       "      <td>False</td>\n",
       "    </tr>\n",
       "    <tr>\n",
       "      <th>1</th>\n",
       "      <td>3zzf</td>\n",
       "      <td>3zzf</td>\n",
       "      <td>3zzf_c</td>\n",
       "      <td></td>\n",
       "      <td>0.4</td>\n",
       "      <td>Q01217</td>\n",
       "      <td>[[5.51331901550293, 36.50146484375, 14.4291219...</td>\n",
       "      <td>False</td>\n",
       "      <td>False</td>\n",
       "      <td>train</td>\n",
       "      <td>True</td>\n",
       "      <td>False</td>\n",
       "    </tr>\n",
       "    <tr>\n",
       "      <th>2</th>\n",
       "      <td>3zzf</td>\n",
       "      <td>3zzf</td>\n",
       "      <td>3zzf_0</td>\n",
       "      <td></td>\n",
       "      <td>0.4</td>\n",
       "      <td>Q01217</td>\n",
       "      <td>[[9.2232, 36.6453, 4.2458]]</td>\n",
       "      <td>False</td>\n",
       "      <td>False</td>\n",
       "      <td>train</td>\n",
       "      <td>True</td>\n",
       "      <td>False</td>\n",
       "    </tr>\n",
       "    <tr>\n",
       "      <th>3</th>\n",
       "      <td>3zzf</td>\n",
       "      <td>3zzf</td>\n",
       "      <td>3zzf_1</td>\n",
       "      <td></td>\n",
       "      <td>0.4</td>\n",
       "      <td>Q01217</td>\n",
       "      <td>[[-3.9652, 36.9019, 2.8611]]</td>\n",
       "      <td>False</td>\n",
       "      <td>False</td>\n",
       "      <td>train</td>\n",
       "      <td>True</td>\n",
       "      <td>False</td>\n",
       "    </tr>\n",
       "    <tr>\n",
       "      <th>4</th>\n",
       "      <td>3zzf</td>\n",
       "      <td>3zzf</td>\n",
       "      <td>3zzf_2</td>\n",
       "      <td></td>\n",
       "      <td>0.4</td>\n",
       "      <td>Q01217</td>\n",
       "      <td>[[16.5628, 39.1406, 26.3637]]</td>\n",
       "      <td>False</td>\n",
       "      <td>False</td>\n",
       "      <td>train</td>\n",
       "      <td>True</td>\n",
       "      <td>False</td>\n",
       "    </tr>\n",
       "  </tbody>\n",
       "</table>\n",
       "</div>"
      ],
      "text/plain": [
       "  protein_name compound_name     pdb smiles  affinity     uid  \\\n",
       "0         3zzf          3zzf    3zzf              0.4  Q01217   \n",
       "1         3zzf          3zzf  3zzf_c              0.4  Q01217   \n",
       "2         3zzf          3zzf  3zzf_0              0.4  Q01217   \n",
       "3         3zzf          3zzf  3zzf_1              0.4  Q01217   \n",
       "4         3zzf          3zzf  3zzf_2              0.4  Q01217   \n",
       "\n",
       "                                          pocket_com  use_compound_com  \\\n",
       "0                                               None              True   \n",
       "1  [[5.51331901550293, 36.50146484375, 14.4291219...             False   \n",
       "2                        [[9.2232, 36.6453, 4.2458]]             False   \n",
       "3                       [[-3.9652, 36.9019, 2.8611]]             False   \n",
       "4                      [[16.5628, 39.1406, 26.3637]]             False   \n",
       "\n",
       "   use_whole_protein  group  has_nci_info  compound_sdf_from_nci  \n",
       "0              False  train          True                  False  \n",
       "1              False  train          True                  False  \n",
       "2              False  train          True                  False  \n",
       "3              False  train          True                  False  \n",
       "4              False  train          True                  False  "
      ]
     },
     "execution_count": 65,
     "metadata": {},
     "output_type": "execute_result"
    }
   ],
   "source": [
    "info.head(5)"
   ]
  },
  {
   "cell_type": "code",
   "execution_count": 66,
   "id": "396b862a",
   "metadata": {
    "pycharm": {
     "name": "#%%\n"
    }
   },
   "outputs": [
    {
     "name": "stdout",
     "output_type": "stream",
     "text": [
      "10-11 09:58:06\n"
     ]
    }
   ],
   "source": [
    "\n",
    "from data_nci import NFTankBindDataSet\n",
    "tt()"
   ]
  },
  {
   "cell_type": "code",
   "execution_count": 67,
   "id": "53cc9668",
   "metadata": {
    "pycharm": {
     "name": "#%%\n"
    }
   },
   "outputs": [
    {
     "name": "stderr",
     "output_type": "stream",
     "text": [
      "Processing...\n",
      "Done!\n"
     ]
    },
    {
     "name": "stdout",
     "output_type": "stream",
     "text": [
      "['/home/jovyan/dataspace/NFT/main/tankbind_data/dataset/processed/data.pt', '/home/jovyan/dataspace/NFT/main/tankbind_data/dataset/processed/protein.pt', '/home/jovyan/dataspace/NFT/main/tankbind_data/dataset/processed/compound.pt', '/home/jovyan/dataspace/NFT/main/tankbind_data/dataset/processed/nci.pt']\n"
     ]
    }
   ],
   "source": [
    "toFilePre = f\"{tankbind_data_path}/dataset\"\n",
    "if not CTN:\n",
    "    os.system(f\"rm -rf {toFilePre}\")\n",
    "    os.system(f\"mkdir -p {toFilePre}\")\n",
    "    dataset = NFTankBindDataSet(toFilePre, data=info, protein_dict=protein_dict, compound_dict=compound_dict, nci_dict=nci_dict)"
   ]
  },
  {
   "cell_type": "code",
   "execution_count": 71,
   "id": "207f6a4b",
   "metadata": {
    "pycharm": {
     "name": "#%%\n"
    }
   },
   "outputs": [
    {
     "name": "stderr",
     "output_type": "stream",
     "text": [
      "100%|██████████| 162029/162029 [07:27<00:00, 362.11it/s]\n"
     ]
    }
   ],
   "source": [
    "# Check nci_matrix dimension\n",
    "for i, d in tqdm(enumerate(dataset), total=len(dataset)):\n",
    "    if (d['node_xyz'].shape[0] != d['nci_matrix'].shape[0]\n",
    "        or\n",
    "        d['coords'].shape[0] != d['nci_matrix'].shape[1]):\n",
    "        print(i, d['pdb'], d['node_xyz'].shape[0], d['coords'].shape[0], d['nci_matrix'].shape) \n",
    "# No output => Yes !"
   ]
  },
  {
   "cell_type": "code",
   "execution_count": 77,
   "id": "26f65962",
   "metadata": {
    "pycharm": {
     "name": "#%%\n"
    }
   },
   "outputs": [
    {
     "name": "stderr",
     "output_type": "stream",
     "text": [
      "100%|██████████| 162029/162029 [07:51<00:00, 343.96it/s]"
     ]
    },
    {
     "name": "stdout",
     "output_type": "stream",
     "text": [
      "10-11 10:27:01\n"
     ]
    },
    {
     "name": "stderr",
     "output_type": "stream",
     "text": [
      "\n"
     ]
    }
   ],
   "source": [
    "t = []\n",
    "data = dataset.data\n",
    "pre_pdb = None\n",
    "for i, line in tqdm(data.iterrows(), total=data.shape[0]):\n",
    "    pdb = line['compound_name']\n",
    "    d = dataset[i]\n",
    "    p_length = d['node_xyz'].shape[0]\n",
    "    c_length = d['coords'].shape[0]\n",
    "    y_length = d['y'].shape[0]\n",
    "    num_contact = (d.y > 0).sum()\n",
    "    t.append([i, pdb, p_length, c_length, y_length, num_contact])\n",
    "tt()\n"
   ]
  },
  {
   "cell_type": "code",
   "execution_count": null,
   "id": "bc8a5b19",
   "metadata": {
    "pycharm": {
     "name": "#%%\n"
    },
    "scrolled": true
   },
   "outputs": [],
   "source": [
    "# data = data.drop(['p_length', 'c_length', 'y_length', 'num_contact'], axis=1)"
   ]
  },
  {
   "cell_type": "code",
   "execution_count": 78,
   "id": "058c4776",
   "metadata": {
    "pycharm": {
     "name": "#%%\n"
    }
   },
   "outputs": [],
   "source": [
    "t = pd.DataFrame(t, columns=['index', 'pdb' ,'p_length', 'c_length', 'y_length', 'num_contact'])\n",
    "t['num_contact'] = t['num_contact'].apply(lambda x: x.item())"
   ]
  },
  {
   "cell_type": "code",
   "execution_count": 79,
   "id": "4ac10390",
   "metadata": {
    "pycharm": {
     "name": "#%%\n"
    }
   },
   "outputs": [],
   "source": [
    "data = pd.concat([data, t[['p_length', 'c_length', 'y_length', 'num_contact']]], axis=1)"
   ]
  },
  {
   "cell_type": "code",
   "execution_count": 80,
   "id": "959205ff",
   "metadata": {
    "pycharm": {
     "name": "#%%\n"
    }
   },
   "outputs": [],
   "source": [
    "native_num_contact = data.query(\"use_compound_com\").set_index(\"protein_name\")['num_contact'].to_dict()\n",
    "data['native_num_contact'] = data.protein_name.map(native_num_contact)\n",
    "# data['fract_of_native_contact'] = data['num_contact'] / data['native_num_contact']"
   ]
  },
  {
   "cell_type": "code",
   "execution_count": 84,
   "id": "8fa707df",
   "metadata": {
    "pycharm": {
     "name": "#%%\n"
    }
   },
   "outputs": [],
   "source": [
    "torch.save(data, f\"{toFilePre}/processed/data.pt\")"
   ]
  },
  {
   "cell_type": "code",
   "execution_count": 85,
   "id": "184158ad",
   "metadata": {
    "pycharm": {
     "name": "#%%\n"
    }
   },
   "outputs": [],
   "source": [
    "# All pdbs\n",
    "info = torch.load(f\"{toFilePre}/processed/data.pt\")\n"
   ]
  },
  {
   "cell_type": "code",
   "execution_count": 86,
   "id": "2e5f5c5b",
   "metadata": {
    "pycharm": {
     "name": "#%%\n"
    }
   },
   "outputs": [],
   "source": [
    "group = \"test\"\n",
    "\n",
    "if group == \"test\":\n",
    "    target = info.query(f\"group == 'test'\").reset_index(drop=True)\n",
    "    target_pdb_list = info.query(\"group == 'test'\").protein_name.unique()\n",
    "elif group == \"valid\":\n",
    "    target = info.query(f\"group == 'valid'\").reset_index(drop=True)\n",
    "    target_pdb_list = info.query(\"group == 'valid'\").protein_name.unique()"
   ]
  },
  {
   "cell_type": "code",
   "execution_count": 87,
   "id": "6deb8274",
   "metadata": {
    "pycharm": {
     "name": "#%%\n"
    }
   },
   "outputs": [
    {
     "name": "stderr",
     "output_type": "stream",
     "text": [
      "100%|██████████| 363/363 [00:00<00:00, 113174.19it/s]\n"
     ]
    }
   ],
   "source": [
    "subset_protein_dict = {}\n",
    "for pdb in tqdm(target_pdb_list):\n",
    "    subset_protein_dict[pdb] = protein_dict[pdb]"
   ]
  },
  {
   "cell_type": "code",
   "execution_count": 88,
   "id": "b7a1c1a1",
   "metadata": {
    "pycharm": {
     "name": "#%%\n"
    }
   },
   "outputs": [
    {
     "name": "stderr",
     "output_type": "stream",
     "text": [
      "100%|██████████| 363/363 [00:00<00:00, 137536.80it/s]\n"
     ]
    }
   ],
   "source": [
    "subset_compound_dict = {}\n",
    "for pdb in tqdm(target_pdb_list):\n",
    "    subset_compound_dict[pdb] = compound_dict[pdb]\n",
    "\n",
    "subset_nci_dict = {}\n",
    "for pdb in tqdm(target_pdb_list):\n",
    "    subset_nci_dict[pdb] = nci_dict[pdb]"
   ]
  },
  {
   "cell_type": "code",
   "execution_count": 89,
   "id": "b8d7d3ce",
   "metadata": {
    "pycharm": {
     "name": "#%%\n"
    }
   },
   "outputs": [
    {
     "name": "stderr",
     "output_type": "stream",
     "text": [
      "Processing...\n",
      "Done!\n"
     ]
    },
    {
     "name": "stdout",
     "output_type": "stream",
     "text": [
      "['/home/jovyan/dataspace/NFT/main/tankbind_data/test_dataset/processed/data.pt', '/home/jovyan/dataspace/NFT/main/tankbind_data/test_dataset/processed/protein.pt', '/home/jovyan/dataspace/NFT/main/tankbind_data/test_dataset/processed/compound.pt', '/home/jovyan/dataspace/NFT/main/tankbind_data/test_dataset/processed/nci.pt']\n"
     ]
    }
   ],
   "source": [
    "toFilePre = f\"{tankbind_data_path}/{group}_dataset\"\n",
    "os.system(f\"mkdir -p {toFilePre}\")\n",
    "dataset = NFTankBindDataSet(toFilePre, data=target, protein_dict=subset_protein_dict, compound_dict=subset_compound_dict, nci_dict=subset_nci_dict)\n"
   ]
  },
  {
   "cell_type": "code",
   "execution_count": null,
   "outputs": [],
   "source": [
    "def is_ligand_pocket(pdb):\n",
    "    if len(pdb) == 4:\n",
    "        return True\n",
    "    else:\n",
    "        return False\n",
    "\n",
    "info = torch.load(f\"{toFilePre}/processed/data.pt\")\n",
    "info['is_ligand_pocket'] = info.pdb.apply(lambda x:is_ligand_pocket(x))\n",
    "pdb_to_num_contact = info.query(\"is_ligand_pocket\").set_index(\"pdb\")['num_contact'].to_dict()\n",
    "info['base_pdb'] = info.pdb.apply(lambda x: x.split(\"_\")[0])\n",
    "info['native_num_contact'] = info.base_pdb.apply(lambda x: pdb_to_num_contact[x])\n",
    "info['cover_contact_ratio'] = info['num_contact'] / info['native_num_contact']\n",
    "use_whole_protein_list = set(info.base_pdb.unique()) - set(info.query(\"not is_ligand_pocket\").base_pdb)\n",
    "info['index'] = info.index\n",
    "info.to_csv(f\"{toFilePre}/apr23_{group}set_pdbbind_gvp_pocket_radius20_info.csv\")"
   ],
   "metadata": {
    "collapsed": false,
    "pycharm": {
     "name": "#%%\n"
    }
   }
  }
 ],
 "metadata": {
  "kernelspec": {
   "display_name": "Python 3.8.13 ('betabind_py38')",
   "language": "python",
   "name": "python3"
  },
  "language_info": {
   "codemirror_mode": {
    "name": "ipython",
    "version": 3
   },
   "file_extension": ".py",
   "mimetype": "text/x-python",
   "name": "python",
   "nbconvert_exporter": "python",
   "pygments_lexer": "ipython3",
   "version": "3.8.13"
  },
  "vscode": {
   "interpreter": {
    "hash": "4cdc0ee80d7648aad0ad3f887bd8d80fecc6c84f6e00bb50108c159517dcbac2"
   }
  }
 },
 "nbformat": 4,
 "nbformat_minor": 5
}