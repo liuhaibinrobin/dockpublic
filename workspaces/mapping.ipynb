{
 "cells": [
  {
   "cell_type": "code",
   "execution_count": 1,
   "metadata": {},
   "outputs": [],
   "source": [
    "pdbbind_path = \"/home/jovyan/data/pdbbind2020/pdbbind_files\"\n",
    "ncipdbbind_path = \"/home/jovyan/dataspace/pdb_bind_2020\"\n",
    "# import tankbind util\n",
    "tankbind_src_folder_path = \"../tankbind/\"\n",
    "import sys\n",
    "sys.path.insert(0, tankbind_src_folder_path)\n",
    "from feature_utils import write_renumbered_sdf\n",
    "from io import StringIO\n",
    "# write_renumbered_sdf(toFile, sdf_fileName, mol2_fileName)"
   ]
  },
  {
   "cell_type": "code",
   "execution_count": 2,
   "metadata": {},
   "outputs": [],
   "source": [
    "def read_mol_for_mapping(sdf_fileName, mol2_fileName, verbose=False, mol_for_nci=False):\n",
    "    Chem.WrapLogs()\n",
    "    stderr = sys.stderr\n",
    "    sio = sys.stderr = StringIO()\n",
    "    mol = Chem.MolFromMolFile(sdf_fileName, sanitize=False)\n",
    "    problem = False\n",
    "    try:\n",
    "        Chem.SanitizeMol(mol)\n",
    "        mol = Chem.RemoveHs(mol)\n",
    "        sm = Chem.MolToSmiles(mol)\n",
    "    except Exception as e:\n",
    "        sm = str(e)\n",
    "        problem = True\n",
    "    if problem and not mol_for_nci: # when mol_for_nci is True, there's no mol2_file, skipped.\n",
    "        mol = Chem.MolFromMol2File(mol2_fileName, sanitize=False)\n",
    "        problem = False\n",
    "        try:\n",
    "            Chem.SanitizeMol(mol)\n",
    "            mol = Chem.RemoveHs(mol)\n",
    "            sm = Chem.MolToSmiles(mol)\n",
    "            problem = False\n",
    "        except Exception as e:\n",
    "            sm = str(e)\n",
    "            problem = True\n",
    "\n",
    "    if verbose:\n",
    "        print(sio.getvalue())\n",
    "    sys.stderr = stderr\n",
    "    return mol, problem, sm\n",
    "\n",
    "\n",
    "def write_renumbered_sdf_for_mapping(toFile, sdf_fileName, mol2_fileName):\n",
    "    # read in mol\n",
    "    mol, problem = read_mol_for_mapping(sdf_fileName, mol2_fileName)\n",
    "    # reorder the mol atom number as in smiles.\n",
    "    m_order = list(mol.GetPropsAsDict(includePrivate=True, includeComputed=True)['_smilesAtomOutputOrder']) # Canonical Order\n",
    "    mol = Chem.RenumberAtoms(mol, m_order)\n",
    "    w = Chem.SDWriter(toFile)\n",
    "    w.write(mol)\n",
    "    w.close()\n",
    "    return problem"
   ]
  },
  {
   "cell_type": "code",
   "execution_count": 3,
   "metadata": {},
   "outputs": [
    {
     "ename": "NameError",
     "evalue": "name 'BMol_Order' is not defined",
     "output_type": "error",
     "traceback": [
      "\u001b[0;31m---------------------------------------------------------------------------\u001b[0m",
      "\u001b[0;31mNameError\u001b[0m                                 Traceback (most recent call last)",
      "\u001b[1;32m/home/jovyan/main_tankbind/workspaces/mapping.ipynb Cell 3\u001b[0m in \u001b[0;36m<cell line: 1>\u001b[0;34m()\u001b[0m\n\u001b[0;32m----> <a href='vscode-notebook-cell://ssh-remote%2Bnciyes03/home/jovyan/main_tankbind/workspaces/mapping.ipynb#W2sdnNjb2RlLXJlbW90ZQ%3D%3D?line=0'>1</a>\u001b[0m \u001b[39mprint\u001b[39m(BMol_Order)\n\u001b[1;32m      <a href='vscode-notebook-cell://ssh-remote%2Bnciyes03/home/jovyan/main_tankbind/workspaces/mapping.ipynb#W2sdnNjb2RlLXJlbW90ZQ%3D%3D?line=1'>2</a>\u001b[0m \u001b[39mprint\u001b[39m(WMol_Order)\n\u001b[1;32m      <a href='vscode-notebook-cell://ssh-remote%2Bnciyes03/home/jovyan/main_tankbind/workspaces/mapping.ipynb#W2sdnNjb2RlLXJlbW90ZQ%3D%3D?line=2'>3</a>\u001b[0m \u001b[39mprint\u001b[39m(BSM)\n",
      "\u001b[0;31mNameError\u001b[0m: name 'BMol_Order' is not defined"
     ]
    }
   ],
   "source": [
    "print(BMol_Order)\n",
    "print(WMol_Order)\n",
    "print(BSM)\n",
    "print(pdb)"
   ]
  },
  {
   "cell_type": "code",
   "execution_count": null,
   "metadata": {},
   "outputs": [
    {
     "ename": "NameError",
     "evalue": "name 'ligand_name_dict' is not defined",
     "output_type": "error",
     "traceback": [
      "\u001b[0;31m---------------------------------------------------------------------------\u001b[0m",
      "\u001b[0;31mNameError\u001b[0m                                 Traceback (most recent call last)",
      "\u001b[1;32m/home/jovyan/main_tankbind/workspaces/mapping.ipynb Cell 4\u001b[0m in \u001b[0;36m<cell line: 1>\u001b[0;34m()\u001b[0m\n\u001b[0;32m----> <a href='vscode-notebook-cell://ssh-remote%2Bnciyes03/home/jovyan/main_tankbind/workspaces/mapping.ipynb#W3sdnNjb2RlLXJlbW90ZQ%3D%3D?line=0'>1</a>\u001b[0m ligand_name_dict[\u001b[39m\"\u001b[39m\u001b[39m8a3h\u001b[39m\u001b[39m\"\u001b[39m]\n",
      "\u001b[0;31mNameError\u001b[0m: name 'ligand_name_dict' is not defined"
     ]
    }
   ],
   "source": [
    "ligand_name_dict[\"8a3h\"]"
   ]
  },
  {
   "cell_type": "code",
   "execution_count": 4,
   "metadata": {},
   "outputs": [
    {
     "data": {
      "application/vnd.jupyter.widget-view+json": {
       "model_id": "b0de110eb75f4480b0557db855994ef1",
       "version_major": 2,
       "version_minor": 0
      },
      "text/plain": [
       "  0%|          | 0/15189 [00:00<?, ?it/s]"
      ]
     },
     "metadata": {},
     "output_type": "display_data"
    },
    {
     "name": "stderr",
     "output_type": "stream",
     "text": [
      "/opt/conda/envs/tankbind_py38/lib/python3.8/site-packages/Bio/PDB/PDBParser.py:395: PDBConstructionWarning: Ignoring unrecognized record 'END' at line 3\n",
      "  warnings.warn(\n",
      "/opt/conda/envs/tankbind_py38/lib/python3.8/site-packages/Bio/PDB/PDBParser.py:395: PDBConstructionWarning: Ignoring unrecognized record 'END' at line 3\n",
      "  warnings.warn(\n",
      "/opt/conda/envs/tankbind_py38/lib/python3.8/site-packages/Bio/PDB/PDBParser.py:395: PDBConstructionWarning: Ignoring unrecognized record 'END' at line 3\n",
      "  warnings.warn(\n",
      "/opt/conda/envs/tankbind_py38/lib/python3.8/site-packages/Bio/PDB/PDBParser.py:395: PDBConstructionWarning: Ignoring unrecognized record 'END' at line 3\n",
      "  warnings.warn(\n",
      "/opt/conda/envs/tankbind_py38/lib/python3.8/site-packages/Bio/PDB/PDBParser.py:395: PDBConstructionWarning: Ignoring unrecognized record 'END' at line 3\n",
      "  warnings.warn(\n",
      "/opt/conda/envs/tankbind_py38/lib/python3.8/site-packages/Bio/PDB/PDBParser.py:395: PDBConstructionWarning: Ignoring unrecognized record 'END' at line 3\n",
      "  warnings.warn(\n",
      "/opt/conda/envs/tankbind_py38/lib/python3.8/site-packages/Bio/PDB/PDBParser.py:395: PDBConstructionWarning: Ignoring unrecognized record 'END' at line 3\n",
      "  warnings.warn(\n",
      "/opt/conda/envs/tankbind_py38/lib/python3.8/site-packages/Bio/PDB/PDBParser.py:395: PDBConstructionWarning: Ignoring unrecognized record 'END' at line 3\n",
      "  warnings.warn(\n",
      "/opt/conda/envs/tankbind_py38/lib/python3.8/site-packages/Bio/PDB/PDBParser.py:395: PDBConstructionWarning: Ignoring unrecognized record 'END' at line 3\n",
      "  warnings.warn(\n",
      "/opt/conda/envs/tankbind_py38/lib/python3.8/site-packages/Bio/PDB/PDBParser.py:395: PDBConstructionWarning: Ignoring unrecognized record 'END' at line 3\n",
      "  warnings.warn(\n",
      "/opt/conda/envs/tankbind_py38/lib/python3.8/site-packages/Bio/PDB/PDBParser.py:395: PDBConstructionWarning: Ignoring unrecognized record 'END' at line 3\n",
      "  warnings.warn(\n",
      "/opt/conda/envs/tankbind_py38/lib/python3.8/site-packages/Bio/PDB/PDBParser.py:395: PDBConstructionWarning: Ignoring unrecognized record 'END' at line 3\n",
      "  warnings.warn(\n",
      "/opt/conda/envs/tankbind_py38/lib/python3.8/site-packages/Bio/PDB/PDBParser.py:395: PDBConstructionWarning: Ignoring unrecognized record 'END' at line 3\n",
      "  warnings.warn(\n",
      "/opt/conda/envs/tankbind_py38/lib/python3.8/site-packages/Bio/PDB/PDBParser.py:395: PDBConstructionWarning: Ignoring unrecognized record 'END' at line 3\n",
      "  warnings.warn(\n",
      "/opt/conda/envs/tankbind_py38/lib/python3.8/site-packages/Bio/PDB/PDBParser.py:395: PDBConstructionWarning: Ignoring unrecognized record 'END' at line 3\n",
      "  warnings.warn(\n",
      "/opt/conda/envs/tankbind_py38/lib/python3.8/site-packages/Bio/PDB/PDBParser.py:395: PDBConstructionWarning: Ignoring unrecognized record 'END' at line 3\n",
      "  warnings.warn(\n",
      "/opt/conda/envs/tankbind_py38/lib/python3.8/site-packages/Bio/PDB/PDBParser.py:395: PDBConstructionWarning: Ignoring unrecognized record 'END' at line 3\n",
      "  warnings.warn(\n",
      "/opt/conda/envs/tankbind_py38/lib/python3.8/site-packages/Bio/PDB/PDBParser.py:395: PDBConstructionWarning: Ignoring unrecognized record 'END' at line 3\n",
      "  warnings.warn(\n",
      "/opt/conda/envs/tankbind_py38/lib/python3.8/site-packages/Bio/PDB/PDBParser.py:395: PDBConstructionWarning: Ignoring unrecognized record 'END' at line 3\n",
      "  warnings.warn(\n",
      "/opt/conda/envs/tankbind_py38/lib/python3.8/site-packages/Bio/PDB/PDBParser.py:395: PDBConstructionWarning: Ignoring unrecognized record 'END' at line 3\n",
      "  warnings.warn(\n",
      "/opt/conda/envs/tankbind_py38/lib/python3.8/site-packages/Bio/PDB/PDBParser.py:395: PDBConstructionWarning: Ignoring unrecognized record 'END' at line 3\n",
      "  warnings.warn(\n",
      "/opt/conda/envs/tankbind_py38/lib/python3.8/site-packages/Bio/PDB/PDBParser.py:395: PDBConstructionWarning: Ignoring unrecognized record 'END' at line 3\n",
      "  warnings.warn(\n",
      "/opt/conda/envs/tankbind_py38/lib/python3.8/site-packages/Bio/PDB/PDBParser.py:395: PDBConstructionWarning: Ignoring unrecognized record 'END' at line 3\n",
      "  warnings.warn(\n",
      "/opt/conda/envs/tankbind_py38/lib/python3.8/site-packages/Bio/PDB/PDBParser.py:395: PDBConstructionWarning: Ignoring unrecognized record 'END' at line 3\n",
      "  warnings.warn(\n",
      "/opt/conda/envs/tankbind_py38/lib/python3.8/site-packages/Bio/PDB/PDBParser.py:395: PDBConstructionWarning: Ignoring unrecognized record 'END' at line 3\n",
      "  warnings.warn(\n",
      "/opt/conda/envs/tankbind_py38/lib/python3.8/site-packages/Bio/PDB/PDBParser.py:395: PDBConstructionWarning: Ignoring unrecognized record 'END' at line 3\n",
      "  warnings.warn(\n",
      "/opt/conda/envs/tankbind_py38/lib/python3.8/site-packages/Bio/PDB/PDBParser.py:395: PDBConstructionWarning: Ignoring unrecognized record 'END' at line 3\n",
      "  warnings.warn(\n",
      "/opt/conda/envs/tankbind_py38/lib/python3.8/site-packages/Bio/PDB/PDBParser.py:395: PDBConstructionWarning: Ignoring unrecognized record 'END' at line 3\n",
      "  warnings.warn(\n",
      "/opt/conda/envs/tankbind_py38/lib/python3.8/site-packages/Bio/PDB/PDBParser.py:395: PDBConstructionWarning: Ignoring unrecognized record 'END' at line 3\n",
      "  warnings.warn(\n",
      "/opt/conda/envs/tankbind_py38/lib/python3.8/site-packages/Bio/PDB/PDBParser.py:395: PDBConstructionWarning: Ignoring unrecognized record 'END' at line 3\n",
      "  warnings.warn(\n",
      "/opt/conda/envs/tankbind_py38/lib/python3.8/site-packages/Bio/PDB/PDBParser.py:395: PDBConstructionWarning: Ignoring unrecognized record 'END' at line 3\n",
      "  warnings.warn(\n"
     ]
    }
   ],
   "source": [
    "from selectors import EpollSelector\n",
    "from rdkit import Chem\n",
    "from collections import defaultdict\n",
    "from Bio.PDB import PDBParser\n",
    "from tqdm.notebook import tqdm\n",
    "import numpy as np\n",
    "ligand_name_dict = defaultdict(dict)\n",
    "parser = PDBParser()\n",
    "\n",
    "#for pdb in tqdm(['10gs']):\n",
    "for pdb in tqdm(os.listdir(ncipdbbind_path)):\n",
    "    # B for pdbbind and W for Wenzhi's NCI database\n",
    "    B_sdf = f\"{pdbbind_path}/{pdb}/{pdb}_ligand.sdf\"\n",
    "    B_mol2 = f\"{pdbbind_path}/{pdb}/{pdb}_ligand.mol2\"  # In cases where .sdf not work\n",
    "\n",
    "    W_sdf = f\"{ncipdbbind_path}/{pdb}/{pdb}_ligand.sdf\"\n",
    "    W_pdb = f\"{ncipdbbind_path}/{pdb}/{pdb}_ligand.pdb\"  # Atom names stored\n",
    "\n",
    "    # Mol, problem_flag, and SMILES\n",
    "    BMol_sdf_re, BM_problem, BSM = read_mol_for_mapping(B_sdf, B_mol2, mol_for_nci=False)\n",
    "    WMol_sdf_re, WM_problem, WSM = read_mol_for_mapping(W_sdf, None, mol_for_nci=True)\n",
    "\n",
    "    if BM_problem: # PDBBind Mol Generation Error\n",
    "        ligand_name_dict[pdb] = \"Error_BM\"\n",
    "        continue\n",
    "    if WM_problem: # WZ's file Mol Generation Error\n",
    "        ligand_name_dict[pdb] = \"Error_WM\"\n",
    "        continue\n",
    "\n",
    "    # NO Problem\n",
    "    WMol_pdb = Chem.MolFromPDBFile(W_pdb) # Read PDB\n",
    "    BMol_Order = list(BMol_sdf_re.GetPropsAsDict(includePrivate=True, includeComputed=True)['_smilesAtomOutputOrder']) # Get Order\n",
    "    WMol_Order = list(WMol_sdf_re.GetPropsAsDict(includePrivate=True, includeComputed=True)['_smilesAtomOutputOrder']) # Get Order\n",
    "\n",
    "    structure = parser.get_structure(\"pdb\", W_pdb)[0] # Get Atom Names\n",
    "    WMol_pdb_atoms = list(list(list(structure)[0])[0].get_atoms())\n",
    "\n",
    "\n",
    "    BMol_NumAtoms = BMol_sdf_re.GetNumAtoms()\n",
    "    WMol_NumAtoms = WMol_sdf_re.GetNumAtoms()\n",
    "    if BMol_NumAtoms != WMol_NumAtoms:\n",
    "        ligand_name_dict[pdb] = \"Error_AtomNum\"\n",
    "        continue\n",
    "\n",
    "\n",
    "    atomicNums = []\n",
    "    atomNames = []\n",
    "    \n",
    "    for i, order in enumerate(WMol_Order): # Read AtomicNum and AtomName from Wenzhi's mol by canonical order \n",
    "        atomicNums.append(WMol_sdf_re.GetAtoms()[order].GetAtomicNum())\n",
    "        atomNames.append(WMol_pdb_atoms[order].get_name())\n",
    "    \n",
    "    # Since we will use renumbered mol constructed from PDBBind files, we will construct the ligname dict from them, too.\n",
    "    for i, order in enumerate(BMol_Order): \n",
    "        if BMol_sdf_re.GetAtoms()[order].GetAtomicNum() == atomicNums[i]: \n",
    "            ligand_name_dict[pdb][i] = (atomNames[i], WMol_Order[i])\n",
    "        else:\n",
    "            ligand_name_dict[pdb] = \"Error_AtomicNum\"\n",
    "            break\n",
    "\n",
    "    if ligand_name_dict[pdb] == \"Error_AtomicNum\":\n",
    "        continue\n",
    "\n",
    "    else:\n",
    "        # In the end, check whether the ligand centers are the same.\n",
    "        BMol_Coors = []\n",
    "        WMol_Coors = []\n",
    "        for i in range(BMol_sdf_re.GetNumAtoms()):\n",
    "            BMol_Coors.append(np.array(BMol_sdf_re.GetConformer().GetAtomPosition(i)))\n",
    "            WMol_Coors.append(np.array(WMol_sdf_re.GetConformer().GetAtomPosition(i)))\n",
    "        BMol_Coors = np.array(BMol_Coors).mean(axis=0)\n",
    "        WMol_Coors = np.array(WMol_Coors).mean(axis=0)\n",
    "        if np.mean((BMol_Coors-WMol_Coors)**2) > 2:\n",
    "            #print(pdb)\n",
    "            ligand_name_dict[pdb] = \"Error_LigCenterCoor\""
   ]
  },
  {
   "cell_type": "code",
   "execution_count": 5,
   "metadata": {},
   "outputs": [
    {
     "data": {
      "text/plain": [
       "{0: ('O6', 10),\n",
       " 1: ('C6', 5),\n",
       " 2: ('C5', 4),\n",
       " 3: ('O5', 9),\n",
       " 4: ('C1', 0),\n",
       " 5: ('O1', 19),\n",
       " 6: ('C4B', 14),\n",
       " 7: ('C3B', 13),\n",
       " 8: ('O3B', 18),\n",
       " 9: ('C2B', 12),\n",
       " 10: ('O2B', 17),\n",
       " 11: ('C1B', 11),\n",
       " 12: ('N2B', 22),\n",
       " 13: ('C7B', 23),\n",
       " 14: ('C8B', 24),\n",
       " 15: ('N1B', 20),\n",
       " 16: ('C5B', 15),\n",
       " 17: ('C6B', 16),\n",
       " 18: ('O6B', 21),\n",
       " 19: ('C2', 1),\n",
       " 20: ('O2', 6),\n",
       " 21: ('C3', 2),\n",
       " 22: ('O3', 7),\n",
       " 23: ('C4', 3),\n",
       " 24: ('O4', 8)}"
      ]
     },
     "execution_count": 5,
     "metadata": {},
     "output_type": "execute_result"
    }
   ],
   "source": [
    "ligand_name_dict[pdb]"
   ]
  },
  {
   "cell_type": "code",
   "execution_count": 6,
   "metadata": {},
   "outputs": [
    {
     "name": "stdout",
     "output_type": "stream",
     "text": [
      "PDBBind Smiles Error 238 \n",
      "Wenzhi's Smiles Error 124 \n",
      "Atomic Number Non-Coherant 937 \n",
      "Atom Number Non-Coherant 1004 \n",
      "Ligand Centre Non-Coherant 167\n"
     ]
    }
   ],
   "source": [
    "a, b, c, d, e = 0, 0, 0, 0, 0\n",
    "for _key in ligand_name_dict.keys():\n",
    "    if isinstance(ligand_name_dict[_key], str):\n",
    "        if ligand_name_dict[_key] == \"Error_BM\":\n",
    "            a += 1\n",
    "        elif ligand_name_dict[_key] == \"Error_WM\":\n",
    "            b += 1\n",
    "        elif ligand_name_dict[_key] == \"Error_AtomicNum\":\n",
    "            c += 1\n",
    "        elif ligand_name_dict[_key] == \"Error_AtomNum\":\n",
    "            d += 1\n",
    "        elif ligand_name_dict[_key] == \"Error_LigCenterCoor\":\n",
    "            e += 1\n",
    "\n",
    "print(\"PDBBind Smiles Error\", a, \"\\nWenzhi's Smiles Error\", b, \n",
    "      \"\\nAtomic Number Non-Coherant\", c, \"\\nAtom Number Non-Coherant\", d, \"\\nLigand Centre Non-Coherant\", e)\n",
    "        "
   ]
  },
  {
   "cell_type": "code",
   "execution_count": 7,
   "metadata": {},
   "outputs": [],
   "source": [
    "# And now we recycle some Mols noted as \"Error\" that could be used.\n",
    "\n",
    "xx_list = [] # AtomicNum Error List\n",
    "for _key in ligand_name_dict.keys():\n",
    "    if ligand_name_dict[_key] == \"Error_AtomicNum\":\n",
    "        xx_list.append(_key)"
   ]
  },
  {
   "cell_type": "code",
   "execution_count": 8,
   "metadata": {},
   "outputs": [
    {
     "data": {
      "application/vnd.jupyter.widget-view+json": {
       "model_id": "babbc76c7444470da3f6ca46133ea3ed",
       "version_major": 2,
       "version_minor": 0
      },
      "text/plain": [
       "  0%|          | 0/937 [00:00<?, ?it/s]"
      ]
     },
     "metadata": {},
     "output_type": "display_data"
    }
   ],
   "source": [
    "newnew_dict = defaultdict(dict)\n",
    "mapping_dict = defaultdict(dict)\n",
    "mapping_set_dict = defaultdict(list)\n",
    "mayok = []\n",
    "\n",
    "def caldist(a, b):\n",
    "    return ((a-b)**2).mean()\n",
    "\n",
    "for pdb in tqdm(xx_list):\n",
    "    \n",
    "    B_sdf = f\"{pdbbind_path}/{pdb}/{pdb}_ligand.sdf\"\n",
    "    B_mol2 = f\"{pdbbind_path}/{pdb}/{pdb}_ligand.mol2\"\n",
    "\n",
    "    W_sdf = f\"{ncipdbbind_path}/{pdb}/{pdb}_ligand.sdf\"\n",
    "    W_pdb = f\"{ncipdbbind_path}/{pdb}/{pdb}_ligand.pdb\"\n",
    "\n",
    "    BMol_sdf, BM_problem, BSM = read_mol_for_mapping(B_sdf, B_mol2, mol_for_nci=False)\n",
    "    WMol_sdf, WM_problem, WSM = read_mol_for_mapping(W_sdf, None, mol_for_nci=True)\n",
    "\n",
    "    WMol_pdb = Chem.MolFromPDBFile(W_pdb)\n",
    "    BMol_Order = list(BMol_sdf.GetPropsAsDict(includePrivate=True, includeComputed=True)['_smilesAtomOutputOrder'])\n",
    "    WMol_Order = list(WMol_sdf.GetPropsAsDict(includePrivate=True, includeComputed=True)['_smilesAtomOutputOrder'])\n",
    "\n",
    "    # Length non-coherant\n",
    "    if len(BMol_Order) != len(WMol_Order):\n",
    "        newnew_dict[pdb] = \"Error_AtomNum\"\n",
    "        continue\n",
    "\n",
    "    else:\n",
    "        bcoors = []\n",
    "        wcoors = []\n",
    "        for i in range(BMol_sdf.GetNumAtoms()):\n",
    "            bcoors.append(np.array(BMol_sdf.GetConformer().GetAtomPosition(i)))\n",
    "            wcoors.append(np.array(WMol_sdf.GetConformer().GetAtomPosition(i)))\n",
    "            \n",
    "        #print(BMol_Order)\n",
    "        for i, order in enumerate(BMol_Order): # Canonical Order.\n",
    "            #print(\"BMOL_Order\", i, order)\n",
    "            _bcoor = bcoors[order] # the i-th atom in canonical order is the order-th atom in BMol\n",
    "            minimum = 10000\n",
    "            cur_j = -1\n",
    "            for (j, _wcoor) in enumerate(wcoors):   # Get the closest atom in Wenzhi‘s mol for each atom in PDBBind(canonical);\n",
    "                # We don't use WMol_Order! Because the l_id column in NCI DataFrame is constructed from the original atom order.\n",
    "                if caldist(_bcoor, _wcoor) < minimum:\n",
    "                    minimum = caldist(_bcoor, _wcoor)\n",
    "                    cur_j = j\n",
    "            \n",
    "            if minimum > 0.5:\n",
    "                #print(\"NONONO\")\n",
    "                newnew_dict[pdb]  = \"Error_AtomicNum\"\n",
    "                if pdb in mapping_dict:\n",
    "                    del mapping_dict[pdb]\n",
    "                break \n",
    "            \n",
    "            if BMol_sdf.GetAtoms()[order].GetAtomicNum() != WMol_sdf.GetAtoms()[cur_j].GetAtomicNum():\n",
    "                #print(\"NO\")\n",
    "                newnew_dict[pdb]  = \"Error_AtomicNum\"\n",
    "                if pdb in mapping_dict:\n",
    "                    del mapping_dict[pdb]\n",
    "                break     \n",
    "            \n",
    "            mapping_dict[pdb][i] = cur_j # order: PDBBind canonial; cur_j: NCI original\n",
    "            mapping_set_dict[pdb].append(cur_j)\n",
    "        \n",
    "        #print(mapping_dict[pdb])\n",
    "        if isinstance(newnew_dict[pdb], str):\n",
    "            if pdb in mapping_dict:\n",
    "                del mapping_dict[pdb]\n",
    "            continue\n",
    "        \n",
    "        if len(mapping_set_dict[pdb]) != len(set(mapping_set_dict[pdb])) or (len(mapping_set_dict[pdb])!=BMol_sdf.GetNumAtoms()): # if several atoms are mapped to the same atom, error!\n",
    "            newnew_dict[pdb]  = \"Error_AtomCoor\"\n",
    "            if pdb in mapping_dict:\n",
    "                del mapping_dict[pdb]\n",
    "            continue\n",
    "        \n",
    "        else:\n",
    "            mayok.append(pdb)"
   ]
  },
  {
   "cell_type": "code",
   "execution_count": 9,
   "metadata": {},
   "outputs": [
    {
     "data": {
      "text/plain": [
       "1"
      ]
     },
     "execution_count": 9,
     "metadata": {},
     "output_type": "execute_result"
    }
   ],
   "source": [
    "len(mapping_set_dict['4u5l'])"
   ]
  },
  {
   "cell_type": "code",
   "execution_count": 10,
   "metadata": {},
   "outputs": [
    {
     "data": {
      "text/plain": [
       "937"
      ]
     },
     "execution_count": 10,
     "metadata": {},
     "output_type": "execute_result"
    }
   ],
   "source": [
    "len(newnew_dict)"
   ]
  },
  {
   "cell_type": "code",
   "execution_count": 11,
   "metadata": {},
   "outputs": [
    {
     "data": {
      "text/plain": [
       "728"
      ]
     },
     "execution_count": 11,
     "metadata": {},
     "output_type": "execute_result"
    }
   ],
   "source": [
    "len(mayok)"
   ]
  },
  {
   "cell_type": "code",
   "execution_count": 25,
   "metadata": {},
   "outputs": [],
   "source": [
    "torch.save(mayok, \"/home/jovyan/dataspace/NFT/main/sdf_from_NCI_list.pt\")"
   ]
  },
  {
   "cell_type": "code",
   "execution_count": 28,
   "metadata": {},
   "outputs": [],
   "source": [
    "for i in LigDict_id:\n",
    "    if i in mayok:\n",
    "        continue\n",
    "    else:\n",
    "        print(\"asgd\")"
   ]
  },
  {
   "cell_type": "code",
   "execution_count": 12,
   "metadata": {},
   "outputs": [
    {
     "data": {
      "text/plain": [
       "728"
      ]
     },
     "execution_count": 12,
     "metadata": {},
     "output_type": "execute_result"
    }
   ],
   "source": [
    "len(mapping_dict)"
   ]
  },
  {
   "cell_type": "code",
   "execution_count": 13,
   "metadata": {},
   "outputs": [
    {
     "name": "stdout",
     "output_type": "stream",
     "text": [
      "[6, 5, 7, 4, 3, 2, 13, 14, 15, 16, 17, 19, 18, 20, 24, 23, 22, 21, 0, 1, 12, 8, 9, 10, 11]\n",
      "[23, 21, 24, 22, 15, 12, 13, 14, 11, 9, 10, 3, 1, 0, 2, 4, 5, 6, 7, 8, 16, 17, 18, 19, 20]\n"
     ]
    }
   ],
   "source": [
    "print(BMol_Order)\n",
    "print(WMol_Order)"
   ]
  },
  {
   "cell_type": "code",
   "execution_count": 14,
   "metadata": {},
   "outputs": [
    {
     "name": "stdout",
     "output_type": "stream",
     "text": [
      "[6, 8, 6, 6, 16, 6, 6, 6, 6, 6, 8, 8, 7, 7, 6, 8, 6, 6, 8, 8, 6, 6, 16, 6, 6]\n",
      "[8, 6, 8, 6, 6, 6, 6, 16, 6, 6, 8, 7, 6, 6, 8, 6, 7, 6, 6, 8, 8, 6, 16, 6, 6]\n"
     ]
    }
   ],
   "source": [
    "aaa = list([a.GetAtomicNum() for a in BMol_sdf.GetAtoms()])\n",
    "bbb = list([a.GetAtomicNum() for a in WMol_sdf.GetAtoms()])\n",
    "print(aaa)\n",
    "print(bbb)"
   ]
  },
  {
   "cell_type": "code",
   "execution_count": 15,
   "metadata": {},
   "outputs": [
    {
     "name": "stdout",
     "output_type": "stream",
     "text": [
      "{0: 24, 1: 21, 2: 23, 3: 22, 4: 15, 5: 12, 6: 11, 7: 9, 8: 10, 9: 3, 10: 1, 11: 0, 12: 2, 13: 4, 14: 5, 15: 6, 16: 7, 17: 8, 18: 13, 19: 14, 20: 16, 21: 17, 22: 18, 23: 20, 24: 19}\n"
     ]
    }
   ],
   "source": [
    "ccc = mapping_dict['6un3']\n",
    "print(ccc)"
   ]
  },
  {
   "cell_type": "code",
   "execution_count": 16,
   "metadata": {},
   "outputs": [
    {
     "name": "stdout",
     "output_type": "stream",
     "text": [
      "CC1(C)S[C@@H]2[C@H](NC(=O)[C@H](C(=O)O)c3ccsc3)C(=O)N2[C@H]1C(=O)O\n"
     ]
    }
   ],
   "source": [
    "print(BSM)"
   ]
  },
  {
   "cell_type": "code",
   "execution_count": 17,
   "metadata": {},
   "outputs": [],
   "source": [
    "LigDict_name_id = {}\n",
    "for _key in ligand_name_dict:\n",
    "    if isinstance(ligand_name_dict[_key], str):\n",
    "        continue\n",
    "    else:\n",
    "        LigDict_name_id[_key] = ligand_name_dict[_key]\n",
    "\n",
    "LigDict_id = {}\n",
    "for _key in mapping_dict.keys():\n",
    "    LigDict_id[_key] = mapping_dict[_key]"
   ]
  },
  {
   "cell_type": "code",
   "execution_count": 18,
   "metadata": {},
   "outputs": [],
   "source": [
    "import torch"
   ]
  },
  {
   "cell_type": "code",
   "execution_count": 19,
   "metadata": {},
   "outputs": [
    {
     "data": {
      "text/plain": [
       "0"
      ]
     },
     "execution_count": 19,
     "metadata": {},
     "output_type": "execute_result"
    }
   ],
   "source": [
    "os.system(\"mkdir -p ../../dataspace/NFT/main/ligand_name_dicts\")"
   ]
  },
  {
   "cell_type": "code",
   "execution_count": 20,
   "metadata": {},
   "outputs": [],
   "source": [
    "torch.save(LigDict_id, \"../../dataspace/NFT/main/ligand_name_dicts/ligdict_id.pt\")\n",
    "torch.save(LigDict_name_id, \"../../dataspace/NFT/main/ligand_name_dicts/ligdict_nameid.pt\")"
   ]
  },
  {
   "cell_type": "code",
   "execution_count": 21,
   "metadata": {},
   "outputs": [],
   "source": [
    "pdb = \"4u5l\"\n",
    "if True:\n",
    "    B_sdf = f\"{pdbbind_path}/{pdb}/{pdb}_ligand.sdf\"\n",
    "    B_mol2 = f\"{pdbbind_path}/{pdb}/{pdb}_ligand.mol2\"\n",
    "\n",
    "    W_sdf = f\"{ncipdbbind_path}/{pdb}/{pdb}_ligand.sdf\"\n",
    "    W_pdb = f\"{ncipdbbind_path}/{pdb}/{pdb}_ligand.pdb\"\n",
    "\n",
    "    BMol_sdf, BM_problem, BSM = read_mol_for_mapping(B_sdf, B_mol2, mol_for_nci=False)\n",
    "    WMol_sdf, WM_problem, WSM = read_mol_for_mapping(W_sdf, None, mol_for_nci=True)\n",
    "\n",
    "    WMol_pdb = Chem.MolFromPDBFile(W_pdb)\n",
    "    BMol_Order = list(BMol_sdf.GetPropsAsDict(includePrivate=True, includeComputed=True)['_smilesAtomOutputOrder'])\n",
    "    WMol_Order = list(WMol_sdf.GetPropsAsDict(includePrivate=True, includeComputed=True)['_smilesAtomOutputOrder'])"
   ]
  },
  {
   "cell_type": "code",
   "execution_count": 23,
   "metadata": {},
   "outputs": [
    {
     "ename": "NameError",
     "evalue": "name 'LigDict_nameid' is not defined",
     "output_type": "error",
     "traceback": [
      "\u001b[0;31m---------------------------------------------------------------------------\u001b[0m",
      "\u001b[0;31mNameError\u001b[0m                                 Traceback (most recent call last)",
      "\u001b[1;32m/home/jovyan/main_tankbind/workspaces/mapping.ipynb Cell 23\u001b[0m in \u001b[0;36m<cell line: 1>\u001b[0;34m()\u001b[0m\n\u001b[0;32m----> <a href='vscode-notebook-cell://ssh-remote%2Bnciyes03/home/jovyan/main_tankbind/workspaces/mapping.ipynb#X31sdnNjb2RlLXJlbW90ZQ%3D%3D?line=0'>1</a>\u001b[0m LigDict_nameid[\u001b[39m'\u001b[39m\u001b[39m4u5l\u001b[39m\u001b[39m'\u001b[39m]\n",
      "\u001b[0;31mNameError\u001b[0m: name 'LigDict_nameid' is not defined"
     ]
    }
   ],
   "source": []
  },
  {
   "cell_type": "code",
   "execution_count": null,
   "metadata": {},
   "outputs": [
    {
     "data": {
      "text/plain": [
       "'NC(=O)[C@H](CCCC[NH3+])[NH2+]Cc1ccc(-c2cccnc2)cc1'"
      ]
     },
     "execution_count": 122,
     "metadata": {},
     "output_type": "execute_result"
    }
   ],
   "source": [
    "BSM"
   ]
  },
  {
   "cell_type": "code",
   "execution_count": null,
   "metadata": {},
   "outputs": [
    {
     "data": {
      "text/plain": [
       "'NCCCC[C@H](NCc1ccc(-c2cccnc2)cc1)C(N)=O'"
      ]
     },
     "execution_count": 123,
     "metadata": {},
     "output_type": "execute_result"
    }
   ],
   "source": [
    "WSM"
   ]
  },
  {
   "cell_type": "code",
   "execution_count": null,
   "metadata": {},
   "outputs": [
    {
     "data": {
      "text/plain": [
       "23"
      ]
     },
     "execution_count": 124,
     "metadata": {},
     "output_type": "execute_result"
    }
   ],
   "source": [
    "BMol_sdf.GetNumAtoms()"
   ]
  },
  {
   "cell_type": "code",
   "execution_count": null,
   "metadata": {},
   "outputs": [
    {
     "data": {
      "text/plain": [
       "23"
      ]
     },
     "execution_count": 125,
     "metadata": {},
     "output_type": "execute_result"
    }
   ],
   "source": [
    "WMol_sdf.GetNumAtoms()"
   ]
  },
  {
   "cell_type": "code",
   "execution_count": null,
   "metadata": {},
   "outputs": [],
   "source": [
    "nci_df = "
   ]
  },
  {
   "cell_type": "code",
   "execution_count": null,
   "metadata": {},
   "outputs": [
    {
     "data": {
      "text/plain": [
       "1406"
      ]
     },
     "execution_count": 9,
     "metadata": {},
     "output_type": "execute_result"
    }
   ],
   "source": [
    "import os\n",
    "\n",
    "len(os.listdir(\"/home/jovyan/dataspace/NFT/main/nci_protein_ligand_matrix\"))"
   ]
  },
  {
   "cell_type": "code",
   "execution_count": null,
   "metadata": {},
   "outputs": [],
   "source": []
  },
  {
   "cell_type": "code",
   "execution_count": null,
   "metadata": {},
   "outputs": [],
   "source": []
  }
 ],
 "metadata": {
  "kernelspec": {
   "display_name": "Python 3.8.13 ('tankbind_py38')",
   "language": "python",
   "name": "python3"
  },
  "language_info": {
   "codemirror_mode": {
    "name": "ipython",
    "version": 3
   },
   "file_extension": ".py",
   "mimetype": "text/x-python",
   "name": "python",
   "nbconvert_exporter": "python",
   "pygments_lexer": "ipython3",
   "version": "3.8.13"
  },
  "orig_nbformat": 4,
  "vscode": {
   "interpreter": {
    "hash": "3642610297c2db0c2e515b5d6934e6fa60bcae4d2e973dd2c51cba19538092f6"
   }
  }
 },
 "nbformat": 4,
 "nbformat_minor": 2
}
