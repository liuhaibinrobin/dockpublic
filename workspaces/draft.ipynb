{
 "cells": [
  {
   "cell_type": "code",
   "execution_count": 1,
   "metadata": {
    "pycharm": {
     "name": "#%%\n"
    }
   },
   "outputs": [],
   "source": [
    "import numpy as np\n",
    "import torch"
   ]
  },
  {
   "cell_type": "code",
   "execution_count": 2,
   "metadata": {},
   "outputs": [],
   "source": [
    "a = torch.load(\"/home/jovyan/dataspace/NFT/main/tankbind_datainfo.pt\")"
   ]
  },
  {
   "cell_type": "code",
   "execution_count": 3,
   "metadata": {},
   "outputs": [
    {
     "data": {
      "text/html": [
       "<div>\n",
       "<style scoped>\n",
       "    .dataframe tbody tr th:only-of-type {\n",
       "        vertical-align: middle;\n",
       "    }\n",
       "\n",
       "    .dataframe tbody tr th {\n",
       "        vertical-align: top;\n",
       "    }\n",
       "\n",
       "    .dataframe thead th {\n",
       "        text-align: right;\n",
       "    }\n",
       "</style>\n",
       "<table border=\"1\" class=\"dataframe\">\n",
       "  <thead>\n",
       "    <tr style=\"text-align: right;\">\n",
       "      <th></th>\n",
       "      <th>protein_name</th>\n",
       "      <th>compound_name</th>\n",
       "      <th>pdb</th>\n",
       "      <th>smiles</th>\n",
       "      <th>affinity</th>\n",
       "      <th>uid</th>\n",
       "      <th>pocket_com</th>\n",
       "      <th>use_compound_com</th>\n",
       "      <th>use_whole_protein</th>\n",
       "      <th>group</th>\n",
       "      <th>has_nci_info</th>\n",
       "      <th>compound_sdf_from_nci</th>\n",
       "    </tr>\n",
       "  </thead>\n",
       "  <tbody>\n",
       "    <tr>\n",
       "      <th>0</th>\n",
       "      <td>3zzf</td>\n",
       "      <td>3zzf</td>\n",
       "      <td>3zzf</td>\n",
       "      <td></td>\n",
       "      <td>0.40</td>\n",
       "      <td>Q01217</td>\n",
       "      <td>None</td>\n",
       "      <td>True</td>\n",
       "      <td>False</td>\n",
       "      <td>train</td>\n",
       "      <td>True</td>\n",
       "      <td>False</td>\n",
       "    </tr>\n",
       "    <tr>\n",
       "      <th>1</th>\n",
       "      <td>3zzf</td>\n",
       "      <td>3zzf</td>\n",
       "      <td>3zzf_c</td>\n",
       "      <td></td>\n",
       "      <td>0.40</td>\n",
       "      <td>Q01217</td>\n",
       "      <td>[[5.51331901550293, 36.50146484375, 14.4291219...</td>\n",
       "      <td>False</td>\n",
       "      <td>False</td>\n",
       "      <td>train</td>\n",
       "      <td>True</td>\n",
       "      <td>False</td>\n",
       "    </tr>\n",
       "    <tr>\n",
       "      <th>2</th>\n",
       "      <td>3zzf</td>\n",
       "      <td>3zzf</td>\n",
       "      <td>3zzf_0</td>\n",
       "      <td></td>\n",
       "      <td>0.40</td>\n",
       "      <td>Q01217</td>\n",
       "      <td>[[9.2232, 36.6453, 4.2458]]</td>\n",
       "      <td>False</td>\n",
       "      <td>False</td>\n",
       "      <td>train</td>\n",
       "      <td>True</td>\n",
       "      <td>False</td>\n",
       "    </tr>\n",
       "    <tr>\n",
       "      <th>3</th>\n",
       "      <td>3zzf</td>\n",
       "      <td>3zzf</td>\n",
       "      <td>3zzf_1</td>\n",
       "      <td></td>\n",
       "      <td>0.40</td>\n",
       "      <td>Q01217</td>\n",
       "      <td>[[-3.9652, 36.9019, 2.8611]]</td>\n",
       "      <td>False</td>\n",
       "      <td>False</td>\n",
       "      <td>train</td>\n",
       "      <td>True</td>\n",
       "      <td>False</td>\n",
       "    </tr>\n",
       "    <tr>\n",
       "      <th>4</th>\n",
       "      <td>3zzf</td>\n",
       "      <td>3zzf</td>\n",
       "      <td>3zzf_2</td>\n",
       "      <td></td>\n",
       "      <td>0.40</td>\n",
       "      <td>Q01217</td>\n",
       "      <td>[[16.5628, 39.1406, 26.3637]]</td>\n",
       "      <td>False</td>\n",
       "      <td>False</td>\n",
       "      <td>train</td>\n",
       "      <td>True</td>\n",
       "      <td>False</td>\n",
       "    </tr>\n",
       "    <tr>\n",
       "      <th>...</th>\n",
       "      <td>...</td>\n",
       "      <td>...</td>\n",
       "      <td>...</td>\n",
       "      <td>...</td>\n",
       "      <td>...</td>\n",
       "      <td>...</td>\n",
       "      <td>...</td>\n",
       "      <td>...</td>\n",
       "      <td>...</td>\n",
       "      <td>...</td>\n",
       "      <td>...</td>\n",
       "      <td>...</td>\n",
       "    </tr>\n",
       "    <tr>\n",
       "      <th>162024</th>\n",
       "      <td>2avi</td>\n",
       "      <td>2avi</td>\n",
       "      <td>2avi_5</td>\n",
       "      <td></td>\n",
       "      <td>15.22</td>\n",
       "      <td>P02701</td>\n",
       "      <td>[[-24.8819, 33.8811, 24.9982]]</td>\n",
       "      <td>False</td>\n",
       "      <td>False</td>\n",
       "      <td>train</td>\n",
       "      <td>False</td>\n",
       "      <td>False</td>\n",
       "    </tr>\n",
       "    <tr>\n",
       "      <th>162025</th>\n",
       "      <td>2avi</td>\n",
       "      <td>2avi</td>\n",
       "      <td>2avi_6</td>\n",
       "      <td></td>\n",
       "      <td>15.22</td>\n",
       "      <td>P02701</td>\n",
       "      <td>[[5.0382, 35.5432, 16.4793]]</td>\n",
       "      <td>False</td>\n",
       "      <td>False</td>\n",
       "      <td>train</td>\n",
       "      <td>False</td>\n",
       "      <td>False</td>\n",
       "    </tr>\n",
       "    <tr>\n",
       "      <th>162026</th>\n",
       "      <td>2avi</td>\n",
       "      <td>2avi</td>\n",
       "      <td>2avi_7</td>\n",
       "      <td></td>\n",
       "      <td>15.22</td>\n",
       "      <td>P02701</td>\n",
       "      <td>[[-4.7665, 15.8424, 22.5071]]</td>\n",
       "      <td>False</td>\n",
       "      <td>False</td>\n",
       "      <td>train</td>\n",
       "      <td>False</td>\n",
       "      <td>False</td>\n",
       "    </tr>\n",
       "    <tr>\n",
       "      <th>162027</th>\n",
       "      <td>2avi</td>\n",
       "      <td>2avi</td>\n",
       "      <td>2avi_8</td>\n",
       "      <td></td>\n",
       "      <td>15.22</td>\n",
       "      <td>P02701</td>\n",
       "      <td>[[4.7665, 64.5276, 22.5071]]</td>\n",
       "      <td>False</td>\n",
       "      <td>False</td>\n",
       "      <td>train</td>\n",
       "      <td>False</td>\n",
       "      <td>False</td>\n",
       "    </tr>\n",
       "    <tr>\n",
       "      <th>162028</th>\n",
       "      <td>2avi</td>\n",
       "      <td>2avi</td>\n",
       "      <td>2avi_9</td>\n",
       "      <td></td>\n",
       "      <td>15.22</td>\n",
       "      <td>P02701</td>\n",
       "      <td>[[-10.037, 16.893, 3.4295]]</td>\n",
       "      <td>False</td>\n",
       "      <td>False</td>\n",
       "      <td>train</td>\n",
       "      <td>False</td>\n",
       "      <td>False</td>\n",
       "    </tr>\n",
       "  </tbody>\n",
       "</table>\n",
       "<p>162029 rows × 12 columns</p>\n",
       "</div>"
      ],
      "text/plain": [
       "       protein_name compound_name     pdb smiles  affinity     uid  \\\n",
       "0              3zzf          3zzf    3zzf             0.40  Q01217   \n",
       "1              3zzf          3zzf  3zzf_c             0.40  Q01217   \n",
       "2              3zzf          3zzf  3zzf_0             0.40  Q01217   \n",
       "3              3zzf          3zzf  3zzf_1             0.40  Q01217   \n",
       "4              3zzf          3zzf  3zzf_2             0.40  Q01217   \n",
       "...             ...           ...     ...    ...       ...     ...   \n",
       "162024         2avi          2avi  2avi_5            15.22  P02701   \n",
       "162025         2avi          2avi  2avi_6            15.22  P02701   \n",
       "162026         2avi          2avi  2avi_7            15.22  P02701   \n",
       "162027         2avi          2avi  2avi_8            15.22  P02701   \n",
       "162028         2avi          2avi  2avi_9            15.22  P02701   \n",
       "\n",
       "                                               pocket_com  use_compound_com  \\\n",
       "0                                                    None              True   \n",
       "1       [[5.51331901550293, 36.50146484375, 14.4291219...             False   \n",
       "2                             [[9.2232, 36.6453, 4.2458]]             False   \n",
       "3                            [[-3.9652, 36.9019, 2.8611]]             False   \n",
       "4                           [[16.5628, 39.1406, 26.3637]]             False   \n",
       "...                                                   ...               ...   \n",
       "162024                     [[-24.8819, 33.8811, 24.9982]]             False   \n",
       "162025                       [[5.0382, 35.5432, 16.4793]]             False   \n",
       "162026                      [[-4.7665, 15.8424, 22.5071]]             False   \n",
       "162027                       [[4.7665, 64.5276, 22.5071]]             False   \n",
       "162028                        [[-10.037, 16.893, 3.4295]]             False   \n",
       "\n",
       "        use_whole_protein  group  has_nci_info  compound_sdf_from_nci  \n",
       "0                   False  train          True                  False  \n",
       "1                   False  train          True                  False  \n",
       "2                   False  train          True                  False  \n",
       "3                   False  train          True                  False  \n",
       "4                   False  train          True                  False  \n",
       "...                   ...    ...           ...                    ...  \n",
       "162024              False  train         False                  False  \n",
       "162025              False  train         False                  False  \n",
       "162026              False  train         False                  False  \n",
       "162027              False  train         False                  False  \n",
       "162028              False  train         False                  False  \n",
       "\n",
       "[162029 rows x 12 columns]"
      ]
     },
     "execution_count": 3,
     "metadata": {},
     "output_type": "execute_result"
    }
   ],
   "source": [
    "a"
   ]
  },
  {
   "cell_type": "code",
   "execution_count": 2,
   "metadata": {},
   "outputs": [
    {
     "data": {
      "text/plain": [
       "19126"
      ]
     },
     "execution_count": 2,
     "metadata": {},
     "output_type": "execute_result"
    }
   ],
   "source": [
    "import os\n",
    "\n",
    "len(os.listdir(\"/home/jovyan/dataspace/NFT/main/nci_protein_ligand_matrix\"))"
   ]
  },
  {
   "cell_type": "code",
   "execution_count": null,
   "metadata": {
    "collapsed": false,
    "pycharm": {
     "is_executing": true,
     "name": "#%%\n"
    }
   },
   "outputs": [],
   "source": [
    "print(\"Yes\")"
   ]
  },
  {
   "cell_type": "code",
   "execution_count": 4,
   "metadata": {
    "pycharm": {
     "name": "#%%\n"
    }
   },
   "outputs": [],
   "source": [
    "import numpy as np\n",
    "\n",
    "\n",
    "a = np.random.rand(5,3)"
   ]
  },
  {
   "cell_type": "code",
   "execution_count": 5,
   "metadata": {
    "pycharm": {
     "name": "#%%\n"
    }
   },
   "outputs": [
    {
     "data": {
      "text/plain": [
       "array([[0.11372235, 0.32982115, 0.63108464],\n",
       "       [0.08394954, 0.88190771, 0.39837001],\n",
       "       [0.97127787, 0.31472982, 0.40238377],\n",
       "       [0.46083623, 0.79557633, 0.37290506],\n",
       "       [0.59385406, 0.68620738, 0.72175632]])"
      ]
     },
     "execution_count": 5,
     "metadata": {},
     "output_type": "execute_result"
    }
   ],
   "source": [
    "a"
   ]
  },
  {
   "cell_type": "code",
   "execution_count": 6,
   "metadata": {
    "pycharm": {
     "name": "#%%\n"
    }
   },
   "outputs": [],
   "source": [
    "b = [True, False, False]"
   ]
  },
  {
   "cell_type": "code",
   "execution_count": 7,
   "metadata": {
    "pycharm": {
     "name": "#%%\n"
    }
   },
   "outputs": [
    {
     "data": {
      "text/plain": [
       "array([[0.11372235],\n",
       "       [0.08394954],\n",
       "       [0.97127787],\n",
       "       [0.46083623],\n",
       "       [0.59385406]])"
      ]
     },
     "execution_count": 7,
     "metadata": {},
     "output_type": "execute_result"
    }
   ],
   "source": [
    "a[:, b]"
   ]
  },
  {
   "cell_type": "code",
   "execution_count": null,
   "metadata": {
    "pycharm": {
     "name": "#%%\n"
    }
   },
   "outputs": [],
   "source": []
  }
 ],
 "metadata": {
  "kernelspec": {
   "display_name": "Python 3.8.13 ('tankbind_py38')",
   "language": "python",
   "name": "python3"
  },
  "language_info": {
   "codemirror_mode": {
    "name": "ipython",
    "version": 3
   },
   "file_extension": ".py",
   "mimetype": "text/x-python",
   "name": "python",
   "nbconvert_exporter": "python",
   "pygments_lexer": "ipython3",
   "version": "3.8.13"
  },
  "orig_nbformat": 4,
  "vscode": {
   "interpreter": {
    "hash": "3642610297c2db0c2e515b5d6934e6fa60bcae4d2e973dd2c51cba19538092f6"
   }
  }
 },
 "nbformat": 4,
 "nbformat_minor": 2
}