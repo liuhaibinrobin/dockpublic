{
 "cells": [
  {
   "cell_type": "code",
   "execution_count": 1,
   "metadata": {
    "pycharm": {
     "name": "#%%\n"
    }
   },
   "outputs": [],
   "source": [
    "import numpy as np\n",
    "import torch\n",
    "import pickle"
   ]
  },
  {
   "cell_type": "code",
   "execution_count": 2,
   "outputs": [
    {
     "name": "stdout",
     "output_type": "stream",
     "text": [
      "E\n"
     ]
    }
   ],
   "source": [
    "print(\"E\")"
   ],
   "metadata": {
    "collapsed": false,
    "pycharm": {
     "name": "#%%\n"
    }
   }
  },
  {
   "cell_type": "code",
   "execution_count": 4,
   "outputs": [
    {
     "name": "stdout",
     "output_type": "stream",
     "text": [
      "/Users/senxiu/opt/anaconda3/envs/tankbinds/bin/python\r\n"
     ]
    }
   ],
   "source": [
    "!which python"
   ],
   "metadata": {
    "collapsed": false,
    "pycharm": {
     "name": "#%%\n"
    }
   }
  },
  {
   "cell_type": "code",
   "execution_count": 21,
   "outputs": [],
   "source": [
    "data = torch.load(\"data_batch_0.pt\")\n",
    "affinity_pred = torch.load(\"affinity_pred_batch_0.pt\")\n",
    "y_pred = torch.load(\"y_pred_batch_0.pt\")"
   ],
   "metadata": {
    "collapsed": false,
    "pycharm": {
     "name": "#%%\n"
    }
   }
  },
  {
   "cell_type": "code",
   "execution_count": 48,
   "outputs": [
    {
     "data": {
      "text/plain": "2984.0"
     },
     "execution_count": 48,
     "metadata": {},
     "output_type": "execute_result"
    }
   ],
   "source": [
    "14920"
   ],
   "metadata": {
    "collapsed": false,
    "pycharm": {
     "name": "#%%\n"
    }
   }
  },
  {
   "cell_type": "code",
   "execution_count": 47,
   "outputs": [
    {
     "data": {
      "text/plain": "HeteroDataBatch(\n  dis_map=[14920],\n  node_xyz=[637, 3],\n  coords=[115, 3],\n  y=[14920],\n  seq=[637],\n  affinity=[5],\n  compound_pair=[4263, 16],\n  compound_pair_batch=[4263],\n  compound_pair_ptr=[6],\n  pdb=[5],\n  group=[5],\n  real_affinity_mask=[5],\n  real_y_mask=[14920],\n  is_equivalent_native_pocket=[5],\n  equivalent_native_y_mask=[14920],\n  \u001B[1mprotein\u001B[0m={\n    node_s=[637, 6],\n    node_v=[637, 3, 3],\n    batch=[637],\n    ptr=[6]\n  },\n  \u001B[1mcompound\u001B[0m={\n    x=[115, 56],\n    x_batch=[115],\n    x_ptr=[6],\n    batch=[115],\n    ptr=[6]\n  },\n  \u001B[1m(protein, p2p, protein)\u001B[0m={\n    edge_index=[2, 14796],\n    edge_s=[14796, 32],\n    edge_v=[14796, 1, 3]\n  },\n  \u001B[1m(compound, c2c, compound)\u001B[0m={\n    edge_index=[2, 242],\n    edge_weight=[242],\n    edge_attr=[242, 19]\n  }\n)"
     },
     "execution_count": 47,
     "metadata": {},
     "output_type": "execute_result"
    }
   ],
   "source": [
    "data"
   ],
   "metadata": {
    "collapsed": false,
    "pycharm": {
     "name": "#%%\n"
    }
   }
  },
  {
   "cell_type": "code",
   "execution_count": 22,
   "outputs": [
    {
     "data": {
      "text/plain": "(torch.Size([14920]), torch.Size([5]))"
     },
     "execution_count": 22,
     "metadata": {},
     "output_type": "execute_result"
    }
   ],
   "source": [
    "y_pred.shape, affinity_pred.shape"
   ],
   "metadata": {
    "collapsed": false,
    "pycharm": {
     "name": "#%%\n"
    }
   }
  },
  {
   "cell_type": "code",
   "execution_count": 20,
   "outputs": [
    {
     "ename": "IndexError",
     "evalue": "The shape of the mask [14920] at index 0 does not match the shape of the indexed tensor [3976] at index 0",
     "output_type": "error",
     "traceback": [
      "\u001B[0;31m---------------------------------------------------------------------------\u001B[0m",
      "\u001B[0;31mIndexError\u001B[0m                                Traceback (most recent call last)",
      "Cell \u001B[0;32mIn [20], line 5\u001B[0m\n\u001B[1;32m      2\u001B[0m affinity \u001B[38;5;241m=\u001B[39m data\u001B[38;5;241m.\u001B[39maffinity\n\u001B[1;32m      3\u001B[0m dis_map \u001B[38;5;241m=\u001B[39m data\u001B[38;5;241m.\u001B[39mdis_map\n\u001B[0;32m----> 5\u001B[0m y_pred2 \u001B[38;5;241m=\u001B[39m \u001B[43my_pred\u001B[49m\u001B[43m[\u001B[49m\u001B[43mdata\u001B[49m\u001B[38;5;241;43m.\u001B[39;49m\u001B[43mequivalent_native_y_mask\u001B[49m\u001B[43m]\u001B[49m\n\u001B[1;32m      6\u001B[0m dis_map2 \u001B[38;5;241m=\u001B[39m dis_map[data\u001B[38;5;241m.\u001B[39mequivalent_native_y_mask]\n",
      "\u001B[0;31mIndexError\u001B[0m: The shape of the mask [14920] at index 0 does not match the shape of the indexed tensor [3976] at index 0"
     ]
    }
   ],
   "source": [
    "y = data.y\n",
    "affinity = data.affinity\n",
    "dis_map = data.dis_map\n",
    "\n",
    "y_pred2 = y_pred[data.equivalent_native_y_mask]\n",
    "dis_map2 = dis_map[data.equivalent_native_y_mask]"
   ],
   "metadata": {
    "collapsed": false,
    "pycharm": {
     "name": "#%%\n"
    }
   }
  },
  {
   "cell_type": "code",
   "execution_count": 30,
   "outputs": [
    {
     "name": "stdout",
     "output_type": "stream",
     "text": [
      "1596\n",
      "14423\n"
     ]
    }
   ],
   "source": [
    "for i, v in enumerate(data.equivalent_native_y_mask):\n",
    "    if v.item() == 0 and data.equivalent_native_y_mask[i-1].item() == 1:\n",
    "        print(i)"
   ],
   "metadata": {
    "collapsed": false,
    "pycharm": {
     "name": "#%%\n"
    }
   }
  },
  {
   "cell_type": "code",
   "execution_count": 43,
   "outputs": [
    {
     "data": {
      "text/plain": "[tensor(True),\n tensor(True),\n tensor(True),\n tensor(True),\n tensor(True),\n tensor(True),\n tensor(True),\n tensor(True),\n tensor(True),\n tensor(True),\n tensor(True),\n tensor(True),\n tensor(True),\n tensor(True),\n tensor(True),\n tensor(True),\n tensor(True),\n tensor(True),\n tensor(True),\n tensor(True),\n tensor(True),\n tensor(True),\n tensor(True),\n tensor(True),\n tensor(True),\n tensor(True),\n tensor(True),\n tensor(True),\n tensor(True),\n tensor(True),\n tensor(True),\n tensor(True),\n tensor(True),\n tensor(True),\n tensor(True),\n tensor(True),\n tensor(True),\n tensor(True),\n tensor(True),\n tensor(True),\n tensor(True),\n tensor(True),\n tensor(True),\n tensor(True),\n tensor(True),\n tensor(True),\n tensor(True),\n tensor(True),\n tensor(True),\n tensor(True),\n tensor(True),\n tensor(True),\n tensor(True),\n tensor(True),\n tensor(True),\n tensor(True),\n tensor(True),\n tensor(True),\n tensor(True),\n tensor(True),\n tensor(True),\n tensor(True),\n tensor(True),\n tensor(True),\n tensor(True),\n tensor(True),\n tensor(True),\n tensor(True),\n tensor(True),\n tensor(True),\n tensor(True),\n tensor(True),\n tensor(True),\n tensor(True),\n tensor(True),\n tensor(True),\n tensor(True),\n tensor(True),\n tensor(True),\n tensor(True),\n tensor(True),\n tensor(True),\n tensor(True),\n tensor(True),\n tensor(True),\n tensor(True),\n tensor(True),\n tensor(True),\n tensor(True),\n tensor(True),\n tensor(True),\n tensor(True),\n tensor(True),\n tensor(True),\n tensor(True),\n tensor(True),\n tensor(True),\n tensor(True),\n tensor(True),\n tensor(True),\n tensor(True),\n tensor(True),\n tensor(True),\n tensor(True),\n tensor(True),\n tensor(True),\n tensor(True),\n tensor(True),\n tensor(True),\n tensor(True),\n tensor(True),\n tensor(True),\n tensor(True),\n tensor(True),\n tensor(True),\n tensor(True),\n tensor(True),\n tensor(True),\n tensor(True),\n tensor(True),\n tensor(True),\n tensor(True),\n tensor(True),\n tensor(True),\n tensor(True),\n tensor(True),\n tensor(True),\n tensor(True),\n tensor(True),\n tensor(True),\n tensor(True),\n tensor(True),\n tensor(True),\n tensor(True),\n tensor(True),\n tensor(True),\n tensor(True),\n tensor(True),\n tensor(True),\n tensor(True),\n tensor(True),\n tensor(True),\n tensor(True),\n tensor(True),\n tensor(True),\n tensor(True),\n tensor(True),\n tensor(True),\n tensor(True),\n tensor(True),\n tensor(True),\n tensor(True),\n tensor(True),\n tensor(True),\n tensor(True),\n tensor(True),\n tensor(True),\n tensor(True),\n tensor(True),\n tensor(True),\n tensor(True),\n tensor(True),\n tensor(True),\n tensor(True),\n tensor(True),\n tensor(True),\n tensor(True),\n tensor(True),\n tensor(True),\n tensor(True),\n tensor(True),\n tensor(True),\n tensor(True),\n tensor(True),\n tensor(True),\n tensor(True),\n tensor(True),\n tensor(True),\n tensor(True),\n tensor(True),\n tensor(True),\n tensor(True),\n tensor(True),\n tensor(True),\n tensor(True),\n tensor(True),\n tensor(True),\n tensor(True),\n tensor(True),\n tensor(True),\n tensor(True),\n tensor(True),\n tensor(True),\n tensor(True),\n tensor(True),\n tensor(True),\n tensor(True),\n tensor(True),\n tensor(True),\n tensor(True),\n tensor(True),\n tensor(True),\n tensor(True),\n tensor(True),\n tensor(True),\n tensor(True),\n tensor(True),\n tensor(True),\n tensor(True),\n tensor(True),\n tensor(True),\n tensor(True),\n tensor(True),\n tensor(True),\n tensor(True),\n tensor(True),\n tensor(True),\n tensor(True),\n tensor(True),\n tensor(True),\n tensor(True),\n tensor(True),\n tensor(True),\n tensor(True),\n tensor(True),\n tensor(True),\n tensor(True),\n tensor(True),\n tensor(True),\n tensor(True),\n tensor(True),\n tensor(True),\n tensor(True),\n tensor(True),\n tensor(True),\n tensor(True),\n tensor(True),\n tensor(True),\n tensor(True),\n tensor(True),\n tensor(True),\n tensor(True),\n tensor(True),\n tensor(True),\n tensor(True),\n tensor(True),\n tensor(True),\n tensor(True),\n tensor(True),\n tensor(True),\n tensor(True),\n tensor(True),\n tensor(True),\n tensor(True),\n tensor(True),\n tensor(True),\n tensor(True),\n tensor(True),\n tensor(True),\n tensor(True),\n tensor(True),\n tensor(True),\n tensor(True),\n tensor(True),\n tensor(True),\n tensor(True),\n tensor(True),\n tensor(True),\n tensor(True),\n tensor(True),\n tensor(True),\n tensor(True),\n tensor(True),\n tensor(True),\n tensor(True),\n tensor(True),\n tensor(True),\n tensor(True),\n tensor(True),\n tensor(True),\n tensor(True),\n tensor(True),\n tensor(True),\n tensor(True),\n tensor(True),\n tensor(True),\n tensor(True),\n tensor(True),\n tensor(True),\n tensor(True),\n tensor(True),\n tensor(True),\n tensor(True),\n tensor(True),\n tensor(True),\n tensor(True),\n tensor(True),\n tensor(True),\n tensor(True),\n tensor(True),\n tensor(True),\n tensor(True),\n tensor(True),\n tensor(True),\n tensor(True),\n tensor(True),\n tensor(True),\n tensor(True),\n tensor(True),\n tensor(True),\n tensor(True),\n tensor(True),\n tensor(True),\n tensor(True),\n tensor(True),\n tensor(True),\n tensor(True),\n tensor(True),\n tensor(True),\n tensor(True),\n tensor(True),\n tensor(True),\n tensor(True),\n tensor(True),\n tensor(True),\n tensor(True),\n tensor(True),\n tensor(True),\n tensor(True),\n tensor(True),\n tensor(True),\n tensor(True),\n tensor(True),\n tensor(True),\n tensor(True),\n tensor(True),\n tensor(True),\n tensor(True),\n tensor(True),\n tensor(True),\n tensor(True),\n tensor(True),\n tensor(True),\n tensor(True),\n tensor(True),\n tensor(True),\n tensor(True),\n tensor(True),\n tensor(True),\n tensor(True),\n tensor(True),\n tensor(True),\n tensor(True),\n tensor(True),\n tensor(True),\n tensor(True),\n tensor(True),\n tensor(True),\n tensor(True),\n tensor(True),\n tensor(True),\n tensor(True),\n tensor(True),\n tensor(True),\n tensor(True),\n tensor(True),\n tensor(True),\n tensor(True),\n tensor(True),\n tensor(True),\n tensor(True),\n tensor(True),\n tensor(True),\n tensor(True),\n tensor(True),\n tensor(True),\n tensor(True),\n tensor(True),\n tensor(True),\n tensor(True),\n tensor(True),\n tensor(True),\n tensor(True),\n tensor(True),\n tensor(True),\n tensor(True),\n tensor(True),\n tensor(True),\n tensor(True),\n tensor(True),\n tensor(True),\n tensor(True),\n tensor(True),\n tensor(True),\n tensor(True),\n tensor(True),\n tensor(True),\n tensor(True),\n tensor(True),\n tensor(True),\n tensor(True),\n tensor(True),\n tensor(True),\n tensor(True),\n tensor(True),\n tensor(True),\n tensor(True),\n tensor(True),\n tensor(True),\n tensor(True),\n tensor(True),\n tensor(True),\n tensor(True),\n tensor(True),\n tensor(True),\n tensor(True),\n tensor(True),\n tensor(True),\n tensor(True),\n tensor(True),\n tensor(True),\n tensor(True),\n tensor(True),\n tensor(True),\n tensor(True),\n tensor(True),\n tensor(True),\n tensor(True),\n tensor(True),\n tensor(True),\n tensor(True),\n tensor(True),\n tensor(True),\n tensor(True),\n tensor(True),\n tensor(True),\n tensor(True),\n tensor(True),\n tensor(True),\n tensor(True),\n tensor(True),\n tensor(True),\n tensor(True),\n tensor(True),\n tensor(True),\n tensor(True),\n tensor(True),\n tensor(True),\n tensor(True),\n tensor(True),\n tensor(True),\n tensor(True),\n tensor(True),\n tensor(True),\n tensor(True),\n tensor(True),\n tensor(True),\n tensor(True),\n tensor(True),\n tensor(True),\n tensor(True),\n tensor(True),\n tensor(True),\n tensor(True),\n tensor(True),\n tensor(True),\n tensor(True),\n tensor(True),\n tensor(True),\n tensor(True),\n tensor(True),\n tensor(True),\n tensor(True),\n tensor(True),\n tensor(True),\n tensor(True),\n tensor(True),\n tensor(True),\n tensor(True),\n tensor(True),\n tensor(True),\n tensor(True),\n tensor(True),\n tensor(True),\n tensor(True),\n tensor(True),\n tensor(True),\n tensor(True),\n tensor(True),\n tensor(True),\n tensor(True),\n tensor(True),\n tensor(True),\n tensor(True),\n tensor(True),\n tensor(True),\n tensor(True),\n tensor(True),\n tensor(True),\n tensor(True),\n tensor(True),\n tensor(True),\n tensor(True),\n tensor(True),\n tensor(True),\n tensor(True),\n tensor(True),\n tensor(True),\n tensor(True),\n tensor(True),\n tensor(True),\n tensor(True),\n tensor(True),\n tensor(True),\n tensor(True),\n tensor(True),\n tensor(True),\n tensor(True),\n tensor(True),\n tensor(True),\n tensor(True),\n tensor(True),\n tensor(True),\n tensor(True),\n tensor(True),\n tensor(True),\n tensor(True),\n tensor(True),\n tensor(True),\n tensor(True),\n tensor(True),\n tensor(True),\n tensor(True),\n tensor(True),\n tensor(True),\n tensor(True),\n tensor(True),\n tensor(True),\n tensor(True),\n tensor(True),\n tensor(True),\n tensor(True),\n tensor(True),\n tensor(True),\n tensor(True),\n tensor(True),\n tensor(True),\n tensor(True),\n tensor(True),\n tensor(True),\n tensor(True),\n tensor(True),\n tensor(True),\n tensor(True),\n tensor(True),\n tensor(True),\n tensor(True),\n tensor(True),\n tensor(True),\n tensor(True),\n tensor(True),\n tensor(True),\n tensor(True),\n tensor(True),\n tensor(True),\n tensor(True),\n tensor(True),\n tensor(True),\n tensor(True),\n tensor(True),\n tensor(True),\n tensor(True),\n tensor(True),\n tensor(True),\n tensor(True),\n tensor(True),\n tensor(True),\n tensor(True),\n tensor(True),\n tensor(True),\n tensor(True),\n tensor(True),\n tensor(True),\n tensor(True),\n tensor(True),\n tensor(True),\n tensor(True),\n tensor(True),\n tensor(True),\n tensor(True),\n tensor(True),\n tensor(True),\n tensor(True),\n tensor(True),\n tensor(True),\n tensor(True),\n tensor(True),\n tensor(True),\n tensor(True),\n tensor(True),\n tensor(True),\n tensor(True),\n tensor(True),\n tensor(True),\n tensor(True),\n tensor(True),\n tensor(True),\n tensor(True),\n tensor(True),\n tensor(True),\n tensor(True),\n tensor(True),\n tensor(True),\n tensor(True),\n tensor(True),\n tensor(True),\n tensor(True),\n tensor(True),\n tensor(True),\n tensor(True),\n tensor(True),\n tensor(True),\n tensor(True),\n tensor(True),\n tensor(True),\n tensor(True),\n tensor(True),\n tensor(True),\n tensor(True),\n tensor(True),\n tensor(True),\n tensor(True),\n tensor(True),\n tensor(True),\n tensor(True),\n tensor(True),\n tensor(True),\n tensor(True),\n tensor(True),\n tensor(True),\n tensor(True),\n tensor(True),\n tensor(True),\n tensor(True),\n tensor(True),\n tensor(True),\n tensor(True),\n tensor(True),\n tensor(True),\n tensor(True),\n tensor(True),\n tensor(True),\n tensor(True),\n tensor(True),\n tensor(True),\n tensor(True),\n tensor(True),\n tensor(True),\n tensor(True),\n tensor(True),\n tensor(True),\n tensor(True),\n tensor(True),\n tensor(True),\n tensor(True),\n tensor(True),\n tensor(True),\n tensor(True),\n tensor(True),\n tensor(True),\n tensor(True),\n tensor(True),\n tensor(True),\n tensor(True),\n tensor(True),\n tensor(True),\n tensor(True),\n tensor(True),\n tensor(True),\n tensor(True),\n tensor(True),\n tensor(True),\n tensor(True),\n tensor(True),\n tensor(True),\n tensor(True),\n tensor(True),\n tensor(True),\n tensor(True),\n tensor(True),\n tensor(True),\n tensor(True),\n tensor(True),\n tensor(True),\n tensor(True),\n tensor(True),\n tensor(True),\n tensor(True),\n tensor(True),\n tensor(True),\n tensor(True),\n tensor(True),\n tensor(True),\n tensor(True),\n tensor(True),\n tensor(True),\n tensor(True),\n tensor(True),\n tensor(True),\n tensor(True),\n tensor(True),\n tensor(True),\n tensor(True),\n tensor(True),\n tensor(True),\n tensor(True),\n tensor(True),\n tensor(True),\n tensor(True),\n tensor(True),\n tensor(True),\n tensor(True),\n tensor(True),\n tensor(True),\n tensor(True),\n tensor(True),\n tensor(True),\n tensor(True),\n tensor(True),\n tensor(True),\n tensor(True),\n tensor(True),\n tensor(True),\n tensor(True),\n tensor(True),\n tensor(True),\n tensor(True),\n tensor(True),\n tensor(True),\n tensor(True),\n tensor(True),\n tensor(True),\n tensor(True),\n tensor(True),\n tensor(True),\n tensor(True),\n tensor(True),\n tensor(True),\n tensor(True),\n tensor(True),\n tensor(True),\n tensor(True),\n tensor(True),\n tensor(True),\n tensor(True),\n tensor(True),\n tensor(True),\n tensor(True),\n tensor(True),\n tensor(True),\n tensor(True),\n tensor(True),\n tensor(True),\n tensor(True),\n tensor(True),\n tensor(True),\n tensor(True),\n tensor(True),\n tensor(True),\n tensor(True),\n tensor(True),\n tensor(True),\n tensor(True),\n tensor(True),\n tensor(True),\n tensor(True),\n tensor(True),\n tensor(True),\n tensor(True),\n tensor(True),\n tensor(True),\n tensor(True),\n tensor(True),\n tensor(True),\n tensor(True),\n tensor(True),\n tensor(True),\n tensor(True),\n tensor(True),\n tensor(True),\n tensor(True),\n tensor(True),\n tensor(True),\n tensor(True),\n tensor(True),\n tensor(True),\n tensor(True),\n tensor(True),\n tensor(True),\n tensor(True),\n tensor(True),\n tensor(True),\n tensor(True),\n tensor(True),\n tensor(True),\n tensor(True),\n tensor(True),\n tensor(True),\n tensor(True),\n tensor(True),\n tensor(True),\n tensor(True),\n tensor(True),\n tensor(True),\n tensor(True),\n tensor(True),\n tensor(True),\n tensor(True),\n tensor(True),\n tensor(True),\n tensor(True),\n tensor(True),\n tensor(True),\n tensor(True),\n tensor(True),\n tensor(True),\n tensor(True),\n tensor(True),\n tensor(True),\n tensor(True),\n tensor(True),\n tensor(True),\n tensor(True),\n tensor(True),\n tensor(True),\n tensor(True),\n tensor(True),\n tensor(True),\n tensor(True),\n tensor(True),\n tensor(True),\n tensor(True),\n tensor(True),\n tensor(True),\n tensor(True),\n tensor(True),\n tensor(True),\n tensor(True),\n tensor(True),\n tensor(True),\n tensor(True),\n tensor(True),\n tensor(True),\n tensor(True),\n tensor(True),\n tensor(True),\n tensor(True),\n tensor(True),\n tensor(True),\n tensor(True),\n tensor(True),\n tensor(True),\n tensor(True),\n tensor(True),\n tensor(True),\n tensor(True),\n tensor(True),\n tensor(True),\n tensor(True),\n tensor(True),\n tensor(True),\n tensor(True),\n tensor(True),\n tensor(True),\n tensor(True),\n tensor(True),\n tensor(True),\n tensor(True),\n tensor(True),\n tensor(True),\n tensor(True),\n tensor(True),\n tensor(True),\n tensor(True),\n tensor(True),\n tensor(True),\n tensor(True),\n tensor(True),\n tensor(True),\n tensor(True),\n tensor(True),\n tensor(True),\n tensor(True),\n tensor(True),\n tensor(True),\n tensor(True),\n tensor(True),\n tensor(True),\n tensor(True),\n tensor(True),\n tensor(True),\n tensor(True),\n tensor(True),\n tensor(True),\n tensor(True),\n tensor(True),\n tensor(True),\n tensor(True),\n tensor(True),\n tensor(True),\n tensor(True),\n tensor(True),\n tensor(True),\n tensor(True),\n tensor(True),\n tensor(True),\n tensor(True),\n tensor(True),\n tensor(True),\n tensor(True),\n tensor(True),\n tensor(True),\n tensor(True),\n tensor(True),\n tensor(True),\n tensor(True),\n tensor(True),\n tensor(True),\n tensor(True),\n tensor(True),\n tensor(True),\n tensor(True),\n tensor(True),\n tensor(True),\n tensor(True),\n tensor(True),\n tensor(True),\n tensor(True),\n tensor(True),\n tensor(True),\n tensor(True),\n tensor(True),\n tensor(True),\n tensor(True),\n tensor(True),\n tensor(True),\n tensor(True),\n tensor(True),\n tensor(True),\n tensor(True),\n tensor(True),\n tensor(True),\n tensor(True),\n tensor(True),\n tensor(True),\n tensor(True),\n tensor(True),\n tensor(True),\n tensor(True),\n tensor(True),\n tensor(True),\n tensor(True),\n tensor(True),\n tensor(True),\n tensor(True),\n tensor(True),\n tensor(True),\n tensor(True),\n tensor(True),\n tensor(True),\n tensor(True),\n tensor(True),\n tensor(True),\n tensor(True),\n tensor(True),\n tensor(True),\n tensor(True),\n tensor(True),\n tensor(True),\n tensor(True),\n tensor(True),\n tensor(True),\n tensor(True),\n tensor(True),\n tensor(True),\n tensor(True),\n tensor(True),\n tensor(True),\n tensor(True),\n tensor(True),\n tensor(True),\n tensor(True),\n tensor(True),\n tensor(True),\n tensor(True),\n tensor(True),\n tensor(True),\n tensor(True),\n tensor(True),\n tensor(True),\n ...]"
     },
     "execution_count": 43,
     "metadata": {},
     "output_type": "execute_result"
    }
   ],
   "source": [
    "list(data.equivalent_native_y_mask)"
   ],
   "metadata": {
    "collapsed": false,
    "pycharm": {
     "name": "#%%\n"
    }
   }
  },
  {
   "cell_type": "code",
   "execution_count": 46,
   "outputs": [],
   "source": [
    "\n",
    "with open(\"asgs.txt\", \"w\") as f:\n",
    "    f.writelines([str(a.item())+\"\\n\" for a in list(data.equivalent_native_y_mask)])"
   ],
   "metadata": {
    "collapsed": false,
    "pycharm": {
     "name": "#%%\n"
    }
   }
  },
  {
   "cell_type": "code",
   "execution_count": 37,
   "outputs": [
    {
     "data": {
      "text/plain": "['3tz2_c', '2ylq_0', '6bee_7', '2y2j', '3t01_2']"
     },
     "execution_count": 37,
     "metadata": {},
     "output_type": "execute_result"
    }
   ],
   "source": [
    "data.pdb"
   ],
   "metadata": {
    "collapsed": false,
    "pycharm": {
     "name": "#%%\n"
    }
   }
  },
  {
   "cell_type": "code",
   "execution_count": 38,
   "outputs": [],
   "source": [
    "import pandas as pd\n",
    "info = pd.read_csv(\"info.csv\")"
   ],
   "metadata": {
    "collapsed": false,
    "pycharm": {
     "name": "#%%\n"
    }
   }
  },
  {
   "cell_type": "code",
   "execution_count": 41,
   "outputs": [
    {
     "data": {
      "text/plain": "       Unnamed: 0 protein_name compound_name     pdb  smiles  affinity  \\\n23086       23086         2ylq          2ylq  2ylq_0     NaN      4.30   \n26763       26763         3t01          3t01  3t01_2     NaN      4.48   \n31246       31246         6bee          6bee  6bee_7     NaN      4.66   \n34313       34313         2y2j          2y2j    2y2j     NaN      4.80   \n45578       45578         3tz2          3tz2  3tz2_c     NaN      5.24   \n\n          uid                                  pocket_com  use_compound_com  \\\n23086  P10275                 [[26.839  -1.6569 -4.9487]]             False   \n26763  Q92UV8                 [[-7.55   40.5067  6.2403]]             False   \n31246  P68440              [[121.0583 108.2988 -19.1833]]             False   \n34313  Q7CRA4                                         NaN              True   \n45578  Q00972  [[  3.67212152 -30.53707123  10.37456036]]             False   \n\n       use_whole_protein  group  has_nci_info  compound_sdf_from_nci  \n23086              False  train          True                  False  \n26763              False  train          True                  False  \n31246              False  train         False                  False  \n34313              False  train          True                   True  \n45578              False  train         False                  False  ",
      "text/html": "<div>\n<style scoped>\n    .dataframe tbody tr th:only-of-type {\n        vertical-align: middle;\n    }\n\n    .dataframe tbody tr th {\n        vertical-align: top;\n    }\n\n    .dataframe thead th {\n        text-align: right;\n    }\n</style>\n<table border=\"1\" class=\"dataframe\">\n  <thead>\n    <tr style=\"text-align: right;\">\n      <th></th>\n      <th>Unnamed: 0</th>\n      <th>protein_name</th>\n      <th>compound_name</th>\n      <th>pdb</th>\n      <th>smiles</th>\n      <th>affinity</th>\n      <th>uid</th>\n      <th>pocket_com</th>\n      <th>use_compound_com</th>\n      <th>use_whole_protein</th>\n      <th>group</th>\n      <th>has_nci_info</th>\n      <th>compound_sdf_from_nci</th>\n    </tr>\n  </thead>\n  <tbody>\n    <tr>\n      <th>23086</th>\n      <td>23086</td>\n      <td>2ylq</td>\n      <td>2ylq</td>\n      <td>2ylq_0</td>\n      <td>NaN</td>\n      <td>4.30</td>\n      <td>P10275</td>\n      <td>[[26.839  -1.6569 -4.9487]]</td>\n      <td>False</td>\n      <td>False</td>\n      <td>train</td>\n      <td>True</td>\n      <td>False</td>\n    </tr>\n    <tr>\n      <th>26763</th>\n      <td>26763</td>\n      <td>3t01</td>\n      <td>3t01</td>\n      <td>3t01_2</td>\n      <td>NaN</td>\n      <td>4.48</td>\n      <td>Q92UV8</td>\n      <td>[[-7.55   40.5067  6.2403]]</td>\n      <td>False</td>\n      <td>False</td>\n      <td>train</td>\n      <td>True</td>\n      <td>False</td>\n    </tr>\n    <tr>\n      <th>31246</th>\n      <td>31246</td>\n      <td>6bee</td>\n      <td>6bee</td>\n      <td>6bee_7</td>\n      <td>NaN</td>\n      <td>4.66</td>\n      <td>P68440</td>\n      <td>[[121.0583 108.2988 -19.1833]]</td>\n      <td>False</td>\n      <td>False</td>\n      <td>train</td>\n      <td>False</td>\n      <td>False</td>\n    </tr>\n    <tr>\n      <th>34313</th>\n      <td>34313</td>\n      <td>2y2j</td>\n      <td>2y2j</td>\n      <td>2y2j</td>\n      <td>NaN</td>\n      <td>4.80</td>\n      <td>Q7CRA4</td>\n      <td>NaN</td>\n      <td>True</td>\n      <td>False</td>\n      <td>train</td>\n      <td>True</td>\n      <td>True</td>\n    </tr>\n    <tr>\n      <th>45578</th>\n      <td>45578</td>\n      <td>3tz2</td>\n      <td>3tz2</td>\n      <td>3tz2_c</td>\n      <td>NaN</td>\n      <td>5.24</td>\n      <td>Q00972</td>\n      <td>[[  3.67212152 -30.53707123  10.37456036]]</td>\n      <td>False</td>\n      <td>False</td>\n      <td>train</td>\n      <td>False</td>\n      <td>False</td>\n    </tr>\n  </tbody>\n</table>\n</div>"
     },
     "execution_count": 41,
     "metadata": {},
     "output_type": "execute_result"
    }
   ],
   "source": [
    "info[info.pdb.isin(data.pdb)]"
   ],
   "metadata": {
    "collapsed": false,
    "pycharm": {
     "name": "#%%\n"
    }
   }
  },
  {
   "cell_type": "code",
   "execution_count": 31,
   "outputs": [
    {
     "data": {
      "text/plain": "HeteroDataBatch(\n  dis_map=[14920],\n  node_xyz=[637, 3],\n  coords=[115, 3],\n  y=[14920],\n  seq=[637],\n  affinity=[5],\n  compound_pair=[4263, 16],\n  compound_pair_batch=[4263],\n  compound_pair_ptr=[6],\n  pdb=[5],\n  group=[5],\n  real_affinity_mask=[5],\n  real_y_mask=[14920],\n  is_equivalent_native_pocket=[5],\n  equivalent_native_y_mask=[14920],\n  \u001B[1mprotein\u001B[0m={\n    node_s=[637, 6],\n    node_v=[637, 3, 3],\n    batch=[637],\n    ptr=[6]\n  },\n  \u001B[1mcompound\u001B[0m={\n    x=[115, 56],\n    x_batch=[115],\n    x_ptr=[6],\n    batch=[115],\n    ptr=[6]\n  },\n  \u001B[1m(protein, p2p, protein)\u001B[0m={\n    edge_index=[2, 14796],\n    edge_s=[14796, 32],\n    edge_v=[14796, 1, 3]\n  },\n  \u001B[1m(compound, c2c, compound)\u001B[0m={\n    edge_index=[2, 242],\n    edge_weight=[242],\n    edge_attr=[242, 19]\n  }\n)"
     },
     "execution_count": 31,
     "metadata": {},
     "output_type": "execute_result"
    }
   ],
   "source": [
    "115*"
   ],
   "metadata": {
    "collapsed": false,
    "pycharm": {
     "name": "#%%\n"
    }
   }
  },
  {
   "cell_type": "code",
   "execution_count": 14,
   "metadata": {
    "pycharm": {
     "name": "#%%\n"
    }
   },
   "outputs": [
    {
     "data": {
      "text/plain": "torch.Size([3976])"
     },
     "execution_count": 14,
     "metadata": {},
     "output_type": "execute_result"
    }
   ],
   "source": [
    "y_pred.shape"
   ]
  },
  {
   "cell_type": "code",
   "execution_count": 17,
   "metadata": {
    "pycharm": {
     "name": "#%%\n"
    }
   },
   "outputs": [
    {
     "data": {
      "text/plain": "tensor(3976)"
     },
     "execution_count": 17,
     "metadata": {},
     "output_type": "execute_result"
    }
   ],
   "source": [
    "data.equivalent_native_y_mask.sum()"
   ]
  },
  {
   "cell_type": "code",
   "execution_count": 18,
   "outputs": [
    {
     "ename": "IndexError",
     "evalue": "The shape of the mask [14920] at index 0 does not match the shape of the indexed tensor [3976] at index 0",
     "output_type": "error",
     "traceback": [
      "\u001B[0;31m---------------------------------------------------------------------------\u001B[0m",
      "\u001B[0;31mIndexError\u001B[0m                                Traceback (most recent call last)",
      "Cell \u001B[0;32mIn [18], line 1\u001B[0m\n\u001B[0;32m----> 1\u001B[0m \u001B[43my_pred\u001B[49m\u001B[43m[\u001B[49m\u001B[43mdata\u001B[49m\u001B[38;5;241;43m.\u001B[39;49m\u001B[43mequivalent_native_y_mask\u001B[49m\u001B[43m]\u001B[49m\n",
      "\u001B[0;31mIndexError\u001B[0m: The shape of the mask [14920] at index 0 does not match the shape of the indexed tensor [3976] at index 0"
     ]
    }
   ],
   "source": [
    "y_pred[data.equivalent_native_y_mask]"
   ],
   "metadata": {
    "collapsed": false,
    "pycharm": {
     "name": "#%%\n"
    }
   }
  },
  {
   "cell_type": "code",
   "execution_count": 2,
   "metadata": {},
   "outputs": [
    {
     "data": {
      "text/plain": [
       "19126"
      ]
     },
     "execution_count": 2,
     "metadata": {},
     "output_type": "execute_result"
    }
   ],
   "source": [
    "import os\n",
    "\n",
    "len(os.listdir(\"/home/jovyan/dataspace/NFT/main/nci_protein_ligand_matrix\"))"
   ]
  },
  {
   "cell_type": "code",
   "execution_count": null,
   "metadata": {
    "collapsed": false,
    "pycharm": {
     "is_executing": true,
     "name": "#%%\n"
    }
   },
   "outputs": [],
   "source": [
    "print(\"Yes\")"
   ]
  },
  {
   "cell_type": "code",
   "execution_count": 4,
   "metadata": {
    "pycharm": {
     "name": "#%%\n"
    }
   },
   "outputs": [],
   "source": [
    "import numpy as np\n",
    "\n",
    "\n",
    "a = np.random.rand(5,3)"
   ]
  },
  {
   "cell_type": "code",
   "execution_count": 5,
   "metadata": {
    "pycharm": {
     "name": "#%%\n"
    }
   },
   "outputs": [
    {
     "data": {
      "text/plain": [
       "array([[0.11372235, 0.32982115, 0.63108464],\n",
       "       [0.08394954, 0.88190771, 0.39837001],\n",
       "       [0.97127787, 0.31472982, 0.40238377],\n",
       "       [0.46083623, 0.79557633, 0.37290506],\n",
       "       [0.59385406, 0.68620738, 0.72175632]])"
      ]
     },
     "execution_count": 5,
     "metadata": {},
     "output_type": "execute_result"
    }
   ],
   "source": [
    "a"
   ]
  },
  {
   "cell_type": "code",
   "execution_count": 6,
   "metadata": {
    "pycharm": {
     "name": "#%%\n"
    }
   },
   "outputs": [],
   "source": [
    "b = [True, False, False]"
   ]
  },
  {
   "cell_type": "code",
   "execution_count": 7,
   "metadata": {
    "pycharm": {
     "name": "#%%\n"
    }
   },
   "outputs": [
    {
     "data": {
      "text/plain": [
       "array([[0.11372235],\n",
       "       [0.08394954],\n",
       "       [0.97127787],\n",
       "       [0.46083623],\n",
       "       [0.59385406]])"
      ]
     },
     "execution_count": 7,
     "metadata": {},
     "output_type": "execute_result"
    }
   ],
   "source": [
    "a[:, b]"
   ]
  },
  {
   "cell_type": "code",
   "execution_count": 90,
   "metadata": {
    "pycharm": {
     "name": "#%%\n"
    }
   },
   "outputs": [
    {
     "data": {
      "text/plain": "(torch.Size([2, 3]),\n tensor([[1, 2, 3],\n         [4, 5, 6]]))"
     },
     "execution_count": 90,
     "metadata": {},
     "output_type": "execute_result"
    }
   ],
   "source": [
    "a = torch.tensor([1, 2, 3, 4, 5, 6]).reshape(2, -1)\n",
    "a.shape, a"
   ]
  },
  {
   "cell_type": "code",
   "execution_count": 91,
   "outputs": [
    {
     "data": {
      "text/plain": "(torch.Size([2, 4]),\n tensor([[ 4,  5,  6,  7],\n         [ 8,  9, 10, 11]]))"
     },
     "execution_count": 91,
     "metadata": {},
     "output_type": "execute_result"
    }
   ],
   "source": [
    "b = torch.tensor([4, 5, 6, 7, 8, 9, 10 ,11]).reshape(2, -1)\n",
    "b.shape, b"
   ],
   "metadata": {
    "collapsed": false,
    "pycharm": {
     "name": "#%%\n"
    }
   }
  },
  {
   "cell_type": "code",
   "execution_count": 88,
   "outputs": [],
   "source": [
    "c = torch.einsum(\"ai,aj->aij\", a, b)"
   ],
   "metadata": {
    "collapsed": false,
    "pycharm": {
     "name": "#%%\n"
    }
   }
  },
  {
   "cell_type": "code",
   "execution_count": 92,
   "outputs": [
    {
     "data": {
      "text/plain": "(torch.Size([2, 3, 4]),\n tensor([[[ 4,  5,  6,  7],\n          [ 8, 10, 12, 14],\n          [12, 15, 18, 21]],\n \n         [[32, 36, 40, 44],\n          [40, 45, 50, 55],\n          [48, 54, 60, 66]]]))"
     },
     "execution_count": 92,
     "metadata": {},
     "output_type": "execute_result"
    }
   ],
   "source": [
    "c.shape, c"
   ],
   "metadata": {
    "collapsed": false,
    "pycharm": {
     "name": "#%%\n"
    }
   }
  },
  {
   "cell_type": "code",
   "execution_count": 81,
   "outputs": [
    {
     "data": {
      "text/plain": "tensor([[[[6., 6., 6.],\n          [6., 6., 6.],\n          [6., 6., 6.]],\n\n         [[6., 6., 6.],\n          [6., 6., 6.],\n          [6., 6., 6.]]]])"
     },
     "execution_count": 81,
     "metadata": {},
     "output_type": "execute_result"
    }
   ],
   "source": [
    "c"
   ],
   "metadata": {
    "collapsed": false,
    "pycharm": {
     "name": "#%%\n"
    }
   }
  },
  {
   "cell_type": "code",
   "execution_count": 115,
   "outputs": [],
   "source": [
    "a = torch.tensor([True, True, False, False]).reshape(2,2)"
   ],
   "metadata": {
    "collapsed": false,
    "pycharm": {
     "name": "#%%\n"
    }
   }
  },
  {
   "cell_type": "code",
   "execution_count": 121,
   "outputs": [
    {
     "data": {
      "text/plain": "(torch.Size([2, 2]),\n tensor([[ True,  True],\n         [False, False]]))"
     },
     "execution_count": 121,
     "metadata": {},
     "output_type": "execute_result"
    }
   ],
   "source": [
    "a.shape, a"
   ],
   "metadata": {
    "collapsed": false,
    "pycharm": {
     "name": "#%%\n"
    }
   }
  },
  {
   "cell_type": "code",
   "execution_count": 117,
   "outputs": [],
   "source": [
    "b = torch.rand(2,2,3)"
   ],
   "metadata": {
    "collapsed": false,
    "pycharm": {
     "name": "#%%\n"
    }
   }
  },
  {
   "cell_type": "code",
   "execution_count": 118,
   "outputs": [
    {
     "data": {
      "text/plain": "(torch.Size([2, 2, 3]),\n tensor([[[0.6007, 0.5474, 0.3965],\n          [0.3106, 0.4398, 0.6430]],\n \n         [[0.1330, 0.0619, 0.4389],\n          [0.7027, 0.4439, 0.8037]]]))"
     },
     "execution_count": 118,
     "metadata": {},
     "output_type": "execute_result"
    }
   ],
   "source": [
    "b.shape, b"
   ],
   "metadata": {
    "collapsed": false,
    "pycharm": {
     "name": "#%%\n"
    }
   }
  },
  {
   "cell_type": "code",
   "execution_count": 112,
   "outputs": [],
   "source": [
    "c = torch.tensor([True, False])"
   ],
   "metadata": {
    "collapsed": false,
    "pycharm": {
     "name": "#%%\n"
    }
   }
  },
  {
   "cell_type": "code",
   "execution_count": 120,
   "outputs": [
    {
     "data": {
      "text/plain": "torch.Size([2, 3])"
     },
     "execution_count": 120,
     "metadata": {},
     "output_type": "execute_result"
    }
   ],
   "source": [
    "b[a].shape"
   ],
   "metadata": {
    "collapsed": false,
    "pycharm": {
     "name": "#%%\n"
    }
   }
  },
  {
   "cell_type": "code",
   "execution_count": null,
   "outputs": [],
   "source": [],
   "metadata": {
    "collapsed": false,
    "pycharm": {
     "name": "#%%\n"
    }
   }
  }
 ],
 "metadata": {
  "kernelspec": {
   "display_name": "Python 3.8.13 ('tankbind_py38')",
   "language": "python",
   "name": "python3"
  },
  "language_info": {
   "codemirror_mode": {
    "name": "ipython",
    "version": 3
   },
   "file_extension": ".py",
   "mimetype": "text/x-python",
   "name": "python",
   "nbconvert_exporter": "python",
   "pygments_lexer": "ipython3",
   "version": "3.8.13"
  },
  "orig_nbformat": 4,
  "vscode": {
   "interpreter": {
    "hash": "3642610297c2db0c2e515b5d6934e6fa60bcae4d2e973dd2c51cba19538092f6"
   }
  }
 },
 "nbformat": 4,
 "nbformat_minor": 2
}